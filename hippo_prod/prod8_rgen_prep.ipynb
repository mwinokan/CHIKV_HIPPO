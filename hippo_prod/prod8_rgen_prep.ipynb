{
 "cells": [
  {
   "cell_type": "markdown",
   "id": "e80f98e7-10d9-49ff-a80b-f36c160c1e29",
   "metadata": {},
   "source": [
    "# CHIKV_Mac HIPPO FFF Prod. 8 (prepare for RRG)"
   ]
  },
  {
   "cell_type": "markdown",
   "id": "a61f5fb0-ad17-4a68-8d3b-6399a6413e42",
   "metadata": {},
   "source": [
    "## Setup"
   ]
  },
  {
   "cell_type": "code",
   "execution_count": 1,
   "id": "b1125662-7763-4b2d-ad01-2af2931508ce",
   "metadata": {},
   "outputs": [],
   "source": [
    "%load_ext autoreload\n",
    "%autoreload 2\n",
    "import hippo\n",
    "from pathlib import Path\n",
    "from mlog import setup_logger\n",
    "import pandas as pd\n",
    "import numpy as np\n",
    "import molparse as mp\n",
    "logger=setup_logger('notebook')"
   ]
  },
  {
   "cell_type": "code",
   "execution_count": 2,
   "id": "80f578e0-1942-416c-81c3-d2fac0d4a022",
   "metadata": {},
   "outputs": [
    {
     "name": "stdout",
     "output_type": "stream",
     "text": [
      "\u001b[1m\u001b[38;5;166mCreating HIPPO animal\u001b[0m\n",
      "\u001b[36mname\u001b[0m = \u001b[38;5;154mCHIKV_prod8b\u001b[0m\n",
      "\u001b[36mdb_path\u001b[0m = \u001b[38;5;11mCHIKV_prod8b.sqlite\u001b[0m\n",
      "\u001b[2mDEBUG: hippo3.Database.__init__()\u001b[0m\n",
      "\u001b[2mDEBUG: Database.path = CHIKV_prod8b.sqlite\u001b[0m\n",
      "\u001b[2mDEBUG: hippo3.Database.connect()\u001b[0m\n",
      "\u001b[2mDEBUG: sqlite3.version='2.6.0'\u001b[0m\n",
      "\u001b[7m\u001b[32;1m SUCCESS \u001b[0m\u001b[32;1m Database connected @ \u001b[38;5;11mCHIKV_prod8b.sqlite!\u001b[0m\n",
      "\u001b[7m\u001b[32;1m SUCCESS \u001b[0m\u001b[32;1m Initialised animal HIPPO(\"CHIKV_prod8b\")!\u001b[0m\n"
     ]
    }
   ],
   "source": [
    "animal = hippo.HIPPO('CHIKV_prod8b', 'CHIKV_prod8b.sqlite')#, copy_from='CHIKV_prod7.sqlite', overwrite_existing=True)"
   ]
  },
  {
   "cell_type": "markdown",
   "id": "6e28bb59-8335-43f0-bb5a-48ead6de913d",
   "metadata": {},
   "source": [
    "## Create the RRG"
   ]
  },
  {
   "cell_type": "code",
   "execution_count": 3,
   "id": "872a7e58-9faf-4815-929e-c2c91b26b68c",
   "metadata": {},
   "outputs": [
    {
     "name": "stdout",
     "output_type": "stream",
     "text": [
      "\u001b[7m\u001b[1m\u001b[38;5;11m DISK \u001b[0m Reading \u001b[38;5;11mCHIKV_starting_recipe_yields_fix.json\u001b[0m\n",
      "\u001b[36msession\u001b[0m = /opt/xchem-fragalysis-2/maxwin/CHIKV_HIPPO/hippo_prod/CHIKV_prod8b.sqlite\u001b[0m\n",
      "\u001b[36min file\u001b[0m = /opt/xchem-fragalysis-2/maxwin/CHIKV_HIPPO/hippo_prod/CHIKV_prod6.sqlite\u001b[0m\n",
      "\u001b[7m\u001b[38;5;166m\u001b[1m Warning \u001b[0m\u001b[38;5;166m Database path mismatch\u001b[0m\n",
      "Recipe was generated at: 2024-10-09 09:53:15.372773\n",
      "\u001b[36mreactants\u001b[0m = \u001b[1m\u001b[4m{I x 32}\u001b[22m\u001b[24m\u001b[0m\n",
      "\u001b[36mintermediates\u001b[0m = \u001b[1m\u001b[4m{I x 0}\u001b[22m\u001b[24m\u001b[0m\n",
      "\u001b[36mproducts\u001b[0m = \u001b[1m\u001b[4m{I x 20}\u001b[22m\u001b[24m\u001b[0m\n",
      "\u001b[36mreactions\u001b[0m = \u001b[1m\u001b[4m{R x 20}\u001b[22m\u001b[24m\u001b[0m\n"
     ]
    }
   ],
   "source": [
    "recipe = hippo.Recipe.from_json(animal.db, 'CHIKV_starting_recipe_yields_fix.json', allow_db_mismatch=True)"
   ]
  },
  {
   "cell_type": "code",
   "execution_count": 4,
   "id": "aa63af33-2edf-4703-ac9d-6695749ca604",
   "metadata": {},
   "outputs": [
    {
     "name": "stdout",
     "output_type": "stream",
     "text": [
      "\u001b[2mDEBUG: RandomRecipeGenerator.__init__()\u001b[0m\n",
      "\u001b[36mdatabase\u001b[0m = CHIKV_prod8b.sqlite\u001b[0m\n",
      "\u001b[36mmax_lead_time\u001b[0m = None\u001b[0m\n",
      "\u001b[36msuppliers\u001b[0m = ['Stock', 'Enamine']\u001b[0m\n",
      "\u001b[7m\u001b[1m\u001b[38;5;11m DISK \u001b[0m Writing \u001b[38;5;11mCHIKV_prod8b_recipes/\u001b[0m\n",
      "\u001b[2mDEBUG: Solving route pool...\u001b[0m\n"
     ]
    },
    {
     "name": "stderr",
     "output_type": "stream",
     "text": [
      "100%|██████████| 15435/15435 [01:31<00:00, 169.46it/s]\n"
     ]
    },
    {
     "name": "stdout",
     "output_type": "stream",
     "text": [
      "\u001b[7m\u001b[1m\u001b[38;5;11m DISK \u001b[0m Writing \u001b[38;5;11mCHIKV_prod8b_rgen.json\u001b[0m\n"
     ]
    }
   ],
   "source": [
    "gen = hippo.RandomRecipeGenerator(db=animal.db, start_with=recipe, suppliers=['Stock', 'Enamine'])"
   ]
  },
  {
   "cell_type": "code",
   "execution_count": null,
   "id": "9c79e07a-1aa2-44d0-ad19-4d3b8c18ed6a",
   "metadata": {},
   "outputs": [],
   "source": [
    "gen = hippo.RandomRecipeGenerator.from_json(animal.db, \"CHIKV_prod8b_rgen.json\")"
   ]
  },
  {
   "cell_type": "markdown",
   "id": "ef22607c-bc74-4804-bc60-d64ea6eea061",
   "metadata": {
    "jp-MarkdownHeadingCollapsed": true
   },
   "source": [
    "## Check Quotes / Fingerprints"
   ]
  },
  {
   "cell_type": "code",
   "execution_count": null,
   "id": "d913d3f5-4b98-4d72-9f2f-d1bca0f326bb",
   "metadata": {},
   "outputs": [],
   "source": [
    "animal.db.select_where(table='quote', query='AVG(quote_amount), COUNT(DISTINCT quote_compound)', key='supplier', value='Stock')"
   ]
  },
  {
   "cell_type": "code",
   "execution_count": null,
   "id": "0f4c3f84-3346-4c64-a161-f119a37b03c4",
   "metadata": {},
   "outputs": [],
   "source": [
    "animal.db.select_where(table='interaction', query='COUNT(DISTINCT interaction_pose)', key='interaction_id IS NOT NULL')"
   ]
  },
  {
   "cell_type": "code",
   "execution_count": null,
   "id": "4517d8b2-b14d-43b9-bd2f-29fbbde14108",
   "metadata": {},
   "outputs": [],
   "source": [
    "animal.poses"
   ]
  },
  {
   "cell_type": "code",
   "execution_count": null,
   "id": "3611b5ea-9ee0-41f7-860b-2743afca0a3d",
   "metadata": {},
   "outputs": [],
   "source": [
    "animal.db.select_where(table='pose', query='COUNT(DISTINCT pose_reference)', key='pose_id IS NOT NULL')"
   ]
  },
  {
   "cell_type": "code",
   "execution_count": null,
   "id": "516ed3db-54ba-4458-a38a-0daf39f287bc",
   "metadata": {},
   "outputs": [],
   "source": [
    "animal.db.count('route')"
   ]
  },
  {
   "cell_type": "code",
   "execution_count": null,
   "id": "d2940e2c-11fb-4099-92d2-ce7a8e321424",
   "metadata": {
    "jupyter": {
     "source_hidden": true
    }
   },
   "outputs": [],
   "source": [
    "gen.route_pool"
   ]
  },
  {
   "cell_type": "markdown",
   "id": "1bc59d50-5f2c-434c-a2ac-dac4e1094be8",
   "metadata": {
    "jp-MarkdownHeadingCollapsed": true
   },
   "source": [
    "## Test generation"
   ]
  },
  {
   "cell_type": "code",
   "execution_count": null,
   "id": "d95d6535-bcb7-427d-a6af-95a8218db337",
   "metadata": {},
   "outputs": [],
   "source": [
    "r = gen.generate(shuffle=False, budget=30000, max_products=1200, max_reactions=3000, currency='EUR', debug=False)"
   ]
  },
  {
   "cell_type": "code",
   "execution_count": 40,
   "id": "c45665ae-0679-4710-ad23-88a88f6d9590",
   "metadata": {},
   "outputs": [
    {
     "data": {
      "text/html": [
       "<div>\n",
       "<style scoped>\n",
       "    .dataframe tbody tr th:only-of-type {\n",
       "        vertical-align: middle;\n",
       "    }\n",
       "\n",
       "    .dataframe tbody tr th {\n",
       "        vertical-align: top;\n",
       "    }\n",
       "\n",
       "    .dataframe thead th {\n",
       "        text-align: right;\n",
       "    }\n",
       "</style>\n",
       "<table border=\"1\" class=\"dataframe\">\n",
       "  <thead>\n",
       "    <tr style=\"text-align: right;\">\n",
       "      <th></th>\n",
       "      <th>compound_id</th>\n",
       "      <th>amount</th>\n",
       "      <th>quote_id</th>\n",
       "      <th>supplier</th>\n",
       "      <th>max_lead_time</th>\n",
       "      <th>quoted_amount</th>\n",
       "    </tr>\n",
       "  </thead>\n",
       "  <tbody>\n",
       "    <tr>\n",
       "      <th>0</th>\n",
       "      <td>85</td>\n",
       "      <td>60.0</td>\n",
       "      <td>10539</td>\n",
       "      <td>Enamine</td>\n",
       "      <td>None</td>\n",
       "      <td>100.0</td>\n",
       "    </tr>\n",
       "    <tr>\n",
       "      <th>1</th>\n",
       "      <td>4554</td>\n",
       "      <td>10.0</td>\n",
       "      <td>65</td>\n",
       "      <td>Enamine</td>\n",
       "      <td>None</td>\n",
       "      <td>20.0</td>\n",
       "    </tr>\n",
       "    <tr>\n",
       "      <th>2</th>\n",
       "      <td>4466</td>\n",
       "      <td>1.0</td>\n",
       "      <td>36</td>\n",
       "      <td>Enamine</td>\n",
       "      <td>None</td>\n",
       "      <td>20.0</td>\n",
       "    </tr>\n",
       "    <tr>\n",
       "      <th>3</th>\n",
       "      <td>4467</td>\n",
       "      <td>1.0</td>\n",
       "      <td>37</td>\n",
       "      <td>Enamine</td>\n",
       "      <td>None</td>\n",
       "      <td>20.0</td>\n",
       "    </tr>\n",
       "    <tr>\n",
       "      <th>4</th>\n",
       "      <td>4440</td>\n",
       "      <td>10.0</td>\n",
       "      <td>25</td>\n",
       "      <td>Enamine</td>\n",
       "      <td>None</td>\n",
       "      <td>20.0</td>\n",
       "    </tr>\n",
       "    <tr>\n",
       "      <th>...</th>\n",
       "      <td>...</td>\n",
       "      <td>...</td>\n",
       "      <td>...</td>\n",
       "      <td>...</td>\n",
       "      <td>...</td>\n",
       "      <td>...</td>\n",
       "    </tr>\n",
       "    <tr>\n",
       "      <th>181</th>\n",
       "      <td>52819</td>\n",
       "      <td>1.0</td>\n",
       "      <td>4096</td>\n",
       "      <td>[Stock, Enamine]</td>\n",
       "      <td>None</td>\n",
       "      <td>20.0</td>\n",
       "    </tr>\n",
       "    <tr>\n",
       "      <th>182</th>\n",
       "      <td>52829</td>\n",
       "      <td>1.0</td>\n",
       "      <td>4098</td>\n",
       "      <td>[Stock, Enamine]</td>\n",
       "      <td>None</td>\n",
       "      <td>20.0</td>\n",
       "    </tr>\n",
       "    <tr>\n",
       "      <th>183</th>\n",
       "      <td>78836</td>\n",
       "      <td>1.0</td>\n",
       "      <td>5033</td>\n",
       "      <td>[Stock, Enamine]</td>\n",
       "      <td>None</td>\n",
       "      <td>20.0</td>\n",
       "    </tr>\n",
       "    <tr>\n",
       "      <th>184</th>\n",
       "      <td>78868</td>\n",
       "      <td>1.0</td>\n",
       "      <td>5040</td>\n",
       "      <td>[Stock, Enamine]</td>\n",
       "      <td>None</td>\n",
       "      <td>20.0</td>\n",
       "    </tr>\n",
       "    <tr>\n",
       "      <th>185</th>\n",
       "      <td>78851</td>\n",
       "      <td>1.0</td>\n",
       "      <td>5037</td>\n",
       "      <td>[Stock, Enamine]</td>\n",
       "      <td>None</td>\n",
       "      <td>20.0</td>\n",
       "    </tr>\n",
       "  </tbody>\n",
       "</table>\n",
       "<p>186 rows × 6 columns</p>\n",
       "</div>"
      ],
      "text/plain": [
       "    compound_id amount quote_id          supplier max_lead_time quoted_amount\n",
       "0            85   60.0    10539           Enamine          None         100.0\n",
       "1          4554   10.0       65           Enamine          None          20.0\n",
       "2          4466    1.0       36           Enamine          None          20.0\n",
       "3          4467    1.0       37           Enamine          None          20.0\n",
       "4          4440   10.0       25           Enamine          None          20.0\n",
       "..          ...    ...      ...               ...           ...           ...\n",
       "181       52819    1.0     4096  [Stock, Enamine]          None          20.0\n",
       "182       52829    1.0     4098  [Stock, Enamine]          None          20.0\n",
       "183       78836    1.0     5033  [Stock, Enamine]          None          20.0\n",
       "184       78868    1.0     5040  [Stock, Enamine]          None          20.0\n",
       "185       78851    1.0     5037  [Stock, Enamine]          None          20.0\n",
       "\n",
       "[186 rows x 6 columns]"
      ]
     },
     "execution_count": 40,
     "metadata": {},
     "output_type": "execute_result"
    }
   ],
   "source": [
    "r.reactants.df"
   ]
  },
  {
   "cell_type": "markdown",
   "id": "a632c69d-fdb5-4757-af02-a00392283455",
   "metadata": {
    "jp-MarkdownHeadingCollapsed": true
   },
   "source": [
    "## Check why impossible routes are in the pool"
   ]
  },
  {
   "cell_type": "code",
   "execution_count": null,
   "id": "12c36f67-92db-45a3-ac8a-4e9db39d3658",
   "metadata": {},
   "outputs": [],
   "source": [
    "sql = \"\"\"\n",
    "WITH possible_reactants AS (\n",
    "\t\t\tSELECT quote_compound, COUNT(CASE WHEN quote_supplier IN (\"Enamine\", \"Stock\") THEN 1 END) AS [count_valid] FROM quote\n",
    "\t\t\tGROUP BY quote_compound\n",
    "\t\t),\n",
    "\n",
    "\t\troute_reactants AS (\n",
    "\t\t\tSELECT route_id, route_product, COUNT(CASE WHEN count_valid = 0 THEN 1 WHEN count_valid IS NULL THEN 1 END) AS [count_unavailable] FROM route\n",
    "\t\t\tINNER JOIN component ON component_route = route_id\n",
    "\t\t\tLEFT JOIN possible_reactants ON quote_compound = component_ref\n",
    "\t\t\tWHERE component_type = 2\n",
    "\t\t\tGROUP BY route_id\n",
    "\t\t)\n",
    "\n",
    "SELECT COUNT(route_id) FROM route_reactants\n",
    "WHERE count_unavailable = 0\n",
    "\"\"\"\n",
    "# AND route_id = 77365\n",
    "\n",
    "c = animal.db.execute(sql)\n",
    "\n",
    "results = c.fetchall()\n",
    "results"
   ]
  },
  {
   "cell_type": "code",
   "execution_count": null,
   "id": "3c1933d6-5b52-4e86-95f1-d564888cd669",
   "metadata": {},
   "outputs": [],
   "source": [
    "sql = \"\"\"\n",
    "WITH possible_reactants AS (\n",
    "\t\t\tSELECT quote_compound, COUNT(CASE WHEN quote_supplier IN (\"Enamine\", \"Stock\") THEN 1 END) AS [count_valid] FROM quote\n",
    "\t\t\tGROUP BY quote_compound\n",
    "\t\t),\n",
    "\n",
    "\t\troute_reactants AS (\n",
    "\t\t\tSELECT route_id, route_product, count_valid, COUNT(CASE WHEN count_valid = 0 THEN 1 END) AS [count_unavailable] FROM route\n",
    "\t\t\tINNER JOIN component ON component_route = route_id\n",
    "\t\t\tLEFT JOIN possible_reactants ON quote_compound = component_ref\n",
    "\t\t\tWHERE component_type = 2\n",
    "            GROUP BY route_id\n",
    "\t\t)\n",
    "\n",
    "SELECT route_id FROM route_reactants\n",
    "WHERE count_unavailable = 0\n",
    "\"\"\"\n",
    "\n",
    "c = animal.db.execute(sql)\n",
    "\n",
    "results = c.fetchone()\n",
    "results"
   ]
  },
  {
   "cell_type": "code",
   "execution_count": null,
   "id": "c47936d6-d171-40b8-930e-794689b6ed4d",
   "metadata": {},
   "outputs": [],
   "source": [
    "sql = \"\"\"\n",
    "WITH possible_reactants AS (\n",
    "\t\t\tSELECT quote_compound, COUNT(CASE WHEN quote_supplier IN (\"Enamine\", \"Stock\") THEN 1 END) AS [count_valid] FROM quote\n",
    "\t\t\tGROUP BY quote_compound\n",
    "\t\t),\n",
    "\n",
    "\t\troute_reactants AS (\n",
    "\t\t\tSELECT route_id, route_product, component_ref, count_valid, COUNT(CASE WHEN count_valid = 0 THEN 1 WHEN count_valid IS NULL THEN 1 END) AS [count_unavailable] FROM route\n",
    "\t\t\tINNER JOIN component ON component_route = route_id\n",
    "\t\t\tLEFT JOIN possible_reactants ON quote_compound = component_ref\n",
    "\t\t\tWHERE component_type = 2\n",
    "            AND route_id = 77365\n",
    "            GROUP BY route_id\n",
    "\t\t)\n",
    "\n",
    "SELECT * FROM route_reactants\n",
    "\"\"\"\n",
    "\n",
    "c = animal.db.execute(sql)\n",
    "\n",
    "results = c.fetchall()\n",
    "results"
   ]
  },
  {
   "cell_type": "code",
   "execution_count": null,
   "id": "a78291c6-3643-4c7a-b8e8-ff3ea30f2372",
   "metadata": {},
   "outputs": [],
   "source": [
    "animal.db.execute(\"\"\"\n",
    "SELECT quote_compound, CASE WHEN quote_supplier IN (\"Enamine\", \"Stock\") THEN 1 END AS [count_valid] FROM quote\n",
    "WHERE quote_compound IN (4574,91477)\n",
    "\"\"\").fetchall()"
   ]
  },
  {
   "cell_type": "code",
   "execution_count": null,
   "id": "e57d7e3d-94e9-4a73-8c6a-0516c83238e6",
   "metadata": {},
   "outputs": [],
   "source": [
    "animal.db.execute(\"\"\"\n",
    "\n",
    "\"\"\").fetchall()"
   ]
  },
  {
   "cell_type": "code",
   "execution_count": null,
   "id": "f8e6f19e-920c-4447-850b-9eb940bd43c7",
   "metadata": {},
   "outputs": [],
   "source": [
    "route_ids = [r[0] for r in results]\n",
    "route_products = [r[1] for r in results]\n",
    "count_unavailable = [r[2] for r in results]\n",
    "len(route_ids)"
   ]
  },
  {
   "cell_type": "code",
   "execution_count": null,
   "id": "0c3bd668-f8c7-4cc5-bf29-dfcab4b9b192",
   "metadata": {},
   "outputs": [],
   "source": [
    "animal.db.get_route(id=1).reactant"
   ]
  },
  {
   "cell_type": "code",
   "execution_count": null,
   "id": "5c7b8304-f0e5-4a75-a15a-8f69a54d6f75",
   "metadata": {},
   "outputs": [],
   "source": [
    "animal.C91478.reactions[0].reactants.ids"
   ]
  },
  {
   "cell_type": "code",
   "execution_count": null,
   "id": "5081e4e3-b706-480e-b8a9-64a210d6e8f1",
   "metadata": {},
   "outputs": [],
   "source": [
    "route_id = 77365\n",
    "route_id in route_ids"
   ]
  },
  {
   "cell_type": "code",
   "execution_count": null,
   "id": "d12fca5c-826c-4035-a340-c8135350714a",
   "metadata": {},
   "outputs": [],
   "source": [
    "animal.C4574.get_quotes(df=True)"
   ]
  },
  {
   "cell_type": "code",
   "execution_count": null,
   "id": "a1ba4241-0c7a-4700-a50e-3d2bac0f27b6",
   "metadata": {},
   "outputs": [],
   "source": [
    "animal.db.get_route(id=670).reactions.types"
   ]
  },
  {
   "cell_type": "code",
   "execution_count": null,
   "id": "ea134797-ca5b-49dc-a2c5-c144de1dbd4b",
   "metadata": {},
   "outputs": [],
   "source": []
  },
  {
   "cell_type": "code",
   "execution_count": null,
   "id": "fcb3eae3-bdf0-4f77-abd5-24038a17b1bc",
   "metadata": {},
   "outputs": [],
   "source": []
  },
  {
   "cell_type": "markdown",
   "id": "00118ec6-c994-4fb9-be83-5c4e3249d733",
   "metadata": {
    "jp-MarkdownHeadingCollapsed": true
   },
   "source": [
    "## Check missing multi-step chemistry"
   ]
  },
  {
   "cell_type": "code",
   "execution_count": null,
   "id": "9ff9754e-5513-44f9-a320-fce003582e1f",
   "metadata": {},
   "outputs": [],
   "source": [
    "inchi = 'YIIMVUSFSKUYCA-UHFFFAOYSA-N'\n",
    "inchi = 'XXPRWRCNORVHSY-UHFFFAOYSA-N'"
   ]
  },
  {
   "cell_type": "code",
   "execution_count": null,
   "id": "390ec760-d9d7-45c0-8376-6d0e2bc41312",
   "metadata": {},
   "outputs": [],
   "source": [
    "c = animal.compounds[inchi]\n",
    "c"
   ]
  },
  {
   "cell_type": "code",
   "execution_count": null,
   "id": "bfb9a78d-1fd7-494d-83c9-5dbf4ff1078f",
   "metadata": {},
   "outputs": [],
   "source": [
    "recipes = c.get_recipes(quoted_only=False)\n",
    "len(recipes)"
   ]
  },
  {
   "cell_type": "code",
   "execution_count": null,
   "id": "757b9c7e-3c9d-463a-8867-961ebb264d9f",
   "metadata": {},
   "outputs": [],
   "source": [
    "recipe = recipes[0]"
   ]
  },
  {
   "cell_type": "code",
   "execution_count": null,
   "id": "6660f150-6c9a-41e6-9736-012a372cc03e",
   "metadata": {},
   "outputs": [],
   "source": [
    "recipe.sankey()"
   ]
  },
  {
   "cell_type": "code",
   "execution_count": null,
   "id": "826ddce6-b131-43c4-b853-85cd0324c397",
   "metadata": {},
   "outputs": [],
   "source": [
    "recipe.reactions.summary()"
   ]
  },
  {
   "cell_type": "code",
   "execution_count": null,
   "id": "d6bd8931-8927-47c3-8b39-4485fb7c3a9e",
   "metadata": {},
   "outputs": [],
   "source": [
    "animal.C4449.get_quotes(df=True)"
   ]
  },
  {
   "cell_type": "code",
   "execution_count": null,
   "id": "7a786349-805c-4134-ae3e-4b2cf2ad259c",
   "metadata": {},
   "outputs": [],
   "source": [
    "animal.C4497.get_quotes(df=True)"
   ]
  },
  {
   "cell_type": "code",
   "execution_count": null,
   "id": "d72662d0-e1aa-4a6d-ad32-db8dfc77d784",
   "metadata": {},
   "outputs": [],
   "source": [
    "animal.C4499.get_quotes(df=True)"
   ]
  },
  {
   "cell_type": "code",
   "execution_count": null,
   "id": "92dba675-3191-47c9-8e33-763cec664108",
   "metadata": {},
   "outputs": [],
   "source": [
    "animal.db.select_all_where(table='quote', key='entry', value='EN300-41185')"
   ]
  },
  {
   "cell_type": "code",
   "execution_count": null,
   "id": "70287aa6-036a-4e1b-a259-ed96ecab22f9",
   "metadata": {},
   "outputs": [],
   "source": [
    "animal.C4499.draw()"
   ]
  },
  {
   "cell_type": "code",
   "execution_count": null,
   "id": "92700e6a-f6c1-4a66-966b-08bca026f8f3",
   "metadata": {},
   "outputs": [],
   "source": [
    "animal.C4499.smiles"
   ]
  },
  {
   "cell_type": "code",
   "execution_count": null,
   "id": "34fcfb9e-8c4e-42a2-9afa-e38fa08b8078",
   "metadata": {},
   "outputs": [],
   "source": [
    "animal.compounds(smiles='CNCC(N)=O.HCl')"
   ]
  },
  {
   "cell_type": "code",
   "execution_count": null,
   "id": "d7329352-fdc5-4180-a970-6ec5d34621ed",
   "metadata": {},
   "outputs": [],
   "source": [
    "c.draw()"
   ]
  },
  {
   "cell_type": "code",
   "execution_count": null,
   "id": "f73acebf-4427-46b1-b97a-58fe134edbba",
   "metadata": {},
   "outputs": [],
   "source": [
    "c.poses.interactive()"
   ]
  },
  {
   "cell_type": "code",
   "execution_count": null,
   "id": "70e36591-3cd2-4709-8178-5575e3876412",
   "metadata": {},
   "outputs": [],
   "source": [
    "animal.P6264.render()"
   ]
  },
  {
   "cell_type": "code",
   "execution_count": null,
   "id": "b95e0d4e-4698-4266-ad8f-d4986f01fc5b",
   "metadata": {},
   "outputs": [],
   "source": [
    "animal.P6264.draw()"
   ]
  },
  {
   "cell_type": "code",
   "execution_count": null,
   "id": "33380c8b-0e4a-4dd6-8285-a04560adb8da",
   "metadata": {},
   "outputs": [],
   "source": [
    "recipe.reactions"
   ]
  },
  {
   "cell_type": "code",
   "execution_count": null,
   "id": "298e74be-1d26-477a-bb57-5fbc8a65f271",
   "metadata": {},
   "outputs": [],
   "source": []
  },
  {
   "cell_type": "markdown",
   "id": "b1acbe4c-a93e-4194-8830-d1dce9677ecf",
   "metadata": {},
   "source": [
    "## Check route table"
   ]
  },
  {
   "cell_type": "code",
   "execution_count": 6,
   "id": "3c180ab8-c66c-46c3-b7ac-2821dd1587a0",
   "metadata": {},
   "outputs": [
    {
     "data": {
      "text/plain": [
       "(74785,)"
      ]
     },
     "execution_count": 6,
     "metadata": {},
     "output_type": "execute_result"
    }
   ],
   "source": [
    "animal.db.execute(\"SELECT COUNT(DISTINCT route_product) FROM route\").fetchone()"
   ]
  },
  {
   "cell_type": "code",
   "execution_count": 21,
   "id": "c7051a80-3441-466e-ae44-b8c74f9d3260",
   "metadata": {},
   "outputs": [],
   "source": [
    "sql = \"\"\"\n",
    "WITH possible_reactants AS (\n",
    "\t\t\tSELECT quote_compound, COUNT(CASE WHEN quote_supplier IN (\"Enamine\", \"Stock\") THEN 1 END) AS [count_valid] FROM quote\n",
    "\t\t\tGROUP BY quote_compound\n",
    "\t\t),\n",
    "\n",
    "\t\troute_reactants AS (\n",
    "\t\t\tSELECT route_id, route_product, \n",
    "            COUNT(\n",
    "                CASE \n",
    "                    WHEN count_valid = 0 THEN 1 \n",
    "                    WHEN count_valid IS NULL THEN 1 \n",
    "                END) \n",
    "            AS [count_unavailable] FROM route\n",
    "\t\t\tINNER JOIN component ON component_route = route_id\n",
    "\t\t\tLEFT JOIN possible_reactants ON quote_compound = component_ref\n",
    "\t\t\tWHERE component_type = 2\n",
    "\t\t\tGROUP BY route_id\n",
    "\t\t)\n",
    "\n",
    "\t\tSELECT route_id, route_product, count_unavailable FROM route_reactants\n",
    "\"\"\"\n",
    "\t\t# WHERE count_unavailable = 0\n",
    "ids = animal.db.execute(sql).fetchall()"
   ]
  },
  {
   "cell_type": "code",
   "execution_count": 22,
   "id": "bc70f758-8a6d-4c75-91f8-b44526f19d20",
   "metadata": {},
   "outputs": [
    {
     "data": {
      "text/plain": [
       "77475"
      ]
     },
     "execution_count": 22,
     "metadata": {},
     "output_type": "execute_result"
    }
   ],
   "source": [
    "len(ids)"
   ]
  },
  {
   "cell_type": "code",
   "execution_count": 24,
   "id": "9df3a52e-f157-41af-8192-ed83238a9e18",
   "metadata": {},
   "outputs": [
    {
     "name": "stdout",
     "output_type": "stream",
     "text": [
      "1 91 2\n",
      "2 91 2\n",
      "3 92 1\n",
      "4 93 0\n",
      "5 95 0\n"
     ]
    }
   ],
   "source": [
    "for id, prod, count in ids[:5]:\n",
    "    print(id, prod, count)\n",
    "    "
   ]
  },
  {
   "cell_type": "code",
   "execution_count": 25,
   "id": "b283daf2-4802-4fe3-a1ff-3d5f69e39cca",
   "metadata": {},
   "outputs": [
    {
     "data": {
      "text/plain": [
       "15240"
      ]
     },
     "execution_count": 25,
     "metadata": {},
     "output_type": "execute_result"
    }
   ],
   "source": [
    "prod_ids = set([b for a,b,c in ids if not c])\n",
    "len(prod_ids)"
   ]
  },
  {
   "cell_type": "code",
   "execution_count": 17,
   "id": "dbe173e4-cfa0-430a-ab07-af0dc58c1a80",
   "metadata": {},
   "outputs": [
    {
     "data": {
      "text/plain": [
       "\u001b[1m\u001b[4m{C x 76223}\u001b[22m\u001b[24m"
      ]
     },
     "execution_count": 17,
     "metadata": {},
     "output_type": "execute_result"
    }
   ],
   "source": [
    "elabs = animal.compounds(tag=\"Syndirella base\").elabs\n",
    "elabs"
   ]
  },
  {
   "cell_type": "code",
   "execution_count": 18,
   "id": "b2952a2b-9309-40e6-ad58-ac1d93b73a0d",
   "metadata": {},
   "outputs": [
    {
     "data": {
      "text/plain": [
       "\u001b[1m\u001b[4m{P x 111028}\u001b[22m\u001b[24m"
      ]
     },
     "execution_count": 18,
     "metadata": {},
     "output_type": "execute_result"
    }
   ],
   "source": [
    "elab_poses = elabs.poses\n",
    "elab_poses"
   ]
  },
  {
   "cell_type": "code",
   "execution_count": 19,
   "id": "e20f5179-8781-454d-9555-7f64fa67929a",
   "metadata": {},
   "outputs": [
    {
     "data": {
      "text/plain": [
       "54"
      ]
     },
     "execution_count": 19,
     "metadata": {},
     "output_type": "execute_result"
    }
   ],
   "source": [
    "elab_poses.num_inspirations"
   ]
  },
  {
   "cell_type": "code",
   "execution_count": 20,
   "id": "3242b77a-086b-456e-a763-b241d5b05e81",
   "metadata": {},
   "outputs": [
    {
     "name": "stderr",
     "output_type": "stream",
     "text": [
      " 19%|█▉        | 2964/15435 [09:04<38:09,  5.45it/s] \n"
     ]
    },
    {
     "data": {
      "text/plain": [
       "60"
      ]
     },
     "execution_count": 20,
     "metadata": {},
     "output_type": "execute_result"
    }
   ],
   "source": [
    "elab_poses.num_inspiration_sets"
   ]
  },
  {
   "cell_type": "code",
   "execution_count": 27,
   "id": "352bbcca-39a6-4533-98d4-856d68b2bfc7",
   "metadata": {},
   "outputs": [
    {
     "name": "stdout",
     "output_type": "stream",
     "text": [
      "33\n",
      "28\n"
     ]
    }
   ],
   "source": [
    "pset = animal.compounds[prod_ids].poses\n",
    "print(pset.num_inspirations)\n",
    "print(pset.num_inspiration_sets)"
   ]
  },
  {
   "cell_type": "code",
   "execution_count": 29,
   "id": "7cc3edb1-cab3-41c6-aec2-861577d90355",
   "metadata": {},
   "outputs": [
    {
     "data": {
      "text/plain": [
       "27"
      ]
     },
     "execution_count": 29,
     "metadata": {},
     "output_type": "execute_result"
    }
   ],
   "source": [
    "animal.compounds[prod_ids].num_bases_elaborated"
   ]
  },
  {
   "cell_type": "code",
   "execution_count": 31,
   "id": "46636c8b-3102-40af-bf4c-0ae52c7c0de7",
   "metadata": {},
   "outputs": [
    {
     "data": {
      "text/plain": [
       "\u001b[1m\u001b[4m{C x 55350}\u001b[22m\u001b[24m"
      ]
     },
     "execution_count": 31,
     "metadata": {},
     "output_type": "execute_result"
    }
   ],
   "source": [
    "animal.compounds[prod_ids].bases.elabs"
   ]
  },
  {
   "cell_type": "code",
   "execution_count": 34,
   "id": "bc5e9a84-67f4-43b1-90c9-80c8fa93a4bc",
   "metadata": {},
   "outputs": [
    {
     "name": "stdout",
     "output_type": "stream",
     "text": [
      "['Buchwald-Hartwig_amidation_with_amide-like_nucleophile']\n",
      "['Nucleophilic_substitution_with_amine']\n",
      "['Buchwald-Hartwig_amination']\n",
      "['Ester_amidation', 'Ester_amidation']\n",
      "['Amidation']\n",
      "['Amidation']\n",
      "['Sp2-sp2_Suzuki_coupling', 'Sp2-sp2_Suzuki_coupling']\n",
      "['Amidation']\n",
      "['Amidation']\n",
      "['Sp3-sp2_Suzuki_coupling', 'Sp3-sp2_Suzuki_coupling']\n",
      "['Ester_amidation', 'Ester_amidation', 'Ester_amidation', 'Ester_amidation']\n",
      "['Amidation']\n",
      "['Sp3-sp2_Suzuki_coupling', 'Sp3-sp2_Suzuki_coupling']\n",
      "['Nucleophilic_substitution_with_amine']\n",
      "['Buchwald-Hartwig_amination']\n",
      "['Amidation']\n",
      "['Amidation']\n",
      "['Amidation']\n",
      "['Ester_amidation', 'Ester_amidation']\n",
      "['Buchwald-Hartwig_amination']\n",
      "['Amidation']\n",
      "['N-nucleophilic_aromatic_substitution']\n",
      "['Buchwald-Hartwig_amidation_with_amide-like_nucleophile']\n",
      "['Buchwald-Hartwig_amination']\n",
      "['Ester_amidation']\n",
      "['Buchwald-Hartwig_amination']\n",
      "['Amidation']\n"
     ]
    }
   ],
   "source": [
    "for base in animal.compounds[prod_ids].bases:\n",
    "    reactions = base.reactions\n",
    "    print(reactions.types)"
   ]
  },
  {
   "cell_type": "code",
   "execution_count": 42,
   "id": "0992280e-19a7-4beb-bced-d9b30fd67af7",
   "metadata": {},
   "outputs": [],
   "source": [
    "import plotly.express as px\n",
    "data = [['Buchwald-Hartwig'],\n",
    "['Nucleophilic_substitution_with_amine'],\n",
    "['Buchwald'],\n",
    "['Ester_amidation', 'Ester_amidation'],\n",
    "['Amidation'],\n",
    "['Amidation'],\n",
    "['Sp2-sp2_Suzuki_coupling', 'Sp2-sp2_Suzuki_coupling'],\n",
    "['Amidation'],\n",
    "['Amidation'],\n",
    "['Sp3-sp2_Suzuki_coupling', 'Sp3-sp2_Suzuki_coupling'],\n",
    "['Ester_amidation', 'Ester_amidation', 'Ester_amidation', 'Ester_amidation'],\n",
    "['Amidation'],\n",
    "['Sp3-sp2_Suzuki_coupling', 'Sp3-sp2_Suzuki_coupling'],\n",
    "['Nucleophilic_substitution_with_amine'],\n",
    "['Buchwald'],\n",
    "['Amidation'],\n",
    "['Amidation'],\n",
    "['Amidation'],\n",
    "['Ester_amidation', 'Ester_amidation'],\n",
    "['Buchwald'],\n",
    "['Amidation'],\n",
    "['N-nucleophilic_aromatic_substitution'],\n",
    "['Buchwald-Hartwig'],\n",
    "['Buchwald'],\n",
    "['Ester_amidation'],\n",
    "['Buchwald'],\n",
    "['Amidation']]"
   ]
  },
  {
   "cell_type": "code",
   "execution_count": 43,
   "id": "d5536ac8-ab02-4c0d-a4b4-c350b1a31d7d",
   "metadata": {},
   "outputs": [],
   "source": [
    "data = sum(data, [])\n",
    "data = [dict(type=a) for a in data]"
   ]
  },
  {
   "cell_type": "code",
   "execution_count": 44,
   "id": "867eca9c-3599-448e-89af-3ab55ce9abae",
   "metadata": {},
   "outputs": [
    {
     "data": {
      "application/vnd.plotly.v1+json": {
       "config": {
        "plotlyServerURL": "https://plot.ly"
       },
       "data": [
        {
         "alignmentgroup": "True",
         "bingroup": "x",
         "hovertemplate": "variable=type<br>value=%{x}<br>count=%{y}<extra></extra>",
         "legendgroup": "type",
         "marker": {
          "color": "#636efa",
          "pattern": {
           "shape": ""
          }
         },
         "name": "type",
         "offsetgroup": "type",
         "orientation": "v",
         "showlegend": true,
         "type": "histogram",
         "x": [
          "Buchwald-Hartwig",
          "Nucleophilic_substitution_with_amine",
          "Buchwald",
          "Ester_amidation",
          "Ester_amidation",
          "Amidation",
          "Amidation",
          "Sp2-sp2_Suzuki_coupling",
          "Sp2-sp2_Suzuki_coupling",
          "Amidation",
          "Amidation",
          "Sp3-sp2_Suzuki_coupling",
          "Sp3-sp2_Suzuki_coupling",
          "Ester_amidation",
          "Ester_amidation",
          "Ester_amidation",
          "Ester_amidation",
          "Amidation",
          "Sp3-sp2_Suzuki_coupling",
          "Sp3-sp2_Suzuki_coupling",
          "Nucleophilic_substitution_with_amine",
          "Buchwald",
          "Amidation",
          "Amidation",
          "Amidation",
          "Ester_amidation",
          "Ester_amidation",
          "Buchwald",
          "Amidation",
          "N-nucleophilic_aromatic_substitution",
          "Buchwald-Hartwig",
          "Buchwald",
          "Ester_amidation",
          "Buchwald",
          "Amidation"
         ],
         "xaxis": "x",
         "yaxis": "y"
        }
       ],
       "layout": {
        "autosize": true,
        "barmode": "relative",
        "legend": {
         "title": {
          "text": "variable"
         },
         "tracegroupgap": 0
        },
        "margin": {
         "t": 60
        },
        "template": {
         "data": {
          "bar": [
           {
            "error_x": {
             "color": "#2a3f5f"
            },
            "error_y": {
             "color": "#2a3f5f"
            },
            "marker": {
             "line": {
              "color": "#E5ECF6",
              "width": 0.5
             },
             "pattern": {
              "fillmode": "overlay",
              "size": 10,
              "solidity": 0.2
             }
            },
            "type": "bar"
           }
          ],
          "barpolar": [
           {
            "marker": {
             "line": {
              "color": "#E5ECF6",
              "width": 0.5
             },
             "pattern": {
              "fillmode": "overlay",
              "size": 10,
              "solidity": 0.2
             }
            },
            "type": "barpolar"
           }
          ],
          "carpet": [
           {
            "aaxis": {
             "endlinecolor": "#2a3f5f",
             "gridcolor": "white",
             "linecolor": "white",
             "minorgridcolor": "white",
             "startlinecolor": "#2a3f5f"
            },
            "baxis": {
             "endlinecolor": "#2a3f5f",
             "gridcolor": "white",
             "linecolor": "white",
             "minorgridcolor": "white",
             "startlinecolor": "#2a3f5f"
            },
            "type": "carpet"
           }
          ],
          "choropleth": [
           {
            "colorbar": {
             "outlinewidth": 0,
             "ticks": ""
            },
            "type": "choropleth"
           }
          ],
          "contour": [
           {
            "colorbar": {
             "outlinewidth": 0,
             "ticks": ""
            },
            "colorscale": [
             [
              0,
              "#0d0887"
             ],
             [
              0.1111111111111111,
              "#46039f"
             ],
             [
              0.2222222222222222,
              "#7201a8"
             ],
             [
              0.3333333333333333,
              "#9c179e"
             ],
             [
              0.4444444444444444,
              "#bd3786"
             ],
             [
              0.5555555555555556,
              "#d8576b"
             ],
             [
              0.6666666666666666,
              "#ed7953"
             ],
             [
              0.7777777777777778,
              "#fb9f3a"
             ],
             [
              0.8888888888888888,
              "#fdca26"
             ],
             [
              1,
              "#f0f921"
             ]
            ],
            "type": "contour"
           }
          ],
          "contourcarpet": [
           {
            "colorbar": {
             "outlinewidth": 0,
             "ticks": ""
            },
            "type": "contourcarpet"
           }
          ],
          "heatmap": [
           {
            "colorbar": {
             "outlinewidth": 0,
             "ticks": ""
            },
            "colorscale": [
             [
              0,
              "#0d0887"
             ],
             [
              0.1111111111111111,
              "#46039f"
             ],
             [
              0.2222222222222222,
              "#7201a8"
             ],
             [
              0.3333333333333333,
              "#9c179e"
             ],
             [
              0.4444444444444444,
              "#bd3786"
             ],
             [
              0.5555555555555556,
              "#d8576b"
             ],
             [
              0.6666666666666666,
              "#ed7953"
             ],
             [
              0.7777777777777778,
              "#fb9f3a"
             ],
             [
              0.8888888888888888,
              "#fdca26"
             ],
             [
              1,
              "#f0f921"
             ]
            ],
            "type": "heatmap"
           }
          ],
          "heatmapgl": [
           {
            "colorbar": {
             "outlinewidth": 0,
             "ticks": ""
            },
            "colorscale": [
             [
              0,
              "#0d0887"
             ],
             [
              0.1111111111111111,
              "#46039f"
             ],
             [
              0.2222222222222222,
              "#7201a8"
             ],
             [
              0.3333333333333333,
              "#9c179e"
             ],
             [
              0.4444444444444444,
              "#bd3786"
             ],
             [
              0.5555555555555556,
              "#d8576b"
             ],
             [
              0.6666666666666666,
              "#ed7953"
             ],
             [
              0.7777777777777778,
              "#fb9f3a"
             ],
             [
              0.8888888888888888,
              "#fdca26"
             ],
             [
              1,
              "#f0f921"
             ]
            ],
            "type": "heatmapgl"
           }
          ],
          "histogram": [
           {
            "marker": {
             "pattern": {
              "fillmode": "overlay",
              "size": 10,
              "solidity": 0.2
             }
            },
            "type": "histogram"
           }
          ],
          "histogram2d": [
           {
            "colorbar": {
             "outlinewidth": 0,
             "ticks": ""
            },
            "colorscale": [
             [
              0,
              "#0d0887"
             ],
             [
              0.1111111111111111,
              "#46039f"
             ],
             [
              0.2222222222222222,
              "#7201a8"
             ],
             [
              0.3333333333333333,
              "#9c179e"
             ],
             [
              0.4444444444444444,
              "#bd3786"
             ],
             [
              0.5555555555555556,
              "#d8576b"
             ],
             [
              0.6666666666666666,
              "#ed7953"
             ],
             [
              0.7777777777777778,
              "#fb9f3a"
             ],
             [
              0.8888888888888888,
              "#fdca26"
             ],
             [
              1,
              "#f0f921"
             ]
            ],
            "type": "histogram2d"
           }
          ],
          "histogram2dcontour": [
           {
            "colorbar": {
             "outlinewidth": 0,
             "ticks": ""
            },
            "colorscale": [
             [
              0,
              "#0d0887"
             ],
             [
              0.1111111111111111,
              "#46039f"
             ],
             [
              0.2222222222222222,
              "#7201a8"
             ],
             [
              0.3333333333333333,
              "#9c179e"
             ],
             [
              0.4444444444444444,
              "#bd3786"
             ],
             [
              0.5555555555555556,
              "#d8576b"
             ],
             [
              0.6666666666666666,
              "#ed7953"
             ],
             [
              0.7777777777777778,
              "#fb9f3a"
             ],
             [
              0.8888888888888888,
              "#fdca26"
             ],
             [
              1,
              "#f0f921"
             ]
            ],
            "type": "histogram2dcontour"
           }
          ],
          "mesh3d": [
           {
            "colorbar": {
             "outlinewidth": 0,
             "ticks": ""
            },
            "type": "mesh3d"
           }
          ],
          "parcoords": [
           {
            "line": {
             "colorbar": {
              "outlinewidth": 0,
              "ticks": ""
             }
            },
            "type": "parcoords"
           }
          ],
          "pie": [
           {
            "automargin": true,
            "type": "pie"
           }
          ],
          "scatter": [
           {
            "fillpattern": {
             "fillmode": "overlay",
             "size": 10,
             "solidity": 0.2
            },
            "type": "scatter"
           }
          ],
          "scatter3d": [
           {
            "line": {
             "colorbar": {
              "outlinewidth": 0,
              "ticks": ""
             }
            },
            "marker": {
             "colorbar": {
              "outlinewidth": 0,
              "ticks": ""
             }
            },
            "type": "scatter3d"
           }
          ],
          "scattercarpet": [
           {
            "marker": {
             "colorbar": {
              "outlinewidth": 0,
              "ticks": ""
             }
            },
            "type": "scattercarpet"
           }
          ],
          "scattergeo": [
           {
            "marker": {
             "colorbar": {
              "outlinewidth": 0,
              "ticks": ""
             }
            },
            "type": "scattergeo"
           }
          ],
          "scattergl": [
           {
            "marker": {
             "colorbar": {
              "outlinewidth": 0,
              "ticks": ""
             }
            },
            "type": "scattergl"
           }
          ],
          "scattermapbox": [
           {
            "marker": {
             "colorbar": {
              "outlinewidth": 0,
              "ticks": ""
             }
            },
            "type": "scattermapbox"
           }
          ],
          "scatterpolar": [
           {
            "marker": {
             "colorbar": {
              "outlinewidth": 0,
              "ticks": ""
             }
            },
            "type": "scatterpolar"
           }
          ],
          "scatterpolargl": [
           {
            "marker": {
             "colorbar": {
              "outlinewidth": 0,
              "ticks": ""
             }
            },
            "type": "scatterpolargl"
           }
          ],
          "scatterternary": [
           {
            "marker": {
             "colorbar": {
              "outlinewidth": 0,
              "ticks": ""
             }
            },
            "type": "scatterternary"
           }
          ],
          "surface": [
           {
            "colorbar": {
             "outlinewidth": 0,
             "ticks": ""
            },
            "colorscale": [
             [
              0,
              "#0d0887"
             ],
             [
              0.1111111111111111,
              "#46039f"
             ],
             [
              0.2222222222222222,
              "#7201a8"
             ],
             [
              0.3333333333333333,
              "#9c179e"
             ],
             [
              0.4444444444444444,
              "#bd3786"
             ],
             [
              0.5555555555555556,
              "#d8576b"
             ],
             [
              0.6666666666666666,
              "#ed7953"
             ],
             [
              0.7777777777777778,
              "#fb9f3a"
             ],
             [
              0.8888888888888888,
              "#fdca26"
             ],
             [
              1,
              "#f0f921"
             ]
            ],
            "type": "surface"
           }
          ],
          "table": [
           {
            "cells": {
             "fill": {
              "color": "#EBF0F8"
             },
             "line": {
              "color": "white"
             }
            },
            "header": {
             "fill": {
              "color": "#C8D4E3"
             },
             "line": {
              "color": "white"
             }
            },
            "type": "table"
           }
          ]
         },
         "layout": {
          "annotationdefaults": {
           "arrowcolor": "#2a3f5f",
           "arrowhead": 0,
           "arrowwidth": 1
          },
          "autotypenumbers": "strict",
          "coloraxis": {
           "colorbar": {
            "outlinewidth": 0,
            "ticks": ""
           }
          },
          "colorscale": {
           "diverging": [
            [
             0,
             "#8e0152"
            ],
            [
             0.1,
             "#c51b7d"
            ],
            [
             0.2,
             "#de77ae"
            ],
            [
             0.3,
             "#f1b6da"
            ],
            [
             0.4,
             "#fde0ef"
            ],
            [
             0.5,
             "#f7f7f7"
            ],
            [
             0.6,
             "#e6f5d0"
            ],
            [
             0.7,
             "#b8e186"
            ],
            [
             0.8,
             "#7fbc41"
            ],
            [
             0.9,
             "#4d9221"
            ],
            [
             1,
             "#276419"
            ]
           ],
           "sequential": [
            [
             0,
             "#0d0887"
            ],
            [
             0.1111111111111111,
             "#46039f"
            ],
            [
             0.2222222222222222,
             "#7201a8"
            ],
            [
             0.3333333333333333,
             "#9c179e"
            ],
            [
             0.4444444444444444,
             "#bd3786"
            ],
            [
             0.5555555555555556,
             "#d8576b"
            ],
            [
             0.6666666666666666,
             "#ed7953"
            ],
            [
             0.7777777777777778,
             "#fb9f3a"
            ],
            [
             0.8888888888888888,
             "#fdca26"
            ],
            [
             1,
             "#f0f921"
            ]
           ],
           "sequentialminus": [
            [
             0,
             "#0d0887"
            ],
            [
             0.1111111111111111,
             "#46039f"
            ],
            [
             0.2222222222222222,
             "#7201a8"
            ],
            [
             0.3333333333333333,
             "#9c179e"
            ],
            [
             0.4444444444444444,
             "#bd3786"
            ],
            [
             0.5555555555555556,
             "#d8576b"
            ],
            [
             0.6666666666666666,
             "#ed7953"
            ],
            [
             0.7777777777777778,
             "#fb9f3a"
            ],
            [
             0.8888888888888888,
             "#fdca26"
            ],
            [
             1,
             "#f0f921"
            ]
           ]
          },
          "colorway": [
           "#636efa",
           "#EF553B",
           "#00cc96",
           "#ab63fa",
           "#FFA15A",
           "#19d3f3",
           "#FF6692",
           "#B6E880",
           "#FF97FF",
           "#FECB52"
          ],
          "font": {
           "color": "#2a3f5f"
          },
          "geo": {
           "bgcolor": "white",
           "lakecolor": "white",
           "landcolor": "#E5ECF6",
           "showlakes": true,
           "showland": true,
           "subunitcolor": "white"
          },
          "hoverlabel": {
           "align": "left"
          },
          "hovermode": "closest",
          "mapbox": {
           "style": "light"
          },
          "paper_bgcolor": "white",
          "plot_bgcolor": "#E5ECF6",
          "polar": {
           "angularaxis": {
            "gridcolor": "white",
            "linecolor": "white",
            "ticks": ""
           },
           "bgcolor": "#E5ECF6",
           "radialaxis": {
            "gridcolor": "white",
            "linecolor": "white",
            "ticks": ""
           }
          },
          "scene": {
           "xaxis": {
            "backgroundcolor": "#E5ECF6",
            "gridcolor": "white",
            "gridwidth": 2,
            "linecolor": "white",
            "showbackground": true,
            "ticks": "",
            "zerolinecolor": "white"
           },
           "yaxis": {
            "backgroundcolor": "#E5ECF6",
            "gridcolor": "white",
            "gridwidth": 2,
            "linecolor": "white",
            "showbackground": true,
            "ticks": "",
            "zerolinecolor": "white"
           },
           "zaxis": {
            "backgroundcolor": "#E5ECF6",
            "gridcolor": "white",
            "gridwidth": 2,
            "linecolor": "white",
            "showbackground": true,
            "ticks": "",
            "zerolinecolor": "white"
           }
          },
          "shapedefaults": {
           "line": {
            "color": "#2a3f5f"
           }
          },
          "ternary": {
           "aaxis": {
            "gridcolor": "white",
            "linecolor": "white",
            "ticks": ""
           },
           "baxis": {
            "gridcolor": "white",
            "linecolor": "white",
            "ticks": ""
           },
           "bgcolor": "#E5ECF6",
           "caxis": {
            "gridcolor": "white",
            "linecolor": "white",
            "ticks": ""
           }
          },
          "title": {
           "x": 0.05
          },
          "xaxis": {
           "automargin": true,
           "gridcolor": "white",
           "linecolor": "white",
           "ticks": "",
           "title": {
            "standoff": 15
           },
           "zerolinecolor": "white",
           "zerolinewidth": 2
          },
          "yaxis": {
           "automargin": true,
           "gridcolor": "white",
           "linecolor": "white",
           "ticks": "",
           "title": {
            "standoff": 15
           },
           "zerolinecolor": "white",
           "zerolinewidth": 2
          }
         }
        },
        "xaxis": {
         "anchor": "y",
         "autorange": true,
         "domain": [
          0,
          1
         ],
         "range": [
          -0.5,
          7.5
         ],
         "title": {
          "text": "value"
         },
         "type": "category"
        },
        "yaxis": {
         "anchor": "x",
         "autorange": true,
         "domain": [
          0,
          1
         ],
         "range": [
          0,
          10.526315789473685
         ],
         "title": {
          "text": "count"
         }
        }
       }
      },
      "image/png": "[encoded data removed]",
      "text/html": [
       "<div>                            <div id=\"f8d375ac-27af-4651-90f2-b63f9549560c\" class=\"plotly-graph-div\" style=\"height:525px; width:100%;\"></div>            <script type=\"text/javascript\">                require([\"plotly\"], function(Plotly) {                    window.PLOTLYENV=window.PLOTLYENV || {};                                    if (document.getElementById(\"f8d375ac-27af-4651-90f2-b63f9549560c\")) {                    Plotly.newPlot(                        \"f8d375ac-27af-4651-90f2-b63f9549560c\",                        [{\"alignmentgroup\":\"True\",\"bingroup\":\"x\",\"hovertemplate\":\"variable=type\\u003cbr\\u003evalue=%{x}\\u003cbr\\u003ecount=%{y}\\u003cextra\\u003e\\u003c\\u002fextra\\u003e\",\"legendgroup\":\"type\",\"marker\":{\"color\":\"#636efa\",\"pattern\":{\"shape\":\"\"}},\"name\":\"type\",\"offsetgroup\":\"type\",\"orientation\":\"v\",\"showlegend\":true,\"x\":[\"Buchwald-Hartwig\",\"Nucleophilic_substitution_with_amine\",\"Buchwald\",\"Ester_amidation\",\"Ester_amidation\",\"Amidation\",\"Amidation\",\"Sp2-sp2_Suzuki_coupling\",\"Sp2-sp2_Suzuki_coupling\",\"Amidation\",\"Amidation\",\"Sp3-sp2_Suzuki_coupling\",\"Sp3-sp2_Suzuki_coupling\",\"Ester_amidation\",\"Ester_amidation\",\"Ester_amidation\",\"Ester_amidation\",\"Amidation\",\"Sp3-sp2_Suzuki_coupling\",\"Sp3-sp2_Suzuki_coupling\",\"Nucleophilic_substitution_with_amine\",\"Buchwald\",\"Amidation\",\"Amidation\",\"Amidation\",\"Ester_amidation\",\"Ester_amidation\",\"Buchwald\",\"Amidation\",\"N-nucleophilic_aromatic_substitution\",\"Buchwald-Hartwig\",\"Buchwald\",\"Ester_amidation\",\"Buchwald\",\"Amidation\"],\"xaxis\":\"x\",\"yaxis\":\"y\",\"type\":\"histogram\"}],                        {\"template\":{\"data\":{\"histogram2dcontour\":[{\"type\":\"histogram2dcontour\",\"colorbar\":{\"outlinewidth\":0,\"ticks\":\"\"},\"colorscale\":[[0.0,\"#0d0887\"],[0.1111111111111111,\"#46039f\"],[0.2222222222222222,\"#7201a8\"],[0.3333333333333333,\"#9c179e\"],[0.4444444444444444,\"#bd3786\"],[0.5555555555555556,\"#d8576b\"],[0.6666666666666666,\"#ed7953\"],[0.7777777777777778,\"#fb9f3a\"],[0.8888888888888888,\"#fdca26\"],[1.0,\"#f0f921\"]]}],\"choropleth\":[{\"type\":\"choropleth\",\"colorbar\":{\"outlinewidth\":0,\"ticks\":\"\"}}],\"histogram2d\":[{\"type\":\"histogram2d\",\"colorbar\":{\"outlinewidth\":0,\"ticks\":\"\"},\"colorscale\":[[0.0,\"#0d0887\"],[0.1111111111111111,\"#46039f\"],[0.2222222222222222,\"#7201a8\"],[0.3333333333333333,\"#9c179e\"],[0.4444444444444444,\"#bd3786\"],[0.5555555555555556,\"#d8576b\"],[0.6666666666666666,\"#ed7953\"],[0.7777777777777778,\"#fb9f3a\"],[0.8888888888888888,\"#fdca26\"],[1.0,\"#f0f921\"]]}],\"heatmap\":[{\"type\":\"heatmap\",\"colorbar\":{\"outlinewidth\":0,\"ticks\":\"\"},\"colorscale\":[[0.0,\"#0d0887\"],[0.1111111111111111,\"#46039f\"],[0.2222222222222222,\"#7201a8\"],[0.3333333333333333,\"#9c179e\"],[0.4444444444444444,\"#bd3786\"],[0.5555555555555556,\"#d8576b\"],[0.6666666666666666,\"#ed7953\"],[0.7777777777777778,\"#fb9f3a\"],[0.8888888888888888,\"#fdca26\"],[1.0,\"#f0f921\"]]}],\"heatmapgl\":[{\"type\":\"heatmapgl\",\"colorbar\":{\"outlinewidth\":0,\"ticks\":\"\"},\"colorscale\":[[0.0,\"#0d0887\"],[0.1111111111111111,\"#46039f\"],[0.2222222222222222,\"#7201a8\"],[0.3333333333333333,\"#9c179e\"],[0.4444444444444444,\"#bd3786\"],[0.5555555555555556,\"#d8576b\"],[0.6666666666666666,\"#ed7953\"],[0.7777777777777778,\"#fb9f3a\"],[0.8888888888888888,\"#fdca26\"],[1.0,\"#f0f921\"]]}],\"contourcarpet\":[{\"type\":\"contourcarpet\",\"colorbar\":{\"outlinewidth\":0,\"ticks\":\"\"}}],\"contour\":[{\"type\":\"contour\",\"colorbar\":{\"outlinewidth\":0,\"ticks\":\"\"},\"colorscale\":[[0.0,\"#0d0887\"],[0.1111111111111111,\"#46039f\"],[0.2222222222222222,\"#7201a8\"],[0.3333333333333333,\"#9c179e\"],[0.4444444444444444,\"#bd3786\"],[0.5555555555555556,\"#d8576b\"],[0.6666666666666666,\"#ed7953\"],[0.7777777777777778,\"#fb9f3a\"],[0.8888888888888888,\"#fdca26\"],[1.0,\"#f0f921\"]]}],\"surface\":[{\"type\":\"surface\",\"colorbar\":{\"outlinewidth\":0,\"ticks\":\"\"},\"colorscale\":[[0.0,\"#0d0887\"],[0.1111111111111111,\"#46039f\"],[0.2222222222222222,\"#7201a8\"],[0.3333333333333333,\"#9c179e\"],[0.4444444444444444,\"#bd3786\"],[0.5555555555555556,\"#d8576b\"],[0.6666666666666666,\"#ed7953\"],[0.7777777777777778,\"#fb9f3a\"],[0.8888888888888888,\"#fdca26\"],[1.0,\"#f0f921\"]]}],\"mesh3d\":[{\"type\":\"mesh3d\",\"colorbar\":{\"outlinewidth\":0,\"ticks\":\"\"}}],\"scatter\":[{\"fillpattern\":{\"fillmode\":\"overlay\",\"size\":10,\"solidity\":0.2},\"type\":\"scatter\"}],\"parcoords\":[{\"type\":\"parcoords\",\"line\":{\"colorbar\":{\"outlinewidth\":0,\"ticks\":\"\"}}}],\"scatterpolargl\":[{\"type\":\"scatterpolargl\",\"marker\":{\"colorbar\":{\"outlinewidth\":0,\"ticks\":\"\"}}}],\"bar\":[{\"error_x\":{\"color\":\"#2a3f5f\"},\"error_y\":{\"color\":\"#2a3f5f\"},\"marker\":{\"line\":{\"color\":\"#E5ECF6\",\"width\":0.5},\"pattern\":{\"fillmode\":\"overlay\",\"size\":10,\"solidity\":0.2}},\"type\":\"bar\"}],\"scattergeo\":[{\"type\":\"scattergeo\",\"marker\":{\"colorbar\":{\"outlinewidth\":0,\"ticks\":\"\"}}}],\"scatterpolar\":[{\"type\":\"scatterpolar\",\"marker\":{\"colorbar\":{\"outlinewidth\":0,\"ticks\":\"\"}}}],\"histogram\":[{\"marker\":{\"pattern\":{\"fillmode\":\"overlay\",\"size\":10,\"solidity\":0.2}},\"type\":\"histogram\"}],\"scattergl\":[{\"type\":\"scattergl\",\"marker\":{\"colorbar\":{\"outlinewidth\":0,\"ticks\":\"\"}}}],\"scatter3d\":[{\"type\":\"scatter3d\",\"line\":{\"colorbar\":{\"outlinewidth\":0,\"ticks\":\"\"}},\"marker\":{\"colorbar\":{\"outlinewidth\":0,\"ticks\":\"\"}}}],\"scattermapbox\":[{\"type\":\"scattermapbox\",\"marker\":{\"colorbar\":{\"outlinewidth\":0,\"ticks\":\"\"}}}],\"scatterternary\":[{\"type\":\"scatterternary\",\"marker\":{\"colorbar\":{\"outlinewidth\":0,\"ticks\":\"\"}}}],\"scattercarpet\":[{\"type\":\"scattercarpet\",\"marker\":{\"colorbar\":{\"outlinewidth\":0,\"ticks\":\"\"}}}],\"carpet\":[{\"aaxis\":{\"endlinecolor\":\"#2a3f5f\",\"gridcolor\":\"white\",\"linecolor\":\"white\",\"minorgridcolor\":\"white\",\"startlinecolor\":\"#2a3f5f\"},\"baxis\":{\"endlinecolor\":\"#2a3f5f\",\"gridcolor\":\"white\",\"linecolor\":\"white\",\"minorgridcolor\":\"white\",\"startlinecolor\":\"#2a3f5f\"},\"type\":\"carpet\"}],\"table\":[{\"cells\":{\"fill\":{\"color\":\"#EBF0F8\"},\"line\":{\"color\":\"white\"}},\"header\":{\"fill\":{\"color\":\"#C8D4E3\"},\"line\":{\"color\":\"white\"}},\"type\":\"table\"}],\"barpolar\":[{\"marker\":{\"line\":{\"color\":\"#E5ECF6\",\"width\":0.5},\"pattern\":{\"fillmode\":\"overlay\",\"size\":10,\"solidity\":0.2}},\"type\":\"barpolar\"}],\"pie\":[{\"automargin\":true,\"type\":\"pie\"}]},\"layout\":{\"autotypenumbers\":\"strict\",\"colorway\":[\"#636efa\",\"#EF553B\",\"#00cc96\",\"#ab63fa\",\"#FFA15A\",\"#19d3f3\",\"#FF6692\",\"#B6E880\",\"#FF97FF\",\"#FECB52\"],\"font\":{\"color\":\"#2a3f5f\"},\"hovermode\":\"closest\",\"hoverlabel\":{\"align\":\"left\"},\"paper_bgcolor\":\"white\",\"plot_bgcolor\":\"#E5ECF6\",\"polar\":{\"bgcolor\":\"#E5ECF6\",\"angularaxis\":{\"gridcolor\":\"white\",\"linecolor\":\"white\",\"ticks\":\"\"},\"radialaxis\":{\"gridcolor\":\"white\",\"linecolor\":\"white\",\"ticks\":\"\"}},\"ternary\":{\"bgcolor\":\"#E5ECF6\",\"aaxis\":{\"gridcolor\":\"white\",\"linecolor\":\"white\",\"ticks\":\"\"},\"baxis\":{\"gridcolor\":\"white\",\"linecolor\":\"white\",\"ticks\":\"\"},\"caxis\":{\"gridcolor\":\"white\",\"linecolor\":\"white\",\"ticks\":\"\"}},\"coloraxis\":{\"colorbar\":{\"outlinewidth\":0,\"ticks\":\"\"}},\"colorscale\":{\"sequential\":[[0.0,\"#0d0887\"],[0.1111111111111111,\"#46039f\"],[0.2222222222222222,\"#7201a8\"],[0.3333333333333333,\"#9c179e\"],[0.4444444444444444,\"#bd3786\"],[0.5555555555555556,\"#d8576b\"],[0.6666666666666666,\"#ed7953\"],[0.7777777777777778,\"#fb9f3a\"],[0.8888888888888888,\"#fdca26\"],[1.0,\"#f0f921\"]],\"sequentialminus\":[[0.0,\"#0d0887\"],[0.1111111111111111,\"#46039f\"],[0.2222222222222222,\"#7201a8\"],[0.3333333333333333,\"#9c179e\"],[0.4444444444444444,\"#bd3786\"],[0.5555555555555556,\"#d8576b\"],[0.6666666666666666,\"#ed7953\"],[0.7777777777777778,\"#fb9f3a\"],[0.8888888888888888,\"#fdca26\"],[1.0,\"#f0f921\"]],\"diverging\":[[0,\"#8e0152\"],[0.1,\"#c51b7d\"],[0.2,\"#de77ae\"],[0.3,\"#f1b6da\"],[0.4,\"#fde0ef\"],[0.5,\"#f7f7f7\"],[0.6,\"#e6f5d0\"],[0.7,\"#b8e186\"],[0.8,\"#7fbc41\"],[0.9,\"#4d9221\"],[1,\"#276419\"]]},\"xaxis\":{\"gridcolor\":\"white\",\"linecolor\":\"white\",\"ticks\":\"\",\"title\":{\"standoff\":15},\"zerolinecolor\":\"white\",\"automargin\":true,\"zerolinewidth\":2},\"yaxis\":{\"gridcolor\":\"white\",\"linecolor\":\"white\",\"ticks\":\"\",\"title\":{\"standoff\":15},\"zerolinecolor\":\"white\",\"automargin\":true,\"zerolinewidth\":2},\"scene\":{\"xaxis\":{\"backgroundcolor\":\"#E5ECF6\",\"gridcolor\":\"white\",\"linecolor\":\"white\",\"showbackground\":true,\"ticks\":\"\",\"zerolinecolor\":\"white\",\"gridwidth\":2},\"yaxis\":{\"backgroundcolor\":\"#E5ECF6\",\"gridcolor\":\"white\",\"linecolor\":\"white\",\"showbackground\":true,\"ticks\":\"\",\"zerolinecolor\":\"white\",\"gridwidth\":2},\"zaxis\":{\"backgroundcolor\":\"#E5ECF6\",\"gridcolor\":\"white\",\"linecolor\":\"white\",\"showbackground\":true,\"ticks\":\"\",\"zerolinecolor\":\"white\",\"gridwidth\":2}},\"shapedefaults\":{\"line\":{\"color\":\"#2a3f5f\"}},\"annotationdefaults\":{\"arrowcolor\":\"#2a3f5f\",\"arrowhead\":0,\"arrowwidth\":1},\"geo\":{\"bgcolor\":\"white\",\"landcolor\":\"#E5ECF6\",\"subunitcolor\":\"white\",\"showland\":true,\"showlakes\":true,\"lakecolor\":\"white\"},\"title\":{\"x\":0.05},\"mapbox\":{\"style\":\"light\"}}},\"xaxis\":{\"anchor\":\"y\",\"domain\":[0.0,1.0],\"title\":{\"text\":\"value\"}},\"yaxis\":{\"anchor\":\"x\",\"domain\":[0.0,1.0],\"title\":{\"text\":\"count\"}},\"legend\":{\"title\":{\"text\":\"variable\"},\"tracegroupgap\":0},\"margin\":{\"t\":60},\"barmode\":\"relative\"},                        {\"responsive\": true}                    ).then(function(){\n",
       "                            \n",
       "var gd = document.getElementById('f8d375ac-27af-4651-90f2-b63f9549560c');\n",
       "var x = new MutationObserver(function (mutations, observer) {{\n",
       "        var display = window.getComputedStyle(gd).display;\n",
       "        if (!display || display === 'none') {{\n",
       "            console.log([gd, 'removed!']);\n",
       "            Plotly.purge(gd);\n",
       "            observer.disconnect();\n",
       "        }}\n",
       "}});\n",
       "\n",
       "// Listen for the removal of the full notebook cells\n",
       "var notebookContainer = gd.closest('#notebook-container');\n",
       "if (notebookContainer) {{\n",
       "    x.observe(notebookContainer, {childList: true});\n",
       "}}\n",
       "\n",
       "// Listen for the clearing of the current output cell\n",
       "var outputEl = gd.closest('.output');\n",
       "if (outputEl) {{\n",
       "    x.observe(outputEl, {childList: true});\n",
       "}}\n",
       "\n",
       "                        })                };                });            </script>        </div>"
      ]
     },
     "metadata": {},
     "output_type": "display_data"
    }
   ],
   "source": [
    "px.histogram(data)"
   ]
  },
  {
   "cell_type": "code",
   "execution_count": null,
   "id": "37346d6c-5fc3-4312-9dea-ac7b85a971ee",
   "metadata": {},
   "outputs": [],
   "source": []
  }
 ],
 "metadata": {
  "kernelspec": {
   "display_name": "Python [conda env:base] *",
   "language": "python",
   "name": "conda-base-py"
  },
  "language_info": {
   "codemirror_mode": {
    "name": "ipython",
    "version": 3
   },
   "file_extension": ".py",
   "mimetype": "text/x-python",
   "name": "python",
   "nbconvert_exporter": "python",
   "pygments_lexer": "ipython3",
   "version": "3.11.6"
  }
 },
 "nbformat": 4,
 "nbformat_minor": 5
}
