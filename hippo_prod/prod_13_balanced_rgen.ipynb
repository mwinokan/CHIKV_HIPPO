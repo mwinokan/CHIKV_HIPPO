{
 "cells": [
  {
   "cell_type": "markdown",
   "id": "b480e1bf-3cb2-4e10-b511-7c36b645b953",
   "metadata": {},
   "source": [
    "# CHIKV_Mac HIPPO FFF Prod. 13 (balanced rgen)"
   ]
  },
  {
   "cell_type": "markdown",
   "id": "9ac54ee9-3eea-45db-be4e-41bb33311b35",
   "metadata": {},
   "source": [
    "# Setup"
   ]
  },
  {
   "cell_type": "code",
   "execution_count": 2,
   "id": "c1722108-7aa0-495c-b2ca-8c5ee3ca062e",
   "metadata": {},
   "outputs": [],
   "source": [
    "%load_ext autoreload\n",
    "%autoreload 2\n",
    "import hippo\n",
    "from pathlib import Path\n",
    "from mlog import setup_logger\n",
    "import pandas as pd\n",
    "import numpy as np\n",
    "import molparse as mp\n",
    "import mrich"
   ]
  },
  {
   "cell_type": "code",
   "execution_count": 3,
   "id": "8609990a-c9c2-4b19-886e-c3c6890fd695",
   "metadata": {},
   "outputs": [
    {
     "data": {
      "text/html": [
       "<pre style=\"white-space:pre;overflow-x:auto;line-height:normal;font-family:Menlo,'DejaVu Sans Mono',consolas,'Courier New',monospace\"><span style=\"font-weight: bold\"> Creating HIPPO animal</span>\n",
       "</pre>\n"
      ],
      "text/plain": [
       "\u001b[1m Creating HIPPO animal\u001b[0m\n"
      ]
     },
     "metadata": {},
     "output_type": "display_data"
    },
    {
     "data": {
      "text/html": [
       "<pre style=\"white-space:pre;overflow-x:auto;line-height:normal;font-family:Menlo,'DejaVu Sans Mono',consolas,'Courier New',monospace\"><span style=\"color: #008080; text-decoration-color: #008080; font-weight: bold\">name</span> = <span style=\"color: #00d7af; text-decoration-color: #00d7af\">CHIKV_prod13</span>\n",
       "</pre>\n"
      ],
      "text/plain": [
       "\u001b[1;36mname\u001b[0m = \u001b[38;5;43mCHIKV_prod13\u001b[0m\n"
      ]
     },
     "metadata": {},
     "output_type": "display_data"
    },
    {
     "data": {
      "text/html": [
       "<pre style=\"white-space:pre;overflow-x:auto;line-height:normal;font-family:Menlo,'DejaVu Sans Mono',consolas,'Courier New',monospace\"><span style=\"color: #008080; text-decoration-color: #008080; font-weight: bold\">db_path</span> = <span style=\"color: #d7af00; text-decoration-color: #d7af00\">CHIKV_prod13.sqlite</span>\n",
       "</pre>\n"
      ],
      "text/plain": [
       "\u001b[1;36mdb_path\u001b[0m = \u001b[38;5;178mCHIKV_prod13.sqlite\u001b[0m\n"
      ]
     },
     "metadata": {},
     "output_type": "display_data"
    },
    {
     "data": {
      "text/html": [
       "<pre style=\"white-space:pre;overflow-x:auto;line-height:normal;font-family:Menlo,'DejaVu Sans Mono',consolas,'Courier New',monospace\"><span style=\"color: #808080; text-decoration-color: #808080\">DEBUG: hippo.Database.__init__()</span>\n",
       "</pre>\n"
      ],
      "text/plain": [
       "\u001b[90mDEBUG: hippo.Database.__init__()\u001b[0m\n"
      ]
     },
     "metadata": {},
     "output_type": "display_data"
    },
    {
     "data": {
      "text/html": [
       "<pre style=\"white-space:pre;overflow-x:auto;line-height:normal;font-family:Menlo,'DejaVu Sans Mono',consolas,'Courier New',monospace\"><span style=\"color: #808080; text-decoration-color: #808080\">DEBUG: Database.path = CHIKV_prod13.sqlite</span>\n",
       "</pre>\n"
      ],
      "text/plain": [
       "\u001b[90mDEBUG: Database.path = CHIKV_prod13.sqlite\u001b[0m\n"
      ]
     },
     "metadata": {},
     "output_type": "display_data"
    },
    {
     "data": {
      "text/html": [
       "<pre style=\"white-space:pre;overflow-x:auto;line-height:normal;font-family:Menlo,'DejaVu Sans Mono',consolas,'Courier New',monospace\"><span style=\"color: #808080; text-decoration-color: #808080\">DEBUG: hippo.Database.connect()</span>\n",
       "</pre>\n"
      ],
      "text/plain": [
       "\u001b[90mDEBUG: hippo.Database.connect()\u001b[0m\n"
      ]
     },
     "metadata": {},
     "output_type": "display_data"
    },
    {
     "data": {
      "text/html": [
       "<pre style=\"white-space:pre;overflow-x:auto;line-height:normal;font-family:Menlo,'DejaVu Sans Mono',consolas,'Courier New',monospace\"><span style=\"color: #808080; text-decoration-color: #808080\">DEBUG: sqlite3.version='2.6.0'</span>\n",
       "</pre>\n"
      ],
      "text/plain": [
       "\u001b[90mDEBUG: sqlite3.version='2.6.0'\u001b[0m\n"
      ]
     },
     "metadata": {},
     "output_type": "display_data"
    },
    {
     "data": {
      "text/html": [
       "<pre style=\"white-space:pre;overflow-x:auto;line-height:normal;font-family:Menlo,'DejaVu Sans Mono',consolas,'Courier New',monospace\"><span style=\"background-color: #008000; font-weight: bold\"> Success </span><span style=\"color: #008000; text-decoration-color: #008000; font-weight: bold\"> Database connected @</span><span style=\"color: #d7af00; text-decoration-color: #d7af00; font-weight: bold\"> CHIKV_prod13.sqlite!</span>\n",
       "</pre>\n"
      ],
      "text/plain": [
       "\u001b[1;7;32m Success \u001b[0m\u001b[1;32m Database connected @\u001b[0m\u001b[1;38;5;178m CHIKV_prod13.sqlite!\u001b[0m\n"
      ]
     },
     "metadata": {},
     "output_type": "display_data"
    },
    {
     "data": {
      "text/html": [
       "<pre style=\"white-space:pre;overflow-x:auto;line-height:normal;font-family:Menlo,'DejaVu Sans Mono',consolas,'Courier New',monospace\"><span style=\"background-color: #008000; font-weight: bold\"> Success </span><span style=\"color: #008000; text-decoration-color: #008000; font-weight: bold\"> Initialised animal</span><span style=\"color: #008080; text-decoration-color: #008080; font-weight: bold\"> HIPPO(\"CHIKV_prod13\")!</span>\n",
       "</pre>\n"
      ],
      "text/plain": [
       "\u001b[1;7;32m Success \u001b[0m\u001b[1;32m Initialised animal\u001b[0m\u001b[1;36m HIPPO(\"CHIKV_prod13\")!\u001b[0m\n"
      ]
     },
     "metadata": {},
     "output_type": "display_data"
    }
   ],
   "source": [
    "animal = hippo.HIPPO('CHIKV_prod13', 'CHIKV_prod13.sqlite')# , copy_from='CHIKV_prod10b.sqlite', overwrite_existing=False)"
   ]
  },
  {
   "cell_type": "markdown",
   "id": "852496d2-1315-453c-a4bb-3dc1b1d4cb0c",
   "metadata": {},
   "source": [
    "## Create the RRG"
   ]
  },
  {
   "cell_type": "code",
   "execution_count": 4,
   "id": "cff1b984-0a4f-402f-aaa9-b6d599826a4a",
   "metadata": {},
   "outputs": [
    {
     "data": {
      "text/html": [
       "<pre style=\"white-space:pre;overflow-x:auto;line-height:normal;font-family:Menlo,'DejaVu Sans Mono',consolas,'Courier New',monospace\"><span style=\"background-color: #d7af00; font-weight: bold\"> DISK </span> Reading <span style=\"color: #d7af00; text-decoration-color: #d7af00\">CHIKV_starting_recipe_yields_fix.json</span>...\n",
       "</pre>\n"
      ],
      "text/plain": [
       "\u001b[1;7;38;5;178m DISK \u001b[0m Reading \u001b[38;5;178mCHIKV_starting_recipe_yields_fix.json\u001b[0m...\n"
      ]
     },
     "metadata": {},
     "output_type": "display_data"
    },
    {
     "data": {
      "text/html": [
       "<pre style=\"white-space:pre;overflow-x:auto;line-height:normal;font-family:Menlo,'DejaVu Sans Mono',consolas,'Courier New',monospace\"><span style=\"color: #008080; text-decoration-color: #008080; font-weight: bold\">session</span> = <span style=\"color: #800080; text-decoration-color: #800080\">/opt/xchem-fragalysis-2/maxwin/CHIKV_HIPPO/hippo_prod/</span><span style=\"color: #ff00ff; text-decoration-color: #ff00ff\">CHIKV_prod13.sqlite</span>\n",
       "</pre>\n"
      ],
      "text/plain": [
       "\u001b[1;36msession\u001b[0m = \u001b[35m/opt/xchem-fragalysis-2/maxwin/CHIKV_HIPPO/hippo_prod/\u001b[0m\u001b[95mCHIKV_prod13.sqlite\u001b[0m\n"
      ]
     },
     "metadata": {},
     "output_type": "display_data"
    },
    {
     "data": {
      "text/html": [
       "<pre style=\"white-space:pre;overflow-x:auto;line-height:normal;font-family:Menlo,'DejaVu Sans Mono',consolas,'Courier New',monospace\"><span style=\"color: #008080; text-decoration-color: #008080; font-weight: bold\">in file</span> = <span style=\"color: #800080; text-decoration-color: #800080\">/opt/xchem-fragalysis-2/maxwin/CHIKV_HIPPO/hippo_prod/</span><span style=\"color: #ff00ff; text-decoration-color: #ff00ff\">CHIKV_prod6.sqlite</span>\n",
       "</pre>\n"
      ],
      "text/plain": [
       "\u001b[1;36min file\u001b[0m = \u001b[35m/opt/xchem-fragalysis-2/maxwin/CHIKV_HIPPO/hippo_prod/\u001b[0m\u001b[95mCHIKV_prod6.sqlite\u001b[0m\n"
      ]
     },
     "metadata": {},
     "output_type": "display_data"
    },
    {
     "data": {
      "text/html": [
       "<pre style=\"white-space:pre;overflow-x:auto;line-height:normal;font-family:Menlo,'DejaVu Sans Mono',consolas,'Courier New',monospace\"><span style=\"background-color: #ff8700; font-weight: bold\"> Warning </span><span style=\"color: #ff8700; text-decoration-color: #ff8700\"> Database path mismatch!</span>\n",
       "</pre>\n"
      ],
      "text/plain": [
       "\u001b[1;7;38;5;208m Warning \u001b[0m\u001b[38;5;208m Database path mismatch!\u001b[0m\n"
      ]
     },
     "metadata": {},
     "output_type": "display_data"
    },
    {
     "data": {
      "text/html": [
       "<pre style=\"white-space:pre;overflow-x:auto;line-height:normal;font-family:Menlo,'DejaVu Sans Mono',consolas,'Courier New',monospace\">Recipe was generated at: <span style=\"color: #008080; text-decoration-color: #008080; font-weight: bold\">2024</span>-<span style=\"color: #008080; text-decoration-color: #008080; font-weight: bold\">10</span>-<span style=\"color: #008080; text-decoration-color: #008080; font-weight: bold\">09</span> <span style=\"color: #00ff00; text-decoration-color: #00ff00; font-weight: bold\">09:53:15</span>.<span style=\"color: #008080; text-decoration-color: #008080; font-weight: bold\">372773</span>\n",
       "</pre>\n"
      ],
      "text/plain": [
       "Recipe was generated at: \u001b[1;36m2024\u001b[0m-\u001b[1;36m10\u001b[0m-\u001b[1;36m09\u001b[0m \u001b[1;92m09:53:15\u001b[0m.\u001b[1;36m372773\u001b[0m\n"
      ]
     },
     "metadata": {},
     "output_type": "display_data"
    },
    {
     "data": {
      "text/html": [
       "<pre style=\"white-space:pre;overflow-x:auto;line-height:normal;font-family:Menlo,'DejaVu Sans Mono',consolas,'Courier New',monospace\"><span style=\"color: #008080; text-decoration-color: #008080; font-weight: bold\">reactants</span> = <span style=\"font-weight: bold; text-decoration: underline\">{Ingredient × 32}</span>\n",
       "</pre>\n"
      ],
      "text/plain": [
       "\u001b[1;36mreactants\u001b[0m = \u001b[1;4m{Ingredient × 32}\u001b[0m\n"
      ]
     },
     "metadata": {},
     "output_type": "display_data"
    },
    {
     "data": {
      "text/html": [
       "<pre style=\"white-space:pre;overflow-x:auto;line-height:normal;font-family:Menlo,'DejaVu Sans Mono',consolas,'Courier New',monospace\"><span style=\"color: #008080; text-decoration-color: #008080; font-weight: bold\">intermediates</span> = <span style=\"font-weight: bold; text-decoration: underline\">{Ingredient × 0}</span>\n",
       "</pre>\n"
      ],
      "text/plain": [
       "\u001b[1;36mintermediates\u001b[0m = \u001b[1;4m{Ingredient × 0}\u001b[0m\n"
      ]
     },
     "metadata": {},
     "output_type": "display_data"
    },
    {
     "data": {
      "text/html": [
       "<pre style=\"white-space:pre;overflow-x:auto;line-height:normal;font-family:Menlo,'DejaVu Sans Mono',consolas,'Courier New',monospace\"><span style=\"color: #008080; text-decoration-color: #008080; font-weight: bold\">products</span> = <span style=\"font-weight: bold; text-decoration: underline\">{Ingredient × 20}</span>\n",
       "</pre>\n"
      ],
      "text/plain": [
       "\u001b[1;36mproducts\u001b[0m = \u001b[1;4m{Ingredient × 20}\u001b[0m\n"
      ]
     },
     "metadata": {},
     "output_type": "display_data"
    },
    {
     "data": {
      "text/html": [
       "<pre style=\"white-space:pre;overflow-x:auto;line-height:normal;font-family:Menlo,'DejaVu Sans Mono',consolas,'Courier New',monospace\"><span style=\"color: #008080; text-decoration-color: #008080; font-weight: bold\">reactions</span> = <span style=\"font-weight: bold; text-decoration: underline\">{R × 20}</span>\n",
       "</pre>\n"
      ],
      "text/plain": [
       "\u001b[1;36mreactions\u001b[0m = \u001b[1;4m{R × 20}\u001b[0m\n"
      ]
     },
     "metadata": {},
     "output_type": "display_data"
    }
   ],
   "source": [
    "recipe = hippo.Recipe.from_json(animal.db, 'CHIKV_starting_recipe_yields_fix.json', allow_db_mismatch=True)"
   ]
  },
  {
   "cell_type": "code",
   "execution_count": 6,
   "id": "b7fb09c3-6dc0-4d9e-92da-43de00762977",
   "metadata": {},
   "outputs": [],
   "source": [
    "# gen = hippo.RandomRecipeGenerator(db=animal.db, start_with=recipe, suppliers=['Stock', 'Enamine'])"
   ]
  },
  {
   "cell_type": "code",
   "execution_count": 5,
   "id": "bf013b83-5e57-4e9a-bda1-13d9849d5c2e",
   "metadata": {},
   "outputs": [
    {
     "data": {
      "text/html": [
       "<pre style=\"white-space:pre;overflow-x:auto;line-height:normal;font-family:Menlo,'DejaVu Sans Mono',consolas,'Courier New',monospace\">Recipe was generated at: <span style=\"color: #008080; text-decoration-color: #008080; font-weight: bold\">2024</span>-<span style=\"color: #008080; text-decoration-color: #008080; font-weight: bold\">10</span>-<span style=\"color: #008080; text-decoration-color: #008080; font-weight: bold\">24</span> <span style=\"color: #00ff00; text-decoration-color: #00ff00; font-weight: bold\">08:35:18</span>.<span style=\"color: #008080; text-decoration-color: #008080; font-weight: bold\">970411</span>\n",
       "</pre>\n"
      ],
      "text/plain": [
       "Recipe was generated at: \u001b[1;36m2024\u001b[0m-\u001b[1;36m10\u001b[0m-\u001b[1;36m24\u001b[0m \u001b[1;92m08:35:18\u001b[0m.\u001b[1;36m970411\u001b[0m\n"
      ]
     },
     "metadata": {},
     "output_type": "display_data"
    },
    {
     "data": {
      "text/html": [
       "<pre style=\"white-space:pre;overflow-x:auto;line-height:normal;font-family:Menlo,'DejaVu Sans Mono',consolas,'Courier New',monospace\"><span style=\"color: #008080; text-decoration-color: #008080; font-weight: bold\">reactants</span> = <span style=\"font-weight: bold; text-decoration: underline\">{Ingredient × 32}</span>\n",
       "</pre>\n"
      ],
      "text/plain": [
       "\u001b[1;36mreactants\u001b[0m = \u001b[1;4m{Ingredient × 32}\u001b[0m\n"
      ]
     },
     "metadata": {},
     "output_type": "display_data"
    },
    {
     "data": {
      "text/html": [
       "<pre style=\"white-space:pre;overflow-x:auto;line-height:normal;font-family:Menlo,'DejaVu Sans Mono',consolas,'Courier New',monospace\"><span style=\"color: #008080; text-decoration-color: #008080; font-weight: bold\">intermediates</span> = <span style=\"font-weight: bold; text-decoration: underline\">{Ingredient × 0}</span>\n",
       "</pre>\n"
      ],
      "text/plain": [
       "\u001b[1;36mintermediates\u001b[0m = \u001b[1;4m{Ingredient × 0}\u001b[0m\n"
      ]
     },
     "metadata": {},
     "output_type": "display_data"
    },
    {
     "data": {
      "text/html": [
       "<pre style=\"white-space:pre;overflow-x:auto;line-height:normal;font-family:Menlo,'DejaVu Sans Mono',consolas,'Courier New',monospace\"><span style=\"color: #008080; text-decoration-color: #008080; font-weight: bold\">products</span> = <span style=\"font-weight: bold; text-decoration: underline\">{Ingredient × 20}</span>\n",
       "</pre>\n"
      ],
      "text/plain": [
       "\u001b[1;36mproducts\u001b[0m = \u001b[1;4m{Ingredient × 20}\u001b[0m\n"
      ]
     },
     "metadata": {},
     "output_type": "display_data"
    },
    {
     "data": {
      "text/html": [
       "<pre style=\"white-space:pre;overflow-x:auto;line-height:normal;font-family:Menlo,'DejaVu Sans Mono',consolas,'Courier New',monospace\"><span style=\"color: #008080; text-decoration-color: #008080; font-weight: bold\">reactions</span> = <span style=\"font-weight: bold; text-decoration: underline\">{R × 20}</span>\n",
       "</pre>\n"
      ],
      "text/plain": [
       "\u001b[1;36mreactions\u001b[0m = \u001b[1;4m{R × 20}\u001b[0m\n"
      ]
     },
     "metadata": {},
     "output_type": "display_data"
    },
    {
     "data": {
      "text/html": [
       "<pre style=\"white-space:pre;overflow-x:auto;line-height:normal;font-family:Menlo,'DejaVu Sans Mono',consolas,'Courier New',monospace\"><span style=\"color: #008080; text-decoration-color: #008080; font-weight: bold\">database</span> = <span style=\"color: #d7af00; text-decoration-color: #d7af00\">/opt/xchem-fragalysis-2/maxwin/CHIKV_HIPPO/hippo_prod/CHIKV_prod13.sqlite</span>\n",
       "</pre>\n"
      ],
      "text/plain": [
       "\u001b[1;36mdatabase\u001b[0m = \u001b[38;5;178m/opt/xchem-fragalysis-2/maxwin/CHIKV_HIPPO/hippo_prod/CHIKV_prod13.sqlite\u001b[0m\n"
      ]
     },
     "metadata": {},
     "output_type": "display_data"
    },
    {
     "data": {
      "text/html": [
       "<pre style=\"white-space:pre;overflow-x:auto;line-height:normal;font-family:Menlo,'DejaVu Sans Mono',consolas,'Courier New',monospace\"><span style=\"color: #008080; text-decoration-color: #008080; font-weight: bold\">max_lead_time</span> = <span style=\"color: #800080; text-decoration-color: #800080; font-style: italic\">None</span>\n",
       "</pre>\n"
      ],
      "text/plain": [
       "\u001b[1;36mmax_lead_time\u001b[0m = \u001b[3;35mNone\u001b[0m\n"
      ]
     },
     "metadata": {},
     "output_type": "display_data"
    },
    {
     "data": {
      "text/html": [
       "<pre style=\"white-space:pre;overflow-x:auto;line-height:normal;font-family:Menlo,'DejaVu Sans Mono',consolas,'Courier New',monospace\"><span style=\"color: #008080; text-decoration-color: #008080; font-weight: bold\">suppliers</span> =\n",
       "<span style=\"font-weight: bold\">[</span><span style=\"color: #008000; text-decoration-color: #008000\">'Stock'</span>, <span style=\"color: #008000; text-decoration-color: #008000\">'Enamine'</span><span style=\"font-weight: bold\">]</span>\n",
       "</pre>\n"
      ],
      "text/plain": [
       "\u001b[1;36msuppliers\u001b[0m =\n",
       "\u001b[1m[\u001b[0m\u001b[32m'Stock'\u001b[0m, \u001b[32m'Enamine'\u001b[0m\u001b[1m]\u001b[0m\n"
      ]
     },
     "metadata": {},
     "output_type": "display_data"
    },
    {
     "data": {
      "application/vnd.jupyter.widget-view+json": {
       "model_id": "23cb96764f924ad4ac8b41bcc431de88",
       "version_major": 2,
       "version_minor": 0
      },
      "text/plain": [
       "Output()"
      ]
     },
     "metadata": {},
     "output_type": "display_data"
    },
    {
     "data": {
      "text/html": [
       "<pre style=\"white-space:pre;overflow-x:auto;line-height:normal;font-family:Menlo,'DejaVu Sans Mono',consolas,'Courier New',monospace\"></pre>\n"
      ],
      "text/plain": []
     },
     "metadata": {},
     "output_type": "display_data"
    }
   ],
   "source": [
    "gen = hippo.RandomRecipeGenerator.from_json(animal.db, \"CHIKV_prod13_rgen.json\")"
   ]
  },
  {
   "cell_type": "markdown",
   "id": "5dd22d56-d9c3-4a30-b632-1c86ad708810",
   "metadata": {},
   "source": [
    "## Test generation"
   ]
  },
  {
   "cell_type": "code",
   "execution_count": 7,
   "id": "7b507a03-a80b-4d83-a28e-6fed5fd0f0aa",
   "metadata": {},
   "outputs": [
    {
     "data": {
      "text/html": [
       "<pre style=\"white-space:pre;overflow-x:auto;line-height:normal;font-family:Menlo,'DejaVu Sans Mono',consolas,'Courier New',monospace\"><span style=\"color: #808080; text-decoration-color: #808080\">DEBUG: Shuffling Route pool</span>\n",
       "</pre>\n"
      ],
      "text/plain": [
       "\u001b[90mDEBUG: Shuffling Route pool\u001b[0m\n"
      ]
     },
     "metadata": {},
     "output_type": "display_data"
    },
    {
     "data": {
      "text/html": [
       "<pre style=\"white-space:pre;overflow-x:auto;line-height:normal;font-family:Menlo,'DejaVu Sans Mono',consolas,'Courier New',monospace\"><span style=\"color: #008080; text-decoration-color: #008080; font-weight: bold\">route pool</span> = <span style=\"color: #008080; text-decoration-color: #008080; font-weight: bold\">15458</span>\n",
       "</pre>\n"
      ],
      "text/plain": [
       "\u001b[1;36mroute pool\u001b[0m = \u001b[1;36m15458\u001b[0m\n"
      ]
     },
     "metadata": {},
     "output_type": "display_data"
    },
    {
     "data": {
      "text/html": [
       "<pre style=\"white-space:pre;overflow-x:auto;line-height:normal;font-family:Menlo,'DejaVu Sans Mono',consolas,'Courier New',monospace\"><span style=\"color: #008080; text-decoration-color: #008080; font-weight: bold\">max_iter</span> = <span style=\"color: #008080; text-decoration-color: #008080; font-weight: bold\">4200</span>\n",
       "</pre>\n"
      ],
      "text/plain": [
       "\u001b[1;36mmax_iter\u001b[0m = \u001b[1;36m4200\u001b[0m\n"
      ]
     },
     "metadata": {},
     "output_type": "display_data"
    },
    {
     "data": {
      "application/vnd.jupyter.widget-view+json": {
       "model_id": "996426bc10ed4d71a69d967020e91046",
       "version_major": 2,
       "version_minor": 0
      },
      "text/plain": [
       "Output()"
      ]
     },
     "metadata": {},
     "output_type": "display_data"
    },
    {
     "data": {
      "text/html": [
       "<pre style=\"white-space:pre;overflow-x:auto;line-height:normal;font-family:Menlo,'DejaVu Sans Mono',consolas,'Courier New',monospace\"><span style=\"background-color: #ff8700; font-weight: bold\"> Warning </span><span style=\"color: #ff8700; text-decoration-color: #ff8700\"> (3284,) in permitted_clusters but not cluster_map!</span>\n",
       "</pre>\n"
      ],
      "text/plain": [
       "\u001b[1;7;38;5;208m Warning \u001b[0m\u001b[38;5;208m (3284,) in permitted_clusters but not cluster_map!\u001b[0m\n"
      ]
     },
     "metadata": {},
     "output_type": "display_data"
    },
    {
     "data": {
      "text/html": [
       "<pre style=\"white-space:pre;overflow-x:auto;line-height:normal;font-family:Menlo,'DejaVu Sans Mono',consolas,'Courier New',monospace\"><span style=\"background-color: #ff8700; font-weight: bold\"> Warning </span><span style=\"color: #ff8700; text-decoration-color: #ff8700\"> (1001,) in permitted_clusters but not cluster_map!</span>\n",
       "</pre>\n"
      ],
      "text/plain": [
       "\u001b[1;7;38;5;208m Warning \u001b[0m\u001b[38;5;208m (1001,) in permitted_clusters but not cluster_map!\u001b[0m\n"
      ]
     },
     "metadata": {},
     "output_type": "display_data"
    },
    {
     "data": {
      "text/html": [
       "<pre style=\"white-space:pre;overflow-x:auto;line-height:normal;font-family:Menlo,'DejaVu Sans Mono',consolas,'Courier New',monospace\"><span style=\"color: #808080; text-decoration-color: #808080\">DEBUG: Depleted cluster (93,)</span>\n",
       "</pre>\n"
      ],
      "text/plain": [
       "\u001b[90mDEBUG: Depleted cluster (93,)\u001b[0m\n"
      ]
     },
     "metadata": {},
     "output_type": "display_data"
    },
    {
     "data": {
      "text/html": [
       "<pre style=\"white-space:pre;overflow-x:auto;line-height:normal;font-family:Menlo,'DejaVu Sans Mono',consolas,'Courier New',monospace\"><span style=\"color: #808080; text-decoration-color: #808080\">DEBUG: Depleted cluster (1192,)</span>\n",
       "</pre>\n"
      ],
      "text/plain": [
       "\u001b[90mDEBUG: Depleted cluster (1192,)\u001b[0m\n"
      ]
     },
     "metadata": {},
     "output_type": "display_data"
    },
    {
     "data": {
      "text/html": [
       "<pre style=\"white-space:pre;overflow-x:auto;line-height:normal;font-family:Menlo,'DejaVu Sans Mono',consolas,'Courier New',monospace\"><span style=\"color: #808080; text-decoration-color: #808080\">DEBUG: Depleted cluster (653,)</span>\n",
       "</pre>\n"
      ],
      "text/plain": [
       "\u001b[90mDEBUG: Depleted cluster (653,)\u001b[0m\n"
      ]
     },
     "metadata": {},
     "output_type": "display_data"
    },
    {
     "data": {
      "text/html": [
       "<pre style=\"white-space:pre;overflow-x:auto;line-height:normal;font-family:Menlo,'DejaVu Sans Mono',consolas,'Courier New',monospace\"><span style=\"color: #808080; text-decoration-color: #808080\">DEBUG: Depleted cluster (796,)</span>\n",
       "</pre>\n"
      ],
      "text/plain": [
       "\u001b[90mDEBUG: Depleted cluster (796,)\u001b[0m\n"
      ]
     },
     "metadata": {},
     "output_type": "display_data"
    },
    {
     "data": {
      "text/html": [
       "<pre style=\"white-space:pre;overflow-x:auto;line-height:normal;font-family:Menlo,'DejaVu Sans Mono',consolas,'Courier New',monospace\"></pre>\n"
      ],
      "text/plain": []
     },
     "metadata": {},
     "output_type": "display_data"
    },
    {
     "data": {
      "text/html": [
       "<pre style=\"white-space:pre;overflow-x:auto;line-height:normal;font-family:Menlo,'DejaVu Sans Mono',consolas,'Courier New',monospace\"><span style=\"background-color: #ff8700; font-weight: bold\"> Warning </span><span style=\"color: #ff8700; text-decoration-color: #ff8700\"> Max #iterations reached!</span>\n",
       "</pre>\n"
      ],
      "text/plain": [
       "\u001b[1;7;38;5;208m Warning \u001b[0m\u001b[38;5;208m Max #iterations reached!\u001b[0m\n"
      ]
     },
     "metadata": {},
     "output_type": "display_data"
    },
    {
     "data": {
      "text/html": [
       "<pre style=\"white-space:pre;overflow-x:auto;line-height:normal;font-family:Menlo,'DejaVu Sans Mono',consolas,'Courier New',monospace\"><span style=\"background-color: #008000; font-weight: bold\"> Success </span><span style=\"color: #008000; text-decoration-color: #008000; font-weight: bold\"> Completed after 4199 iterations!</span>\n",
       "</pre>\n"
      ],
      "text/plain": [
       "\u001b[1;7;32m Success \u001b[0m\u001b[1;32m Completed after 4199 iterations!\u001b[0m\n"
      ]
     },
     "metadata": {},
     "output_type": "display_data"
    },
    {
     "data": {
      "text/html": [
       "<pre style=\"white-space:pre;overflow-x:auto;line-height:normal;font-family:Menlo,'DejaVu Sans Mono',consolas,'Courier New',monospace\"><span style=\"background-color: #d7af00; font-weight: bold\"> DISK </span> Writing <span style=\"color: #d7af00; text-decoration-color: #d7af00\">/opt/xchem-fragalysis-2/maxwin/CHIKV_HIPPO/hippo_prod/CHIKV_prod13_recipes/Recipe_1GJIFCC.json</span>...\n",
       "</pre>\n"
      ],
      "text/plain": [
       "\u001b[1;7;38;5;178m DISK \u001b[0m Writing \u001b[38;5;178m/opt/xchem-fragalysis-2/maxwin/CHIKV_HIPPO/hippo_prod/CHIKV_prod13_recipes/Recipe_1GJIFCC.json\u001b[0m...\n"
      ]
     },
     "metadata": {},
     "output_type": "display_data"
    }
   ],
   "source": [
    "# for i in range(10):\n",
    "r = gen.generate(\n",
    "        shuffle=True, \n",
    "        budget=10000, \n",
    "        max_products=1200, \n",
    "        max_reactions=3000, \n",
    "        currency='EUR', \n",
    "        debug=False,\n",
    "        balance_clusters=True,\n",
    "        permitted_clusters={\n",
    "            93,\n",
    "            95,\n",
    "            104,\n",
    "            653,\n",
    "            796,\n",
    "            1001,\n",
    "            1012,\n",
    "            1128,\n",
    "            1192,\n",
    "            1316,\n",
    "            1473,\n",
    "            1917,\n",
    "            2188,\n",
    "            2916,\n",
    "            2919,\n",
    "            2924,\n",
    "            2925,\n",
    "            2944,\n",
    "            3284,\n",
    "            3611,\n",
    "            3624,\n",
    "            3625,\n",
    "            3627,\n",
    "            3628\n",
    "        },\n",
    "    )"
   ]
  },
  {
   "cell_type": "code",
   "execution_count": null,
   "id": "7c85b4d2-fc84-4bdc-a3c3-6793c0c32f50",
   "metadata": {},
   "outputs": [],
   "source": []
  }
 ],
 "metadata": {
  "kernelspec": {
   "display_name": "Python [conda env:base] *",
   "language": "python",
   "name": "conda-base-py"
  },
  "language_info": {
   "codemirror_mode": {
    "name": "ipython",
    "version": 3
   },
   "file_extension": ".py",
   "mimetype": "text/x-python",
   "name": "python",
   "nbconvert_exporter": "python",
   "pygments_lexer": "ipython3",
   "version": "3.11.6"
  }
 },
 "nbformat": 4,
 "nbformat_minor": 5
}
