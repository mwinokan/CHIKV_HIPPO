{
 "cells": [
  {
   "cell_type": "markdown",
   "id": "4778b166-11c6-451a-a929-26441c333818",
   "metadata": {},
   "source": [
    "# CHIKV prod7 testing"
   ]
  },
  {
   "cell_type": "code",
   "execution_count": 6,
   "id": "a80f1201-c282-4970-8595-b5cd61110b16",
   "metadata": {},
   "outputs": [
    {
     "name": "stdout",
     "output_type": "stream",
     "text": [
      "The autoreload extension is already loaded. To reload it, use:\n",
      "  %reload_ext autoreload\n"
     ]
    }
   ],
   "source": [
    "%load_ext autoreload\n",
    "%autoreload 2\n",
    "import hippo\n",
    "from pathlib import Path\n",
    "from mlog import setup_logger\n",
    "import pandas as pd\n",
    "import numpy as np\n",
    "import molparse as mp\n",
    "from sqlite3 import DatabaseError\n",
    "from tqdm import tqdm\n",
    "logger=setup_logger('notebook')"
   ]
  },
  {
   "cell_type": "code",
   "execution_count": 1,
   "id": "cfb33a9f-356c-4808-a197-9ddad0d4e408",
   "metadata": {},
   "outputs": [
    {
     "name": "stdout",
     "output_type": "stream",
     "text": [
      "'CHIKV_prod6.sqlite' -> 'CHIKV_prod7.sqlite'\n"
     ]
    }
   ],
   "source": [
    "!cp -v CHIKV_prod6.sqlite CHIKV_prod7.sqlite"
   ]
  },
  {
   "cell_type": "code",
   "execution_count": 3,
   "id": "60d6cfe8-de54-4869-b281-d3f4a92fc401",
   "metadata": {},
   "outputs": [
    {
     "name": "stdout",
     "output_type": "stream",
     "text": [
      "\u001b[1m\u001b[38;5;166mCreating HIPPO animal\u001b[0m\n",
      "\u001b[36mname\u001b[0m = \u001b[38;5;154mCHIKV_prod7\u001b[0m\n",
      "\u001b[36mdb_path\u001b[0m = \u001b[38;5;11mCHIKV_prod7.sqlite\u001b[0m\n",
      "\u001b[2mDEBUG: hippo3.Database.__init__()\u001b[0m\n",
      "\u001b[2mDEBUG: Database.path = CHIKV_prod7.sqlite\u001b[0m\n",
      "\u001b[2mDEBUG: hippo3.Database.connect()\u001b[0m\n",
      "\u001b[2mDEBUG: sqlite3.version='2.6.0'\u001b[0m\n",
      "\u001b[7m\u001b[32;1m SUCCESS \u001b[0m\u001b[32;1m Database connected @ \u001b[38;5;11mCHIKV_prod7.sqlite!\u001b[0m\n",
      "\u001b[2mDEBUG: HIPPO.Database.create_table_route()\u001b[0m\n",
      "\u001b[2mDEBUG: HIPPO.Database.create_table_component()\u001b[0m\n",
      "\u001b[7m\u001b[32;1m SUCCESS \u001b[0m\u001b[32;1m Initialised animal HIPPO(\"CHIKV_prod7\")!\u001b[0m\n"
     ]
    }
   ],
   "source": [
    "animal = hippo.HIPPO(\"CHIKV_prod7\", \"CHIKV_prod7.sqlite\")"
   ]
  },
  {
   "cell_type": "code",
   "execution_count": 12,
   "id": "5771b603-39f4-4aca-b75d-9cf6d91083ef",
   "metadata": {},
   "outputs": [],
   "source": [
    "products = animal.compounds(tag=\"Syndirella base\").elabs"
   ]
  },
  {
   "cell_type": "code",
   "execution_count": 13,
   "id": "b1d9dfe9-8cc8-4346-ba28-f14f503e313b",
   "metadata": {},
   "outputs": [
    {
     "data": {
      "text/plain": [
       "\u001b[1m\u001b[4m{C x 76223}\u001b[22m\u001b[24m"
      ]
     },
     "execution_count": 13,
     "metadata": {},
     "output_type": "execute_result"
    }
   ],
   "source": [
    "products"
   ]
  },
  {
   "cell_type": "code",
   "execution_count": 11,
   "id": "1b8d78b1-5359-449b-850e-fc0506ef6f2a",
   "metadata": {},
   "outputs": [
    {
     "name": "stderr",
     "output_type": "stream",
     "text": [
      "0it [00:00, ?it/s]"
     ]
    },
    {
     "name": "stdout",
     "output_type": "stream",
     "text": [
      "\u001b[7m\u001b[31;1m ERROR \u001b[0m\u001b[31;1m No entry in quote with quote_compound=3625!\u001b[0m\n",
      "registered route=2\n"
     ]
    },
    {
     "name": "stderr",
     "output_type": "stream",
     "text": [
      "0it [00:01, ?it/s]\n"
     ]
    },
    {
     "ename": "NotImplementedError",
     "evalue": "",
     "output_type": "error",
     "traceback": [
      "\u001b[0;31m---------------------------------------------------------------------------\u001b[0m",
      "\u001b[0;31mNotImplementedError\u001b[0m                       Traceback (most recent call last)",
      "Cell \u001b[0;32mIn[11], line 25\u001b[0m\n\u001b[1;32m     21\u001b[0m route \u001b[38;5;241m=\u001b[39m animal\u001b[38;5;241m.\u001b[39mregister_route(recipe\u001b[38;5;241m=\u001b[39mrecipe)\n\u001b[1;32m     23\u001b[0m logger\u001b[38;5;241m.\u001b[39minfo(\u001b[38;5;124mf\u001b[39m\u001b[38;5;124m\"\u001b[39m\u001b[38;5;124mregistered \u001b[39m\u001b[38;5;132;01m{\u001b[39;00mroute\u001b[38;5;132;01m=}\u001b[39;00m\u001b[38;5;124m\"\u001b[39m)\n\u001b[0;32m---> 25\u001b[0m \u001b[38;5;28;01mraise\u001b[39;00m \u001b[38;5;167;01mNotImplementedError\u001b[39;00m\n",
      "\u001b[0;31mNotImplementedError\u001b[0m: "
     ]
    }
   ],
   "source": [
    "for i, c in tqdm(enumerate(products)):\n",
    "\n",
    "    try:\n",
    "        reactions = c.reactions\n",
    "    except DatabaseError:\n",
    "        logger.error(f\"Error getting {c}'s reactions\")\n",
    "        continue\n",
    "\n",
    "    for reaction in reactions:\n",
    "\n",
    "        try:\n",
    "            recipes = reaction.get_recipes()\n",
    "        except DatabaseError:\n",
    "            logger.error(f\"Error getting {reaction}'s ({c}) recipes\")\n",
    "            continue\n",
    "\n",
    "        for recipe in recipes:\n",
    "\n",
    "            route = animal.register_route(recipe=recipe)\n",
    "\n",
    "            logger.info(f\"registered {route=}\")\n",
    "\n",
    "            raise NotImplementedError"
   ]
  },
  {
   "cell_type": "code",
   "execution_count": 10,
   "id": "f842de28-268b-47ec-8586-b3868b03ff1b",
   "metadata": {},
   "outputs": [
    {
     "name": "stdout",
     "output_type": "stream",
     "text": [
      "\u001b[1m\u001b[38;5;166mRecipe\u001b[0m\n",
      "\u001b[36m\n",
      "price\u001b[0m = 137.0 \u001b[95mEUR\u001b[0m\n",
      "\u001b[36m\n",
      "#products\u001b[0m = 1\u001b[0m\n",
      "\u001b[36mC3625\u001b[0m = 1.00 \u001b[95mmg\u001b[0m\n",
      "\u001b[36m\n",
      "#intermediates\u001b[0m = 0\u001b[0m\n",
      "\u001b[36m\n",
      "#reactants\u001b[0m = 2\u001b[0m\n",
      "\u001b[36mC4451\u001b[0m = 1.00 \u001b[95mmg\u001b[0m\n",
      "\u001b[36mC4452\u001b[0m = 1.00 \u001b[95mmg\u001b[0m\n",
      "\u001b[36m\n",
      "#reactions\u001b[0m = 1\u001b[0m\n",
      "\u001b[36mR18\u001b[0m = C4451 + C4452 -> C3625 \u001b[95mBuchwald-Hartwig_amination\u001b[0m\n"
     ]
    }
   ],
   "source": [
    "animal.db.get_route(id=1).summary()"
   ]
  },
  {
   "cell_type": "code",
   "execution_count": null,
   "id": "fc1d1d8b-a262-4245-8a2f-d32308fa7dc1",
   "metadata": {},
   "outputs": [],
   "source": []
  }
 ],
 "metadata": {
  "kernelspec": {
   "display_name": "Python [conda env:base] *",
   "language": "python",
   "name": "conda-base-py"
  },
  "language_info": {
   "codemirror_mode": {
    "name": "ipython",
    "version": 3
   },
   "file_extension": ".py",
   "mimetype": "text/x-python",
   "name": "python",
   "nbconvert_exporter": "python",
   "pygments_lexer": "ipython3",
   "version": "3.11.6"
  }
 },
 "nbformat": 4,
 "nbformat_minor": 5
}
