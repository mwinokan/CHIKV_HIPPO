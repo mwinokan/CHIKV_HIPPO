{
 "cells": [
  {
   "cell_type": "markdown",
   "id": "4778b166-11c6-451a-a929-26441c333818",
   "metadata": {},
   "source": [
    "# CHIKV prod7 testing"
   ]
  },
  {
   "cell_type": "code",
   "execution_count": 1,
   "id": "a80f1201-c282-4970-8595-b5cd61110b16",
   "metadata": {},
   "outputs": [],
   "source": [
    "%load_ext autoreload\n",
    "%autoreload 2\n",
    "import hippo\n",
    "from pathlib import Path\n",
    "from mlog import setup_logger\n",
    "import pandas as pd\n",
    "import numpy as np\n",
    "import molparse as mp\n",
    "from sqlite3 import DatabaseError\n",
    "from tqdm import tqdm\n",
    "logger=setup_logger('notebook')"
   ]
  },
  {
   "cell_type": "code",
   "execution_count": 1,
   "id": "cfb33a9f-356c-4808-a197-9ddad0d4e408",
   "metadata": {},
   "outputs": [
    {
     "name": "stdout",
     "output_type": "stream",
     "text": [
      "'CHIKV_prod6.sqlite' -> 'CHIKV_prod7.sqlite'\n"
     ]
    }
   ],
   "source": [
    "# !cp -v CHIKV_prod6.sqlite CHIKV_prod7.sqlite"
   ]
  },
  {
   "cell_type": "code",
   "execution_count": 2,
   "id": "60d6cfe8-de54-4869-b281-d3f4a92fc401",
   "metadata": {},
   "outputs": [
    {
     "name": "stdout",
     "output_type": "stream",
     "text": [
      "\u001b[1m\u001b[38;5;166mCreating HIPPO animal\u001b[0m\n",
      "\u001b[36mname\u001b[0m = \u001b[38;5;154mCHIKV_prod7\u001b[0m\n",
      "\u001b[36mdb_path\u001b[0m = \u001b[38;5;11mCHIKV_prod7.sqlite\u001b[0m\n",
      "\u001b[7m\u001b[38;5;166m\u001b[1m Warning \u001b[0m\u001b[38;5;166m Overwriting CHIKV_prod7.sqlite\u001b[0m\n",
      "Copying CHIKV_prod6.sqlite --> CHIKV_prod7.sqlite\n",
      "\u001b[2mDEBUG: Copied 10000 of 159329 pages...\u001b[0m\n",
      "\u001b[2mDEBUG: Copied 20000 of 159329 pages...\u001b[0m\n",
      "\u001b[2mDEBUG: Copied 30000 of 159329 pages...\u001b[0m\n",
      "\u001b[2mDEBUG: Copied 40000 of 159329 pages...\u001b[0m\n",
      "\u001b[2mDEBUG: Copied 50000 of 159329 pages...\u001b[0m\n",
      "\u001b[2mDEBUG: Copied 60000 of 159329 pages...\u001b[0m\n",
      "\u001b[2mDEBUG: Copied 70000 of 159329 pages...\u001b[0m\n",
      "\u001b[2mDEBUG: Copied 80000 of 159329 pages...\u001b[0m\n",
      "\u001b[2mDEBUG: Copied 90000 of 159329 pages...\u001b[0m\n",
      "\u001b[2mDEBUG: Copied 100000 of 159329 pages...\u001b[0m\n",
      "\u001b[2mDEBUG: Copied 110000 of 159329 pages...\u001b[0m\n",
      "\u001b[2mDEBUG: Copied 120000 of 159329 pages...\u001b[0m\n",
      "\u001b[2mDEBUG: Copied 130000 of 159329 pages...\u001b[0m\n",
      "\u001b[2mDEBUG: Copied 140000 of 159329 pages...\u001b[0m\n",
      "\u001b[2mDEBUG: Copied 150000 of 159329 pages...\u001b[0m\n",
      "\u001b[2mDEBUG: Copied 159329 of 159329 pages...\u001b[0m\n",
      "\u001b[2mDEBUG: hippo3.Database.__init__()\u001b[0m\n",
      "\u001b[2mDEBUG: Database.path = CHIKV_prod7.sqlite\u001b[0m\n",
      "\u001b[2mDEBUG: hippo3.Database.connect()\u001b[0m\n",
      "\u001b[2mDEBUG: sqlite3.version='2.6.0'\u001b[0m\n",
      "\u001b[7m\u001b[32;1m SUCCESS \u001b[0m\u001b[32;1m Database connected @ \u001b[38;5;11mCHIKV_prod7.sqlite!\u001b[0m\n",
      "\u001b[7m\u001b[32;1m SUCCESS \u001b[0m\u001b[32;1m Initialised animal HIPPO(\"CHIKV_prod7\")!\u001b[0m\n"
     ]
    }
   ],
   "source": [
    "animal = hippo.HIPPO(\"CHIKV_prod7\", \"CHIKV_prod7.sqlite\", copy_from=\"CHIKV_prod6.sqlite\", overwrite_existing=True)"
   ]
  },
  {
   "cell_type": "code",
   "execution_count": 3,
   "id": "5771b603-39f4-4aca-b75d-9cf6d91083ef",
   "metadata": {},
   "outputs": [],
   "source": [
    "products = animal.compounds(tag=\"Syndirella base\").elabs"
   ]
  },
  {
   "cell_type": "code",
   "execution_count": 4,
   "id": "b1d9dfe9-8cc8-4346-ba28-f14f503e313b",
   "metadata": {},
   "outputs": [
    {
     "data": {
      "text/plain": [
       "\u001b[1m\u001b[4m{C x 76223}\u001b[22m\u001b[24m"
      ]
     },
     "execution_count": 4,
     "metadata": {},
     "output_type": "execute_result"
    }
   ],
   "source": [
    "products"
   ]
  },
  {
   "cell_type": "code",
   "execution_count": 6,
   "id": "1b8d78b1-5359-449b-850e-fc0506ef6f2a",
   "metadata": {},
   "outputs": [
    {
     "name": "stderr",
     "output_type": "stream",
     "text": [
      "0it [00:00, ?it/s]"
     ]
    },
    {
     "name": "stdout",
     "output_type": "stream",
     "text": [
      "\u001b[7m\u001b[31;1m ERROR \u001b[0m\u001b[31;1m No entry in quote with quote_compound=3625!\u001b[0m\n",
      "registered route=2\n"
     ]
    },
    {
     "name": "stderr",
     "output_type": "stream",
     "text": [
      "0it [00:00, ?it/s]\n"
     ]
    }
   ],
   "source": [
    "for i, c in tqdm(enumerate(products)):\n",
    "\n",
    "    try:\n",
    "        reactions = c.reactions\n",
    "    except DatabaseError:\n",
    "        logger.error(f\"Error getting {c}'s reactions\")\n",
    "        continue\n",
    "\n",
    "    for reaction in reactions:\n",
    "\n",
    "        try:\n",
    "            recipes = reaction.get_recipes()\n",
    "        except DatabaseError:\n",
    "            logger.error(f\"Error getting {reaction}'s ({c}) recipes\")\n",
    "            continue\n",
    "\n",
    "        for recipe in recipes:\n",
    "\n",
    "            route = animal.register_route(recipe=recipe)\n",
    "\n",
    "            logger.info(f\"registered {route=}\")\n",
    "\n",
    "            break\n",
    "\n",
    "    break"
   ]
  },
  {
   "cell_type": "code",
   "execution_count": 7,
   "id": "f842de28-268b-47ec-8586-b3868b03ff1b",
   "metadata": {},
   "outputs": [
    {
     "name": "stdout",
     "output_type": "stream",
     "text": [
      "\u001b[1m\u001b[38;5;166mRecipe\u001b[0m\n",
      "\n",
      "price 137.0 {'unit': 'EUR'}\n",
      "\u001b[36m\n",
      "#products\u001b[0m = 1\u001b[0m\n",
      "C3625 1.00 {'unit': 'mg'}\n",
      "\u001b[36m\n",
      "#intermediates\u001b[0m = 0\u001b[0m\n",
      "\u001b[36m\n",
      "#reactants\u001b[0m = 2\u001b[0m\n",
      "C4451 10.00 {'unit': 'mg'}\n",
      "C4452 10.00 {'unit': 'mg'}\n",
      "\u001b[36m\n",
      "#reactions\u001b[0m = 1\u001b[0m\n",
      "R18 C4451 + C4452 -> C3625 {'unit': 'Buchwald-Hartwig_amination'}\n"
     ]
    }
   ],
   "source": [
    "animal.db.get_route(id=1).summary()"
   ]
  },
  {
   "cell_type": "code",
   "execution_count": 8,
   "id": "fc1d1d8b-a262-4245-8a2f-d32308fa7dc1",
   "metadata": {},
   "outputs": [
    {
     "data": {
      "text/plain": [
       "[(1, 1, 1, 18, None), (2, 1, 2, 4451, 10.0), (3, 1, 2, 4452, 10.0)]"
      ]
     },
     "execution_count": 8,
     "metadata": {},
     "output_type": "execute_result"
    }
   ],
   "source": [
    "animal.db.select_all_where(table='component', key='component_route=1', multiple=True)"
   ]
  },
  {
   "cell_type": "code",
   "execution_count": null,
   "id": "fb430b4d-397d-4cf0-96aa-8cad767c90ef",
   "metadata": {},
   "outputs": [],
   "source": []
  }
 ],
 "metadata": {
  "kernelspec": {
   "display_name": "Python [conda env:base] *",
   "language": "python",
   "name": "conda-base-py"
  },
  "language_info": {
   "codemirror_mode": {
    "name": "ipython",
    "version": 3
   },
   "file_extension": ".py",
   "mimetype": "text/x-python",
   "name": "python",
   "nbconvert_exporter": "python",
   "pygments_lexer": "ipython3",
   "version": "3.11.6"
  }
 },
 "nbformat": 4,
 "nbformat_minor": 5
}
