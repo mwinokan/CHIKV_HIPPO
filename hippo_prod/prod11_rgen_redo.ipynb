{
 "cells": [
  {
   "cell_type": "markdown",
   "id": "e80f98e7-10d9-49ff-a80b-f36c160c1e29",
   "metadata": {},
   "source": [
    "# CHIKV_Mac HIPPO FFF Prod. 11 (rgen redo)"
   ]
  },
  {
   "cell_type": "markdown",
   "id": "a61f5fb0-ad17-4a68-8d3b-6399a6413e42",
   "metadata": {},
   "source": [
    "## Setup"
   ]
  },
  {
   "cell_type": "code",
   "execution_count": 1,
   "id": "b1125662-7763-4b2d-ad01-2af2931508ce",
   "metadata": {},
   "outputs": [],
   "source": [
    "%load_ext autoreload\n",
    "%autoreload 2\n",
    "import hippo\n",
    "from pathlib import Path\n",
    "from mlog import setup_logger\n",
    "import pandas as pd\n",
    "import numpy as np\n",
    "import molparse as mp\n",
    "logger=setup_logger('notebook')"
   ]
  },
  {
   "cell_type": "code",
   "execution_count": 2,
   "id": "80f578e0-1942-416c-81c3-d2fac0d4a022",
   "metadata": {},
   "outputs": [
    {
     "name": "stdout",
     "output_type": "stream",
     "text": [
      "\u001b[1m\u001b[38;5;166mCreating HIPPO animal\u001b[0m\n",
      "\u001b[36mname\u001b[0m = \u001b[38;5;154mCHIKV_prod11\u001b[0m\n",
      "\u001b[36mdb_path\u001b[0m = \u001b[38;5;11mCHIKV_prod11.sqlite\u001b[0m\n",
      "Copying CHIKV_prod10.sqlite --> CHIKV_prod11.sqlite\n",
      "\u001b[2mDEBUG: Copied 10000 of 161313 pages...\u001b[0m\n",
      "\u001b[2mDEBUG: Copied 20000 of 161313 pages...\u001b[0m\n",
      "\u001b[2mDEBUG: Copied 30000 of 161313 pages...\u001b[0m\n",
      "\u001b[2mDEBUG: Copied 40000 of 161313 pages...\u001b[0m\n",
      "\u001b[2mDEBUG: Copied 50000 of 161313 pages...\u001b[0m\n",
      "\u001b[2mDEBUG: Copied 60000 of 161313 pages...\u001b[0m\n",
      "\u001b[2mDEBUG: Copied 70000 of 161313 pages...\u001b[0m\n",
      "\u001b[2mDEBUG: Copied 80000 of 161313 pages...\u001b[0m\n",
      "\u001b[2mDEBUG: Copied 90000 of 161313 pages...\u001b[0m\n",
      "\u001b[2mDEBUG: Copied 100000 of 161313 pages...\u001b[0m\n",
      "\u001b[2mDEBUG: Copied 110000 of 161313 pages...\u001b[0m\n",
      "\u001b[2mDEBUG: Copied 120000 of 161313 pages...\u001b[0m\n",
      "\u001b[2mDEBUG: Copied 130000 of 161313 pages...\u001b[0m\n",
      "\u001b[2mDEBUG: Copied 140000 of 161313 pages...\u001b[0m\n",
      "\u001b[2mDEBUG: Copied 150000 of 161313 pages...\u001b[0m\n",
      "\u001b[2mDEBUG: Copied 160000 of 161313 pages...\u001b[0m\n",
      "\u001b[2mDEBUG: Copied 161313 of 161313 pages...\u001b[0m\n",
      "\u001b[2mDEBUG: hippo3.Database.__init__()\u001b[0m\n",
      "\u001b[2mDEBUG: Database.path = CHIKV_prod11.sqlite\u001b[0m\n",
      "\u001b[2mDEBUG: hippo3.Database.connect()\u001b[0m\n",
      "\u001b[2mDEBUG: sqlite3.version='2.6.0'\u001b[0m\n",
      "\u001b[7m\u001b[32;1m SUCCESS \u001b[0m\u001b[32;1m Database connected @ \u001b[38;5;11mCHIKV_prod11.sqlite!\u001b[0m\n",
      "\u001b[7m\u001b[32;1m SUCCESS \u001b[0m\u001b[32;1m Initialised animal HIPPO(\"CHIKV_prod11\")!\u001b[0m\n"
     ]
    }
   ],
   "source": [
    "animal = hippo.HIPPO('CHIKV_prod11', 'CHIKV_prod11.sqlite', copy_from='CHIKV_prod10.sqlite', overwrite_existing=False)"
   ]
  },
  {
   "cell_type": "markdown",
   "id": "6e28bb59-8335-43f0-bb5a-48ead6de913d",
   "metadata": {},
   "source": [
    "## Create the RRG"
   ]
  },
  {
   "cell_type": "code",
   "execution_count": 3,
   "id": "872a7e58-9faf-4815-929e-c2c91b26b68c",
   "metadata": {},
   "outputs": [
    {
     "name": "stdout",
     "output_type": "stream",
     "text": [
      "\u001b[7m\u001b[1m\u001b[38;5;11m DISK \u001b[0m Reading \u001b[38;5;11mCHIKV_prod8_recipes/Recipe_1G87NWP.json\u001b[0m\n",
      "\u001b[36msession\u001b[0m = /opt/xchem-fragalysis-2/maxwin/CHIKV_HIPPO/hippo_prod/CHIKV_prod11.sqlite\u001b[0m\n",
      "\u001b[36min file\u001b[0m = /opt/xchem-fragalysis-2/maxwin/CHIKV_HIPPO/hippo_prod/CHIKV_prod9.sqlite\u001b[0m\n",
      "\u001b[7m\u001b[38;5;166m\u001b[1m Warning \u001b[0m\u001b[38;5;166m Database path mismatch\u001b[0m\n",
      "Recipe was generated at: 2024-10-02 15:15:05.325711\n",
      "\u001b[36mreactants\u001b[0m = \u001b[1m\u001b[4m{I x 125}\u001b[22m\u001b[24m\u001b[0m\n",
      "\u001b[36mintermediates\u001b[0m = \u001b[1m\u001b[4m{I x 0}\u001b[22m\u001b[24m\u001b[0m\n",
      "\u001b[36mproducts\u001b[0m = \u001b[1m\u001b[4m{I x 234}\u001b[22m\u001b[24m\u001b[0m\n",
      "\u001b[36mreactions\u001b[0m = \u001b[1m\u001b[4m{R x 235}\u001b[22m\u001b[24m\u001b[0m\n"
     ]
    }
   ],
   "source": [
    "recipe = hippo.Recipe.from_json(animal.db, 'CHIKV_prod8_recipes/Recipe_1G87NWP.json', allow_db_mismatch=True)"
   ]
  },
  {
   "cell_type": "code",
   "execution_count": null,
   "id": "aa63af33-2edf-4703-ac9d-6695749ca604",
   "metadata": {},
   "outputs": [
    {
     "name": "stdout",
     "output_type": "stream",
     "text": [
      "\u001b[2mDEBUG: RandomRecipeGenerator.__init__()\u001b[0m\n",
      "\u001b[36mdatabase\u001b[0m = CHIKV_prod11.sqlite\u001b[0m\n",
      "\u001b[36mmax_lead_time\u001b[0m = None\u001b[0m\n",
      "\u001b[36msuppliers\u001b[0m = ['Stock', 'Enamine']\u001b[0m\n",
      "\u001b[7m\u001b[1m\u001b[38;5;11m DISK \u001b[0m Writing \u001b[38;5;11mCHIKV_prod11_recipes/\u001b[0m\n",
      "\u001b[2mDEBUG: Solving route pool...\u001b[0m\n"
     ]
    },
    {
     "name": "stderr",
     "output_type": "stream",
     "text": [
      " 28%|██▊       | 2144/7664 [00:12<00:35, 155.14it/s]"
     ]
    }
   ],
   "source": [
    "gen = hippo.RandomRecipeGenerator(db=animal.db, start_with=recipe, suppliers=['Stock', 'Enamine'])"
   ]
  },
  {
   "cell_type": "code",
   "execution_count": null,
   "id": "9c79e07a-1aa2-44d0-ad19-4d3b8c18ed6a",
   "metadata": {},
   "outputs": [],
   "source": [
    "gen = hippo.RandomRecipeGenerator.from_json(animal.db, \"CHIKV_prod8_rgen.json\")"
   ]
  },
  {
   "cell_type": "markdown",
   "id": "ef22607c-bc74-4804-bc60-d64ea6eea061",
   "metadata": {},
   "source": [
    "## Check Quotes / Fingerprints"
   ]
  },
  {
   "cell_type": "code",
   "execution_count": null,
   "id": "d913d3f5-4b98-4d72-9f2f-d1bca0f326bb",
   "metadata": {},
   "outputs": [],
   "source": [
    "animal.db.select_where(table='quote', query='AVG(quote_amount), COUNT(DISTINCT quote_compound)', key='supplier', value='Stock')"
   ]
  },
  {
   "cell_type": "code",
   "execution_count": null,
   "id": "0f4c3f84-3346-4c64-a161-f119a37b03c4",
   "metadata": {},
   "outputs": [],
   "source": [
    "animal.db.select_where(table='interaction', query='COUNT(DISTINCT interaction_pose)', key='interaction_id IS NOT NULL')"
   ]
  },
  {
   "cell_type": "code",
   "execution_count": null,
   "id": "4517d8b2-b14d-43b9-bd2f-29fbbde14108",
   "metadata": {},
   "outputs": [],
   "source": [
    "animal.poses"
   ]
  },
  {
   "cell_type": "code",
   "execution_count": null,
   "id": "3611b5ea-9ee0-41f7-860b-2743afca0a3d",
   "metadata": {},
   "outputs": [],
   "source": [
    "animal.db.select_where(table='pose', query='COUNT(DISTINCT pose_reference)', key='pose_id IS NOT NULL')"
   ]
  },
  {
   "cell_type": "code",
   "execution_count": null,
   "id": "516ed3db-54ba-4458-a38a-0daf39f287bc",
   "metadata": {},
   "outputs": [],
   "source": [
    "animal.db.count('route')"
   ]
  },
  {
   "cell_type": "code",
   "execution_count": null,
   "id": "d2940e2c-11fb-4099-92d2-ce7a8e321424",
   "metadata": {
    "jupyter": {
     "source_hidden": true
    }
   },
   "outputs": [],
   "source": [
    "gen.route_pool"
   ]
  },
  {
   "cell_type": "markdown",
   "id": "1bc59d50-5f2c-434c-a2ac-dac4e1094be8",
   "metadata": {},
   "source": [
    "# Test generation"
   ]
  },
  {
   "cell_type": "code",
   "execution_count": null,
   "id": "d95d6535-bcb7-427d-a6af-95a8218db337",
   "metadata": {},
   "outputs": [],
   "source": [
    "r = gen.generate(shuffle=False, budget=30000, max_products=1200, max_reactions=3000, currency='EUR', debug=False)"
   ]
  },
  {
   "cell_type": "code",
   "execution_count": 40,
   "id": "c45665ae-0679-4710-ad23-88a88f6d9590",
   "metadata": {},
   "outputs": [
    {
     "data": {
      "text/html": [
       "<div>\n",
       "<style scoped>\n",
       "    .dataframe tbody tr th:only-of-type {\n",
       "        vertical-align: middle;\n",
       "    }\n",
       "\n",
       "    .dataframe tbody tr th {\n",
       "        vertical-align: top;\n",
       "    }\n",
       "\n",
       "    .dataframe thead th {\n",
       "        text-align: right;\n",
       "    }\n",
       "</style>\n",
       "<table border=\"1\" class=\"dataframe\">\n",
       "  <thead>\n",
       "    <tr style=\"text-align: right;\">\n",
       "      <th></th>\n",
       "      <th>compound_id</th>\n",
       "      <th>amount</th>\n",
       "      <th>quote_id</th>\n",
       "      <th>supplier</th>\n",
       "      <th>max_lead_time</th>\n",
       "      <th>quoted_amount</th>\n",
       "    </tr>\n",
       "  </thead>\n",
       "  <tbody>\n",
       "    <tr>\n",
       "      <th>0</th>\n",
       "      <td>85</td>\n",
       "      <td>60.0</td>\n",
       "      <td>10539</td>\n",
       "      <td>Enamine</td>\n",
       "      <td>None</td>\n",
       "      <td>100.0</td>\n",
       "    </tr>\n",
       "    <tr>\n",
       "      <th>1</th>\n",
       "      <td>4554</td>\n",
       "      <td>10.0</td>\n",
       "      <td>65</td>\n",
       "      <td>Enamine</td>\n",
       "      <td>None</td>\n",
       "      <td>20.0</td>\n",
       "    </tr>\n",
       "    <tr>\n",
       "      <th>2</th>\n",
       "      <td>4466</td>\n",
       "      <td>1.0</td>\n",
       "      <td>36</td>\n",
       "      <td>Enamine</td>\n",
       "      <td>None</td>\n",
       "      <td>20.0</td>\n",
       "    </tr>\n",
       "    <tr>\n",
       "      <th>3</th>\n",
       "      <td>4467</td>\n",
       "      <td>1.0</td>\n",
       "      <td>37</td>\n",
       "      <td>Enamine</td>\n",
       "      <td>None</td>\n",
       "      <td>20.0</td>\n",
       "    </tr>\n",
       "    <tr>\n",
       "      <th>4</th>\n",
       "      <td>4440</td>\n",
       "      <td>10.0</td>\n",
       "      <td>25</td>\n",
       "      <td>Enamine</td>\n",
       "      <td>None</td>\n",
       "      <td>20.0</td>\n",
       "    </tr>\n",
       "    <tr>\n",
       "      <th>...</th>\n",
       "      <td>...</td>\n",
       "      <td>...</td>\n",
       "      <td>...</td>\n",
       "      <td>...</td>\n",
       "      <td>...</td>\n",
       "      <td>...</td>\n",
       "    </tr>\n",
       "    <tr>\n",
       "      <th>181</th>\n",
       "      <td>52819</td>\n",
       "      <td>1.0</td>\n",
       "      <td>4096</td>\n",
       "      <td>[Stock, Enamine]</td>\n",
       "      <td>None</td>\n",
       "      <td>20.0</td>\n",
       "    </tr>\n",
       "    <tr>\n",
       "      <th>182</th>\n",
       "      <td>52829</td>\n",
       "      <td>1.0</td>\n",
       "      <td>4098</td>\n",
       "      <td>[Stock, Enamine]</td>\n",
       "      <td>None</td>\n",
       "      <td>20.0</td>\n",
       "    </tr>\n",
       "    <tr>\n",
       "      <th>183</th>\n",
       "      <td>78836</td>\n",
       "      <td>1.0</td>\n",
       "      <td>5033</td>\n",
       "      <td>[Stock, Enamine]</td>\n",
       "      <td>None</td>\n",
       "      <td>20.0</td>\n",
       "    </tr>\n",
       "    <tr>\n",
       "      <th>184</th>\n",
       "      <td>78868</td>\n",
       "      <td>1.0</td>\n",
       "      <td>5040</td>\n",
       "      <td>[Stock, Enamine]</td>\n",
       "      <td>None</td>\n",
       "      <td>20.0</td>\n",
       "    </tr>\n",
       "    <tr>\n",
       "      <th>185</th>\n",
       "      <td>78851</td>\n",
       "      <td>1.0</td>\n",
       "      <td>5037</td>\n",
       "      <td>[Stock, Enamine]</td>\n",
       "      <td>None</td>\n",
       "      <td>20.0</td>\n",
       "    </tr>\n",
       "  </tbody>\n",
       "</table>\n",
       "<p>186 rows × 6 columns</p>\n",
       "</div>"
      ],
      "text/plain": [
       "    compound_id amount quote_id          supplier max_lead_time quoted_amount\n",
       "0            85   60.0    10539           Enamine          None         100.0\n",
       "1          4554   10.0       65           Enamine          None          20.0\n",
       "2          4466    1.0       36           Enamine          None          20.0\n",
       "3          4467    1.0       37           Enamine          None          20.0\n",
       "4          4440   10.0       25           Enamine          None          20.0\n",
       "..          ...    ...      ...               ...           ...           ...\n",
       "181       52819    1.0     4096  [Stock, Enamine]          None          20.0\n",
       "182       52829    1.0     4098  [Stock, Enamine]          None          20.0\n",
       "183       78836    1.0     5033  [Stock, Enamine]          None          20.0\n",
       "184       78868    1.0     5040  [Stock, Enamine]          None          20.0\n",
       "185       78851    1.0     5037  [Stock, Enamine]          None          20.0\n",
       "\n",
       "[186 rows x 6 columns]"
      ]
     },
     "execution_count": 40,
     "metadata": {},
     "output_type": "execute_result"
    }
   ],
   "source": [
    "r.reactants.df"
   ]
  },
  {
   "cell_type": "markdown",
   "id": "a632c69d-fdb5-4757-af02-a00392283455",
   "metadata": {
    "jp-MarkdownHeadingCollapsed": true
   },
   "source": [
    "## Check why impossible routes are in the pool"
   ]
  },
  {
   "cell_type": "code",
   "execution_count": null,
   "id": "12c36f67-92db-45a3-ac8a-4e9db39d3658",
   "metadata": {},
   "outputs": [],
   "source": [
    "sql = \"\"\"\n",
    "WITH possible_reactants AS (\n",
    "\t\t\tSELECT quote_compound, COUNT(CASE WHEN quote_supplier IN (\"Enamine\", \"Stock\") THEN 1 END) AS [count_valid] FROM quote\n",
    "\t\t\tGROUP BY quote_compound\n",
    "\t\t),\n",
    "\n",
    "\t\troute_reactants AS (\n",
    "\t\t\tSELECT route_id, route_product, COUNT(CASE WHEN count_valid = 0 THEN 1 WHEN count_valid IS NULL THEN 1 END) AS [count_unavailable] FROM route\n",
    "\t\t\tINNER JOIN component ON component_route = route_id\n",
    "\t\t\tLEFT JOIN possible_reactants ON quote_compound = component_ref\n",
    "\t\t\tWHERE component_type = 2\n",
    "\t\t\tGROUP BY route_id\n",
    "\t\t)\n",
    "\n",
    "SELECT COUNT(route_id) FROM route_reactants\n",
    "WHERE count_unavailable = 0\n",
    "\"\"\"\n",
    "# AND route_id = 77365\n",
    "\n",
    "c = animal.db.execute(sql)\n",
    "\n",
    "results = c.fetchall()\n",
    "results"
   ]
  },
  {
   "cell_type": "code",
   "execution_count": null,
   "id": "3c1933d6-5b52-4e86-95f1-d564888cd669",
   "metadata": {},
   "outputs": [],
   "source": [
    "sql = \"\"\"\n",
    "WITH possible_reactants AS (\n",
    "\t\t\tSELECT quote_compound, COUNT(CASE WHEN quote_supplier IN (\"Enamine\", \"Stock\") THEN 1 END) AS [count_valid] FROM quote\n",
    "\t\t\tGROUP BY quote_compound\n",
    "\t\t),\n",
    "\n",
    "\t\troute_reactants AS (\n",
    "\t\t\tSELECT route_id, route_product, count_valid, COUNT(CASE WHEN count_valid = 0 THEN 1 END) AS [count_unavailable] FROM route\n",
    "\t\t\tINNER JOIN component ON component_route = route_id\n",
    "\t\t\tLEFT JOIN possible_reactants ON quote_compound = component_ref\n",
    "\t\t\tWHERE component_type = 2\n",
    "            GROUP BY route_id\n",
    "\t\t)\n",
    "\n",
    "SELECT route_id FROM route_reactants\n",
    "WHERE count_unavailable = 0\n",
    "\"\"\"\n",
    "\n",
    "c = animal.db.execute(sql)\n",
    "\n",
    "results = c.fetchone()\n",
    "results"
   ]
  },
  {
   "cell_type": "code",
   "execution_count": null,
   "id": "c47936d6-d171-40b8-930e-794689b6ed4d",
   "metadata": {},
   "outputs": [],
   "source": [
    "sql = \"\"\"\n",
    "WITH possible_reactants AS (\n",
    "\t\t\tSELECT quote_compound, COUNT(CASE WHEN quote_supplier IN (\"Enamine\", \"Stock\") THEN 1 END) AS [count_valid] FROM quote\n",
    "\t\t\tGROUP BY quote_compound\n",
    "\t\t),\n",
    "\n",
    "\t\troute_reactants AS (\n",
    "\t\t\tSELECT route_id, route_product, component_ref, count_valid, COUNT(CASE WHEN count_valid = 0 THEN 1 WHEN count_valid IS NULL THEN 1 END) AS [count_unavailable] FROM route\n",
    "\t\t\tINNER JOIN component ON component_route = route_id\n",
    "\t\t\tLEFT JOIN possible_reactants ON quote_compound = component_ref\n",
    "\t\t\tWHERE component_type = 2\n",
    "            AND route_id = 77365\n",
    "            GROUP BY route_id\n",
    "\t\t)\n",
    "\n",
    "SELECT * FROM route_reactants\n",
    "\"\"\"\n",
    "\n",
    "c = animal.db.execute(sql)\n",
    "\n",
    "results = c.fetchall()\n",
    "results"
   ]
  },
  {
   "cell_type": "code",
   "execution_count": null,
   "id": "a78291c6-3643-4c7a-b8e8-ff3ea30f2372",
   "metadata": {},
   "outputs": [],
   "source": [
    "animal.db.execute(\"\"\"\n",
    "SELECT quote_compound, CASE WHEN quote_supplier IN (\"Enamine\", \"Stock\") THEN 1 END AS [count_valid] FROM quote\n",
    "WHERE quote_compound IN (4574,91477)\n",
    "\"\"\").fetchall()"
   ]
  },
  {
   "cell_type": "code",
   "execution_count": null,
   "id": "e57d7e3d-94e9-4a73-8c6a-0516c83238e6",
   "metadata": {},
   "outputs": [],
   "source": [
    "animal.db.execute(\"\"\"\n",
    "\n",
    "\"\"\").fetchall()"
   ]
  },
  {
   "cell_type": "code",
   "execution_count": null,
   "id": "f8e6f19e-920c-4447-850b-9eb940bd43c7",
   "metadata": {},
   "outputs": [],
   "source": [
    "route_ids = [r[0] for r in results]\n",
    "route_products = [r[1] for r in results]\n",
    "count_unavailable = [r[2] for r in results]\n",
    "len(route_ids)"
   ]
  },
  {
   "cell_type": "code",
   "execution_count": null,
   "id": "0c3bd668-f8c7-4cc5-bf29-dfcab4b9b192",
   "metadata": {},
   "outputs": [],
   "source": [
    "animal.db.get_route(id=1).reactant"
   ]
  },
  {
   "cell_type": "code",
   "execution_count": null,
   "id": "5c7b8304-f0e5-4a75-a15a-8f69a54d6f75",
   "metadata": {},
   "outputs": [],
   "source": [
    "animal.C91478.reactions[0].reactants.ids"
   ]
  },
  {
   "cell_type": "code",
   "execution_count": null,
   "id": "5081e4e3-b706-480e-b8a9-64a210d6e8f1",
   "metadata": {},
   "outputs": [],
   "source": [
    "route_id = 77365\n",
    "route_id in route_ids"
   ]
  },
  {
   "cell_type": "code",
   "execution_count": null,
   "id": "d12fca5c-826c-4035-a340-c8135350714a",
   "metadata": {},
   "outputs": [],
   "source": [
    "animal.C4574.get_quotes(df=True)"
   ]
  },
  {
   "cell_type": "code",
   "execution_count": null,
   "id": "a1ba4241-0c7a-4700-a50e-3d2bac0f27b6",
   "metadata": {},
   "outputs": [],
   "source": [
    "animal.db.get_route(id=670).reactions.types"
   ]
  },
  {
   "cell_type": "code",
   "execution_count": null,
   "id": "ea134797-ca5b-49dc-a2c5-c144de1dbd4b",
   "metadata": {},
   "outputs": [],
   "source": []
  },
  {
   "cell_type": "code",
   "execution_count": null,
   "id": "fcb3eae3-bdf0-4f77-abd5-24038a17b1bc",
   "metadata": {},
   "outputs": [],
   "source": []
  },
  {
   "cell_type": "markdown",
   "id": "00118ec6-c994-4fb9-be83-5c4e3249d733",
   "metadata": {
    "jp-MarkdownHeadingCollapsed": true
   },
   "source": [
    "# Check missing multi-step chemistry"
   ]
  },
  {
   "cell_type": "code",
   "execution_count": null,
   "id": "9ff9754e-5513-44f9-a320-fce003582e1f",
   "metadata": {},
   "outputs": [],
   "source": [
    "inchi = 'YIIMVUSFSKUYCA-UHFFFAOYSA-N'\n",
    "inchi = 'XXPRWRCNORVHSY-UHFFFAOYSA-N'"
   ]
  },
  {
   "cell_type": "code",
   "execution_count": null,
   "id": "390ec760-d9d7-45c0-8376-6d0e2bc41312",
   "metadata": {},
   "outputs": [],
   "source": [
    "c = animal.compounds[inchi]\n",
    "c"
   ]
  },
  {
   "cell_type": "code",
   "execution_count": null,
   "id": "bfb9a78d-1fd7-494d-83c9-5dbf4ff1078f",
   "metadata": {},
   "outputs": [],
   "source": [
    "recipes = c.get_recipes(quoted_only=False)\n",
    "len(recipes)"
   ]
  },
  {
   "cell_type": "code",
   "execution_count": null,
   "id": "757b9c7e-3c9d-463a-8867-961ebb264d9f",
   "metadata": {},
   "outputs": [],
   "source": [
    "recipe = recipes[0]"
   ]
  },
  {
   "cell_type": "code",
   "execution_count": null,
   "id": "6660f150-6c9a-41e6-9736-012a372cc03e",
   "metadata": {},
   "outputs": [],
   "source": [
    "recipe.sankey()"
   ]
  },
  {
   "cell_type": "code",
   "execution_count": null,
   "id": "826ddce6-b131-43c4-b853-85cd0324c397",
   "metadata": {},
   "outputs": [],
   "source": [
    "recipe.reactions.summary()"
   ]
  },
  {
   "cell_type": "code",
   "execution_count": null,
   "id": "d6bd8931-8927-47c3-8b39-4485fb7c3a9e",
   "metadata": {},
   "outputs": [],
   "source": [
    "animal.C4449.get_quotes(df=True)"
   ]
  },
  {
   "cell_type": "code",
   "execution_count": null,
   "id": "7a786349-805c-4134-ae3e-4b2cf2ad259c",
   "metadata": {},
   "outputs": [],
   "source": [
    "animal.C4497.get_quotes(df=True)"
   ]
  },
  {
   "cell_type": "code",
   "execution_count": null,
   "id": "d72662d0-e1aa-4a6d-ad32-db8dfc77d784",
   "metadata": {},
   "outputs": [],
   "source": [
    "animal.C4499.get_quotes(df=True)"
   ]
  },
  {
   "cell_type": "code",
   "execution_count": null,
   "id": "92dba675-3191-47c9-8e33-763cec664108",
   "metadata": {},
   "outputs": [],
   "source": [
    "animal.db.select_all_where(table='quote', key='entry', value='EN300-41185')"
   ]
  },
  {
   "cell_type": "code",
   "execution_count": null,
   "id": "70287aa6-036a-4e1b-a259-ed96ecab22f9",
   "metadata": {},
   "outputs": [],
   "source": [
    "animal.C4499.draw()"
   ]
  },
  {
   "cell_type": "code",
   "execution_count": null,
   "id": "92700e6a-f6c1-4a66-966b-08bca026f8f3",
   "metadata": {},
   "outputs": [],
   "source": [
    "animal.C4499.smiles"
   ]
  },
  {
   "cell_type": "code",
   "execution_count": null,
   "id": "34fcfb9e-8c4e-42a2-9afa-e38fa08b8078",
   "metadata": {},
   "outputs": [],
   "source": [
    "animal.compounds(smiles='CNCC(N)=O.HCl')"
   ]
  },
  {
   "cell_type": "code",
   "execution_count": null,
   "id": "d7329352-fdc5-4180-a970-6ec5d34621ed",
   "metadata": {},
   "outputs": [],
   "source": [
    "c.draw()"
   ]
  },
  {
   "cell_type": "code",
   "execution_count": null,
   "id": "f73acebf-4427-46b1-b97a-58fe134edbba",
   "metadata": {},
   "outputs": [],
   "source": [
    "c.poses.interactive()"
   ]
  },
  {
   "cell_type": "code",
   "execution_count": null,
   "id": "70e36591-3cd2-4709-8178-5575e3876412",
   "metadata": {},
   "outputs": [],
   "source": [
    "animal.P6264.render()"
   ]
  },
  {
   "cell_type": "code",
   "execution_count": null,
   "id": "b95e0d4e-4698-4266-ad8f-d4986f01fc5b",
   "metadata": {},
   "outputs": [],
   "source": [
    "animal.P6264.draw()"
   ]
  },
  {
   "cell_type": "code",
   "execution_count": null,
   "id": "33380c8b-0e4a-4dd6-8285-a04560adb8da",
   "metadata": {},
   "outputs": [],
   "source": [
    "recipe.reactions"
   ]
  },
  {
   "cell_type": "code",
   "execution_count": null,
   "id": "298e74be-1d26-477a-bb57-5fbc8a65f271",
   "metadata": {},
   "outputs": [],
   "source": []
  }
 ],
 "metadata": {
  "kernelspec": {
   "display_name": "Python [conda env:base] *",
   "language": "python",
   "name": "conda-base-py"
  },
  "language_info": {
   "codemirror_mode": {
    "name": "ipython",
    "version": 3
   },
   "file_extension": ".py",
   "mimetype": "text/x-python",
   "name": "python",
   "nbconvert_exporter": "python",
   "pygments_lexer": "ipython3",
   "version": "3.11.6"
  }
 },
 "nbformat": 4,
 "nbformat_minor": 5
}
