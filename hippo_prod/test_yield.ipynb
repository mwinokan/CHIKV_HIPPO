{
 "cells": [
  {
   "cell_type": "code",
   "execution_count": 1,
   "id": "dab0e00e-e3f8-4101-9de9-4dd3f56233d6",
   "metadata": {},
   "outputs": [],
   "source": [
    "%load_ext autoreload\n",
    "%autoreload 2\n",
    "import hippo"
   ]
  },
  {
   "cell_type": "code",
   "execution_count": 5,
   "id": "2ce5b6e6-c3f7-4cc6-a7fa-346599e85545",
   "metadata": {},
   "outputs": [
    {
     "name": "stdout",
     "output_type": "stream",
     "text": [
      "\u001b[1m\u001b[38;5;166mCreating HIPPO animal\u001b[0m\n",
      "\u001b[36mname\u001b[0m = \u001b[38;5;154mtest_yield\u001b[0m\n",
      "\u001b[36mdb_path\u001b[0m = \u001b[38;5;11mtest_yield.sqlite\u001b[0m\n",
      "\u001b[7m\u001b[38;5;166m\u001b[1m Warning \u001b[0m\u001b[38;5;166m Overwriting test_yield.sqlite\u001b[0m\n",
      "Copying CHIKV_prod6.sqlite --> test_yield.sqlite\n",
      "\u001b[2mDEBUG: Copied 10000 of 159251 pages...\u001b[0m\n",
      "\u001b[2mDEBUG: Copied 20000 of 159251 pages...\u001b[0m\n",
      "\u001b[2mDEBUG: Copied 30000 of 159251 pages...\u001b[0m\n",
      "\u001b[2mDEBUG: Copied 40000 of 159251 pages...\u001b[0m\n",
      "\u001b[2mDEBUG: Copied 50000 of 159251 pages...\u001b[0m\n",
      "\u001b[2mDEBUG: Copied 60000 of 159251 pages...\u001b[0m\n",
      "\u001b[2mDEBUG: Copied 70000 of 159251 pages...\u001b[0m\n",
      "\u001b[2mDEBUG: Copied 80000 of 159251 pages...\u001b[0m\n",
      "\u001b[2mDEBUG: Copied 90000 of 159251 pages...\u001b[0m\n",
      "\u001b[2mDEBUG: Copied 100000 of 159251 pages...\u001b[0m\n",
      "\u001b[2mDEBUG: Copied 110000 of 159251 pages...\u001b[0m\n",
      "\u001b[2mDEBUG: Copied 120000 of 159251 pages...\u001b[0m\n",
      "\u001b[2mDEBUG: Copied 130000 of 159251 pages...\u001b[0m\n",
      "\u001b[2mDEBUG: Copied 140000 of 159251 pages...\u001b[0m\n",
      "\u001b[2mDEBUG: Copied 150000 of 159251 pages...\u001b[0m\n",
      "\u001b[2mDEBUG: Copied 159251 of 159251 pages...\u001b[0m\n",
      "\u001b[2mDEBUG: hippo3.Database.__init__()\u001b[0m\n",
      "\u001b[2mDEBUG: Database.path = test_yield.sqlite\u001b[0m\n",
      "\u001b[2mDEBUG: hippo3.Database.connect()\u001b[0m\n",
      "\u001b[2mDEBUG: sqlite3.version='2.6.0'\u001b[0m\n",
      "\u001b[7m\u001b[32;1m SUCCESS \u001b[0m\u001b[32;1m Database connected @ \u001b[38;5;11mtest_yield.sqlite!\u001b[0m\n",
      "\u001b[7m\u001b[32;1m SUCCESS \u001b[0m\u001b[32;1m Initialised animal HIPPO(\"test_yield\")!\u001b[0m\n"
     ]
    }
   ],
   "source": [
    "animal = hippo.HIPPO(\"test_yield\", \"test_yield.sqlite\", copy_from=\"CHIKV_prod6.sqlite\", overwrite_existing=True)"
   ]
  },
  {
   "cell_type": "code",
   "execution_count": 3,
   "id": "8acfc2a2-7177-494a-82f1-459196d6dfa9",
   "metadata": {},
   "outputs": [],
   "source": [
    "# animal.reactions.set_product_yields(type=\"Buchwald-Hartwig_amination\", product_yield=0.1)"
   ]
  },
  {
   "cell_type": "code",
   "execution_count": 6,
   "id": "14f76eda-e085-4606-a483-eea30a96b053",
   "metadata": {},
   "outputs": [
    {
     "data": {
      "application/vnd.jupyter.widget-view+json": {
       "model_id": "72a5768139ed41d0b891fac19e83031c",
       "version_major": 2,
       "version_minor": 0
      },
      "text/plain": [
       "VBox(children=(BoundedIntText(value=0, description='Rs (/50):', max=49), GridBox(children=(Checkbox(value=True…"
      ]
     },
     "metadata": {},
     "output_type": "display_data"
    },
    {
     "data": {
      "application/vnd.jupyter.widget-view+json": {
       "model_id": "d56f2f1c98a242c1a65d7f0a127b15c0",
       "version_major": 2,
       "version_minor": 0
      },
      "text/plain": [
       "Output()"
      ]
     },
     "metadata": {},
     "output_type": "display_data"
    }
   ],
   "source": [
    "animal.reactions(type=\"Buchwald-Hartwig_amination\")[:50].interactive()"
   ]
  },
  {
   "cell_type": "code",
   "execution_count": null,
   "id": "d87b3148-ef56-4580-8f9e-cc2c92f6cd40",
   "metadata": {},
   "outputs": [],
   "source": []
  }
 ],
 "metadata": {
  "kernelspec": {
   "display_name": "Python [conda env:base] *",
   "language": "python",
   "name": "conda-base-py"
  },
  "language_info": {
   "codemirror_mode": {
    "name": "ipython",
    "version": 3
   },
   "file_extension": ".py",
   "mimetype": "text/x-python",
   "name": "python",
   "nbconvert_exporter": "python",
   "pygments_lexer": "ipython3",
   "version": "3.11.6"
  }
 },
 "nbformat": 4,
 "nbformat_minor": 5
}
