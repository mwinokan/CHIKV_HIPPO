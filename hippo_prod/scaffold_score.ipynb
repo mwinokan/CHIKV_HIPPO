{
 "cells": [
  {
   "cell_type": "markdown",
   "id": "e80f98e7-10d9-49ff-a80b-f36c160c1e29",
   "metadata": {},
   "source": [
    "# Scaffold scoring refactor #132"
   ]
  },
  {
   "cell_type": "markdown",
   "id": "a61f5fb0-ad17-4a68-8d3b-6399a6413e42",
   "metadata": {},
   "source": [
    "## Setup"
   ]
  },
  {
   "cell_type": "code",
   "execution_count": 2,
   "id": "b1125662-7763-4b2d-ad01-2af2931508ce",
   "metadata": {},
   "outputs": [],
   "source": [
    "%load_ext autoreload\n",
    "%autoreload 2\n",
    "import hippo\n",
    "from pathlib import Path\n",
    "from mlog import setup_logger\n",
    "import pandas as pd\n",
    "import numpy as np\n",
    "logger=setup_logger('notebook')"
   ]
  },
  {
   "cell_type": "code",
   "execution_count": 3,
   "id": "b63f2050-7e82-46c5-b2a3-7c821378cce4",
   "metadata": {},
   "outputs": [
    {
     "name": "stdout",
     "output_type": "stream",
     "text": [
      "'CHIKV_prod3.sqlite' -> 'scaffold_score.sqlite'\n"
     ]
    }
   ],
   "source": [
    "!cp -v CHIKV_prod3.sqlite scaffold_score.sqlite"
   ]
  },
  {
   "cell_type": "code",
   "execution_count": 4,
   "id": "80f578e0-1942-416c-81c3-d2fac0d4a022",
   "metadata": {},
   "outputs": [
    {
     "name": "stdout",
     "output_type": "stream",
     "text": [
      "\u001b[1m\u001b[38;5;166mCreating HIPPO animal\u001b[0m\n",
      "\u001b[36mname\u001b[0m = \u001b[38;5;154mscaffold_score\u001b[0m\n",
      "\u001b[36mdb_path\u001b[0m = \u001b[38;5;11mscaffold_score.sqlite\u001b[0m\n",
      "\u001b[2mDEBUG: hippo3.Database.__init__()\u001b[0m\n",
      "\u001b[2mDEBUG: Database.path = scaffold_score.sqlite\u001b[0m\n",
      "\u001b[2mDEBUG: hippo3.Database.connect()\u001b[0m\n",
      "\u001b[2mDEBUG: sqlite3.version='2.6.0'\u001b[0m\n",
      "\u001b[7m\u001b[32;1m SUCCESS \u001b[0m\u001b[32;1m Database connected @ \u001b[38;5;11mscaffold_score.sqlite!\u001b[0m\n",
      "\u001b[7m\u001b[32;1m SUCCESS \u001b[0m\u001b[32;1m Initialised animal HIPPO(\"scaffold_score\")!\u001b[0m\n"
     ]
    }
   ],
   "source": [
    "animal = hippo.HIPPO('scaffold_score', 'scaffold_score.sqlite')"
   ]
  },
  {
   "cell_type": "code",
   "execution_count": 5,
   "id": "4f664a62-7142-49f7-837e-7638d40a4ba7",
   "metadata": {},
   "outputs": [],
   "source": [
    "animal.db.delete_where(table='scaffold', key='scaffold_base = scaffold_superstructure')"
   ]
  },
  {
   "cell_type": "code",
   "execution_count": 41,
   "id": "0890b55b-2ec6-4f8c-ba33-f9ca12cd0ded",
   "metadata": {},
   "outputs": [
    {
     "name": "stdout",
     "output_type": "stream",
     "text": [
      "C93\n",
      "C95\n",
      "C100\n"
     ]
    }
   ],
   "source": [
    "# test compound set\n",
    "\n",
    "bases = [93, 95, 100]\n",
    "\n",
    "elabs = set()\n",
    "for base in bases:\n",
    "    base = animal.compounds[base]\n",
    "\n",
    "    e = base.elabs\n",
    "\n",
    "    if not e:\n",
    "        continue\n",
    "\n",
    "    print(base)\n",
    "    \n",
    "    ids = e[:30].ids\n",
    "    for id in ids:\n",
    "        elabs.add(id)\n",
    "\n",
    "cset = animal.compounds[bases + list(elabs)]"
   ]
  },
  {
   "cell_type": "code",
   "execution_count": 7,
   "id": "8b71efab-9841-42dc-aaac-64c2516e55b1",
   "metadata": {},
   "outputs": [
    {
     "ename": "NotImplementedError",
     "evalue": "",
     "output_type": "error",
     "traceback": [
      "\u001b[0;31m---------------------------------------------------------------------------\u001b[0m",
      "\u001b[0;31mNotImplementedError\u001b[0m                       Traceback (most recent call last)",
      "Cell \u001b[0;32mIn[7], line 1\u001b[0m\n\u001b[0;32m----> 1\u001b[0m \u001b[43mcset\u001b[49m\u001b[38;5;241;43m.\u001b[39;49m\u001b[43mrisk_diversity\u001b[49m\n",
      "File \u001b[0;32m~/HIPPO/hippo/cset.py:742\u001b[0m, in \u001b[0;36mCompoundSet.risk_diversity\u001b[0;34m(self)\u001b[0m\n\u001b[1;32m    734\u001b[0m \u001b[38;5;129m@property\u001b[39m\n\u001b[1;32m    735\u001b[0m \u001b[38;5;28;01mdef\u001b[39;00m \u001b[38;5;21mrisk_diversity\u001b[39m(\u001b[38;5;28mself\u001b[39m) \u001b[38;5;241m-\u001b[39m\u001b[38;5;241m>\u001b[39m \u001b[38;5;28mfloat\u001b[39m:\n\u001b[1;32m    736\u001b[0m \u001b[38;5;250m    \u001b[39m\u001b[38;5;124;03m\"\"\"Calculate the average spread of risk (#atoms added) for each base in this set\u001b[39;00m\n\u001b[1;32m    737\u001b[0m \n\u001b[1;32m    738\u001b[0m \u001b[38;5;124;03m    :returns: average of the standard deviations of number of atoms added for each base\u001b[39;00m\n\u001b[1;32m    739\u001b[0m \n\u001b[1;32m    740\u001b[0m \u001b[38;5;124;03m    \"\"\"\u001b[39;00m\n\u001b[0;32m--> 742\u001b[0m     \u001b[38;5;28;01mraise\u001b[39;00m \u001b[38;5;167;01mNotImplementedError\u001b[39;00m\n\u001b[1;32m    744\u001b[0m     variances \u001b[38;5;241m=\u001b[39m \u001b[38;5;28mself\u001b[39m\u001b[38;5;241m.\u001b[39mdb\u001b[38;5;241m.\u001b[39mexecute(\n\u001b[1;32m    745\u001b[0m         \u001b[38;5;124mf\u001b[39m\u001b[38;5;124m\"\"\"\u001b[39m\n\u001b[1;32m    746\u001b[0m \u001b[38;5;124m            WITH nums AS (\u001b[39m\n\u001b[0;32m   (...)\u001b[0m\n\u001b[1;32m    764\u001b[0m \u001b[38;5;124m        \u001b[39m\u001b[38;5;124m\"\"\"\u001b[39m\n\u001b[1;32m    765\u001b[0m     )\u001b[38;5;241m.\u001b[39mfetchall()\n\u001b[1;32m    767\u001b[0m     variances \u001b[38;5;241m=\u001b[39m [v \u001b[38;5;28;01mfor\u001b[39;00m v, \u001b[38;5;129;01min\u001b[39;00m variances]\n",
      "\u001b[0;31mNotImplementedError\u001b[0m: "
     ]
    }
   ],
   "source": [
    "cset.risk_diversity"
   ]
  },
  {
   "cell_type": "code",
   "execution_count": 8,
   "id": "1eb2a520-23ee-4bec-999c-e733d4d34755",
   "metadata": {},
   "outputs": [
    {
     "name": "stdout",
     "output_type": "stream",
     "text": [
      "None\n",
      "None\n",
      "None\n",
      "None\n"
     ]
    }
   ],
   "source": [
    "sql = f\"\"\"\n",
    "WITH nums AS (\n",
    "                    SELECT B.compound_id as base, A.compound_id AS elab, \n",
    "                    mol_num_hvyatms(A.compound_mol) - mol_num_hvyatms(B.compound_mol) AS diff \n",
    "                    FROM compound A, compound B\n",
    "                    WHERE A.compound_base = B.compound_id\n",
    "                    AND A.compound_id IN {cset.str_ids}\n",
    "                )\n",
    "\n",
    "SELECT * FROM nums\n",
    "\"\"\"\n",
    "\n",
    "c = animal.db.execute(sql)\n",
    "print(c.fetchone())\n",
    "print(c.fetchone())\n",
    "print(c.fetchone())\n",
    "print(c.fetchone())"
   ]
  },
  {
   "cell_type": "code",
   "execution_count": 42,
   "id": "98616569-4730-49d3-b003-b714eecd8cdc",
   "metadata": {},
   "outputs": [
    {
     "name": "stdout",
     "output_type": "stream",
     "text": [
      "(8,)\n",
      "(30,)\n",
      "(30,)\n",
      "None\n"
     ]
    }
   ],
   "source": [
    "sql = f\"\"\"\n",
    "        SELECT COUNT(1) FROM scaffold\n",
    "        WHERE scaffold_superstructure IN {cset.str_ids}\n",
    "        GROUP BY scaffold_base\n",
    "        \"\"\"\n",
    "\n",
    "c = animal.db.execute(sql)\n",
    "print(c.fetchone())\n",
    "print(c.fetchone())\n",
    "print(c.fetchone())\n",
    "print(c.fetchone())"
   ]
  },
  {
   "cell_type": "code",
   "execution_count": 43,
   "id": "dbf83db8-b362-4f3e-aaad-3ef094db39ed",
   "metadata": {},
   "outputs": [
    {
     "data": {
      "text/plain": [
       "-10.370899457402697"
      ]
     },
     "execution_count": 43,
     "metadata": {},
     "output_type": "execute_result"
    }
   ],
   "source": [
    "cset.elaboration_balance"
   ]
  },
  {
   "cell_type": "code",
   "execution_count": 44,
   "id": "4d07f638-c617-4b4c-b9b1-3ba397a3c2de",
   "metadata": {},
   "outputs": [
    {
     "data": {
      "text/plain": [
       "3"
      ]
     },
     "execution_count": 44,
     "metadata": {},
     "output_type": "execute_result"
    }
   ],
   "source": [
    "cset.num_bases_elaborated"
   ]
  },
  {
   "cell_type": "code",
   "execution_count": null,
   "id": "f97ec8a5-c73a-4e98-a157-0236e0f2e886",
   "metadata": {},
   "outputs": [],
   "source": []
  }
 ],
 "metadata": {
  "kernelspec": {
   "display_name": "Python [conda env:base] *",
   "language": "python",
   "name": "conda-base-py"
  },
  "language_info": {
   "codemirror_mode": {
    "name": "ipython",
    "version": 3
   },
   "file_extension": ".py",
   "mimetype": "text/x-python",
   "name": "python",
   "nbconvert_exporter": "python",
   "pygments_lexer": "ipython3",
   "version": "3.11.6"
  }
 },
 "nbformat": 4,
 "nbformat_minor": 5
}
