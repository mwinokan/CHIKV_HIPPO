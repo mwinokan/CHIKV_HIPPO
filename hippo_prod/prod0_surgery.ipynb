{
 "cells": [
  {
   "cell_type": "markdown",
   "id": "f09c6e02-4156-44a0-9d5a-1cb6bf0ab381",
   "metadata": {},
   "source": [
    "# CHIKV_Mac HIPPO FFF Prod. 1 (surgery)"
   ]
  },
  {
   "cell_type": "markdown",
   "id": "ad4b52bf-06c9-40f8-b81e-5d71352abb8a",
   "metadata": {},
   "source": [
    "## Setup"
   ]
  },
  {
   "cell_type": "code",
   "execution_count": 1,
   "id": "e43bee0e-1f56-4847-b1a1-a3e0c272d3d8",
   "metadata": {},
   "outputs": [],
   "source": [
    "%load_ext autoreload\n",
    "%autoreload 2\n",
    "import hippo\n",
    "from pathlib import Path\n",
    "from mlog import setup_logger\n",
    "logger=setup_logger('notebook')"
   ]
  },
  {
   "cell_type": "code",
   "execution_count": 2,
   "id": "2f97b8a3-49e5-40e9-ab89-37f773567529",
   "metadata": {},
   "outputs": [
    {
     "name": "stdout",
     "output_type": "stream",
     "text": [
      "'../hippo/CHIKV_master.sqlite' -> './CHIKV_master.sqlite'\n"
     ]
    }
   ],
   "source": [
    "!cp -v ../hippo/CHIKV_master.sqlite ."
   ]
  },
  {
   "cell_type": "code",
   "execution_count": 3,
   "id": "de1e1189-e885-4016-8111-ef1ae6f968d0",
   "metadata": {},
   "outputs": [
    {
     "name": "stdout",
     "output_type": "stream",
     "text": [
      "\u001b[1m\u001b[38;5;166mCreating HIPPO animal\u001b[0m\n",
      "\u001b[36mname\u001b[0m = \u001b[38;5;154mCHIKV_Mac surgery\u001b[0m\n",
      "\u001b[36mdb_path\u001b[0m = \u001b[38;5;11mCHIKV_master.sqlite\u001b[0m\n",
      "\u001b[2mDEBUG: hippo3.Database.__init__()\u001b[0m\n",
      "\u001b[2mDEBUG: Database.path = CHIKV_master.sqlite\u001b[0m\n",
      "\u001b[2mDEBUG: hippo3.Database.connect()\u001b[0m\n",
      "\u001b[2mDEBUG: sqlite3.version='2.6.0'\u001b[0m\n",
      "\u001b[7m\u001b[32;1m SUCCESS \u001b[0m\u001b[32;1m Database connected @ \u001b[38;5;11mCHIKV_master.sqlite!\u001b[0m\n",
      "\u001b[7m\u001b[38;5;166m\u001b[1m Warning \u001b[0m\u001b[38;5;166m This is a legacy format database (hippo-db < 0.3.23)\u001b[0m\n",
      "\u001b[7m\u001b[38;5;166m\u001b[1m Warning \u001b[0m\u001b[38;5;166m Existing fingerprints will not be compatible.\u001b[0m\n",
      "\u001b[7m\u001b[38;5;166m\u001b[1m Warning \u001b[0m\u001b[38;5;166m Clear them with: animal.db.delete_interactions()\u001b[0m\n",
      "\u001b[2mDEBUG: HIPPO.Database.create_table_interaction(table='interaction')\u001b[0m\n",
      "\u001b[7m\u001b[38;5;166m\u001b[1m Warning \u001b[0m\u001b[38;5;166m This is a legacy format database (hippo-db < 0.3.24)\u001b[0m\n",
      "\u001b[2mDEBUG: HIPPO.Database.create_table_subsite()\u001b[0m\n",
      "\u001b[2mDEBUG: HIPPO.Database.create_table_subsite_tag()\u001b[0m\n",
      "\u001b[7m\u001b[32;1m SUCCESS \u001b[0m\u001b[32;1m Initialised animal HIPPO(\"CHIKV_Mac surgery\")!\u001b[0m\n"
     ]
    }
   ],
   "source": [
    "animal = hippo.HIPPO('CHIKV_Mac surgery', 'CHIKV_master.sqlite')"
   ]
  },
  {
   "cell_type": "markdown",
   "id": "94cce773-b9bf-4825-b2de-6f8bdeb61e8f",
   "metadata": {},
   "source": [
    "## Deprecate old poses"
   ]
  },
  {
   "cell_type": "code",
   "execution_count": 4,
   "id": "b1f06ac0-13f7-4895-8079-8779bc07c81d",
   "metadata": {},
   "outputs": [],
   "source": [
    "animal.poses[1].tags.add('deprecated')"
   ]
  },
  {
   "cell_type": "code",
   "execution_count": 5,
   "id": "4ca97a69-d578-4c80-9a08-8c754fa2676d",
   "metadata": {},
   "outputs": [
    {
     "name": "stdout",
     "output_type": "stream",
     "text": [
      "Tagged \u001b[1m\u001b[4mposes tagged \"hits\": {P x 323}\u001b[22m\u001b[24m w/ \"hits (deprecated)\"\n",
      "Tagged \u001b[1m\u001b[4mposes tagged \"hits\": {P x 323}\u001b[22m\u001b[24m w/ \"deprecated\"\n"
     ]
    }
   ],
   "source": [
    "animal.poses(tag='hits').add_tag('hits (deprecated)')\n",
    "animal.poses(tag='hits').add_tag('deprecated')"
   ]
  },
  {
   "cell_type": "code",
   "execution_count": 6,
   "id": "657e95fb-827d-42a5-a353-5cdf919a0b42",
   "metadata": {},
   "outputs": [],
   "source": [
    "animal.tags.delete('hits')"
   ]
  },
  {
   "cell_type": "markdown",
   "id": "0b3f8c9d-44aa-4abe-a8c6-c181a8782a58",
   "metadata": {
    "jp-MarkdownHeadingCollapsed": true
   },
   "source": [
    "## Load new fragments"
   ]
  },
  {
   "cell_type": "code",
   "execution_count": 10,
   "id": "daea7a60-7cab-48e3-8e9c-b23969e83ee7",
   "metadata": {},
   "outputs": [
    {
     "name": "stdout",
     "output_type": "stream",
     "text": [
      "\u001b[7m\u001b[38;5;166m\u001b[1m Warning \u001b[0m\u001b[38;5;166m Skipping existing target with name='CHIKV_Mac'\u001b[0m\n",
      "\u001b[36maligned_directory\u001b[0m = ../aligned_files_13\u001b[0m\n",
      "\u001b[36mcurated_tag_cols\u001b[0m = ['Experiment code', 'Centroid res', 'ConformerSites upload name', 'CanonSites upload name', 'CrystalformSites upload name', 'Quatassemblies upload name', 'Crystalforms upload name', '[Other] phosphate-binding site', '[Other] ignore', '[Other] subsite1', '[Other] New']\u001b[0m\n"
     ]
    },
    {
     "name": "stderr",
     "output_type": "stream",
     "text": [
      "100%|██████████| 376/376 [03:33<00:00,  1.76it/s]"
     ]
    },
    {
     "name": "stdout",
     "output_type": "stream",
     "text": [
      "\u001b[36m#directories parsed\u001b[0m = 376\u001b[0m\n",
      "\u001b[36m#compounds registered\u001b[0m = 20\u001b[0m\n",
      "\u001b[36m#poses registered\u001b[0m = 376\u001b[0m\n"
     ]
    },
    {
     "name": "stderr",
     "output_type": "stream",
     "text": [
      "\n"
     ]
    }
   ],
   "source": [
    "animal.add_hits('CHIKV_Mac', '../metadata_13.csv', '../aligned_files_13')"
   ]
  },
  {
   "cell_type": "code",
   "execution_count": 16,
   "id": "85f0176c-ed22-4a60-bfe5-9377b1369cc5",
   "metadata": {},
   "outputs": [
    {
     "name": "stdout",
     "output_type": "stream",
     "text": [
      "Tagged \u001b[1m\u001b[4m{C x 109}\u001b[22m\u001b[24m w/ \"hits\"\n"
     ]
    }
   ],
   "source": [
    "animal.poses(tag='hits').compounds.add_tag('hits')"
   ]
  },
  {
   "cell_type": "code",
   "execution_count": 17,
   "id": "f5b46056-e6ec-4772-8a5c-b53ba267631e",
   "metadata": {},
   "outputs": [
    {
     "data": {
      "application/vnd.plotly.v1+json": {
       "config": {
        "plotlyServerURL": "https://plot.ly"
       },
       "data": [
        {
         "alignmentgroup": "True",
         "hovertemplate": "type=compounds<br>tag=%{x}<br>number=%{y}<extra></extra>",
         "legendgroup": "compounds",
         "marker": {
          "color": "#636efa",
          "pattern": {
           "shape": ""
          }
         },
         "name": "compounds",
         "offsetgroup": "compounds",
         "orientation": "v",
         "showlegend": true,
         "textposition": "auto",
         "type": "bar",
         "x": [
          "CrystalformSites upload name",
          "ConformerSites upload name",
          "knitwork",
          "[Other] phosphate-binding site",
          "fragmenstein",
          "butcher: ribose",
          "[Other] ribose site",
          "deprecated",
          "butcher: arginine",
          "rahman_REAL",
          "[Other] adenine site",
          "butcher: adenine",
          "JA",
          "[Other] Arg144 subsite",
          "arg144_pures",
          "[Other] oxyanion hole",
          "[Other] Trp148 subsite",
          "butcher: oxyanion",
          "merge",
          "[Other] ignore",
          "butcher: phosphate",
          "hits",
          "raw",
          "Quatassemblies upload name",
          "Centroid res",
          "[Other] New",
          "rahman_pure",
          "hits (deprecated)",
          "Experiment code",
          "pure_merges",
          "DF",
          "Crystalforms upload name",
          "SeeSAR",
          "rahman_selection",
          "busted",
          "Enamine",
          "CanonSites upload name"
         ],
         "xaxis": "x",
         "y": [
          0,
          0,
          29,
          0,
          4264,
          0,
          0,
          0,
          0,
          112,
          0,
          0,
          9,
          0,
          2680,
          0,
          0,
          0,
          14,
          0,
          0,
          109,
          3901,
          0,
          0,
          0,
          8,
          0,
          0,
          1568,
          5,
          0,
          14,
          0,
          0,
          251,
          0
         ],
         "yaxis": "y"
        },
        {
         "alignmentgroup": "True",
         "hovertemplate": "type=poses<br>tag=%{x}<br>number=%{y}<extra></extra>",
         "legendgroup": "poses",
         "marker": {
          "color": "#EF553B",
          "pattern": {
           "shape": ""
          }
         },
         "name": "poses",
         "offsetgroup": "poses",
         "orientation": "v",
         "showlegend": true,
         "textposition": "auto",
         "type": "bar",
         "x": [
          "CrystalformSites upload name",
          "ConformerSites upload name",
          "knitwork",
          "[Other] phosphate-binding site",
          "fragmenstein",
          "butcher: ribose",
          "[Other] ribose site",
          "deprecated",
          "butcher: arginine",
          "rahman_REAL",
          "[Other] adenine site",
          "butcher: adenine",
          "JA",
          "[Other] Arg144 subsite",
          "arg144_pures",
          "[Other] oxyanion hole",
          "[Other] Trp148 subsite",
          "butcher: oxyanion",
          "merge",
          "[Other] ignore",
          "butcher: phosphate",
          "hits",
          "raw",
          "Quatassemblies upload name",
          "Centroid res",
          "[Other] New",
          "rahman_pure",
          "hits (deprecated)",
          "Experiment code",
          "pure_merges",
          "DF",
          "Crystalforms upload name",
          "SeeSAR",
          "rahman_selection",
          "busted",
          "Enamine",
          "CanonSites upload name"
         ],
         "xaxis": "x",
         "y": [
          376,
          376,
          29,
          12,
          5421,
          44,
          28,
          324,
          547,
          112,
          147,
          1568,
          9,
          44,
          3186,
          42,
          69,
          498,
          14,
          26,
          165,
          376,
          5033,
          376,
          376,
          376,
          8,
          323,
          376,
          1831,
          5,
          376,
          14,
          6,
          76,
          268,
          376
         ],
         "yaxis": "y"
        }
       ],
       "layout": {
        "autosize": true,
        "barmode": "group",
        "images": [
         {
          "sizex": 0.3,
          "sizey": 0.3,
          "source": "https://raw.githubusercontent.com/mwinokan/HIPPO/main/logos/hippo_logo_tightcrop.png",
          "x": 0.95,
          "xanchor": "right",
          "xref": "paper",
          "y": 0.95,
          "yanchor": "top",
          "yref": "paper"
         }
        ],
        "legend": {
         "title": {
          "text": "type"
         },
         "tracegroupgap": 0
        },
        "margin": {
         "t": 60
        },
        "template": {
         "data": {
          "bar": [
           {
            "error_x": {
             "color": "#2a3f5f"
            },
            "error_y": {
             "color": "#2a3f5f"
            },
            "marker": {
             "line": {
              "color": "#E5ECF6",
              "width": 0.5
             },
             "pattern": {
              "fillmode": "overlay",
              "size": 10,
              "solidity": 0.2
             }
            },
            "type": "bar"
           }
          ],
          "barpolar": [
           {
            "marker": {
             "line": {
              "color": "#E5ECF6",
              "width": 0.5
             },
             "pattern": {
              "fillmode": "overlay",
              "size": 10,
              "solidity": 0.2
             }
            },
            "type": "barpolar"
           }
          ],
          "carpet": [
           {
            "aaxis": {
             "endlinecolor": "#2a3f5f",
             "gridcolor": "white",
             "linecolor": "white",
             "minorgridcolor": "white",
             "startlinecolor": "#2a3f5f"
            },
            "baxis": {
             "endlinecolor": "#2a3f5f",
             "gridcolor": "white",
             "linecolor": "white",
             "minorgridcolor": "white",
             "startlinecolor": "#2a3f5f"
            },
            "type": "carpet"
           }
          ],
          "choropleth": [
           {
            "colorbar": {
             "outlinewidth": 0,
             "ticks": ""
            },
            "type": "choropleth"
           }
          ],
          "contour": [
           {
            "colorbar": {
             "outlinewidth": 0,
             "ticks": ""
            },
            "colorscale": [
             [
              0,
              "#0d0887"
             ],
             [
              0.1111111111111111,
              "#46039f"
             ],
             [
              0.2222222222222222,
              "#7201a8"
             ],
             [
              0.3333333333333333,
              "#9c179e"
             ],
             [
              0.4444444444444444,
              "#bd3786"
             ],
             [
              0.5555555555555556,
              "#d8576b"
             ],
             [
              0.6666666666666666,
              "#ed7953"
             ],
             [
              0.7777777777777778,
              "#fb9f3a"
             ],
             [
              0.8888888888888888,
              "#fdca26"
             ],
             [
              1,
              "#f0f921"
             ]
            ],
            "type": "contour"
           }
          ],
          "contourcarpet": [
           {
            "colorbar": {
             "outlinewidth": 0,
             "ticks": ""
            },
            "type": "contourcarpet"
           }
          ],
          "heatmap": [
           {
            "colorbar": {
             "outlinewidth": 0,
             "ticks": ""
            },
            "colorscale": [
             [
              0,
              "#0d0887"
             ],
             [
              0.1111111111111111,
              "#46039f"
             ],
             [
              0.2222222222222222,
              "#7201a8"
             ],
             [
              0.3333333333333333,
              "#9c179e"
             ],
             [
              0.4444444444444444,
              "#bd3786"
             ],
             [
              0.5555555555555556,
              "#d8576b"
             ],
             [
              0.6666666666666666,
              "#ed7953"
             ],
             [
              0.7777777777777778,
              "#fb9f3a"
             ],
             [
              0.8888888888888888,
              "#fdca26"
             ],
             [
              1,
              "#f0f921"
             ]
            ],
            "type": "heatmap"
           }
          ],
          "heatmapgl": [
           {
            "colorbar": {
             "outlinewidth": 0,
             "ticks": ""
            },
            "colorscale": [
             [
              0,
              "#0d0887"
             ],
             [
              0.1111111111111111,
              "#46039f"
             ],
             [
              0.2222222222222222,
              "#7201a8"
             ],
             [
              0.3333333333333333,
              "#9c179e"
             ],
             [
              0.4444444444444444,
              "#bd3786"
             ],
             [
              0.5555555555555556,
              "#d8576b"
             ],
             [
              0.6666666666666666,
              "#ed7953"
             ],
             [
              0.7777777777777778,
              "#fb9f3a"
             ],
             [
              0.8888888888888888,
              "#fdca26"
             ],
             [
              1,
              "#f0f921"
             ]
            ],
            "type": "heatmapgl"
           }
          ],
          "histogram": [
           {
            "marker": {
             "pattern": {
              "fillmode": "overlay",
              "size": 10,
              "solidity": 0.2
             }
            },
            "type": "histogram"
           }
          ],
          "histogram2d": [
           {
            "colorbar": {
             "outlinewidth": 0,
             "ticks": ""
            },
            "colorscale": [
             [
              0,
              "#0d0887"
             ],
             [
              0.1111111111111111,
              "#46039f"
             ],
             [
              0.2222222222222222,
              "#7201a8"
             ],
             [
              0.3333333333333333,
              "#9c179e"
             ],
             [
              0.4444444444444444,
              "#bd3786"
             ],
             [
              0.5555555555555556,
              "#d8576b"
             ],
             [
              0.6666666666666666,
              "#ed7953"
             ],
             [
              0.7777777777777778,
              "#fb9f3a"
             ],
             [
              0.8888888888888888,
              "#fdca26"
             ],
             [
              1,
              "#f0f921"
             ]
            ],
            "type": "histogram2d"
           }
          ],
          "histogram2dcontour": [
           {
            "colorbar": {
             "outlinewidth": 0,
             "ticks": ""
            },
            "colorscale": [
             [
              0,
              "#0d0887"
             ],
             [
              0.1111111111111111,
              "#46039f"
             ],
             [
              0.2222222222222222,
              "#7201a8"
             ],
             [
              0.3333333333333333,
              "#9c179e"
             ],
             [
              0.4444444444444444,
              "#bd3786"
             ],
             [
              0.5555555555555556,
              "#d8576b"
             ],
             [
              0.6666666666666666,
              "#ed7953"
             ],
             [
              0.7777777777777778,
              "#fb9f3a"
             ],
             [
              0.8888888888888888,
              "#fdca26"
             ],
             [
              1,
              "#f0f921"
             ]
            ],
            "type": "histogram2dcontour"
           }
          ],
          "mesh3d": [
           {
            "colorbar": {
             "outlinewidth": 0,
             "ticks": ""
            },
            "type": "mesh3d"
           }
          ],
          "parcoords": [
           {
            "line": {
             "colorbar": {
              "outlinewidth": 0,
              "ticks": ""
             }
            },
            "type": "parcoords"
           }
          ],
          "pie": [
           {
            "automargin": true,
            "type": "pie"
           }
          ],
          "scatter": [
           {
            "fillpattern": {
             "fillmode": "overlay",
             "size": 10,
             "solidity": 0.2
            },
            "type": "scatter"
           }
          ],
          "scatter3d": [
           {
            "line": {
             "colorbar": {
              "outlinewidth": 0,
              "ticks": ""
             }
            },
            "marker": {
             "colorbar": {
              "outlinewidth": 0,
              "ticks": ""
             }
            },
            "type": "scatter3d"
           }
          ],
          "scattercarpet": [
           {
            "marker": {
             "colorbar": {
              "outlinewidth": 0,
              "ticks": ""
             }
            },
            "type": "scattercarpet"
           }
          ],
          "scattergeo": [
           {
            "marker": {
             "colorbar": {
              "outlinewidth": 0,
              "ticks": ""
             }
            },
            "type": "scattergeo"
           }
          ],
          "scattergl": [
           {
            "marker": {
             "colorbar": {
              "outlinewidth": 0,
              "ticks": ""
             }
            },
            "type": "scattergl"
           }
          ],
          "scattermapbox": [
           {
            "marker": {
             "colorbar": {
              "outlinewidth": 0,
              "ticks": ""
             }
            },
            "type": "scattermapbox"
           }
          ],
          "scatterpolar": [
           {
            "marker": {
             "colorbar": {
              "outlinewidth": 0,
              "ticks": ""
             }
            },
            "type": "scatterpolar"
           }
          ],
          "scatterpolargl": [
           {
            "marker": {
             "colorbar": {
              "outlinewidth": 0,
              "ticks": ""
             }
            },
            "type": "scatterpolargl"
           }
          ],
          "scatterternary": [
           {
            "marker": {
             "colorbar": {
              "outlinewidth": 0,
              "ticks": ""
             }
            },
            "type": "scatterternary"
           }
          ],
          "surface": [
           {
            "colorbar": {
             "outlinewidth": 0,
             "ticks": ""
            },
            "colorscale": [
             [
              0,
              "#0d0887"
             ],
             [
              0.1111111111111111,
              "#46039f"
             ],
             [
              0.2222222222222222,
              "#7201a8"
             ],
             [
              0.3333333333333333,
              "#9c179e"
             ],
             [
              0.4444444444444444,
              "#bd3786"
             ],
             [
              0.5555555555555556,
              "#d8576b"
             ],
             [
              0.6666666666666666,
              "#ed7953"
             ],
             [
              0.7777777777777778,
              "#fb9f3a"
             ],
             [
              0.8888888888888888,
              "#fdca26"
             ],
             [
              1,
              "#f0f921"
             ]
            ],
            "type": "surface"
           }
          ],
          "table": [
           {
            "cells": {
             "fill": {
              "color": "#EBF0F8"
             },
             "line": {
              "color": "white"
             }
            },
            "header": {
             "fill": {
              "color": "#C8D4E3"
             },
             "line": {
              "color": "white"
             }
            },
            "type": "table"
           }
          ]
         },
         "layout": {
          "annotationdefaults": {
           "arrowcolor": "#2a3f5f",
           "arrowhead": 0,
           "arrowwidth": 1
          },
          "autotypenumbers": "strict",
          "coloraxis": {
           "colorbar": {
            "outlinewidth": 0,
            "ticks": ""
           }
          },
          "colorscale": {
           "diverging": [
            [
             0,
             "#8e0152"
            ],
            [
             0.1,
             "#c51b7d"
            ],
            [
             0.2,
             "#de77ae"
            ],
            [
             0.3,
             "#f1b6da"
            ],
            [
             0.4,
             "#fde0ef"
            ],
            [
             0.5,
             "#f7f7f7"
            ],
            [
             0.6,
             "#e6f5d0"
            ],
            [
             0.7,
             "#b8e186"
            ],
            [
             0.8,
             "#7fbc41"
            ],
            [
             0.9,
             "#4d9221"
            ],
            [
             1,
             "#276419"
            ]
           ],
           "sequential": [
            [
             0,
             "#0d0887"
            ],
            [
             0.1111111111111111,
             "#46039f"
            ],
            [
             0.2222222222222222,
             "#7201a8"
            ],
            [
             0.3333333333333333,
             "#9c179e"
            ],
            [
             0.4444444444444444,
             "#bd3786"
            ],
            [
             0.5555555555555556,
             "#d8576b"
            ],
            [
             0.6666666666666666,
             "#ed7953"
            ],
            [
             0.7777777777777778,
             "#fb9f3a"
            ],
            [
             0.8888888888888888,
             "#fdca26"
            ],
            [
             1,
             "#f0f921"
            ]
           ],
           "sequentialminus": [
            [
             0,
             "#0d0887"
            ],
            [
             0.1111111111111111,
             "#46039f"
            ],
            [
             0.2222222222222222,
             "#7201a8"
            ],
            [
             0.3333333333333333,
             "#9c179e"
            ],
            [
             0.4444444444444444,
             "#bd3786"
            ],
            [
             0.5555555555555556,
             "#d8576b"
            ],
            [
             0.6666666666666666,
             "#ed7953"
            ],
            [
             0.7777777777777778,
             "#fb9f3a"
            ],
            [
             0.8888888888888888,
             "#fdca26"
            ],
            [
             1,
             "#f0f921"
            ]
           ]
          },
          "colorway": [
           "#636efa",
           "#EF553B",
           "#00cc96",
           "#ab63fa",
           "#FFA15A",
           "#19d3f3",
           "#FF6692",
           "#B6E880",
           "#FF97FF",
           "#FECB52"
          ],
          "font": {
           "color": "#2a3f5f"
          },
          "geo": {
           "bgcolor": "white",
           "lakecolor": "white",
           "landcolor": "#E5ECF6",
           "showlakes": true,
           "showland": true,
           "subunitcolor": "white"
          },
          "hoverlabel": {
           "align": "left"
          },
          "hovermode": "closest",
          "mapbox": {
           "style": "light"
          },
          "paper_bgcolor": "white",
          "plot_bgcolor": "#E5ECF6",
          "polar": {
           "angularaxis": {
            "gridcolor": "white",
            "linecolor": "white",
            "ticks": ""
           },
           "bgcolor": "#E5ECF6",
           "radialaxis": {
            "gridcolor": "white",
            "linecolor": "white",
            "ticks": ""
           }
          },
          "scene": {
           "xaxis": {
            "backgroundcolor": "#E5ECF6",
            "gridcolor": "white",
            "gridwidth": 2,
            "linecolor": "white",
            "showbackground": true,
            "ticks": "",
            "zerolinecolor": "white"
           },
           "yaxis": {
            "backgroundcolor": "#E5ECF6",
            "gridcolor": "white",
            "gridwidth": 2,
            "linecolor": "white",
            "showbackground": true,
            "ticks": "",
            "zerolinecolor": "white"
           },
           "zaxis": {
            "backgroundcolor": "#E5ECF6",
            "gridcolor": "white",
            "gridwidth": 2,
            "linecolor": "white",
            "showbackground": true,
            "ticks": "",
            "zerolinecolor": "white"
           }
          },
          "shapedefaults": {
           "line": {
            "color": "#2a3f5f"
           }
          },
          "ternary": {
           "aaxis": {
            "gridcolor": "white",
            "linecolor": "white",
            "ticks": ""
           },
           "baxis": {
            "gridcolor": "white",
            "linecolor": "white",
            "ticks": ""
           },
           "bgcolor": "#E5ECF6",
           "caxis": {
            "gridcolor": "white",
            "linecolor": "white",
            "ticks": ""
           }
          },
          "title": {
           "x": 0.05
          },
          "xaxis": {
           "automargin": true,
           "gridcolor": "white",
           "linecolor": "white",
           "ticks": "",
           "title": {
            "standoff": 15
           },
           "zerolinecolor": "white",
           "zerolinewidth": 2
          },
          "yaxis": {
           "automargin": true,
           "gridcolor": "white",
           "linecolor": "white",
           "ticks": "",
           "title": {
            "standoff": 15
           },
           "zerolinecolor": "white",
           "zerolinewidth": 2
          }
         }
        },
        "title": {
         "automargin": false,
         "text": "<b>CHIKV_Mac surgery</b>: Tag Statistics",
         "yref": "container"
        },
        "xaxis": {
         "anchor": "y",
         "autorange": false,
         "domain": [
          0,
          1
         ],
         "range": [
          11.471502335345159,
          28.45510889272221
         ],
         "title": {
          "text": "Tag"
         },
         "type": "category"
        },
        "yaxis": {
         "anchor": "x",
         "autorange": true,
         "domain": [
          0,
          1
         ],
         "range": [
          0.5303528152835423,
          3.9026965963330706
         ],
         "title": {
          "text": "#"
         },
         "type": "log"
        }
       }
      },
      "image/png": "[encoded data removed]",
      "text/html": [
       "<div>                            <div id=\"741af36a-61d6-40a1-85fa-9bacaa5da93c\" class=\"plotly-graph-div\" style=\"height:525px; width:100%;\"></div>            <script type=\"text/javascript\">                require([\"plotly\"], function(Plotly) {                    window.PLOTLYENV=window.PLOTLYENV || {};                                    if (document.getElementById(\"741af36a-61d6-40a1-85fa-9bacaa5da93c\")) {                    Plotly.newPlot(                        \"741af36a-61d6-40a1-85fa-9bacaa5da93c\",                        [{\"alignmentgroup\":\"True\",\"hovertemplate\":\"type=compounds\\u003cbr\\u003etag=%{x}\\u003cbr\\u003enumber=%{y}\\u003cextra\\u003e\\u003c\\u002fextra\\u003e\",\"legendgroup\":\"compounds\",\"marker\":{\"color\":\"#636efa\",\"pattern\":{\"shape\":\"\"}},\"name\":\"compounds\",\"offsetgroup\":\"compounds\",\"orientation\":\"v\",\"showlegend\":true,\"textposition\":\"auto\",\"x\":[\"CrystalformSites upload name\",\"ConformerSites upload name\",\"knitwork\",\"[Other] phosphate-binding site\",\"fragmenstein\",\"butcher: ribose\",\"[Other] ribose site\",\"deprecated\",\"butcher: arginine\",\"rahman_REAL\",\"[Other] adenine site\",\"butcher: adenine\",\"JA\",\"[Other] Arg144 subsite\",\"arg144_pures\",\"[Other] oxyanion hole\",\"[Other] Trp148 subsite\",\"butcher: oxyanion\",\"merge\",\"[Other] ignore\",\"butcher: phosphate\",\"hits\",\"raw\",\"Quatassemblies upload name\",\"Centroid res\",\"[Other] New\",\"rahman_pure\",\"hits (deprecated)\",\"Experiment code\",\"pure_merges\",\"DF\",\"Crystalforms upload name\",\"SeeSAR\",\"rahman_selection\",\"busted\",\"Enamine\",\"CanonSites upload name\"],\"xaxis\":\"x\",\"y\":[0,0,29,0,4264,0,0,0,0,112,0,0,9,0,2680,0,0,0,14,0,0,109,3901,0,0,0,8,0,0,1568,5,0,14,0,0,251,0],\"yaxis\":\"y\",\"type\":\"bar\"},{\"alignmentgroup\":\"True\",\"hovertemplate\":\"type=poses\\u003cbr\\u003etag=%{x}\\u003cbr\\u003enumber=%{y}\\u003cextra\\u003e\\u003c\\u002fextra\\u003e\",\"legendgroup\":\"poses\",\"marker\":{\"color\":\"#EF553B\",\"pattern\":{\"shape\":\"\"}},\"name\":\"poses\",\"offsetgroup\":\"poses\",\"orientation\":\"v\",\"showlegend\":true,\"textposition\":\"auto\",\"x\":[\"CrystalformSites upload name\",\"ConformerSites upload name\",\"knitwork\",\"[Other] phosphate-binding site\",\"fragmenstein\",\"butcher: ribose\",\"[Other] ribose site\",\"deprecated\",\"butcher: arginine\",\"rahman_REAL\",\"[Other] adenine site\",\"butcher: adenine\",\"JA\",\"[Other] Arg144 subsite\",\"arg144_pures\",\"[Other] oxyanion hole\",\"[Other] Trp148 subsite\",\"butcher: oxyanion\",\"merge\",\"[Other] ignore\",\"butcher: phosphate\",\"hits\",\"raw\",\"Quatassemblies upload name\",\"Centroid res\",\"[Other] New\",\"rahman_pure\",\"hits (deprecated)\",\"Experiment code\",\"pure_merges\",\"DF\",\"Crystalforms upload name\",\"SeeSAR\",\"rahman_selection\",\"busted\",\"Enamine\",\"CanonSites upload name\"],\"xaxis\":\"x\",\"y\":[376,376,29,12,5421,44,28,324,547,112,147,1568,9,44,3186,42,69,498,14,26,165,376,5033,376,376,376,8,323,376,1831,5,376,14,6,76,268,376],\"yaxis\":\"y\",\"type\":\"bar\"}],                        {\"template\":{\"data\":{\"histogram2dcontour\":[{\"type\":\"histogram2dcontour\",\"colorbar\":{\"outlinewidth\":0,\"ticks\":\"\"},\"colorscale\":[[0.0,\"#0d0887\"],[0.1111111111111111,\"#46039f\"],[0.2222222222222222,\"#7201a8\"],[0.3333333333333333,\"#9c179e\"],[0.4444444444444444,\"#bd3786\"],[0.5555555555555556,\"#d8576b\"],[0.6666666666666666,\"#ed7953\"],[0.7777777777777778,\"#fb9f3a\"],[0.8888888888888888,\"#fdca26\"],[1.0,\"#f0f921\"]]}],\"choropleth\":[{\"type\":\"choropleth\",\"colorbar\":{\"outlinewidth\":0,\"ticks\":\"\"}}],\"histogram2d\":[{\"type\":\"histogram2d\",\"colorbar\":{\"outlinewidth\":0,\"ticks\":\"\"},\"colorscale\":[[0.0,\"#0d0887\"],[0.1111111111111111,\"#46039f\"],[0.2222222222222222,\"#7201a8\"],[0.3333333333333333,\"#9c179e\"],[0.4444444444444444,\"#bd3786\"],[0.5555555555555556,\"#d8576b\"],[0.6666666666666666,\"#ed7953\"],[0.7777777777777778,\"#fb9f3a\"],[0.8888888888888888,\"#fdca26\"],[1.0,\"#f0f921\"]]}],\"heatmap\":[{\"type\":\"heatmap\",\"colorbar\":{\"outlinewidth\":0,\"ticks\":\"\"},\"colorscale\":[[0.0,\"#0d0887\"],[0.1111111111111111,\"#46039f\"],[0.2222222222222222,\"#7201a8\"],[0.3333333333333333,\"#9c179e\"],[0.4444444444444444,\"#bd3786\"],[0.5555555555555556,\"#d8576b\"],[0.6666666666666666,\"#ed7953\"],[0.7777777777777778,\"#fb9f3a\"],[0.8888888888888888,\"#fdca26\"],[1.0,\"#f0f921\"]]}],\"heatmapgl\":[{\"type\":\"heatmapgl\",\"colorbar\":{\"outlinewidth\":0,\"ticks\":\"\"},\"colorscale\":[[0.0,\"#0d0887\"],[0.1111111111111111,\"#46039f\"],[0.2222222222222222,\"#7201a8\"],[0.3333333333333333,\"#9c179e\"],[0.4444444444444444,\"#bd3786\"],[0.5555555555555556,\"#d8576b\"],[0.6666666666666666,\"#ed7953\"],[0.7777777777777778,\"#fb9f3a\"],[0.8888888888888888,\"#fdca26\"],[1.0,\"#f0f921\"]]}],\"contourcarpet\":[{\"type\":\"contourcarpet\",\"colorbar\":{\"outlinewidth\":0,\"ticks\":\"\"}}],\"contour\":[{\"type\":\"contour\",\"colorbar\":{\"outlinewidth\":0,\"ticks\":\"\"},\"colorscale\":[[0.0,\"#0d0887\"],[0.1111111111111111,\"#46039f\"],[0.2222222222222222,\"#7201a8\"],[0.3333333333333333,\"#9c179e\"],[0.4444444444444444,\"#bd3786\"],[0.5555555555555556,\"#d8576b\"],[0.6666666666666666,\"#ed7953\"],[0.7777777777777778,\"#fb9f3a\"],[0.8888888888888888,\"#fdca26\"],[1.0,\"#f0f921\"]]}],\"surface\":[{\"type\":\"surface\",\"colorbar\":{\"outlinewidth\":0,\"ticks\":\"\"},\"colorscale\":[[0.0,\"#0d0887\"],[0.1111111111111111,\"#46039f\"],[0.2222222222222222,\"#7201a8\"],[0.3333333333333333,\"#9c179e\"],[0.4444444444444444,\"#bd3786\"],[0.5555555555555556,\"#d8576b\"],[0.6666666666666666,\"#ed7953\"],[0.7777777777777778,\"#fb9f3a\"],[0.8888888888888888,\"#fdca26\"],[1.0,\"#f0f921\"]]}],\"mesh3d\":[{\"type\":\"mesh3d\",\"colorbar\":{\"outlinewidth\":0,\"ticks\":\"\"}}],\"scatter\":[{\"fillpattern\":{\"fillmode\":\"overlay\",\"size\":10,\"solidity\":0.2},\"type\":\"scatter\"}],\"parcoords\":[{\"type\":\"parcoords\",\"line\":{\"colorbar\":{\"outlinewidth\":0,\"ticks\":\"\"}}}],\"scatterpolargl\":[{\"type\":\"scatterpolargl\",\"marker\":{\"colorbar\":{\"outlinewidth\":0,\"ticks\":\"\"}}}],\"bar\":[{\"error_x\":{\"color\":\"#2a3f5f\"},\"error_y\":{\"color\":\"#2a3f5f\"},\"marker\":{\"line\":{\"color\":\"#E5ECF6\",\"width\":0.5},\"pattern\":{\"fillmode\":\"overlay\",\"size\":10,\"solidity\":0.2}},\"type\":\"bar\"}],\"scattergeo\":[{\"type\":\"scattergeo\",\"marker\":{\"colorbar\":{\"outlinewidth\":0,\"ticks\":\"\"}}}],\"scatterpolar\":[{\"type\":\"scatterpolar\",\"marker\":{\"colorbar\":{\"outlinewidth\":0,\"ticks\":\"\"}}}],\"histogram\":[{\"marker\":{\"pattern\":{\"fillmode\":\"overlay\",\"size\":10,\"solidity\":0.2}},\"type\":\"histogram\"}],\"scattergl\":[{\"type\":\"scattergl\",\"marker\":{\"colorbar\":{\"outlinewidth\":0,\"ticks\":\"\"}}}],\"scatter3d\":[{\"type\":\"scatter3d\",\"line\":{\"colorbar\":{\"outlinewidth\":0,\"ticks\":\"\"}},\"marker\":{\"colorbar\":{\"outlinewidth\":0,\"ticks\":\"\"}}}],\"scattermapbox\":[{\"type\":\"scattermapbox\",\"marker\":{\"colorbar\":{\"outlinewidth\":0,\"ticks\":\"\"}}}],\"scatterternary\":[{\"type\":\"scatterternary\",\"marker\":{\"colorbar\":{\"outlinewidth\":0,\"ticks\":\"\"}}}],\"scattercarpet\":[{\"type\":\"scattercarpet\",\"marker\":{\"colorbar\":{\"outlinewidth\":0,\"ticks\":\"\"}}}],\"carpet\":[{\"aaxis\":{\"endlinecolor\":\"#2a3f5f\",\"gridcolor\":\"white\",\"linecolor\":\"white\",\"minorgridcolor\":\"white\",\"startlinecolor\":\"#2a3f5f\"},\"baxis\":{\"endlinecolor\":\"#2a3f5f\",\"gridcolor\":\"white\",\"linecolor\":\"white\",\"minorgridcolor\":\"white\",\"startlinecolor\":\"#2a3f5f\"},\"type\":\"carpet\"}],\"table\":[{\"cells\":{\"fill\":{\"color\":\"#EBF0F8\"},\"line\":{\"color\":\"white\"}},\"header\":{\"fill\":{\"color\":\"#C8D4E3\"},\"line\":{\"color\":\"white\"}},\"type\":\"table\"}],\"barpolar\":[{\"marker\":{\"line\":{\"color\":\"#E5ECF6\",\"width\":0.5},\"pattern\":{\"fillmode\":\"overlay\",\"size\":10,\"solidity\":0.2}},\"type\":\"barpolar\"}],\"pie\":[{\"automargin\":true,\"type\":\"pie\"}]},\"layout\":{\"autotypenumbers\":\"strict\",\"colorway\":[\"#636efa\",\"#EF553B\",\"#00cc96\",\"#ab63fa\",\"#FFA15A\",\"#19d3f3\",\"#FF6692\",\"#B6E880\",\"#FF97FF\",\"#FECB52\"],\"font\":{\"color\":\"#2a3f5f\"},\"hovermode\":\"closest\",\"hoverlabel\":{\"align\":\"left\"},\"paper_bgcolor\":\"white\",\"plot_bgcolor\":\"#E5ECF6\",\"polar\":{\"bgcolor\":\"#E5ECF6\",\"angularaxis\":{\"gridcolor\":\"white\",\"linecolor\":\"white\",\"ticks\":\"\"},\"radialaxis\":{\"gridcolor\":\"white\",\"linecolor\":\"white\",\"ticks\":\"\"}},\"ternary\":{\"bgcolor\":\"#E5ECF6\",\"aaxis\":{\"gridcolor\":\"white\",\"linecolor\":\"white\",\"ticks\":\"\"},\"baxis\":{\"gridcolor\":\"white\",\"linecolor\":\"white\",\"ticks\":\"\"},\"caxis\":{\"gridcolor\":\"white\",\"linecolor\":\"white\",\"ticks\":\"\"}},\"coloraxis\":{\"colorbar\":{\"outlinewidth\":0,\"ticks\":\"\"}},\"colorscale\":{\"sequential\":[[0.0,\"#0d0887\"],[0.1111111111111111,\"#46039f\"],[0.2222222222222222,\"#7201a8\"],[0.3333333333333333,\"#9c179e\"],[0.4444444444444444,\"#bd3786\"],[0.5555555555555556,\"#d8576b\"],[0.6666666666666666,\"#ed7953\"],[0.7777777777777778,\"#fb9f3a\"],[0.8888888888888888,\"#fdca26\"],[1.0,\"#f0f921\"]],\"sequentialminus\":[[0.0,\"#0d0887\"],[0.1111111111111111,\"#46039f\"],[0.2222222222222222,\"#7201a8\"],[0.3333333333333333,\"#9c179e\"],[0.4444444444444444,\"#bd3786\"],[0.5555555555555556,\"#d8576b\"],[0.6666666666666666,\"#ed7953\"],[0.7777777777777778,\"#fb9f3a\"],[0.8888888888888888,\"#fdca26\"],[1.0,\"#f0f921\"]],\"diverging\":[[0,\"#8e0152\"],[0.1,\"#c51b7d\"],[0.2,\"#de77ae\"],[0.3,\"#f1b6da\"],[0.4,\"#fde0ef\"],[0.5,\"#f7f7f7\"],[0.6,\"#e6f5d0\"],[0.7,\"#b8e186\"],[0.8,\"#7fbc41\"],[0.9,\"#4d9221\"],[1,\"#276419\"]]},\"xaxis\":{\"gridcolor\":\"white\",\"linecolor\":\"white\",\"ticks\":\"\",\"title\":{\"standoff\":15},\"zerolinecolor\":\"white\",\"automargin\":true,\"zerolinewidth\":2},\"yaxis\":{\"gridcolor\":\"white\",\"linecolor\":\"white\",\"ticks\":\"\",\"title\":{\"standoff\":15},\"zerolinecolor\":\"white\",\"automargin\":true,\"zerolinewidth\":2},\"scene\":{\"xaxis\":{\"backgroundcolor\":\"#E5ECF6\",\"gridcolor\":\"white\",\"linecolor\":\"white\",\"showbackground\":true,\"ticks\":\"\",\"zerolinecolor\":\"white\",\"gridwidth\":2},\"yaxis\":{\"backgroundcolor\":\"#E5ECF6\",\"gridcolor\":\"white\",\"linecolor\":\"white\",\"showbackground\":true,\"ticks\":\"\",\"zerolinecolor\":\"white\",\"gridwidth\":2},\"zaxis\":{\"backgroundcolor\":\"#E5ECF6\",\"gridcolor\":\"white\",\"linecolor\":\"white\",\"showbackground\":true,\"ticks\":\"\",\"zerolinecolor\":\"white\",\"gridwidth\":2}},\"shapedefaults\":{\"line\":{\"color\":\"#2a3f5f\"}},\"annotationdefaults\":{\"arrowcolor\":\"#2a3f5f\",\"arrowhead\":0,\"arrowwidth\":1},\"geo\":{\"bgcolor\":\"white\",\"landcolor\":\"#E5ECF6\",\"subunitcolor\":\"white\",\"showland\":true,\"showlakes\":true,\"lakecolor\":\"white\"},\"title\":{\"x\":0.05},\"mapbox\":{\"style\":\"light\"}}},\"xaxis\":{\"anchor\":\"y\",\"domain\":[0.0,1.0],\"title\":{\"text\":\"Tag\"}},\"yaxis\":{\"anchor\":\"x\",\"domain\":[0.0,1.0],\"title\":{\"text\":\"#\"},\"type\":\"log\"},\"legend\":{\"title\":{\"text\":\"type\"},\"tracegroupgap\":0},\"margin\":{\"t\":60},\"barmode\":\"group\",\"title\":{\"text\":\"\\u003cb\\u003eCHIKV_Mac surgery\\u003c\\u002fb\\u003e: Tag Statistics\",\"automargin\":false,\"yref\":\"container\"},\"images\":[{\"sizex\":0.3,\"sizey\":0.3,\"source\":\"https:\\u002f\\u002fraw.githubusercontent.com\\u002fmwinokan\\u002fHIPPO\\u002fmain\\u002flogos\\u002fhippo_logo_tightcrop.png\",\"x\":0.95,\"xanchor\":\"right\",\"xref\":\"paper\",\"y\":0.95,\"yanchor\":\"top\",\"yref\":\"paper\"}]},                        {\"responsive\": true}                    ).then(function(){\n",
       "                            \n",
       "var gd = document.getElementById('741af36a-61d6-40a1-85fa-9bacaa5da93c');\n",
       "var x = new MutationObserver(function (mutations, observer) {{\n",
       "        var display = window.getComputedStyle(gd).display;\n",
       "        if (!display || display === 'none') {{\n",
       "            console.log([gd, 'removed!']);\n",
       "            Plotly.purge(gd);\n",
       "            observer.disconnect();\n",
       "        }}\n",
       "}});\n",
       "\n",
       "// Listen for the removal of the full notebook cells\n",
       "var notebookContainer = gd.closest('#notebook-container');\n",
       "if (notebookContainer) {{\n",
       "    x.observe(notebookContainer, {childList: true});\n",
       "}}\n",
       "\n",
       "// Listen for the clearing of the current output cell\n",
       "var outputEl = gd.closest('.output');\n",
       "if (outputEl) {{\n",
       "    x.observe(outputEl, {childList: true});\n",
       "}}\n",
       "\n",
       "                        })                };                });            </script>        </div>"
      ]
     },
     "metadata": {},
     "output_type": "display_data"
    }
   ],
   "source": [
    "animal.plot_tag_statistics(log_y=True)"
   ]
  },
  {
   "cell_type": "code",
   "execution_count": 19,
   "id": "d523aa07-6f26-4aee-b662-6004bb4757e5",
   "metadata": {},
   "outputs": [
    {
     "name": "stdout",
     "output_type": "stream",
     "text": [
      "\u001b[1m\u001b[38;5;166mP5789: c0270a\u001b[0m\n",
      "\u001b[7m\u001b[1m\u001b[38;5;11m DISK \u001b[0m Reading \u001b[38;5;11m/opt/xchem-fragalysis-2/maxwin/CHIKV_HIPPO/aligned_files_13/c0270a/c0270a.pdb\u001b[0m\n",
      "\u001b[36minchikey\u001b[0m = OHXYWSIWHXTWCT-UHFFFAOYSA-N\u001b[0m\n",
      "\u001b[36malias\u001b[0m = c0270a\u001b[0m\n",
      "\u001b[36msmiles\u001b[0m = CNC(=O)c1cn(C)c2ccccc12\u001b[0m\n",
      "\u001b[36mcompound\u001b[0m = \u001b[1m\u001b[4mC88 \"OHXYWSIWHXTWCT-UHFFFAOYSA-N\"\u001b[22m\u001b[24m\u001b[0m\n",
      "\u001b[36mpath\u001b[0m = /opt/xchem-fragalysis-2/maxwin/CHIKV_HIPPO/aligned_files_13/c0270a/c0270a.pdb\u001b[0m\n",
      "\u001b[36mtarget\u001b[0m = \u001b[1m\u001b[4mT1 \"CHIKV_Mac\"\u001b[22m\u001b[24m\u001b[0m\n",
      "\u001b[36mreference\u001b[0m = None\u001b[0m\n",
      "\u001b[36mtags\u001b[0m = ['CrystalformSites upload name', 'Centroid res', '[Other] New', 'ConformerSites upload name', 'hits', 'Experiment code', 'Crystalforms upload name', 'Quatassemblies upload name', 'CanonSites upload name']\u001b[0m\n",
      "\u001b[36mnum_heavy_atoms\u001b[0m = 14\u001b[0m\n"
     ]
    },
    {
     "data": {
      "image/png": "[encoded data removed]",
      "text/plain": [
       "<IPython.core.display.Image object>"
      ]
     },
     "metadata": {},
     "output_type": "display_data"
    },
    {
     "data": {
      "application/3dmoljs_load.v0": "<div id=\"3dmolviewer_17265858849291353\"  style=\"position: relative; width: 400px; height: 400px;\">\n        <p id=\"3dmolwarning_17265858849291353\" style=\"background-color:#ffcccc;color:black\">3Dmol.js failed to load for some reason.  Please check your browser console for error messages.<br></p>\n        </div>\n<script>\n\nvar loadScriptAsync = function(uri){\n  return new Promise((resolve, reject) => {\n    //this is to ignore the existence of requirejs amd\n    var savedexports, savedmodule;\n    if (typeof exports !== 'undefined') savedexports = exports;\n    else exports = {}\n    if (typeof module !== 'undefined') savedmodule = module;\n    else module = {}\n\n    var tag = document.createElement('script');\n    tag.src = uri;\n    tag.async = true;\n    tag.onload = () => {\n        exports = savedexports;\n        module = savedmodule;\n        resolve();\n    };\n  var firstScriptTag = document.getElementsByTagName('script')[0];\n  firstScriptTag.parentNode.insertBefore(tag, firstScriptTag);\n});\n};\n\nif(typeof $3Dmolpromise === 'undefined') {\n$3Dmolpromise = null;\n  $3Dmolpromise = loadScriptAsync('https://cdnjs.cloudflare.com/ajax/libs/3Dmol/2.1.0/3Dmol-min.js');\n}\n\nvar viewer_17265858849291353 = null;\nvar warn = document.getElementById(\"3dmolwarning_17265858849291353\");\nif(warn) {\n    warn.parentNode.removeChild(warn);\n}\n$3Dmolpromise.then(function() {\nviewer_17265858849291353 = $3Dmol.createViewer(document.getElementById(\"3dmolviewer_17265858849291353\"),{backgroundColor:\"white\"});\nviewer_17265858849291353.zoomTo();\n\tviewer_17265858849291353.removeAllModels();\n\tviewer_17265858849291353.addModel(\"\\n     RDKit          3D\\n\\n 14 15  0  0  0  0  0  0  0  0999 V2000\\n   16.5180   10.3250   10.3960 N   0  0  0  0  0  0  0  0  0  0  0  0\\n   15.7780    9.0970   10.1670 C   0  0  0  0  0  0  0  0  0  0  0  0\\n   15.4490   10.8470   12.3040 O   0  0  0  0  0  0  0  0  0  0  0  0\\n   16.3780   11.0360   11.5130 C   0  0  0  0  0  0  0  0  0  0  0  0\\n   18.7860   12.1870   11.3460 C   0  0  0  0  0  0  0  0  0  0  0  0\\n   17.3980   12.1150   11.7590 C   0  0  0  0  0  0  0  0  0  0  0  0\\n   17.1630   13.2460   12.4940 C   0  0  0  0  0  0  0  0  0  0  0  0\\n   18.4200   15.2800   13.2800 C   0  0  0  0  0  0  0  0  0  0  0  0\\n   19.3070   13.3760   11.8840 C   0  0  0  0  0  0  0  0  0  0  0  0\\n   20.6370   13.7380   11.7110 C   0  0  0  0  0  0  0  0  0  0  0  0\\n   21.4630   12.8930   10.9840 C   0  0  0  0  0  0  0  0  0  0  0  0\\n   20.9670   11.7210   10.4300 C   0  0  0  0  0  0  0  0  0  0  0  0\\n   19.6340   11.3630   10.6020 C   0  0  0  0  0  0  0  0  0  0  0  0\\n   18.2970   14.0100   12.5750 N   0  0  0  0  0  0  0  0  0  0  0  0\\n  2  1  1  0\\n  4  3  2  0\\n  4  1  1  0\\n  6  5  1  0\\n  6  4  1  0\\n  7  6  2  0\\n  9  5  2  0\\n 10  9  1  0\\n 11 10  2  0\\n 12 11  1  0\\n 13 12  2  0\\n 13  5  1  0\\n 14  9  1  0\\n 14  8  1  0\\n 14  7  1  0\\nM  END\\n\",\"sdf\");\n\tviewer_17265858849291353.setStyle({\"stick\": {}});\n\tviewer_17265858849291353.setStyle({\"model\": 0},{\"stick\": {\"colorscheme\": \"cyanCarbon\"}});\n\tviewer_17265858849291353.zoomTo();\nviewer_17265858849291353.render();\n});\n</script>",
      "text/html": [
       "<div id=\"3dmolviewer_17265858849291353\"  style=\"position: relative; width: 400px; height: 400px;\">\n",
       "        <p id=\"3dmolwarning_17265858849291353\" style=\"background-color:#ffcccc;color:black\">3Dmol.js failed to load for some reason.  Please check your browser console for error messages.<br></p>\n",
       "        </div>\n",
       "<script>\n",
       "\n",
       "var loadScriptAsync = function(uri){\n",
       "  return new Promise((resolve, reject) => {\n",
       "    //this is to ignore the existence of requirejs amd\n",
       "    var savedexports, savedmodule;\n",
       "    if (typeof exports !== 'undefined') savedexports = exports;\n",
       "    else exports = {}\n",
       "    if (typeof module !== 'undefined') savedmodule = module;\n",
       "    else module = {}\n",
       "\n",
       "    var tag = document.createElement('script');\n",
       "    tag.src = uri;\n",
       "    tag.async = true;\n",
       "    tag.onload = () => {\n",
       "        exports = savedexports;\n",
       "        module = savedmodule;\n",
       "        resolve();\n",
       "    };\n",
       "  var firstScriptTag = document.getElementsByTagName('script')[0];\n",
       "  firstScriptTag.parentNode.insertBefore(tag, firstScriptTag);\n",
       "});\n",
       "};\n",
       "\n",
       "if(typeof $3Dmolpromise === 'undefined') {\n",
       "$3Dmolpromise = null;\n",
       "  $3Dmolpromise = loadScriptAsync('https://cdnjs.cloudflare.com/ajax/libs/3Dmol/2.1.0/3Dmol-min.js');\n",
       "}\n",
       "\n",
       "var viewer_17265858849291353 = null;\n",
       "var warn = document.getElementById(\"3dmolwarning_17265858849291353\");\n",
       "if(warn) {\n",
       "    warn.parentNode.removeChild(warn);\n",
       "}\n",
       "$3Dmolpromise.then(function() {\n",
       "viewer_17265858849291353 = $3Dmol.createViewer(document.getElementById(\"3dmolviewer_17265858849291353\"),{backgroundColor:\"white\"});\n",
       "viewer_17265858849291353.zoomTo();\n",
       "\tviewer_17265858849291353.removeAllModels();\n",
       "\tviewer_17265858849291353.addModel(\"\\n     RDKit          3D\\n\\n 14 15  0  0  0  0  0  0  0  0999 V2000\\n   16.5180   10.3250   10.3960 N   0  0  0  0  0  0  0  0  0  0  0  0\\n   15.7780    9.0970   10.1670 C   0  0  0  0  0  0  0  0  0  0  0  0\\n   15.4490   10.8470   12.3040 O   0  0  0  0  0  0  0  0  0  0  0  0\\n   16.3780   11.0360   11.5130 C   0  0  0  0  0  0  0  0  0  0  0  0\\n   18.7860   12.1870   11.3460 C   0  0  0  0  0  0  0  0  0  0  0  0\\n   17.3980   12.1150   11.7590 C   0  0  0  0  0  0  0  0  0  0  0  0\\n   17.1630   13.2460   12.4940 C   0  0  0  0  0  0  0  0  0  0  0  0\\n   18.4200   15.2800   13.2800 C   0  0  0  0  0  0  0  0  0  0  0  0\\n   19.3070   13.3760   11.8840 C   0  0  0  0  0  0  0  0  0  0  0  0\\n   20.6370   13.7380   11.7110 C   0  0  0  0  0  0  0  0  0  0  0  0\\n   21.4630   12.8930   10.9840 C   0  0  0  0  0  0  0  0  0  0  0  0\\n   20.9670   11.7210   10.4300 C   0  0  0  0  0  0  0  0  0  0  0  0\\n   19.6340   11.3630   10.6020 C   0  0  0  0  0  0  0  0  0  0  0  0\\n   18.2970   14.0100   12.5750 N   0  0  0  0  0  0  0  0  0  0  0  0\\n  2  1  1  0\\n  4  3  2  0\\n  4  1  1  0\\n  6  5  1  0\\n  6  4  1  0\\n  7  6  2  0\\n  9  5  2  0\\n 10  9  1  0\\n 11 10  2  0\\n 12 11  1  0\\n 13 12  2  0\\n 13  5  1  0\\n 14  9  1  0\\n 14  8  1  0\\n 14  7  1  0\\nM  END\\n\",\"sdf\");\n",
       "\tviewer_17265858849291353.setStyle({\"stick\": {}});\n",
       "\tviewer_17265858849291353.setStyle({\"model\": 0},{\"stick\": {\"colorscheme\": \"cyanCarbon\"}});\n",
       "\tviewer_17265858849291353.zoomTo();\n",
       "viewer_17265858849291353.render();\n",
       "});\n",
       "</script>"
      ]
     },
     "metadata": {},
     "output_type": "display_data"
    },
    {
     "name": "stdout",
     "output_type": "stream",
     "text": [
      "\u001b[34m\u001b[1m>>> Metadata:\u001b[0m\n",
      "{'CanonSites alias': '1 - c0300+A+401+1',\n",
      " 'ConformerSites alias': '1a - c0300+A+401',\n",
      " 'CrystalformSites alias': 'F1a - c0270/A/304',\n",
      " 'Crystalforms alias': 'F1 - P31-4fold-NCS',\n",
      " 'Quatassemblies alias': 'A1 - monomer',\n",
      " 'observation_longname': 'CHIKV_MacB-x0270_A_304_1_CHIKV_MacB-x0300+A+401+1'}\n"
     ]
    }
   ],
   "source": [
    "animal.poses['c0270a'].showcase()"
   ]
  },
  {
   "cell_type": "markdown",
   "id": "280925be-8e49-44dc-b8ed-8808f7ae693a",
   "metadata": {},
   "source": [
    "## Deprecate designs inspired by old poses"
   ]
  },
  {
   "cell_type": "code",
   "execution_count": 40,
   "id": "7ac483ca-0a31-4b62-8101-2cc0d6a55a85",
   "metadata": {},
   "outputs": [
    {
     "name": "stdout",
     "output_type": "stream",
     "text": [
      "Tagged \u001b[1m\u001b[4mderivatives of \u001b[1m\u001b[4mposes tagged \"hits (deprecated)\": {P x 323}\u001b[22m\u001b[24m: {P x 5464}\u001b[22m\u001b[24m w/ \"deprecated\"\n"
     ]
    }
   ],
   "source": [
    "animal.poses(tag='hits (deprecated)').derivatives.add_tag('deprecated')"
   ]
  }
 ],
 "metadata": {
  "kernelspec": {
   "display_name": "Python [conda env:base] *",
   "language": "python",
   "name": "conda-base-py"
  },
  "language_info": {
   "codemirror_mode": {
    "name": "ipython",
    "version": 3
   },
   "file_extension": ".py",
   "mimetype": "text/x-python",
   "name": "python",
   "nbconvert_exporter": "python",
   "pygments_lexer": "ipython3",
   "version": "3.11.6"
  }
 },
 "nbformat": 4,
 "nbformat_minor": 5
}
