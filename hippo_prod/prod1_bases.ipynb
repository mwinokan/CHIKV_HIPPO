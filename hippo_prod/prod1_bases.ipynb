{
 "cells": [
  {
   "cell_type": "markdown",
   "id": "f44fe4bd-4100-4c30-865f-31b4b39b51a1",
   "metadata": {},
   "source": [
    "# CHIKV_Mac HIPPO FFF Prod. 1 (bases)"
   ]
  },
  {
   "cell_type": "markdown",
   "id": "391901f3-c28f-4e0b-8365-3b83e856794f",
   "metadata": {},
   "source": [
    "## Setup"
   ]
  },
  {
   "cell_type": "code",
   "execution_count": 1,
   "id": "67e0551e-667c-43df-ad29-c2aa6484f36c",
   "metadata": {},
   "outputs": [],
   "source": [
    "%load_ext autoreload\n",
    "%autoreload 2\n",
    "import hippo\n",
    "from pathlib import Path\n",
    "from mlog import setup_logger\n",
    "import pandas as pd\n",
    "import numpy as np\n",
    "logger=setup_logger('notebook')"
   ]
  },
  {
   "cell_type": "code",
   "execution_count": 2,
   "id": "a3f50ac1-00c4-465e-ac93-57c43ad27bed",
   "metadata": {},
   "outputs": [
    {
     "name": "stdout",
     "output_type": "stream",
     "text": [
      "'CHIKV_prod0.sqlite' -> 'CHIKV_prod1.sqlite'\n"
     ]
    }
   ],
   "source": [
    "!cp -v CHIKV_prod0.sqlite CHIKV_prod1.sqlite"
   ]
  },
  {
   "cell_type": "code",
   "execution_count": 3,
   "id": "8e68971c-7061-4838-81bc-191f664d11ad",
   "metadata": {},
   "outputs": [
    {
     "name": "stdout",
     "output_type": "stream",
     "text": [
      "\u001b[1m\u001b[38;5;166mCreating HIPPO animal\u001b[0m\n",
      "\u001b[36mname\u001b[0m = \u001b[38;5;154mCHIKV_prod1\u001b[0m\n",
      "\u001b[36mdb_path\u001b[0m = \u001b[38;5;11mCHIKV_prod1.sqlite\u001b[0m\n",
      "\u001b[2mDEBUG: hippo3.Database.__init__()\u001b[0m\n",
      "\u001b[2mDEBUG: Database.path = CHIKV_prod1.sqlite\u001b[0m\n",
      "\u001b[2mDEBUG: hippo3.Database.connect()\u001b[0m\n",
      "\u001b[2mDEBUG: sqlite3.version='2.6.0'\u001b[0m\n",
      "\u001b[7m\u001b[32;1m SUCCESS \u001b[0m\u001b[32;1m Database connected @ \u001b[38;5;11mCHIKV_prod1.sqlite!\u001b[0m\n",
      "\u001b[7m\u001b[32;1m SUCCESS \u001b[0m\u001b[32;1m Initialised animal HIPPO(\"CHIKV_prod1\")!\u001b[0m\n"
     ]
    }
   ],
   "source": [
    "animal = hippo.HIPPO('CHIKV_prod1', 'CHIKV_prod1.sqlite')"
   ]
  },
  {
   "cell_type": "markdown",
   "id": "3c6e4e09-776e-4e87-9712-cef38e339c75",
   "metadata": {},
   "source": [
    "## Load base compounds"
   ]
  },
  {
   "cell_type": "code",
   "execution_count": 4,
   "id": "316e4b10-0548-402a-977e-6f492cbd8fea",
   "metadata": {},
   "outputs": [],
   "source": [
    "df = pd.read_csv('/opt/xchem-fragalysis-2/kfieseler/CHIKV-Mac-syndirella-run/sept9_syndirella_final_output.csv')\n",
    "\n",
    "ref_lookup = {}\n",
    "\n",
    "for i,row in df.iterrows():\n",
    "    to_hippo, template = row['to_hippo'], row['template']\n",
    "    if to_hippo is np.nan:\n",
    "        continue\n",
    "    ref_lookup[to_hippo] = Path(template).name.split('_')[0].replace('x', '')"
   ]
  },
  {
   "cell_type": "code",
   "execution_count": 5,
   "id": "bcad69be-d160-4cf5-b9a6-5518bd41b2a1",
   "metadata": {},
   "outputs": [
    {
     "name": "stdout",
     "output_type": "stream",
     "text": [
      "\u001b[7m\u001b[1m\u001b[38;5;11m DISK \u001b[0m Reading \u001b[38;5;11m/opt/xchem-fragalysis-2/kfieseler/CHIKV-Mac/SMVDAYWKXWVCAN-MRVPVSSYSA-N/SMVDAYWKXWVCAN-MRVPVSSYSA-N_32fgo7_to_hippo.pkl.gz\u001b[0m\n",
      "\u001b[36mPresent reactions\u001b[0m = {'Amidation'}\u001b[0m\n",
      "\u001b[7m\u001b[38;5;166m\u001b[1m Warning \u001b[0m\u001b[38;5;166m Skipping (row i=1) which has intra_geometry_pass=False\u001b[0m\n",
      "\u001b[7m\u001b[1m\u001b[38;5;11m DISK \u001b[0m Reading \u001b[38;5;11m/opt/xchem-fragalysis-2/kfieseler/CHIKV-Mac/RTRFWLCSCBITKB-UHFFFAOYSA-N/RTRFWLCSCBITKB-UHFFFAOYSA-N_6PQWWH_to_hippo.pkl.gz\u001b[0m\n",
      "\u001b[36mPresent reactions\u001b[0m = {'Amidation', 'Ester_amidation'}\u001b[0m\n",
      "\u001b[7m\u001b[31;1m ERROR \u001b[0m\u001b[31;1m No base/scaffold rows found in RTRFWLCSCBITKB-UHFFFAOYSA-N_6PQWWH_to_hippo.pkl.gz!\u001b[0m\n",
      "\u001b[7m\u001b[1m\u001b[38;5;11m DISK \u001b[0m Reading \u001b[38;5;11m/opt/xchem-fragalysis-2/kfieseler/CHIKV-Mac/MNLAWAQYKQVGLK-UHFFFAOYSA-N/MNLAWAQYKQVGLK-UHFFFAOYSA-N_qehMd6_to_hippo.pkl.gz\u001b[0m\n",
      "\u001b[36mPresent reactions\u001b[0m = {'Amidation'}\u001b[0m\n",
      "\u001b[7m\u001b[1m\u001b[38;5;11m DISK \u001b[0m Reading \u001b[38;5;11m/opt/xchem-fragalysis-2/kfieseler/CHIKV-Mac/FCGOSHSMTQLVEX-UHFFFAOYSA-N/FCGOSHSMTQLVEX-UHFFFAOYSA-N_tTnD23_to_hippo.pkl.gz\u001b[0m\n",
      "\u001b[36mPresent reactions\u001b[0m = {'Amidation'}\u001b[0m\n",
      "\u001b[7m\u001b[38;5;166m\u001b[1m Warning \u001b[0m\u001b[38;5;166m Skipped 1 elaborations that are smaller than the base compound\u001b[0m\n",
      "\u001b[7m\u001b[1m\u001b[38;5;11m DISK \u001b[0m Reading \u001b[38;5;11m/opt/xchem-fragalysis-2/kfieseler/CHIKV-Mac/WHLDZOYDHAHKLT-DTWKUNHWSA-N/WHLDZOYDHAHKLT-DTWKUNHWSA-N_bk89Er_to_hippo.pkl.gz\u001b[0m\n",
      "\u001b[36mPresent reactions\u001b[0m = {'Buchwald-Hartwig_amination'}\u001b[0m\n",
      "\u001b[7m\u001b[38;5;166m\u001b[1m Warning \u001b[0m\u001b[38;5;166m No bases have truthy intra_geometry_pass. Inserting them anyway\u001b[0m\n",
      "\u001b[7m\u001b[38;5;166m\u001b[1m Warning \u001b[0m\u001b[38;5;166m Skipped 10 elaborations that are smaller than the base compound\u001b[0m\n",
      "\u001b[7m\u001b[1m\u001b[38;5;11m DISK \u001b[0m Reading \u001b[38;5;11m/opt/xchem-fragalysis-2/kfieseler/CHIKV-Mac/IMTCTUMLWQUKFC-UHFFFAOYSA-N/IMTCTUMLWQUKFC-UHFFFAOYSA-N_8NWsBn_to_hippo.pkl.gz\u001b[0m\n",
      "\u001b[36mPresent reactions\u001b[0m = {'Ester_amidation'}\u001b[0m\n",
      "\u001b[7m\u001b[1m\u001b[38;5;11m DISK \u001b[0m Reading \u001b[38;5;11m/opt/xchem-fragalysis-2/kfieseler/CHIKV-Mac/IBNRYRKGRKRSMK-NSHDSACASA-N/IBNRYRKGRKRSMK-NSHDSACASA-N_fMJ6FM_to_hippo.pkl.gz\u001b[0m\n",
      "\u001b[36mPresent reactions\u001b[0m = {'Nucleophilic_substitution_with_amine', 'Amidation', 'N-Bn_deprotection', 'Amide_Schotten-Baumann_with_amine'}\u001b[0m\n",
      "\u001b[7m\u001b[31;1m ERROR \u001b[0m\u001b[31;1m No base/scaffold rows found in IBNRYRKGRKRSMK-NSHDSACASA-N_fMJ6FM_to_hippo.pkl.gz!\u001b[0m\n",
      "\u001b[7m\u001b[1m\u001b[38;5;11m DISK \u001b[0m Reading \u001b[38;5;11m/opt/xchem-fragalysis-2/kfieseler/CHIKV-Mac/YIIMVUSFSKUYCA-UHFFFAOYSA-N/YIIMVUSFSKUYCA-UHFFFAOYSA-N_wzbbXS_to_hippo.pkl.gz\u001b[0m\n",
      "\u001b[36mPresent reactions\u001b[0m = {'Amidation', 'N-Boc_deprotection'}\u001b[0m\n",
      "\u001b[7m\u001b[1m\u001b[38;5;11m DISK \u001b[0m Reading \u001b[38;5;11m/opt/xchem-fragalysis-2/kfieseler/CHIKV-Mac/QQBWHKPVEOERHW-UHFFFAOYSA-N/QQBWHKPVEOERHW-UHFFFAOYSA-N_3uzgF9_to_hippo.pkl.gz\u001b[0m\n",
      "\u001b[36mPresent reactions\u001b[0m = {'Amidation'}\u001b[0m\n",
      "\u001b[7m\u001b[1m\u001b[38;5;11m DISK \u001b[0m Reading \u001b[38;5;11m/opt/xchem-fragalysis-2/kfieseler/CHIKV-Mac/ALGNJYIWMHXFNH-UHFFFAOYSA-N/ALGNJYIWMHXFNH-UHFFFAOYSA-N_QStn32_to_hippo.pkl.gz\u001b[0m\n",
      "\u001b[36mPresent reactions\u001b[0m = {'Buchwald-Hartwig_amination'}\u001b[0m\n",
      "\u001b[7m\u001b[38;5;166m\u001b[1m Warning \u001b[0m\u001b[38;5;166m No bases have truthy path_to_mol. Inserting them anyway\u001b[0m\n",
      "\u001b[7m\u001b[38;5;166m\u001b[1m Warning \u001b[0m\u001b[38;5;166m Loaded 0 new poses from ALGNJYIWMHXFNH-UHFFFAOYSA-N_QStn32_to_hippo.pkl.gz\u001b[0m\n",
      "\u001b[7m\u001b[1m\u001b[38;5;11m DISK \u001b[0m Reading \u001b[38;5;11m/opt/xchem-fragalysis-2/kfieseler/CHIKV-Mac/RZIGAYKJCIITOG-UHFFFAOYSA-N/RZIGAYKJCIITOG-UHFFFAOYSA-N_tSHUwd_to_hippo.pkl.gz\u001b[0m\n",
      "\u001b[36mPresent reactions\u001b[0m = {'Amidation'}\u001b[0m\n",
      "\u001b[7m\u001b[38;5;166m\u001b[1m Warning \u001b[0m\u001b[38;5;166m Skipped 1 invalid reactions\u001b[0m\n",
      "\u001b[7m\u001b[1m\u001b[38;5;11m DISK \u001b[0m Reading \u001b[38;5;11m/opt/xchem-fragalysis-2/kfieseler/CHIKV-Mac/DETJXFSIQJPJAJ-UHFFFAOYSA-N/DETJXFSIQJPJAJ-UHFFFAOYSA-N_3syRcY_to_hippo.pkl.gz\u001b[0m\n",
      "\u001b[36mPresent reactions\u001b[0m = {'Sp2-sp2_Suzuki_coupling'}\u001b[0m\n",
      "\u001b[7m\u001b[38;5;166m\u001b[1m Warning \u001b[0m\u001b[38;5;166m No bases have truthy path_to_mol. Inserting them anyway\u001b[0m\n",
      "\u001b[7m\u001b[38;5;166m\u001b[1m Warning \u001b[0m\u001b[38;5;166m Skipped 1 invalid reactions\u001b[0m\n",
      "\u001b[7m\u001b[38;5;166m\u001b[1m Warning \u001b[0m\u001b[38;5;166m Loaded 0 new poses from DETJXFSIQJPJAJ-UHFFFAOYSA-N_3syRcY_to_hippo.pkl.gz\u001b[0m\n",
      "\u001b[7m\u001b[1m\u001b[38;5;11m DISK \u001b[0m Reading \u001b[38;5;11m/opt/xchem-fragalysis-2/kfieseler/CHIKV-Mac/LSBSLADJXDRYPT-UHFFFAOYSA-N/LSBSLADJXDRYPT-UHFFFAOYSA-N_HEnjET_to_hippo.pkl.gz\u001b[0m\n",
      "\u001b[36mPresent reactions\u001b[0m = {'Ester_amidation'}\u001b[0m\n",
      "\u001b[7m\u001b[38;5;166m\u001b[1m Warning \u001b[0m\u001b[38;5;166m No bases have truthy path_to_mol. Inserting them anyway\u001b[0m\n",
      "\u001b[7m\u001b[38;5;166m\u001b[1m Warning \u001b[0m\u001b[38;5;166m Loaded 0 new poses from LSBSLADJXDRYPT-UHFFFAOYSA-N_HEnjET_to_hippo.pkl.gz\u001b[0m\n",
      "\u001b[7m\u001b[1m\u001b[38;5;11m DISK \u001b[0m Reading \u001b[38;5;11m/opt/xchem-fragalysis-2/kfieseler/CHIKV-Mac/QVSYFXSEJNFZKD-UHFFFAOYSA-N/QVSYFXSEJNFZKD-UHFFFAOYSA-N_r8uyvY_to_hippo.pkl.gz\u001b[0m\n",
      "\u001b[36mPresent reactions\u001b[0m = {'Amidation'}\u001b[0m\n",
      "\u001b[7m\u001b[1m\u001b[38;5;11m DISK \u001b[0m Reading \u001b[38;5;11m/opt/xchem-fragalysis-2/kfieseler/CHIKV-Mac/JXRCCCJCUJURBQ-UHFFFAOYSA-N/JXRCCCJCUJURBQ-UHFFFAOYSA-N_8Dwrrt_to_hippo.pkl.gz\u001b[0m\n",
      "\u001b[36mPresent reactions\u001b[0m = {'Buchwald-Hartwig_amination'}\u001b[0m\n",
      "\u001b[7m\u001b[1m\u001b[38;5;11m DISK \u001b[0m Reading \u001b[38;5;11m/opt/xchem-fragalysis-2/kfieseler/CHIKV-Mac/WZOLBARQWWYVFM-UHFFFAOYSA-N/WZOLBARQWWYVFM-UHFFFAOYSA-N_5igvAs_to_hippo.pkl.gz\u001b[0m\n",
      "\u001b[36mPresent reactions\u001b[0m = {'Amidation'}\u001b[0m\n",
      "\u001b[7m\u001b[1m\u001b[38;5;11m DISK \u001b[0m Reading \u001b[38;5;11m/opt/xchem-fragalysis-2/kfieseler/CHIKV-Mac/WLFMTZKZYACXSW-UHFFFAOYSA-N/WLFMTZKZYACXSW-UHFFFAOYSA-N_fbhmej_to_hippo.pkl.gz\u001b[0m\n",
      "\u001b[36mPresent reactions\u001b[0m = {'Reductive_amination', 'Amidation'}\u001b[0m\n",
      "\u001b[7m\u001b[38;5;166m\u001b[1m Warning \u001b[0m\u001b[38;5;166m Skipped 1 elaborations that are smaller than the base compound\u001b[0m\n"
     ]
    },
    {
     "name": "stderr",
     "output_type": "stream",
     "text": [
      "[09:58:52] WARNING: not removing hydrogen atom without neighbors\n",
      "[09:58:52] WARNING: not removing hydrogen atom without neighbors\n"
     ]
    },
    {
     "name": "stdout",
     "output_type": "stream",
     "text": [
      "\u001b[7m\u001b[38;5;166m\u001b[1m Warning \u001b[0m\u001b[38;5;166m Skipped 1 invalid reactions\u001b[0m\n",
      "\u001b[7m\u001b[1m\u001b[38;5;11m DISK \u001b[0m Reading \u001b[38;5;11m/opt/xchem-fragalysis-2/kfieseler/CHIKV-Mac/WRQXFZOITXUYML-UHFFFAOYSA-N/WRQXFZOITXUYML-UHFFFAOYSA-N_U4qd7z_to_hippo.pkl.gz\u001b[0m\n",
      "\u001b[36mPresent reactions\u001b[0m = {'Sp2-sp2_Suzuki_coupling'}\u001b[0m\n",
      "\u001b[7m\u001b[1m\u001b[38;5;11m DISK \u001b[0m Reading \u001b[38;5;11m/opt/xchem-fragalysis-2/kfieseler/CHIKV-Mac/FESSPJKVYVFJPA-UHFFFAOYSA-N/FESSPJKVYVFJPA-UHFFFAOYSA-N_x4Axvb_to_hippo.pkl.gz\u001b[0m\n",
      "\u001b[36mPresent reactions\u001b[0m = {'N-nucleophilic_aromatic_substitution'}\u001b[0m\n",
      "\u001b[7m\u001b[38;5;166m\u001b[1m Warning \u001b[0m\u001b[38;5;166m No bases have truthy path_to_mol. Inserting them anyway\u001b[0m\n",
      "\u001b[7m\u001b[38;5;166m\u001b[1m Warning \u001b[0m\u001b[38;5;166m Skipped 1 invalid reactions\u001b[0m\n",
      "\u001b[7m\u001b[38;5;166m\u001b[1m Warning \u001b[0m\u001b[38;5;166m Loaded 0 new poses from FESSPJKVYVFJPA-UHFFFAOYSA-N_x4Axvb_to_hippo.pkl.gz\u001b[0m\n",
      "\u001b[7m\u001b[1m\u001b[38;5;11m DISK \u001b[0m Reading \u001b[38;5;11m/opt/xchem-fragalysis-2/kfieseler/CHIKV-Mac/GNFBAQJUTMHLTB-UHFFFAOYSA-N/GNFBAQJUTMHLTB-UHFFFAOYSA-N_cbDHUQ_to_hippo.pkl.gz\u001b[0m\n",
      "\u001b[36mPresent reactions\u001b[0m = {'Amidation'}\u001b[0m\n",
      "\u001b[7m\u001b[38;5;166m\u001b[1m Warning \u001b[0m\u001b[38;5;166m Skipped 1 invalid reactions\u001b[0m\n",
      "\u001b[7m\u001b[1m\u001b[38;5;11m DISK \u001b[0m Reading \u001b[38;5;11m/opt/xchem-fragalysis-2/kfieseler/CHIKV-Mac/OYAFCPFGSBONSE-UHFFFAOYSA-N/OYAFCPFGSBONSE-UHFFFAOYSA-N_Bpx294_to_hippo.pkl.gz\u001b[0m\n",
      "\u001b[36mPresent reactions\u001b[0m = {'Nucleophilic_substitution_with_amine', 'N-nucleophilic_aromatic_substitution'}\u001b[0m\n",
      "\u001b[7m\u001b[38;5;166m\u001b[1m Warning \u001b[0m\u001b[38;5;166m SMILES changed during compound registration: O=c1cccc[nH]1 --> Oc1ccccn1\u001b[0m\n",
      "\u001b[7m\u001b[38;5;166m\u001b[1m Warning \u001b[0m\u001b[38;5;166m SMILES changed during compound registration: O=c1cccc[nH]1 --> Oc1ccccn1\u001b[0m\n",
      "\u001b[7m\u001b[1m\u001b[38;5;11m DISK \u001b[0m Reading \u001b[38;5;11m/opt/xchem-fragalysis-2/kfieseler/CHIKV-Mac/TUFPTLPAEQNWJN-UHFFFAOYSA-N/TUFPTLPAEQNWJN-UHFFFAOYSA-N_QH5ek7_to_hippo.pkl.gz\u001b[0m\n",
      "\u001b[36mPresent reactions\u001b[0m = {'Amidation'}\u001b[0m\n",
      "\u001b[7m\u001b[38;5;166m\u001b[1m Warning \u001b[0m\u001b[38;5;166m No bases have truthy path_to_mol. Inserting them anyway\u001b[0m\n",
      "\u001b[7m\u001b[38;5;166m\u001b[1m Warning \u001b[0m\u001b[38;5;166m Skipped 1 invalid reactions\u001b[0m\n",
      "\u001b[7m\u001b[38;5;166m\u001b[1m Warning \u001b[0m\u001b[38;5;166m Loaded 0 new poses from TUFPTLPAEQNWJN-UHFFFAOYSA-N_QH5ek7_to_hippo.pkl.gz\u001b[0m\n",
      "\u001b[7m\u001b[1m\u001b[38;5;11m DISK \u001b[0m Reading \u001b[38;5;11m/opt/xchem-fragalysis-2/kfieseler/CHIKV-Mac/SEEGEKKHDHBILT-UHFFFAOYSA-N/SEEGEKKHDHBILT-UHFFFAOYSA-N_qTx9AC_to_hippo.pkl.gz\u001b[0m\n",
      "\u001b[36mPresent reactions\u001b[0m = {'Nucleophilic_substitution_with_amine'}\u001b[0m\n",
      "\u001b[7m\u001b[31;1m ERROR \u001b[0m\u001b[31;1m No base/scaffold rows found in SEEGEKKHDHBILT-UHFFFAOYSA-N_qTx9AC_to_hippo.pkl.gz!\u001b[0m\n",
      "\u001b[7m\u001b[1m\u001b[38;5;11m DISK \u001b[0m Reading \u001b[38;5;11m/opt/xchem-fragalysis-2/kfieseler/CHIKV-Mac/UGYMLSSIEIESGU-MRVPVSSYSA-N/UGYMLSSIEIESGU-MRVPVSSYSA-N_tA8T94_to_hippo.pkl.gz\u001b[0m\n",
      "\u001b[36mPresent reactions\u001b[0m = {'Nucleophilic_substitution_with_amine'}\u001b[0m\n",
      "\u001b[7m\u001b[1m\u001b[38;5;11m DISK \u001b[0m Reading \u001b[38;5;11m/opt/xchem-fragalysis-2/kfieseler/CHIKV-Mac/XNVDJLXZBJHKFV-UHFFFAOYSA-N/XNVDJLXZBJHKFV-UHFFFAOYSA-N_iKZCKK_to_hippo.pkl.gz\u001b[0m\n",
      "\u001b[36mPresent reactions\u001b[0m = {'Formation_of_urea_from_two_amines'}\u001b[0m\n",
      "\u001b[7m\u001b[31;1m ERROR \u001b[0m\u001b[31;1m No base/scaffold rows found in XNVDJLXZBJHKFV-UHFFFAOYSA-N_iKZCKK_to_hippo.pkl.gz!\u001b[0m\n",
      "\u001b[7m\u001b[1m\u001b[38;5;11m DISK \u001b[0m Reading \u001b[38;5;11m/opt/xchem-fragalysis-2/kfieseler/CHIKV-Mac/CTECJTBKOFPTMY-JTQLQIEISA-N/CTECJTBKOFPTMY-JTQLQIEISA-N_e5WDiF_to_hippo.pkl.gz\u001b[0m\n",
      "\u001b[36mPresent reactions\u001b[0m = {'Nucleophilic_substitution_with_amine', 'Amidation'}\u001b[0m\n",
      "\u001b[7m\u001b[38;5;166m\u001b[1m Warning \u001b[0m\u001b[38;5;166m Skipped 2 invalid reactions\u001b[0m\n",
      "\u001b[7m\u001b[1m\u001b[38;5;11m DISK \u001b[0m Reading \u001b[38;5;11m/opt/xchem-fragalysis-2/kfieseler/CHIKV-Mac/WLFMTZKZYACXSW-UHFFFAOYSA-N/WLFMTZKZYACXSW-UHFFFAOYSA-N_tCavCn_to_hippo.pkl.gz\u001b[0m\n",
      "\u001b[36mPresent reactions\u001b[0m = {'Amidation'}\u001b[0m\n",
      "\u001b[7m\u001b[31;1m ERROR \u001b[0m\u001b[31;1m No base/scaffold rows found in WLFMTZKZYACXSW-UHFFFAOYSA-N_tCavCn_to_hippo.pkl.gz!\u001b[0m\n",
      "\u001b[7m\u001b[1m\u001b[38;5;11m DISK \u001b[0m Reading \u001b[38;5;11m/opt/xchem-fragalysis-2/kfieseler/CHIKV-Mac/SCMCRGMETQKMMQ-RKDXNWHRSA-N/SCMCRGMETQKMMQ-RKDXNWHRSA-N_pJjf8p_to_hippo.pkl.gz\u001b[0m\n",
      "\u001b[36mPresent reactions\u001b[0m = {'N-nucleophilic_aromatic_substitution'}\u001b[0m\n",
      "\u001b[7m\u001b[1m\u001b[38;5;11m DISK \u001b[0m Reading \u001b[38;5;11m/opt/xchem-fragalysis-2/kfieseler/CHIKV-Mac/QQERROZMPKKQER-UHFFFAOYSA-N/QQERROZMPKKQER-UHFFFAOYSA-N_eaAXaE_to_hippo.pkl.gz\u001b[0m\n",
      "\u001b[36mPresent reactions\u001b[0m = {'Nucleophilic_substitution_with_amine'}\u001b[0m\n",
      "\u001b[7m\u001b[1m\u001b[38;5;11m DISK \u001b[0m Reading \u001b[38;5;11m/opt/xchem-fragalysis-2/kfieseler/CHIKV-Mac/LKDGGWMXOHPRMI-HNNXBMFYSA-N/LKDGGWMXOHPRMI-HNNXBMFYSA-N_DTFrJP_to_hippo.pkl.gz\u001b[0m\n",
      "\u001b[36mPresent reactions\u001b[0m = {'N-nucleophilic_aromatic_substitution'}\u001b[0m\n",
      "\u001b[7m\u001b[1m\u001b[38;5;11m DISK \u001b[0m Reading \u001b[38;5;11m/opt/xchem-fragalysis-2/kfieseler/CHIKV-Mac/TYBDSUPMDPIPBB-UHFFFAOYSA-N/TYBDSUPMDPIPBB-UHFFFAOYSA-N_CUzZ4y_to_hippo.pkl.gz\u001b[0m\n",
      "\u001b[36mPresent reactions\u001b[0m = {'Ester_amidation'}\u001b[0m\n",
      "\u001b[7m\u001b[38;5;166m\u001b[1m Warning \u001b[0m\u001b[38;5;166m Skipped 2 elaborations that are smaller than the base compound\u001b[0m\n",
      "\u001b[7m\u001b[38;5;166m\u001b[1m Warning \u001b[0m\u001b[38;5;166m Skipped 1 invalid reactions\u001b[0m\n",
      "\u001b[7m\u001b[38;5;166m\u001b[1m Warning \u001b[0m\u001b[38;5;166m Loaded 0 new reactions from TYBDSUPMDPIPBB-UHFFFAOYSA-N_CUzZ4y_to_hippo.pkl.gz\u001b[0m\n",
      "\u001b[7m\u001b[1m\u001b[38;5;11m DISK \u001b[0m Reading \u001b[38;5;11m/opt/xchem-fragalysis-2/kfieseler/CHIKV-Mac/XMHJIXAUMMKGLT-UHFFFAOYSA-N/XMHJIXAUMMKGLT-UHFFFAOYSA-N_ToGzdz_to_hippo.pkl.gz\u001b[0m\n",
      "\u001b[36mPresent reactions\u001b[0m = {'Buchwald-Hartwig_amidation_with_amide-like_nucleophile'}\u001b[0m\n",
      "\u001b[7m\u001b[1m\u001b[38;5;11m DISK \u001b[0m Reading \u001b[38;5;11m/opt/xchem-fragalysis-2/kfieseler/CHIKV-Mac/KIULBMGWDSJTMM-UHFFFAOYSA-N/KIULBMGWDSJTMM-UHFFFAOYSA-N_ZLzGWa_to_hippo.pkl.gz\u001b[0m\n",
      "\u001b[36mPresent reactions\u001b[0m = {'Amidation'}\u001b[0m\n",
      "\u001b[7m\u001b[38;5;166m\u001b[1m Warning \u001b[0m\u001b[38;5;166m SMILES changed during compound registration: Cc1ccncc1NC(=O)Cc1cccc(=O)[nH]1 --> Cc1ccncc1NC(=O)Cc1cccc(O)n1\u001b[0m\n",
      "\u001b[7m\u001b[1m\u001b[38;5;11m DISK \u001b[0m Reading \u001b[38;5;11m/opt/xchem-fragalysis-2/kfieseler/CHIKV-Mac/RGWZNWCCBDMABV-UHFFFAOYSA-N/RGWZNWCCBDMABV-UHFFFAOYSA-N_F4ACbj_to_hippo.pkl.gz\u001b[0m\n",
      "\u001b[36mPresent reactions\u001b[0m = {'Sp2-sp2_Suzuki_coupling'}\u001b[0m\n",
      "\u001b[7m\u001b[38;5;166m\u001b[1m Warning \u001b[0m\u001b[38;5;166m SMILES changed during compound registration: OB(O)c1cc[nH]n1 --> OB(O)c1ccn[nH]1\u001b[0m\n",
      "\u001b[7m\u001b[38;5;166m\u001b[1m Warning \u001b[0m\u001b[38;5;166m SMILES changed during compound registration: CC1(C)OB(c2cc[nH]n2)OC1(C)C --> CC1(C)OB(c2ccn[nH]2)OC1(C)C\u001b[0m\n",
      "\u001b[7m\u001b[1m\u001b[38;5;11m DISK \u001b[0m Reading \u001b[38;5;11m/opt/xchem-fragalysis-2/kfieseler/CHIKV-Mac/FCNMMRVSBYHGGR-UHFFFAOYSA-N/FCNMMRVSBYHGGR-UHFFFAOYSA-N_tSmsBj_to_hippo.pkl.gz\u001b[0m\n",
      "\u001b[36mPresent reactions\u001b[0m = {'Sp2-sp2_Suzuki_coupling'}\u001b[0m\n",
      "\u001b[7m\u001b[38;5;166m\u001b[1m Warning \u001b[0m\u001b[38;5;166m SMILES changed during compound registration: OB(O)c1cc[nH]n1 --> OB(O)c1ccn[nH]1\u001b[0m\n",
      "\u001b[7m\u001b[38;5;166m\u001b[1m Warning \u001b[0m\u001b[38;5;166m SMILES changed during compound registration: CC1(C)OB(c2cc[nH]n2)OC1(C)C --> CC1(C)OB(c2ccn[nH]2)OC1(C)C\u001b[0m\n",
      "\u001b[7m\u001b[38;5;166m\u001b[1m Warning \u001b[0m\u001b[38;5;166m SMILES changed during compound registration: CC1(C)OB(c2cc[nH]n2)OC1(C)C --> CC1(C)OB(c2ccn[nH]2)OC1(C)C\u001b[0m\n",
      "\u001b[7m\u001b[38;5;166m\u001b[1m Warning \u001b[0m\u001b[38;5;166m SMILES changed during compound registration: OB(O)c1cc[nH]n1 --> OB(O)c1ccn[nH]1\u001b[0m\n",
      "\u001b[7m\u001b[1m\u001b[38;5;11m DISK \u001b[0m Reading \u001b[38;5;11m/opt/xchem-fragalysis-2/kfieseler/CHIKV-Mac/RGWZNWCCBDMABV-UHFFFAOYSA-N/RGWZNWCCBDMABV-UHFFFAOYSA-N_GbV7Gr_to_hippo.pkl.gz\u001b[0m\n",
      "\u001b[36mPresent reactions\u001b[0m = {'Sp2-sp2_Suzuki_coupling'}\u001b[0m\n",
      "\u001b[7m\u001b[38;5;166m\u001b[1m Warning \u001b[0m\u001b[38;5;166m SMILES changed during compound registration: OB(O)c1cc[nH]n1 --> OB(O)c1ccn[nH]1\u001b[0m\n",
      "\u001b[7m\u001b[38;5;166m\u001b[1m Warning \u001b[0m\u001b[38;5;166m SMILES changed during compound registration: CC1(C)OB(c2cc[nH]n2)OC1(C)C --> CC1(C)OB(c2ccn[nH]2)OC1(C)C\u001b[0m\n",
      "\u001b[7m\u001b[38;5;166m\u001b[1m Warning \u001b[0m\u001b[38;5;166m Loaded 0 new compounds from RGWZNWCCBDMABV-UHFFFAOYSA-N_GbV7Gr_to_hippo.pkl.gz\u001b[0m\n",
      "\u001b[7m\u001b[38;5;166m\u001b[1m Warning \u001b[0m\u001b[38;5;166m Loaded 0 new reactions from RGWZNWCCBDMABV-UHFFFAOYSA-N_GbV7Gr_to_hippo.pkl.gz\u001b[0m\n",
      "\u001b[7m\u001b[1m\u001b[38;5;11m DISK \u001b[0m Reading \u001b[38;5;11m/opt/xchem-fragalysis-2/kfieseler/CHIKV-Mac/MIMRXPBJLOWRMN-UHFFFAOYSA-N/MIMRXPBJLOWRMN-UHFFFAOYSA-N_u2HpuH_to_hippo.pkl.gz\u001b[0m\n",
      "\u001b[36mPresent reactions\u001b[0m = {'Buchwald-Hartwig_amination'}\u001b[0m\n",
      "\u001b[7m\u001b[1m\u001b[38;5;11m DISK \u001b[0m Reading \u001b[38;5;11m/opt/xchem-fragalysis-2/kfieseler/CHIKV-Mac/RGWZNWCCBDMABV-UHFFFAOYSA-N/RGWZNWCCBDMABV-UHFFFAOYSA-N_XDh6fb_to_hippo.pkl.gz\u001b[0m\n",
      "\u001b[36mPresent reactions\u001b[0m = {'Sp2-sp2_Suzuki_coupling'}\u001b[0m\n",
      "\u001b[7m\u001b[38;5;166m\u001b[1m Warning \u001b[0m\u001b[38;5;166m No bases have truthy path_to_mol. Inserting them anyway\u001b[0m\n",
      "\u001b[7m\u001b[38;5;166m\u001b[1m Warning \u001b[0m\u001b[38;5;166m SMILES changed during compound registration: OB(O)c1cc[nH]n1 --> OB(O)c1ccn[nH]1\u001b[0m\n",
      "\u001b[7m\u001b[38;5;166m\u001b[1m Warning \u001b[0m\u001b[38;5;166m SMILES changed during compound registration: CC1(C)OB(c2cc[nH]n2)OC1(C)C --> CC1(C)OB(c2ccn[nH]2)OC1(C)C\u001b[0m\n",
      "\u001b[7m\u001b[38;5;166m\u001b[1m Warning \u001b[0m\u001b[38;5;166m Loaded 0 new compounds from RGWZNWCCBDMABV-UHFFFAOYSA-N_XDh6fb_to_hippo.pkl.gz\u001b[0m\n",
      "\u001b[7m\u001b[38;5;166m\u001b[1m Warning \u001b[0m\u001b[38;5;166m Loaded 0 new poses from RGWZNWCCBDMABV-UHFFFAOYSA-N_XDh6fb_to_hippo.pkl.gz\u001b[0m\n",
      "\u001b[7m\u001b[38;5;166m\u001b[1m Warning \u001b[0m\u001b[38;5;166m Loaded 0 new reactions from RGWZNWCCBDMABV-UHFFFAOYSA-N_XDh6fb_to_hippo.pkl.gz\u001b[0m\n",
      "\u001b[7m\u001b[1m\u001b[38;5;11m DISK \u001b[0m Reading \u001b[38;5;11m/opt/xchem-fragalysis-2/kfieseler/CHIKV-Mac/FXMHNJCWYFUXEW-UHFFFAOYSA-N/FXMHNJCWYFUXEW-UHFFFAOYSA-N_uS8o7t_to_hippo.pkl.gz\u001b[0m\n",
      "\u001b[36mPresent reactions\u001b[0m = {'N-nucleophilic_aromatic_substitution'}\u001b[0m\n",
      "\u001b[7m\u001b[1m\u001b[38;5;11m DISK \u001b[0m Reading \u001b[38;5;11m/opt/xchem-fragalysis-2/kfieseler/CHIKV-Mac/JOXQXTUGOHUMII-UHFFFAOYSA-N/JOXQXTUGOHUMII-UHFFFAOYSA-N_5FTjEF_to_hippo.pkl.gz\u001b[0m\n",
      "\u001b[36mPresent reactions\u001b[0m = {'Sp2-sp2_Suzuki_coupling'}\u001b[0m\n",
      "\u001b[7m\u001b[38;5;166m\u001b[1m Warning \u001b[0m\u001b[38;5;166m No bases have truthy path_to_mol. Inserting them anyway\u001b[0m\n",
      "\u001b[7m\u001b[38;5;166m\u001b[1m Warning \u001b[0m\u001b[38;5;166m Loaded 0 new poses from JOXQXTUGOHUMII-UHFFFAOYSA-N_5FTjEF_to_hippo.pkl.gz\u001b[0m\n",
      "\u001b[7m\u001b[1m\u001b[38;5;11m DISK \u001b[0m Reading \u001b[38;5;11m/opt/xchem-fragalysis-2/kfieseler/CHIKV-Mac/OYZLDUQCBJYBED-VIFPVBQESA-N/OYZLDUQCBJYBED-VIFPVBQESA-N_oKid7K_to_hippo.pkl.gz\u001b[0m\n",
      "\u001b[36mPresent reactions\u001b[0m = {'Sp3-sp2_Suzuki_coupling', 'N-nucleophilic_aromatic_substitution'}\u001b[0m\n",
      "\u001b[7m\u001b[38;5;166m\u001b[1m Warning \u001b[0m\u001b[38;5;166m No bases have truthy path_to_mol. Inserting them anyway\u001b[0m\n",
      "\u001b[7m\u001b[38;5;166m\u001b[1m Warning \u001b[0m\u001b[38;5;166m Loaded 0 new poses from OYZLDUQCBJYBED-VIFPVBQESA-N_oKid7K_to_hippo.pkl.gz\u001b[0m\n",
      "\u001b[7m\u001b[1m\u001b[38;5;11m DISK \u001b[0m Reading \u001b[38;5;11m/opt/xchem-fragalysis-2/kfieseler/CHIKV-Mac/SBEBTLKTHHBVAY-LLVKDONJSA-N/SBEBTLKTHHBVAY-LLVKDONJSA-N_ZWFCao_to_hippo.pkl.gz\u001b[0m\n",
      "\u001b[36mPresent reactions\u001b[0m = {'Amidation', 'Sp2-sp2_Suzuki_coupling'}\u001b[0m\n",
      "\u001b[7m\u001b[1m\u001b[38;5;11m DISK \u001b[0m Reading \u001b[38;5;11m/opt/xchem-fragalysis-2/kfieseler/CHIKV-Mac/XXPRWRCNORVHSY-UHFFFAOYSA-N/XXPRWRCNORVHSY-UHFFFAOYSA-N_sCHeek_to_hippo.pkl.gz\u001b[0m\n",
      "\u001b[36mPresent reactions\u001b[0m = {'Amidation', 'N-nucleophilic_aromatic_substitution'}\u001b[0m\n",
      "\u001b[7m\u001b[1m\u001b[38;5;11m DISK \u001b[0m Reading \u001b[38;5;11m/opt/xchem-fragalysis-2/kfieseler/CHIKV-Mac/OULBTDXTVHQBAE-SECBINFHSA-N/OULBTDXTVHQBAE-SECBINFHSA-N_J5FhY9_to_hippo.pkl.gz\u001b[0m\n",
      "\u001b[36mPresent reactions\u001b[0m = {'Ester_amidation'}\u001b[0m\n",
      "\u001b[7m\u001b[1m\u001b[38;5;11m DISK \u001b[0m Reading \u001b[38;5;11m/opt/xchem-fragalysis-2/kfieseler/CHIKV-Mac/JAHJLJNEYRGXQB-RBSFLKMASA-N/JAHJLJNEYRGXQB-RBSFLKMASA-N_TqMXju_to_hippo.pkl.gz\u001b[0m\n",
      "\u001b[36mPresent reactions\u001b[0m = {'Amidation', 'Buchwald-Hartwig_amination'}\u001b[0m\n",
      "\u001b[7m\u001b[1m\u001b[38;5;11m DISK \u001b[0m Reading \u001b[38;5;11m/opt/xchem-fragalysis-2/kfieseler/CHIKV-Mac/XDUHPRMEDNEUSF-UHFFFAOYSA-N/XDUHPRMEDNEUSF-UHFFFAOYSA-N_n9AZNQ_to_hippo.pkl.gz\u001b[0m\n",
      "\u001b[36mPresent reactions\u001b[0m = {'Buchwald-Hartwig_amination'}\u001b[0m\n",
      "\u001b[7m\u001b[1m\u001b[38;5;11m DISK \u001b[0m Reading \u001b[38;5;11m/opt/xchem-fragalysis-2/kfieseler/CHIKV-Mac/MMXSHBZOILNLPJ-UHFFFAOYSA-N/MMXSHBZOILNLPJ-UHFFFAOYSA-N_asecS4_to_hippo.pkl.gz\u001b[0m\n",
      "\u001b[36mPresent reactions\u001b[0m = {'Sp3-sp2_Suzuki_coupling'}\u001b[0m\n",
      "\u001b[7m\u001b[1m\u001b[38;5;11m DISK \u001b[0m Reading \u001b[38;5;11m/opt/xchem-fragalysis-2/kfieseler/CHIKV-Mac/VXOZIAXPIMEJPP-UHFFFAOYSA-N/VXOZIAXPIMEJPP-UHFFFAOYSA-N_BbS6ek_to_hippo.pkl.gz\u001b[0m\n",
      "\u001b[36mPresent reactions\u001b[0m = {'Sp3-sp2_Suzuki_coupling', 'Mitsunobu_reaction_with_amine_alcohol_and_thioalcohol'}\u001b[0m\n",
      "\u001b[7m\u001b[38;5;166m\u001b[1m Warning \u001b[0m\u001b[38;5;166m No bases have truthy path_to_mol. Inserting them anyway\u001b[0m\n",
      "\u001b[7m\u001b[38;5;166m\u001b[1m Warning \u001b[0m\u001b[38;5;166m Loaded 0 new poses from VXOZIAXPIMEJPP-UHFFFAOYSA-N_BbS6ek_to_hippo.pkl.gz\u001b[0m\n",
      "\u001b[7m\u001b[1m\u001b[38;5;11m DISK \u001b[0m Reading \u001b[38;5;11m/opt/xchem-fragalysis-2/kfieseler/CHIKV-Mac/RRJMGDPCLBVSAU-UHFFFAOYSA-N/RRJMGDPCLBVSAU-UHFFFAOYSA-N_YTZ9jp_to_hippo.pkl.gz\u001b[0m\n",
      "\u001b[36mPresent reactions\u001b[0m = {'Amidation'}\u001b[0m\n",
      "\u001b[7m\u001b[1m\u001b[38;5;11m DISK \u001b[0m Reading \u001b[38;5;11m/opt/xchem-fragalysis-2/kfieseler/CHIKV-Mac/ARCUOSJFSRBOMH-SNVBAGLBSA-N/ARCUOSJFSRBOMH-SNVBAGLBSA-N_jBwSZs_to_hippo.pkl.gz\u001b[0m\n",
      "\u001b[36mPresent reactions\u001b[0m = {'Ester_amidation'}\u001b[0m\n",
      "\u001b[7m\u001b[38;5;166m\u001b[1m Warning \u001b[0m\u001b[38;5;166m No bases have truthy path_to_mol. Inserting them anyway\u001b[0m\n",
      "\u001b[7m\u001b[38;5;166m\u001b[1m Warning \u001b[0m\u001b[38;5;166m Skipped 58 elaborations that are smaller than the base compound\u001b[0m\n",
      "\u001b[7m\u001b[38;5;166m\u001b[1m Warning \u001b[0m\u001b[38;5;166m Loaded 0 new poses from ARCUOSJFSRBOMH-SNVBAGLBSA-N_jBwSZs_to_hippo.pkl.gz\u001b[0m\n",
      "\u001b[7m\u001b[1m\u001b[38;5;11m DISK \u001b[0m Reading \u001b[38;5;11m/opt/xchem-fragalysis-2/kfieseler/CHIKV-Mac/DGASNXVGKHJXGC-UHFFFAOYSA-N/DGASNXVGKHJXGC-UHFFFAOYSA-N_P8QupC_to_hippo.pkl.gz\u001b[0m\n",
      "\u001b[36mPresent reactions\u001b[0m = {'Buchwald-Hartwig_amination'}\u001b[0m\n",
      "\u001b[7m\u001b[1m\u001b[38;5;11m DISK \u001b[0m Reading \u001b[38;5;11m/opt/xchem-fragalysis-2/kfieseler/CHIKV-Mac/UQJZJBUURJWCJN-UHFFFAOYSA-N/UQJZJBUURJWCJN-UHFFFAOYSA-N_wdA5Zb_to_hippo.pkl.gz\u001b[0m\n",
      "\u001b[36mPresent reactions\u001b[0m = {'Amidation'}\u001b[0m\n",
      "\u001b[7m\u001b[31;1m ERROR \u001b[0m\u001b[31;1m No base/scaffold rows found in UQJZJBUURJWCJN-UHFFFAOYSA-N_wdA5Zb_to_hippo.pkl.gz!\u001b[0m\n",
      "\u001b[7m\u001b[1m\u001b[38;5;11m DISK \u001b[0m Reading \u001b[38;5;11m/opt/xchem-fragalysis-2/kfieseler/CHIKV-Mac/NEMWMYMPRDCSAZ-UHFFFAOYSA-N/NEMWMYMPRDCSAZ-UHFFFAOYSA-N_YYvxj2_to_hippo.pkl.gz\u001b[0m\n",
      "\u001b[36mPresent reactions\u001b[0m = {'N-nucleophilic_aromatic_substitution'}\u001b[0m\n",
      "\u001b[7m\u001b[38;5;166m\u001b[1m Warning \u001b[0m\u001b[38;5;166m Skipped 1 invalid reactions\u001b[0m\n",
      "\u001b[7m\u001b[1m\u001b[38;5;11m DISK \u001b[0m Reading \u001b[38;5;11m/opt/xchem-fragalysis-2/kfieseler/CHIKV-Mac/OLQDFRKRSFBPML-UHFFFAOYSA-N/OLQDFRKRSFBPML-UHFFFAOYSA-N_4JWbQk_to_hippo.pkl.gz\u001b[0m\n",
      "\u001b[36mPresent reactions\u001b[0m = {'Nucleophilic_substitution_with_amine'}\u001b[0m\n",
      "\u001b[7m\u001b[38;5;166m\u001b[1m Warning \u001b[0m\u001b[38;5;166m Skipped 1 elaborations that are smaller than the base compound\u001b[0m\n",
      "\u001b[7m\u001b[1m\u001b[38;5;11m DISK \u001b[0m Reading \u001b[38;5;11m/opt/xchem-fragalysis-2/kfieseler/CHIKV-Mac/NEBUHSIGJIREQH-LBPRGKRZSA-N/NEBUHSIGJIREQH-LBPRGKRZSA-N_rM5tJ8_to_hippo.pkl.gz\u001b[0m\n",
      "\u001b[36mPresent reactions\u001b[0m = {'Amide_Schotten-Baumann_with_amine'}\u001b[0m\n",
      "\u001b[7m\u001b[31;1m ERROR \u001b[0m\u001b[31;1m No base/scaffold rows found in NEBUHSIGJIREQH-LBPRGKRZSA-N_rM5tJ8_to_hippo.pkl.gz!\u001b[0m\n",
      "\u001b[7m\u001b[1m\u001b[38;5;11m DISK \u001b[0m Reading \u001b[38;5;11m/opt/xchem-fragalysis-2/kfieseler/CHIKV-Mac/GEKAQEZWMKZGCA-VIFPVBQESA-N/GEKAQEZWMKZGCA-VIFPVBQESA-N_5i5vfK_to_hippo.pkl.gz\u001b[0m\n",
      "\u001b[36mPresent reactions\u001b[0m = {'Amidation'}\u001b[0m\n",
      "\u001b[7m\u001b[38;5;166m\u001b[1m Warning \u001b[0m\u001b[38;5;166m No bases have truthy path_to_mol. Inserting them anyway\u001b[0m\n",
      "\u001b[7m\u001b[38;5;166m\u001b[1m Warning \u001b[0m\u001b[38;5;166m Loaded 0 new poses from GEKAQEZWMKZGCA-VIFPVBQESA-N_5i5vfK_to_hippo.pkl.gz\u001b[0m\n",
      "\u001b[7m\u001b[1m\u001b[38;5;11m DISK \u001b[0m Reading \u001b[38;5;11m/opt/xchem-fragalysis-2/kfieseler/CHIKV-Mac/KRUZICJRZZZCFH-UHFFFAOYSA-N/KRUZICJRZZZCFH-UHFFFAOYSA-N_P59Hgt_to_hippo.pkl.gz\u001b[0m\n",
      "\u001b[36mPresent reactions\u001b[0m = {'Sp3-sp2_Suzuki_coupling'}\u001b[0m\n",
      "\u001b[7m\u001b[1m\u001b[38;5;11m DISK \u001b[0m Reading \u001b[38;5;11m/opt/xchem-fragalysis-2/kfieseler/CHIKV-Mac/GXJARPZGKFADOS-UHFFFAOYSA-N/GXJARPZGKFADOS-UHFFFAOYSA-N_sZQ8PU_to_hippo.pkl.gz\u001b[0m\n",
      "\u001b[36mPresent reactions\u001b[0m = {'Ester_amidation'}\u001b[0m\n",
      "\u001b[7m\u001b[38;5;166m\u001b[1m Warning \u001b[0m\u001b[38;5;166m Skipped 1 invalid reactions\u001b[0m\n",
      "\u001b[7m\u001b[1m\u001b[38;5;11m DISK \u001b[0m Reading \u001b[38;5;11m/opt/xchem-fragalysis-2/kfieseler/CHIKV-Mac/KFMQBLWKRFIPBE-UHFFFAOYSA-N/KFMQBLWKRFIPBE-UHFFFAOYSA-N_qWeg22_to_hippo.pkl.gz\u001b[0m\n",
      "\u001b[36mPresent reactions\u001b[0m = {'Reductive_amination'}\u001b[0m\n",
      "\u001b[7m\u001b[1m\u001b[38;5;11m DISK \u001b[0m Reading \u001b[38;5;11m/opt/xchem-fragalysis-2/kfieseler/CHIKV-Mac/LKSJOAHCUYUSRB-UHFFFAOYSA-N/LKSJOAHCUYUSRB-UHFFFAOYSA-N_ouPDhh_to_hippo.pkl.gz\u001b[0m\n",
      "\u001b[36mPresent reactions\u001b[0m = {'Nucleophilic_substitution_with_amine', 'Sp2-sp2_Suzuki_coupling'}\u001b[0m\n",
      "\u001b[7m\u001b[38;5;166m\u001b[1m Warning \u001b[0m\u001b[38;5;166m SMILES changed during compound registration: O=c1cccc[nH]1 --> Oc1ccccn1\u001b[0m\n",
      "\u001b[7m\u001b[38;5;166m\u001b[1m Warning \u001b[0m\u001b[38;5;166m SMILES changed during compound registration: O=c1cccc[nH]1 --> Oc1ccccn1\u001b[0m\n",
      "\u001b[7m\u001b[38;5;166m\u001b[1m Warning \u001b[0m\u001b[38;5;166m SMILES changed during compound registration: O=c1cccc[nH]1 --> Oc1ccccn1\u001b[0m\n",
      "\u001b[7m\u001b[38;5;166m\u001b[1m Warning \u001b[0m\u001b[38;5;166m SMILES changed during compound registration: O=c1cccc[nH]1 --> Oc1ccccn1\u001b[0m\n",
      "\u001b[7m\u001b[1m\u001b[38;5;11m DISK \u001b[0m Reading \u001b[38;5;11m/opt/xchem-fragalysis-2/kfieseler/CHIKV-Mac/QZVYQICELPCZOV-UHFFFAOYSA-N/QZVYQICELPCZOV-UHFFFAOYSA-N_vHRHmF_to_hippo.pkl.gz\u001b[0m\n",
      "\u001b[36mPresent reactions\u001b[0m = {'Steglich_esterification'}\u001b[0m\n",
      "\u001b[7m\u001b[38;5;166m\u001b[1m Warning \u001b[0m\u001b[38;5;166m No bases have truthy path_to_mol. Inserting them anyway\u001b[0m\n"
     ]
    },
    {
     "name": "stderr",
     "output_type": "stream",
     "text": [
      "[09:59:54] WARNING: not removing hydrogen atom without neighbors\n",
      "[09:59:54] WARNING: not removing hydrogen atom without neighbors\n"
     ]
    },
    {
     "name": "stdout",
     "output_type": "stream",
     "text": [
      "\u001b[7m\u001b[38;5;166m\u001b[1m Warning \u001b[0m\u001b[38;5;166m Skipped 1 invalid reactions\u001b[0m\n",
      "\u001b[7m\u001b[38;5;166m\u001b[1m Warning \u001b[0m\u001b[38;5;166m Loaded 0 new poses from QZVYQICELPCZOV-UHFFFAOYSA-N_vHRHmF_to_hippo.pkl.gz\u001b[0m\n",
      "\u001b[7m\u001b[1m\u001b[38;5;11m DISK \u001b[0m Reading \u001b[38;5;11m/opt/xchem-fragalysis-2/kfieseler/CHIKV-Mac/NXHHOOOYMWASMZ-UHFFFAOYSA-N/NXHHOOOYMWASMZ-UHFFFAOYSA-N_5ynUtL_to_hippo.pkl.gz\u001b[0m\n",
      "\u001b[36mPresent reactions\u001b[0m = {'Sp2-sp2_Suzuki_coupling'}\u001b[0m\n",
      "\u001b[7m\u001b[38;5;166m\u001b[1m Warning \u001b[0m\u001b[38;5;166m No bases have truthy path_to_mol. Inserting them anyway\u001b[0m\n",
      "\u001b[7m\u001b[38;5;166m\u001b[1m Warning \u001b[0m\u001b[38;5;166m Skipped 2 invalid reactions\u001b[0m\n",
      "\u001b[7m\u001b[38;5;166m\u001b[1m Warning \u001b[0m\u001b[38;5;166m Loaded 0 new poses from NXHHOOOYMWASMZ-UHFFFAOYSA-N_5ynUtL_to_hippo.pkl.gz\u001b[0m\n",
      "\u001b[7m\u001b[1m\u001b[38;5;11m DISK \u001b[0m Reading \u001b[38;5;11m/opt/xchem-fragalysis-2/kfieseler/CHIKV-Mac/XMHJIXAUMMKGLT-UHFFFAOYSA-N/XMHJIXAUMMKGLT-UHFFFAOYSA-N_zVbKYg_to_hippo.pkl.gz\u001b[0m\n",
      "\u001b[36mPresent reactions\u001b[0m = {'Buchwald-Hartwig_amidation_with_amide-like_nucleophile'}\u001b[0m\n",
      "\u001b[7m\u001b[38;5;166m\u001b[1m Warning \u001b[0m\u001b[38;5;166m Loaded 0 new compounds from XMHJIXAUMMKGLT-UHFFFAOYSA-N_zVbKYg_to_hippo.pkl.gz\u001b[0m\n",
      "\u001b[7m\u001b[38;5;166m\u001b[1m Warning \u001b[0m\u001b[38;5;166m Loaded 0 new reactions from XMHJIXAUMMKGLT-UHFFFAOYSA-N_zVbKYg_to_hippo.pkl.gz\u001b[0m\n",
      "\u001b[7m\u001b[1m\u001b[38;5;11m DISK \u001b[0m Reading \u001b[38;5;11m/opt/xchem-fragalysis-2/kfieseler/CHIKV-Mac/IMOYJNKITCRRFB-UHFFFAOYSA-N/IMOYJNKITCRRFB-UHFFFAOYSA-N_ekxtxc_to_hippo.pkl.gz\u001b[0m\n",
      "\u001b[36mPresent reactions\u001b[0m = {'Amidation'}\u001b[0m\n",
      "\u001b[7m\u001b[38;5;166m\u001b[1m Warning \u001b[0m\u001b[38;5;166m SMILES changed during compound registration: O=C(Nc1ccccc1)c1cc(Cl)c2nc[nH]c2c1 --> O=C(Nc1ccccc1)c1cc(Cl)c2[nH]cnc2c1\u001b[0m\n",
      "\u001b[7m\u001b[1m\u001b[38;5;11m DISK \u001b[0m Reading \u001b[38;5;11m/opt/xchem-fragalysis-2/kfieseler/CHIKV-Mac/LXNXWBLKTWRVII-UHFFFAOYSA-N/LXNXWBLKTWRVII-UHFFFAOYSA-N_oYYzfY_to_hippo.pkl.gz\u001b[0m\n",
      "\u001b[36mPresent reactions\u001b[0m = {'Ester_amidation'}\u001b[0m\n",
      "\u001b[7m\u001b[1m\u001b[38;5;11m DISK \u001b[0m Reading \u001b[38;5;11m/opt/xchem-fragalysis-2/kfieseler/CHIKV-Mac/YHGCJJWAPVTIRQ-ZDMBXUJBSA-N/YHGCJJWAPVTIRQ-ZDMBXUJBSA-N_zbo68M_to_hippo.pkl.gz\u001b[0m\n",
      "\u001b[36mPresent reactions\u001b[0m = {'Ester_amidation'}\u001b[0m\n",
      "\u001b[7m\u001b[1m\u001b[38;5;11m DISK \u001b[0m Reading \u001b[38;5;11m/opt/xchem-fragalysis-2/kfieseler/CHIKV-Mac/OHSGHNZPVAYZHL-UHFFFAOYSA-N/OHSGHNZPVAYZHL-UHFFFAOYSA-N_Ndgh2a_to_hippo.pkl.gz\u001b[0m\n",
      "\u001b[36mPresent reactions\u001b[0m = {'Amidation'}\u001b[0m\n",
      "\u001b[7m\u001b[1m\u001b[38;5;11m DISK \u001b[0m Reading \u001b[38;5;11m/opt/xchem-fragalysis-2/kfieseler/CHIKV-Mac/WXVLITNXXROEMR-UHFFFAOYSA-N/WXVLITNXXROEMR-UHFFFAOYSA-N_T7iaYY_to_hippo.pkl.gz\u001b[0m\n",
      "\u001b[36mPresent reactions\u001b[0m = {'Buchwald-Hartwig_amidation_with_amide-like_nucleophile'}\u001b[0m\n",
      "\u001b[7m\u001b[1m\u001b[38;5;11m DISK \u001b[0m Reading \u001b[38;5;11m/opt/xchem-fragalysis-2/kfieseler/CHIKV-Mac/KIULBMGWDSJTMM-UHFFFAOYSA-N/KIULBMGWDSJTMM-UHFFFAOYSA-N_ehxQfM_to_hippo.pkl.gz\u001b[0m\n",
      "\u001b[36mPresent reactions\u001b[0m = {'Amidation'}\u001b[0m\n",
      "\u001b[7m\u001b[38;5;166m\u001b[1m Warning \u001b[0m\u001b[38;5;166m SMILES changed during compound registration: O=C(O)Cc1cccc(O)n1 --> O=C(O)Cc1cccc(=O)[nH]1\u001b[0m\n",
      "\u001b[7m\u001b[38;5;166m\u001b[1m Warning \u001b[0m\u001b[38;5;166m Loaded 0 new compounds from KIULBMGWDSJTMM-UHFFFAOYSA-N_ehxQfM_to_hippo.pkl.gz\u001b[0m\n",
      "\u001b[7m\u001b[38;5;166m\u001b[1m Warning \u001b[0m\u001b[38;5;166m Loaded 0 new reactions from KIULBMGWDSJTMM-UHFFFAOYSA-N_ehxQfM_to_hippo.pkl.gz\u001b[0m\n",
      "\u001b[7m\u001b[1m\u001b[38;5;11m DISK \u001b[0m Reading \u001b[38;5;11m/opt/xchem-fragalysis-2/kfieseler/CHIKV-Mac/WZMWLLZLOKQLRZ-UHFFFAOYSA-N/WZMWLLZLOKQLRZ-UHFFFAOYSA-N_ZBZKTz_to_hippo.pkl.gz\u001b[0m\n",
      "\u001b[36mPresent reactions\u001b[0m = {'Mitsunobu_reaction_with_amine_alcohol_and_thioalcohol'}\u001b[0m\n",
      "\u001b[7m\u001b[38;5;166m\u001b[1m Warning \u001b[0m\u001b[38;5;166m No bases have truthy path_to_mol. Inserting them anyway\u001b[0m\n",
      "\u001b[7m\u001b[38;5;166m\u001b[1m Warning \u001b[0m\u001b[38;5;166m Loaded 0 new poses from WZMWLLZLOKQLRZ-UHFFFAOYSA-N_ZBZKTz_to_hippo.pkl.gz\u001b[0m\n",
      "\u001b[7m\u001b[1m\u001b[38;5;11m DISK \u001b[0m Reading \u001b[38;5;11m/opt/xchem-fragalysis-2/kfieseler/CHIKV-Mac/DZVXXHSUENHLJH-UHFFFAOYSA-N/DZVXXHSUENHLJH-UHFFFAOYSA-N_hXYQkX_to_hippo.pkl.gz\u001b[0m\n",
      "\u001b[36mPresent reactions\u001b[0m = {'Sp3-sp2_Suzuki_coupling'}\u001b[0m\n",
      "\u001b[7m\u001b[38;5;166m\u001b[1m Warning \u001b[0m\u001b[38;5;166m No bases have truthy path_to_mol. Inserting them anyway\u001b[0m\n",
      "\u001b[7m\u001b[38;5;166m\u001b[1m Warning \u001b[0m\u001b[38;5;166m Skipped 1 invalid reactions\u001b[0m\n",
      "\u001b[7m\u001b[38;5;166m\u001b[1m Warning \u001b[0m\u001b[38;5;166m Loaded 0 new poses from DZVXXHSUENHLJH-UHFFFAOYSA-N_hXYQkX_to_hippo.pkl.gz\u001b[0m\n",
      "\u001b[7m\u001b[1m\u001b[38;5;11m DISK \u001b[0m Reading \u001b[38;5;11m/opt/xchem-fragalysis-2/kfieseler/CHIKV-Mac/GLWBHHUWZUOZOL-UHFFFAOYSA-N/GLWBHHUWZUOZOL-UHFFFAOYSA-N_AYAaJc_to_hippo.pkl.gz\u001b[0m\n",
      "\u001b[36mPresent reactions\u001b[0m = {'Amidation'}\u001b[0m\n",
      "\u001b[7m\u001b[1m\u001b[38;5;11m DISK \u001b[0m Reading \u001b[38;5;11m/opt/xchem-fragalysis-2/kfieseler/CHIKV-Mac/XQWKZXHQRAAZAF-UHFFFAOYSA-N/XQWKZXHQRAAZAF-UHFFFAOYSA-N_UwZThX_to_hippo.pkl.gz\u001b[0m\n",
      "\u001b[36mPresent reactions\u001b[0m = {'Buchwald-Hartwig_amination'}\u001b[0m\n",
      "\u001b[7m\u001b[38;5;166m\u001b[1m Warning \u001b[0m\u001b[38;5;166m Loaded 0 new compounds from XQWKZXHQRAAZAF-UHFFFAOYSA-N_UwZThX_to_hippo.pkl.gz\u001b[0m\n",
      "\u001b[7m\u001b[1m\u001b[38;5;11m DISK \u001b[0m Reading \u001b[38;5;11m/opt/xchem-fragalysis-2/kfieseler/CHIKV-Mac/LCANJRPVBLCVAU-UHFFFAOYSA-N/LCANJRPVBLCVAU-UHFFFAOYSA-N_vCybEb_to_hippo.pkl.gz\u001b[0m\n",
      "\u001b[36mPresent reactions\u001b[0m = {'Sp3-sp2_Suzuki_coupling'}\u001b[0m\n",
      "\u001b[7m\u001b[38;5;166m\u001b[1m Warning \u001b[0m\u001b[38;5;166m No bases have truthy path_to_mol. Inserting them anyway\u001b[0m\n",
      "\u001b[7m\u001b[38;5;166m\u001b[1m Warning \u001b[0m\u001b[38;5;166m Skipped 1 invalid reactions\u001b[0m\n",
      "\u001b[7m\u001b[38;5;166m\u001b[1m Warning \u001b[0m\u001b[38;5;166m Loaded 0 new poses from LCANJRPVBLCVAU-UHFFFAOYSA-N_vCybEb_to_hippo.pkl.gz\u001b[0m\n",
      "\u001b[7m\u001b[1m\u001b[38;5;11m DISK \u001b[0m Reading \u001b[38;5;11m/opt/xchem-fragalysis-2/kfieseler/CHIKV-Mac/CVNPYWIROGTFDL-UHFFFAOYSA-N/CVNPYWIROGTFDL-UHFFFAOYSA-N_6ACutS_to_hippo.pkl.gz\u001b[0m\n",
      "\u001b[36mPresent reactions\u001b[0m = {'Nucleophilic_substitution_with_amine', 'Sp2-sp2_Suzuki_coupling'}\u001b[0m\n",
      "\u001b[7m\u001b[38;5;166m\u001b[1m Warning \u001b[0m\u001b[38;5;166m No bases have truthy path_to_mol. Inserting them anyway\u001b[0m\n",
      "\u001b[7m\u001b[38;5;166m\u001b[1m Warning \u001b[0m\u001b[38;5;166m Loaded 0 new poses from CVNPYWIROGTFDL-UHFFFAOYSA-N_6ACutS_to_hippo.pkl.gz\u001b[0m\n",
      "\u001b[7m\u001b[1m\u001b[38;5;11m DISK \u001b[0m Reading \u001b[38;5;11m/opt/xchem-fragalysis-2/kfieseler/CHIKV-Mac/KKYCNGMNUUPLTM-UHFFFAOYSA-N/KKYCNGMNUUPLTM-UHFFFAOYSA-N_4DEaMj_to_hippo.pkl.gz\u001b[0m\n",
      "\u001b[36mPresent reactions\u001b[0m = {'Amidation'}\u001b[0m\n"
     ]
    },
    {
     "name": "stderr",
     "output_type": "stream",
     "text": [
      "[10:00:21] WARNING: not removing hydrogen atom without neighbors\n",
      "[10:00:21] WARNING: not removing hydrogen atom without neighbors\n"
     ]
    },
    {
     "name": "stdout",
     "output_type": "stream",
     "text": [
      "\u001b[7m\u001b[38;5;166m\u001b[1m Warning \u001b[0m\u001b[38;5;166m Skipped 2 invalid reactions\u001b[0m\n",
      "\u001b[7m\u001b[1m\u001b[38;5;11m DISK \u001b[0m Reading \u001b[38;5;11m/opt/xchem-fragalysis-2/kfieseler/CHIKV-Mac/PPHADCGGEPSVTM-UHFFFAOYSA-N/PPHADCGGEPSVTM-UHFFFAOYSA-N_3bhpFq_to_hippo.pkl.gz\u001b[0m\n",
      "\u001b[36mPresent reactions\u001b[0m = {'Ester_amidation'}\u001b[0m\n",
      "\u001b[7m\u001b[38;5;166m\u001b[1m Warning \u001b[0m\u001b[38;5;166m No bases have truthy path_to_mol. Inserting them anyway\u001b[0m\n",
      "\u001b[7m\u001b[38;5;166m\u001b[1m Warning \u001b[0m\u001b[38;5;166m Skipped 28 elaborations that are smaller than the base compound\u001b[0m\n",
      "\u001b[7m\u001b[38;5;166m\u001b[1m Warning \u001b[0m\u001b[38;5;166m Loaded 0 new poses from PPHADCGGEPSVTM-UHFFFAOYSA-N_3bhpFq_to_hippo.pkl.gz\u001b[0m\n",
      "\u001b[7m\u001b[1m\u001b[38;5;11m DISK \u001b[0m Reading \u001b[38;5;11m/opt/xchem-fragalysis-2/kfieseler/CHIKV-Mac/ZJENMQHSGLZNHL-UHFFFAOYSA-N/ZJENMQHSGLZNHL-UHFFFAOYSA-N_ZzGYCp_to_hippo.pkl.gz\u001b[0m\n",
      "\u001b[36mPresent reactions\u001b[0m = {'Ester_amidation'}\u001b[0m\n",
      "\u001b[7m\u001b[38;5;166m\u001b[1m Warning \u001b[0m\u001b[38;5;166m SMILES changed during compound registration: CNCc1cccc(=O)[nH]1 --> CNCc1cccc(O)n1\u001b[0m\n",
      "\u001b[7m\u001b[38;5;166m\u001b[1m Warning \u001b[0m\u001b[38;5;166m SMILES changed during compound registration: CN(Cc1cccc(=O)[nH]1)C(=O)c1cn[nH]c1 --> CN(Cc1cccc(O)n1)C(=O)c1cn[nH]c1\u001b[0m\n",
      "\u001b[7m\u001b[38;5;166m\u001b[1m Warning \u001b[0m\u001b[38;5;166m SMILES changed during compound registration: CNCc1cccc(=O)[nH]1 --> CNCc1cccc(O)n1\u001b[0m\n",
      "\u001b[7m\u001b[38;5;166m\u001b[1m Warning \u001b[0m\u001b[38;5;166m SMILES changed during compound registration: CN(Cc1cccc(=O)[nH]1)C(=O)c1cn[nH]c1 --> CN(Cc1cccc(O)n1)C(=O)c1cn[nH]c1\u001b[0m\n",
      "\u001b[7m\u001b[1m\u001b[38;5;11m DISK \u001b[0m Reading \u001b[38;5;11m/opt/xchem-fragalysis-2/kfieseler/CHIKV-Mac/GQXYNJMUNPQGML-UHFFFAOYSA-N/GQXYNJMUNPQGML-UHFFFAOYSA-N_STWk5f_to_hippo.pkl.gz\u001b[0m\n",
      "\u001b[36mPresent reactions\u001b[0m = {'Nucleophilic_substitution_with_amine'}\u001b[0m\n",
      "CPU times: user 17.2 s, sys: 6.34 s, total: 23.6 s\n",
      "Wall time: 1min 53s\n"
     ]
    }
   ],
   "source": [
    "%%time\n",
    "for to_hippo, template in ref_lookup.items():\n",
    "    logger.reading(to_hippo)\n",
    "    df = animal.add_syndirella_elabs(to_hippo, base_only=True, inspiration_map=None, check_chemistry=True, reference=animal.poses[template])"
   ]
  },
  {
   "cell_type": "code",
   "execution_count": 6,
   "id": "8e4dd37f-fa76-4bec-89dd-392a2bda3f66",
   "metadata": {},
   "outputs": [
    {
     "data": {
      "text/plain": [
       "\u001b[1m\u001b[4m{C x 68}\u001b[22m\u001b[24m"
      ]
     },
     "execution_count": 6,
     "metadata": {},
     "output_type": "execute_result"
    }
   ],
   "source": [
    "animal.compounds(tag='Syndirella base')"
   ]
  },
  {
   "cell_type": "code",
   "execution_count": 7,
   "id": "4680daa6-47b8-454f-a96e-76b36a14b158",
   "metadata": {},
   "outputs": [
    {
     "data": {
      "text/plain": [
       "\u001b[1m\u001b[4mposes tagged \"Syndirella base\": {P x 79}\u001b[22m\u001b[24m"
      ]
     },
     "execution_count": 7,
     "metadata": {},
     "output_type": "execute_result"
    }
   ],
   "source": [
    "animal.poses(tag='Syndirella base')"
   ]
  },
  {
   "cell_type": "code",
   "execution_count": 8,
   "id": "24a99417-9fcb-4bc2-8679-ba7435096b8e",
   "metadata": {},
   "outputs": [],
   "source": [
    "# p = '/opt/xchem-fragalysis-2/kfieseler/CHIKV-Mac/WHLDZOYDHAHKLT-DTWKUNHWSA-N/WHLDZOYDHAHKLT-DTWKUNHWSA-N_bk89Er_to_hippo.pkl.gz'\n",
    "# animal.add_syndirella_elabs(p)"
   ]
  },
  {
   "cell_type": "code",
   "execution_count": 10,
   "id": "619c1d0b-5a06-40b1-9033-92290314f970",
   "metadata": {},
   "outputs": [],
   "source": [
    "from hippo.fragalysis import parse_observation_longcode\n",
    "import functools\n",
    "\n",
    "@functools.cache\n",
    "def obs_mapper(longcode):\n",
    "    result = parse_observation_longcode(longcode)\n",
    "    return animal.poses[f'c{result[\"crystal\"]}a']"
   ]
  },
  {
   "cell_type": "code",
   "execution_count": 12,
   "id": "f9f7facc-e3ff-4e8c-8445-c571ede7ea5b",
   "metadata": {},
   "outputs": [
    {
     "data": {
      "text/plain": [
       "\u001b[1m\u001b[4mC53->P6150: c1440a\u001b[22m\u001b[24m"
      ]
     },
     "execution_count": 12,
     "metadata": {},
     "output_type": "execute_result"
    }
   ],
   "source": [
    "obs_mapper(\"CHIKV_MacB-x1440_A_306_CHIKV_MacB-x0300+A+401+1\")"
   ]
  },
  {
   "cell_type": "code",
   "execution_count": null,
   "id": "cdf9cb0e-ef4d-489d-bdc5-b006c5e7e184",
   "metadata": {},
   "outputs": [],
   "source": []
  }
 ],
 "metadata": {
  "kernelspec": {
   "display_name": "Python [conda env:base] *",
   "language": "python",
   "name": "conda-base-py"
  },
  "language_info": {
   "codemirror_mode": {
    "name": "ipython",
    "version": 3
   },
   "file_extension": ".py",
   "mimetype": "text/x-python",
   "name": "python",
   "nbconvert_exporter": "python",
   "pygments_lexer": "ipython3",
   "version": "3.11.6"
  }
 },
 "nbformat": 4,
 "nbformat_minor": 5
}
