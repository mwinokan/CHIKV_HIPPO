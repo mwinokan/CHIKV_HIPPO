{
 "cells": [
  {
   "cell_type": "markdown",
   "id": "e80f98e7-10d9-49ff-a80b-f36c160c1e29",
   "metadata": {},
   "source": [
    "# CHIKV_Mac HIPPO FFF Prod. 6 (starting recipe)"
   ]
  },
  {
   "cell_type": "markdown",
   "id": "a61f5fb0-ad17-4a68-8d3b-6399a6413e42",
   "metadata": {},
   "source": [
    "## Setup"
   ]
  },
  {
   "cell_type": "code",
   "execution_count": 1,
   "id": "b1125662-7763-4b2d-ad01-2af2931508ce",
   "metadata": {},
   "outputs": [],
   "source": [
    "%load_ext autoreload\n",
    "%autoreload 2\n",
    "import hippo\n",
    "from pathlib import Path\n",
    "from mlog import setup_logger\n",
    "import pandas as pd\n",
    "import numpy as np\n",
    "logger=setup_logger('notebook')"
   ]
  },
  {
   "cell_type": "code",
   "execution_count": 2,
   "id": "b63f2050-7e82-46c5-b2a3-7c821378cce4",
   "metadata": {},
   "outputs": [],
   "source": [
    "# !cp -v CHIKV_prod5.sqlite CHIKV_prod6.sqlite"
   ]
  },
  {
   "cell_type": "code",
   "execution_count": 3,
   "id": "80f578e0-1942-416c-81c3-d2fac0d4a022",
   "metadata": {},
   "outputs": [
    {
     "name": "stdout",
     "output_type": "stream",
     "text": [
      "\u001b[1m\u001b[38;5;166mCreating HIPPO animal\u001b[0m\n",
      "\u001b[36mname\u001b[0m = \u001b[38;5;154mCHIKV_prod6\u001b[0m\n",
      "\u001b[36mdb_path\u001b[0m = \u001b[38;5;11mCHIKV_prod6.sqlite\u001b[0m\n",
      "\u001b[2mDEBUG: hippo3.Database.__init__()\u001b[0m\n",
      "\u001b[2mDEBUG: Database.path = CHIKV_prod6.sqlite\u001b[0m\n",
      "\u001b[2mDEBUG: hippo3.Database.connect()\u001b[0m\n",
      "\u001b[2mDEBUG: sqlite3.version='2.6.0'\u001b[0m\n",
      "\u001b[7m\u001b[32;1m SUCCESS \u001b[0m\u001b[32;1m Database connected @ \u001b[38;5;11mCHIKV_prod6.sqlite!\u001b[0m\n",
      "\u001b[7m\u001b[32;1m SUCCESS \u001b[0m\u001b[32;1m Initialised animal HIPPO(\"CHIKV_prod6\")!\u001b[0m\n"
     ]
    }
   ],
   "source": [
    "animal = hippo.HIPPO('CHIKV_prod6', 'CHIKV_prod6.sqlite')"
   ]
  },
  {
   "cell_type": "code",
   "execution_count": 4,
   "id": "1e69cdb2-48cc-4532-8b23-b021b02cad86",
   "metadata": {},
   "outputs": [],
   "source": [
    "bases = animal.compounds(tag='Syndirella base')"
   ]
  },
  {
   "cell_type": "code",
   "execution_count": 15,
   "id": "8de72f7b-c566-4349-a71d-da2c27230217",
   "metadata": {},
   "outputs": [
    {
     "name": "stdout",
     "output_type": "stream",
     "text": [
      "\u001b[36m#compounds\u001b[0m = 68\u001b[0m\n",
      "Solving individual compound recipes...\n"
     ]
    },
    {
     "name": "stderr",
     "output_type": "stream",
     "text": [
      "  0%|          | 0/68 [00:00<?, ?it/s]"
     ]
    },
    {
     "name": "stdout",
     "output_type": "stream",
     "text": [
      "\u001b[7m\u001b[31;1m ERROR \u001b[0m\u001b[31;1m No entry in quote with quote_compound=91!\u001b[0m\n",
      "\u001b[7m\u001b[31;1m ERROR \u001b[0m\u001b[31;1m Reactants not available for reaction=\u001b[1m\u001b[4mR22: C4458 + C4459 -> C91 via Sp2-sp2_Suzuki_coupling\u001b[22m\u001b[24m!\u001b[0m\n",
      "\u001b[7m\u001b[31;1m ERROR \u001b[0m\u001b[31;1m No entry in quote with quote_compound=91!\u001b[0m\n",
      "\u001b[7m\u001b[31;1m ERROR \u001b[0m\u001b[31;1m Reactants not available for reaction=\u001b[1m\u001b[4mR23: C4458 + C4460 -> C91 via Sp2-sp2_Suzuki_coupling\u001b[22m\u001b[24m!\u001b[0m\n",
      "\u001b[7m\u001b[31;1m ERROR \u001b[0m\u001b[31;1m No solutions for compound=C91!\u001b[0m\n"
     ]
    },
    {
     "name": "stderr",
     "output_type": "stream",
     "text": [
      "  1%|▏         | 1/68 [00:01<01:19,  1.18s/it]"
     ]
    },
    {
     "name": "stdout",
     "output_type": "stream",
     "text": [
      "\u001b[7m\u001b[31;1m ERROR \u001b[0m\u001b[31;1m No entry in quote with quote_compound=92!\u001b[0m\n",
      "\u001b[7m\u001b[31;1m ERROR \u001b[0m\u001b[31;1m Reactants not available for reaction=\u001b[1m\u001b[4mR32: C4470 + C4471 -> C92 via N-nucleophilic_aromatic_substitution\u001b[22m\u001b[24m!\u001b[0m\n",
      "\u001b[7m\u001b[31;1m ERROR \u001b[0m\u001b[31;1m No solutions for compound=C92!\u001b[0m\n"
     ]
    },
    {
     "name": "stderr",
     "output_type": "stream",
     "text": [
      "  3%|▎         | 2/68 [00:01<01:00,  1.10it/s]"
     ]
    },
    {
     "name": "stdout",
     "output_type": "stream",
     "text": [
      "\u001b[7m\u001b[31;1m ERROR \u001b[0m\u001b[31;1m No entry in quote with quote_compound=93!\u001b[0m\n"
     ]
    },
    {
     "name": "stderr",
     "output_type": "stream",
     "text": [
      "  4%|▍         | 3/68 [00:03<01:21,  1.25s/it]"
     ]
    },
    {
     "name": "stdout",
     "output_type": "stream",
     "text": [
      "\u001b[7m\u001b[31;1m ERROR \u001b[0m\u001b[31;1m No entry in quote with quote_compound=95!\u001b[0m\n"
     ]
    },
    {
     "name": "stderr",
     "output_type": "stream",
     "text": [
      "  6%|▌         | 4/68 [00:05<01:25,  1.34s/it]"
     ]
    },
    {
     "name": "stdout",
     "output_type": "stream",
     "text": [
      "\u001b[7m\u001b[31;1m ERROR \u001b[0m\u001b[31;1m No entry in quote with quote_compound=98!\u001b[0m\n",
      "\u001b[7m\u001b[31;1m ERROR \u001b[0m\u001b[31;1m Reactants not available for reaction=\u001b[1m\u001b[4mR86: C4536 + C4537 -> C98 via Sp3-sp2_Suzuki_coupling\u001b[22m\u001b[24m!\u001b[0m\n",
      "\u001b[7m\u001b[31;1m ERROR \u001b[0m\u001b[31;1m No entry in quote with quote_compound=98!\u001b[0m\n",
      "\u001b[7m\u001b[31;1m ERROR \u001b[0m\u001b[31;1m Reactants not available for reaction=\u001b[1m\u001b[4mR87: C4536 + C4538 -> C98 via Sp3-sp2_Suzuki_coupling\u001b[22m\u001b[24m!\u001b[0m\n",
      "\u001b[7m\u001b[31;1m ERROR \u001b[0m\u001b[31;1m No entry in quote with quote_compound=98!\u001b[0m\n",
      "\u001b[7m\u001b[31;1m ERROR \u001b[0m\u001b[31;1m Reactants not available for reaction=\u001b[1m\u001b[4mR88: C4537 + C4539 -> C98 via Sp3-sp2_Suzuki_coupling\u001b[22m\u001b[24m!\u001b[0m\n",
      "\u001b[7m\u001b[31;1m ERROR \u001b[0m\u001b[31;1m No entry in quote with quote_compound=98!\u001b[0m\n",
      "\u001b[7m\u001b[31;1m ERROR \u001b[0m\u001b[31;1m Reactants not available for reaction=\u001b[1m\u001b[4mR89: C4538 + C4539 -> C98 via Sp3-sp2_Suzuki_coupling\u001b[22m\u001b[24m!\u001b[0m\n",
      "\u001b[7m\u001b[31;1m ERROR \u001b[0m\u001b[31;1m No solutions for compound=C98!\u001b[0m\n"
     ]
    },
    {
     "name": "stderr",
     "output_type": "stream",
     "text": [
      "  7%|▋         | 5/68 [00:07<01:43,  1.64s/it]"
     ]
    },
    {
     "name": "stdout",
     "output_type": "stream",
     "text": [
      "\u001b[7m\u001b[31;1m ERROR \u001b[0m\u001b[31;1m No entry in quote with quote_compound=100!\u001b[0m\n",
      "\u001b[7m\u001b[31;1m ERROR \u001b[0m\u001b[31;1m No entry in quote with quote_compound=4464!\u001b[0m\n",
      "\u001b[7m\u001b[31;1m ERROR \u001b[0m\u001b[31;1m Reactants not available for reaction=\u001b[1m\u001b[4mR26: C50 + C4463 -> C4464 via Nucleophilic_substitution_with_amine\u001b[22m\u001b[24m!\u001b[0m\n",
      "\u001b[7m\u001b[31;1m ERROR \u001b[0m\u001b[31;1m 0 recipes with prices, can't choose cheapest!\u001b[0m\n",
      "\u001b[7m\u001b[31;1m ERROR \u001b[0m\u001b[31;1m No entry in quote with quote_compound=100!\u001b[0m\n",
      "\u001b[7m\u001b[31;1m ERROR \u001b[0m\u001b[31;1m Reactants not available for reaction=\u001b[1m\u001b[4mR93: C4464 + C4544 -> C100 via Sp2-sp2_Suzuki_coupling\u001b[22m\u001b[24m!\u001b[0m\n",
      "\u001b[7m\u001b[31;1m ERROR \u001b[0m\u001b[31;1m No solutions for compound=C100!\u001b[0m\n"
     ]
    },
    {
     "name": "stderr",
     "output_type": "stream",
     "text": [
      "  9%|▉         | 6/68 [00:09<01:59,  1.93s/it]"
     ]
    },
    {
     "name": "stdout",
     "output_type": "stream",
     "text": [
      "\u001b[7m\u001b[31;1m ERROR \u001b[0m\u001b[31;1m No entry in quote with quote_compound=101!\u001b[0m\n",
      "\u001b[7m\u001b[31;1m ERROR \u001b[0m\u001b[31;1m Reactants not available for reaction=\u001b[1m\u001b[4mR102: C4552 + C4553 -> C101 via Amidation\u001b[22m\u001b[24m!\u001b[0m\n",
      "\u001b[7m\u001b[31;1m ERROR \u001b[0m\u001b[31;1m No solutions for compound=C101!\u001b[0m\n"
     ]
    },
    {
     "name": "stderr",
     "output_type": "stream",
     "text": [
      " 10%|█         | 7/68 [00:10<01:35,  1.56s/it]"
     ]
    },
    {
     "name": "stdout",
     "output_type": "stream",
     "text": [
      "\u001b[7m\u001b[31;1m ERROR \u001b[0m\u001b[31;1m No entry in quote with quote_compound=104!\u001b[0m\n"
     ]
    },
    {
     "name": "stderr",
     "output_type": "stream",
     "text": [
      " 12%|█▏        | 8/68 [00:12<01:34,  1.57s/it]"
     ]
    },
    {
     "name": "stdout",
     "output_type": "stream",
     "text": [
      "\u001b[7m\u001b[31;1m ERROR \u001b[0m\u001b[31;1m No entry in quote with quote_compound=372!\u001b[0m\n",
      "\u001b[7m\u001b[31;1m ERROR \u001b[0m\u001b[31;1m Reactants not available for reaction=\u001b[1m\u001b[4mR12: C1468 + C4440 -> C372 via Buchwald-Hartwig_amination\u001b[22m\u001b[24m!\u001b[0m\n",
      "\u001b[7m\u001b[31;1m ERROR \u001b[0m\u001b[31;1m No solutions for compound=C372!\u001b[0m\n"
     ]
    },
    {
     "name": "stderr",
     "output_type": "stream",
     "text": [
      " 13%|█▎        | 9/68 [00:12<01:18,  1.33s/it]"
     ]
    },
    {
     "name": "stdout",
     "output_type": "stream",
     "text": [
      "\u001b[7m\u001b[31;1m ERROR \u001b[0m\u001b[31;1m No entry in quote with quote_compound=555!\u001b[0m\n",
      "\u001b[7m\u001b[31;1m ERROR \u001b[0m\u001b[31;1m Reactants not available for reaction=\u001b[1m\u001b[4mR119: C4426 + C4572 -> C555 via Ester_amidation\u001b[22m\u001b[24m!\u001b[0m\n",
      "\u001b[7m\u001b[31;1m ERROR \u001b[0m\u001b[31;1m No entry in quote with quote_compound=555!\u001b[0m\n",
      "\u001b[7m\u001b[31;1m ERROR \u001b[0m\u001b[31;1m Reactants not available for reaction=\u001b[1m\u001b[4mR120: C4426 + C4573 -> C555 via Ester_amidation\u001b[22m\u001b[24m!\u001b[0m\n",
      "\u001b[7m\u001b[31;1m ERROR \u001b[0m\u001b[31;1m No solutions for compound=C555!\u001b[0m\n"
     ]
    },
    {
     "name": "stderr",
     "output_type": "stream",
     "text": [
      " 15%|█▍        | 10/68 [00:14<01:14,  1.29s/it]"
     ]
    },
    {
     "name": "stdout",
     "output_type": "stream",
     "text": [
      "\u001b[7m\u001b[31;1m ERROR \u001b[0m\u001b[31;1m No entry in quote with quote_compound=569!\u001b[0m\n",
      "\u001b[7m\u001b[31;1m ERROR \u001b[0m\u001b[31;1m Reactants not available for reaction=\u001b[1m\u001b[4mR50: C4491 + C4492 -> C569 via Sp3-sp2_Suzuki_coupling\u001b[22m\u001b[24m!\u001b[0m\n",
      "\u001b[7m\u001b[31;1m ERROR \u001b[0m\u001b[31;1m No solutions for compound=C569!\u001b[0m\n"
     ]
    },
    {
     "name": "stderr",
     "output_type": "stream",
     "text": [
      " 16%|█▌        | 11/68 [00:14<01:04,  1.14s/it]"
     ]
    },
    {
     "name": "stdout",
     "output_type": "stream",
     "text": [
      "\u001b[7m\u001b[31;1m ERROR \u001b[0m\u001b[31;1m No solutions for compound=C576!\u001b[0m\n"
     ]
    },
    {
     "name": "stderr",
     "output_type": "stream",
     "text": [
      " 18%|█▊        | 12/68 [00:15<00:50,  1.12it/s]"
     ]
    },
    {
     "name": "stdout",
     "output_type": "stream",
     "text": [
      "\u001b[7m\u001b[31;1m ERROR \u001b[0m\u001b[31;1m No entry in quote with quote_compound=596!\u001b[0m\n",
      "\u001b[7m\u001b[31;1m ERROR \u001b[0m\u001b[31;1m Reactants not available for reaction=\u001b[1m\u001b[4mR58: C4502 + C4503 -> C596 via Buchwald-Hartwig_amination\u001b[22m\u001b[24m!\u001b[0m\n",
      "\u001b[7m\u001b[31;1m ERROR \u001b[0m\u001b[31;1m No solutions for compound=C596!\u001b[0m\n"
     ]
    },
    {
     "name": "stderr",
     "output_type": "stream",
     "text": [
      " 19%|█▉        | 13/68 [00:16<00:48,  1.14it/s]"
     ]
    },
    {
     "name": "stdout",
     "output_type": "stream",
     "text": [
      "\u001b[7m\u001b[31;1m ERROR \u001b[0m\u001b[31;1m No entry in quote with quote_compound=627!\u001b[0m\n",
      "\u001b[7m\u001b[31;1m ERROR \u001b[0m\u001b[31;1m Reactants not available for reaction=\u001b[1m\u001b[4mR1: C4423 + C4424 -> C627 via Amidation\u001b[22m\u001b[24m!\u001b[0m\n",
      "\u001b[7m\u001b[31;1m ERROR \u001b[0m\u001b[31;1m No solutions for compound=C627!\u001b[0m\n"
     ]
    },
    {
     "name": "stderr",
     "output_type": "stream",
     "text": [
      " 21%|██        | 14/68 [00:16<00:46,  1.16it/s]"
     ]
    },
    {
     "name": "stdout",
     "output_type": "stream",
     "text": [
      "\u001b[7m\u001b[31;1m ERROR \u001b[0m\u001b[31;1m No entry in quote with quote_compound=653!\u001b[0m\n",
      "\u001b[7m\u001b[31;1m ERROR \u001b[0m\u001b[31;1m Reactants not available for reaction=\u001b[1m\u001b[4mR3: C4427 + C4428 -> C653 via Amidation\u001b[22m\u001b[24m!\u001b[0m\n",
      "\u001b[7m\u001b[31;1m ERROR \u001b[0m\u001b[31;1m No solutions for compound=C653!\u001b[0m\n"
     ]
    },
    {
     "name": "stderr",
     "output_type": "stream",
     "text": [
      " 22%|██▏       | 15/68 [00:17<00:45,  1.17it/s]"
     ]
    },
    {
     "name": "stdout",
     "output_type": "stream",
     "text": [
      "\u001b[7m\u001b[31;1m ERROR \u001b[0m\u001b[31;1m No entry in quote with quote_compound=662!\u001b[0m\n",
      "\u001b[7m\u001b[31;1m ERROR \u001b[0m\u001b[31;1m No entry in quote with quote_compound=4469!\u001b[0m\n",
      "\u001b[7m\u001b[31;1m ERROR \u001b[0m\u001b[31;1m Reactants not available for reaction=\u001b[1m\u001b[4mR31: C4443 + C4468 -> C4469 via Nucleophilic_substitution_with_amine\u001b[22m\u001b[24m!\u001b[0m\n",
      "\u001b[7m\u001b[31;1m ERROR \u001b[0m\u001b[31;1m 0 recipes with prices, can't choose cheapest!\u001b[0m\n",
      "\u001b[7m\u001b[31;1m ERROR \u001b[0m\u001b[31;1m No solutions for compound=C662!\u001b[0m\n"
     ]
    },
    {
     "name": "stderr",
     "output_type": "stream",
     "text": [
      " 24%|██▎       | 16/68 [00:19<01:02,  1.21s/it]"
     ]
    },
    {
     "name": "stdout",
     "output_type": "stream",
     "text": [
      "\u001b[7m\u001b[31;1m ERROR \u001b[0m\u001b[31;1m No entry in quote with quote_compound=680!\u001b[0m\n",
      "\u001b[7m\u001b[31;1m ERROR \u001b[0m\u001b[31;1m Reactants not available for reaction=\u001b[1m\u001b[4mR34: C18 + C4473 -> C680 via N-nucleophilic_aromatic_substitution\u001b[22m\u001b[24m!\u001b[0m\n",
      "\u001b[7m\u001b[31;1m ERROR \u001b[0m\u001b[31;1m No solutions for compound=C680!\u001b[0m\n"
     ]
    },
    {
     "name": "stderr",
     "output_type": "stream",
     "text": [
      " 25%|██▌       | 17/68 [00:20<00:56,  1.10s/it]"
     ]
    },
    {
     "name": "stdout",
     "output_type": "stream",
     "text": [
      "\u001b[7m\u001b[31;1m ERROR \u001b[0m\u001b[31;1m No entry in quote with quote_compound=718!\u001b[0m\n",
      "\u001b[7m\u001b[31;1m ERROR \u001b[0m\u001b[31;1m Reactants not available for reaction=\u001b[1m\u001b[4mR121: C19 + C4574 -> C718 via Nucleophilic_substitution_with_amine\u001b[22m\u001b[24m!\u001b[0m\n",
      "\u001b[7m\u001b[31;1m ERROR \u001b[0m\u001b[31;1m No solutions for compound=C718!\u001b[0m\n"
     ]
    },
    {
     "name": "stderr",
     "output_type": "stream",
     "text": [
      " 26%|██▋       | 18/68 [00:21<00:50,  1.00s/it]"
     ]
    },
    {
     "name": "stdout",
     "output_type": "stream",
     "text": [
      "\u001b[7m\u001b[31;1m ERROR \u001b[0m\u001b[31;1m No entry in quote with quote_compound=760!\u001b[0m\n",
      "\u001b[7m\u001b[31;1m ERROR \u001b[0m\u001b[31;1m Reactants not available for reaction=\u001b[1m\u001b[4mR104: C4555 + C4556 -> C760 via Mitsunobu_reaction_with_amine_alcohol_and_thioalcohol\u001b[22m\u001b[24m!\u001b[0m\n",
      "\u001b[7m\u001b[31;1m ERROR \u001b[0m\u001b[31;1m No solutions for compound=C760!\u001b[0m\n"
     ]
    },
    {
     "name": "stderr",
     "output_type": "stream",
     "text": [
      " 28%|██▊       | 19/68 [00:22<00:45,  1.07it/s]"
     ]
    },
    {
     "name": "stdout",
     "output_type": "stream",
     "text": [
      "\u001b[7m\u001b[31;1m ERROR \u001b[0m\u001b[31;1m No entry in quote with quote_compound=796!\u001b[0m\n",
      "\u001b[7m\u001b[31;1m ERROR \u001b[0m\u001b[31;1m No entry in quote with quote_compound=796!\u001b[0m\n",
      "\u001b[7m\u001b[38;5;166m\u001b[1m Warning \u001b[0m\u001b[38;5;166m Multiple solutions for compound=C796\u001b[0m\n"
     ]
    },
    {
     "name": "stderr",
     "output_type": "stream",
     "text": [
      " 29%|██▉       | 20/68 [00:24<01:09,  1.46s/it]"
     ]
    },
    {
     "name": "stdout",
     "output_type": "stream",
     "text": [
      "\u001b[7m\u001b[31;1m ERROR \u001b[0m\u001b[31;1m No entry in quote with quote_compound=804!\u001b[0m\n",
      "\u001b[7m\u001b[31;1m ERROR \u001b[0m\u001b[31;1m Reactants not available for reaction=\u001b[1m\u001b[4mR45: C4485 + C4486 -> C804 via Sp2-sp2_Suzuki_coupling\u001b[22m\u001b[24m!\u001b[0m\n",
      "\u001b[7m\u001b[31;1m ERROR \u001b[0m\u001b[31;1m No entry in quote with quote_compound=804!\u001b[0m\n",
      "\u001b[7m\u001b[31;1m ERROR \u001b[0m\u001b[31;1m Reactants not available for reaction=\u001b[1m\u001b[4mR46: C4487 + C4488 -> C804 via Sp2-sp2_Suzuki_coupling\u001b[22m\u001b[24m!\u001b[0m\n",
      "\u001b[7m\u001b[31;1m ERROR \u001b[0m\u001b[31;1m No entry in quote with quote_compound=804!\u001b[0m\n",
      "\u001b[7m\u001b[31;1m ERROR \u001b[0m\u001b[31;1m Reactants not available for reaction=\u001b[1m\u001b[4mR47: C4485 + C4488 -> C804 via Sp2-sp2_Suzuki_coupling\u001b[22m\u001b[24m!\u001b[0m\n",
      "\u001b[7m\u001b[31;1m ERROR \u001b[0m\u001b[31;1m No entry in quote with quote_compound=804!\u001b[0m\n",
      "\u001b[7m\u001b[31;1m ERROR \u001b[0m\u001b[31;1m Reactants not available for reaction=\u001b[1m\u001b[4mR48: C4486 + C4487 -> C804 via Sp2-sp2_Suzuki_coupling\u001b[22m\u001b[24m!\u001b[0m\n",
      "\u001b[7m\u001b[31;1m ERROR \u001b[0m\u001b[31;1m No solutions for compound=C804!\u001b[0m\n"
     ]
    },
    {
     "name": "stderr",
     "output_type": "stream",
     "text": [
      " 31%|███       | 21/68 [00:27<01:19,  1.68s/it]"
     ]
    },
    {
     "name": "stdout",
     "output_type": "stream",
     "text": [
      "\u001b[7m\u001b[31;1m ERROR \u001b[0m\u001b[31;1m No entry in quote with quote_compound=849!\u001b[0m\n",
      "\u001b[7m\u001b[31;1m ERROR \u001b[0m\u001b[31;1m Reactants not available for reaction=\u001b[1m\u001b[4mR16: C4440 + C4448 -> C849 via Ester_amidation\u001b[22m\u001b[24m!\u001b[0m\n",
      "\u001b[7m\u001b[31;1m ERROR \u001b[0m\u001b[31;1m No solutions for compound=C849!\u001b[0m\n"
     ]
    },
    {
     "name": "stderr",
     "output_type": "stream",
     "text": [
      " 32%|███▏      | 22/68 [00:27<01:04,  1.41s/it]"
     ]
    },
    {
     "name": "stdout",
     "output_type": "stream",
     "text": [
      "\u001b[7m\u001b[31;1m ERROR \u001b[0m\u001b[31;1m No entry in quote with quote_compound=992!\u001b[0m\n",
      "\u001b[7m\u001b[31;1m ERROR \u001b[0m\u001b[31;1m Reactants not available for reaction=\u001b[1m\u001b[4mR63: C4510 + C4511 -> C992 via Sp3-sp2_Suzuki_coupling\u001b[22m\u001b[24m!\u001b[0m\n",
      "\u001b[7m\u001b[31;1m ERROR \u001b[0m\u001b[31;1m No entry in quote with quote_compound=992!\u001b[0m\n",
      "\u001b[7m\u001b[31;1m ERROR \u001b[0m\u001b[31;1m No entry in quote with quote_compound=4510!\u001b[0m\n",
      "\u001b[7m\u001b[31;1m ERROR \u001b[0m\u001b[31;1m Reactants not available for reaction=\u001b[1m\u001b[4mR62: C4508 + C4509 -> C4510 via Mitsunobu_reaction_with_amine_alcohol_and_thioalcohol\u001b[22m\u001b[24m!\u001b[0m\n",
      "\u001b[7m\u001b[31;1m ERROR \u001b[0m\u001b[31;1m 0 recipes with prices, can't choose cheapest!\u001b[0m\n",
      "\u001b[7m\u001b[31;1m ERROR \u001b[0m\u001b[31;1m No solutions for compound=C992!\u001b[0m\n"
     ]
    },
    {
     "name": "stderr",
     "output_type": "stream",
     "text": [
      " 34%|███▍      | 23/68 [00:30<01:15,  1.69s/it]"
     ]
    },
    {
     "name": "stdout",
     "output_type": "stream",
     "text": [
      "\u001b[7m\u001b[31;1m ERROR \u001b[0m\u001b[31;1m No entry in quote with quote_compound=1001!\u001b[0m\n"
     ]
    },
    {
     "name": "stderr",
     "output_type": "stream",
     "text": [
      " 35%|███▌      | 24/68 [00:31<01:09,  1.57s/it]"
     ]
    },
    {
     "name": "stdout",
     "output_type": "stream",
     "text": [
      "\u001b[7m\u001b[31;1m ERROR \u001b[0m\u001b[31;1m No entry in quote with quote_compound=1012!\u001b[0m\n",
      "\u001b[7m\u001b[31;1m ERROR \u001b[0m\u001b[31;1m Reactants not available for reaction=\u001b[1m\u001b[4mR36: C4478 + C4479 -> C1012 via Amidation\u001b[22m\u001b[24m!\u001b[0m\n",
      "\u001b[7m\u001b[31;1m ERROR \u001b[0m\u001b[31;1m No solutions for compound=C1012!\u001b[0m\n"
     ]
    },
    {
     "name": "stderr",
     "output_type": "stream",
     "text": [
      " 37%|███▋      | 25/68 [00:32<00:56,  1.31s/it]"
     ]
    },
    {
     "name": "stdout",
     "output_type": "stream",
     "text": [
      "\u001b[7m\u001b[31;1m ERROR \u001b[0m\u001b[31;1m No entry in quote with quote_compound=1029!\u001b[0m\n",
      "\u001b[7m\u001b[31;1m ERROR \u001b[0m\u001b[31;1m Reactants not available for reaction=\u001b[1m\u001b[4mR2: C4425 + C4426 -> C1029 via Amidation\u001b[22m\u001b[24m!\u001b[0m\n",
      "\u001b[7m\u001b[31;1m ERROR \u001b[0m\u001b[31;1m No solutions for compound=C1029!\u001b[0m\n"
     ]
    },
    {
     "name": "stderr",
     "output_type": "stream",
     "text": [
      " 38%|███▊      | 26/68 [00:32<00:47,  1.13s/it]"
     ]
    },
    {
     "name": "stdout",
     "output_type": "stream",
     "text": [
      "\u001b[7m\u001b[31;1m ERROR \u001b[0m\u001b[31;1m No entry in quote with quote_compound=1119!\u001b[0m\n",
      "\u001b[7m\u001b[31;1m ERROR \u001b[0m\u001b[31;1m Reactants not available for reaction=\u001b[1m\u001b[4mR109: C4562 + C4563 -> C1119 via Sp3-sp2_Suzuki_coupling\u001b[22m\u001b[24m!\u001b[0m\n",
      "\u001b[7m\u001b[31;1m ERROR \u001b[0m\u001b[31;1m No entry in quote with quote_compound=1119!\u001b[0m\n",
      "\u001b[7m\u001b[31;1m ERROR \u001b[0m\u001b[31;1m Reactants not available for reaction=\u001b[1m\u001b[4mR110: C4562 + C4564 -> C1119 via Sp3-sp2_Suzuki_coupling\u001b[22m\u001b[24m!\u001b[0m\n",
      "\u001b[7m\u001b[31;1m ERROR \u001b[0m\u001b[31;1m No entry in quote with quote_compound=1119!\u001b[0m\n",
      "\u001b[7m\u001b[31;1m ERROR \u001b[0m\u001b[31;1m Reactants not available for reaction=\u001b[1m\u001b[4mR111: C4560 + C4562 -> C1119 via Sp3-sp2_Suzuki_coupling\u001b[22m\u001b[24m!\u001b[0m\n",
      "\u001b[7m\u001b[31;1m ERROR \u001b[0m\u001b[31;1m No entry in quote with quote_compound=1119!\u001b[0m\n",
      "\u001b[7m\u001b[31;1m ERROR \u001b[0m\u001b[31;1m Reactants not available for reaction=\u001b[1m\u001b[4mR112: C4558 + C4562 -> C1119 via Sp3-sp2_Suzuki_coupling\u001b[22m\u001b[24m!\u001b[0m\n",
      "\u001b[7m\u001b[31;1m ERROR \u001b[0m\u001b[31;1m No solutions for compound=C1119!\u001b[0m\n"
     ]
    },
    {
     "name": "stderr",
     "output_type": "stream",
     "text": [
      " 40%|███▉      | 27/68 [00:34<00:54,  1.33s/it]"
     ]
    },
    {
     "name": "stdout",
     "output_type": "stream",
     "text": [
      "\u001b[7m\u001b[31;1m ERROR \u001b[0m\u001b[31;1m No entry in quote with quote_compound=1128!\u001b[0m\n",
      "\u001b[7m\u001b[31;1m ERROR \u001b[0m\u001b[31;1m No entry in quote with quote_compound=1128!\u001b[0m\n",
      "\u001b[7m\u001b[31;1m ERROR \u001b[0m\u001b[31;1m Reactants not available for reaction=\u001b[1m\u001b[4mR106: C4557 + C4560 -> C1128 via Sp3-sp2_Suzuki_coupling\u001b[22m\u001b[24m!\u001b[0m\n"
     ]
    },
    {
     "name": "stderr",
     "output_type": "stream",
     "text": [
      " 41%|████      | 28/68 [00:36<00:58,  1.46s/it]"
     ]
    },
    {
     "name": "stdout",
     "output_type": "stream",
     "text": [
      "\u001b[7m\u001b[31;1m ERROR \u001b[0m\u001b[31;1m No entry in quote with quote_compound=1192!\u001b[0m\n",
      "\u001b[7m\u001b[31;1m ERROR \u001b[0m\u001b[31;1m Reactants not available for reaction=\u001b[1m\u001b[4mR5: C4431 + C4432 -> C1192 via Ester_amidation\u001b[22m\u001b[24m!\u001b[0m\n",
      "\u001b[7m\u001b[31;1m ERROR \u001b[0m\u001b[31;1m No entry in quote with quote_compound=1192!\u001b[0m\n",
      "\u001b[7m\u001b[31;1m ERROR \u001b[0m\u001b[31;1m Reactants not available for reaction=\u001b[1m\u001b[4mR6: C4432 + C4433 -> C1192 via Ester_amidation\u001b[22m\u001b[24m!\u001b[0m\n",
      "\u001b[7m\u001b[31;1m ERROR \u001b[0m\u001b[31;1m No entry in quote with quote_compound=1192!\u001b[0m\n",
      "\u001b[7m\u001b[31;1m ERROR \u001b[0m\u001b[31;1m Reactants not available for reaction=\u001b[1m\u001b[4mR7: C4432 + C4434 -> C1192 via Ester_amidation\u001b[22m\u001b[24m!\u001b[0m\n",
      "\u001b[7m\u001b[31;1m ERROR \u001b[0m\u001b[31;1m No entry in quote with quote_compound=1192!\u001b[0m\n",
      "\u001b[7m\u001b[31;1m ERROR \u001b[0m\u001b[31;1m Reactants not available for reaction=\u001b[1m\u001b[4mR8: C4432 + C4435 -> C1192 via Ester_amidation\u001b[22m\u001b[24m!\u001b[0m\n",
      "\u001b[7m\u001b[31;1m ERROR \u001b[0m\u001b[31;1m No solutions for compound=C1192!\u001b[0m\n"
     ]
    },
    {
     "name": "stderr",
     "output_type": "stream",
     "text": [
      " 43%|████▎     | 29/68 [00:38<01:01,  1.57s/it]"
     ]
    },
    {
     "name": "stdout",
     "output_type": "stream",
     "text": [
      "\u001b[7m\u001b[31;1m ERROR \u001b[0m\u001b[31;1m No entry in quote with quote_compound=1257!\u001b[0m\n",
      "\u001b[7m\u001b[31;1m ERROR \u001b[0m\u001b[31;1m No entry in quote with quote_compound=4464!\u001b[0m\n",
      "\u001b[7m\u001b[31;1m ERROR \u001b[0m\u001b[31;1m Reactants not available for reaction=\u001b[1m\u001b[4mR26: C50 + C4463 -> C4464 via Nucleophilic_substitution_with_amine\u001b[22m\u001b[24m!\u001b[0m\n",
      "\u001b[7m\u001b[31;1m ERROR \u001b[0m\u001b[31;1m 0 recipes with prices, can't choose cheapest!\u001b[0m\n",
      "\u001b[7m\u001b[31;1m ERROR \u001b[0m\u001b[31;1m No solutions for compound=C1257!\u001b[0m\n"
     ]
    },
    {
     "name": "stderr",
     "output_type": "stream",
     "text": [
      " 44%|████▍     | 30/68 [00:39<01:00,  1.60s/it]"
     ]
    },
    {
     "name": "stdout",
     "output_type": "stream",
     "text": [
      "\u001b[7m\u001b[31;1m ERROR \u001b[0m\u001b[31;1m No entry in quote with quote_compound=1316!\u001b[0m\n"
     ]
    },
    {
     "name": "stderr",
     "output_type": "stream",
     "text": [
      " 46%|████▌     | 31/68 [00:41<00:56,  1.52s/it]"
     ]
    },
    {
     "name": "stdout",
     "output_type": "stream",
     "text": [
      "\u001b[7m\u001b[31;1m ERROR \u001b[0m\u001b[31;1m No entry in quote with quote_compound=1444!\u001b[0m\n",
      "\u001b[7m\u001b[31;1m ERROR \u001b[0m\u001b[31;1m Reactants not available for reaction=\u001b[1m\u001b[4mR101: C4424 + C4551 -> C1444 via Ester_amidation\u001b[22m\u001b[24m!\u001b[0m\n",
      "\u001b[7m\u001b[31;1m ERROR \u001b[0m\u001b[31;1m No solutions for compound=C1444!\u001b[0m\n"
     ]
    },
    {
     "name": "stderr",
     "output_type": "stream",
     "text": [
      " 47%|████▋     | 32/68 [00:42<00:48,  1.35s/it]"
     ]
    },
    {
     "name": "stdout",
     "output_type": "stream",
     "text": [
      "\u001b[7m\u001b[31;1m ERROR \u001b[0m\u001b[31;1m No entry in quote with quote_compound=1446!\u001b[0m\n",
      "\u001b[7m\u001b[31;1m ERROR \u001b[0m\u001b[31;1m Reactants not available for reaction=\u001b[1m\u001b[4mR116: C4568 + C4569 -> C1446 via Amidation\u001b[22m\u001b[24m!\u001b[0m\n",
      "\u001b[7m\u001b[31;1m ERROR \u001b[0m\u001b[31;1m No solutions for compound=C1446!\u001b[0m\n"
     ]
    },
    {
     "name": "stderr",
     "output_type": "stream",
     "text": [
      " 49%|████▊     | 33/68 [00:43<00:42,  1.22s/it]"
     ]
    },
    {
     "name": "stdout",
     "output_type": "stream",
     "text": [
      "\u001b[7m\u001b[31;1m ERROR \u001b[0m\u001b[31;1m No entry in quote with quote_compound=1466!\u001b[0m\n",
      "\u001b[7m\u001b[31;1m ERROR \u001b[0m\u001b[31;1m Reactants not available for reaction=\u001b[1m\u001b[4mR83: C4443 + C4531 -> C1466 via N-nucleophilic_aromatic_substitution\u001b[22m\u001b[24m!\u001b[0m\n",
      "\u001b[7m\u001b[31;1m ERROR \u001b[0m\u001b[31;1m No solutions for compound=C1466!\u001b[0m\n"
     ]
    },
    {
     "name": "stderr",
     "output_type": "stream",
     "text": [
      " 50%|█████     | 34/68 [00:43<00:36,  1.08s/it]"
     ]
    },
    {
     "name": "stdout",
     "output_type": "stream",
     "text": [
      "\u001b[7m\u001b[31;1m ERROR \u001b[0m\u001b[31;1m No entry in quote with quote_compound=1472!\u001b[0m\n",
      "\u001b[7m\u001b[31;1m ERROR \u001b[0m\u001b[31;1m Reactants not available for reaction=\u001b[1m\u001b[4mR59: C1468 + C4504 -> C1472 via Buchwald-Hartwig_amination\u001b[22m\u001b[24m!\u001b[0m\n",
      "\u001b[7m\u001b[31;1m ERROR \u001b[0m\u001b[31;1m No solutions for compound=C1472!\u001b[0m\n"
     ]
    },
    {
     "name": "stderr",
     "output_type": "stream",
     "text": [
      " 51%|█████▏    | 35/68 [00:44<00:33,  1.02s/it]"
     ]
    },
    {
     "name": "stdout",
     "output_type": "stream",
     "text": [
      "\u001b[7m\u001b[31;1m ERROR \u001b[0m\u001b[31;1m No entry in quote with quote_compound=1473!\u001b[0m\n",
      "\u001b[7m\u001b[31;1m ERROR \u001b[0m\u001b[31;1m No entry in quote with quote_compound=1473!\u001b[0m\n",
      "\u001b[7m\u001b[38;5;166m\u001b[1m Warning \u001b[0m\u001b[38;5;166m Multiple solutions for compound=C1473\u001b[0m\n"
     ]
    },
    {
     "name": "stderr",
     "output_type": "stream",
     "text": [
      " 53%|█████▎    | 36/68 [00:48<00:56,  1.76s/it]"
     ]
    },
    {
     "name": "stdout",
     "output_type": "stream",
     "text": [
      "\u001b[7m\u001b[31;1m ERROR \u001b[0m\u001b[31;1m No entry in quote with quote_compound=1476!\u001b[0m\n",
      "\u001b[7m\u001b[31;1m ERROR \u001b[0m\u001b[31;1m Reactants not available for reaction=\u001b[1m\u001b[4mR24: C4443 + C4461 -> C1476 via N-nucleophilic_aromatic_substitution\u001b[22m\u001b[24m!\u001b[0m\n",
      "\u001b[7m\u001b[31;1m ERROR \u001b[0m\u001b[31;1m No solutions for compound=C1476!\u001b[0m\n"
     ]
    },
    {
     "name": "stderr",
     "output_type": "stream",
     "text": [
      " 54%|█████▍    | 37/68 [00:49<00:48,  1.57s/it]"
     ]
    },
    {
     "name": "stdout",
     "output_type": "stream",
     "text": [
      "\u001b[7m\u001b[31;1m ERROR \u001b[0m\u001b[31;1m No entry in quote with quote_compound=1500!\u001b[0m\n",
      "\u001b[7m\u001b[31;1m ERROR \u001b[0m\u001b[31;1m Reactants not available for reaction=\u001b[1m\u001b[4mR10: C4437 + C4438 -> C1500 via Amidation\u001b[22m\u001b[24m!\u001b[0m\n",
      "\u001b[7m\u001b[31;1m ERROR \u001b[0m\u001b[31;1m No solutions for compound=C1500!\u001b[0m\n"
     ]
    },
    {
     "name": "stderr",
     "output_type": "stream",
     "text": [
      " 56%|█████▌    | 38/68 [00:50<00:42,  1.43s/it]"
     ]
    },
    {
     "name": "stdout",
     "output_type": "stream",
     "text": [
      "\u001b[7m\u001b[31;1m ERROR \u001b[0m\u001b[31;1m No entry in quote with quote_compound=1602!\u001b[0m\n",
      "\u001b[7m\u001b[31;1m ERROR \u001b[0m\u001b[31;1m Reactants not available for reaction=\u001b[1m\u001b[4mR56: C4424 + C4500 -> C1602 via Ester_amidation\u001b[22m\u001b[24m!\u001b[0m\n",
      "\u001b[7m\u001b[31;1m ERROR \u001b[0m\u001b[31;1m No solutions for compound=C1602!\u001b[0m\n"
     ]
    },
    {
     "name": "stderr",
     "output_type": "stream",
     "text": [
      " 57%|█████▋    | 39/68 [00:51<00:38,  1.31s/it]"
     ]
    },
    {
     "name": "stdout",
     "output_type": "stream",
     "text": [
      "\u001b[7m\u001b[31;1m ERROR \u001b[0m\u001b[31;1m No entry in quote with quote_compound=1917!\u001b[0m\n"
     ]
    },
    {
     "name": "stderr",
     "output_type": "stream",
     "text": [
      " 59%|█████▉    | 40/68 [00:53<00:40,  1.43s/it]"
     ]
    },
    {
     "name": "stdout",
     "output_type": "stream",
     "text": [
      "\u001b[7m\u001b[31;1m ERROR \u001b[0m\u001b[31;1m No entry in quote with quote_compound=1965!\u001b[0m\n",
      "\u001b[7m\u001b[31;1m ERROR \u001b[0m\u001b[31;1m Reactants not available for reaction=\u001b[1m\u001b[4mR4: C4429 + C4430 -> C1965 via Buchwald-Hartwig_amination\u001b[22m\u001b[24m!\u001b[0m\n",
      "\u001b[7m\u001b[31;1m ERROR \u001b[0m\u001b[31;1m No solutions for compound=C1965!\u001b[0m\n"
     ]
    },
    {
     "name": "stderr",
     "output_type": "stream",
     "text": [
      " 60%|██████    | 41/68 [00:54<00:34,  1.26s/it]"
     ]
    },
    {
     "name": "stdout",
     "output_type": "stream",
     "text": [
      "\u001b[7m\u001b[31;1m ERROR \u001b[0m\u001b[31;1m No entry in quote with quote_compound=2138!\u001b[0m\n",
      "\u001b[7m\u001b[31;1m ERROR \u001b[0m\u001b[31;1m Reactants not available for reaction=\u001b[1m\u001b[4mR52: C4494 + C4495 -> C2138 via Sp2-sp2_Suzuki_coupling\u001b[22m\u001b[24m!\u001b[0m\n",
      "\u001b[7m\u001b[31;1m ERROR \u001b[0m\u001b[31;1m No entry in quote with quote_compound=2138!\u001b[0m\n",
      "\u001b[7m\u001b[31;1m ERROR \u001b[0m\u001b[31;1m Reactants not available for reaction=\u001b[1m\u001b[4mR53: C4494 + C4496 -> C2138 via Sp2-sp2_Suzuki_coupling\u001b[22m\u001b[24m!\u001b[0m\n",
      "\u001b[7m\u001b[31;1m ERROR \u001b[0m\u001b[31;1m No solutions for compound=C2138!\u001b[0m\n"
     ]
    },
    {
     "name": "stderr",
     "output_type": "stream",
     "text": [
      " 62%|██████▏   | 42/68 [00:55<00:33,  1.30s/it]"
     ]
    },
    {
     "name": "stdout",
     "output_type": "stream",
     "text": [
      "\u001b[7m\u001b[31;1m ERROR \u001b[0m\u001b[31;1m No entry in quote with quote_compound=2186!\u001b[0m\n",
      "\u001b[7m\u001b[31;1m ERROR \u001b[0m\u001b[31;1m Reactants not available for reaction=\u001b[1m\u001b[4mR90: C4442 + C4540 -> C2186 via Ester_amidation\u001b[22m\u001b[24m!\u001b[0m\n",
      "\u001b[7m\u001b[31;1m ERROR \u001b[0m\u001b[31;1m No solutions for compound=C2186!\u001b[0m\n"
     ]
    },
    {
     "name": "stderr",
     "output_type": "stream",
     "text": [
      " 63%|██████▎   | 43/68 [00:56<00:29,  1.19s/it]"
     ]
    },
    {
     "name": "stdout",
     "output_type": "stream",
     "text": [
      "\u001b[7m\u001b[31;1m ERROR \u001b[0m\u001b[31;1m No entry in quote with quote_compound=2188!\u001b[0m\n",
      "\u001b[7m\u001b[31;1m ERROR \u001b[0m\u001b[31;1m Reactants not available for reaction=\u001b[1m\u001b[4mR25: C4443 + C4462 -> C2188 via Amidation\u001b[22m\u001b[24m!\u001b[0m\n",
      "\u001b[7m\u001b[31;1m ERROR \u001b[0m\u001b[31;1m No solutions for compound=C2188!\u001b[0m\n"
     ]
    },
    {
     "name": "stderr",
     "output_type": "stream",
     "text": [
      " 65%|██████▍   | 44/68 [00:57<00:25,  1.08s/it]"
     ]
    },
    {
     "name": "stdout",
     "output_type": "stream",
     "text": [
      "\u001b[7m\u001b[31;1m ERROR \u001b[0m\u001b[31;1m No entry in quote with quote_compound=2207!\u001b[0m\n",
      "\u001b[7m\u001b[31;1m ERROR \u001b[0m\u001b[31;1m Reactants not available for reaction=\u001b[1m\u001b[4mR91: C4541 + C4542 -> C2207 via Reductive_amination\u001b[22m\u001b[24m!\u001b[0m\n",
      "\u001b[7m\u001b[31;1m ERROR \u001b[0m\u001b[31;1m No solutions for compound=C2207!\u001b[0m\n"
     ]
    },
    {
     "name": "stderr",
     "output_type": "stream",
     "text": [
      " 66%|██████▌   | 45/68 [00:57<00:22,  1.04it/s]"
     ]
    },
    {
     "name": "stdout",
     "output_type": "stream",
     "text": [
      "\u001b[7m\u001b[31;1m ERROR \u001b[0m\u001b[31;1m No entry in quote with quote_compound=2300!\u001b[0m\n",
      "\u001b[7m\u001b[31;1m ERROR \u001b[0m\u001b[31;1m No entry in quote with quote_compound=4456!\u001b[0m\n",
      "\u001b[7m\u001b[31;1m ERROR \u001b[0m\u001b[31;1m Reactants not available for reaction=\u001b[1m\u001b[4mR21: C4454 + C4457 -> C4456 via Amidation\u001b[22m\u001b[24m!\u001b[0m\n",
      "\u001b[7m\u001b[31;1m ERROR \u001b[0m\u001b[31;1m 0 recipes with prices, can't choose cheapest!\u001b[0m\n",
      "\u001b[7m\u001b[31;1m ERROR \u001b[0m\u001b[31;1m No solutions for compound=C2300!\u001b[0m\n"
     ]
    },
    {
     "name": "stderr",
     "output_type": "stream",
     "text": [
      " 68%|██████▊   | 46/68 [00:59<00:25,  1.16s/it]"
     ]
    },
    {
     "name": "stdout",
     "output_type": "stream",
     "text": [
      "\u001b[7m\u001b[31;1m ERROR \u001b[0m\u001b[31;1m No entry in quote with quote_compound=2311!\u001b[0m\n",
      "\u001b[7m\u001b[31;1m ERROR \u001b[0m\u001b[31;1m Reactants not available for reaction=\u001b[1m\u001b[4mR84: C4532 + C4533 -> C2311 via Nucleophilic_substitution_with_amine\u001b[22m\u001b[24m!\u001b[0m\n",
      "\u001b[7m\u001b[31;1m ERROR \u001b[0m\u001b[31;1m No solutions for compound=C2311!\u001b[0m\n"
     ]
    },
    {
     "name": "stderr",
     "output_type": "stream",
     "text": [
      " 69%|██████▉   | 47/68 [01:00<00:21,  1.03s/it]"
     ]
    },
    {
     "name": "stdout",
     "output_type": "stream",
     "text": [
      "\u001b[7m\u001b[31;1m ERROR \u001b[0m\u001b[31;1m No entry in quote with quote_compound=2619!\u001b[0m\n",
      "\u001b[7m\u001b[31;1m ERROR \u001b[0m\u001b[31;1m Reactants not available for reaction=\u001b[1m\u001b[4mR13: C4441 + C4443 -> C2619 via Amidation\u001b[22m\u001b[24m!\u001b[0m\n",
      "\u001b[7m\u001b[31;1m ERROR \u001b[0m\u001b[31;1m No solutions for compound=C2619!\u001b[0m\n"
     ]
    },
    {
     "name": "stderr",
     "output_type": "stream",
     "text": [
      " 71%|███████   | 48/68 [01:00<00:18,  1.08it/s]"
     ]
    },
    {
     "name": "stdout",
     "output_type": "stream",
     "text": [
      "\u001b[7m\u001b[31;1m ERROR \u001b[0m\u001b[31;1m No entry in quote with quote_compound=2916!\u001b[0m\n"
     ]
    },
    {
     "name": "stderr",
     "output_type": "stream",
     "text": [
      " 72%|███████▏  | 49/68 [01:02<00:20,  1.05s/it]"
     ]
    },
    {
     "name": "stdout",
     "output_type": "stream",
     "text": [
      "\u001b[7m\u001b[31;1m ERROR \u001b[0m\u001b[31;1m No entry in quote with quote_compound=2919!\u001b[0m\n",
      "\u001b[7m\u001b[31;1m ERROR \u001b[0m\u001b[31;1m Reactants not available for reaction=\u001b[1m\u001b[4mR99: C4439 + C4549 -> C2919 via Amidation\u001b[22m\u001b[24m!\u001b[0m\n",
      "\u001b[7m\u001b[31;1m ERROR \u001b[0m\u001b[31;1m No solutions for compound=C2919!\u001b[0m\n"
     ]
    },
    {
     "name": "stderr",
     "output_type": "stream",
     "text": [
      " 74%|███████▎  | 50/68 [01:03<00:17,  1.03it/s]"
     ]
    },
    {
     "name": "stdout",
     "output_type": "stream",
     "text": [
      "\u001b[7m\u001b[31;1m ERROR \u001b[0m\u001b[31;1m No entry in quote with quote_compound=2924!\u001b[0m\n",
      "\u001b[7m\u001b[31;1m ERROR \u001b[0m\u001b[31;1m Reactants not available for reaction=\u001b[1m\u001b[4mR117: C3983 + C4571 -> C2924 via Ester_amidation\u001b[22m\u001b[24m!\u001b[0m\n",
      "\u001b[7m\u001b[31;1m ERROR \u001b[0m\u001b[31;1m No entry in quote with quote_compound=2924!\u001b[0m\n",
      "\u001b[7m\u001b[31;1m ERROR \u001b[0m\u001b[31;1m Reactants not available for reaction=\u001b[1m\u001b[4mR118: C3983 + C4528 -> C2924 via Ester_amidation\u001b[22m\u001b[24m!\u001b[0m\n",
      "\u001b[7m\u001b[31;1m ERROR \u001b[0m\u001b[31;1m No solutions for compound=C2924!\u001b[0m\n"
     ]
    },
    {
     "name": "stderr",
     "output_type": "stream",
     "text": [
      " 75%|███████▌  | 51/68 [01:04<00:17,  1.03s/it]"
     ]
    },
    {
     "name": "stdout",
     "output_type": "stream",
     "text": [
      "\u001b[7m\u001b[31;1m ERROR \u001b[0m\u001b[31;1m No entry in quote with quote_compound=2925!\u001b[0m\n"
     ]
    },
    {
     "name": "stderr",
     "output_type": "stream",
     "text": [
      " 76%|███████▋  | 52/68 [01:05<00:18,  1.15s/it]"
     ]
    },
    {
     "name": "stdout",
     "output_type": "stream",
     "text": [
      "\u001b[7m\u001b[31;1m ERROR \u001b[0m\u001b[31;1m No entry in quote with quote_compound=2944!\u001b[0m\n",
      "\u001b[7m\u001b[31;1m ERROR \u001b[0m\u001b[31;1m Reactants not available for reaction=\u001b[1m\u001b[4mR11: C4423 + C4439 -> C2944 via Amidation\u001b[22m\u001b[24m!\u001b[0m\n",
      "\u001b[7m\u001b[31;1m ERROR \u001b[0m\u001b[31;1m No solutions for compound=C2944!\u001b[0m\n"
     ]
    },
    {
     "name": "stderr",
     "output_type": "stream",
     "text": [
      " 78%|███████▊  | 53/68 [01:06<00:15,  1.03s/it]"
     ]
    },
    {
     "name": "stdout",
     "output_type": "stream",
     "text": [
      "\u001b[7m\u001b[31;1m ERROR \u001b[0m\u001b[31;1m No entry in quote with quote_compound=2947!\u001b[0m\n",
      "\u001b[7m\u001b[31;1m ERROR \u001b[0m\u001b[31;1m Reactants not available for reaction=\u001b[1m\u001b[4mR65: C4439 + C4513 -> C2947 via Amidation\u001b[22m\u001b[24m!\u001b[0m\n",
      "\u001b[7m\u001b[31;1m ERROR \u001b[0m\u001b[31;1m No solutions for compound=C2947!\u001b[0m\n"
     ]
    },
    {
     "name": "stderr",
     "output_type": "stream",
     "text": [
      " 79%|███████▉  | 54/68 [01:07<00:13,  1.06it/s]"
     ]
    },
    {
     "name": "stdout",
     "output_type": "stream",
     "text": [
      "\u001b[7m\u001b[31;1m ERROR \u001b[0m\u001b[31;1m No entry in quote with quote_compound=3204!\u001b[0m\n",
      "\u001b[7m\u001b[31;1m ERROR \u001b[0m\u001b[31;1m Reactants not available for reaction=\u001b[1m\u001b[4mR39: C4445 + C4481 -> C3204 via Sp2-sp2_Suzuki_coupling\u001b[22m\u001b[24m!\u001b[0m\n",
      "\u001b[7m\u001b[31;1m ERROR \u001b[0m\u001b[31;1m No entry in quote with quote_compound=3204!\u001b[0m\n",
      "\u001b[7m\u001b[31;1m ERROR \u001b[0m\u001b[31;1m Reactants not available for reaction=\u001b[1m\u001b[4mR40: C4447 + C4481 -> C3204 via Sp2-sp2_Suzuki_coupling\u001b[22m\u001b[24m!\u001b[0m\n",
      "\u001b[7m\u001b[31;1m ERROR \u001b[0m\u001b[31;1m No entry in quote with quote_compound=3204!\u001b[0m\n",
      "\u001b[7m\u001b[31;1m ERROR \u001b[0m\u001b[31;1m Reactants not available for reaction=\u001b[1m\u001b[4mR41: C4447 + C4482 -> C3204 via Sp2-sp2_Suzuki_coupling\u001b[22m\u001b[24m!\u001b[0m\n",
      "\u001b[7m\u001b[31;1m ERROR \u001b[0m\u001b[31;1m No entry in quote with quote_compound=3204!\u001b[0m\n",
      "\u001b[7m\u001b[31;1m ERROR \u001b[0m\u001b[31;1m Reactants not available for reaction=\u001b[1m\u001b[4mR42: C4445 + C4482 -> C3204 via Sp2-sp2_Suzuki_coupling\u001b[22m\u001b[24m!\u001b[0m\n",
      "\u001b[7m\u001b[31;1m ERROR \u001b[0m\u001b[31;1m No solutions for compound=C3204!\u001b[0m\n"
     ]
    },
    {
     "name": "stderr",
     "output_type": "stream",
     "text": [
      " 81%|████████  | 55/68 [01:09<00:16,  1.28s/it]"
     ]
    },
    {
     "name": "stdout",
     "output_type": "stream",
     "text": [
      "\u001b[7m\u001b[31;1m ERROR \u001b[0m\u001b[31;1m No entry in quote with quote_compound=3264!\u001b[0m\n",
      "\u001b[7m\u001b[31;1m ERROR \u001b[0m\u001b[31;1m No entry in quote with quote_compound=4567!\u001b[0m\n",
      "\u001b[7m\u001b[31;1m ERROR \u001b[0m\u001b[31;1m Reactants not available for reaction=\u001b[1m\u001b[4mR113: C4565 + C4566 -> C4567 via Nucleophilic_substitution_with_amine\u001b[22m\u001b[24m!\u001b[0m\n",
      "\u001b[7m\u001b[31;1m ERROR \u001b[0m\u001b[31;1m 0 recipes with prices, can't choose cheapest!\u001b[0m\n",
      "\u001b[7m\u001b[31;1m ERROR \u001b[0m\u001b[31;1m No entry in quote with quote_compound=3264!\u001b[0m\n",
      "\u001b[7m\u001b[31;1m ERROR \u001b[0m\u001b[31;1m No entry in quote with quote_compound=4567!\u001b[0m\n",
      "\u001b[7m\u001b[31;1m ERROR \u001b[0m\u001b[31;1m Reactants not available for reaction=\u001b[1m\u001b[4mR113: C4565 + C4566 -> C4567 via Nucleophilic_substitution_with_amine\u001b[22m\u001b[24m!\u001b[0m\n",
      "\u001b[7m\u001b[31;1m ERROR \u001b[0m\u001b[31;1m 0 recipes with prices, can't choose cheapest!\u001b[0m\n",
      "\u001b[7m\u001b[31;1m ERROR \u001b[0m\u001b[31;1m No solutions for compound=C3264!\u001b[0m\n"
     ]
    },
    {
     "name": "stderr",
     "output_type": "stream",
     "text": [
      " 82%|████████▏ | 56/68 [01:12<00:22,  1.86s/it]"
     ]
    },
    {
     "name": "stdout",
     "output_type": "stream",
     "text": [
      "\u001b[7m\u001b[31;1m ERROR \u001b[0m\u001b[31;1m No entry in quote with quote_compound=3269!\u001b[0m\n",
      "\u001b[7m\u001b[31;1m ERROR \u001b[0m\u001b[31;1m Reactants not available for reaction=\u001b[1m\u001b[4mR95: C4445 + C4547 -> C3269 via Sp2-sp2_Suzuki_coupling\u001b[22m\u001b[24m!\u001b[0m\n",
      "\u001b[7m\u001b[31;1m ERROR \u001b[0m\u001b[31;1m No entry in quote with quote_compound=3269!\u001b[0m\n",
      "\u001b[7m\u001b[31;1m ERROR \u001b[0m\u001b[31;1m Reactants not available for reaction=\u001b[1m\u001b[4mR96: C4445 + C4548 -> C3269 via Sp2-sp2_Suzuki_coupling\u001b[22m\u001b[24m!\u001b[0m\n",
      "\u001b[7m\u001b[31;1m ERROR \u001b[0m\u001b[31;1m No entry in quote with quote_compound=3269!\u001b[0m\n",
      "\u001b[7m\u001b[31;1m ERROR \u001b[0m\u001b[31;1m Reactants not available for reaction=\u001b[1m\u001b[4mR97: C4447 + C4548 -> C3269 via Sp2-sp2_Suzuki_coupling\u001b[22m\u001b[24m!\u001b[0m\n",
      "\u001b[7m\u001b[31;1m ERROR \u001b[0m\u001b[31;1m No entry in quote with quote_compound=3269!\u001b[0m\n",
      "\u001b[7m\u001b[31;1m ERROR \u001b[0m\u001b[31;1m Reactants not available for reaction=\u001b[1m\u001b[4mR98: C4447 + C4547 -> C3269 via Sp2-sp2_Suzuki_coupling\u001b[22m\u001b[24m!\u001b[0m\n",
      "\u001b[7m\u001b[31;1m ERROR \u001b[0m\u001b[31;1m No solutions for compound=C3269!\u001b[0m\n"
     ]
    },
    {
     "name": "stderr",
     "output_type": "stream",
     "text": [
      " 84%|████████▍ | 57/68 [01:14<00:20,  1.86s/it]"
     ]
    },
    {
     "name": "stdout",
     "output_type": "stream",
     "text": [
      "\u001b[7m\u001b[31;1m ERROR \u001b[0m\u001b[31;1m No entry in quote with quote_compound=3284!\u001b[0m\n",
      "\u001b[7m\u001b[31;1m ERROR \u001b[0m\u001b[31;1m No entry in quote with quote_compound=3284!\u001b[0m\n",
      "\u001b[7m\u001b[38;5;166m\u001b[1m Warning \u001b[0m\u001b[38;5;166m Multiple solutions for compound=C3284\u001b[0m\n"
     ]
    },
    {
     "name": "stderr",
     "output_type": "stream",
     "text": [
      " 85%|████████▌ | 58/68 [01:16<00:20,  2.06s/it]"
     ]
    },
    {
     "name": "stdout",
     "output_type": "stream",
     "text": [
      "\u001b[7m\u001b[31;1m ERROR \u001b[0m\u001b[31;1m No entry in quote with quote_compound=3344!\u001b[0m\n",
      "\u001b[7m\u001b[31;1m ERROR \u001b[0m\u001b[31;1m Reactants not available for reaction=\u001b[1m\u001b[4mR28: C4443 + C4465 -> C3344 via Amidation\u001b[22m\u001b[24m!\u001b[0m\n",
      "\u001b[7m\u001b[31;1m ERROR \u001b[0m\u001b[31;1m No solutions for compound=C3344!\u001b[0m\n"
     ]
    },
    {
     "name": "stderr",
     "output_type": "stream",
     "text": [
      " 87%|████████▋ | 59/68 [01:17<00:14,  1.64s/it]"
     ]
    },
    {
     "name": "stdout",
     "output_type": "stream",
     "text": [
      "\u001b[7m\u001b[31;1m ERROR \u001b[0m\u001b[31;1m No entry in quote with quote_compound=3611!\u001b[0m\n",
      "\u001b[7m\u001b[31;1m ERROR \u001b[0m\u001b[31;1m Reactants not available for reaction=\u001b[1m\u001b[4mR55: C4498 + C4499 -> C3611 via N-nucleophilic_aromatic_substitution\u001b[22m\u001b[24m!\u001b[0m\n",
      "\u001b[7m\u001b[31;1m ERROR \u001b[0m\u001b[31;1m No solutions for compound=C3611!\u001b[0m\n"
     ]
    },
    {
     "name": "stderr",
     "output_type": "stream",
     "text": [
      " 88%|████████▊ | 60/68 [01:18<00:10,  1.36s/it]"
     ]
    },
    {
     "name": "stdout",
     "output_type": "stream",
     "text": [
      "\u001b[7m\u001b[31;1m ERROR \u001b[0m\u001b[31;1m No entry in quote with quote_compound=3624!\u001b[0m\n"
     ]
    },
    {
     "name": "stderr",
     "output_type": "stream",
     "text": [
      " 90%|████████▉ | 61/68 [01:19<00:09,  1.35s/it]"
     ]
    },
    {
     "name": "stdout",
     "output_type": "stream",
     "text": [
      "\u001b[7m\u001b[31;1m ERROR \u001b[0m\u001b[31;1m No entry in quote with quote_compound=3625!\u001b[0m\n"
     ]
    },
    {
     "name": "stderr",
     "output_type": "stream",
     "text": [
      " 91%|█████████ | 62/68 [01:20<00:08,  1.34s/it]"
     ]
    },
    {
     "name": "stdout",
     "output_type": "stream",
     "text": [
      "\u001b[7m\u001b[31;1m ERROR \u001b[0m\u001b[31;1m No entry in quote with quote_compound=3627!\u001b[0m\n",
      "\u001b[7m\u001b[31;1m ERROR \u001b[0m\u001b[31;1m Reactants not available for reaction=\u001b[1m\u001b[4mR100: C4452 + C4550 -> C3627 via Ester_amidation\u001b[22m\u001b[24m!\u001b[0m\n",
      "\u001b[7m\u001b[31;1m ERROR \u001b[0m\u001b[31;1m No solutions for compound=C3627!\u001b[0m\n"
     ]
    },
    {
     "name": "stderr",
     "output_type": "stream",
     "text": [
      " 93%|█████████▎| 63/68 [01:21<00:05,  1.16s/it]"
     ]
    },
    {
     "name": "stdout",
     "output_type": "stream",
     "text": [
      "\u001b[7m\u001b[31;1m ERROR \u001b[0m\u001b[31;1m No entry in quote with quote_compound=3628!\u001b[0m\n"
     ]
    },
    {
     "name": "stderr",
     "output_type": "stream",
     "text": [
      " 94%|█████████▍| 64/68 [01:22<00:04,  1.23s/it]"
     ]
    },
    {
     "name": "stdout",
     "output_type": "stream",
     "text": [
      "\u001b[7m\u001b[31;1m ERROR \u001b[0m\u001b[31;1m No entry in quote with quote_compound=3632!\u001b[0m\n",
      "\u001b[7m\u001b[31;1m ERROR \u001b[0m\u001b[31;1m Reactants not available for reaction=\u001b[1m\u001b[4mR19: C4452 + C4453 -> C3632 via Amidation\u001b[22m\u001b[24m!\u001b[0m\n",
      "\u001b[7m\u001b[31;1m ERROR \u001b[0m\u001b[31;1m No solutions for compound=C3632!\u001b[0m\n"
     ]
    },
    {
     "name": "stderr",
     "output_type": "stream",
     "text": [
      " 96%|█████████▌| 65/68 [01:23<00:03,  1.07s/it]"
     ]
    },
    {
     "name": "stdout",
     "output_type": "stream",
     "text": [
      "\u001b[7m\u001b[31;1m ERROR \u001b[0m\u001b[31;1m No entry in quote with quote_compound=3653!\u001b[0m\n",
      "\u001b[7m\u001b[31;1m ERROR \u001b[0m\u001b[31;1m Reactants not available for reaction=\u001b[1m\u001b[4mR44: C4452 + C4484 -> C3653 via N-nucleophilic_aromatic_substitution\u001b[22m\u001b[24m!\u001b[0m\n",
      "\u001b[7m\u001b[31;1m ERROR \u001b[0m\u001b[31;1m No solutions for compound=C3653!\u001b[0m\n"
     ]
    },
    {
     "name": "stderr",
     "output_type": "stream",
     "text": [
      " 97%|█████████▋| 66/68 [01:24<00:01,  1.03it/s]"
     ]
    },
    {
     "name": "stdout",
     "output_type": "stream",
     "text": [
      "\u001b[7m\u001b[31;1m ERROR \u001b[0m\u001b[31;1m No entry in quote with quote_compound=3668!\u001b[0m\n",
      "\u001b[7m\u001b[31;1m ERROR \u001b[0m\u001b[31;1m Reactants not available for reaction=\u001b[1m\u001b[4mR66: C3755 + C4514 -> C3668 via Ester_amidation\u001b[22m\u001b[24m!\u001b[0m\n",
      "\u001b[7m\u001b[31;1m ERROR \u001b[0m\u001b[31;1m No entry in quote with quote_compound=3668!\u001b[0m\n",
      "\u001b[7m\u001b[31;1m ERROR \u001b[0m\u001b[31;1m Reactants not available for reaction=\u001b[1m\u001b[4mR67: C3755 + C4515 -> C3668 via Ester_amidation\u001b[22m\u001b[24m!\u001b[0m\n",
      "\u001b[7m\u001b[31;1m ERROR \u001b[0m\u001b[31;1m No entry in quote with quote_compound=3668!\u001b[0m\n",
      "\u001b[7m\u001b[31;1m ERROR \u001b[0m\u001b[31;1m Reactants not available for reaction=\u001b[1m\u001b[4mR68: C3755 + C4516 -> C3668 via Ester_amidation\u001b[22m\u001b[24m!\u001b[0m\n",
      "\u001b[7m\u001b[31;1m ERROR \u001b[0m\u001b[31;1m No entry in quote with quote_compound=3668!\u001b[0m\n",
      "\u001b[7m\u001b[31;1m ERROR \u001b[0m\u001b[31;1m Reactants not available for reaction=\u001b[1m\u001b[4mR69: C3755 + C4517 -> C3668 via Ester_amidation\u001b[22m\u001b[24m!\u001b[0m\n",
      "\u001b[7m\u001b[31;1m ERROR \u001b[0m\u001b[31;1m No entry in quote with quote_compound=3668!\u001b[0m\n",
      "\u001b[7m\u001b[31;1m ERROR \u001b[0m\u001b[31;1m Reactants not available for reaction=\u001b[1m\u001b[4mR70: C3755 + C4518 -> C3668 via Ester_amidation\u001b[22m\u001b[24m!\u001b[0m\n",
      "\u001b[7m\u001b[31;1m ERROR \u001b[0m\u001b[31;1m No entry in quote with quote_compound=3668!\u001b[0m\n",
      "\u001b[7m\u001b[31;1m ERROR \u001b[0m\u001b[31;1m Reactants not available for reaction=\u001b[1m\u001b[4mR71: C3755 + C4519 -> C3668 via Ester_amidation\u001b[22m\u001b[24m!\u001b[0m\n",
      "\u001b[7m\u001b[31;1m ERROR \u001b[0m\u001b[31;1m No entry in quote with quote_compound=3668!\u001b[0m\n",
      "\u001b[7m\u001b[31;1m ERROR \u001b[0m\u001b[31;1m Reactants not available for reaction=\u001b[1m\u001b[4mR72: C3755 + C4520 -> C3668 via Ester_amidation\u001b[22m\u001b[24m!\u001b[0m\n",
      "\u001b[7m\u001b[31;1m ERROR \u001b[0m\u001b[31;1m No entry in quote with quote_compound=3668!\u001b[0m\n",
      "\u001b[7m\u001b[31;1m ERROR \u001b[0m\u001b[31;1m Reactants not available for reaction=\u001b[1m\u001b[4mR73: C3755 + C4521 -> C3668 via Ester_amidation\u001b[22m\u001b[24m!\u001b[0m\n",
      "\u001b[7m\u001b[31;1m ERROR \u001b[0m\u001b[31;1m No entry in quote with quote_compound=3668!\u001b[0m\n",
      "\u001b[7m\u001b[31;1m ERROR \u001b[0m\u001b[31;1m Reactants not available for reaction=\u001b[1m\u001b[4mR74: C3755 + C4522 -> C3668 via Ester_amidation\u001b[22m\u001b[24m!\u001b[0m\n",
      "\u001b[7m\u001b[31;1m ERROR \u001b[0m\u001b[31;1m No entry in quote with quote_compound=3668!\u001b[0m\n",
      "\u001b[7m\u001b[31;1m ERROR \u001b[0m\u001b[31;1m Reactants not available for reaction=\u001b[1m\u001b[4mR75: C3755 + C4523 -> C3668 via Ester_amidation\u001b[22m\u001b[24m!\u001b[0m\n",
      "\u001b[7m\u001b[31;1m ERROR \u001b[0m\u001b[31;1m No entry in quote with quote_compound=3668!\u001b[0m\n",
      "\u001b[7m\u001b[31;1m ERROR \u001b[0m\u001b[31;1m Reactants not available for reaction=\u001b[1m\u001b[4mR76: C3755 + C4524 -> C3668 via Ester_amidation\u001b[22m\u001b[24m!\u001b[0m\n",
      "\u001b[7m\u001b[31;1m ERROR \u001b[0m\u001b[31;1m No entry in quote with quote_compound=3668!\u001b[0m\n",
      "\u001b[7m\u001b[31;1m ERROR \u001b[0m\u001b[31;1m Reactants not available for reaction=\u001b[1m\u001b[4mR77: C3755 + C4525 -> C3668 via Ester_amidation\u001b[22m\u001b[24m!\u001b[0m\n",
      "\u001b[7m\u001b[31;1m ERROR \u001b[0m\u001b[31;1m No entry in quote with quote_compound=3668!\u001b[0m\n",
      "\u001b[7m\u001b[31;1m ERROR \u001b[0m\u001b[31;1m Reactants not available for reaction=\u001b[1m\u001b[4mR78: C3755 + C4526 -> C3668 via Ester_amidation\u001b[22m\u001b[24m!\u001b[0m\n",
      "\u001b[7m\u001b[31;1m ERROR \u001b[0m\u001b[31;1m No entry in quote with quote_compound=3668!\u001b[0m\n",
      "\u001b[7m\u001b[31;1m ERROR \u001b[0m\u001b[31;1m Reactants not available for reaction=\u001b[1m\u001b[4mR79: C3755 + C4527 -> C3668 via Ester_amidation\u001b[22m\u001b[24m!\u001b[0m\n",
      "\u001b[7m\u001b[31;1m ERROR \u001b[0m\u001b[31;1m No entry in quote with quote_compound=3668!\u001b[0m\n",
      "\u001b[7m\u001b[31;1m ERROR \u001b[0m\u001b[31;1m Reactants not available for reaction=\u001b[1m\u001b[4mR80: C3755 + C4528 -> C3668 via Ester_amidation\u001b[22m\u001b[24m!\u001b[0m\n",
      "\u001b[7m\u001b[31;1m ERROR \u001b[0m\u001b[31;1m No entry in quote with quote_compound=3668!\u001b[0m\n",
      "\u001b[7m\u001b[31;1m ERROR \u001b[0m\u001b[31;1m Reactants not available for reaction=\u001b[1m\u001b[4mR81: C3755 + C4529 -> C3668 via Ester_amidation\u001b[22m\u001b[24m!\u001b[0m\n",
      "\u001b[7m\u001b[31;1m ERROR \u001b[0m\u001b[31;1m No solutions for compound=C3668!\u001b[0m\n"
     ]
    },
    {
     "name": "stderr",
     "output_type": "stream",
     "text": [
      " 99%|█████████▊| 67/68 [01:31<00:02,  2.73s/it]"
     ]
    },
    {
     "name": "stdout",
     "output_type": "stream",
     "text": [
      "\u001b[7m\u001b[31;1m ERROR \u001b[0m\u001b[31;1m No entry in quote with quote_compound=3830!\u001b[0m\n",
      "\u001b[7m\u001b[31;1m ERROR \u001b[0m\u001b[31;1m Reactants not available for reaction=\u001b[1m\u001b[4mR107: C4449 + C4561 -> C3830 via Amidation\u001b[22m\u001b[24m!\u001b[0m\n",
      "\u001b[7m\u001b[31;1m ERROR \u001b[0m\u001b[31;1m No solutions for compound=C3830!\u001b[0m\n"
     ]
    },
    {
     "name": "stderr",
     "output_type": "stream",
     "text": [
      "100%|██████████| 68/68 [01:31<00:00,  1.35s/it]"
     ]
    },
    {
     "name": "stdout",
     "output_type": "stream",
     "text": [
      "Solving recipe combinations...\n",
      "Combining recipes...\n"
     ]
    },
    {
     "name": "stderr",
     "output_type": "stream",
     "text": [
      "\n",
      "100%|██████████| 1/1 [00:00<00:00, 14.68it/s]"
     ]
    },
    {
     "name": "stdout",
     "output_type": "stream",
     "text": [
      "Picking cheapest...\n",
      "CPU times: user 5.28 s, sys: 6.28 s, total: 11.6 s\n",
      "Wall time: 1min 32s\n"
     ]
    },
    {
     "name": "stderr",
     "output_type": "stream",
     "text": [
      "\n"
     ]
    }
   ],
   "source": [
    "%%time\n",
    "recipe = hippo.Recipe.from_compounds(bases, pick_cheapest_inner_routes=True, supplier='Enamine', quoted_only=True, debug=False)"
   ]
  },
  {
   "cell_type": "code",
   "execution_count": 17,
   "id": "dcb8abe9-b9da-47bf-99c2-2cad8ba65743",
   "metadata": {},
   "outputs": [
    {
     "data": {
      "image/png": "[encoded data removed]",
      "text/plain": [
       "<IPython.core.display.Image object>"
      ]
     },
     "metadata": {},
     "output_type": "display_data"
    }
   ],
   "source": [
    "recipe.products.draw()"
   ]
  },
  {
   "cell_type": "code",
   "execution_count": 18,
   "id": "18c4c919-af6a-4123-84e2-52b6e0764e57",
   "metadata": {},
   "outputs": [
    {
     "data": {
      "text/plain": [
       "\u001b[1m\u001b[4mC100 \"LKSJOAHCUYUSRB-UHFFFAOYSA-N\"\u001b[22m\u001b[24m"
      ]
     },
     "execution_count": 18,
     "metadata": {},
     "output_type": "execute_result"
    }
   ],
   "source": [
    "animal.compounds(smiles='O=c1ccccn1Cc1noc(-c2cnc3[nH]ccc3c2)n1')"
   ]
  },
  {
   "cell_type": "code",
   "execution_count": 21,
   "id": "09523367-b7ed-4ec9-be59-4067cb85e1e8",
   "metadata": {},
   "outputs": [
    {
     "name": "stdout",
     "output_type": "stream",
     "text": [
      "\u001b[36m#compounds\u001b[0m = 1\u001b[0m\n",
      "Solving individual compound recipes...\n",
      "\u001b[7m\u001b[31;1m ERROR \u001b[0m\u001b[31;1m No entry in quote with quote_compound=100!\u001b[0m\n",
      "\u001b[7m\u001b[31;1m ERROR \u001b[0m\u001b[31;1m No entry in quote with quote_compound=4464!\u001b[0m\n",
      "\u001b[7m\u001b[31;1m ERROR \u001b[0m\u001b[31;1m No entry in quote with quote_compound=4463!\u001b[0m\n",
      "\u001b[7m\u001b[31;1m ERROR \u001b[0m\u001b[31;1m No entry in quote with quote_compound=4464!\u001b[0m\n",
      "\u001b[7m\u001b[31;1m ERROR \u001b[0m\u001b[31;1m No entry in quote with quote_compound=100!\u001b[0m\n",
      "\u001b[7m\u001b[31;1m ERROR \u001b[0m\u001b[31;1m No entry in quote with quote_compound=4464!\u001b[0m\n",
      "\u001b[7m\u001b[31;1m ERROR \u001b[0m\u001b[31;1m No entry in quote with quote_compound=4463!\u001b[0m\n",
      "\u001b[7m\u001b[31;1m ERROR \u001b[0m\u001b[31;1m No entry in quote with quote_compound=4464!\u001b[0m\n",
      "\u001b[7m\u001b[31;1m ERROR \u001b[0m\u001b[31;1m No entry in quote with quote_compound=4544!\u001b[0m\n",
      "\u001b[7m\u001b[38;5;166m\u001b[1m Warning \u001b[0m\u001b[38;5;166m Multiple solutions for compound=C100\u001b[0m\n",
      "Solving recipe combinations...\n",
      "Combining recipes...\n"
     ]
    }
   ],
   "source": [
    "recipes = hippo.Recipe.from_compounds(animal.compounds[100,], pick_cheapest=False)"
   ]
  },
  {
   "cell_type": "code",
   "execution_count": 34,
   "id": "bd49e465-95cd-4c16-a290-edb1ee9b2643",
   "metadata": {},
   "outputs": [
    {
     "data": {
      "text/plain": [
       "Recipe(\u001b[1m\u001b[4m{I x 27}\u001b[22m\u001b[24m --> \u001b[1m\u001b[4m{I x 0}\u001b[22m\u001b[24m --> \u001b[1m\u001b[4m{I x 15}\u001b[22m\u001b[24m via \u001b[1m\u001b[4m{R x 15}\u001b[22m\u001b[24m)"
      ]
     },
     "execution_count": 34,
     "metadata": {},
     "output_type": "execute_result"
    }
   ],
   "source": [
    "recipe"
   ]
  },
  {
   "cell_type": "code",
   "execution_count": 37,
   "id": "ddfae1f1-e69f-4e14-9179-efdd45a5faba",
   "metadata": {},
   "outputs": [
    {
     "name": "stdout",
     "output_type": "stream",
     "text": [
      "\u001b[7m\u001b[1m\u001b[38;5;11m DISK \u001b[0m Writing \u001b[38;5;11mCHIKV_15scaffolds_recipe.json\u001b[0m\n"
     ]
    }
   ],
   "source": [
    "recipe.write_json('CHIKV_15scaffolds_recipe.json')"
   ]
  },
  {
   "cell_type": "code",
   "execution_count": 39,
   "id": "28253304-1d2e-4157-90cd-90e7e72a4fda",
   "metadata": {},
   "outputs": [
    {
     "data": {
      "text/plain": [
       "\u001b[1m\u001b[4m{C x 76223}\u001b[22m\u001b[24m"
      ]
     },
     "execution_count": 39,
     "metadata": {},
     "output_type": "execute_result"
    }
   ],
   "source": [
    "animal.compounds(tag='Syndirella base').elabs"
   ]
  },
  {
   "cell_type": "code",
   "execution_count": 40,
   "id": "58a290fb-181a-498e-8612-90378798c2a5",
   "metadata": {},
   "outputs": [
    {
     "data": {
      "text/plain": [
       "\u001b[1m\u001b[4mall reactants: {C x 9931}\u001b[22m\u001b[24m"
      ]
     },
     "execution_count": 40,
     "metadata": {},
     "output_type": "execute_result"
    }
   ],
   "source": [
    "animal.reactants"
   ]
  },
  {
   "cell_type": "code",
   "execution_count": 43,
   "id": "595c3b86-15e9-4d6c-b441-a4fa3b0d34b5",
   "metadata": {},
   "outputs": [
    {
     "data": {
      "text/plain": [
       "(5261,)"
      ]
     },
     "execution_count": 43,
     "metadata": {},
     "output_type": "execute_result"
    }
   ],
   "source": [
    "animal.db.execute('SELECT COUNT(DISTINCT quote_compound) FROM quote').fetchone()"
   ]
  },
  {
   "cell_type": "code",
   "execution_count": 46,
   "id": "247f69c5-8bcf-4721-8e8f-7686eec1ff26",
   "metadata": {},
   "outputs": [
    {
     "data": {
      "text/plain": [
       "\u001b[1m\u001b[4m{C x 27429}\u001b[22m\u001b[24m"
      ]
     },
     "execution_count": 46,
     "metadata": {},
     "output_type": "execute_result"
    }
   ],
   "source": [
    "recipe.products.compounds.elabs"
   ]
  },
  {
   "cell_type": "code",
   "execution_count": 53,
   "id": "d88628f8-65e5-4645-baeb-c9a2d81fbb65",
   "metadata": {},
   "outputs": [],
   "source": [
    "poses15 = recipe.products.compounds.poses.get_by_tag('deprecated', inverse=True)"
   ]
  },
  {
   "cell_type": "code",
   "execution_count": 54,
   "id": "4ad78ad0-fe7d-4e78-a8ce-c4ad02107977",
   "metadata": {},
   "outputs": [
    {
     "name": "stdout",
     "output_type": "stream",
     "text": [
      "\u001b[7m\u001b[1m\u001b[38;5;11m DISK \u001b[0m Reading \u001b[38;5;11m/opt/xchem-fragalysis-2/kfieseler/CHIKV-Mac/XQWKZXHQRAAZAF-UHFFFAOYSA-N/output/XQWKZXHQRAAZAF-UHFFFAOYSA-N-UwZThX-122-A/XQWKZXHQRAAZAF-UHFFFAOYSA-N-UwZThX-122-A.minimised.mol\u001b[0m\n",
      "\u001b[7m\u001b[1m\u001b[38;5;11m DISK \u001b[0m Writing \u001b[38;5;11msyndirella_scaffolds_44from15.sdf\u001b[0m\n"
     ]
    },
    {
     "name": "stderr",
     "output_type": "stream",
     "text": [
      "[09:27:52] Molecule does not have explicit Hs. Consider calling AddHs()\n"
     ]
    },
    {
     "data": {
      "text/html": [
       "<div>\n",
       "<style scoped>\n",
       "    .dataframe tbody tr th:only-of-type {\n",
       "        vertical-align: middle;\n",
       "    }\n",
       "\n",
       "    .dataframe tbody tr th {\n",
       "        vertical-align: top;\n",
       "    }\n",
       "\n",
       "    .dataframe thead th {\n",
       "        text-align: right;\n",
       "    }\n",
       "</style>\n",
       "<table border=\"1\" class=\"dataframe\">\n",
       "  <thead>\n",
       "    <tr style=\"text-align: right;\">\n",
       "      <th></th>\n",
       "      <th>HIPPO ID</th>\n",
       "      <th>inchikey</th>\n",
       "      <th>alias</th>\n",
       "      <th>_Name</th>\n",
       "      <th>original SMILES</th>\n",
       "      <th>original ID</th>\n",
       "      <th>ROMol</th>\n",
       "      <th>tags</th>\n",
       "      <th>ref_mols</th>\n",
       "      <th>ref_pdb</th>\n",
       "      <th>generation_date</th>\n",
       "      <th>submitter_name</th>\n",
       "      <th>method</th>\n",
       "      <th>submitter_email</th>\n",
       "      <th>ref_url</th>\n",
       "    </tr>\n",
       "  </thead>\n",
       "  <tbody>\n",
       "    <tr>\n",
       "      <th>0</th>\n",
       "      <td>6236</td>\n",
       "      <td>QVSYFXSEJNFZKD-UHFFFAOYSA-N</td>\n",
       "      <td>None</td>\n",
       "      <td>QVSYFXSEJNFZKD-UHFFFAOYSA-N</td>\n",
       "      <td>COCC(=O)Nc1cccc(C(=O)NCc2cccs2)c1</td>\n",
       "      <td>QVSYFXSEJNFZKD-UHFFFAOYSA-N</td>\n",
       "      <td>&lt;rdkit.Chem.rdchem.Mol object at 0x7f10152e3560&gt;</td>\n",
       "      <td>(Syndirella base)</td>\n",
       "      <td>cx0692a,c0692a,c0892a</td>\n",
       "      <td>c0270a</td>\n",
       "      <td>None</td>\n",
       "      <td>None</td>\n",
       "      <td>None</td>\n",
       "      <td>None</td>\n",
       "      <td>None</td>\n",
       "    </tr>\n",
       "    <tr>\n",
       "      <th>1</th>\n",
       "      <td>6237</td>\n",
       "      <td>JXRCCCJCUJURBQ-UHFFFAOYSA-N</td>\n",
       "      <td>None</td>\n",
       "      <td>JXRCCCJCUJURBQ-UHFFFAOYSA-N</td>\n",
       "      <td>Cc1cccc(O)c1Nc1ccc(O)cc1</td>\n",
       "      <td>JXRCCCJCUJURBQ-UHFFFAOYSA-N</td>\n",
       "      <td>&lt;rdkit.Chem.rdchem.Mol object at 0x7f100ed8c090&gt;</td>\n",
       "      <td>(Syndirella base)</td>\n",
       "      <td>cx0935a,c0935a,c1116c,c1116a</td>\n",
       "      <td>c0270a</td>\n",
       "      <td>None</td>\n",
       "      <td>None</td>\n",
       "      <td>None</td>\n",
       "      <td>None</td>\n",
       "      <td>None</td>\n",
       "    </tr>\n",
       "    <tr>\n",
       "      <th>2</th>\n",
       "      <td>6243</td>\n",
       "      <td>UGYMLSSIEIESGU-MRVPVSSYSA-N</td>\n",
       "      <td>None</td>\n",
       "      <td>UGYMLSSIEIESGU-MRVPVSSYSA-N</td>\n",
       "      <td>O=c1ccncn1C[C@H]1CCS(=O)(=O)C1</td>\n",
       "      <td>UGYMLSSIEIESGU-MRVPVSSYSA-N</td>\n",
       "      <td>&lt;rdkit.Chem.rdchem.Mol object at 0x7f10152e06d0&gt;</td>\n",
       "      <td>(Syndirella base)</td>\n",
       "      <td>cx0314a,cx1182a,c0314a,c1182a</td>\n",
       "      <td>c0300a</td>\n",
       "      <td>None</td>\n",
       "      <td>None</td>\n",
       "      <td>None</td>\n",
       "      <td>None</td>\n",
       "      <td>None</td>\n",
       "    </tr>\n",
       "    <tr>\n",
       "      <th>3</th>\n",
       "      <td>6244</td>\n",
       "      <td>UGYMLSSIEIESGU-MRVPVSSYSA-N</td>\n",
       "      <td>None</td>\n",
       "      <td>UGYMLSSIEIESGU-MRVPVSSYSA-N</td>\n",
       "      <td>O=c1ccncn1C[C@H]1CCS(=O)(=O)C1</td>\n",
       "      <td>UGYMLSSIEIESGU-MRVPVSSYSA-N</td>\n",
       "      <td>&lt;rdkit.Chem.rdchem.Mol object at 0x7f100ed55b70&gt;</td>\n",
       "      <td>(Syndirella base)</td>\n",
       "      <td>cx0314a,cx1182a,c0314a,c1182a</td>\n",
       "      <td>c0300a</td>\n",
       "      <td>None</td>\n",
       "      <td>None</td>\n",
       "      <td>None</td>\n",
       "      <td>None</td>\n",
       "      <td>None</td>\n",
       "    </tr>\n",
       "    <tr>\n",
       "      <th>4</th>\n",
       "      <td>6251</td>\n",
       "      <td>QQERROZMPKKQER-UHFFFAOYSA-N</td>\n",
       "      <td>None</td>\n",
       "      <td>QQERROZMPKKQER-UHFFFAOYSA-N</td>\n",
       "      <td>CCc1nc(Cn2ccc(Br)cc2=O)no1</td>\n",
       "      <td>QQERROZMPKKQER-UHFFFAOYSA-N</td>\n",
       "      <td>&lt;rdkit.Chem.rdchem.Mol object at 0x7f100ed56e30&gt;</td>\n",
       "      <td>(Syndirella base)</td>\n",
       "      <td>c0316a,c1091a</td>\n",
       "      <td>c0300a</td>\n",
       "      <td>None</td>\n",
       "      <td>None</td>\n",
       "      <td>None</td>\n",
       "      <td>None</td>\n",
       "      <td>None</td>\n",
       "    </tr>\n",
       "    <tr>\n",
       "      <th>5</th>\n",
       "      <td>6255</td>\n",
       "      <td>XMHJIXAUMMKGLT-UHFFFAOYSA-N</td>\n",
       "      <td>None</td>\n",
       "      <td>XMHJIXAUMMKGLT-UHFFFAOYSA-N</td>\n",
       "      <td>COCC(=O)Nc1ccc(O)cc1N</td>\n",
       "      <td>XMHJIXAUMMKGLT-UHFFFAOYSA-N</td>\n",
       "      <td>&lt;rdkit.Chem.rdchem.Mol object at 0x7f100ed556c0&gt;</td>\n",
       "      <td>(Syndirella base)</td>\n",
       "      <td>cx0935a,c0935a,c1353a</td>\n",
       "      <td>c0270a</td>\n",
       "      <td>None</td>\n",
       "      <td>None</td>\n",
       "      <td>None</td>\n",
       "      <td>None</td>\n",
       "      <td>None</td>\n",
       "    </tr>\n",
       "    <tr>\n",
       "      <th>6</th>\n",
       "      <td>6257</td>\n",
       "      <td>RGWZNWCCBDMABV-UHFFFAOYSA-N</td>\n",
       "      <td>None</td>\n",
       "      <td>RGWZNWCCBDMABV-UHFFFAOYSA-N</td>\n",
       "      <td>Nc1cc(-c2cc[nH]n2)cc2c1OCO2</td>\n",
       "      <td>RGWZNWCCBDMABV-UHFFFAOYSA-N</td>\n",
       "      <td>&lt;rdkit.Chem.rdchem.Mol object at 0x7f100ed545e0&gt;</td>\n",
       "      <td>(Syndirella base)</td>\n",
       "      <td>cx1338a,cx0864a,c0864a,c1338a</td>\n",
       "      <td>c0300a</td>\n",
       "      <td>None</td>\n",
       "      <td>None</td>\n",
       "      <td>None</td>\n",
       "      <td>None</td>\n",
       "      <td>None</td>\n",
       "    </tr>\n",
       "    <tr>\n",
       "      <th>7</th>\n",
       "      <td>6259</td>\n",
       "      <td>RGWZNWCCBDMABV-UHFFFAOYSA-N</td>\n",
       "      <td>None</td>\n",
       "      <td>RGWZNWCCBDMABV-UHFFFAOYSA-N</td>\n",
       "      <td>Nc1cc(-c2cc[nH]n2)cc2c1OCO2</td>\n",
       "      <td>RGWZNWCCBDMABV-UHFFFAOYSA-N</td>\n",
       "      <td>&lt;rdkit.Chem.rdchem.Mol object at 0x7f100ed996c0&gt;</td>\n",
       "      <td>(Syndirella base)</td>\n",
       "      <td>cx0864a,c0864a,c1203a</td>\n",
       "      <td>c0300a</td>\n",
       "      <td>None</td>\n",
       "      <td>None</td>\n",
       "      <td>None</td>\n",
       "      <td>None</td>\n",
       "      <td>None</td>\n",
       "    </tr>\n",
       "    <tr>\n",
       "      <th>8</th>\n",
       "      <td>6260</td>\n",
       "      <td>MIMRXPBJLOWRMN-UHFFFAOYSA-N</td>\n",
       "      <td>None</td>\n",
       "      <td>MIMRXPBJLOWRMN-UHFFFAOYSA-N</td>\n",
       "      <td>Oc1ccc(Nc2ccncc2O)cc1</td>\n",
       "      <td>MIMRXPBJLOWRMN-UHFFFAOYSA-N</td>\n",
       "      <td>&lt;rdkit.Chem.rdchem.Mol object at 0x7f100ed7d800&gt;</td>\n",
       "      <td>(Syndirella base)</td>\n",
       "      <td>cx0935a,c0935a,c1132a,c1132f</td>\n",
       "      <td>c0270a</td>\n",
       "      <td>None</td>\n",
       "      <td>None</td>\n",
       "      <td>None</td>\n",
       "      <td>None</td>\n",
       "      <td>None</td>\n",
       "    </tr>\n",
       "    <tr>\n",
       "      <th>9</th>\n",
       "      <td>6276</td>\n",
       "      <td>MMXSHBZOILNLPJ-UHFFFAOYSA-N</td>\n",
       "      <td>None</td>\n",
       "      <td>MMXSHBZOILNLPJ-UHFFFAOYSA-N</td>\n",
       "      <td>CC(C)(C)c1cnc2ccccc2n1</td>\n",
       "      <td>MMXSHBZOILNLPJ-UHFFFAOYSA-N</td>\n",
       "      <td>&lt;rdkit.Chem.rdchem.Mol object at 0x7f100ed7cae0&gt;</td>\n",
       "      <td>(Syndirella base)</td>\n",
       "      <td>c0839a,c1299a</td>\n",
       "      <td>c0300a</td>\n",
       "      <td>None</td>\n",
       "      <td>None</td>\n",
       "      <td>None</td>\n",
       "      <td>None</td>\n",
       "      <td>None</td>\n",
       "    </tr>\n",
       "    <tr>\n",
       "      <th>10</th>\n",
       "      <td>6278</td>\n",
       "      <td>DGASNXVGKHJXGC-UHFFFAOYSA-N</td>\n",
       "      <td>None</td>\n",
       "      <td>DGASNXVGKHJXGC-UHFFFAOYSA-N</td>\n",
       "      <td>Cn1c(N)nc2cccc(NCc3cccs3)c21</td>\n",
       "      <td>DGASNXVGKHJXGC-UHFFFAOYSA-N</td>\n",
       "      <td>&lt;rdkit.Chem.rdchem.Mol object at 0x7f100ed7d5d0&gt;</td>\n",
       "      <td>(Syndirella base)</td>\n",
       "      <td>c0892a,c1203a</td>\n",
       "      <td>c1454a</td>\n",
       "      <td>None</td>\n",
       "      <td>None</td>\n",
       "      <td>None</td>\n",
       "      <td>None</td>\n",
       "      <td>None</td>\n",
       "    </tr>\n",
       "    <tr>\n",
       "      <th>11</th>\n",
       "      <td>6285</td>\n",
       "      <td>XMHJIXAUMMKGLT-UHFFFAOYSA-N</td>\n",
       "      <td>None</td>\n",
       "      <td>XMHJIXAUMMKGLT-UHFFFAOYSA-N</td>\n",
       "      <td>COCC(=O)Nc1ccc(O)cc1N</td>\n",
       "      <td>XMHJIXAUMMKGLT-UHFFFAOYSA-N</td>\n",
       "      <td>&lt;rdkit.Chem.rdchem.Mol object at 0x7f100ed7dc60&gt;</td>\n",
       "      <td>(Syndirella base)</td>\n",
       "      <td>cx0935a,cx1116a,c0935a,c1116a</td>\n",
       "      <td>c0270a</td>\n",
       "      <td>None</td>\n",
       "      <td>None</td>\n",
       "      <td>None</td>\n",
       "      <td>None</td>\n",
       "      <td>None</td>\n",
       "    </tr>\n",
       "    <tr>\n",
       "      <th>12</th>\n",
       "      <td>6297</td>\n",
       "      <td>WXVLITNXXROEMR-UHFFFAOYSA-N</td>\n",
       "      <td>None</td>\n",
       "      <td>WXVLITNXXROEMR-UHFFFAOYSA-N</td>\n",
       "      <td>CCc1nc(NC(=O)c2ccnc(NC3CC=CC3)c2)no1</td>\n",
       "      <td>WXVLITNXXROEMR-UHFFFAOYSA-N</td>\n",
       "      <td>&lt;rdkit.Chem.rdchem.Mol object at 0x7f100ed7dee0&gt;</td>\n",
       "      <td>(Syndirella base)</td>\n",
       "      <td>c0316a,c0441a</td>\n",
       "      <td>c0300a</td>\n",
       "      <td>None</td>\n",
       "      <td>None</td>\n",
       "      <td>None</td>\n",
       "      <td>None</td>\n",
       "      <td>None</td>\n",
       "    </tr>\n",
       "    <tr>\n",
       "      <th>13</th>\n",
       "      <td>6300</td>\n",
       "      <td>XQWKZXHQRAAZAF-UHFFFAOYSA-N</td>\n",
       "      <td>None</td>\n",
       "      <td>XQWKZXHQRAAZAF-UHFFFAOYSA-N</td>\n",
       "      <td>Cc1cccc(O)c1Nc1ccccc1</td>\n",
       "      <td>XQWKZXHQRAAZAF-UHFFFAOYSA-N</td>\n",
       "      <td>&lt;rdkit.Chem.rdchem.Mol object at 0x7f100ed7d8f0&gt;</td>\n",
       "      <td>(Syndirella base)</td>\n",
       "      <td>cx0692a,c0692a,c1116c,c1116a</td>\n",
       "      <td>c0270a</td>\n",
       "      <td>None</td>\n",
       "      <td>None</td>\n",
       "      <td>None</td>\n",
       "      <td>None</td>\n",
       "      <td>None</td>\n",
       "    </tr>\n",
       "    <tr>\n",
       "      <th>14</th>\n",
       "      <td>104911</td>\n",
       "      <td>JXRCCCJCUJURBQ-UHFFFAOYSA-N</td>\n",
       "      <td>None</td>\n",
       "      <td>JXRCCCJCUJURBQ-UHFFFAOYSA-N</td>\n",
       "      <td>Cc1cccc(O)c1Nc1ccc(O)cc1</td>\n",
       "      <td>JXRCCCJCUJURBQ-UHFFFAOYSA-N</td>\n",
       "      <td>&lt;rdkit.Chem.rdchem.Mol object at 0x7f10151799a0&gt;</td>\n",
       "      <td>()</td>\n",
       "      <td>c0692a,c1116a</td>\n",
       "      <td>c0270a</td>\n",
       "      <td>None</td>\n",
       "      <td>None</td>\n",
       "      <td>None</td>\n",
       "      <td>None</td>\n",
       "      <td>None</td>\n",
       "    </tr>\n",
       "  </tbody>\n",
       "</table>\n",
       "</div>"
      ],
      "text/plain": [
       "    HIPPO ID                     inchikey alias                        _Name  \\\n",
       "0       6236  QVSYFXSEJNFZKD-UHFFFAOYSA-N  None  QVSYFXSEJNFZKD-UHFFFAOYSA-N   \n",
       "1       6237  JXRCCCJCUJURBQ-UHFFFAOYSA-N  None  JXRCCCJCUJURBQ-UHFFFAOYSA-N   \n",
       "2       6243  UGYMLSSIEIESGU-MRVPVSSYSA-N  None  UGYMLSSIEIESGU-MRVPVSSYSA-N   \n",
       "3       6244  UGYMLSSIEIESGU-MRVPVSSYSA-N  None  UGYMLSSIEIESGU-MRVPVSSYSA-N   \n",
       "4       6251  QQERROZMPKKQER-UHFFFAOYSA-N  None  QQERROZMPKKQER-UHFFFAOYSA-N   \n",
       "5       6255  XMHJIXAUMMKGLT-UHFFFAOYSA-N  None  XMHJIXAUMMKGLT-UHFFFAOYSA-N   \n",
       "6       6257  RGWZNWCCBDMABV-UHFFFAOYSA-N  None  RGWZNWCCBDMABV-UHFFFAOYSA-N   \n",
       "7       6259  RGWZNWCCBDMABV-UHFFFAOYSA-N  None  RGWZNWCCBDMABV-UHFFFAOYSA-N   \n",
       "8       6260  MIMRXPBJLOWRMN-UHFFFAOYSA-N  None  MIMRXPBJLOWRMN-UHFFFAOYSA-N   \n",
       "9       6276  MMXSHBZOILNLPJ-UHFFFAOYSA-N  None  MMXSHBZOILNLPJ-UHFFFAOYSA-N   \n",
       "10      6278  DGASNXVGKHJXGC-UHFFFAOYSA-N  None  DGASNXVGKHJXGC-UHFFFAOYSA-N   \n",
       "11      6285  XMHJIXAUMMKGLT-UHFFFAOYSA-N  None  XMHJIXAUMMKGLT-UHFFFAOYSA-N   \n",
       "12      6297  WXVLITNXXROEMR-UHFFFAOYSA-N  None  WXVLITNXXROEMR-UHFFFAOYSA-N   \n",
       "13      6300  XQWKZXHQRAAZAF-UHFFFAOYSA-N  None  XQWKZXHQRAAZAF-UHFFFAOYSA-N   \n",
       "14    104911  JXRCCCJCUJURBQ-UHFFFAOYSA-N  None  JXRCCCJCUJURBQ-UHFFFAOYSA-N   \n",
       "\n",
       "                         original SMILES                  original ID  \\\n",
       "0      COCC(=O)Nc1cccc(C(=O)NCc2cccs2)c1  QVSYFXSEJNFZKD-UHFFFAOYSA-N   \n",
       "1               Cc1cccc(O)c1Nc1ccc(O)cc1  JXRCCCJCUJURBQ-UHFFFAOYSA-N   \n",
       "2         O=c1ccncn1C[C@H]1CCS(=O)(=O)C1  UGYMLSSIEIESGU-MRVPVSSYSA-N   \n",
       "3         O=c1ccncn1C[C@H]1CCS(=O)(=O)C1  UGYMLSSIEIESGU-MRVPVSSYSA-N   \n",
       "4             CCc1nc(Cn2ccc(Br)cc2=O)no1  QQERROZMPKKQER-UHFFFAOYSA-N   \n",
       "5                  COCC(=O)Nc1ccc(O)cc1N  XMHJIXAUMMKGLT-UHFFFAOYSA-N   \n",
       "6            Nc1cc(-c2cc[nH]n2)cc2c1OCO2  RGWZNWCCBDMABV-UHFFFAOYSA-N   \n",
       "7            Nc1cc(-c2cc[nH]n2)cc2c1OCO2  RGWZNWCCBDMABV-UHFFFAOYSA-N   \n",
       "8                  Oc1ccc(Nc2ccncc2O)cc1  MIMRXPBJLOWRMN-UHFFFAOYSA-N   \n",
       "9                 CC(C)(C)c1cnc2ccccc2n1  MMXSHBZOILNLPJ-UHFFFAOYSA-N   \n",
       "10          Cn1c(N)nc2cccc(NCc3cccs3)c21  DGASNXVGKHJXGC-UHFFFAOYSA-N   \n",
       "11                 COCC(=O)Nc1ccc(O)cc1N  XMHJIXAUMMKGLT-UHFFFAOYSA-N   \n",
       "12  CCc1nc(NC(=O)c2ccnc(NC3CC=CC3)c2)no1  WXVLITNXXROEMR-UHFFFAOYSA-N   \n",
       "13                 Cc1cccc(O)c1Nc1ccccc1  XQWKZXHQRAAZAF-UHFFFAOYSA-N   \n",
       "14              Cc1cccc(O)c1Nc1ccc(O)cc1  JXRCCCJCUJURBQ-UHFFFAOYSA-N   \n",
       "\n",
       "                                               ROMol               tags  \\\n",
       "0   <rdkit.Chem.rdchem.Mol object at 0x7f10152e3560>  (Syndirella base)   \n",
       "1   <rdkit.Chem.rdchem.Mol object at 0x7f100ed8c090>  (Syndirella base)   \n",
       "2   <rdkit.Chem.rdchem.Mol object at 0x7f10152e06d0>  (Syndirella base)   \n",
       "3   <rdkit.Chem.rdchem.Mol object at 0x7f100ed55b70>  (Syndirella base)   \n",
       "4   <rdkit.Chem.rdchem.Mol object at 0x7f100ed56e30>  (Syndirella base)   \n",
       "5   <rdkit.Chem.rdchem.Mol object at 0x7f100ed556c0>  (Syndirella base)   \n",
       "6   <rdkit.Chem.rdchem.Mol object at 0x7f100ed545e0>  (Syndirella base)   \n",
       "7   <rdkit.Chem.rdchem.Mol object at 0x7f100ed996c0>  (Syndirella base)   \n",
       "8   <rdkit.Chem.rdchem.Mol object at 0x7f100ed7d800>  (Syndirella base)   \n",
       "9   <rdkit.Chem.rdchem.Mol object at 0x7f100ed7cae0>  (Syndirella base)   \n",
       "10  <rdkit.Chem.rdchem.Mol object at 0x7f100ed7d5d0>  (Syndirella base)   \n",
       "11  <rdkit.Chem.rdchem.Mol object at 0x7f100ed7dc60>  (Syndirella base)   \n",
       "12  <rdkit.Chem.rdchem.Mol object at 0x7f100ed7dee0>  (Syndirella base)   \n",
       "13  <rdkit.Chem.rdchem.Mol object at 0x7f100ed7d8f0>  (Syndirella base)   \n",
       "14  <rdkit.Chem.rdchem.Mol object at 0x7f10151799a0>                 ()   \n",
       "\n",
       "                         ref_mols ref_pdb generation_date submitter_name  \\\n",
       "0           cx0692a,c0692a,c0892a  c0270a            None           None   \n",
       "1    cx0935a,c0935a,c1116c,c1116a  c0270a            None           None   \n",
       "2   cx0314a,cx1182a,c0314a,c1182a  c0300a            None           None   \n",
       "3   cx0314a,cx1182a,c0314a,c1182a  c0300a            None           None   \n",
       "4                   c0316a,c1091a  c0300a            None           None   \n",
       "5           cx0935a,c0935a,c1353a  c0270a            None           None   \n",
       "6   cx1338a,cx0864a,c0864a,c1338a  c0300a            None           None   \n",
       "7           cx0864a,c0864a,c1203a  c0300a            None           None   \n",
       "8    cx0935a,c0935a,c1132a,c1132f  c0270a            None           None   \n",
       "9                   c0839a,c1299a  c0300a            None           None   \n",
       "10                  c0892a,c1203a  c1454a            None           None   \n",
       "11  cx0935a,cx1116a,c0935a,c1116a  c0270a            None           None   \n",
       "12                  c0316a,c0441a  c0300a            None           None   \n",
       "13   cx0692a,c0692a,c1116c,c1116a  c0270a            None           None   \n",
       "14                  c0692a,c1116a  c0270a            None           None   \n",
       "\n",
       "   method submitter_email ref_url  \n",
       "0    None            None    None  \n",
       "1    None            None    None  \n",
       "2    None            None    None  \n",
       "3    None            None    None  \n",
       "4    None            None    None  \n",
       "5    None            None    None  \n",
       "6    None            None    None  \n",
       "7    None            None    None  \n",
       "8    None            None    None  \n",
       "9    None            None    None  \n",
       "10   None            None    None  \n",
       "11   None            None    None  \n",
       "12   None            None    None  \n",
       "13   None            None    None  \n",
       "14   None            None    None  "
      ]
     },
     "execution_count": 54,
     "metadata": {},
     "output_type": "execute_result"
    }
   ],
   "source": [
    "poses15.to_fragalysis('syndirella_scaffolds_44from15.sdf',\n",
    "                      method='Accessible FFF Scaffolds',\n",
    "                      submitter_name='Max Winokan',\n",
    "                      submitter_email='max.winokan@diamond.ac.uk',\n",
    "                      submitter_institution='DLS',\n",
    "                     )"
   ]
  },
  {
   "cell_type": "code",
   "execution_count": null,
   "id": "36200173-1e81-45b8-995f-784bad1fb643",
   "metadata": {},
   "outputs": [],
   "source": []
  }
 ],
 "metadata": {
  "kernelspec": {
   "display_name": "Python [conda env:base] *",
   "language": "python",
   "name": "conda-base-py"
  },
  "language_info": {
   "codemirror_mode": {
    "name": "ipython",
    "version": 3
   },
   "file_extension": ".py",
   "mimetype": "text/x-python",
   "name": "python",
   "nbconvert_exporter": "python",
   "pygments_lexer": "ipython3",
   "version": "3.11.6"
  }
 },
 "nbformat": 4,
 "nbformat_minor": 5
}
