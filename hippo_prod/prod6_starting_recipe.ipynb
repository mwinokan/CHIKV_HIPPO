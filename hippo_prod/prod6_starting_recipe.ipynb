{
 "cells": [
  {
   "cell_type": "markdown",
   "id": "e80f98e7-10d9-49ff-a80b-f36c160c1e29",
   "metadata": {},
   "source": [
    "# CHIKV_Mac HIPPO FFF Prod. 6 (starting recipe)"
   ]
  },
  {
   "cell_type": "markdown",
   "id": "a61f5fb0-ad17-4a68-8d3b-6399a6413e42",
   "metadata": {},
   "source": [
    "## Setup"
   ]
  },
  {
   "cell_type": "code",
   "execution_count": 1,
   "id": "b1125662-7763-4b2d-ad01-2af2931508ce",
   "metadata": {},
   "outputs": [],
   "source": [
    "%load_ext autoreload\n",
    "%autoreload 2\n",
    "import hippo\n",
    "from pathlib import Path\n",
    "from mlog import setup_logger\n",
    "import pandas as pd\n",
    "import numpy as np\n",
    "import molparse as mp\n",
    "logger=setup_logger('notebook')"
   ]
  },
  {
   "cell_type": "code",
   "execution_count": 2,
   "id": "68b7d3a9-c842-40da-b5b1-c4028d99ffa9",
   "metadata": {},
   "outputs": [],
   "source": [
    "# !cp -v CHIKV_prod5.sqlite CHIKV_prod6.sqlite"
   ]
  },
  {
   "cell_type": "code",
   "execution_count": 3,
   "id": "80f578e0-1942-416c-81c3-d2fac0d4a022",
   "metadata": {},
   "outputs": [
    {
     "name": "stdout",
     "output_type": "stream",
     "text": [
      "\u001b[1m\u001b[38;5;166mCreating HIPPO animal\u001b[0m\n",
      "\u001b[36mname\u001b[0m = \u001b[38;5;154mCHIKV_prod6\u001b[0m\n",
      "\u001b[36mdb_path\u001b[0m = \u001b[38;5;11mCHIKV_prod6.sqlite\u001b[0m\n",
      "\u001b[2mDEBUG: hippo3.Database.__init__()\u001b[0m\n",
      "\u001b[2mDEBUG: Database.path = CHIKV_prod6.sqlite\u001b[0m\n",
      "\u001b[2mDEBUG: hippo3.Database.connect()\u001b[0m\n",
      "\u001b[2mDEBUG: sqlite3.version='2.6.0'\u001b[0m\n",
      "\u001b[7m\u001b[32;1m SUCCESS \u001b[0m\u001b[32;1m Database connected @ \u001b[38;5;11mCHIKV_prod6.sqlite!\u001b[0m\n",
      "\u001b[2mDEBUG: HIPPO.Database.create_table_route()\u001b[0m\n",
      "\u001b[2mDEBUG: HIPPO.Database.create_table_component()\u001b[0m\n",
      "\u001b[7m\u001b[32;1m SUCCESS \u001b[0m\u001b[32;1m Initialised animal HIPPO(\"CHIKV_prod6\")!\u001b[0m\n"
     ]
    }
   ],
   "source": [
    "animal = hippo.HIPPO('CHIKV_prod6', 'CHIKV_prod6.sqlite')"
   ]
  },
  {
   "cell_type": "code",
   "execution_count": 4,
   "id": "1e69cdb2-48cc-4532-8b23-b021b02cad86",
   "metadata": {},
   "outputs": [
    {
     "data": {
      "text/plain": [
       "\u001b[1m\u001b[4mcompounds tagged Syndirella base: {C x 68}\u001b[22m\u001b[24m"
      ]
     },
     "execution_count": 4,
     "metadata": {},
     "output_type": "execute_result"
    }
   ],
   "source": [
    "bases = animal.compounds(tag='Syndirella base')\n",
    "bases"
   ]
  },
  {
   "cell_type": "code",
   "execution_count": 5,
   "id": "b6c3f81e-8bc5-40dd-90c7-abb1d8849b1c",
   "metadata": {},
   "outputs": [
    {
     "data": {
      "text/plain": [
       "\u001b[1m\u001b[4m{C x 76}\u001b[22m\u001b[24m"
      ]
     },
     "execution_count": 5,
     "metadata": {},
     "output_type": "execute_result"
    }
   ],
   "source": [
    "# add on all elaborations for C93\n",
    "selection = bases + animal.C93.elabs\n",
    "selection"
   ]
  },
  {
   "cell_type": "markdown",
   "id": "2ca106fd-9af8-4843-8122-371c0770abd8",
   "metadata": {},
   "source": [
    "## Set global reaction yields"
   ]
  },
  {
   "cell_type": "code",
   "execution_count": 6,
   "id": "77d6fc31-f564-490f-8886-ad66c6d5c676",
   "metadata": {},
   "outputs": [
    {
     "data": {
      "text/plain": [
       "['Amidation',\n",
       " 'Buchwald-Hartwig_amination',\n",
       " 'Ester_amidation',\n",
       " 'N-Boc_deprotection',\n",
       " 'Sp2-sp2_Suzuki_coupling',\n",
       " 'Reductive_amination',\n",
       " 'N-nucleophilic_aromatic_substitution',\n",
       " 'Nucleophilic_substitution_with_amine',\n",
       " 'Buchwald-Hartwig_amidation_with_amide-like_nucleophile',\n",
       " 'Sp3-sp2_Suzuki_coupling',\n",
       " 'Mitsunobu_reaction_with_amine_alcohol_and_thioalcohol',\n",
       " 'Steglich_esterification']"
      ]
     },
     "execution_count": 6,
     "metadata": {},
     "output_type": "execute_result"
    }
   ],
   "source": [
    "animal.reactions.types"
   ]
  },
  {
   "cell_type": "code",
   "execution_count": 7,
   "id": "8dbca053-595e-438e-b14c-d2403e8900fd",
   "metadata": {},
   "outputs": [],
   "source": [
    "animal.reactions.set_product_yields(type=\"Buchwald-Hartwig_amination\", product_yield=0.1)\n",
    "animal.reactions.set_product_yields(type=\"Buchwald-Hartwig_amidation_with_amide-like_nucleophile\", product_yield=0.1)\n",
    "animal.reactions.set_product_yields(type=\"Steglich_esterification\", product_yield=0.1)"
   ]
  },
  {
   "cell_type": "markdown",
   "id": "6e28bb59-8335-43f0-bb5a-48ead6de913d",
   "metadata": {},
   "source": [
    "## Generate the recipe"
   ]
  },
  {
   "cell_type": "code",
   "execution_count": 8,
   "id": "8de72f7b-c566-4349-a71d-da2c27230217",
   "metadata": {
    "scrolled": true
   },
   "outputs": [
    {
     "name": "stdout",
     "output_type": "stream",
     "text": [
      "\u001b[36m#compounds\u001b[0m = 76\u001b[0m\n",
      "Solving individual compound recipes...\n"
     ]
    },
    {
     "name": "stderr",
     "output_type": "stream",
     "text": [
      "  0%|          | 0/76 [00:00<?, ?it/s]"
     ]
    },
    {
     "name": "stdout",
     "output_type": "stream",
     "text": [
      "\u001b[7m\u001b[31;1m ERROR \u001b[0m\u001b[31;1m No entry in quote with quote_compound=91!\u001b[0m\n",
      "\u001b[7m\u001b[31;1m ERROR \u001b[0m\u001b[31;1m Reactants not available for reaction=\u001b[1m\u001b[4mR22: C4458 + C4459 -> C91 via Sp2-sp2_Suzuki_coupling\u001b[22m\u001b[24m!\u001b[0m\n",
      "\u001b[7m\u001b[31;1m ERROR \u001b[0m\u001b[31;1m No entry in quote with quote_compound=91!\u001b[0m\n",
      "\u001b[7m\u001b[31;1m ERROR \u001b[0m\u001b[31;1m Reactants not available for reaction=\u001b[1m\u001b[4mR23: C4458 + C4460 -> C91 via Sp2-sp2_Suzuki_coupling\u001b[22m\u001b[24m!\u001b[0m\n",
      "\u001b[7m\u001b[31;1m ERROR \u001b[0m\u001b[31;1m No solutions for compound=C91!\u001b[0m\n"
     ]
    },
    {
     "name": "stderr",
     "output_type": "stream",
     "text": [
      "  1%|▏         | 1/76 [00:00<00:08,  9.18it/s]"
     ]
    },
    {
     "name": "stdout",
     "output_type": "stream",
     "text": [
      "\u001b[7m\u001b[31;1m ERROR \u001b[0m\u001b[31;1m No entry in quote with quote_compound=92!\u001b[0m\n",
      "\u001b[7m\u001b[31;1m ERROR \u001b[0m\u001b[31;1m Reactants not available for reaction=\u001b[1m\u001b[4mR32: C4470 + C4471 -> C92 via N-nucleophilic_aromatic_substitution\u001b[22m\u001b[24m!\u001b[0m\n",
      "\u001b[7m\u001b[31;1m ERROR \u001b[0m\u001b[31;1m No solutions for compound=C92!\u001b[0m\n",
      "\u001b[7m\u001b[31;1m ERROR \u001b[0m\u001b[31;1m No entry in quote with quote_compound=93!\u001b[0m\n",
      "\u001b[7m\u001b[32;1m SUCCESS \u001b[0m\u001b[32;1m Found solution for compound=C93!\u001b[0m\n"
     ]
    },
    {
     "name": "stderr",
     "output_type": "stream",
     "text": [
      "  4%|▍         | 3/76 [00:00<00:04, 14.97it/s]"
     ]
    },
    {
     "name": "stdout",
     "output_type": "stream",
     "text": [
      "\u001b[7m\u001b[31;1m ERROR \u001b[0m\u001b[31;1m No entry in quote with quote_compound=95!\u001b[0m\n",
      "\u001b[7m\u001b[32;1m SUCCESS \u001b[0m\u001b[32;1m Found solution for compound=C95!\u001b[0m\n",
      "\u001b[7m\u001b[31;1m ERROR \u001b[0m\u001b[31;1m No entry in quote with quote_compound=98!\u001b[0m\n",
      "\u001b[7m\u001b[31;1m ERROR \u001b[0m\u001b[31;1m Reactants not available for reaction=\u001b[1m\u001b[4mR86: C4536 + C4537 -> C98 via Sp3-sp2_Suzuki_coupling\u001b[22m\u001b[24m!\u001b[0m\n",
      "\u001b[7m\u001b[31;1m ERROR \u001b[0m\u001b[31;1m No entry in quote with quote_compound=98!\u001b[0m\n",
      "\u001b[7m\u001b[31;1m ERROR \u001b[0m\u001b[31;1m Reactants not available for reaction=\u001b[1m\u001b[4mR87: C4536 + C4538 -> C98 via Sp3-sp2_Suzuki_coupling\u001b[22m\u001b[24m!\u001b[0m\n",
      "\u001b[7m\u001b[31;1m ERROR \u001b[0m\u001b[31;1m No entry in quote with quote_compound=98!\u001b[0m\n",
      "\u001b[7m\u001b[31;1m ERROR \u001b[0m\u001b[31;1m Reactants not available for reaction=\u001b[1m\u001b[4mR88: C4537 + C4539 -> C98 via Sp3-sp2_Suzuki_coupling\u001b[22m\u001b[24m!\u001b[0m\n",
      "\u001b[7m\u001b[31;1m ERROR \u001b[0m\u001b[31;1m No entry in quote with quote_compound=98!\u001b[0m\n",
      "\u001b[7m\u001b[31;1m ERROR \u001b[0m\u001b[31;1m Reactants not available for reaction=\u001b[1m\u001b[4mR89: C4538 + C4539 -> C98 via Sp3-sp2_Suzuki_coupling\u001b[22m\u001b[24m!\u001b[0m\n",
      "\u001b[7m\u001b[31;1m ERROR \u001b[0m\u001b[31;1m No solutions for compound=C98!\u001b[0m\n"
     ]
    },
    {
     "name": "stderr",
     "output_type": "stream",
     "text": [
      "  7%|▋         | 5/76 [00:00<00:06, 11.48it/s]"
     ]
    },
    {
     "name": "stdout",
     "output_type": "stream",
     "text": [
      "\u001b[7m\u001b[31;1m ERROR \u001b[0m\u001b[31;1m No entry in quote with quote_compound=100!\u001b[0m\n",
      "\u001b[7m\u001b[31;1m ERROR \u001b[0m\u001b[31;1m No entry in quote with quote_compound=4464!\u001b[0m\n",
      "\u001b[7m\u001b[31;1m ERROR \u001b[0m\u001b[31;1m Reactants not available for reaction=\u001b[1m\u001b[4mR26: C50 + C4463 -> C4464 via Nucleophilic_substitution_with_amine\u001b[22m\u001b[24m!\u001b[0m\n",
      "\u001b[7m\u001b[31;1m ERROR \u001b[0m\u001b[31;1m 0 recipes with prices, can't choose cheapest!\u001b[0m\n",
      "\u001b[7m\u001b[31;1m ERROR \u001b[0m\u001b[31;1m No entry in quote with quote_compound=100!\u001b[0m\n",
      "\u001b[7m\u001b[31;1m ERROR \u001b[0m\u001b[31;1m Reactants not available for reaction=\u001b[1m\u001b[4mR93: C4464 + C4544 -> C100 via Sp2-sp2_Suzuki_coupling\u001b[22m\u001b[24m!\u001b[0m\n",
      "\u001b[7m\u001b[31;1m ERROR \u001b[0m\u001b[31;1m No solutions for compound=C100!\u001b[0m\n",
      "\u001b[7m\u001b[31;1m ERROR \u001b[0m\u001b[31;1m No entry in quote with quote_compound=101!\u001b[0m\n",
      "\u001b[7m\u001b[31;1m ERROR \u001b[0m\u001b[31;1m Reactants not available for reaction=\u001b[1m\u001b[4mR102: C4552 + C4553 -> C101 via Amidation\u001b[22m\u001b[24m!\u001b[0m\n",
      "\u001b[7m\u001b[31;1m ERROR \u001b[0m\u001b[31;1m No solutions for compound=C101!\u001b[0m\n"
     ]
    },
    {
     "name": "stderr",
     "output_type": "stream",
     "text": [
      "  9%|▉         | 7/76 [00:00<00:05, 11.50it/s]"
     ]
    },
    {
     "name": "stdout",
     "output_type": "stream",
     "text": [
      "\u001b[7m\u001b[31;1m ERROR \u001b[0m\u001b[31;1m No entry in quote with quote_compound=104!\u001b[0m\n",
      "\u001b[7m\u001b[32;1m SUCCESS \u001b[0m\u001b[32;1m Found solution for compound=C104!\u001b[0m\n",
      "\u001b[7m\u001b[31;1m ERROR \u001b[0m\u001b[31;1m No entry in quote with quote_compound=372!\u001b[0m\n",
      "\u001b[7m\u001b[31;1m ERROR \u001b[0m\u001b[31;1m Reactants not available for reaction=\u001b[1m\u001b[4mR12: C1468 + C4440 -> C372 via Buchwald-Hartwig_amination\u001b[22m\u001b[24m!\u001b[0m\n",
      "\u001b[7m\u001b[31;1m ERROR \u001b[0m\u001b[31;1m No solutions for compound=C372!\u001b[0m\n"
     ]
    },
    {
     "name": "stderr",
     "output_type": "stream",
     "text": [
      " 12%|█▏        | 9/76 [00:00<00:04, 13.60it/s]"
     ]
    },
    {
     "name": "stdout",
     "output_type": "stream",
     "text": [
      "\u001b[7m\u001b[31;1m ERROR \u001b[0m\u001b[31;1m No entry in quote with quote_compound=555!\u001b[0m\n",
      "\u001b[7m\u001b[31;1m ERROR \u001b[0m\u001b[31;1m Reactants not available for reaction=\u001b[1m\u001b[4mR119: C4426 + C4572 -> C555 via Ester_amidation\u001b[22m\u001b[24m!\u001b[0m\n",
      "\u001b[7m\u001b[31;1m ERROR \u001b[0m\u001b[31;1m No entry in quote with quote_compound=555!\u001b[0m\n",
      "\u001b[7m\u001b[31;1m ERROR \u001b[0m\u001b[31;1m Reactants not available for reaction=\u001b[1m\u001b[4mR120: C4426 + C4573 -> C555 via Ester_amidation\u001b[22m\u001b[24m!\u001b[0m\n",
      "\u001b[7m\u001b[31;1m ERROR \u001b[0m\u001b[31;1m No solutions for compound=C555!\u001b[0m\n",
      "\u001b[7m\u001b[31;1m ERROR \u001b[0m\u001b[31;1m No entry in quote with quote_compound=569!\u001b[0m\n",
      "\u001b[7m\u001b[31;1m ERROR \u001b[0m\u001b[31;1m Reactants not available for reaction=\u001b[1m\u001b[4mR50: C4491 + C4492 -> C569 via Sp3-sp2_Suzuki_coupling\u001b[22m\u001b[24m!\u001b[0m\n",
      "\u001b[7m\u001b[31;1m ERROR \u001b[0m\u001b[31;1m No solutions for compound=C569!\u001b[0m\n"
     ]
    },
    {
     "name": "stderr",
     "output_type": "stream",
     "text": [
      " 14%|█▍        | 11/76 [00:00<00:04, 14.34it/s]"
     ]
    },
    {
     "name": "stdout",
     "output_type": "stream",
     "text": [
      "\u001b[7m\u001b[31;1m ERROR \u001b[0m\u001b[31;1m No solutions for compound=C576!\u001b[0m\n",
      "\u001b[7m\u001b[31;1m ERROR \u001b[0m\u001b[31;1m No entry in quote with quote_compound=596!\u001b[0m\n",
      "\u001b[7m\u001b[31;1m ERROR \u001b[0m\u001b[31;1m Reactants not available for reaction=\u001b[1m\u001b[4mR58: C4502 + C4503 -> C596 via Buchwald-Hartwig_amination\u001b[22m\u001b[24m!\u001b[0m\n",
      "\u001b[7m\u001b[31;1m ERROR \u001b[0m\u001b[31;1m No solutions for compound=C596!\u001b[0m\n",
      "\u001b[7m\u001b[31;1m ERROR \u001b[0m\u001b[31;1m No entry in quote with quote_compound=627!\u001b[0m\n",
      "\u001b[7m\u001b[31;1m ERROR \u001b[0m\u001b[31;1m Reactants not available for reaction=\u001b[1m\u001b[4mR1: C4423 + C4424 -> C627 via Amidation\u001b[22m\u001b[24m!\u001b[0m\n",
      "\u001b[7m\u001b[31;1m ERROR \u001b[0m\u001b[31;1m No solutions for compound=C627!\u001b[0m\n",
      "\u001b[7m\u001b[31;1m ERROR \u001b[0m\u001b[31;1m No entry in quote with quote_compound=653!\u001b[0m\n",
      "\u001b[7m\u001b[31;1m ERROR \u001b[0m\u001b[31;1m Reactants not available for reaction=\u001b[1m\u001b[4mR3: C4427 + C4428 -> C653 via Amidation\u001b[22m\u001b[24m!\u001b[0m\n",
      "\u001b[7m\u001b[31;1m ERROR \u001b[0m\u001b[31;1m No solutions for compound=C653!\u001b[0m\n"
     ]
    },
    {
     "name": "stderr",
     "output_type": "stream",
     "text": [
      " 20%|█▉        | 15/76 [00:00<00:03, 19.33it/s]"
     ]
    },
    {
     "name": "stdout",
     "output_type": "stream",
     "text": [
      "\u001b[7m\u001b[31;1m ERROR \u001b[0m\u001b[31;1m No entry in quote with quote_compound=662!\u001b[0m\n",
      "\u001b[7m\u001b[31;1m ERROR \u001b[0m\u001b[31;1m No entry in quote with quote_compound=4469!\u001b[0m\n",
      "\u001b[7m\u001b[31;1m ERROR \u001b[0m\u001b[31;1m Reactants not available for reaction=\u001b[1m\u001b[4mR31: C4443 + C4468 -> C4469 via Nucleophilic_substitution_with_amine\u001b[22m\u001b[24m!\u001b[0m\n",
      "\u001b[7m\u001b[31;1m ERROR \u001b[0m\u001b[31;1m 0 recipes with prices, can't choose cheapest!\u001b[0m\n",
      "\u001b[7m\u001b[31;1m ERROR \u001b[0m\u001b[31;1m No solutions for compound=C662!\u001b[0m\n",
      "\u001b[7m\u001b[31;1m ERROR \u001b[0m\u001b[31;1m No entry in quote with quote_compound=680!\u001b[0m\n",
      "\u001b[7m\u001b[31;1m ERROR \u001b[0m\u001b[31;1m Reactants not available for reaction=\u001b[1m\u001b[4mR34: C18 + C4473 -> C680 via N-nucleophilic_aromatic_substitution\u001b[22m\u001b[24m!\u001b[0m\n",
      "\u001b[7m\u001b[31;1m ERROR \u001b[0m\u001b[31;1m No solutions for compound=C680!\u001b[0m\n"
     ]
    },
    {
     "name": "stderr",
     "output_type": "stream",
     "text": [
      " 22%|██▏       | 17/76 [00:01<00:03, 17.90it/s]"
     ]
    },
    {
     "name": "stdout",
     "output_type": "stream",
     "text": [
      "\u001b[7m\u001b[31;1m ERROR \u001b[0m\u001b[31;1m No entry in quote with quote_compound=718!\u001b[0m\n",
      "\u001b[7m\u001b[31;1m ERROR \u001b[0m\u001b[31;1m Reactants not available for reaction=\u001b[1m\u001b[4mR121: C19 + C4574 -> C718 via Nucleophilic_substitution_with_amine\u001b[22m\u001b[24m!\u001b[0m\n",
      "\u001b[7m\u001b[31;1m ERROR \u001b[0m\u001b[31;1m No solutions for compound=C718!\u001b[0m\n",
      "\u001b[7m\u001b[31;1m ERROR \u001b[0m\u001b[31;1m No entry in quote with quote_compound=760!\u001b[0m\n",
      "\u001b[7m\u001b[31;1m ERROR \u001b[0m\u001b[31;1m Reactants not available for reaction=\u001b[1m\u001b[4mR104: C4555 + C4556 -> C760 via Mitsunobu_reaction_with_amine_alcohol_and_thioalcohol\u001b[22m\u001b[24m!\u001b[0m\n",
      "\u001b[7m\u001b[31;1m ERROR \u001b[0m\u001b[31;1m No solutions for compound=C760!\u001b[0m\n",
      "\u001b[7m\u001b[31;1m ERROR \u001b[0m\u001b[31;1m No entry in quote with quote_compound=796!\u001b[0m\n",
      "\u001b[7m\u001b[31;1m ERROR \u001b[0m\u001b[31;1m No entry in quote with quote_compound=796!\u001b[0m\n",
      "\u001b[7m\u001b[38;5;166m\u001b[1m Warning \u001b[0m\u001b[38;5;166m Multiple solutions for compound=C796\u001b[0m\n",
      "\u001b[7m\u001b[32;1m SUCCESS \u001b[0m\u001b[32;1m Found solution for compound=C796!\u001b[0m\n"
     ]
    },
    {
     "name": "stderr",
     "output_type": "stream",
     "text": [
      " 26%|██▋       | 20/76 [00:01<00:03, 16.89it/s]"
     ]
    },
    {
     "name": "stdout",
     "output_type": "stream",
     "text": [
      "\u001b[7m\u001b[31;1m ERROR \u001b[0m\u001b[31;1m No entry in quote with quote_compound=804!\u001b[0m\n",
      "\u001b[7m\u001b[31;1m ERROR \u001b[0m\u001b[31;1m Reactants not available for reaction=\u001b[1m\u001b[4mR45: C4485 + C4486 -> C804 via Sp2-sp2_Suzuki_coupling\u001b[22m\u001b[24m!\u001b[0m\n",
      "\u001b[7m\u001b[31;1m ERROR \u001b[0m\u001b[31;1m No entry in quote with quote_compound=804!\u001b[0m\n",
      "\u001b[7m\u001b[31;1m ERROR \u001b[0m\u001b[31;1m Reactants not available for reaction=\u001b[1m\u001b[4mR46: C4487 + C4488 -> C804 via Sp2-sp2_Suzuki_coupling\u001b[22m\u001b[24m!\u001b[0m\n",
      "\u001b[7m\u001b[31;1m ERROR \u001b[0m\u001b[31;1m No entry in quote with quote_compound=804!\u001b[0m\n",
      "\u001b[7m\u001b[31;1m ERROR \u001b[0m\u001b[31;1m Reactants not available for reaction=\u001b[1m\u001b[4mR47: C4485 + C4488 -> C804 via Sp2-sp2_Suzuki_coupling\u001b[22m\u001b[24m!\u001b[0m\n",
      "\u001b[7m\u001b[31;1m ERROR \u001b[0m\u001b[31;1m No entry in quote with quote_compound=804!\u001b[0m\n",
      "\u001b[7m\u001b[31;1m ERROR \u001b[0m\u001b[31;1m Reactants not available for reaction=\u001b[1m\u001b[4mR48: C4486 + C4487 -> C804 via Sp2-sp2_Suzuki_coupling\u001b[22m\u001b[24m!\u001b[0m\n",
      "\u001b[7m\u001b[31;1m ERROR \u001b[0m\u001b[31;1m No solutions for compound=C804!\u001b[0m\n",
      "\u001b[7m\u001b[31;1m ERROR \u001b[0m\u001b[31;1m No entry in quote with quote_compound=849!\u001b[0m\n",
      "\u001b[7m\u001b[31;1m ERROR \u001b[0m\u001b[31;1m Reactants not available for reaction=\u001b[1m\u001b[4mR16: C4440 + C4448 -> C849 via Ester_amidation\u001b[22m\u001b[24m!\u001b[0m\n",
      "\u001b[7m\u001b[31;1m ERROR \u001b[0m\u001b[31;1m No solutions for compound=C849!\u001b[0m\n"
     ]
    },
    {
     "name": "stderr",
     "output_type": "stream",
     "text": [
      " 29%|██▉       | 22/76 [00:01<00:03, 14.32it/s]"
     ]
    },
    {
     "name": "stdout",
     "output_type": "stream",
     "text": [
      "\u001b[7m\u001b[31;1m ERROR \u001b[0m\u001b[31;1m No entry in quote with quote_compound=992!\u001b[0m\n",
      "\u001b[7m\u001b[31;1m ERROR \u001b[0m\u001b[31;1m Reactants not available for reaction=\u001b[1m\u001b[4mR63: C4510 + C4511 -> C992 via Sp3-sp2_Suzuki_coupling\u001b[22m\u001b[24m!\u001b[0m\n",
      "\u001b[7m\u001b[31;1m ERROR \u001b[0m\u001b[31;1m No entry in quote with quote_compound=992!\u001b[0m\n",
      "\u001b[7m\u001b[31;1m ERROR \u001b[0m\u001b[31;1m No entry in quote with quote_compound=4510!\u001b[0m\n",
      "\u001b[7m\u001b[31;1m ERROR \u001b[0m\u001b[31;1m Reactants not available for reaction=\u001b[1m\u001b[4mR62: C4508 + C4509 -> C4510 via Mitsunobu_reaction_with_amine_alcohol_and_thioalcohol\u001b[22m\u001b[24m!\u001b[0m\n",
      "\u001b[7m\u001b[31;1m ERROR \u001b[0m\u001b[31;1m 0 recipes with prices, can't choose cheapest!\u001b[0m\n",
      "\u001b[7m\u001b[31;1m ERROR \u001b[0m\u001b[31;1m No solutions for compound=C992!\u001b[0m\n",
      "\u001b[7m\u001b[31;1m ERROR \u001b[0m\u001b[31;1m No entry in quote with quote_compound=1001!\u001b[0m\n",
      "\u001b[7m\u001b[32;1m SUCCESS \u001b[0m\u001b[32;1m Found solution for compound=C1001!\u001b[0m\n"
     ]
    },
    {
     "name": "stderr",
     "output_type": "stream",
     "text": [
      " 32%|███▏      | 24/76 [00:01<00:03, 13.20it/s]"
     ]
    },
    {
     "name": "stdout",
     "output_type": "stream",
     "text": [
      "\u001b[7m\u001b[31;1m ERROR \u001b[0m\u001b[31;1m No entry in quote with quote_compound=1012!\u001b[0m\n",
      "\u001b[7m\u001b[31;1m ERROR \u001b[0m\u001b[31;1m Reactants not available for reaction=\u001b[1m\u001b[4mR36: C4478 + C4479 -> C1012 via Amidation\u001b[22m\u001b[24m!\u001b[0m\n",
      "\u001b[7m\u001b[31;1m ERROR \u001b[0m\u001b[31;1m No solutions for compound=C1012!\u001b[0m\n",
      "\u001b[7m\u001b[31;1m ERROR \u001b[0m\u001b[31;1m No entry in quote with quote_compound=1029!\u001b[0m\n",
      "\u001b[7m\u001b[31;1m ERROR \u001b[0m\u001b[31;1m Reactants not available for reaction=\u001b[1m\u001b[4mR2: C4425 + C4426 -> C1029 via Amidation\u001b[22m\u001b[24m!\u001b[0m\n",
      "\u001b[7m\u001b[31;1m ERROR \u001b[0m\u001b[31;1m No solutions for compound=C1029!\u001b[0m\n",
      "\u001b[7m\u001b[31;1m ERROR \u001b[0m\u001b[31;1m No entry in quote with quote_compound=1119!\u001b[0m\n",
      "\u001b[7m\u001b[31;1m ERROR \u001b[0m\u001b[31;1m Reactants not available for reaction=\u001b[1m\u001b[4mR109: C4562 + C4563 -> C1119 via Sp3-sp2_Suzuki_coupling\u001b[22m\u001b[24m!\u001b[0m\n",
      "\u001b[7m\u001b[31;1m ERROR \u001b[0m\u001b[31;1m No entry in quote with quote_compound=1119!\u001b[0m\n",
      "\u001b[7m\u001b[31;1m ERROR \u001b[0m\u001b[31;1m Reactants not available for reaction=\u001b[1m\u001b[4mR110: C4562 + C4564 -> C1119 via Sp3-sp2_Suzuki_coupling\u001b[22m\u001b[24m!\u001b[0m\n",
      "\u001b[7m\u001b[31;1m ERROR \u001b[0m\u001b[31;1m No entry in quote with quote_compound=1119!\u001b[0m\n",
      "\u001b[7m\u001b[31;1m ERROR \u001b[0m\u001b[31;1m Reactants not available for reaction=\u001b[1m\u001b[4mR111: C4560 + C4562 -> C1119 via Sp3-sp2_Suzuki_coupling\u001b[22m\u001b[24m!\u001b[0m\n",
      "\u001b[7m\u001b[31;1m ERROR \u001b[0m\u001b[31;1m No entry in quote with quote_compound=1119!\u001b[0m\n",
      "\u001b[7m\u001b[31;1m ERROR \u001b[0m\u001b[31;1m Reactants not available for reaction=\u001b[1m\u001b[4mR112: C4558 + C4562 -> C1119 via Sp3-sp2_Suzuki_coupling\u001b[22m\u001b[24m!\u001b[0m\n",
      "\u001b[7m\u001b[31;1m ERROR \u001b[0m\u001b[31;1m No solutions for compound=C1119!\u001b[0m\n"
     ]
    },
    {
     "name": "stderr",
     "output_type": "stream",
     "text": [
      " 36%|███▌      | 27/76 [00:01<00:03, 12.78it/s]"
     ]
    },
    {
     "name": "stdout",
     "output_type": "stream",
     "text": [
      "\u001b[7m\u001b[31;1m ERROR \u001b[0m\u001b[31;1m No entry in quote with quote_compound=1128!\u001b[0m\n",
      "\u001b[7m\u001b[31;1m ERROR \u001b[0m\u001b[31;1m No entry in quote with quote_compound=1128!\u001b[0m\n",
      "\u001b[7m\u001b[31;1m ERROR \u001b[0m\u001b[31;1m Reactants not available for reaction=\u001b[1m\u001b[4mR106: C4557 + C4560 -> C1128 via Sp3-sp2_Suzuki_coupling\u001b[22m\u001b[24m!\u001b[0m\n",
      "\u001b[7m\u001b[32;1m SUCCESS \u001b[0m\u001b[32;1m Found solution for compound=C1128!\u001b[0m\n",
      "\u001b[7m\u001b[31;1m ERROR \u001b[0m\u001b[31;1m No entry in quote with quote_compound=1192!\u001b[0m\n",
      "\u001b[7m\u001b[31;1m ERROR \u001b[0m\u001b[31;1m Reactants not available for reaction=\u001b[1m\u001b[4mR5: C4431 + C4432 -> C1192 via Ester_amidation\u001b[22m\u001b[24m!\u001b[0m\n",
      "\u001b[7m\u001b[31;1m ERROR \u001b[0m\u001b[31;1m No entry in quote with quote_compound=1192!\u001b[0m\n",
      "\u001b[7m\u001b[31;1m ERROR \u001b[0m\u001b[31;1m Reactants not available for reaction=\u001b[1m\u001b[4mR6: C4432 + C4433 -> C1192 via Ester_amidation\u001b[22m\u001b[24m!\u001b[0m\n",
      "\u001b[7m\u001b[31;1m ERROR \u001b[0m\u001b[31;1m No entry in quote with quote_compound=1192!\u001b[0m\n",
      "\u001b[7m\u001b[31;1m ERROR \u001b[0m\u001b[31;1m Reactants not available for reaction=\u001b[1m\u001b[4mR7: C4432 + C4434 -> C1192 via Ester_amidation\u001b[22m\u001b[24m!\u001b[0m\n",
      "\u001b[7m\u001b[31;1m ERROR \u001b[0m\u001b[31;1m No entry in quote with quote_compound=1192!\u001b[0m\n",
      "\u001b[7m\u001b[31;1m ERROR \u001b[0m\u001b[31;1m Reactants not available for reaction=\u001b[1m\u001b[4mR8: C4432 + C4435 -> C1192 via Ester_amidation\u001b[22m\u001b[24m!\u001b[0m\n",
      "\u001b[7m\u001b[31;1m ERROR \u001b[0m\u001b[31;1m No solutions for compound=C1192!\u001b[0m\n"
     ]
    },
    {
     "name": "stderr",
     "output_type": "stream",
     "text": [
      " 38%|███▊      | 29/76 [00:02<00:04, 11.09it/s]"
     ]
    },
    {
     "name": "stdout",
     "output_type": "stream",
     "text": [
      "\u001b[7m\u001b[31;1m ERROR \u001b[0m\u001b[31;1m No entry in quote with quote_compound=1257!\u001b[0m\n",
      "\u001b[7m\u001b[31;1m ERROR \u001b[0m\u001b[31;1m No entry in quote with quote_compound=4464!\u001b[0m\n",
      "\u001b[7m\u001b[31;1m ERROR \u001b[0m\u001b[31;1m Reactants not available for reaction=\u001b[1m\u001b[4mR26: C50 + C4463 -> C4464 via Nucleophilic_substitution_with_amine\u001b[22m\u001b[24m!\u001b[0m\n",
      "\u001b[7m\u001b[31;1m ERROR \u001b[0m\u001b[31;1m 0 recipes with prices, can't choose cheapest!\u001b[0m\n",
      "\u001b[7m\u001b[31;1m ERROR \u001b[0m\u001b[31;1m No solutions for compound=C1257!\u001b[0m\n",
      "\u001b[7m\u001b[31;1m ERROR \u001b[0m\u001b[31;1m No entry in quote with quote_compound=1316!\u001b[0m\n",
      "\u001b[7m\u001b[32;1m SUCCESS \u001b[0m\u001b[32;1m Found solution for compound=C1316!\u001b[0m\n"
     ]
    },
    {
     "name": "stderr",
     "output_type": "stream",
     "text": [
      " 41%|████      | 31/76 [00:02<00:03, 11.67it/s]"
     ]
    },
    {
     "name": "stdout",
     "output_type": "stream",
     "text": [
      "\u001b[7m\u001b[31;1m ERROR \u001b[0m\u001b[31;1m No entry in quote with quote_compound=1444!\u001b[0m\n",
      "\u001b[7m\u001b[31;1m ERROR \u001b[0m\u001b[31;1m Reactants not available for reaction=\u001b[1m\u001b[4mR101: C4424 + C4551 -> C1444 via Ester_amidation\u001b[22m\u001b[24m!\u001b[0m\n",
      "\u001b[7m\u001b[31;1m ERROR \u001b[0m\u001b[31;1m No solutions for compound=C1444!\u001b[0m\n",
      "\u001b[7m\u001b[31;1m ERROR \u001b[0m\u001b[31;1m No entry in quote with quote_compound=1446!\u001b[0m\n",
      "\u001b[7m\u001b[31;1m ERROR \u001b[0m\u001b[31;1m Reactants not available for reaction=\u001b[1m\u001b[4mR116: C4568 + C4569 -> C1446 via Amidation\u001b[22m\u001b[24m!\u001b[0m\n",
      "\u001b[7m\u001b[31;1m ERROR \u001b[0m\u001b[31;1m No solutions for compound=C1446!\u001b[0m\n",
      "\u001b[7m\u001b[31;1m ERROR \u001b[0m\u001b[31;1m No entry in quote with quote_compound=1466!\u001b[0m\n",
      "\u001b[7m\u001b[31;1m ERROR \u001b[0m\u001b[31;1m Reactants not available for reaction=\u001b[1m\u001b[4mR83: C4443 + C4531 -> C1466 via N-nucleophilic_aromatic_substitution\u001b[22m\u001b[24m!\u001b[0m\n",
      "\u001b[7m\u001b[31;1m ERROR \u001b[0m\u001b[31;1m No solutions for compound=C1466!\u001b[0m\n"
     ]
    },
    {
     "name": "stderr",
     "output_type": "stream",
     "text": [
      " 45%|████▍     | 34/76 [00:02<00:02, 14.36it/s]"
     ]
    },
    {
     "name": "stdout",
     "output_type": "stream",
     "text": [
      "\u001b[7m\u001b[31;1m ERROR \u001b[0m\u001b[31;1m No entry in quote with quote_compound=1472!\u001b[0m\n",
      "\u001b[7m\u001b[31;1m ERROR \u001b[0m\u001b[31;1m Reactants not available for reaction=\u001b[1m\u001b[4mR59: C1468 + C4504 -> C1472 via Buchwald-Hartwig_amination\u001b[22m\u001b[24m!\u001b[0m\n",
      "\u001b[7m\u001b[31;1m ERROR \u001b[0m\u001b[31;1m No solutions for compound=C1472!\u001b[0m\n",
      "\u001b[7m\u001b[31;1m ERROR \u001b[0m\u001b[31;1m No entry in quote with quote_compound=1473!\u001b[0m\n",
      "\u001b[7m\u001b[31;1m ERROR \u001b[0m\u001b[31;1m No entry in quote with quote_compound=1473!\u001b[0m\n",
      "\u001b[7m\u001b[38;5;166m\u001b[1m Warning \u001b[0m\u001b[38;5;166m Multiple solutions for compound=C1473\u001b[0m\n",
      "\u001b[7m\u001b[32;1m SUCCESS \u001b[0m\u001b[32;1m Found solution for compound=C1473!\u001b[0m\n"
     ]
    },
    {
     "name": "stderr",
     "output_type": "stream",
     "text": [
      " 47%|████▋     | 36/76 [00:02<00:02, 14.55it/s]"
     ]
    },
    {
     "name": "stdout",
     "output_type": "stream",
     "text": [
      "\u001b[7m\u001b[31;1m ERROR \u001b[0m\u001b[31;1m No entry in quote with quote_compound=1476!\u001b[0m\n",
      "\u001b[7m\u001b[31;1m ERROR \u001b[0m\u001b[31;1m Reactants not available for reaction=\u001b[1m\u001b[4mR24: C4443 + C4461 -> C1476 via N-nucleophilic_aromatic_substitution\u001b[22m\u001b[24m!\u001b[0m\n",
      "\u001b[7m\u001b[31;1m ERROR \u001b[0m\u001b[31;1m No solutions for compound=C1476!\u001b[0m\n",
      "\u001b[7m\u001b[31;1m ERROR \u001b[0m\u001b[31;1m No entry in quote with quote_compound=1500!\u001b[0m\n",
      "\u001b[7m\u001b[31;1m ERROR \u001b[0m\u001b[31;1m Reactants not available for reaction=\u001b[1m\u001b[4mR10: C4437 + C4438 -> C1500 via Amidation\u001b[22m\u001b[24m!\u001b[0m\n",
      "\u001b[7m\u001b[31;1m ERROR \u001b[0m\u001b[31;1m No solutions for compound=C1500!\u001b[0m\n",
      "\u001b[7m\u001b[31;1m ERROR \u001b[0m\u001b[31;1m No entry in quote with quote_compound=1602!\u001b[0m\n",
      "\u001b[7m\u001b[31;1m ERROR \u001b[0m\u001b[31;1m Reactants not available for reaction=\u001b[1m\u001b[4mR56: C4424 + C4500 -> C1602 via Ester_amidation\u001b[22m\u001b[24m!\u001b[0m\n",
      "\u001b[7m\u001b[31;1m ERROR \u001b[0m\u001b[31;1m No solutions for compound=C1602!\u001b[0m\n"
     ]
    },
    {
     "name": "stderr",
     "output_type": "stream",
     "text": [
      " 51%|█████▏    | 39/76 [00:02<00:02, 17.53it/s]"
     ]
    },
    {
     "name": "stdout",
     "output_type": "stream",
     "text": [
      "\u001b[7m\u001b[31;1m ERROR \u001b[0m\u001b[31;1m No entry in quote with quote_compound=1917!\u001b[0m\n",
      "\u001b[7m\u001b[32;1m SUCCESS \u001b[0m\u001b[32;1m Found solution for compound=C1917!\u001b[0m\n",
      "\u001b[7m\u001b[31;1m ERROR \u001b[0m\u001b[31;1m No entry in quote with quote_compound=1965!\u001b[0m\n",
      "\u001b[7m\u001b[31;1m ERROR \u001b[0m\u001b[31;1m Reactants not available for reaction=\u001b[1m\u001b[4mR4: C4429 + C4430 -> C1965 via Buchwald-Hartwig_amination\u001b[22m\u001b[24m!\u001b[0m\n",
      "\u001b[7m\u001b[31;1m ERROR \u001b[0m\u001b[31;1m No solutions for compound=C1965!\u001b[0m\n",
      "\u001b[7m\u001b[31;1m ERROR \u001b[0m\u001b[31;1m No entry in quote with quote_compound=2138!\u001b[0m\n",
      "\u001b[7m\u001b[31;1m ERROR \u001b[0m\u001b[31;1m Reactants not available for reaction=\u001b[1m\u001b[4mR52: C4494 + C4495 -> C2138 via Sp2-sp2_Suzuki_coupling\u001b[22m\u001b[24m!\u001b[0m\n",
      "\u001b[7m\u001b[31;1m ERROR \u001b[0m\u001b[31;1m No entry in quote with quote_compound=2138!\u001b[0m\n",
      "\u001b[7m\u001b[31;1m ERROR \u001b[0m\u001b[31;1m Reactants not available for reaction=\u001b[1m\u001b[4mR53: C4494 + C4496 -> C2138 via Sp2-sp2_Suzuki_coupling\u001b[22m\u001b[24m!\u001b[0m\n",
      "\u001b[7m\u001b[31;1m ERROR \u001b[0m\u001b[31;1m No solutions for compound=C2138!\u001b[0m\n"
     ]
    },
    {
     "name": "stderr",
     "output_type": "stream",
     "text": [
      " 55%|█████▌    | 42/76 [00:02<00:01, 18.72it/s]"
     ]
    },
    {
     "name": "stdout",
     "output_type": "stream",
     "text": [
      "\u001b[7m\u001b[31;1m ERROR \u001b[0m\u001b[31;1m No entry in quote with quote_compound=2186!\u001b[0m\n",
      "\u001b[7m\u001b[31;1m ERROR \u001b[0m\u001b[31;1m Reactants not available for reaction=\u001b[1m\u001b[4mR90: C4442 + C4540 -> C2186 via Ester_amidation\u001b[22m\u001b[24m!\u001b[0m\n",
      "\u001b[7m\u001b[31;1m ERROR \u001b[0m\u001b[31;1m No solutions for compound=C2186!\u001b[0m\n",
      "\u001b[7m\u001b[31;1m ERROR \u001b[0m\u001b[31;1m No entry in quote with quote_compound=2188!\u001b[0m\n",
      "\u001b[7m\u001b[31;1m ERROR \u001b[0m\u001b[31;1m Reactants not available for reaction=\u001b[1m\u001b[4mR25: C4443 + C4462 -> C2188 via Amidation\u001b[22m\u001b[24m!\u001b[0m\n",
      "\u001b[7m\u001b[31;1m ERROR \u001b[0m\u001b[31;1m No solutions for compound=C2188!\u001b[0m\n",
      "\u001b[7m\u001b[31;1m ERROR \u001b[0m\u001b[31;1m No entry in quote with quote_compound=2207!\u001b[0m\n",
      "\u001b[7m\u001b[31;1m ERROR \u001b[0m\u001b[31;1m Reactants not available for reaction=\u001b[1m\u001b[4mR91: C4541 + C4542 -> C2207 via Reductive_amination\u001b[22m\u001b[24m!\u001b[0m\n",
      "\u001b[7m\u001b[31;1m ERROR \u001b[0m\u001b[31;1m No solutions for compound=C2207!\u001b[0m\n",
      "\u001b[7m\u001b[31;1m ERROR \u001b[0m\u001b[31;1m No entry in quote with quote_compound=2300!\u001b[0m\n",
      "\u001b[7m\u001b[31;1m ERROR \u001b[0m\u001b[31;1m No entry in quote with quote_compound=4456!\u001b[0m\n",
      "\u001b[7m\u001b[31;1m ERROR \u001b[0m\u001b[31;1m Reactants not available for reaction=\u001b[1m\u001b[4mR21: C4454 + C4457 -> C4456 via Amidation\u001b[22m\u001b[24m!\u001b[0m\n",
      "\u001b[7m\u001b[31;1m ERROR \u001b[0m\u001b[31;1m 0 recipes with prices, can't choose cheapest!\u001b[0m\n",
      "\u001b[7m\u001b[31;1m ERROR \u001b[0m\u001b[31;1m No solutions for compound=C2300!\u001b[0m\n"
     ]
    },
    {
     "name": "stderr",
     "output_type": "stream",
     "text": [
      " 61%|██████    | 46/76 [00:02<00:01, 20.84it/s]"
     ]
    },
    {
     "name": "stdout",
     "output_type": "stream",
     "text": [
      "\u001b[7m\u001b[31;1m ERROR \u001b[0m\u001b[31;1m No entry in quote with quote_compound=2311!\u001b[0m\n",
      "\u001b[7m\u001b[31;1m ERROR \u001b[0m\u001b[31;1m Reactants not available for reaction=\u001b[1m\u001b[4mR84: C4532 + C4533 -> C2311 via Nucleophilic_substitution_with_amine\u001b[22m\u001b[24m!\u001b[0m\n",
      "\u001b[7m\u001b[31;1m ERROR \u001b[0m\u001b[31;1m No solutions for compound=C2311!\u001b[0m\n",
      "\u001b[7m\u001b[31;1m ERROR \u001b[0m\u001b[31;1m No entry in quote with quote_compound=2619!\u001b[0m\n",
      "\u001b[7m\u001b[31;1m ERROR \u001b[0m\u001b[31;1m Reactants not available for reaction=\u001b[1m\u001b[4mR13: C4441 + C4443 -> C2619 via Amidation\u001b[22m\u001b[24m!\u001b[0m\n",
      "\u001b[7m\u001b[31;1m ERROR \u001b[0m\u001b[31;1m No solutions for compound=C2619!\u001b[0m\n",
      "\u001b[7m\u001b[31;1m ERROR \u001b[0m\u001b[31;1m No entry in quote with quote_compound=2916!\u001b[0m\n",
      "\u001b[7m\u001b[32;1m SUCCESS \u001b[0m\u001b[32;1m Found solution for compound=C2916!\u001b[0m\n",
      "\u001b[7m\u001b[31;1m ERROR \u001b[0m\u001b[31;1m No entry in quote with quote_compound=2919!\u001b[0m\n",
      "\u001b[7m\u001b[31;1m ERROR \u001b[0m\u001b[31;1m Reactants not available for reaction=\u001b[1m\u001b[4mR99: C4439 + C4549 -> C2919 via Amidation\u001b[22m\u001b[24m!\u001b[0m\n",
      "\u001b[7m\u001b[31;1m ERROR \u001b[0m\u001b[31;1m No solutions for compound=C2919!\u001b[0m\n"
     ]
    },
    {
     "name": "stderr",
     "output_type": "stream",
     "text": [
      " 66%|██████▌   | 50/76 [00:03<00:01, 23.54it/s]"
     ]
    },
    {
     "name": "stdout",
     "output_type": "stream",
     "text": [
      "\u001b[7m\u001b[31;1m ERROR \u001b[0m\u001b[31;1m No entry in quote with quote_compound=2924!\u001b[0m\n",
      "\u001b[7m\u001b[31;1m ERROR \u001b[0m\u001b[31;1m Reactants not available for reaction=\u001b[1m\u001b[4mR117: C3983 + C4571 -> C2924 via Ester_amidation\u001b[22m\u001b[24m!\u001b[0m\n",
      "\u001b[7m\u001b[31;1m ERROR \u001b[0m\u001b[31;1m No entry in quote with quote_compound=2924!\u001b[0m\n",
      "\u001b[7m\u001b[31;1m ERROR \u001b[0m\u001b[31;1m Reactants not available for reaction=\u001b[1m\u001b[4mR118: C3983 + C4528 -> C2924 via Ester_amidation\u001b[22m\u001b[24m!\u001b[0m\n",
      "\u001b[7m\u001b[31;1m ERROR \u001b[0m\u001b[31;1m No solutions for compound=C2924!\u001b[0m\n",
      "\u001b[7m\u001b[31;1m ERROR \u001b[0m\u001b[31;1m No entry in quote with quote_compound=2925!\u001b[0m\n",
      "\u001b[7m\u001b[32;1m SUCCESS \u001b[0m\u001b[32;1m Found solution for compound=C2925!\u001b[0m\n",
      "\u001b[7m\u001b[31;1m ERROR \u001b[0m\u001b[31;1m No entry in quote with quote_compound=2944!\u001b[0m\n",
      "\u001b[7m\u001b[31;1m ERROR \u001b[0m\u001b[31;1m Reactants not available for reaction=\u001b[1m\u001b[4mR11: C4423 + C4439 -> C2944 via Amidation\u001b[22m\u001b[24m!\u001b[0m\n",
      "\u001b[7m\u001b[31;1m ERROR \u001b[0m\u001b[31;1m No solutions for compound=C2944!\u001b[0m\n"
     ]
    },
    {
     "name": "stderr",
     "output_type": "stream",
     "text": [
      " 70%|██████▉   | 53/76 [00:03<00:00, 23.56it/s]"
     ]
    },
    {
     "name": "stdout",
     "output_type": "stream",
     "text": [
      "\u001b[7m\u001b[31;1m ERROR \u001b[0m\u001b[31;1m No entry in quote with quote_compound=2947!\u001b[0m\n",
      "\u001b[7m\u001b[31;1m ERROR \u001b[0m\u001b[31;1m Reactants not available for reaction=\u001b[1m\u001b[4mR65: C4439 + C4513 -> C2947 via Amidation\u001b[22m\u001b[24m!\u001b[0m\n",
      "\u001b[7m\u001b[31;1m ERROR \u001b[0m\u001b[31;1m No solutions for compound=C2947!\u001b[0m\n",
      "\u001b[7m\u001b[31;1m ERROR \u001b[0m\u001b[31;1m No entry in quote with quote_compound=3204!\u001b[0m\n",
      "\u001b[7m\u001b[31;1m ERROR \u001b[0m\u001b[31;1m Reactants not available for reaction=\u001b[1m\u001b[4mR39: C4445 + C4481 -> C3204 via Sp2-sp2_Suzuki_coupling\u001b[22m\u001b[24m!\u001b[0m\n",
      "\u001b[7m\u001b[31;1m ERROR \u001b[0m\u001b[31;1m No entry in quote with quote_compound=3204!\u001b[0m\n",
      "\u001b[7m\u001b[31;1m ERROR \u001b[0m\u001b[31;1m Reactants not available for reaction=\u001b[1m\u001b[4mR40: C4447 + C4481 -> C3204 via Sp2-sp2_Suzuki_coupling\u001b[22m\u001b[24m!\u001b[0m\n",
      "\u001b[7m\u001b[31;1m ERROR \u001b[0m\u001b[31;1m No entry in quote with quote_compound=3204!\u001b[0m\n",
      "\u001b[7m\u001b[31;1m ERROR \u001b[0m\u001b[31;1m Reactants not available for reaction=\u001b[1m\u001b[4mR41: C4447 + C4482 -> C3204 via Sp2-sp2_Suzuki_coupling\u001b[22m\u001b[24m!\u001b[0m\n",
      "\u001b[7m\u001b[31;1m ERROR \u001b[0m\u001b[31;1m No entry in quote with quote_compound=3204!\u001b[0m\n",
      "\u001b[7m\u001b[31;1m ERROR \u001b[0m\u001b[31;1m Reactants not available for reaction=\u001b[1m\u001b[4mR42: C4445 + C4482 -> C3204 via Sp2-sp2_Suzuki_coupling\u001b[22m\u001b[24m!\u001b[0m\n",
      "\u001b[7m\u001b[31;1m ERROR \u001b[0m\u001b[31;1m No solutions for compound=C3204!\u001b[0m\n",
      "\u001b[7m\u001b[31;1m ERROR \u001b[0m\u001b[31;1m No entry in quote with quote_compound=3264!\u001b[0m\n",
      "\u001b[7m\u001b[31;1m ERROR \u001b[0m\u001b[31;1m No entry in quote with quote_compound=4567!\u001b[0m\n",
      "\u001b[7m\u001b[31;1m ERROR \u001b[0m\u001b[31;1m Reactants not available for reaction=\u001b[1m\u001b[4mR113: C4565 + C4566 -> C4567 via Nucleophilic_substitution_with_amine\u001b[22m\u001b[24m!\u001b[0m\n",
      "\u001b[7m\u001b[31;1m ERROR \u001b[0m\u001b[31;1m 0 recipes with prices, can't choose cheapest!\u001b[0m\n",
      "\u001b[7m\u001b[31;1m ERROR \u001b[0m\u001b[31;1m No entry in quote with quote_compound=3264!\u001b[0m\n",
      "\u001b[7m\u001b[31;1m ERROR \u001b[0m\u001b[31;1m No entry in quote with quote_compound=4567!\u001b[0m\n",
      "\u001b[7m\u001b[31;1m ERROR \u001b[0m\u001b[31;1m Reactants not available for reaction=\u001b[1m\u001b[4mR113: C4565 + C4566 -> C4567 via Nucleophilic_substitution_with_amine\u001b[22m\u001b[24m!\u001b[0m\n",
      "\u001b[7m\u001b[31;1m ERROR \u001b[0m\u001b[31;1m 0 recipes with prices, can't choose cheapest!\u001b[0m\n",
      "\u001b[7m\u001b[31;1m ERROR \u001b[0m\u001b[31;1m No solutions for compound=C3264!\u001b[0m\n"
     ]
    },
    {
     "name": "stderr",
     "output_type": "stream",
     "text": [
      " 74%|███████▎  | 56/76 [00:03<00:01, 18.17it/s]"
     ]
    },
    {
     "name": "stdout",
     "output_type": "stream",
     "text": [
      "\u001b[7m\u001b[31;1m ERROR \u001b[0m\u001b[31;1m No entry in quote with quote_compound=3269!\u001b[0m\n",
      "\u001b[7m\u001b[31;1m ERROR \u001b[0m\u001b[31;1m Reactants not available for reaction=\u001b[1m\u001b[4mR95: C4445 + C4547 -> C3269 via Sp2-sp2_Suzuki_coupling\u001b[22m\u001b[24m!\u001b[0m\n",
      "\u001b[7m\u001b[31;1m ERROR \u001b[0m\u001b[31;1m No entry in quote with quote_compound=3269!\u001b[0m\n",
      "\u001b[7m\u001b[31;1m ERROR \u001b[0m\u001b[31;1m Reactants not available for reaction=\u001b[1m\u001b[4mR96: C4445 + C4548 -> C3269 via Sp2-sp2_Suzuki_coupling\u001b[22m\u001b[24m!\u001b[0m\n",
      "\u001b[7m\u001b[31;1m ERROR \u001b[0m\u001b[31;1m No entry in quote with quote_compound=3269!\u001b[0m\n",
      "\u001b[7m\u001b[31;1m ERROR \u001b[0m\u001b[31;1m Reactants not available for reaction=\u001b[1m\u001b[4mR97: C4447 + C4548 -> C3269 via Sp2-sp2_Suzuki_coupling\u001b[22m\u001b[24m!\u001b[0m\n",
      "\u001b[7m\u001b[31;1m ERROR \u001b[0m\u001b[31;1m No entry in quote with quote_compound=3269!\u001b[0m\n",
      "\u001b[7m\u001b[31;1m ERROR \u001b[0m\u001b[31;1m Reactants not available for reaction=\u001b[1m\u001b[4mR98: C4447 + C4547 -> C3269 via Sp2-sp2_Suzuki_coupling\u001b[22m\u001b[24m!\u001b[0m\n",
      "\u001b[7m\u001b[31;1m ERROR \u001b[0m\u001b[31;1m No solutions for compound=C3269!\u001b[0m\n",
      "\u001b[7m\u001b[31;1m ERROR \u001b[0m\u001b[31;1m No entry in quote with quote_compound=3284!\u001b[0m\n",
      "\u001b[7m\u001b[31;1m ERROR \u001b[0m\u001b[31;1m No entry in quote with quote_compound=3284!\u001b[0m\n",
      "\u001b[7m\u001b[38;5;166m\u001b[1m Warning \u001b[0m\u001b[38;5;166m Multiple solutions for compound=C3284\u001b[0m\n",
      "\u001b[7m\u001b[32;1m SUCCESS \u001b[0m\u001b[32;1m Found solution for compound=C3284!\u001b[0m\n",
      "\u001b[7m\u001b[31;1m ERROR \u001b[0m\u001b[31;1m No entry in quote with quote_compound=3344!\u001b[0m\n",
      "\u001b[7m\u001b[31;1m ERROR \u001b[0m\u001b[31;1m Reactants not available for reaction=\u001b[1m\u001b[4mR28: C4443 + C4465 -> C3344 via Amidation\u001b[22m\u001b[24m!\u001b[0m\n",
      "\u001b[7m\u001b[31;1m ERROR \u001b[0m\u001b[31;1m No solutions for compound=C3344!\u001b[0m\n"
     ]
    },
    {
     "name": "stderr",
     "output_type": "stream",
     "text": [
      " 78%|███████▊  | 59/76 [00:03<00:01, 16.75it/s]"
     ]
    },
    {
     "name": "stdout",
     "output_type": "stream",
     "text": [
      "\u001b[7m\u001b[31;1m ERROR \u001b[0m\u001b[31;1m No entry in quote with quote_compound=3611!\u001b[0m\n",
      "\u001b[7m\u001b[31;1m ERROR \u001b[0m\u001b[31;1m Reactants not available for reaction=\u001b[1m\u001b[4mR55: C4498 + C4499 -> C3611 via N-nucleophilic_aromatic_substitution\u001b[22m\u001b[24m!\u001b[0m\n",
      "\u001b[7m\u001b[31;1m ERROR \u001b[0m\u001b[31;1m No solutions for compound=C3611!\u001b[0m\n",
      "\u001b[7m\u001b[31;1m ERROR \u001b[0m\u001b[31;1m No entry in quote with quote_compound=3624!\u001b[0m\n",
      "\u001b[7m\u001b[32;1m SUCCESS \u001b[0m\u001b[32;1m Found solution for compound=C3624!\u001b[0m\n",
      "\u001b[7m\u001b[31;1m ERROR \u001b[0m\u001b[31;1m No entry in quote with quote_compound=3625!\u001b[0m\n",
      "\u001b[7m\u001b[32;1m SUCCESS \u001b[0m\u001b[32;1m Found solution for compound=C3625!\u001b[0m\n"
     ]
    },
    {
     "name": "stderr",
     "output_type": "stream",
     "text": [
      " 82%|████████▏ | 62/76 [00:03<00:00, 19.01it/s]"
     ]
    },
    {
     "name": "stdout",
     "output_type": "stream",
     "text": [
      "\u001b[7m\u001b[31;1m ERROR \u001b[0m\u001b[31;1m No entry in quote with quote_compound=3627!\u001b[0m\n",
      "\u001b[7m\u001b[31;1m ERROR \u001b[0m\u001b[31;1m Reactants not available for reaction=\u001b[1m\u001b[4mR100: C4452 + C4550 -> C3627 via Ester_amidation\u001b[22m\u001b[24m!\u001b[0m\n",
      "\u001b[7m\u001b[31;1m ERROR \u001b[0m\u001b[31;1m No solutions for compound=C3627!\u001b[0m\n",
      "\u001b[7m\u001b[31;1m ERROR \u001b[0m\u001b[31;1m No entry in quote with quote_compound=3628!\u001b[0m\n",
      "\u001b[7m\u001b[32;1m SUCCESS \u001b[0m\u001b[32;1m Found solution for compound=C3628!\u001b[0m\n",
      "\u001b[7m\u001b[31;1m ERROR \u001b[0m\u001b[31;1m No entry in quote with quote_compound=3632!\u001b[0m\n",
      "\u001b[7m\u001b[31;1m ERROR \u001b[0m\u001b[31;1m Reactants not available for reaction=\u001b[1m\u001b[4mR19: C4452 + C4453 -> C3632 via Amidation\u001b[22m\u001b[24m!\u001b[0m\n",
      "\u001b[7m\u001b[31;1m ERROR \u001b[0m\u001b[31;1m No solutions for compound=C3632!\u001b[0m\n"
     ]
    },
    {
     "name": "stderr",
     "output_type": "stream",
     "text": [
      " 86%|████████▌ | 65/76 [00:03<00:00, 21.26it/s]"
     ]
    },
    {
     "name": "stdout",
     "output_type": "stream",
     "text": [
      "\u001b[7m\u001b[31;1m ERROR \u001b[0m\u001b[31;1m No entry in quote with quote_compound=3653!\u001b[0m\n",
      "\u001b[7m\u001b[31;1m ERROR \u001b[0m\u001b[31;1m Reactants not available for reaction=\u001b[1m\u001b[4mR44: C4452 + C4484 -> C3653 via N-nucleophilic_aromatic_substitution\u001b[22m\u001b[24m!\u001b[0m\n",
      "\u001b[7m\u001b[31;1m ERROR \u001b[0m\u001b[31;1m No solutions for compound=C3653!\u001b[0m\n",
      "\u001b[7m\u001b[31;1m ERROR \u001b[0m\u001b[31;1m No entry in quote with quote_compound=3668!\u001b[0m\n",
      "\u001b[7m\u001b[31;1m ERROR \u001b[0m\u001b[31;1m Reactants not available for reaction=\u001b[1m\u001b[4mR66: C3755 + C4514 -> C3668 via Ester_amidation\u001b[22m\u001b[24m!\u001b[0m\n",
      "\u001b[7m\u001b[31;1m ERROR \u001b[0m\u001b[31;1m No entry in quote with quote_compound=3668!\u001b[0m\n",
      "\u001b[7m\u001b[31;1m ERROR \u001b[0m\u001b[31;1m Reactants not available for reaction=\u001b[1m\u001b[4mR67: C3755 + C4515 -> C3668 via Ester_amidation\u001b[22m\u001b[24m!\u001b[0m\n",
      "\u001b[7m\u001b[31;1m ERROR \u001b[0m\u001b[31;1m No entry in quote with quote_compound=3668!\u001b[0m\n",
      "\u001b[7m\u001b[31;1m ERROR \u001b[0m\u001b[31;1m Reactants not available for reaction=\u001b[1m\u001b[4mR68: C3755 + C4516 -> C3668 via Ester_amidation\u001b[22m\u001b[24m!\u001b[0m\n",
      "\u001b[7m\u001b[31;1m ERROR \u001b[0m\u001b[31;1m No entry in quote with quote_compound=3668!\u001b[0m\n",
      "\u001b[7m\u001b[31;1m ERROR \u001b[0m\u001b[31;1m Reactants not available for reaction=\u001b[1m\u001b[4mR69: C3755 + C4517 -> C3668 via Ester_amidation\u001b[22m\u001b[24m!\u001b[0m\n",
      "\u001b[7m\u001b[31;1m ERROR \u001b[0m\u001b[31;1m No entry in quote with quote_compound=3668!\u001b[0m\n",
      "\u001b[7m\u001b[31;1m ERROR \u001b[0m\u001b[31;1m Reactants not available for reaction=\u001b[1m\u001b[4mR70: C3755 + C4518 -> C3668 via Ester_amidation\u001b[22m\u001b[24m!\u001b[0m\n",
      "\u001b[7m\u001b[31;1m ERROR \u001b[0m\u001b[31;1m No entry in quote with quote_compound=3668!\u001b[0m\n",
      "\u001b[7m\u001b[31;1m ERROR \u001b[0m\u001b[31;1m Reactants not available for reaction=\u001b[1m\u001b[4mR71: C3755 + C4519 -> C3668 via Ester_amidation\u001b[22m\u001b[24m!\u001b[0m\n",
      "\u001b[7m\u001b[31;1m ERROR \u001b[0m\u001b[31;1m No entry in quote with quote_compound=3668!\u001b[0m\n",
      "\u001b[7m\u001b[31;1m ERROR \u001b[0m\u001b[31;1m Reactants not available for reaction=\u001b[1m\u001b[4mR72: C3755 + C4520 -> C3668 via Ester_amidation\u001b[22m\u001b[24m!\u001b[0m\n",
      "\u001b[7m\u001b[31;1m ERROR \u001b[0m\u001b[31;1m No entry in quote with quote_compound=3668!\u001b[0m\n",
      "\u001b[7m\u001b[31;1m ERROR \u001b[0m\u001b[31;1m Reactants not available for reaction=\u001b[1m\u001b[4mR73: C3755 + C4521 -> C3668 via Ester_amidation\u001b[22m\u001b[24m!\u001b[0m\n",
      "\u001b[7m\u001b[31;1m ERROR \u001b[0m\u001b[31;1m No entry in quote with quote_compound=3668!\u001b[0m\n",
      "\u001b[7m\u001b[31;1m ERROR \u001b[0m\u001b[31;1m Reactants not available for reaction=\u001b[1m\u001b[4mR74: C3755 + C4522 -> C3668 via Ester_amidation\u001b[22m\u001b[24m!\u001b[0m\n",
      "\u001b[7m\u001b[31;1m ERROR \u001b[0m\u001b[31;1m No entry in quote with quote_compound=3668!\u001b[0m\n",
      "\u001b[7m\u001b[31;1m ERROR \u001b[0m\u001b[31;1m Reactants not available for reaction=\u001b[1m\u001b[4mR75: C3755 + C4523 -> C3668 via Ester_amidation\u001b[22m\u001b[24m!\u001b[0m\n",
      "\u001b[7m\u001b[31;1m ERROR \u001b[0m\u001b[31;1m No entry in quote with quote_compound=3668!\u001b[0m\n",
      "\u001b[7m\u001b[31;1m ERROR \u001b[0m\u001b[31;1m Reactants not available for reaction=\u001b[1m\u001b[4mR76: C3755 + C4524 -> C3668 via Ester_amidation\u001b[22m\u001b[24m!\u001b[0m\n",
      "\u001b[7m\u001b[31;1m ERROR \u001b[0m\u001b[31;1m No entry in quote with quote_compound=3668!\u001b[0m\n",
      "\u001b[7m\u001b[31;1m ERROR \u001b[0m\u001b[31;1m Reactants not available for reaction=\u001b[1m\u001b[4mR77: C3755 + C4525 -> C3668 via Ester_amidation\u001b[22m\u001b[24m!\u001b[0m\n",
      "\u001b[7m\u001b[31;1m ERROR \u001b[0m\u001b[31;1m No entry in quote with quote_compound=3668!\u001b[0m\n",
      "\u001b[7m\u001b[31;1m ERROR \u001b[0m\u001b[31;1m Reactants not available for reaction=\u001b[1m\u001b[4mR78: C3755 + C4526 -> C3668 via Ester_amidation\u001b[22m\u001b[24m!\u001b[0m\n",
      "\u001b[7m\u001b[31;1m ERROR \u001b[0m\u001b[31;1m No entry in quote with quote_compound=3668!\u001b[0m\n",
      "\u001b[7m\u001b[31;1m ERROR \u001b[0m\u001b[31;1m Reactants not available for reaction=\u001b[1m\u001b[4mR79: C3755 + C4527 -> C3668 via Ester_amidation\u001b[22m\u001b[24m!\u001b[0m\n",
      "\u001b[7m\u001b[31;1m ERROR \u001b[0m\u001b[31;1m No entry in quote with quote_compound=3668!\u001b[0m\n",
      "\u001b[7m\u001b[31;1m ERROR \u001b[0m\u001b[31;1m Reactants not available for reaction=\u001b[1m\u001b[4mR80: C3755 + C4528 -> C3668 via Ester_amidation\u001b[22m\u001b[24m!\u001b[0m\n",
      "\u001b[7m\u001b[31;1m ERROR \u001b[0m\u001b[31;1m No entry in quote with quote_compound=3668!\u001b[0m\n",
      "\u001b[7m\u001b[31;1m ERROR \u001b[0m\u001b[31;1m Reactants not available for reaction=\u001b[1m\u001b[4mR81: C3755 + C4529 -> C3668 via Ester_amidation\u001b[22m\u001b[24m!\u001b[0m\n",
      "\u001b[7m\u001b[31;1m ERROR \u001b[0m\u001b[31;1m No solutions for compound=C3668!\u001b[0m\n",
      "\u001b[7m\u001b[31;1m ERROR \u001b[0m\u001b[31;1m No entry in quote with quote_compound=3830!\u001b[0m\n",
      "\u001b[7m\u001b[31;1m ERROR \u001b[0m\u001b[31;1m Reactants not available for reaction=\u001b[1m\u001b[4mR107: C4449 + C4561 -> C3830 via Amidation\u001b[22m\u001b[24m!\u001b[0m\n",
      "\u001b[7m\u001b[31;1m ERROR \u001b[0m\u001b[31;1m No solutions for compound=C3830!\u001b[0m\n"
     ]
    },
    {
     "name": "stderr",
     "output_type": "stream",
     "text": [
      " 89%|████████▉ | 68/76 [00:04<00:00, 12.39it/s]"
     ]
    },
    {
     "name": "stdout",
     "output_type": "stream",
     "text": [
      "\u001b[7m\u001b[31;1m ERROR \u001b[0m\u001b[31;1m No entry in quote with quote_compound=76982!\u001b[0m\n",
      "\u001b[7m\u001b[32;1m SUCCESS \u001b[0m\u001b[32;1m Found solution for compound=C76982!\u001b[0m\n",
      "\u001b[7m\u001b[31;1m ERROR \u001b[0m\u001b[31;1m No entry in quote with quote_compound=76984!\u001b[0m\n",
      "\u001b[7m\u001b[32;1m SUCCESS \u001b[0m\u001b[32;1m Found solution for compound=C76984!\u001b[0m\n",
      "\u001b[7m\u001b[31;1m ERROR \u001b[0m\u001b[31;1m No entry in quote with quote_compound=76986!\u001b[0m\n",
      "\u001b[7m\u001b[31;1m ERROR \u001b[0m\u001b[31;1m Reactants not available for reaction=\u001b[1m\u001b[4mR63377: C85 + C76985 -> C76986 via Buchwald-Hartwig_amidation_with_amide-like_nucleophile\u001b[22m\u001b[24m!\u001b[0m\n",
      "\u001b[7m\u001b[31;1m ERROR \u001b[0m\u001b[31;1m No solutions for compound=C76986!\u001b[0m\n"
     ]
    },
    {
     "name": "stderr",
     "output_type": "stream",
     "text": [
      " 93%|█████████▎| 71/76 [00:04<00:00, 14.76it/s]"
     ]
    },
    {
     "name": "stdout",
     "output_type": "stream",
     "text": [
      "\u001b[7m\u001b[31;1m ERROR \u001b[0m\u001b[31;1m No entry in quote with quote_compound=76988!\u001b[0m\n",
      "\u001b[7m\u001b[31;1m ERROR \u001b[0m\u001b[31;1m Reactants not available for reaction=\u001b[1m\u001b[4mR63378: C85 + C76987 -> C76988 via Buchwald-Hartwig_amidation_with_amide-like_nucleophile\u001b[22m\u001b[24m!\u001b[0m\n",
      "\u001b[7m\u001b[31;1m ERROR \u001b[0m\u001b[31;1m No solutions for compound=C76988!\u001b[0m\n",
      "\u001b[7m\u001b[31;1m ERROR \u001b[0m\u001b[31;1m No entry in quote with quote_compound=76990!\u001b[0m\n",
      "\u001b[7m\u001b[32;1m SUCCESS \u001b[0m\u001b[32;1m Found solution for compound=C76990!\u001b[0m\n",
      "\u001b[7m\u001b[31;1m ERROR \u001b[0m\u001b[31;1m No entry in quote with quote_compound=76992!\u001b[0m\n",
      "\u001b[7m\u001b[31;1m ERROR \u001b[0m\u001b[31;1m Reactants not available for reaction=\u001b[1m\u001b[4mR63380: C85 + C76991 -> C76992 via Buchwald-Hartwig_amidation_with_amide-like_nucleophile\u001b[22m\u001b[24m!\u001b[0m\n",
      "\u001b[7m\u001b[31;1m ERROR \u001b[0m\u001b[31;1m No solutions for compound=C76992!\u001b[0m\n",
      "\u001b[7m\u001b[31;1m ERROR \u001b[0m\u001b[31;1m No entry in quote with quote_compound=76994!\u001b[0m\n",
      "\u001b[7m\u001b[32;1m SUCCESS \u001b[0m\u001b[32;1m Found solution for compound=C76994!\u001b[0m\n"
     ]
    },
    {
     "name": "stderr",
     "output_type": "stream",
     "text": [
      " 99%|█████████▊| 75/76 [00:04<00:00, 17.92it/s]"
     ]
    },
    {
     "name": "stdout",
     "output_type": "stream",
     "text": [
      "\u001b[7m\u001b[31;1m ERROR \u001b[0m\u001b[31;1m No entry in quote with quote_compound=76996!\u001b[0m\n",
      "\u001b[7m\u001b[32;1m SUCCESS \u001b[0m\u001b[32;1m Found solution for compound=C76996!\u001b[0m\n"
     ]
    },
    {
     "name": "stderr",
     "output_type": "stream",
     "text": [
      "100%|██████████| 76/76 [00:04<00:00, 16.19it/s]"
     ]
    },
    {
     "name": "stdout",
     "output_type": "stream",
     "text": [
      "Solving recipe combinations...\n",
      "Combining recipes...\n"
     ]
    },
    {
     "name": "stderr",
     "output_type": "stream",
     "text": [
      "\n",
      "100%|██████████| 1/1 [00:00<00:00, 38.71it/s]"
     ]
    },
    {
     "name": "stdout",
     "output_type": "stream",
     "text": [
      "Picking cheapest...\n",
      "CPU times: user 4.19 s, sys: 496 ms, total: 4.69 s\n",
      "Wall time: 4.74 s\n"
     ]
    },
    {
     "name": "stderr",
     "output_type": "stream",
     "text": [
      "\n"
     ]
    }
   ],
   "source": [
    "%%time\n",
    "recipe = hippo.Recipe.from_compounds(selection, pick_cheapest_inner_routes=True, supplier='Enamine', quoted_only=True, debug=False)"
   ]
  },
  {
   "cell_type": "code",
   "execution_count": 40,
   "id": "3f885e67-373a-41f1-9316-8f6190921c28",
   "metadata": {
    "scrolled": true
   },
   "outputs": [],
   "source": [
    "# recipe.write_CAR_csv('CHIKV_15bases_chemistry.csv',return_df=True)"
   ]
  },
  {
   "cell_type": "code",
   "execution_count": 9,
   "id": "de765804-e16b-4596-9d36-aac09ac866d9",
   "metadata": {},
   "outputs": [
    {
     "name": "stdout",
     "output_type": "stream",
     "text": [
      "\u001b[7m\u001b[31;1m ERROR \u001b[0m\u001b[31;1m No entry in quote with quote_compound=93!\u001b[0m\n",
      "\u001b[7m\u001b[31;1m ERROR \u001b[0m\u001b[31;1m No entry in quote with quote_compound=93!\u001b[0m\n",
      "\u001b[7m\u001b[31;1m ERROR \u001b[0m\u001b[31;1m No entry in quote with quote_compound=95!\u001b[0m\n",
      "\u001b[7m\u001b[31;1m ERROR \u001b[0m\u001b[31;1m No entry in quote with quote_compound=95!\u001b[0m\n",
      "\u001b[7m\u001b[31;1m ERROR \u001b[0m\u001b[31;1m No entry in quote with quote_compound=104!\u001b[0m\n",
      "\u001b[7m\u001b[31;1m ERROR \u001b[0m\u001b[31;1m No entry in quote with quote_compound=104!\u001b[0m\n",
      "\u001b[7m\u001b[31;1m ERROR \u001b[0m\u001b[31;1m No entry in quote with quote_compound=796!\u001b[0m\n",
      "\u001b[7m\u001b[31;1m ERROR \u001b[0m\u001b[31;1m No entry in quote with quote_compound=796!\u001b[0m\n",
      "\u001b[7m\u001b[31;1m ERROR \u001b[0m\u001b[31;1m No entry in quote with quote_compound=1001!\u001b[0m\n",
      "\u001b[7m\u001b[31;1m ERROR \u001b[0m\u001b[31;1m No entry in quote with quote_compound=1001!\u001b[0m\n",
      "\u001b[7m\u001b[31;1m ERROR \u001b[0m\u001b[31;1m No entry in quote with quote_compound=1128!\u001b[0m\n",
      "\u001b[7m\u001b[31;1m ERROR \u001b[0m\u001b[31;1m No entry in quote with quote_compound=1128!\u001b[0m\n",
      "\u001b[7m\u001b[31;1m ERROR \u001b[0m\u001b[31;1m No entry in quote with quote_compound=1316!\u001b[0m\n",
      "\u001b[7m\u001b[31;1m ERROR \u001b[0m\u001b[31;1m No entry in quote with quote_compound=1316!\u001b[0m\n",
      "\u001b[7m\u001b[31;1m ERROR \u001b[0m\u001b[31;1m No entry in quote with quote_compound=1473!\u001b[0m\n",
      "\u001b[7m\u001b[31;1m ERROR \u001b[0m\u001b[31;1m No entry in quote with quote_compound=1473!\u001b[0m\n",
      "\u001b[7m\u001b[31;1m ERROR \u001b[0m\u001b[31;1m No entry in quote with quote_compound=1917!\u001b[0m\n",
      "\u001b[7m\u001b[31;1m ERROR \u001b[0m\u001b[31;1m No entry in quote with quote_compound=1917!\u001b[0m\n",
      "\u001b[7m\u001b[31;1m ERROR \u001b[0m\u001b[31;1m No entry in quote with quote_compound=2916!\u001b[0m\n",
      "\u001b[7m\u001b[31;1m ERROR \u001b[0m\u001b[31;1m No entry in quote with quote_compound=2916!\u001b[0m\n",
      "\u001b[7m\u001b[31;1m ERROR \u001b[0m\u001b[31;1m No entry in quote with quote_compound=2925!\u001b[0m\n",
      "\u001b[7m\u001b[31;1m ERROR \u001b[0m\u001b[31;1m No entry in quote with quote_compound=2925!\u001b[0m\n",
      "\u001b[7m\u001b[31;1m ERROR \u001b[0m\u001b[31;1m No entry in quote with quote_compound=3284!\u001b[0m\n",
      "\u001b[7m\u001b[31;1m ERROR \u001b[0m\u001b[31;1m No entry in quote with quote_compound=3284!\u001b[0m\n",
      "\u001b[7m\u001b[31;1m ERROR \u001b[0m\u001b[31;1m No entry in quote with quote_compound=3624!\u001b[0m\n",
      "\u001b[7m\u001b[31;1m ERROR \u001b[0m\u001b[31;1m No entry in quote with quote_compound=3624!\u001b[0m\n",
      "\u001b[7m\u001b[31;1m ERROR \u001b[0m\u001b[31;1m No entry in quote with quote_compound=3625!\u001b[0m\n",
      "\u001b[7m\u001b[31;1m ERROR \u001b[0m\u001b[31;1m No entry in quote with quote_compound=3625!\u001b[0m\n",
      "\u001b[7m\u001b[31;1m ERROR \u001b[0m\u001b[31;1m No entry in quote with quote_compound=3628!\u001b[0m\n",
      "\u001b[7m\u001b[31;1m ERROR \u001b[0m\u001b[31;1m No entry in quote with quote_compound=3628!\u001b[0m\n",
      "\u001b[7m\u001b[31;1m ERROR \u001b[0m\u001b[31;1m No entry in quote with quote_compound=76982!\u001b[0m\n",
      "\u001b[7m\u001b[31;1m ERROR \u001b[0m\u001b[31;1m No entry in quote with quote_compound=76982!\u001b[0m\n",
      "\u001b[7m\u001b[31;1m ERROR \u001b[0m\u001b[31;1m No entry in quote with quote_compound=76984!\u001b[0m\n",
      "\u001b[7m\u001b[31;1m ERROR \u001b[0m\u001b[31;1m No entry in quote with quote_compound=76984!\u001b[0m\n",
      "\u001b[7m\u001b[31;1m ERROR \u001b[0m\u001b[31;1m No entry in quote with quote_compound=76990!\u001b[0m\n",
      "\u001b[7m\u001b[31;1m ERROR \u001b[0m\u001b[31;1m No entry in quote with quote_compound=76990!\u001b[0m\n",
      "\u001b[7m\u001b[31;1m ERROR \u001b[0m\u001b[31;1m No entry in quote with quote_compound=76994!\u001b[0m\n",
      "\u001b[7m\u001b[31;1m ERROR \u001b[0m\u001b[31;1m No entry in quote with quote_compound=76994!\u001b[0m\n",
      "\u001b[7m\u001b[31;1m ERROR \u001b[0m\u001b[31;1m No entry in quote with quote_compound=76996!\u001b[0m\n",
      "\u001b[7m\u001b[31;1m ERROR \u001b[0m\u001b[31;1m No entry in quote with quote_compound=76996!\u001b[0m\n",
      "writing \u001b[38;5;11mCHIKV_starting_recipe_sankey.html\u001b[0m ... \u001b[0mDone.\u001b[0m\n"
     ]
    }
   ],
   "source": [
    "fig = recipe.sankey()\n",
    "mp.write('CHIKV_starting_recipe_sankey.html',fig)"
   ]
  },
  {
   "cell_type": "code",
   "execution_count": 10,
   "id": "3a60c35c-c86d-44a2-9038-86fc48b6a1c5",
   "metadata": {},
   "outputs": [
    {
     "name": "stdout",
     "output_type": "stream",
     "text": [
      "\u001b[7m\u001b[1m\u001b[38;5;11m DISK \u001b[0m Writing \u001b[38;5;11mCHIKV_starting_recipe_yields.json\u001b[0m\n"
     ]
    }
   ],
   "source": [
    "recipe.write_json('CHIKV_starting_recipe_yields.json')"
   ]
  },
  {
   "cell_type": "markdown",
   "id": "fb0deab0-cd62-4495-9ef1-d99d39fb58af",
   "metadata": {},
   "source": [
    "## Export to Fragalysis"
   ]
  },
  {
   "cell_type": "code",
   "execution_count": null,
   "id": "02093142-f913-46cc-9ec4-6e4812857fb2",
   "metadata": {
    "scrolled": true
   },
   "outputs": [],
   "source": [
    "poses15.to_fragalysis('syndirella_scaffolds_15.sdf',\n",
    "                      method='Accessible FFF Scaffolds',\n",
    "                      submitter_name='Max Winokan',\n",
    "                      submitter_email='max.winokan@diamond.ac.uk',\n",
    "                      submitter_institution='DLS',\n",
    "                     )"
   ]
  },
  {
   "cell_type": "markdown",
   "id": "ec5ee44f-2ebc-4ff5-b168-e2ac26f99c21",
   "metadata": {
    "jp-MarkdownHeadingCollapsed": true
   },
   "source": [
    "## Sanity check products"
   ]
  },
  {
   "cell_type": "code",
   "execution_count": 235,
   "id": "bfd57d50-5a9b-4a03-845a-77f70c53b1d1",
   "metadata": {},
   "outputs": [],
   "source": [
    "prods = recipe.products"
   ]
  },
  {
   "cell_type": "code",
   "execution_count": null,
   "id": "8908fdb8-91bc-4ea4-8afe-14ac5e7a9485",
   "metadata": {},
   "outputs": [],
   "source": []
  },
  {
   "cell_type": "code",
   "execution_count": 236,
   "id": "8530a7eb-c573-4c90-a5ab-1b4f6cb19ee6",
   "metadata": {},
   "outputs": [
    {
     "name": "stdout",
     "output_type": "stream",
     "text": [
      "93 CCc1nc(NC(=O)c2ccnc(NC3CC=CC3)c2)no1 WXVLITNXXROEMR-UHFFFAOYSA-N \u001b[1m\u001b[4melaborations of C93: {C x 8}\u001b[22m\u001b[24m\n",
      "95 O=c1ccncn1CC1CCS(=O)(=O)C1 UGYMLSSIEIESGU-UHFFFAOYSA-N \u001b[1m\u001b[4melaborations of C95: {C x 952}\u001b[22m\u001b[24m\n",
      "104 Cn1c(N)nc2cccc(NCc3cccs3)c21 DGASNXVGKHJXGC-UHFFFAOYSA-N \u001b[1m\u001b[4melaborations of C104: {C x 1452}\u001b[22m\u001b[24m\n",
      "796 Nc1cc(-c2cc[nH]n2)cc2c1OCO2 RGWZNWCCBDMABV-UHFFFAOYSA-N \u001b[1m\u001b[4melaborations of C796: {C x 197}\u001b[22m\u001b[24m\n",
      "1001 COC(=O)c1cnc2[nH]cc(C)cc1-2 QZVYQICELPCZOV-UHFFFAOYSA-N None\n",
      "1128 CC(C)c1cccc2[nH]cnc12 DZVXXHSUENHLJH-UHFFFAOYSA-N \u001b[1m\u001b[4melaborations of C1128: {C x 1453}\u001b[22m\u001b[24m\n",
      "1316 CC1CN(C(=O)c2cccc(F)c2)CCN1 GEKAQEZWMKZGCA-UHFFFAOYSA-N \u001b[1m\u001b[4melaborations of C1316: {C x 1662}\u001b[22m\u001b[24m\n",
      "1473 CC(C)(C)c1cnc2ccccc2n1 MMXSHBZOILNLPJ-UHFFFAOYSA-N \u001b[1m\u001b[4melaborations of C1473: {C x 1352}\u001b[22m\u001b[24m\n",
      "1917 CCc1nc(Cn2ccc(Br)cc2=O)no1 QQERROZMPKKQER-UHFFFAOYSA-N \u001b[1m\u001b[4melaborations of C1917: {C x 803}\u001b[22m\u001b[24m\n",
      "2916 COCC(=O)Nc1cccc(C(=O)NCc2cccs2)c1 QVSYFXSEJNFZKD-UHFFFAOYSA-N \u001b[1m\u001b[4melaborations of C2916: {C x 1460}\u001b[22m\u001b[24m\n",
      "2925 Cc1cccc(O)c1Nc1ccccc1 XQWKZXHQRAAZAF-UHFFFAOYSA-N \u001b[1m\u001b[4melaborations of C2925: {C x 5434}\u001b[22m\u001b[24m\n",
      "3284 Oc1cc2c(cc1-c1ccn[nH]1)OCO2 DETJXFSIQJPJAJ-UHFFFAOYSA-N None\n",
      "3624 COCC(=O)Nc1ccc(O)cc1N XMHJIXAUMMKGLT-UHFFFAOYSA-N \u001b[1m\u001b[4melaborations of C3624: {C x 2282}\u001b[22m\u001b[24m\n",
      "3625 Cc1cccc(O)c1Nc1ccc(O)cc1 JXRCCCJCUJURBQ-UHFFFAOYSA-N \u001b[1m\u001b[4melaborations of C3625: {C x 5390}\u001b[22m\u001b[24m\n",
      "3628 Oc1ccc(Nc2ccncc2O)cc1 MIMRXPBJLOWRMN-UHFFFAOYSA-N \u001b[1m\u001b[4melaborations of C3628: {C x 5481}\u001b[22m\u001b[24m\n",
      "76982 O=C(Nc1noc(C2CC2)n1)c1ccnc(NC2CC=CC2)c1 RVONYHCTWCRDJF-UHFFFAOYSA-N None\n",
      "76984 CC(C)c1nc(NC(=O)c2ccnc(NC3CC=CC3)c2)no1 QYWGYJFOJRFRHH-UHFFFAOYSA-N None\n",
      "76990 O=C(Nc1noc(C2CCC2)n1)c1ccnc(NC2CC=CC2)c1 SFDTUZQHZKCPRN-UHFFFAOYSA-N None\n",
      "76994 CC1(c2nc(NC(=O)c3ccnc(NC4CC=CC4)c3)no2)CCOC1 KDAPNLCPIPSDQD-UHFFFAOYSA-N None\n",
      "76996 COC1(c2nc(NC(=O)c3ccnc(NC4CC=CC4)c3)no2)CCOC1 LRNNKMIDGWTQJR-UHFFFAOYSA-N None\n"
     ]
    }
   ],
   "source": [
    "for prod in prods:\n",
    "    print(prod.id, prod.smiles, prod.inchikey, prod.elabs)"
   ]
  },
  {
   "cell_type": "code",
   "execution_count": 188,
   "id": "e25133f7-a2ca-4aa5-819c-8802b8f1597f",
   "metadata": {},
   "outputs": [
    {
     "name": "stdout",
     "output_type": "stream",
     "text": [
      "\u001b[36m#compounds\u001b[0m = 1\u001b[0m\n",
      "Solving individual compound recipes...\n",
      "\u001b[7m\u001b[31;1m ERROR \u001b[0m\u001b[31;1m No entry in quote with quote_compound=92!\u001b[0m\n",
      "\u001b[7m\u001b[31;1m ERROR \u001b[0m\u001b[31;1m No entry in quote with quote_compound=4470!\u001b[0m\n",
      "\u001b[7m\u001b[32;1m SUCCESS \u001b[0m\u001b[32;1m Found solution for compound=C92!\u001b[0m\n",
      "Solving recipe combinations...\n",
      "Combining recipes...\n"
     ]
    },
    {
     "data": {
      "text/plain": [
       "[Recipe(\u001b[1m\u001b[4m{I x 2}\u001b[22m\u001b[24m --> \u001b[1m\u001b[4m{I x 1}\u001b[22m\u001b[24m via \u001b[1m\u001b[4m{R x 1}\u001b[22m\u001b[24m)]"
      ]
     },
     "execution_count": 188,
     "metadata": {},
     "output_type": "execute_result"
    }
   ],
   "source": [
    "c = animal.C92\n",
    "recipes = c.get_recipes()\n",
    "recipes"
   ]
  },
  {
   "cell_type": "code",
   "execution_count": 184,
   "id": "2c72449f-69ae-4824-9355-6ba3174af768",
   "metadata": {},
   "outputs": [
    {
     "data": {
      "application/vnd.jupyter.widget-view+json": {
       "model_id": "03c2b3105b894ef6be51213b348b8dd3",
       "version_major": 2,
       "version_minor": 0
      },
      "text/plain": [
       "VBox(children=(BoundedIntText(value=0, description='Comp (/76):', max=75), GridBox(children=(Checkbox(value=Tr…"
      ]
     },
     "metadata": {},
     "output_type": "display_data"
    },
    {
     "data": {
      "application/vnd.jupyter.widget-view+json": {
       "model_id": "540e308b0e8947caaca8990108d21f78",
       "version_major": 2,
       "version_minor": 0
      },
      "text/plain": [
       "Output()"
      ]
     },
     "metadata": {},
     "output_type": "display_data"
    }
   ],
   "source": [
    "selection.interactive()"
   ]
  },
  {
   "cell_type": "code",
   "execution_count": 191,
   "id": "d010714b-7409-43fa-b29d-e5378b37bfb0",
   "metadata": {
    "scrolled": true
   },
   "outputs": [
    {
     "name": "stdout",
     "output_type": "stream",
     "text": [
      "C91 WRQXFZOITXUYML-UHFFFAOYSA-N True\n",
      "C92 SCMCRGMETQKMMQ-UHFFFAOYSA-N True\n",
      "C93 WXVLITNXXROEMR-UHFFFAOYSA-N True\n",
      "C95 UGYMLSSIEIESGU-UHFFFAOYSA-N True\n",
      "C98 KRUZICJRZZZCFH-UHFFFAOYSA-N True\n",
      "C100 LKSJOAHCUYUSRB-UHFFFAOYSA-N True\n",
      "C101 OHSGHNZPVAYZHL-UHFFFAOYSA-N True\n",
      "C104 DGASNXVGKHJXGC-UHFFFAOYSA-N True\n",
      "C372 ALGNJYIWMHXFNH-UHFFFAOYSA-N True\n",
      "C555 ZJENMQHSGLZNHL-UHFFFAOYSA-N True\n",
      "C569 OYZLDUQCBJYBED-UHFFFAOYSA-N True\n",
      "C576 TYBDSUPMDPIPBB-UHFFFAOYSA-N True\n",
      "C596 JAHJLJNEYRGXQB-UHFFFAOYSA-N True\n",
      "C627 SMVDAYWKXWVCAN-UHFFFAOYSA-N True\n",
      "C653 FCGOSHSMTQLVEX-UHFFFAOYSA-N True\n",
      "C662 CTECJTBKOFPTMY-UHFFFAOYSA-N True\n",
      "C680 LKDGGWMXOHPRMI-UHFFFAOYSA-N True\n",
      "C718 GQXYNJMUNPQGML-UHFFFAOYSA-N True\n",
      "C760 WZMWLLZLOKQLRZ-UHFFFAOYSA-N True\n",
      "C796 RGWZNWCCBDMABV-UHFFFAOYSA-N True\n",
      "C804 JOXQXTUGOHUMII-UHFFFAOYSA-N True\n",
      "C849 LSBSLADJXDRYPT-UHFFFAOYSA-N True\n",
      "C992 VXOZIAXPIMEJPP-UHFFFAOYSA-N True\n",
      "C1001 QZVYQICELPCZOV-UHFFFAOYSA-N True\n",
      "C1012 KIULBMGWDSJTMM-UHFFFAOYSA-N True\n",
      "C1029 MNLAWAQYKQVGLK-UHFFFAOYSA-N True\n",
      "C1119 LCANJRPVBLCVAU-UHFFFAOYSA-N True\n",
      "C1128 DZVXXHSUENHLJH-UHFFFAOYSA-N True\n",
      "C1192 IMTCTUMLWQUKFC-UHFFFAOYSA-N True\n",
      "C1257 OYAFCPFGSBONSE-UHFFFAOYSA-N True\n",
      "C1316 GEKAQEZWMKZGCA-UHFFFAOYSA-N True\n",
      "C1444 YHGCJJWAPVTIRQ-UHFFFAOYSA-N True\n",
      "C1446 KKYCNGMNUUPLTM-UHFFFAOYSA-N True\n",
      "C1466 NEMWMYMPRDCSAZ-UHFFFAOYSA-N True\n",
      "C1472 XDUHPRMEDNEUSF-UHFFFAOYSA-N True\n",
      "C1473 MMXSHBZOILNLPJ-UHFFFAOYSA-N True\n",
      "C1476 FESSPJKVYVFJPA-UHFFFAOYSA-N True\n",
      "C1500 YIIMVUSFSKUYCA-UHFFFAOYSA-N True\n",
      "C1602 OULBTDXTVHQBAE-UHFFFAOYSA-N True\n",
      "C1917 QQERROZMPKKQER-UHFFFAOYSA-N True\n",
      "C1965 WHLDZOYDHAHKLT-UHFFFAOYSA-N True\n",
      "C2138 SBEBTLKTHHBVAY-UHFFFAOYSA-N True\n",
      "C2186 GXJARPZGKFADOS-UHFFFAOYSA-N True\n",
      "C2188 GNFBAQJUTMHLTB-UHFFFAOYSA-N True\n",
      "C2207 KFMQBLWKRFIPBE-UHFFFAOYSA-N True\n",
      "C2300 WLFMTZKZYACXSW-UHFFFAOYSA-N True\n",
      "C2311 OLQDFRKRSFBPML-UHFFFAOYSA-N True\n",
      "C2619 RZIGAYKJCIITOG-UHFFFAOYSA-N True\n",
      "C2916 QVSYFXSEJNFZKD-UHFFFAOYSA-N True\n",
      "C2919 IMOYJNKITCRRFB-UHFFFAOYSA-N True\n",
      "C2924 PPHADCGGEPSVTM-UHFFFAOYSA-N True\n",
      "C2925 XQWKZXHQRAAZAF-UHFFFAOYSA-N True\n",
      "C2944 QQBWHKPVEOERHW-UHFFFAOYSA-N True\n",
      "C2947 RRJMGDPCLBVSAU-UHFFFAOYSA-N True\n",
      "C3204 FCNMMRVSBYHGGR-UHFFFAOYSA-N True\n",
      "C3264 CVNPYWIROGTFDL-UHFFFAOYSA-N True\n",
      "C3269 NXHHOOOYMWASMZ-UHFFFAOYSA-N True\n",
      "C3284 DETJXFSIQJPJAJ-UHFFFAOYSA-N True\n",
      "C3344 TUFPTLPAEQNWJN-UHFFFAOYSA-N True\n",
      "C3611 XXPRWRCNORVHSY-UHFFFAOYSA-N True\n",
      "C3624 XMHJIXAUMMKGLT-UHFFFAOYSA-N True\n",
      "C3625 JXRCCCJCUJURBQ-UHFFFAOYSA-N True\n",
      "C3627 LXNXWBLKTWRVII-UHFFFAOYSA-N True\n",
      "C3628 MIMRXPBJLOWRMN-UHFFFAOYSA-N True\n",
      "C3632 WZOLBARQWWYVFM-UHFFFAOYSA-N True\n",
      "C3653 FXMHNJCWYFUXEW-UHFFFAOYSA-N True\n",
      "C3668 ARCUOSJFSRBOMH-UHFFFAOYSA-N True\n",
      "C3830 GLWBHHUWZUOZOL-UHFFFAOYSA-N True\n",
      "C76982 RVONYHCTWCRDJF-UHFFFAOYSA-N False\n",
      "C76984 QYWGYJFOJRFRHH-UHFFFAOYSA-N False\n",
      "C76986 WEUPHCYAYMMPSB-UHFFFAOYSA-N False\n",
      "C76988 XZPSHJPEMMIJTN-UHFFFAOYSA-N False\n",
      "C76990 SFDTUZQHZKCPRN-UHFFFAOYSA-N False\n",
      "C76992 VJIJOHRUFAIWPG-UHFFFAOYSA-N False\n",
      "C76994 KDAPNLCPIPSDQD-UHFFFAOYSA-N False\n",
      "C76996 LRNNKMIDGWTQJR-UHFFFAOYSA-N False\n"
     ]
    }
   ],
   "source": [
    "for comp in selection:\n",
    "    print(comp, comp.inchikey, 'Syndirella base' in comp.tags)"
   ]
  },
  {
   "cell_type": "code",
   "execution_count": 243,
   "id": "44c80ff1-2ed5-4208-a858-6dac820f39b8",
   "metadata": {},
   "outputs": [
    {
     "name": "stdout",
     "output_type": "stream",
     "text": [
      "\u001b[36m#compounds\u001b[0m = 1\u001b[0m\n",
      "Solving individual compound recipes...\n",
      "\u001b[7m\u001b[31;1m ERROR \u001b[0m\u001b[31;1m No entry in quote with quote_compound=2300!\u001b[0m\n",
      "\u001b[7m\u001b[31;1m ERROR \u001b[0m\u001b[31;1m No entry in quote with quote_compound=4456!\u001b[0m\n",
      "\u001b[7m\u001b[31;1m ERROR \u001b[0m\u001b[31;1m No entry in quote with quote_compound=4454!\u001b[0m\n",
      "\u001b[7m\u001b[31;1m ERROR \u001b[0m\u001b[31;1m No entry in quote with quote_compound=4456!\u001b[0m\n",
      "\u001b[7m\u001b[32;1m SUCCESS \u001b[0m\u001b[32;1m Found solution for compound=C2300!\u001b[0m\n",
      "Solving recipe combinations...\n",
      "Combining recipes...\n",
      "\u001b[7m\u001b[31;1m ERROR \u001b[0m\u001b[31;1m No entry in quote with quote_compound=4454!\u001b[0m\n",
      "\u001b[7m\u001b[31;1m ERROR \u001b[0m\u001b[31;1m No entry in quote with quote_compound=4454!\u001b[0m\n",
      "\u001b[7m\u001b[31;1m ERROR \u001b[0m\u001b[31;1m No entry in quote with quote_compound=4456!\u001b[0m\n",
      "\u001b[7m\u001b[31;1m ERROR \u001b[0m\u001b[31;1m No entry in quote with quote_compound=4456!\u001b[0m\n",
      "\u001b[7m\u001b[31;1m ERROR \u001b[0m\u001b[31;1m No entry in quote with quote_compound=2300!\u001b[0m\n",
      "\u001b[7m\u001b[31;1m ERROR \u001b[0m\u001b[31;1m No entry in quote with quote_compound=2300!\u001b[0m\n",
      "\u001b[7m\u001b[31;1m ERROR \u001b[0m\u001b[31;1m No entry in quote with quote_compound=4454!\u001b[0m\n",
      "\u001b[7m\u001b[31;1m ERROR \u001b[0m\u001b[31;1m No entry in quote with quote_compound=4454!\u001b[0m\n"
     ]
    },
    {
     "data": {
      "application/vnd.plotly.v1+json": {
       "config": {
        "plotlyServerURL": "https://plot.ly"
       },
       "data": [
        {
         "link": {
          "customdata": [
           [
            21,
            "Amidation",
            1
           ],
           [
            21,
            "Amidation",
            1
           ],
           [
            20,
            "Reductive_amination",
            1
           ],
           [
            20,
            "Reductive_amination",
            1
           ]
          ],
          "hovertemplate": "Reaction id=%{customdata[0]}<br>type=%{customdata[1]}<br>product_yield=%{customdata[2]}<extra></extra>",
          "source": [
           0,
           2,
           3,
           1
          ],
          "target": [
           1,
           1,
           4,
           4
          ],
          "value": [
           1,
           1,
           1,
           1
          ]
         },
         "node": {
          "customdata": [
           [
            4454,
            "O=Cc1nn(CC(=O)O)c2ccccc12",
            1,
            "None",
            "N/A"
           ],
           [
            4456,
            "CN(C)C(=O)Cn1nc(C=O)c2ccccc21",
            1,
            "None",
            "N/A"
           ],
           [
            4457,
            "CNC",
            1,
            "€17.00 EUR",
            5
           ],
           [
            4452,
            "Nc1ccc(O)cc1",
            1,
            "€17.00 EUR",
            5
           ],
           [
            2300,
            "CN(C)C(=O)Cn1nc(CNc2ccc(O)cc2)c2ccccc21",
            1,
            "None",
            "N/A"
           ]
          ],
          "hovertemplate": "Compound id=%{customdata[0]}<br>smiles=%{customdata[1]}<br>amount=%{customdata[2]}<br>price=%{customdata[3]}<br>lead_time=%{customdata[4]}<extra></extra>",
          "label": [
           "C4454",
           "C4456",
           "C4457",
           "C4452",
           "C2300"
          ]
         },
         "type": "sankey"
        }
       ],
       "layout": {
        "autosize": true,
        "height": 360,
        "template": {
         "data": {
          "bar": [
           {
            "error_x": {
             "color": "#2a3f5f"
            },
            "error_y": {
             "color": "#2a3f5f"
            },
            "marker": {
             "line": {
              "color": "#E5ECF6",
              "width": 0.5
             },
             "pattern": {
              "fillmode": "overlay",
              "size": 10,
              "solidity": 0.2
             }
            },
            "type": "bar"
           }
          ],
          "barpolar": [
           {
            "marker": {
             "line": {
              "color": "#E5ECF6",
              "width": 0.5
             },
             "pattern": {
              "fillmode": "overlay",
              "size": 10,
              "solidity": 0.2
             }
            },
            "type": "barpolar"
           }
          ],
          "carpet": [
           {
            "aaxis": {
             "endlinecolor": "#2a3f5f",
             "gridcolor": "white",
             "linecolor": "white",
             "minorgridcolor": "white",
             "startlinecolor": "#2a3f5f"
            },
            "baxis": {
             "endlinecolor": "#2a3f5f",
             "gridcolor": "white",
             "linecolor": "white",
             "minorgridcolor": "white",
             "startlinecolor": "#2a3f5f"
            },
            "type": "carpet"
           }
          ],
          "choropleth": [
           {
            "colorbar": {
             "outlinewidth": 0,
             "ticks": ""
            },
            "type": "choropleth"
           }
          ],
          "contour": [
           {
            "colorbar": {
             "outlinewidth": 0,
             "ticks": ""
            },
            "colorscale": [
             [
              0,
              "#0d0887"
             ],
             [
              0.1111111111111111,
              "#46039f"
             ],
             [
              0.2222222222222222,
              "#7201a8"
             ],
             [
              0.3333333333333333,
              "#9c179e"
             ],
             [
              0.4444444444444444,
              "#bd3786"
             ],
             [
              0.5555555555555556,
              "#d8576b"
             ],
             [
              0.6666666666666666,
              "#ed7953"
             ],
             [
              0.7777777777777778,
              "#fb9f3a"
             ],
             [
              0.8888888888888888,
              "#fdca26"
             ],
             [
              1,
              "#f0f921"
             ]
            ],
            "type": "contour"
           }
          ],
          "contourcarpet": [
           {
            "colorbar": {
             "outlinewidth": 0,
             "ticks": ""
            },
            "type": "contourcarpet"
           }
          ],
          "heatmap": [
           {
            "colorbar": {
             "outlinewidth": 0,
             "ticks": ""
            },
            "colorscale": [
             [
              0,
              "#0d0887"
             ],
             [
              0.1111111111111111,
              "#46039f"
             ],
             [
              0.2222222222222222,
              "#7201a8"
             ],
             [
              0.3333333333333333,
              "#9c179e"
             ],
             [
              0.4444444444444444,
              "#bd3786"
             ],
             [
              0.5555555555555556,
              "#d8576b"
             ],
             [
              0.6666666666666666,
              "#ed7953"
             ],
             [
              0.7777777777777778,
              "#fb9f3a"
             ],
             [
              0.8888888888888888,
              "#fdca26"
             ],
             [
              1,
              "#f0f921"
             ]
            ],
            "type": "heatmap"
           }
          ],
          "heatmapgl": [
           {
            "colorbar": {
             "outlinewidth": 0,
             "ticks": ""
            },
            "colorscale": [
             [
              0,
              "#0d0887"
             ],
             [
              0.1111111111111111,
              "#46039f"
             ],
             [
              0.2222222222222222,
              "#7201a8"
             ],
             [
              0.3333333333333333,
              "#9c179e"
             ],
             [
              0.4444444444444444,
              "#bd3786"
             ],
             [
              0.5555555555555556,
              "#d8576b"
             ],
             [
              0.6666666666666666,
              "#ed7953"
             ],
             [
              0.7777777777777778,
              "#fb9f3a"
             ],
             [
              0.8888888888888888,
              "#fdca26"
             ],
             [
              1,
              "#f0f921"
             ]
            ],
            "type": "heatmapgl"
           }
          ],
          "histogram": [
           {
            "marker": {
             "pattern": {
              "fillmode": "overlay",
              "size": 10,
              "solidity": 0.2
             }
            },
            "type": "histogram"
           }
          ],
          "histogram2d": [
           {
            "colorbar": {
             "outlinewidth": 0,
             "ticks": ""
            },
            "colorscale": [
             [
              0,
              "#0d0887"
             ],
             [
              0.1111111111111111,
              "#46039f"
             ],
             [
              0.2222222222222222,
              "#7201a8"
             ],
             [
              0.3333333333333333,
              "#9c179e"
             ],
             [
              0.4444444444444444,
              "#bd3786"
             ],
             [
              0.5555555555555556,
              "#d8576b"
             ],
             [
              0.6666666666666666,
              "#ed7953"
             ],
             [
              0.7777777777777778,
              "#fb9f3a"
             ],
             [
              0.8888888888888888,
              "#fdca26"
             ],
             [
              1,
              "#f0f921"
             ]
            ],
            "type": "histogram2d"
           }
          ],
          "histogram2dcontour": [
           {
            "colorbar": {
             "outlinewidth": 0,
             "ticks": ""
            },
            "colorscale": [
             [
              0,
              "#0d0887"
             ],
             [
              0.1111111111111111,
              "#46039f"
             ],
             [
              0.2222222222222222,
              "#7201a8"
             ],
             [
              0.3333333333333333,
              "#9c179e"
             ],
             [
              0.4444444444444444,
              "#bd3786"
             ],
             [
              0.5555555555555556,
              "#d8576b"
             ],
             [
              0.6666666666666666,
              "#ed7953"
             ],
             [
              0.7777777777777778,
              "#fb9f3a"
             ],
             [
              0.8888888888888888,
              "#fdca26"
             ],
             [
              1,
              "#f0f921"
             ]
            ],
            "type": "histogram2dcontour"
           }
          ],
          "mesh3d": [
           {
            "colorbar": {
             "outlinewidth": 0,
             "ticks": ""
            },
            "type": "mesh3d"
           }
          ],
          "parcoords": [
           {
            "line": {
             "colorbar": {
              "outlinewidth": 0,
              "ticks": ""
             }
            },
            "type": "parcoords"
           }
          ],
          "pie": [
           {
            "automargin": true,
            "type": "pie"
           }
          ],
          "scatter": [
           {
            "fillpattern": {
             "fillmode": "overlay",
             "size": 10,
             "solidity": 0.2
            },
            "type": "scatter"
           }
          ],
          "scatter3d": [
           {
            "line": {
             "colorbar": {
              "outlinewidth": 0,
              "ticks": ""
             }
            },
            "marker": {
             "colorbar": {
              "outlinewidth": 0,
              "ticks": ""
             }
            },
            "type": "scatter3d"
           }
          ],
          "scattercarpet": [
           {
            "marker": {
             "colorbar": {
              "outlinewidth": 0,
              "ticks": ""
             }
            },
            "type": "scattercarpet"
           }
          ],
          "scattergeo": [
           {
            "marker": {
             "colorbar": {
              "outlinewidth": 0,
              "ticks": ""
             }
            },
            "type": "scattergeo"
           }
          ],
          "scattergl": [
           {
            "marker": {
             "colorbar": {
              "outlinewidth": 0,
              "ticks": ""
             }
            },
            "type": "scattergl"
           }
          ],
          "scattermapbox": [
           {
            "marker": {
             "colorbar": {
              "outlinewidth": 0,
              "ticks": ""
             }
            },
            "type": "scattermapbox"
           }
          ],
          "scatterpolar": [
           {
            "marker": {
             "colorbar": {
              "outlinewidth": 0,
              "ticks": ""
             }
            },
            "type": "scatterpolar"
           }
          ],
          "scatterpolargl": [
           {
            "marker": {
             "colorbar": {
              "outlinewidth": 0,
              "ticks": ""
             }
            },
            "type": "scatterpolargl"
           }
          ],
          "scatterternary": [
           {
            "marker": {
             "colorbar": {
              "outlinewidth": 0,
              "ticks": ""
             }
            },
            "type": "scatterternary"
           }
          ],
          "surface": [
           {
            "colorbar": {
             "outlinewidth": 0,
             "ticks": ""
            },
            "colorscale": [
             [
              0,
              "#0d0887"
             ],
             [
              0.1111111111111111,
              "#46039f"
             ],
             [
              0.2222222222222222,
              "#7201a8"
             ],
             [
              0.3333333333333333,
              "#9c179e"
             ],
             [
              0.4444444444444444,
              "#bd3786"
             ],
             [
              0.5555555555555556,
              "#d8576b"
             ],
             [
              0.6666666666666666,
              "#ed7953"
             ],
             [
              0.7777777777777778,
              "#fb9f3a"
             ],
             [
              0.8888888888888888,
              "#fdca26"
             ],
             [
              1,
              "#f0f921"
             ]
            ],
            "type": "surface"
           }
          ],
          "table": [
           {
            "cells": {
             "fill": {
              "color": "#EBF0F8"
             },
             "line": {
              "color": "white"
             }
            },
            "header": {
             "fill": {
              "color": "#C8D4E3"
             },
             "line": {
              "color": "white"
             }
            },
            "type": "table"
           }
          ]
         },
         "layout": {
          "annotationdefaults": {
           "arrowcolor": "#2a3f5f",
           "arrowhead": 0,
           "arrowwidth": 1
          },
          "autotypenumbers": "strict",
          "coloraxis": {
           "colorbar": {
            "outlinewidth": 0,
            "ticks": ""
           }
          },
          "colorscale": {
           "diverging": [
            [
             0,
             "#8e0152"
            ],
            [
             0.1,
             "#c51b7d"
            ],
            [
             0.2,
             "#de77ae"
            ],
            [
             0.3,
             "#f1b6da"
            ],
            [
             0.4,
             "#fde0ef"
            ],
            [
             0.5,
             "#f7f7f7"
            ],
            [
             0.6,
             "#e6f5d0"
            ],
            [
             0.7,
             "#b8e186"
            ],
            [
             0.8,
             "#7fbc41"
            ],
            [
             0.9,
             "#4d9221"
            ],
            [
             1,
             "#276419"
            ]
           ],
           "sequential": [
            [
             0,
             "#0d0887"
            ],
            [
             0.1111111111111111,
             "#46039f"
            ],
            [
             0.2222222222222222,
             "#7201a8"
            ],
            [
             0.3333333333333333,
             "#9c179e"
            ],
            [
             0.4444444444444444,
             "#bd3786"
            ],
            [
             0.5555555555555556,
             "#d8576b"
            ],
            [
             0.6666666666666666,
             "#ed7953"
            ],
            [
             0.7777777777777778,
             "#fb9f3a"
            ],
            [
             0.8888888888888888,
             "#fdca26"
            ],
            [
             1,
             "#f0f921"
            ]
           ],
           "sequentialminus": [
            [
             0,
             "#0d0887"
            ],
            [
             0.1111111111111111,
             "#46039f"
            ],
            [
             0.2222222222222222,
             "#7201a8"
            ],
            [
             0.3333333333333333,
             "#9c179e"
            ],
            [
             0.4444444444444444,
             "#bd3786"
            ],
            [
             0.5555555555555556,
             "#d8576b"
            ],
            [
             0.6666666666666666,
             "#ed7953"
            ],
            [
             0.7777777777777778,
             "#fb9f3a"
            ],
            [
             0.8888888888888888,
             "#fdca26"
            ],
            [
             1,
             "#f0f921"
            ]
           ]
          },
          "colorway": [
           "#636efa",
           "#EF553B",
           "#00cc96",
           "#ab63fa",
           "#FFA15A",
           "#19d3f3",
           "#FF6692",
           "#B6E880",
           "#FF97FF",
           "#FECB52"
          ],
          "font": {
           "color": "#2a3f5f"
          },
          "geo": {
           "bgcolor": "white",
           "lakecolor": "white",
           "landcolor": "#E5ECF6",
           "showlakes": true,
           "showland": true,
           "subunitcolor": "white"
          },
          "hoverlabel": {
           "align": "left"
          },
          "hovermode": "closest",
          "mapbox": {
           "style": "light"
          },
          "paper_bgcolor": "white",
          "plot_bgcolor": "#E5ECF6",
          "polar": {
           "angularaxis": {
            "gridcolor": "white",
            "linecolor": "white",
            "ticks": ""
           },
           "bgcolor": "#E5ECF6",
           "radialaxis": {
            "gridcolor": "white",
            "linecolor": "white",
            "ticks": ""
           }
          },
          "scene": {
           "xaxis": {
            "backgroundcolor": "#E5ECF6",
            "gridcolor": "white",
            "gridwidth": 2,
            "linecolor": "white",
            "showbackground": true,
            "ticks": "",
            "zerolinecolor": "white"
           },
           "yaxis": {
            "backgroundcolor": "#E5ECF6",
            "gridcolor": "white",
            "gridwidth": 2,
            "linecolor": "white",
            "showbackground": true,
            "ticks": "",
            "zerolinecolor": "white"
           },
           "zaxis": {
            "backgroundcolor": "#E5ECF6",
            "gridcolor": "white",
            "gridwidth": 2,
            "linecolor": "white",
            "showbackground": true,
            "ticks": "",
            "zerolinecolor": "white"
           }
          },
          "shapedefaults": {
           "line": {
            "color": "#2a3f5f"
           }
          },
          "ternary": {
           "aaxis": {
            "gridcolor": "white",
            "linecolor": "white",
            "ticks": ""
           },
           "baxis": {
            "gridcolor": "white",
            "linecolor": "white",
            "ticks": ""
           },
           "bgcolor": "#E5ECF6",
           "caxis": {
            "gridcolor": "white",
            "linecolor": "white",
            "ticks": ""
           }
          },
          "title": {
           "x": 0.05
          },
          "xaxis": {
           "automargin": true,
           "gridcolor": "white",
           "linecolor": "white",
           "ticks": "",
           "title": {
            "standoff": 15
           },
           "zerolinecolor": "white",
           "zerolinewidth": 2
          },
          "yaxis": {
           "automargin": true,
           "gridcolor": "white",
           "linecolor": "white",
           "ticks": "",
           "title": {
            "standoff": 15
           },
           "zerolinecolor": "white",
           "zerolinewidth": 2
          }
         }
        },
        "title": {
         "text": "Recipe"
        }
       }
      },
      "image/png": "[encoded data removed]",
      "text/html": [
       "<div>                            <div id=\"bb18e2cb-384b-4aaa-9397-5b6754adaeba\" class=\"plotly-graph-div\" style=\"height:525px; width:100%;\"></div>            <script type=\"text/javascript\">                require([\"plotly\"], function(Plotly) {                    window.PLOTLYENV=window.PLOTLYENV || {};                                    if (document.getElementById(\"bb18e2cb-384b-4aaa-9397-5b6754adaeba\")) {                    Plotly.newPlot(                        \"bb18e2cb-384b-4aaa-9397-5b6754adaeba\",                        [{\"link\":{\"customdata\":[[21,\"Amidation\",1.0],[21,\"Amidation\",1.0],[20,\"Reductive_amination\",1.0],[20,\"Reductive_amination\",1.0]],\"hovertemplate\":\"Reaction id=%{customdata[0]}\\u003cbr\\u003etype=%{customdata[1]}\\u003cbr\\u003eproduct_yield=%{customdata[2]}\\u003cextra\\u003e\\u003c\\u002fextra\\u003e\",\"source\":[0,2,3,1],\"target\":[1,1,4,4],\"value\":[1,1,1,1]},\"node\":{\"customdata\":[[4454,\"O=Cc1nn(CC(=O)O)c2ccccc12\",1.0,\"None\",\"N\\u002fA\"],[4456,\"CN(C)C(=O)Cn1nc(C=O)c2ccccc21\",1.0,\"None\",\"N\\u002fA\"],[4457,\"CNC\",1.0,\"\\u20ac17.00 EUR\",5],[4452,\"Nc1ccc(O)cc1\",1.0,\"\\u20ac17.00 EUR\",5],[2300,\"CN(C)C(=O)Cn1nc(CNc2ccc(O)cc2)c2ccccc21\",1,\"None\",\"N\\u002fA\"]],\"hovertemplate\":\"Compound id=%{customdata[0]}\\u003cbr\\u003esmiles=%{customdata[1]}\\u003cbr\\u003eamount=%{customdata[2]}\\u003cbr\\u003eprice=%{customdata[3]}\\u003cbr\\u003elead_time=%{customdata[4]}\\u003cextra\\u003e\\u003c\\u002fextra\\u003e\",\"label\":[\"C4454\",\"C4456\",\"C4457\",\"C4452\",\"C2300\"]},\"type\":\"sankey\"}],                        {\"template\":{\"data\":{\"histogram2dcontour\":[{\"type\":\"histogram2dcontour\",\"colorbar\":{\"outlinewidth\":0,\"ticks\":\"\"},\"colorscale\":[[0.0,\"#0d0887\"],[0.1111111111111111,\"#46039f\"],[0.2222222222222222,\"#7201a8\"],[0.3333333333333333,\"#9c179e\"],[0.4444444444444444,\"#bd3786\"],[0.5555555555555556,\"#d8576b\"],[0.6666666666666666,\"#ed7953\"],[0.7777777777777778,\"#fb9f3a\"],[0.8888888888888888,\"#fdca26\"],[1.0,\"#f0f921\"]]}],\"choropleth\":[{\"type\":\"choropleth\",\"colorbar\":{\"outlinewidth\":0,\"ticks\":\"\"}}],\"histogram2d\":[{\"type\":\"histogram2d\",\"colorbar\":{\"outlinewidth\":0,\"ticks\":\"\"},\"colorscale\":[[0.0,\"#0d0887\"],[0.1111111111111111,\"#46039f\"],[0.2222222222222222,\"#7201a8\"],[0.3333333333333333,\"#9c179e\"],[0.4444444444444444,\"#bd3786\"],[0.5555555555555556,\"#d8576b\"],[0.6666666666666666,\"#ed7953\"],[0.7777777777777778,\"#fb9f3a\"],[0.8888888888888888,\"#fdca26\"],[1.0,\"#f0f921\"]]}],\"heatmap\":[{\"type\":\"heatmap\",\"colorbar\":{\"outlinewidth\":0,\"ticks\":\"\"},\"colorscale\":[[0.0,\"#0d0887\"],[0.1111111111111111,\"#46039f\"],[0.2222222222222222,\"#7201a8\"],[0.3333333333333333,\"#9c179e\"],[0.4444444444444444,\"#bd3786\"],[0.5555555555555556,\"#d8576b\"],[0.6666666666666666,\"#ed7953\"],[0.7777777777777778,\"#fb9f3a\"],[0.8888888888888888,\"#fdca26\"],[1.0,\"#f0f921\"]]}],\"heatmapgl\":[{\"type\":\"heatmapgl\",\"colorbar\":{\"outlinewidth\":0,\"ticks\":\"\"},\"colorscale\":[[0.0,\"#0d0887\"],[0.1111111111111111,\"#46039f\"],[0.2222222222222222,\"#7201a8\"],[0.3333333333333333,\"#9c179e\"],[0.4444444444444444,\"#bd3786\"],[0.5555555555555556,\"#d8576b\"],[0.6666666666666666,\"#ed7953\"],[0.7777777777777778,\"#fb9f3a\"],[0.8888888888888888,\"#fdca26\"],[1.0,\"#f0f921\"]]}],\"contourcarpet\":[{\"type\":\"contourcarpet\",\"colorbar\":{\"outlinewidth\":0,\"ticks\":\"\"}}],\"contour\":[{\"type\":\"contour\",\"colorbar\":{\"outlinewidth\":0,\"ticks\":\"\"},\"colorscale\":[[0.0,\"#0d0887\"],[0.1111111111111111,\"#46039f\"],[0.2222222222222222,\"#7201a8\"],[0.3333333333333333,\"#9c179e\"],[0.4444444444444444,\"#bd3786\"],[0.5555555555555556,\"#d8576b\"],[0.6666666666666666,\"#ed7953\"],[0.7777777777777778,\"#fb9f3a\"],[0.8888888888888888,\"#fdca26\"],[1.0,\"#f0f921\"]]}],\"surface\":[{\"type\":\"surface\",\"colorbar\":{\"outlinewidth\":0,\"ticks\":\"\"},\"colorscale\":[[0.0,\"#0d0887\"],[0.1111111111111111,\"#46039f\"],[0.2222222222222222,\"#7201a8\"],[0.3333333333333333,\"#9c179e\"],[0.4444444444444444,\"#bd3786\"],[0.5555555555555556,\"#d8576b\"],[0.6666666666666666,\"#ed7953\"],[0.7777777777777778,\"#fb9f3a\"],[0.8888888888888888,\"#fdca26\"],[1.0,\"#f0f921\"]]}],\"mesh3d\":[{\"type\":\"mesh3d\",\"colorbar\":{\"outlinewidth\":0,\"ticks\":\"\"}}],\"scatter\":[{\"fillpattern\":{\"fillmode\":\"overlay\",\"size\":10,\"solidity\":0.2},\"type\":\"scatter\"}],\"parcoords\":[{\"type\":\"parcoords\",\"line\":{\"colorbar\":{\"outlinewidth\":0,\"ticks\":\"\"}}}],\"scatterpolargl\":[{\"type\":\"scatterpolargl\",\"marker\":{\"colorbar\":{\"outlinewidth\":0,\"ticks\":\"\"}}}],\"bar\":[{\"error_x\":{\"color\":\"#2a3f5f\"},\"error_y\":{\"color\":\"#2a3f5f\"},\"marker\":{\"line\":{\"color\":\"#E5ECF6\",\"width\":0.5},\"pattern\":{\"fillmode\":\"overlay\",\"size\":10,\"solidity\":0.2}},\"type\":\"bar\"}],\"scattergeo\":[{\"type\":\"scattergeo\",\"marker\":{\"colorbar\":{\"outlinewidth\":0,\"ticks\":\"\"}}}],\"scatterpolar\":[{\"type\":\"scatterpolar\",\"marker\":{\"colorbar\":{\"outlinewidth\":0,\"ticks\":\"\"}}}],\"histogram\":[{\"marker\":{\"pattern\":{\"fillmode\":\"overlay\",\"size\":10,\"solidity\":0.2}},\"type\":\"histogram\"}],\"scattergl\":[{\"type\":\"scattergl\",\"marker\":{\"colorbar\":{\"outlinewidth\":0,\"ticks\":\"\"}}}],\"scatter3d\":[{\"type\":\"scatter3d\",\"line\":{\"colorbar\":{\"outlinewidth\":0,\"ticks\":\"\"}},\"marker\":{\"colorbar\":{\"outlinewidth\":0,\"ticks\":\"\"}}}],\"scattermapbox\":[{\"type\":\"scattermapbox\",\"marker\":{\"colorbar\":{\"outlinewidth\":0,\"ticks\":\"\"}}}],\"scatterternary\":[{\"type\":\"scatterternary\",\"marker\":{\"colorbar\":{\"outlinewidth\":0,\"ticks\":\"\"}}}],\"scattercarpet\":[{\"type\":\"scattercarpet\",\"marker\":{\"colorbar\":{\"outlinewidth\":0,\"ticks\":\"\"}}}],\"carpet\":[{\"aaxis\":{\"endlinecolor\":\"#2a3f5f\",\"gridcolor\":\"white\",\"linecolor\":\"white\",\"minorgridcolor\":\"white\",\"startlinecolor\":\"#2a3f5f\"},\"baxis\":{\"endlinecolor\":\"#2a3f5f\",\"gridcolor\":\"white\",\"linecolor\":\"white\",\"minorgridcolor\":\"white\",\"startlinecolor\":\"#2a3f5f\"},\"type\":\"carpet\"}],\"table\":[{\"cells\":{\"fill\":{\"color\":\"#EBF0F8\"},\"line\":{\"color\":\"white\"}},\"header\":{\"fill\":{\"color\":\"#C8D4E3\"},\"line\":{\"color\":\"white\"}},\"type\":\"table\"}],\"barpolar\":[{\"marker\":{\"line\":{\"color\":\"#E5ECF6\",\"width\":0.5},\"pattern\":{\"fillmode\":\"overlay\",\"size\":10,\"solidity\":0.2}},\"type\":\"barpolar\"}],\"pie\":[{\"automargin\":true,\"type\":\"pie\"}]},\"layout\":{\"autotypenumbers\":\"strict\",\"colorway\":[\"#636efa\",\"#EF553B\",\"#00cc96\",\"#ab63fa\",\"#FFA15A\",\"#19d3f3\",\"#FF6692\",\"#B6E880\",\"#FF97FF\",\"#FECB52\"],\"font\":{\"color\":\"#2a3f5f\"},\"hovermode\":\"closest\",\"hoverlabel\":{\"align\":\"left\"},\"paper_bgcolor\":\"white\",\"plot_bgcolor\":\"#E5ECF6\",\"polar\":{\"bgcolor\":\"#E5ECF6\",\"angularaxis\":{\"gridcolor\":\"white\",\"linecolor\":\"white\",\"ticks\":\"\"},\"radialaxis\":{\"gridcolor\":\"white\",\"linecolor\":\"white\",\"ticks\":\"\"}},\"ternary\":{\"bgcolor\":\"#E5ECF6\",\"aaxis\":{\"gridcolor\":\"white\",\"linecolor\":\"white\",\"ticks\":\"\"},\"baxis\":{\"gridcolor\":\"white\",\"linecolor\":\"white\",\"ticks\":\"\"},\"caxis\":{\"gridcolor\":\"white\",\"linecolor\":\"white\",\"ticks\":\"\"}},\"coloraxis\":{\"colorbar\":{\"outlinewidth\":0,\"ticks\":\"\"}},\"colorscale\":{\"sequential\":[[0.0,\"#0d0887\"],[0.1111111111111111,\"#46039f\"],[0.2222222222222222,\"#7201a8\"],[0.3333333333333333,\"#9c179e\"],[0.4444444444444444,\"#bd3786\"],[0.5555555555555556,\"#d8576b\"],[0.6666666666666666,\"#ed7953\"],[0.7777777777777778,\"#fb9f3a\"],[0.8888888888888888,\"#fdca26\"],[1.0,\"#f0f921\"]],\"sequentialminus\":[[0.0,\"#0d0887\"],[0.1111111111111111,\"#46039f\"],[0.2222222222222222,\"#7201a8\"],[0.3333333333333333,\"#9c179e\"],[0.4444444444444444,\"#bd3786\"],[0.5555555555555556,\"#d8576b\"],[0.6666666666666666,\"#ed7953\"],[0.7777777777777778,\"#fb9f3a\"],[0.8888888888888888,\"#fdca26\"],[1.0,\"#f0f921\"]],\"diverging\":[[0,\"#8e0152\"],[0.1,\"#c51b7d\"],[0.2,\"#de77ae\"],[0.3,\"#f1b6da\"],[0.4,\"#fde0ef\"],[0.5,\"#f7f7f7\"],[0.6,\"#e6f5d0\"],[0.7,\"#b8e186\"],[0.8,\"#7fbc41\"],[0.9,\"#4d9221\"],[1,\"#276419\"]]},\"xaxis\":{\"gridcolor\":\"white\",\"linecolor\":\"white\",\"ticks\":\"\",\"title\":{\"standoff\":15},\"zerolinecolor\":\"white\",\"automargin\":true,\"zerolinewidth\":2},\"yaxis\":{\"gridcolor\":\"white\",\"linecolor\":\"white\",\"ticks\":\"\",\"title\":{\"standoff\":15},\"zerolinecolor\":\"white\",\"automargin\":true,\"zerolinewidth\":2},\"scene\":{\"xaxis\":{\"backgroundcolor\":\"#E5ECF6\",\"gridcolor\":\"white\",\"linecolor\":\"white\",\"showbackground\":true,\"ticks\":\"\",\"zerolinecolor\":\"white\",\"gridwidth\":2},\"yaxis\":{\"backgroundcolor\":\"#E5ECF6\",\"gridcolor\":\"white\",\"linecolor\":\"white\",\"showbackground\":true,\"ticks\":\"\",\"zerolinecolor\":\"white\",\"gridwidth\":2},\"zaxis\":{\"backgroundcolor\":\"#E5ECF6\",\"gridcolor\":\"white\",\"linecolor\":\"white\",\"showbackground\":true,\"ticks\":\"\",\"zerolinecolor\":\"white\",\"gridwidth\":2}},\"shapedefaults\":{\"line\":{\"color\":\"#2a3f5f\"}},\"annotationdefaults\":{\"arrowcolor\":\"#2a3f5f\",\"arrowhead\":0,\"arrowwidth\":1},\"geo\":{\"bgcolor\":\"white\",\"landcolor\":\"#E5ECF6\",\"subunitcolor\":\"white\",\"showland\":true,\"showlakes\":true,\"lakecolor\":\"white\"},\"title\":{\"x\":0.05},\"mapbox\":{\"style\":\"light\"}}},\"title\":{\"text\":\"Recipe\"}},                        {\"responsive\": true}                    ).then(function(){\n",
       "                            \n",
       "var gd = document.getElementById('bb18e2cb-384b-4aaa-9397-5b6754adaeba');\n",
       "var x = new MutationObserver(function (mutations, observer) {{\n",
       "        var display = window.getComputedStyle(gd).display;\n",
       "        if (!display || display === 'none') {{\n",
       "            console.log([gd, 'removed!']);\n",
       "            Plotly.purge(gd);\n",
       "            observer.disconnect();\n",
       "        }}\n",
       "}});\n",
       "\n",
       "// Listen for the removal of the full notebook cells\n",
       "var notebookContainer = gd.closest('#notebook-container');\n",
       "if (notebookContainer) {{\n",
       "    x.observe(notebookContainer, {childList: true});\n",
       "}}\n",
       "\n",
       "// Listen for the clearing of the current output cell\n",
       "var outputEl = gd.closest('.output');\n",
       "if (outputEl) {{\n",
       "    x.observe(outputEl, {childList: true});\n",
       "}}\n",
       "\n",
       "                        })                };                });            </script>        </div>"
      ]
     },
     "metadata": {},
     "output_type": "display_data"
    }
   ],
   "source": [
    "animal.compounds['WLFMTZKZYACXSW-UHFFFAOYSA-N'].get_recipes()[0].sankey()"
   ]
  },
  {
   "cell_type": "code",
   "execution_count": 211,
   "id": "8735e18b-52dc-4648-9f7f-a512c26f0563",
   "metadata": {},
   "outputs": [
    {
     "name": "stdout",
     "output_type": "stream",
     "text": [
      "\u001b[36mPresent reactions\u001b[0m = {'N-Bn_deprotection', 'Amide_Schotten-Baumann_with_amine', 'Nucleophilic_substitution_with_amine', 'Amidation'}\u001b[0m\n",
      "\u001b[7m\u001b[31;1m ERROR \u001b[0m\u001b[31;1m No base/scaffold rows found in IBNRYRKGRKRSMK-NSHDSACASA-N_fMJ6FM_to_hippo.pkl.gz!\u001b[0m\n"
     ]
    }
   ],
   "source": [
    "df = animal.add_syndirella_elabs('/opt/xchem-fragalysis-2/kfieseler/CHIKV-Mac/IBNRYRKGRKRSMK-NSHDSACASA-N/IBNRYRKGRKRSMK-NSHDSACASA-N_fMJ6FM_to_hippo.pkl.gz')\n",
    "# df = animal.add_syndirella_elabs('/opt/xchem-fragalysis-2/kfieseler/CHIKV-Mac/RTRFWLCSCBITKB-UHFFFAOYSA-N/RTRFWLCSCBITKB-UHFFFAOYSA-N_6PQWWH_to_hippo.pkl.gz')"
   ]
  },
  {
   "cell_type": "code",
   "execution_count": 204,
   "id": "16b8e240-83a0-4a25-8f48-6b0f399967f2",
   "metadata": {},
   "outputs": [
    {
     "name": "stdout",
     "output_type": "stream",
     "text": [
      "\u001b[36mPresent reactions\u001b[0m = {'Ester_amidation', 'Amidation'}\u001b[0m\n",
      "\u001b[7m\u001b[31;1m ERROR \u001b[0m\u001b[31;1m No base/scaffold rows found in RTRFWLCSCBITKB-UHFFFAOYSA-N_6PQWWH_to_hippo.pkl.gz!\u001b[0m\n"
     ]
    }
   ],
   "source": [
    "df = animal.add_syndirella_elabs('/opt/xchem-fragalysis-2/kfieseler/CHIKV-Mac/RTRFWLCSCBITKB-UHFFFAOYSA-N/RTRFWLCSCBITKB-UHFFFAOYSA-N_6PQWWH_to_hippo.pkl.gz')"
   ]
  },
  {
   "cell_type": "code",
   "execution_count": 205,
   "id": "30acdb18-14d8-4d7f-bf0b-9b3dd209832b",
   "metadata": {},
   "outputs": [
    {
     "data": {
      "text/plain": [
       "Index(['base_compound_smiles', '1_reaction', '1_r1_smiles', '1_r2_smiles',\n",
       "       '1_r_previous_product', '1_product_smiles', '1_product_name',\n",
       "       '1_num_atom_diff', '1_flag', '2_reaction', '2_r1_smiles', '2_r2_smiles',\n",
       "       '2_r_previous_product', '2_product_smiles', '2_product_name',\n",
       "       '2_num_atom_diff', '2_flag', '2_stereoisomer', 'error', '∆∆G',\n",
       "       '∆G_bound', '∆G_unbound', 'comRMSD', 'regarded', 'path_to_mol',\n",
       "       'intra_geometry_pass'],\n",
       "      dtype='object')"
      ]
     },
     "execution_count": 205,
     "metadata": {},
     "output_type": "execute_result"
    }
   ],
   "source": [
    "df.columns"
   ]
  },
  {
   "cell_type": "code",
   "execution_count": 206,
   "id": "29e8f05c-f59d-42dd-9c24-2c72d96c28f8",
   "metadata": {},
   "outputs": [
    {
     "data": {
      "text/plain": [
       "{1, 2, 3, 4, 5}"
      ]
     },
     "execution_count": 206,
     "metadata": {},
     "output_type": "execute_result"
    }
   ],
   "source": [
    "set(df['2_num_atom_diff'].values)"
   ]
  },
  {
   "cell_type": "code",
   "execution_count": 238,
   "id": "3ab75403-8741-4b6a-ae6a-ce786958a250",
   "metadata": {},
   "outputs": [
    {
     "data": {
      "text/plain": [
       "False"
      ]
     },
     "execution_count": 238,
     "metadata": {},
     "output_type": "execute_result"
    }
   ],
   "source": [
    "'YIIMVUSFSKUYCA-UHFFFAOYSA-N' in prods.inchikeys"
   ]
  },
  {
   "cell_type": "code",
   "execution_count": 239,
   "id": "2583c3bd-bb88-4038-a85f-0b1d74d4b538",
   "metadata": {},
   "outputs": [],
   "source": [
    "for i in [\"WLFMTZKZYACXSW-UHFFFAOYSA-N\",\n",
    "\"OYAFCPFGSBONSE-UHFFFAOYSA-N\",\n",
    "\"CTECJTBKOFPTMY-JTQLQIEISA-N\",\n",
    "\"WLFMTZKZYACXSW-UHFFFAOYSA-N\",\n",
    "\"OYZLDUQCBJYBED-VIFPVBQESA-N\",\n",
    "\"SBEBTLKTHHBVAY-LLVKDONJSA-N\",\n",
    "\"XXPRWRCNORVHSY-UHFFFAOYSA-N\",\n",
    "\"JAHJLJNEYRGXQB-RBSFLKMASA-N\",\n",
    "\"VXOZIAXPIMEJPP-UHFFFAOYSA-N\",\n",
    "\"UQJZJBUURJWCJN-UHFFFAOYSA-N\",\n",
    "\"LKSJOAHCUYUSRB-UHFFFAOYSA-N\",\n",
    "\"CVNPYWIROGTFDL-UHFFFAOYSA-N\",]:\n",
    "    if i in prods.inchikeys:\n",
    "        print(i)"
   ]
  },
  {
   "cell_type": "code",
   "execution_count": 246,
   "id": "e12828d1-1742-4b19-aef6-a6ef3455860a",
   "metadata": {},
   "outputs": [
    {
     "data": {
      "text/html": [
       "<div>\n",
       "<style scoped>\n",
       "    .dataframe tbody tr th:only-of-type {\n",
       "        vertical-align: middle;\n",
       "    }\n",
       "\n",
       "    .dataframe tbody tr th {\n",
       "        vertical-align: top;\n",
       "    }\n",
       "\n",
       "    .dataframe thead th {\n",
       "        text-align: right;\n",
       "    }\n",
       "</style>\n",
       "<table border=\"1\" class=\"dataframe\">\n",
       "  <thead>\n",
       "    <tr style=\"text-align: right;\">\n",
       "      <th></th>\n",
       "      <th>id</th>\n",
       "      <th>smiles</th>\n",
       "      <th>supplier</th>\n",
       "      <th>catalogue</th>\n",
       "      <th>entry</th>\n",
       "      <th>amount</th>\n",
       "      <th>price</th>\n",
       "      <th>purity</th>\n",
       "      <th>lead_time</th>\n",
       "      <th>date</th>\n",
       "      <th>type</th>\n",
       "    </tr>\n",
       "  </thead>\n",
       "  <tbody>\n",
       "    <tr>\n",
       "      <th>0</th>\n",
       "      <td>32</td>\n",
       "      <td>Nc1ccc(O)cc1</td>\n",
       "      <td>Enamine</td>\n",
       "      <td>In stock</td>\n",
       "      <td>EN300-33645</td>\n",
       "      <td>20.0</td>\n",
       "      <td>€17.00 EUR</td>\n",
       "      <td>0.95</td>\n",
       "      <td>5</td>\n",
       "      <td>2024-09-25</td>\n",
       "      <td>None</td>\n",
       "    </tr>\n",
       "    <tr>\n",
       "      <th>1</th>\n",
       "      <td>5295</td>\n",
       "      <td>Nc1ccc(O)cc1</td>\n",
       "      <td>Enamine</td>\n",
       "      <td>In stock</td>\n",
       "      <td>EN300-33645</td>\n",
       "      <td>50.0</td>\n",
       "      <td>€18.00 EUR</td>\n",
       "      <td>0.95</td>\n",
       "      <td>5</td>\n",
       "      <td>2024-09-25</td>\n",
       "      <td>None</td>\n",
       "    </tr>\n",
       "    <tr>\n",
       "      <th>2</th>\n",
       "      <td>10558</td>\n",
       "      <td>Nc1ccc(O)cc1</td>\n",
       "      <td>Enamine</td>\n",
       "      <td>In stock</td>\n",
       "      <td>EN300-33645</td>\n",
       "      <td>100.0</td>\n",
       "      <td>€18.00 EUR</td>\n",
       "      <td>0.95</td>\n",
       "      <td>5</td>\n",
       "      <td>2024-09-25</td>\n",
       "      <td>None</td>\n",
       "    </tr>\n",
       "    <tr>\n",
       "      <th>3</th>\n",
       "      <td>15821</td>\n",
       "      <td>Nc1ccc(O)cc1</td>\n",
       "      <td>Enamine</td>\n",
       "      <td>In stock</td>\n",
       "      <td>EN300-33645</td>\n",
       "      <td>250.0</td>\n",
       "      <td>€18.00 EUR</td>\n",
       "      <td>0.95</td>\n",
       "      <td>5</td>\n",
       "      <td>2024-09-25</td>\n",
       "      <td>None</td>\n",
       "    </tr>\n",
       "  </tbody>\n",
       "</table>\n",
       "</div>"
      ],
      "text/plain": [
       "      id        smiles supplier catalogue        entry  amount       price  \\\n",
       "0     32  Nc1ccc(O)cc1  Enamine  In stock  EN300-33645    20.0  €17.00 EUR   \n",
       "1   5295  Nc1ccc(O)cc1  Enamine  In stock  EN300-33645    50.0  €18.00 EUR   \n",
       "2  10558  Nc1ccc(O)cc1  Enamine  In stock  EN300-33645   100.0  €18.00 EUR   \n",
       "3  15821  Nc1ccc(O)cc1  Enamine  In stock  EN300-33645   250.0  €18.00 EUR   \n",
       "\n",
       "   purity  lead_time        date  type  \n",
       "0    0.95          5  2024-09-25  None  \n",
       "1    0.95          5  2024-09-25  None  \n",
       "2    0.95          5  2024-09-25  None  \n",
       "3    0.95          5  2024-09-25  None  "
      ]
     },
     "execution_count": 246,
     "metadata": {},
     "output_type": "execute_result"
    }
   ],
   "source": [
    "animal.C4452.get_quotes(df=True)"
   ]
  },
  {
   "cell_type": "code",
   "execution_count": 254,
   "id": "7aa897b7-2596-4ec7-ba59-550bb0f64675",
   "metadata": {},
   "outputs": [
    {
     "data": {
      "text/plain": [
       "18"
      ]
     },
     "execution_count": 254,
     "metadata": {},
     "output_type": "execute_result"
    }
   ],
   "source": [
    "recipe.products.compounds.poses.num_inspirations"
   ]
  },
  {
   "cell_type": "code",
   "execution_count": 258,
   "id": "6a163910-d261-401e-bfdb-02d72e9ddb9b",
   "metadata": {},
   "outputs": [
    {
     "data": {
      "text/plain": [
       "14"
      ]
     },
     "execution_count": 258,
     "metadata": {},
     "output_type": "execute_result"
    }
   ],
   "source": [
    "recipe.products.compounds.poses.num_inspiration_sets"
   ]
  },
  {
   "cell_type": "code",
   "execution_count": 257,
   "id": "3c81b8f7-6197-48ea-b9ac-f170659bf585",
   "metadata": {},
   "outputs": [
    {
     "data": {
      "text/plain": [
       "62"
      ]
     },
     "execution_count": 257,
     "metadata": {},
     "output_type": "execute_result"
    }
   ],
   "source": [
    "bases.poses.num_inspirations"
   ]
  },
  {
   "cell_type": "code",
   "execution_count": 266,
   "id": "44d68001-035b-48c7-9472-a812a354d51a",
   "metadata": {},
   "outputs": [
    {
     "ename": "AttributeError",
     "evalue": "'Compound' object has no attribute 'exports'",
     "output_type": "error",
     "traceback": [
      "\u001b[0;31m---------------------------------------------------------------------------\u001b[0m",
      "\u001b[0;31mAttributeError\u001b[0m                            Traceback (most recent call last)",
      "Cell \u001b[0;32mIn[266], line 2\u001b[0m\n\u001b[1;32m      1\u001b[0m \u001b[38;5;28;01mfor\u001b[39;00m comp \u001b[38;5;129;01min\u001b[39;00m animal\u001b[38;5;241m.\u001b[39mcompounds(tag\u001b[38;5;241m=\u001b[39m\u001b[38;5;124m'\u001b[39m\u001b[38;5;124mknitwork\u001b[39m\u001b[38;5;124m'\u001b[39m):\n\u001b[0;32m----> 2\u001b[0m     \u001b[38;5;28mprint\u001b[39m(comp, \u001b[43mcomp\u001b[49m\u001b[38;5;241;43m.\u001b[39;49m\u001b[43mexports\u001b[49m)\n",
      "\u001b[0;31mAttributeError\u001b[0m: 'Compound' object has no attribute 'exports'"
     ]
    }
   ],
   "source": [
    "for comp in animal.compounds(tag='knitwork'):\n",
    "    print(comp, comp)"
   ]
  },
  {
   "cell_type": "code",
   "execution_count": 49,
   "id": "70220eb0-931b-4baf-b7d2-737a9c7fc905",
   "metadata": {},
   "outputs": [
    {
     "data": {
      "text/plain": [
       "[(85, 60.0),\n",
       " (4554, 10.0),\n",
       " (4466, 1.0),\n",
       " (4467, 1.0),\n",
       " (4440, 10.0),\n",
       " (4530, 10.0),\n",
       " (4445, 2.0),\n",
       " (4480, 1.0),\n",
       " (4545, 10.0),\n",
       " (4546, 10.0),\n",
       " (4557, 1.0),\n",
       " (4558, 1.0),\n",
       " (4534, 1.0),\n",
       " (4535, 1.0),\n",
       " (4505, 1.0),\n",
       " (4507, 1.0),\n",
       " (84, 1.0),\n",
       " (4472, 1.0),\n",
       " (4449, 1.0),\n",
       " (4450, 1.0),\n",
       " (4439, 10.0),\n",
       " (4451, 20.0),\n",
       " (4444, 1.0),\n",
       " (4476, 10.0),\n",
       " (4477, 10.0),\n",
       " (4452, 20.0),\n",
       " (4483, 10.0),\n",
       " (76981, 10.0),\n",
       " (76983, 10.0),\n",
       " (76989, 10.0),\n",
       " (76993, 10.0),\n",
       " (76995, 10.0)]"
      ]
     },
     "execution_count": 49,
     "metadata": {},
     "output_type": "execute_result"
    }
   ],
   "source": [
    "[(id,amount) for id,amount in recipe.reactants.df[['compound_id','amount']].values]"
   ]
  },
  {
   "cell_type": "code",
   "execution_count": 50,
   "id": "c72ac552-918e-4b00-8f8d-841a117ed1c4",
   "metadata": {},
   "outputs": [
    {
     "ename": "OperationalError",
     "evalue": "near \"COL_LENGTH\": syntax error",
     "output_type": "error",
     "traceback": [
      "\u001b[0;31m---------------------------------------------------------------------------\u001b[0m",
      "\u001b[0;31mOperationalError\u001b[0m                          Traceback (most recent call last)",
      "Cell \u001b[0;32mIn[50], line 1\u001b[0m\n\u001b[0;32m----> 1\u001b[0m \u001b[43manimal\u001b[49m\u001b[38;5;241;43m.\u001b[39;49m\u001b[43mdb\u001b[49m\u001b[38;5;241;43m.\u001b[39;49m\u001b[43mexecute\u001b[49m\u001b[43m(\u001b[49m\u001b[38;5;124;43m\"\"\"\u001b[39;49m\u001b[38;5;124;43mCOL_LENGTH ( \u001b[39;49m\u001b[38;5;124;43m'\u001b[39;49m\u001b[38;5;124;43mtable\u001b[39;49m\u001b[38;5;124;43m'\u001b[39;49m\u001b[38;5;124;43m , \u001b[39;49m\u001b[38;5;124;43m'\u001b[39;49m\u001b[38;5;124;43mcolumn\u001b[39;49m\u001b[38;5;124;43m'\u001b[39;49m\u001b[38;5;124;43m )\u001b[39;49m\u001b[38;5;124;43m\"\"\"\u001b[39;49m\u001b[43m)\u001b[49m\u001b[38;5;241m.\u001b[39mfetchall()\n",
      "File \u001b[0;32m~/HIPPO/hippo/db.py:233\u001b[0m, in \u001b[0;36mDatabase.execute\u001b[0;34m(self, sql, payload)\u001b[0m\n\u001b[1;32m    231\u001b[0m         \u001b[38;5;28;01mreturn\u001b[39;00m \u001b[38;5;28mself\u001b[39m\u001b[38;5;241m.\u001b[39mcursor\u001b[38;5;241m.\u001b[39mexecute(sql, payload)\n\u001b[1;32m    232\u001b[0m     \u001b[38;5;28;01melse\u001b[39;00m:\n\u001b[0;32m--> 233\u001b[0m         \u001b[38;5;28;01mreturn\u001b[39;00m \u001b[38;5;28;43mself\u001b[39;49m\u001b[38;5;241;43m.\u001b[39;49m\u001b[43mcursor\u001b[49m\u001b[38;5;241;43m.\u001b[39;49m\u001b[43mexecute\u001b[49m\u001b[43m(\u001b[49m\u001b[43msql\u001b[49m\u001b[43m)\u001b[49m\n\u001b[1;32m    234\u001b[0m \u001b[38;5;28;01mexcept\u001b[39;00m Error \u001b[38;5;28;01mas\u001b[39;00m e:\n\u001b[1;32m    235\u001b[0m     \u001b[38;5;28;01mraise\u001b[39;00m\n",
      "\u001b[0;31mOperationalError\u001b[0m: near \"COL_LENGTH\": syntax error"
     ]
    }
   ],
   "source": [
    "animal.db.execute(\"\"\"COL_LENGTH ( 'table' , 'column' )\"\"\").fetchall()"
   ]
  },
  {
   "cell_type": "code",
   "execution_count": 73,
   "id": "59dcd74d-0467-4b7d-a885-7f79bf1268b1",
   "metadata": {},
   "outputs": [
    {
     "data": {
      "text/plain": [
       "['component_id', 'component_route', 'component_type', 'component_ref']"
      ]
     },
     "execution_count": 73,
     "metadata": {},
     "output_type": "execute_result"
    }
   ],
   "source": [
    "animal.db.column_names('component')"
   ]
  },
  {
   "cell_type": "code",
   "execution_count": 56,
   "id": "61e02ebe-bd67-4979-8de4-fa14cf15eb3b",
   "metadata": {},
   "outputs": [
    {
     "data": {
      "text/plain": [
       "[(0, 'component_id', 'INTEGER', 0, None, 1),\n",
       " (1, 'component_route', 'INTEGER', 0, None, 0),\n",
       " (2, 'component_type', 'INTEGER', 0, None, 0),\n",
       " (3, 'component_ref', 'INTEGER', 0, None, 0)]"
      ]
     },
     "execution_count": 56,
     "metadata": {},
     "output_type": "execute_result"
    }
   ],
   "source": [
    "animal.db.execute(\"\"\"PRAGMA table_info(component);\"\"\").fetchall()"
   ]
  },
  {
   "cell_type": "code",
   "execution_count": 57,
   "id": "89471682-c68c-4568-8026-07d0581c2107",
   "metadata": {},
   "outputs": [
    {
     "data": {
      "text/plain": [
       "[(0, 'component_id', 'INTEGER', 0, None, 1),\n",
       " (1, 'component_route', 'INTEGER', 0, None, 0),\n",
       " (2, 'component_type', 'INTEGER', 0, None, 0),\n",
       " (3, 'component_ref', 'INTEGER', 0, None, 0)]"
      ]
     },
     "execution_count": 57,
     "metadata": {},
     "output_type": "execute_result"
    }
   ],
   "source": [
    "animal.db.table_info(\"component\")"
   ]
  },
  {
   "cell_type": "code",
   "execution_count": null,
   "id": "af63364f-4cf4-4522-bc1e-983489b597a2",
   "metadata": {},
   "outputs": [],
   "source": []
  },
  {
   "cell_type": "code",
   "execution_count": null,
   "id": "5fd7aa72-e8bd-41b8-80b2-bc884d1db342",
   "metadata": {},
   "outputs": [],
   "source": []
  }
 ],
 "metadata": {
  "kernelspec": {
   "display_name": "Python [conda env:base] *",
   "language": "python",
   "name": "conda-base-py"
  },
  "language_info": {
   "codemirror_mode": {
    "name": "ipython",
    "version": 3
   },
   "file_extension": ".py",
   "mimetype": "text/x-python",
   "name": "python",
   "nbconvert_exporter": "python",
   "pygments_lexer": "ipython3",
   "version": "3.11.6"
  }
 },
 "nbformat": 4,
 "nbformat_minor": 5
}
