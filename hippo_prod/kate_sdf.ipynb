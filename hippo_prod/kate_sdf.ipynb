{
 "cells": [
  {
   "cell_type": "markdown",
   "id": "e80f98e7-10d9-49ff-a80b-f36c160c1e29",
   "metadata": {},
   "source": [
    "# Export Kate SDF"
   ]
  },
  {
   "cell_type": "markdown",
   "id": "a61f5fb0-ad17-4a68-8d3b-6399a6413e42",
   "metadata": {},
   "source": [
    "## Setup"
   ]
  },
  {
   "cell_type": "code",
   "execution_count": 61,
   "id": "b1125662-7763-4b2d-ad01-2af2931508ce",
   "metadata": {},
   "outputs": [
    {
     "name": "stdout",
     "output_type": "stream",
     "text": [
      "The autoreload extension is already loaded. To reload it, use:\n",
      "  %reload_ext autoreload\n"
     ]
    }
   ],
   "source": [
    "%load_ext autoreload\n",
    "%autoreload 2\n",
    "import hippo\n",
    "from pathlib import Path\n",
    "from mlog import setup_logger\n",
    "import pandas as pd\n",
    "import numpy as np\n",
    "from tqdm import tqdm\n",
    "import json\n",
    "logger=setup_logger('notebook')"
   ]
  },
  {
   "cell_type": "code",
   "execution_count": 2,
   "id": "b63f2050-7e82-46c5-b2a3-7c821378cce4",
   "metadata": {},
   "outputs": [
    {
     "name": "stdout",
     "output_type": "stream",
     "text": [
      "'CHIKV_prod3.sqlite' -> 'kate_sdf.sqlite'\n"
     ]
    }
   ],
   "source": [
    "!cp -v CHIKV_prod3.sqlite kate_sdf.sqlite"
   ]
  },
  {
   "cell_type": "code",
   "execution_count": 3,
   "id": "80f578e0-1942-416c-81c3-d2fac0d4a022",
   "metadata": {},
   "outputs": [
    {
     "name": "stdout",
     "output_type": "stream",
     "text": [
      "\u001b[1m\u001b[38;5;166mCreating HIPPO animal\u001b[0m\n",
      "\u001b[36mname\u001b[0m = \u001b[38;5;154mkate_sdf\u001b[0m\n",
      "\u001b[36mdb_path\u001b[0m = \u001b[38;5;11mkate_sdf.sqlite\u001b[0m\n",
      "\u001b[2mDEBUG: hippo3.Database.__init__()\u001b[0m\n",
      "\u001b[2mDEBUG: Database.path = kate_sdf.sqlite\u001b[0m\n",
      "\u001b[2mDEBUG: hippo3.Database.connect()\u001b[0m\n",
      "\u001b[2mDEBUG: sqlite3.version='2.6.0'\u001b[0m\n",
      "\u001b[7m\u001b[32;1m SUCCESS \u001b[0m\u001b[32;1m Database connected @ \u001b[38;5;11mkate_sdf.sqlite!\u001b[0m\n",
      "\u001b[7m\u001b[32;1m SUCCESS \u001b[0m\u001b[32;1m Initialised animal HIPPO(\"kate_sdf\")!\u001b[0m\n"
     ]
    }
   ],
   "source": [
    "animal = hippo.HIPPO('kate_sdf', 'kate_sdf.sqlite')"
   ]
  },
  {
   "cell_type": "code",
   "execution_count": 4,
   "id": "4f664a62-7142-49f7-837e-7638d40a4ba7",
   "metadata": {},
   "outputs": [],
   "source": [
    "animal.db.delete_where(table='scaffold', key='scaffold_base = scaffold_superstructure')"
   ]
  },
  {
   "cell_type": "code",
   "execution_count": 7,
   "id": "dbf83db8-b362-4f3e-aaad-3ef094db39ed",
   "metadata": {},
   "outputs": [],
   "source": [
    "poses = animal.compounds(tag='Syndirella base').elabs.poses.get_by_tag('deprecated', inverse=True)"
   ]
  },
  {
   "cell_type": "code",
   "execution_count": 8,
   "id": "3d241912-8b6d-4296-8da5-df8a8a0f94c9",
   "metadata": {},
   "outputs": [
    {
     "data": {
      "text/plain": [
       "\u001b[1m\u001b[4m{P x 111029}\u001b[22m\u001b[24m"
      ]
     },
     "execution_count": 8,
     "metadata": {},
     "output_type": "execute_result"
    }
   ],
   "source": [
    "poses"
   ]
  },
  {
   "cell_type": "code",
   "execution_count": 63,
   "id": "8761f660-8f4d-4157-a38d-1d09e5e27c39",
   "metadata": {},
   "outputs": [
    {
     "name": "stderr",
     "output_type": "stream",
     "text": [
      " 20%|██        | 1/5 [00:01<00:06,  1.73s/it]"
     ]
    },
    {
     "name": "stdout",
     "output_type": "stream",
     "text": [
      "P6237 JXRCCCJCUJURBQ-UHFFFAOYSA-N XQWKZXHQRAAZAF-UHFFFAOYSA-N -9.89355635097509 1.071241137877884 [\"Buchwald-Hartwig_amination\"]\n"
     ]
    },
    {
     "name": "stderr",
     "output_type": "stream",
     "text": [
      " 40%|████      | 2/5 [00:04<00:06,  2.14s/it]"
     ]
    },
    {
     "name": "stdout",
     "output_type": "stream",
     "text": [
      "P6304 MXSSSSOMAIZODF-UHFFFAOYSA-N SMVDAYWKXWVCAN-UHFFFAOYSA-N -33.80845529102922 0.7711546199763104 [\"Amidation\"]\n"
     ]
    },
    {
     "name": "stderr",
     "output_type": "stream",
     "text": [
      " 60%|██████    | 3/5 [00:05<00:03,  1.84s/it]"
     ]
    },
    {
     "name": "stdout",
     "output_type": "stream",
     "text": [
      "P6305 WVGNEPBTBZWFPM-UHFFFAOYSA-N SMVDAYWKXWVCAN-UHFFFAOYSA-N -23.66435516922766 1.1106042695019955 [\"Amidation\"]\n"
     ]
    },
    {
     "name": "stderr",
     "output_type": "stream",
     "text": [
      " 80%|████████  | 4/5 [00:06<00:01,  1.59s/it]"
     ]
    },
    {
     "name": "stdout",
     "output_type": "stream",
     "text": [
      "P6306 WVGNEPBTBZWFPM-UHFFFAOYSA-N SMVDAYWKXWVCAN-UHFFFAOYSA-N 6.331419031100751 1.1427197896849999 [\"Amidation\"]\n"
     ]
    },
    {
     "name": "stderr",
     "output_type": "stream",
     "text": [
      "100%|██████████| 5/5 [00:07<00:00,  1.58s/it]"
     ]
    },
    {
     "name": "stdout",
     "output_type": "stream",
     "text": [
      "P6307 WVGNEPBTBZWFPM-UHFFFAOYSA-N SMVDAYWKXWVCAN-UHFFFAOYSA-N -48.40138115107678 1.077545641831973 [\"Amidation\"]\n"
     ]
    },
    {
     "name": "stderr",
     "output_type": "stream",
     "text": [
      "\n"
     ]
    }
   ],
   "source": [
    "for pose in tqdm(poses[:5]):\n",
    "    c = pose.compound\n",
    "    b = c.bases\n",
    "\n",
    "    recipes = hippo.Recipe.from_compounds(\n",
    "        compounds=animal.compounds[c.id,], \n",
    "        quoted_only=False, \n",
    "        get_ingredient_quotes=False, \n",
    "        pick_cheapest=False\n",
    "    )\n",
    "    \n",
    "    for recipe in recipes:\n",
    "        type_str = json.dumps(recipe.reactions.types)\n",
    "        for base in b:\n",
    "            print(pose, c.inchikey, base.inchikey, pose.energy_score, pose.distance_score, type_str)\n",
    "        "
   ]
  },
  {
   "cell_type": "code",
   "execution_count": 20,
   "id": "96076297-9acd-40e0-9aea-ab7b380a6304",
   "metadata": {},
   "outputs": [],
   "source": [
    "pose = animal.P6237"
   ]
  },
  {
   "cell_type": "code",
   "execution_count": 22,
   "id": "6a73fe70-47cf-4528-831d-9dd27a68b9c3",
   "metadata": {},
   "outputs": [],
   "source": [
    "c = pose.compound"
   ]
  },
  {
   "cell_type": "code",
   "execution_count": 23,
   "id": "3f972a09-c4cd-4793-ae2b-e10af129f8ff",
   "metadata": {},
   "outputs": [
    {
     "data": {
      "text/plain": [
       "\u001b[1m\u001b[4mreactions resulting in C3625: {R x 1}\u001b[22m\u001b[24m"
      ]
     },
     "execution_count": 23,
     "metadata": {},
     "output_type": "execute_result"
    }
   ],
   "source": [
    "c.reactions"
   ]
  },
  {
   "cell_type": "code",
   "execution_count": 30,
   "id": "7dc31c0c-0c22-4b21-9088-c1dc7c0bcdb5",
   "metadata": {},
   "outputs": [
    {
     "name": "stdout",
     "output_type": "stream",
     "text": [
      "\u001b[36mrecursive depth\u001b[0m = 1\u001b[0m\n",
      "\u001b[36m#products\u001b[0m = 1\u001b[0m\n",
      "\u001b[36m#reactions\u001b[0m = 1\u001b[0m\n",
      "\u001b[36m#reactants\u001b[0m = 2\u001b[0m\n",
      "\u001b[36mrecursive depth\u001b[0m = 2\u001b[0m\n",
      "\u001b[36m#products\u001b[0m = 2\u001b[0m\n",
      "\u001b[36m#all_reactants\u001b[0m = 2\u001b[0m\n",
      "\u001b[36m#all_reactions\u001b[0m = 1\u001b[0m\n"
     ]
    }
   ],
   "source": [
    "reactants, reactions = animal.db.get_unsolved_reaction_tree(product_ids=[3625], debug=True)"
   ]
  },
  {
   "cell_type": "code",
   "execution_count": 31,
   "id": "95d3dbe5-88eb-4d54-818e-bc03ceaa8b6a",
   "metadata": {},
   "outputs": [
    {
     "data": {
      "text/plain": [
       "[4451, 4452]"
      ]
     },
     "execution_count": 31,
     "metadata": {},
     "output_type": "execute_result"
    }
   ],
   "source": [
    "reactants.ids"
   ]
  },
  {
   "cell_type": "code",
   "execution_count": 32,
   "id": "0060f39a-c2f6-4d22-b1e0-6eba30d8a5a6",
   "metadata": {},
   "outputs": [
    {
     "data": {
      "text/plain": [
       "\u001b[1m\u001b[4mR18: C4451 + C4452 -> C3625 via Buchwald-Hartwig_amination\u001b[22m\u001b[24m"
      ]
     },
     "execution_count": 32,
     "metadata": {},
     "output_type": "execute_result"
    }
   ],
   "source": [
    "reactions[0]"
   ]
  },
  {
   "cell_type": "code",
   "execution_count": 50,
   "id": "ea58c2c1-471f-431c-a313-9b1019ec616d",
   "metadata": {},
   "outputs": [],
   "source": [
    "recipes = hippo.Recipe.from_compounds(compounds=animal.compounds[3625,], quoted_only=False, get_ingredient_quotes=False, pick_cheapest=False)"
   ]
  },
  {
   "cell_type": "code",
   "execution_count": 58,
   "id": "cc2861c8-bca6-4fa5-bdfa-c0d533f8167e",
   "metadata": {},
   "outputs": [
    {
     "data": {
      "text/plain": [
       "['Buchwald-Hartwig_amination']"
      ]
     },
     "execution_count": 58,
     "metadata": {},
     "output_type": "execute_result"
    }
   ],
   "source": [
    "recipes[0].reactions.types"
   ]
  },
  {
   "cell_type": "code",
   "execution_count": null,
   "id": "3c0a5599-d573-4e52-b8a5-9265f087dad5",
   "metadata": {},
   "outputs": [],
   "source": []
  }
 ],
 "metadata": {
  "kernelspec": {
   "display_name": "Python [conda env:base] *",
   "language": "python",
   "name": "conda-base-py"
  },
  "language_info": {
   "codemirror_mode": {
    "name": "ipython",
    "version": 3
   },
   "file_extension": ".py",
   "mimetype": "text/x-python",
   "name": "python",
   "nbconvert_exporter": "python",
   "pygments_lexer": "ipython3",
   "version": "3.11.6"
  }
 },
 "nbformat": 4,
 "nbformat_minor": 5
}
