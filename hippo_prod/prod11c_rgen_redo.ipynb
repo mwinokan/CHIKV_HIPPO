{
 "cells": [
  {
   "cell_type": "markdown",
   "id": "e80f98e7-10d9-49ff-a80b-f36c160c1e29",
   "metadata": {},
   "source": [
    "# CHIKV_Mac HIPPO FFF Prod. 11 (rgen redo)"
   ]
  },
  {
   "cell_type": "markdown",
   "id": "a61f5fb0-ad17-4a68-8d3b-6399a6413e42",
   "metadata": {},
   "source": [
    "## Setup"
   ]
  },
  {
   "cell_type": "code",
   "execution_count": 1,
   "id": "b1125662-7763-4b2d-ad01-2af2931508ce",
   "metadata": {},
   "outputs": [],
   "source": [
    "%load_ext autoreload\n",
    "%autoreload 2\n",
    "import hippo\n",
    "from pathlib import Path\n",
    "from mlog import setup_logger\n",
    "import pandas as pd\n",
    "import numpy as np\n",
    "import molparse as mp\n",
    "logger=setup_logger('notebook')"
   ]
  },
  {
   "cell_type": "code",
   "execution_count": 8,
   "id": "80f578e0-1942-416c-81c3-d2fac0d4a022",
   "metadata": {},
   "outputs": [
    {
     "data": {
      "text/html": [
       "<pre style=\"white-space:pre;overflow-x:auto;line-height:normal;font-family:Menlo,'DejaVu Sans Mono',consolas,'Courier New',monospace\"><span style=\"font-weight: bold\"> Creating HIPPO animal</span>\n",
       "</pre>\n"
      ],
      "text/plain": [
       "\u001b[1m Creating HIPPO animal\u001b[0m\n"
      ]
     },
     "metadata": {},
     "output_type": "display_data"
    },
    {
     "data": {
      "text/html": [
       "<pre style=\"white-space:pre;overflow-x:auto;line-height:normal;font-family:Menlo,'DejaVu Sans Mono',consolas,'Courier New',monospace\"><span style=\"color: #008080; text-decoration-color: #008080; font-weight: bold\">name</span> = <span style=\"color: #00d7af; text-decoration-color: #00d7af\">CHIKV_prod11c</span>\n",
       "</pre>\n"
      ],
      "text/plain": [
       "\u001b[1;36mname\u001b[0m = \u001b[38;5;43mCHIKV_prod11c\u001b[0m\n"
      ]
     },
     "metadata": {},
     "output_type": "display_data"
    },
    {
     "data": {
      "text/html": [
       "<pre style=\"white-space:pre;overflow-x:auto;line-height:normal;font-family:Menlo,'DejaVu Sans Mono',consolas,'Courier New',monospace\"><span style=\"color: #008080; text-decoration-color: #008080; font-weight: bold\">db_path</span> = <span style=\"color: #d7af00; text-decoration-color: #d7af00\">CHIKV_prod11c.sqlite</span>\n",
       "</pre>\n"
      ],
      "text/plain": [
       "\u001b[1;36mdb_path\u001b[0m = \u001b[38;5;178mCHIKV_prod11c.sqlite\u001b[0m\n"
      ]
     },
     "metadata": {},
     "output_type": "display_data"
    },
    {
     "data": {
      "text/html": [
       "<pre style=\"white-space:pre;overflow-x:auto;line-height:normal;font-family:Menlo,'DejaVu Sans Mono',consolas,'Courier New',monospace\">Copying CHIKV_prod10b.sqlite --&gt; CHIKV_prod11c.sqlite\n",
       "</pre>\n"
      ],
      "text/plain": [
       "Copying CHIKV_prod10b.sqlite --> CHIKV_prod11c.sqlite\n"
      ]
     },
     "metadata": {},
     "output_type": "display_data"
    },
    {
     "data": {
      "text/html": [
       "<pre style=\"white-space:pre;overflow-x:auto;line-height:normal;font-family:Menlo,'DejaVu Sans Mono',consolas,'Courier New',monospace\"><span style=\"color: #808080; text-decoration-color: #808080\">DEBUG: Copied 10000 of 166719 pages...</span>\n",
       "</pre>\n"
      ],
      "text/plain": [
       "\u001b[90mDEBUG: Copied 10000 of 166719 pages...\u001b[0m\n"
      ]
     },
     "metadata": {},
     "output_type": "display_data"
    },
    {
     "data": {
      "text/html": [
       "<pre style=\"white-space:pre;overflow-x:auto;line-height:normal;font-family:Menlo,'DejaVu Sans Mono',consolas,'Courier New',monospace\"><span style=\"color: #808080; text-decoration-color: #808080\">DEBUG: Copied 20000 of 166719 pages...</span>\n",
       "</pre>\n"
      ],
      "text/plain": [
       "\u001b[90mDEBUG: Copied 20000 of 166719 pages...\u001b[0m\n"
      ]
     },
     "metadata": {},
     "output_type": "display_data"
    },
    {
     "data": {
      "text/html": [
       "<pre style=\"white-space:pre;overflow-x:auto;line-height:normal;font-family:Menlo,'DejaVu Sans Mono',consolas,'Courier New',monospace\"><span style=\"color: #808080; text-decoration-color: #808080\">DEBUG: Copied 30000 of 166719 pages...</span>\n",
       "</pre>\n"
      ],
      "text/plain": [
       "\u001b[90mDEBUG: Copied 30000 of 166719 pages...\u001b[0m\n"
      ]
     },
     "metadata": {},
     "output_type": "display_data"
    },
    {
     "data": {
      "text/html": [
       "<pre style=\"white-space:pre;overflow-x:auto;line-height:normal;font-family:Menlo,'DejaVu Sans Mono',consolas,'Courier New',monospace\"><span style=\"color: #808080; text-decoration-color: #808080\">DEBUG: Copied 40000 of 166719 pages...</span>\n",
       "</pre>\n"
      ],
      "text/plain": [
       "\u001b[90mDEBUG: Copied 40000 of 166719 pages...\u001b[0m\n"
      ]
     },
     "metadata": {},
     "output_type": "display_data"
    },
    {
     "data": {
      "text/html": [
       "<pre style=\"white-space:pre;overflow-x:auto;line-height:normal;font-family:Menlo,'DejaVu Sans Mono',consolas,'Courier New',monospace\"><span style=\"color: #808080; text-decoration-color: #808080\">DEBUG: Copied 50000 of 166719 pages...</span>\n",
       "</pre>\n"
      ],
      "text/plain": [
       "\u001b[90mDEBUG: Copied 50000 of 166719 pages...\u001b[0m\n"
      ]
     },
     "metadata": {},
     "output_type": "display_data"
    },
    {
     "data": {
      "text/html": [
       "<pre style=\"white-space:pre;overflow-x:auto;line-height:normal;font-family:Menlo,'DejaVu Sans Mono',consolas,'Courier New',monospace\"><span style=\"color: #808080; text-decoration-color: #808080\">DEBUG: Copied 60000 of 166719 pages...</span>\n",
       "</pre>\n"
      ],
      "text/plain": [
       "\u001b[90mDEBUG: Copied 60000 of 166719 pages...\u001b[0m\n"
      ]
     },
     "metadata": {},
     "output_type": "display_data"
    },
    {
     "data": {
      "text/html": [
       "<pre style=\"white-space:pre;overflow-x:auto;line-height:normal;font-family:Menlo,'DejaVu Sans Mono',consolas,'Courier New',monospace\"><span style=\"color: #808080; text-decoration-color: #808080\">DEBUG: Copied 70000 of 166719 pages...</span>\n",
       "</pre>\n"
      ],
      "text/plain": [
       "\u001b[90mDEBUG: Copied 70000 of 166719 pages...\u001b[0m\n"
      ]
     },
     "metadata": {},
     "output_type": "display_data"
    },
    {
     "data": {
      "text/html": [
       "<pre style=\"white-space:pre;overflow-x:auto;line-height:normal;font-family:Menlo,'DejaVu Sans Mono',consolas,'Courier New',monospace\"><span style=\"color: #808080; text-decoration-color: #808080\">DEBUG: Copied 80000 of 166719 pages...</span>\n",
       "</pre>\n"
      ],
      "text/plain": [
       "\u001b[90mDEBUG: Copied 80000 of 166719 pages...\u001b[0m\n"
      ]
     },
     "metadata": {},
     "output_type": "display_data"
    },
    {
     "data": {
      "text/html": [
       "<pre style=\"white-space:pre;overflow-x:auto;line-height:normal;font-family:Menlo,'DejaVu Sans Mono',consolas,'Courier New',monospace\"><span style=\"color: #808080; text-decoration-color: #808080\">DEBUG: Copied 90000 of 166719 pages...</span>\n",
       "</pre>\n"
      ],
      "text/plain": [
       "\u001b[90mDEBUG: Copied 90000 of 166719 pages...\u001b[0m\n"
      ]
     },
     "metadata": {},
     "output_type": "display_data"
    },
    {
     "data": {
      "text/html": [
       "<pre style=\"white-space:pre;overflow-x:auto;line-height:normal;font-family:Menlo,'DejaVu Sans Mono',consolas,'Courier New',monospace\"><span style=\"color: #808080; text-decoration-color: #808080\">DEBUG: Copied 100000 of 166719 pages...</span>\n",
       "</pre>\n"
      ],
      "text/plain": [
       "\u001b[90mDEBUG: Copied 100000 of 166719 pages...\u001b[0m\n"
      ]
     },
     "metadata": {},
     "output_type": "display_data"
    },
    {
     "data": {
      "text/html": [
       "<pre style=\"white-space:pre;overflow-x:auto;line-height:normal;font-family:Menlo,'DejaVu Sans Mono',consolas,'Courier New',monospace\"><span style=\"color: #808080; text-decoration-color: #808080\">DEBUG: Copied 110000 of 166719 pages...</span>\n",
       "</pre>\n"
      ],
      "text/plain": [
       "\u001b[90mDEBUG: Copied 110000 of 166719 pages...\u001b[0m\n"
      ]
     },
     "metadata": {},
     "output_type": "display_data"
    },
    {
     "data": {
      "text/html": [
       "<pre style=\"white-space:pre;overflow-x:auto;line-height:normal;font-family:Menlo,'DejaVu Sans Mono',consolas,'Courier New',monospace\"><span style=\"color: #808080; text-decoration-color: #808080\">DEBUG: Copied 120000 of 166719 pages...</span>\n",
       "</pre>\n"
      ],
      "text/plain": [
       "\u001b[90mDEBUG: Copied 120000 of 166719 pages...\u001b[0m\n"
      ]
     },
     "metadata": {},
     "output_type": "display_data"
    },
    {
     "data": {
      "text/html": [
       "<pre style=\"white-space:pre;overflow-x:auto;line-height:normal;font-family:Menlo,'DejaVu Sans Mono',consolas,'Courier New',monospace\"><span style=\"color: #808080; text-decoration-color: #808080\">DEBUG: Copied 130000 of 166719 pages...</span>\n",
       "</pre>\n"
      ],
      "text/plain": [
       "\u001b[90mDEBUG: Copied 130000 of 166719 pages...\u001b[0m\n"
      ]
     },
     "metadata": {},
     "output_type": "display_data"
    },
    {
     "data": {
      "text/html": [
       "<pre style=\"white-space:pre;overflow-x:auto;line-height:normal;font-family:Menlo,'DejaVu Sans Mono',consolas,'Courier New',monospace\"><span style=\"color: #808080; text-decoration-color: #808080\">DEBUG: Copied 140000 of 166719 pages...</span>\n",
       "</pre>\n"
      ],
      "text/plain": [
       "\u001b[90mDEBUG: Copied 140000 of 166719 pages...\u001b[0m\n"
      ]
     },
     "metadata": {},
     "output_type": "display_data"
    },
    {
     "data": {
      "text/html": [
       "<pre style=\"white-space:pre;overflow-x:auto;line-height:normal;font-family:Menlo,'DejaVu Sans Mono',consolas,'Courier New',monospace\"><span style=\"color: #808080; text-decoration-color: #808080\">DEBUG: Copied 150000 of 166719 pages...</span>\n",
       "</pre>\n"
      ],
      "text/plain": [
       "\u001b[90mDEBUG: Copied 150000 of 166719 pages...\u001b[0m\n"
      ]
     },
     "metadata": {},
     "output_type": "display_data"
    },
    {
     "data": {
      "text/html": [
       "<pre style=\"white-space:pre;overflow-x:auto;line-height:normal;font-family:Menlo,'DejaVu Sans Mono',consolas,'Courier New',monospace\"><span style=\"color: #808080; text-decoration-color: #808080\">DEBUG: Copied 160000 of 166719 pages...</span>\n",
       "</pre>\n"
      ],
      "text/plain": [
       "\u001b[90mDEBUG: Copied 160000 of 166719 pages...\u001b[0m\n"
      ]
     },
     "metadata": {},
     "output_type": "display_data"
    },
    {
     "data": {
      "text/html": [
       "<pre style=\"white-space:pre;overflow-x:auto;line-height:normal;font-family:Menlo,'DejaVu Sans Mono',consolas,'Courier New',monospace\"><span style=\"color: #808080; text-decoration-color: #808080\">DEBUG: Copied 166719 of 166719 pages...</span>\n",
       "</pre>\n"
      ],
      "text/plain": [
       "\u001b[90mDEBUG: Copied 166719 of 166719 pages...\u001b[0m\n"
      ]
     },
     "metadata": {},
     "output_type": "display_data"
    },
    {
     "data": {
      "text/html": [
       "<pre style=\"white-space:pre;overflow-x:auto;line-height:normal;font-family:Menlo,'DejaVu Sans Mono',consolas,'Courier New',monospace\"><span style=\"color: #808080; text-decoration-color: #808080\">DEBUG: hippo.Database.__init__()</span>\n",
       "</pre>\n"
      ],
      "text/plain": [
       "\u001b[90mDEBUG: hippo.Database.__init__()\u001b[0m\n"
      ]
     },
     "metadata": {},
     "output_type": "display_data"
    },
    {
     "data": {
      "text/html": [
       "<pre style=\"white-space:pre;overflow-x:auto;line-height:normal;font-family:Menlo,'DejaVu Sans Mono',consolas,'Courier New',monospace\"><span style=\"color: #808080; text-decoration-color: #808080\">DEBUG: Database.path = CHIKV_prod11c.sqlite</span>\n",
       "</pre>\n"
      ],
      "text/plain": [
       "\u001b[90mDEBUG: Database.path = CHIKV_prod11c.sqlite\u001b[0m\n"
      ]
     },
     "metadata": {},
     "output_type": "display_data"
    },
    {
     "data": {
      "text/html": [
       "<pre style=\"white-space:pre;overflow-x:auto;line-height:normal;font-family:Menlo,'DejaVu Sans Mono',consolas,'Courier New',monospace\"><span style=\"color: #808080; text-decoration-color: #808080\">DEBUG: hippo.Database.connect()</span>\n",
       "</pre>\n"
      ],
      "text/plain": [
       "\u001b[90mDEBUG: hippo.Database.connect()\u001b[0m\n"
      ]
     },
     "metadata": {},
     "output_type": "display_data"
    },
    {
     "data": {
      "text/html": [
       "<pre style=\"white-space:pre;overflow-x:auto;line-height:normal;font-family:Menlo,'DejaVu Sans Mono',consolas,'Courier New',monospace\"><span style=\"color: #808080; text-decoration-color: #808080\">DEBUG: sqlite3.version='2.6.0'</span>\n",
       "</pre>\n"
      ],
      "text/plain": [
       "\u001b[90mDEBUG: sqlite3.version='2.6.0'\u001b[0m\n"
      ]
     },
     "metadata": {},
     "output_type": "display_data"
    },
    {
     "data": {
      "text/html": [
       "<pre style=\"white-space:pre;overflow-x:auto;line-height:normal;font-family:Menlo,'DejaVu Sans Mono',consolas,'Courier New',monospace\"><span style=\"background-color: #008000; font-weight: bold\"> Success </span><span style=\"color: #008000; text-decoration-color: #008000; font-weight: bold\"> Database connected @</span><span style=\"color: #d7af00; text-decoration-color: #d7af00; font-weight: bold\"> CHIKV_prod11c.sqlite!</span>\n",
       "</pre>\n"
      ],
      "text/plain": [
       "\u001b[1;7;32m Success \u001b[0m\u001b[1;32m Database connected @\u001b[0m\u001b[1;38;5;178m CHIKV_prod11c.sqlite!\u001b[0m\n"
      ]
     },
     "metadata": {},
     "output_type": "display_data"
    },
    {
     "data": {
      "text/html": [
       "<pre style=\"white-space:pre;overflow-x:auto;line-height:normal;font-family:Menlo,'DejaVu Sans Mono',consolas,'Courier New',monospace\"><span style=\"background-color: #008000; font-weight: bold\"> Success </span><span style=\"color: #008000; text-decoration-color: #008000; font-weight: bold\"> Initialised animal</span><span style=\"color: #008080; text-decoration-color: #008080; font-weight: bold\"> HIPPO(\"CHIKV_prod11c\")!</span>\n",
       "</pre>\n"
      ],
      "text/plain": [
       "\u001b[1;7;32m Success \u001b[0m\u001b[1;32m Initialised animal\u001b[0m\u001b[1;36m HIPPO(\"CHIKV_prod11c\")!\u001b[0m\n"
      ]
     },
     "metadata": {},
     "output_type": "display_data"
    }
   ],
   "source": [
    "animal = hippo.HIPPO('CHIKV_prod11c', 'CHIKV_prod11c.sqlite' , copy_from='CHIKV_prod10b.sqlite', overwrite_existing=False)"
   ]
  },
  {
   "cell_type": "markdown",
   "id": "6e28bb59-8335-43f0-bb5a-48ead6de913d",
   "metadata": {},
   "source": [
    "## Create the RRG"
   ]
  },
  {
   "cell_type": "code",
   "execution_count": 16,
   "id": "872a7e58-9faf-4815-929e-c2c91b26b68c",
   "metadata": {},
   "outputs": [
    {
     "data": {
      "text/html": [
       "<pre style=\"white-space:pre;overflow-x:auto;line-height:normal;font-family:Menlo,'DejaVu Sans Mono',consolas,'Courier New',monospace\"><span style=\"background-color: #d7af00; font-weight: bold\"> DISK </span> Reading <span style=\"color: #d7af00; text-decoration-color: #d7af00\">CHIKV_prod13_recipes/Recipe_1GJL3B8.json</span>...\n",
       "</pre>\n"
      ],
      "text/plain": [
       "\u001b[1;7;38;5;178m DISK \u001b[0m Reading \u001b[38;5;178mCHIKV_prod13_recipes/Recipe_1GJL3B8.json\u001b[0m...\n"
      ]
     },
     "metadata": {},
     "output_type": "display_data"
    },
    {
     "data": {
      "text/html": [
       "<pre style=\"white-space:pre;overflow-x:auto;line-height:normal;font-family:Menlo,'DejaVu Sans Mono',consolas,'Courier New',monospace\"><span style=\"color: #008080; text-decoration-color: #008080; font-weight: bold\">session</span> = <span style=\"color: #800080; text-decoration-color: #800080\">/opt/xchem-fragalysis-2/maxwin/CHIKV_HIPPO/hippo_prod/</span><span style=\"color: #ff00ff; text-decoration-color: #ff00ff\">CHIKV_prod11c.sqlite</span>\n",
       "</pre>\n"
      ],
      "text/plain": [
       "\u001b[1;36msession\u001b[0m = \u001b[35m/opt/xchem-fragalysis-2/maxwin/CHIKV_HIPPO/hippo_prod/\u001b[0m\u001b[95mCHIKV_prod11c.sqlite\u001b[0m\n"
      ]
     },
     "metadata": {},
     "output_type": "display_data"
    },
    {
     "data": {
      "text/html": [
       "<pre style=\"white-space:pre;overflow-x:auto;line-height:normal;font-family:Menlo,'DejaVu Sans Mono',consolas,'Courier New',monospace\"><span style=\"color: #008080; text-decoration-color: #008080; font-weight: bold\">in file</span> = <span style=\"color: #800080; text-decoration-color: #800080\">/opt/xchem-fragalysis-2/maxwin/CHIKV_HIPPO/hippo_prod/</span><span style=\"color: #ff00ff; text-decoration-color: #ff00ff\">CHIKV_prod13_batch.sqlite</span>\n",
       "</pre>\n"
      ],
      "text/plain": [
       "\u001b[1;36min file\u001b[0m = \u001b[35m/opt/xchem-fragalysis-2/maxwin/CHIKV_HIPPO/hippo_prod/\u001b[0m\u001b[95mCHIKV_prod13_batch.sqlite\u001b[0m\n"
      ]
     },
     "metadata": {},
     "output_type": "display_data"
    },
    {
     "data": {
      "text/html": [
       "<pre style=\"white-space:pre;overflow-x:auto;line-height:normal;font-family:Menlo,'DejaVu Sans Mono',consolas,'Courier New',monospace\"><span style=\"background-color: #ff8700; font-weight: bold\"> Warning </span><span style=\"color: #ff8700; text-decoration-color: #ff8700\"> Database path mismatch!</span>\n",
       "</pre>\n"
      ],
      "text/plain": [
       "\u001b[1;7;38;5;208m Warning \u001b[0m\u001b[38;5;208m Database path mismatch!\u001b[0m\n"
      ]
     },
     "metadata": {},
     "output_type": "display_data"
    },
    {
     "data": {
      "text/html": [
       "<pre style=\"white-space:pre;overflow-x:auto;line-height:normal;font-family:Menlo,'DejaVu Sans Mono',consolas,'Courier New',monospace\">Recipe was generated at: <span style=\"color: #008080; text-decoration-color: #008080; font-weight: bold\">2024</span>-<span style=\"color: #008080; text-decoration-color: #008080; font-weight: bold\">10</span>-<span style=\"color: #008080; text-decoration-color: #008080; font-weight: bold\">24</span> <span style=\"color: #00ff00; text-decoration-color: #00ff00; font-weight: bold\">17:55:02</span>.<span style=\"color: #008080; text-decoration-color: #008080; font-weight: bold\">152614</span>\n",
       "</pre>\n"
      ],
      "text/plain": [
       "Recipe was generated at: \u001b[1;36m2024\u001b[0m-\u001b[1;36m10\u001b[0m-\u001b[1;36m24\u001b[0m \u001b[1;92m17:55:02\u001b[0m.\u001b[1;36m152614\u001b[0m\n"
      ]
     },
     "metadata": {},
     "output_type": "display_data"
    },
    {
     "data": {
      "text/html": [
       "<pre style=\"white-space:pre;overflow-x:auto;line-height:normal;font-family:Menlo,'DejaVu Sans Mono',consolas,'Courier New',monospace\"><span style=\"color: #008080; text-decoration-color: #008080; font-weight: bold\">reactants</span> = <span style=\"font-weight: bold; text-decoration: underline\">{Ingredient × 134}</span>\n",
       "</pre>\n"
      ],
      "text/plain": [
       "\u001b[1;36mreactants\u001b[0m = \u001b[1;4m{Ingredient × 134}\u001b[0m\n"
      ]
     },
     "metadata": {},
     "output_type": "display_data"
    },
    {
     "data": {
      "text/html": [
       "<pre style=\"white-space:pre;overflow-x:auto;line-height:normal;font-family:Menlo,'DejaVu Sans Mono',consolas,'Courier New',monospace\"><span style=\"color: #008080; text-decoration-color: #008080; font-weight: bold\">intermediates</span> = <span style=\"font-weight: bold; text-decoration: underline\">{Ingredient × 3}</span>\n",
       "</pre>\n"
      ],
      "text/plain": [
       "\u001b[1;36mintermediates\u001b[0m = \u001b[1;4m{Ingredient × 3}\u001b[0m\n"
      ]
     },
     "metadata": {},
     "output_type": "display_data"
    },
    {
     "data": {
      "text/html": [
       "<pre style=\"white-space:pre;overflow-x:auto;line-height:normal;font-family:Menlo,'DejaVu Sans Mono',consolas,'Courier New',monospace\"><span style=\"color: #008080; text-decoration-color: #008080; font-weight: bold\">products</span> = <span style=\"font-weight: bold; text-decoration: underline\">{Ingredient × 156}</span>\n",
       "</pre>\n"
      ],
      "text/plain": [
       "\u001b[1;36mproducts\u001b[0m = \u001b[1;4m{Ingredient × 156}\u001b[0m\n"
      ]
     },
     "metadata": {},
     "output_type": "display_data"
    },
    {
     "data": {
      "text/html": [
       "<pre style=\"white-space:pre;overflow-x:auto;line-height:normal;font-family:Menlo,'DejaVu Sans Mono',consolas,'Courier New',monospace\"><span style=\"color: #008080; text-decoration-color: #008080; font-weight: bold\">reactions</span> = <span style=\"font-weight: bold; text-decoration: underline\">{R × 159}</span>\n",
       "</pre>\n"
      ],
      "text/plain": [
       "\u001b[1;36mreactions\u001b[0m = \u001b[1;4m{R × 159}\u001b[0m\n"
      ]
     },
     "metadata": {},
     "output_type": "display_data"
    },
    {
     "data": {
      "text/html": [
       "<pre style=\"white-space:pre;overflow-x:auto;line-height:normal;font-family:Menlo,'DejaVu Sans Mono',consolas,'Courier New',monospace\"><span style=\"background-color: #d7af00; font-weight: bold\"> DISK </span> Reading <span style=\"color: #d7af00; text-decoration-color: #d7af00\">CHIKV_prod11c_recipes/Recipe_1GJWBFH.json</span>...\n",
       "</pre>\n"
      ],
      "text/plain": [
       "\u001b[1;7;38;5;178m DISK \u001b[0m Reading \u001b[38;5;178mCHIKV_prod11c_recipes/Recipe_1GJWBFH.json\u001b[0m...\n"
      ]
     },
     "metadata": {},
     "output_type": "display_data"
    },
    {
     "data": {
      "text/html": [
       "<pre style=\"white-space:pre;overflow-x:auto;line-height:normal;font-family:Menlo,'DejaVu Sans Mono',consolas,'Courier New',monospace\">Recipe was generated at: <span style=\"color: #008080; text-decoration-color: #008080; font-weight: bold\">2024</span>-<span style=\"color: #008080; text-decoration-color: #008080; font-weight: bold\">10</span>-<span style=\"color: #008080; text-decoration-color: #008080; font-weight: bold\">25</span> <span style=\"color: #00ff00; text-decoration-color: #00ff00; font-weight: bold\">08:39:00</span>.<span style=\"color: #008080; text-decoration-color: #008080; font-weight: bold\">168384</span>\n",
       "</pre>\n"
      ],
      "text/plain": [
       "Recipe was generated at: \u001b[1;36m2024\u001b[0m-\u001b[1;36m10\u001b[0m-\u001b[1;36m25\u001b[0m \u001b[1;92m08:39:00\u001b[0m.\u001b[1;36m168384\u001b[0m\n"
      ]
     },
     "metadata": {},
     "output_type": "display_data"
    },
    {
     "data": {
      "text/html": [
       "<pre style=\"white-space:pre;overflow-x:auto;line-height:normal;font-family:Menlo,'DejaVu Sans Mono',consolas,'Courier New',monospace\"><span style=\"color: #008080; text-decoration-color: #008080; font-weight: bold\">reactants</span> = <span style=\"font-weight: bold; text-decoration: underline\">{Ingredient × 134}</span>\n",
       "</pre>\n"
      ],
      "text/plain": [
       "\u001b[1;36mreactants\u001b[0m = \u001b[1;4m{Ingredient × 134}\u001b[0m\n"
      ]
     },
     "metadata": {},
     "output_type": "display_data"
    },
    {
     "data": {
      "text/html": [
       "<pre style=\"white-space:pre;overflow-x:auto;line-height:normal;font-family:Menlo,'DejaVu Sans Mono',consolas,'Courier New',monospace\"><span style=\"color: #008080; text-decoration-color: #008080; font-weight: bold\">intermediates</span> = <span style=\"font-weight: bold; text-decoration: underline\">{Ingredient × 4}</span>\n",
       "</pre>\n"
      ],
      "text/plain": [
       "\u001b[1;36mintermediates\u001b[0m = \u001b[1;4m{Ingredient × 4}\u001b[0m\n"
      ]
     },
     "metadata": {},
     "output_type": "display_data"
    },
    {
     "data": {
      "text/html": [
       "<pre style=\"white-space:pre;overflow-x:auto;line-height:normal;font-family:Menlo,'DejaVu Sans Mono',consolas,'Courier New',monospace\"><span style=\"color: #008080; text-decoration-color: #008080; font-weight: bold\">products</span> = <span style=\"font-weight: bold; text-decoration: underline\">{Ingredient × 238}</span>\n",
       "</pre>\n"
      ],
      "text/plain": [
       "\u001b[1;36mproducts\u001b[0m = \u001b[1;4m{Ingredient × 238}\u001b[0m\n"
      ]
     },
     "metadata": {},
     "output_type": "display_data"
    },
    {
     "data": {
      "text/html": [
       "<pre style=\"white-space:pre;overflow-x:auto;line-height:normal;font-family:Menlo,'DejaVu Sans Mono',consolas,'Courier New',monospace\"><span style=\"color: #008080; text-decoration-color: #008080; font-weight: bold\">reactions</span> = <span style=\"font-weight: bold; text-decoration: underline\">{R × 242}</span>\n",
       "</pre>\n"
      ],
      "text/plain": [
       "\u001b[1;36mreactions\u001b[0m = \u001b[1;4m{R × 242}\u001b[0m\n"
      ]
     },
     "metadata": {},
     "output_type": "display_data"
    }
   ],
   "source": [
    "# recipe = hippo.Recipe.from_json(animal.db, 'CHIKV_prod8b_recipes/Recipe_1GCZ1X3.json', allow_db_mismatch=True)\n",
    "# recipe = hippo.Recipe.from_json(animal.db, 'CHIKV_prod8b_recipes/Recipe_1GDIQ50.json', allow_db_mismatch=True)\n",
    "# recipe = hippo.Recipe.from_json(animal.db, 'CHIKV_prod8b_recipes/Recipe_1GE614T.json', allow_db_mismatch=True)\n",
    "recipe = hippo.Recipe.from_json(animal.db, 'CHIKV_prod13_recipes/Recipe_1GJL3B8.json', allow_db_mismatch=True)\n",
    "recipe = hippo.Recipe.from_json(animal.db, 'CHIKV_prod11c_recipes/Recipe_1GJWBFH.json', allow_db_mismatch=True)"
   ]
  },
  {
   "cell_type": "code",
   "execution_count": 17,
   "id": "aa63af33-2edf-4703-ac9d-6695749ca604",
   "metadata": {},
   "outputs": [
    {
     "data": {
      "text/html": [
       "<pre style=\"white-space:pre;overflow-x:auto;line-height:normal;font-family:Menlo,'DejaVu Sans Mono',consolas,'Courier New',monospace\"><span style=\"color: #808080; text-decoration-color: #808080\">DEBUG: RandomRecipeGenerator.__init__()</span>\n",
       "</pre>\n"
      ],
      "text/plain": [
       "\u001b[90mDEBUG: RandomRecipeGenerator.__init__()\u001b[0m\n"
      ]
     },
     "metadata": {},
     "output_type": "display_data"
    },
    {
     "data": {
      "text/html": [
       "<pre style=\"white-space:pre;overflow-x:auto;line-height:normal;font-family:Menlo,'DejaVu Sans Mono',consolas,'Courier New',monospace\"><span style=\"color: #008080; text-decoration-color: #008080; font-weight: bold\">database</span> = <span style=\"color: #d7af00; text-decoration-color: #d7af00\">CHIKV_prod11c.sqlite</span>\n",
       "</pre>\n"
      ],
      "text/plain": [
       "\u001b[1;36mdatabase\u001b[0m = \u001b[38;5;178mCHIKV_prod11c.sqlite\u001b[0m\n"
      ]
     },
     "metadata": {},
     "output_type": "display_data"
    },
    {
     "data": {
      "text/html": [
       "<pre style=\"white-space:pre;overflow-x:auto;line-height:normal;font-family:Menlo,'DejaVu Sans Mono',consolas,'Courier New',monospace\"><span style=\"color: #008080; text-decoration-color: #008080; font-weight: bold\">max_lead_time</span> = <span style=\"color: #800080; text-decoration-color: #800080; font-style: italic\">None</span>\n",
       "</pre>\n"
      ],
      "text/plain": [
       "\u001b[1;36mmax_lead_time\u001b[0m = \u001b[3;35mNone\u001b[0m\n"
      ]
     },
     "metadata": {},
     "output_type": "display_data"
    },
    {
     "data": {
      "text/html": [
       "<pre style=\"white-space:pre;overflow-x:auto;line-height:normal;font-family:Menlo,'DejaVu Sans Mono',consolas,'Courier New',monospace\"><span style=\"color: #008080; text-decoration-color: #008080; font-weight: bold\">suppliers</span> =\n",
       "<span style=\"font-weight: bold\">[</span><span style=\"color: #008000; text-decoration-color: #008000\">'Stock'</span>, <span style=\"color: #008000; text-decoration-color: #008000\">'Enamine'</span><span style=\"font-weight: bold\">]</span>\n",
       "</pre>\n"
      ],
      "text/plain": [
       "\u001b[1;36msuppliers\u001b[0m =\n",
       "\u001b[1m[\u001b[0m\u001b[32m'Stock'\u001b[0m, \u001b[32m'Enamine'\u001b[0m\u001b[1m]\u001b[0m\n"
      ]
     },
     "metadata": {},
     "output_type": "display_data"
    },
    {
     "data": {
      "text/html": [
       "<pre style=\"white-space:pre;overflow-x:auto;line-height:normal;font-family:Menlo,'DejaVu Sans Mono',consolas,'Courier New',monospace\"><span style=\"background-color: #ff8700; font-weight: bold\"> Warning </span><span style=\"color: #ff8700; text-decoration-color: #ff8700\"> Will overwrite existing rgen data file: CHIKV_prod11c_rgen.json!</span>\n",
       "</pre>\n"
      ],
      "text/plain": [
       "\u001b[1;7;38;5;208m Warning \u001b[0m\u001b[38;5;208m Will overwrite existing rgen data file: CHIKV_prod11c_rgen.json!\u001b[0m\n"
      ]
     },
     "metadata": {},
     "output_type": "display_data"
    },
    {
     "data": {
      "text/html": [
       "<pre style=\"white-space:pre;overflow-x:auto;line-height:normal;font-family:Menlo,'DejaVu Sans Mono',consolas,'Courier New',monospace\"><span style=\"background-color: #d7af00; font-weight: bold\"> DISK </span> Writing <span style=\"color: #d7af00; text-decoration-color: #d7af00\">CHIKV_prod11c_recipes/</span>...\n",
       "</pre>\n"
      ],
      "text/plain": [
       "\u001b[1;7;38;5;178m DISK \u001b[0m Writing \u001b[38;5;178mCHIKV_prod11c_recipes/\u001b[0m...\n"
      ]
     },
     "metadata": {},
     "output_type": "display_data"
    },
    {
     "data": {
      "text/html": [
       "<pre style=\"white-space:pre;overflow-x:auto;line-height:normal;font-family:Menlo,'DejaVu Sans Mono',consolas,'Courier New',monospace\"><span style=\"color: #808080; text-decoration-color: #808080\">DEBUG: Solving route pool...</span>\n",
       "</pre>\n"
      ],
      "text/plain": [
       "\u001b[90mDEBUG: Solving route pool...\u001b[0m\n"
      ]
     },
     "metadata": {},
     "output_type": "display_data"
    },
    {
     "data": {
      "application/vnd.jupyter.widget-view+json": {
       "model_id": "b2c9672550e8455bb37f929c9772bd82",
       "version_major": 2,
       "version_minor": 0
      },
      "text/plain": [
       "Output()"
      ]
     },
     "metadata": {},
     "output_type": "display_data"
    },
    {
     "data": {
      "text/html": [
       "<pre style=\"white-space:pre;overflow-x:auto;line-height:normal;font-family:Menlo,'DejaVu Sans Mono',consolas,'Courier New',monospace\"></pre>\n"
      ],
      "text/plain": []
     },
     "metadata": {},
     "output_type": "display_data"
    },
    {
     "data": {
      "text/html": [
       "<pre style=\"white-space:pre;overflow-x:auto;line-height:normal;font-family:Menlo,'DejaVu Sans Mono',consolas,'Courier New',monospace\"></pre>\n"
      ],
      "text/plain": []
     },
     "metadata": {},
     "output_type": "display_data"
    },
    {
     "data": {
      "text/html": [
       "<pre style=\"white-space:pre;overflow-x:auto;line-height:normal;font-family:Menlo,'DejaVu Sans Mono',consolas,'Courier New',monospace\"><span style=\"background-color: #d7af00; font-weight: bold\"> DISK </span> Writing <span style=\"color: #d7af00; text-decoration-color: #d7af00\">CHIKV_prod11c_rgen.json</span>...\n",
       "</pre>\n"
      ],
      "text/plain": [
       "\u001b[1;7;38;5;178m DISK \u001b[0m Writing \u001b[38;5;178mCHIKV_prod11c_rgen.json\u001b[0m...\n"
      ]
     },
     "metadata": {},
     "output_type": "display_data"
    }
   ],
   "source": [
    "gen = hippo.RandomRecipeGenerator(db=animal.db, start_with=recipe, suppliers=['Stock', 'Enamine'])"
   ]
  },
  {
   "cell_type": "code",
   "execution_count": null,
   "id": "9c79e07a-1aa2-44d0-ad19-4d3b8c18ed6a",
   "metadata": {},
   "outputs": [],
   "source": [
    "# gen = hippo.RandomRecipeGenerator.from_json(animal.db, \"CHIKV_prod11b_rgen.json\")"
   ]
  },
  {
   "cell_type": "markdown",
   "id": "1bc59d50-5f2c-434c-a2ac-dac4e1094be8",
   "metadata": {},
   "source": [
    "# Test generation"
   ]
  },
  {
   "cell_type": "markdown",
   "id": "66223575-7a6a-4c1e-ab57-297d1afcd8b4",
   "metadata": {},
   "source": [
    "### Improve an existing $10k recipe without increasing budget"
   ]
  },
  {
   "cell_type": "code",
   "execution_count": 11,
   "id": "d95d6535-bcb7-427d-a6af-95a8218db337",
   "metadata": {},
   "outputs": [
    {
     "data": {
      "text/html": [
       "<pre style=\"white-space:pre;overflow-x:auto;line-height:normal;font-family:Menlo,'DejaVu Sans Mono',consolas,'Courier New',monospace\"><span style=\"color: #008080; text-decoration-color: #008080; font-weight: bold\">route pool</span> = <span style=\"color: #008080; text-decoration-color: #008080; font-weight: bold\">15458</span>\n",
       "</pre>\n"
      ],
      "text/plain": [
       "\u001b[1;36mroute pool\u001b[0m = \u001b[1;36m15458\u001b[0m\n"
      ]
     },
     "metadata": {},
     "output_type": "display_data"
    },
    {
     "data": {
      "text/html": [
       "<pre style=\"white-space:pre;overflow-x:auto;line-height:normal;font-family:Menlo,'DejaVu Sans Mono',consolas,'Courier New',monospace\"><span style=\"color: #008080; text-decoration-color: #008080; font-weight: bold\">max_iter</span> = <span style=\"color: #008080; text-decoration-color: #008080; font-weight: bold\">15458</span>\n",
       "</pre>\n"
      ],
      "text/plain": [
       "\u001b[1;36mmax_iter\u001b[0m = \u001b[1;36m15458\u001b[0m\n"
      ]
     },
     "metadata": {},
     "output_type": "display_data"
    },
    {
     "data": {
      "application/vnd.jupyter.widget-view+json": {
       "model_id": "0b1a41c950c64f5fa1098f6468dd5400",
       "version_major": 2,
       "version_minor": 0
      },
      "text/plain": [
       "Output()"
      ]
     },
     "metadata": {},
     "output_type": "display_data"
    },
    {
     "data": {
      "text/html": [
       "<pre style=\"white-space:pre;overflow-x:auto;line-height:normal;font-family:Menlo,'DejaVu Sans Mono',consolas,'Courier New',monospace\"></pre>\n"
      ],
      "text/plain": []
     },
     "metadata": {},
     "output_type": "display_data"
    },
    {
     "data": {
      "text/html": [
       "<pre style=\"white-space:pre;overflow-x:auto;line-height:normal;font-family:Menlo,'DejaVu Sans Mono',consolas,'Courier New',monospace\"><span style=\"background-color: #ff8700; font-weight: bold\"> Warning </span><span style=\"color: #ff8700; text-decoration-color: #ff8700\"> Max #iterations reached!</span>\n",
       "</pre>\n"
      ],
      "text/plain": [
       "\u001b[1;7;38;5;208m Warning \u001b[0m\u001b[38;5;208m Max #iterations reached!\u001b[0m\n"
      ]
     },
     "metadata": {},
     "output_type": "display_data"
    },
    {
     "data": {
      "text/html": [
       "<pre style=\"white-space:pre;overflow-x:auto;line-height:normal;font-family:Menlo,'DejaVu Sans Mono',consolas,'Courier New',monospace\"><span style=\"background-color: #008000; font-weight: bold\"> Success </span><span style=\"color: #008000; text-decoration-color: #008000; font-weight: bold\"> Completed after 15457 iterations!</span>\n",
       "</pre>\n"
      ],
      "text/plain": [
       "\u001b[1;7;32m Success \u001b[0m\u001b[1;32m Completed after 15457 iterations!\u001b[0m\n"
      ]
     },
     "metadata": {},
     "output_type": "display_data"
    },
    {
     "data": {
      "text/html": [
       "<pre style=\"white-space:pre;overflow-x:auto;line-height:normal;font-family:Menlo,'DejaVu Sans Mono',consolas,'Courier New',monospace\"><span style=\"background-color: #d7af00; font-weight: bold\"> DISK </span> Writing <span style=\"color: #d7af00; text-decoration-color: #d7af00\">CHIKV_prod11c_recipes/Recipe_1GJWBFH.json</span>...\n",
       "</pre>\n"
      ],
      "text/plain": [
       "\u001b[1;7;38;5;178m DISK \u001b[0m Writing \u001b[38;5;178mCHIKV_prod11c_recipes/Recipe_1GJWBFH.json\u001b[0m...\n"
      ]
     },
     "metadata": {},
     "output_type": "display_data"
    }
   ],
   "source": [
    "r = gen.generate(shuffle=False, budget=10_000, max_products=1_200, max_reactions=3_000, max_iter=len(gen.route_pool), currency='EUR', debug=False)"
   ]
  },
  {
   "cell_type": "markdown",
   "id": "d21a5736-a23d-4e2a-b7f0-619ff452e6ee",
   "metadata": {},
   "source": [
    "### Improve an existing $10k recipe but allow extra budget"
   ]
  },
  {
   "cell_type": "code",
   "execution_count": null,
   "id": "c367a053-e4aa-45bf-97b5-22a8fa1be9f0",
   "metadata": {},
   "outputs": [
    {
     "data": {
      "text/html": [
       "<pre style=\"white-space:pre;overflow-x:auto;line-height:normal;font-family:Menlo,'DejaVu Sans Mono',consolas,'Courier New',monospace\"><span style=\"color: #808080; text-decoration-color: #808080\">DEBUG: Shuffling Route pool</span>\n",
       "</pre>\n"
      ],
      "text/plain": [
       "\u001b[90mDEBUG: Shuffling Route pool\u001b[0m\n"
      ]
     },
     "metadata": {},
     "output_type": "display_data"
    },
    {
     "data": {
      "text/html": [
       "<pre style=\"white-space:pre;overflow-x:auto;line-height:normal;font-family:Menlo,'DejaVu Sans Mono',consolas,'Courier New',monospace\"><span style=\"color: #008080; text-decoration-color: #008080; font-weight: bold\">route pool</span> = <span style=\"color: #008080; text-decoration-color: #008080; font-weight: bold\">15458</span>\n",
       "</pre>\n"
      ],
      "text/plain": [
       "\u001b[1;36mroute pool\u001b[0m = \u001b[1;36m15458\u001b[0m\n"
      ]
     },
     "metadata": {},
     "output_type": "display_data"
    },
    {
     "data": {
      "text/html": [
       "<pre style=\"white-space:pre;overflow-x:auto;line-height:normal;font-family:Menlo,'DejaVu Sans Mono',consolas,'Courier New',monospace\"><span style=\"color: #008080; text-decoration-color: #008080; font-weight: bold\">max_iter</span> = <span style=\"color: #008080; text-decoration-color: #008080; font-weight: bold\">15458</span>\n",
       "</pre>\n"
      ],
      "text/plain": [
       "\u001b[1;36mmax_iter\u001b[0m = \u001b[1;36m15458\u001b[0m\n"
      ]
     },
     "metadata": {},
     "output_type": "display_data"
    },
    {
     "data": {
      "application/vnd.jupyter.widget-view+json": {
       "model_id": "87c4b00eb217408da36c3d3c852c7bcc",
       "version_major": 2,
       "version_minor": 0
      },
      "text/plain": [
       "Output()"
      ]
     },
     "metadata": {},
     "output_type": "display_data"
    },
    {
     "data": {
      "text/html": [
       "<pre style=\"white-space:pre;overflow-x:auto;line-height:normal;font-family:Menlo,'DejaVu Sans Mono',consolas,'Courier New',monospace\"><span style=\"background-color: #ff8700; font-weight: bold\"> Warning </span><span style=\"color: #ff8700; text-decoration-color: #ff8700\"> (3284,) in permitted_clusters but not cluster_map!</span>\n",
       "</pre>\n"
      ],
      "text/plain": [
       "\u001b[1;7;38;5;208m Warning \u001b[0m\u001b[38;5;208m (3284,) in permitted_clusters but not cluster_map!\u001b[0m\n"
      ]
     },
     "metadata": {},
     "output_type": "display_data"
    },
    {
     "data": {
      "text/html": [
       "<pre style=\"white-space:pre;overflow-x:auto;line-height:normal;font-family:Menlo,'DejaVu Sans Mono',consolas,'Courier New',monospace\"><span style=\"background-color: #ff8700; font-weight: bold\"> Warning </span><span style=\"color: #ff8700; text-decoration-color: #ff8700\"> (1001,) in permitted_clusters but not cluster_map!</span>\n",
       "</pre>\n"
      ],
      "text/plain": [
       "\u001b[1;7;38;5;208m Warning \u001b[0m\u001b[38;5;208m (1001,) in permitted_clusters but not cluster_map!\u001b[0m\n"
      ]
     },
     "metadata": {},
     "output_type": "display_data"
    },
    {
     "data": {
      "text/html": [
       "<pre style=\"white-space:pre;overflow-x:auto;line-height:normal;font-family:Menlo,'DejaVu Sans Mono',consolas,'Courier New',monospace\"><span style=\"color: #808080; text-decoration-color: #808080\">DEBUG: Depleted cluster (93,)</span>\n",
       "</pre>\n"
      ],
      "text/plain": [
       "\u001b[90mDEBUG: Depleted cluster (93,)\u001b[0m\n"
      ]
     },
     "metadata": {},
     "output_type": "display_data"
    },
    {
     "data": {
      "text/html": [
       "<pre style=\"white-space:pre;overflow-x:auto;line-height:normal;font-family:Menlo,'DejaVu Sans Mono',consolas,'Courier New',monospace\"><span style=\"color: #808080; text-decoration-color: #808080\">DEBUG: Depleted cluster (1192,)</span>\n",
       "</pre>\n"
      ],
      "text/plain": [
       "\u001b[90mDEBUG: Depleted cluster (1192,)\u001b[0m\n"
      ]
     },
     "metadata": {},
     "output_type": "display_data"
    },
    {
     "data": {
      "text/html": [
       "<pre style=\"white-space:pre;overflow-x:auto;line-height:normal;font-family:Menlo,'DejaVu Sans Mono',consolas,'Courier New',monospace\"><span style=\"color: #808080; text-decoration-color: #808080\">DEBUG: Depleted cluster (653,)</span>\n",
       "</pre>\n"
      ],
      "text/plain": [
       "\u001b[90mDEBUG: Depleted cluster (653,)\u001b[0m\n"
      ]
     },
     "metadata": {},
     "output_type": "display_data"
    },
    {
     "data": {
      "text/html": [
       "<pre style=\"white-space:pre;overflow-x:auto;line-height:normal;font-family:Menlo,'DejaVu Sans Mono',consolas,'Courier New',monospace\"><span style=\"color: #808080; text-decoration-color: #808080\">DEBUG: Depleted cluster (796,)</span>\n",
       "</pre>\n"
      ],
      "text/plain": [
       "\u001b[90mDEBUG: Depleted cluster (796,)\u001b[0m\n"
      ]
     },
     "metadata": {},
     "output_type": "display_data"
    },
    {
     "data": {
      "text/html": [
       "<pre style=\"white-space:pre;overflow-x:auto;line-height:normal;font-family:Menlo,'DejaVu Sans Mono',consolas,'Courier New',monospace\"><span style=\"color: #808080; text-decoration-color: #808080\">DEBUG: Depleted cluster (1917,)</span>\n",
       "</pre>\n"
      ],
      "text/plain": [
       "\u001b[90mDEBUG: Depleted cluster (1917,)\u001b[0m\n"
      ]
     },
     "metadata": {},
     "output_type": "display_data"
    },
    {
     "data": {
      "text/html": [
       "<pre style=\"white-space:pre;overflow-x:auto;line-height:normal;font-family:Menlo,'DejaVu Sans Mono',consolas,'Courier New',monospace\"><span style=\"color: #808080; text-decoration-color: #808080\">DEBUG: Depleted cluster (3627,)</span>\n",
       "</pre>\n"
      ],
      "text/plain": [
       "\u001b[90mDEBUG: Depleted cluster (3627,)\u001b[0m\n"
      ]
     },
     "metadata": {},
     "output_type": "display_data"
    },
    {
     "data": {
      "text/html": [
       "<pre style=\"white-space:pre;overflow-x:auto;line-height:normal;font-family:Menlo,'DejaVu Sans Mono',consolas,'Courier New',monospace\"><span style=\"color: #808080; text-decoration-color: #808080\">DEBUG: Depleted cluster (104,)</span>\n",
       "</pre>\n"
      ],
      "text/plain": [
       "\u001b[90mDEBUG: Depleted cluster (104,)\u001b[0m\n"
      ]
     },
     "metadata": {},
     "output_type": "display_data"
    },
    {
     "data": {
      "text/html": [
       "<pre style=\"white-space:pre;overflow-x:auto;line-height:normal;font-family:Menlo,'DejaVu Sans Mono',consolas,'Courier New',monospace\"><span style=\"color: #808080; text-decoration-color: #808080\">DEBUG: Depleted cluster (3624,)</span>\n",
       "</pre>\n"
      ],
      "text/plain": [
       "\u001b[90mDEBUG: Depleted cluster (3624,)\u001b[0m\n"
      ]
     },
     "metadata": {},
     "output_type": "display_data"
    }
   ],
   "source": [
    "%%time\n",
    "r = gen.generate(shuffle=True, budget=11_000, max_products=1_200, max_reactions=3_000, max_iter=len(gen.route_pool), balance_clusters=True,\n",
    "        permitted_clusters={\n",
    "            93,\n",
    "            95,\n",
    "            104,\n",
    "            653,\n",
    "            796,\n",
    "            1001,\n",
    "            1012,\n",
    "            1128,\n",
    "            1192,\n",
    "            1316,\n",
    "            1473,\n",
    "            1917,\n",
    "            2188,\n",
    "            2916,\n",
    "            2919,\n",
    "            2924,\n",
    "            2925,\n",
    "            2944,\n",
    "            3284,\n",
    "            3611,\n",
    "            3624,\n",
    "            3625,\n",
    "            3627,\n",
    "            3628\n",
    "        },currency='EUR', debug=False)"
   ]
  },
  {
   "cell_type": "code",
   "execution_count": null,
   "id": "c45665ae-0679-4710-ad23-88a88f6d9590",
   "metadata": {},
   "outputs": [],
   "source": [
    "r.num_products"
   ]
  },
  {
   "cell_type": "code",
   "execution_count": null,
   "id": "9ff9754e-5513-44f9-a320-fce003582e1f",
   "metadata": {},
   "outputs": [],
   "source": [
    "inchi = 'YIIMVUSFSKUYCA-UHFFFAOYSA-N'\n",
    "inchi = 'XXPRWRCNORVHSY-UHFFFAOYSA-N'"
   ]
  },
  {
   "cell_type": "code",
   "execution_count": null,
   "id": "390ec760-d9d7-45c0-8376-6d0e2bc41312",
   "metadata": {},
   "outputs": [],
   "source": [
    "c = animal.compounds[inchi]\n",
    "c"
   ]
  },
  {
   "cell_type": "code",
   "execution_count": null,
   "id": "bfb9a78d-1fd7-494d-83c9-5dbf4ff1078f",
   "metadata": {},
   "outputs": [],
   "source": [
    "recipes = c.get_recipes(quoted_only=False)\n",
    "len(recipes)"
   ]
  },
  {
   "cell_type": "code",
   "execution_count": null,
   "id": "757b9c7e-3c9d-463a-8867-961ebb264d9f",
   "metadata": {},
   "outputs": [],
   "source": [
    "recipe = recipes[0]"
   ]
  },
  {
   "cell_type": "code",
   "execution_count": null,
   "id": "6660f150-6c9a-41e6-9736-012a372cc03e",
   "metadata": {},
   "outputs": [],
   "source": [
    "recipe.sankey()"
   ]
  },
  {
   "cell_type": "code",
   "execution_count": null,
   "id": "826ddce6-b131-43c4-b853-85cd0324c397",
   "metadata": {},
   "outputs": [],
   "source": [
    "recipe.reactions.summary()"
   ]
  },
  {
   "cell_type": "code",
   "execution_count": null,
   "id": "d6bd8931-8927-47c3-8b39-4485fb7c3a9e",
   "metadata": {},
   "outputs": [],
   "source": [
    "animal.C4449.get_quotes(df=True)"
   ]
  },
  {
   "cell_type": "code",
   "execution_count": null,
   "id": "7a786349-805c-4134-ae3e-4b2cf2ad259c",
   "metadata": {},
   "outputs": [],
   "source": [
    "animal.C4497.get_quotes(df=True)"
   ]
  },
  {
   "cell_type": "code",
   "execution_count": null,
   "id": "d72662d0-e1aa-4a6d-ad32-db8dfc77d784",
   "metadata": {},
   "outputs": [],
   "source": [
    "animal.C4499.get_quotes(df=True)"
   ]
  },
  {
   "cell_type": "code",
   "execution_count": null,
   "id": "92dba675-3191-47c9-8e33-763cec664108",
   "metadata": {},
   "outputs": [],
   "source": [
    "animal.db.select_all_where(table='quote', key='entry', value='EN300-41185')"
   ]
  },
  {
   "cell_type": "code",
   "execution_count": null,
   "id": "70287aa6-036a-4e1b-a259-ed96ecab22f9",
   "metadata": {},
   "outputs": [],
   "source": [
    "animal.C4499.draw()"
   ]
  },
  {
   "cell_type": "code",
   "execution_count": null,
   "id": "92700e6a-f6c1-4a66-966b-08bca026f8f3",
   "metadata": {},
   "outputs": [],
   "source": [
    "animal.C4499.smiles"
   ]
  },
  {
   "cell_type": "code",
   "execution_count": null,
   "id": "34fcfb9e-8c4e-42a2-9afa-e38fa08b8078",
   "metadata": {},
   "outputs": [],
   "source": [
    "animal.compounds(smiles='CNCC(N)=O.HCl')"
   ]
  },
  {
   "cell_type": "code",
   "execution_count": null,
   "id": "d7329352-fdc5-4180-a970-6ec5d34621ed",
   "metadata": {},
   "outputs": [],
   "source": [
    "c.draw()"
   ]
  },
  {
   "cell_type": "code",
   "execution_count": null,
   "id": "f73acebf-4427-46b1-b97a-58fe134edbba",
   "metadata": {},
   "outputs": [],
   "source": [
    "c.poses.interactive()"
   ]
  },
  {
   "cell_type": "code",
   "execution_count": null,
   "id": "70e36591-3cd2-4709-8178-5575e3876412",
   "metadata": {},
   "outputs": [],
   "source": [
    "animal.P6264.render()"
   ]
  },
  {
   "cell_type": "code",
   "execution_count": null,
   "id": "b95e0d4e-4698-4266-ad8f-d4986f01fc5b",
   "metadata": {},
   "outputs": [],
   "source": [
    "animal.P6264.draw()"
   ]
  },
  {
   "cell_type": "code",
   "execution_count": null,
   "id": "33380c8b-0e4a-4dd6-8285-a04560adb8da",
   "metadata": {},
   "outputs": [],
   "source": [
    "recipe.reactions"
   ]
  },
  {
   "cell_type": "code",
   "execution_count": null,
   "id": "298e74be-1d26-477a-bb57-5fbc8a65f271",
   "metadata": {},
   "outputs": [],
   "source": []
  }
 ],
 "metadata": {
  "kernelspec": {
   "display_name": "Python [conda env:base] *",
   "language": "python",
   "name": "conda-base-py"
  },
  "language_info": {
   "codemirror_mode": {
    "name": "ipython",
    "version": 3
   },
   "file_extension": ".py",
   "mimetype": "text/x-python",
   "name": "python",
   "nbconvert_exporter": "python",
   "pygments_lexer": "ipython3",
   "version": "3.11.6"
  }
 },
 "nbformat": 4,
 "nbformat_minor": 5
}
