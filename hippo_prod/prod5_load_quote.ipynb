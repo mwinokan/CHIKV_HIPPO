{
 "cells": [
  {
   "cell_type": "markdown",
   "id": "e80f98e7-10d9-49ff-a80b-f36c160c1e29",
   "metadata": {},
   "source": [
    "# CHIKV_Mac HIPPO FFF Prod. 5 (load quote)"
   ]
  },
  {
   "cell_type": "markdown",
   "id": "a61f5fb0-ad17-4a68-8d3b-6399a6413e42",
   "metadata": {},
   "source": [
    "## Setup"
   ]
  },
  {
   "cell_type": "code",
   "execution_count": 1,
   "id": "b1125662-7763-4b2d-ad01-2af2931508ce",
   "metadata": {},
   "outputs": [],
   "source": [
    "%load_ext autoreload\n",
    "%autoreload 2\n",
    "import hippo\n",
    "from pathlib import Path\n",
    "from mlog import setup_logger\n",
    "import pandas as pd\n",
    "import numpy as np\n",
    "logger=setup_logger('notebook')"
   ]
  },
  {
   "cell_type": "code",
   "execution_count": 8,
   "id": "b63f2050-7e82-46c5-b2a3-7c821378cce4",
   "metadata": {},
   "outputs": [
    {
     "name": "stdout",
     "output_type": "stream",
     "text": [
      "'CHIKV_prod4.sqlite' -> 'CHIKV_prod5.sqlite'\n"
     ]
    }
   ],
   "source": [
    "!cp -v CHIKV_prod4.sqlite CHIKV_prod5.sqlite"
   ]
  },
  {
   "cell_type": "code",
   "execution_count": 9,
   "id": "80f578e0-1942-416c-81c3-d2fac0d4a022",
   "metadata": {},
   "outputs": [
    {
     "name": "stdout",
     "output_type": "stream",
     "text": [
      "\u001b[1m\u001b[38;5;166mCreating HIPPO animal\u001b[0m\n",
      "\u001b[36mname\u001b[0m = \u001b[38;5;154mCHIKV_prod5\u001b[0m\n",
      "\u001b[36mdb_path\u001b[0m = \u001b[38;5;11mCHIKV_prod5.sqlite\u001b[0m\n",
      "\u001b[2mDEBUG: hippo3.Database.__init__()\u001b[0m\n",
      "\u001b[2mDEBUG: Database.path = CHIKV_prod5.sqlite\u001b[0m\n",
      "\u001b[2mDEBUG: hippo3.Database.connect()\u001b[0m\n",
      "\u001b[2mDEBUG: sqlite3.version='2.6.0'\u001b[0m\n",
      "\u001b[7m\u001b[32;1m SUCCESS \u001b[0m\u001b[32;1m Database connected @ \u001b[38;5;11mCHIKV_prod5.sqlite!\u001b[0m\n",
      "\u001b[7m\u001b[32;1m SUCCESS \u001b[0m\u001b[32;1m Initialised animal HIPPO(\"CHIKV_prod5\")!\u001b[0m\n"
     ]
    }
   ],
   "source": [
    "animal = hippo.HIPPO('CHIKV_prod5', 'CHIKV_prod5.sqlite')"
   ]
  },
  {
   "cell_type": "code",
   "execution_count": 10,
   "id": "791f1498-fe2d-4a1c-ad6b-eda52e03841c",
   "metadata": {},
   "outputs": [],
   "source": [
    "animal.db.delete_where(table='scaffold', key='scaffold_base = scaffold_superstructure')"
   ]
  },
  {
   "cell_type": "code",
   "execution_count": 34,
   "id": "a454fec4-f686-46bc-8c13-f48d46889025",
   "metadata": {},
   "outputs": [],
   "source": [
    "sql = \"\"\"\n",
    "\n",
    "DELETE FROM inspiration\n",
    "WHERE inspiration_original IN \n",
    "(\n",
    "    SELECT DISTINCT(inspiration_original) FROM inspiration\n",
    "    INNER JOIN tag ON tag_pose = inspiration_original\n",
    "    WHERE tag_name = \"deprecated\"\n",
    ")\n",
    "\"\"\"\n",
    "\n",
    "c = animal.db.execute(sql)"
   ]
  },
  {
   "cell_type": "code",
   "execution_count": 11,
   "id": "79e54d01-9835-40d2-9963-c842b5c4197b",
   "metadata": {},
   "outputs": [
    {
     "name": "stderr",
     "output_type": "stream",
     "text": [
      "  0%|          | 9/9931 [00:00<06:54, 23.92it/s]"
     ]
    },
    {
     "name": "stdout",
     "output_type": "stream",
     "text": [
      "\u001b[7m\u001b[38;5;166m\u001b[1m Warning \u001b[0m\u001b[38;5;166m SMILES changed during compound registration: CC(C)C(N)=NO --> CC(C)/C(N)=N/O\u001b[0m\n"
     ]
    },
    {
     "name": "stderr",
     "output_type": "stream",
     "text": [
      "100%|██████████| 9931/9931 [04:39<00:00, 35.59it/s] \n"
     ]
    },
    {
     "data": {
      "text/plain": [
       "\u001b[1m\u001b[4m{I x 5263}\u001b[22m\u001b[24m"
      ]
     },
     "execution_count": 11,
     "metadata": {},
     "output_type": "execute_result"
    }
   ],
   "source": [
    "animal.add_enamine_quote(path='../quoting/Q1924016_CHIKV_Reactants.xlsx', \n",
    "                         orig_name_col='ID', \n",
    "                         entry_col='Catalogue ID', \n",
    "                         fixed_amount=20, \n",
    "                         fixed_lead_time=5,\n",
    "                         price_col='Price per 20mg, EUR',\n",
    "                         catalogue_col='Availability',\n",
    "                        )"
   ]
  },
  {
   "cell_type": "code",
   "execution_count": 12,
   "id": "a7e9c54f-b3a4-4d13-8ae4-34a976c11119",
   "metadata": {},
   "outputs": [
    {
     "name": "stderr",
     "output_type": "stream",
     "text": [
      "  0%|          | 9/9931 [00:00<07:14, 22.85it/s]"
     ]
    },
    {
     "name": "stdout",
     "output_type": "stream",
     "text": [
      "\u001b[7m\u001b[38;5;166m\u001b[1m Warning \u001b[0m\u001b[38;5;166m SMILES changed during compound registration: CC(C)C(N)=NO --> CC(C)/C(N)=N/O\u001b[0m\n"
     ]
    },
    {
     "name": "stderr",
     "output_type": "stream",
     "text": [
      "100%|██████████| 9931/9931 [04:27<00:00, 37.17it/s] \n"
     ]
    },
    {
     "data": {
      "text/plain": [
       "\u001b[1m\u001b[4m{I x 5263}\u001b[22m\u001b[24m"
      ]
     },
     "execution_count": 12,
     "metadata": {},
     "output_type": "execute_result"
    }
   ],
   "source": [
    "animal.add_enamine_quote(path='../quoting/Q1924016_CHIKV_Reactants.xlsx', \n",
    "                         orig_name_col='ID', \n",
    "                         entry_col='Catalogue ID', \n",
    "                         fixed_amount=50, \n",
    "                         fixed_lead_time=5,\n",
    "                         price_col='Price per 50mg, EUR',\n",
    "                         catalogue_col='Availability',\n",
    "                        )"
   ]
  },
  {
   "cell_type": "code",
   "execution_count": 13,
   "id": "6f2e390a-4241-469a-916a-aadcd1d91c38",
   "metadata": {},
   "outputs": [
    {
     "name": "stderr",
     "output_type": "stream",
     "text": [
      "  0%|          | 9/9931 [00:00<07:41, 21.48it/s]"
     ]
    },
    {
     "name": "stdout",
     "output_type": "stream",
     "text": [
      "\u001b[7m\u001b[38;5;166m\u001b[1m Warning \u001b[0m\u001b[38;5;166m SMILES changed during compound registration: CC(C)C(N)=NO --> CC(C)/C(N)=N/O\u001b[0m\n"
     ]
    },
    {
     "name": "stderr",
     "output_type": "stream",
     "text": [
      "100%|██████████| 9931/9931 [04:29<00:00, 36.79it/s] \n"
     ]
    },
    {
     "data": {
      "text/plain": [
       "\u001b[1m\u001b[4m{I x 5263}\u001b[22m\u001b[24m"
      ]
     },
     "execution_count": 13,
     "metadata": {},
     "output_type": "execute_result"
    }
   ],
   "source": [
    "animal.add_enamine_quote(path='../quoting/Q1924016_CHIKV_Reactants.xlsx', \n",
    "                         orig_name_col='ID', \n",
    "                         entry_col='Catalogue ID', \n",
    "                         fixed_amount=100, \n",
    "                         fixed_lead_time=5,\n",
    "                         price_col='Price per 100mg, EUR',\n",
    "                         catalogue_col='Availability',\n",
    "                        )"
   ]
  },
  {
   "cell_type": "code",
   "execution_count": 14,
   "id": "0102baba-6a8c-4d9d-864d-9297bcc25485",
   "metadata": {},
   "outputs": [
    {
     "name": "stderr",
     "output_type": "stream",
     "text": [
      "  0%|          | 8/9931 [00:00<08:56, 18.49it/s]"
     ]
    },
    {
     "name": "stdout",
     "output_type": "stream",
     "text": [
      "\u001b[7m\u001b[38;5;166m\u001b[1m Warning \u001b[0m\u001b[38;5;166m SMILES changed during compound registration: CC(C)C(N)=NO --> CC(C)/C(N)=N/O\u001b[0m\n"
     ]
    },
    {
     "name": "stderr",
     "output_type": "stream",
     "text": [
      "100%|██████████| 9931/9931 [05:06<00:00, 32.37it/s] \n"
     ]
    },
    {
     "data": {
      "text/plain": [
       "\u001b[1m\u001b[4m{I x 5261}\u001b[22m\u001b[24m"
      ]
     },
     "execution_count": 14,
     "metadata": {},
     "output_type": "execute_result"
    }
   ],
   "source": [
    "animal.add_enamine_quote(path='../quoting/Q1924016_CHIKV_Reactants.xlsx', \n",
    "                         orig_name_col='ID', \n",
    "                         entry_col='Catalogue ID', \n",
    "                         fixed_amount=250, \n",
    "                         fixed_lead_time=5,\n",
    "                         price_col='Price per 250mg, EUR',\n",
    "                         catalogue_col='Availability',\n",
    "                        )"
   ]
  },
  {
   "cell_type": "code",
   "execution_count": null,
   "id": "1e69cdb2-48cc-4532-8b23-b021b02cad86",
   "metadata": {},
   "outputs": [],
   "source": []
  }
 ],
 "metadata": {
  "kernelspec": {
   "display_name": "Python [conda env:base] *",
   "language": "python",
   "name": "conda-base-py"
  },
  "language_info": {
   "codemirror_mode": {
    "name": "ipython",
    "version": 3
   },
   "file_extension": ".py",
   "mimetype": "text/x-python",
   "name": "python",
   "nbconvert_exporter": "python",
   "pygments_lexer": "ipython3",
   "version": "3.11.6"
  }
 },
 "nbformat": 4,
 "nbformat_minor": 5
}
