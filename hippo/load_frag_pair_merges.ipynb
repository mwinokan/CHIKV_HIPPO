{
 "cells": [
  {
   "cell_type": "code",
   "execution_count": 1,
   "id": "aedc2b89-b9ad-46d6-9c6e-62ad55c2829f",
   "metadata": {},
   "outputs": [],
   "source": [
    "%load_ext autoreload"
   ]
  },
  {
   "cell_type": "code",
   "execution_count": 2,
   "id": "c2a34f39-9608-4a4f-ba0b-cf1e88f0f2cf",
   "metadata": {},
   "outputs": [],
   "source": [
    "%autoreload 2\n",
    "import hippo\n",
    "import molparse as mp\n",
    "import pandas as pd\n",
    "from rdkit.Chem import PandasTools\n",
    "from pathlib import Path\n",
    "from tqdm import tqdm"
   ]
  },
  {
   "cell_type": "code",
   "execution_count": 3,
   "id": "a36677f4-0e54-4315-b0c0-b128bbb4755e",
   "metadata": {},
   "outputs": [],
   "source": [
    "# !cp -v CHIKV_SeeSAR.sqlite CHIKV_fragmenstein.sqlite"
   ]
  },
  {
   "cell_type": "code",
   "execution_count": 4,
   "id": "7f95f0d8-30ac-4edf-ad16-c750a8bfca9d",
   "metadata": {},
   "outputs": [
    {
     "name": "stdout",
     "output_type": "stream",
     "text": [
      "\u001b[1m\u001b[38;5;166mCreating HIPPO animal\u001b[0m\n",
      "\u001b[36mname\u001b[0m = \u001b[38;5;154mCHIKV_frag_pair_merges\u001b[0m\n",
      "\u001b[36mdb_path\u001b[0m = \u001b[38;5;11mCHIKV_master.sqlite\u001b[0m\n",
      "\u001b[2mDEBUG: hippo3.Database.__init__()\u001b[0m\n",
      "\u001b[2mDEBUG: Database.path = CHIKV_master.sqlite\u001b[0m\n",
      "\u001b[2mDEBUG: hippo3.Database.connect()\u001b[0m\n",
      "\u001b[2mDEBUG: sqlite3.version='2.6.0'\u001b[0m\n",
      "\u001b[7m\u001b[32;1m SUCCESS \u001b[0m\u001b[32;1m Database connected @ \u001b[38;5;11mCHIKV_master.sqlite!\u001b[0m\n",
      "\u001b[7m\u001b[32;1m SUCCESS \u001b[0m\u001b[32;1m Initialised animal HIPPO(\"CHIKV_frag_pair_merges\")!\u001b[0m\n"
     ]
    }
   ],
   "source": [
    "animal = hippo.HIPPO('CHIKV_frag_pair_merges', 'CHIKV_master.sqlite')"
   ]
  },
  {
   "cell_type": "code",
   "execution_count": 5,
   "id": "0dfde62c-754f-439c-ac8f-ed50c83e92cd",
   "metadata": {},
   "outputs": [],
   "source": [
    "frag_pair_dir = Path('frag_pairs')"
   ]
  },
  {
   "cell_type": "code",
   "execution_count": 6,
   "id": "28f2d7fd-2ef7-4414-9b99-4b5bb21e870b",
   "metadata": {
    "tags": []
   },
   "outputs": [
    {
     "name": "stdout",
     "output_type": "stream",
     "text": [
      "frag_pairs/cx0892a-cx1203a_OK/fragmenstein_mergers_pairs.pkl.gz\n",
      "\u001b[2mDEBUG: sdf_path=PosixPath('frag_pairs/cx0892a-cx1203a_OK/fragmenstein_mergers_pairs.pkl.gz')\u001b[0m\n",
      "\u001b[7m\u001b[38;5;166m\u001b[1m Warning \u001b[0m\u001b[38;5;166m Skipping existing target with name='CHIKV_Mac'\u001b[0m\n",
      "\u001b[7m\u001b[1m\u001b[38;5;11m DISK \u001b[0m Writing \u001b[38;5;11mCreating output directory fragmenstein_mergers_pairs.pkl.gz\u001b[0m\n"
     ]
    },
    {
     "name": "stderr",
     "output_type": "stream",
     "text": [
      "0it [00:00, ?it/s]"
     ]
    },
    {
     "name": "stdout",
     "output_type": "stream",
     "text": [
      "\u001b[7m\u001b[38;5;166m\u001b[1m Warning \u001b[0m\u001b[38;5;166m Skipping metadata from column=disregarded.\u001b[0m\n",
      "\u001b[7m\u001b[38;5;166m\u001b[1m Warning \u001b[0m\u001b[38;5;166m Skipping metadata from column=unmin_binary.\u001b[0m\n",
      "\u001b[7m\u001b[38;5;166m\u001b[1m Warning \u001b[0m\u001b[38;5;166m Skipping metadata from column=min_binary.\u001b[0m\n",
      "\u001b[7m\u001b[38;5;166m\u001b[1m Warning \u001b[0m\u001b[38;5;166m Skipping metadata from column=hit_binaries.\u001b[0m\n",
      "\u001b[7m\u001b[38;5;166m\u001b[1m Warning \u001b[0m\u001b[38;5;166m Skipping metadata from column=unminimized_mol.\u001b[0m\n",
      "\u001b[7m\u001b[38;5;166m\u001b[1m Warning \u001b[0m\u001b[38;5;166m Skipping metadata from column=hit_mols.\u001b[0m\n",
      "\u001b[7m\u001b[38;5;166m\u001b[1m Warning \u001b[0m\u001b[38;5;166m Skipping metadata from column=hit_names.\u001b[0m\n"
     ]
    },
    {
     "name": "stderr",
     "output_type": "stream",
     "text": [
      "[09:58:54] Skipping unrecognized collection type at line 78: MDLV30/STEABS ATOMS=(0)\n",
      "2it [00:00, 12.79it/s]"
     ]
    },
    {
     "name": "stdout",
     "output_type": "stream",
     "text": [
      "\u001b[7m\u001b[32;1m SUCCESS \u001b[0m\u001b[32;1m Loaded compounds from frag_pairs/cx0892a-cx1203a_OK/fragmenstein_mergers_pairs.pkl.gz!\u001b[0m\n",
      "frag_pairs/cx0317a-cx1402a_OK/fragmenstein_mergers_pairs.pkl.gz\n",
      "\u001b[2mDEBUG: sdf_path=PosixPath('frag_pairs/cx0317a-cx1402a_OK/fragmenstein_mergers_pairs.pkl.gz')\u001b[0m\n",
      "\u001b[7m\u001b[38;5;166m\u001b[1m Warning \u001b[0m\u001b[38;5;166m Skipping existing target with name='CHIKV_Mac'\u001b[0m\n",
      "\u001b[7m\u001b[1m\u001b[38;5;11m DISK \u001b[0m Writing \u001b[38;5;11mCreating output directory fragmenstein_mergers_pairs.pkl.gz\u001b[0m\n"
     ]
    },
    {
     "name": "stderr",
     "output_type": "stream",
     "text": [
      "\n",
      "0it [00:00, ?it/s]"
     ]
    },
    {
     "name": "stdout",
     "output_type": "stream",
     "text": [
      "\u001b[7m\u001b[38;5;166m\u001b[1m Warning \u001b[0m\u001b[38;5;166m Skipping metadata from column=disregarded.\u001b[0m\n",
      "\u001b[7m\u001b[38;5;166m\u001b[1m Warning \u001b[0m\u001b[38;5;166m Skipping metadata from column=unmin_binary.\u001b[0m\n",
      "\u001b[7m\u001b[38;5;166m\u001b[1m Warning \u001b[0m\u001b[38;5;166m Skipping metadata from column=min_binary.\u001b[0m\n",
      "\u001b[7m\u001b[38;5;166m\u001b[1m Warning \u001b[0m\u001b[38;5;166m Skipping metadata from column=hit_binaries.\u001b[0m\n",
      "\u001b[7m\u001b[38;5;166m\u001b[1m Warning \u001b[0m\u001b[38;5;166m Skipping metadata from column=unminimized_mol.\u001b[0m\n",
      "\u001b[7m\u001b[38;5;166m\u001b[1m Warning \u001b[0m\u001b[38;5;166m Skipping metadata from column=hit_mols.\u001b[0m\n",
      "\u001b[7m\u001b[38;5;166m\u001b[1m Warning \u001b[0m\u001b[38;5;166m Skipping metadata from column=hit_names.\u001b[0m\n"
     ]
    },
    {
     "name": "stderr",
     "output_type": "stream",
     "text": [
      "[09:58:54] Skipping unrecognized collection type at line 84: MDLV30/STEABS ATOMS=(0)\n",
      "[09:58:54] Skipping unrecognized collection type at line 84: MDLV30/STEABS ATOMS=(0)\n"
     ]
    },
    {
     "name": "stdout",
     "output_type": "stream",
     "text": [
      "\u001b[7m\u001b[38;5;166m\u001b[1m Warning \u001b[0m\u001b[38;5;166m Found similar pose=\u001b[1m\u001b[4mC106->P341: cx0317a-cx1402a\u001b[22m\u001b[24m\u001b[0m\n"
     ]
    },
    {
     "name": "stderr",
     "output_type": "stream",
     "text": [
      "2it [00:00,  7.37it/s]"
     ]
    },
    {
     "name": "stdout",
     "output_type": "stream",
     "text": [
      "\u001b[7m\u001b[32;1m SUCCESS \u001b[0m\u001b[32;1m Loaded compounds from frag_pairs/cx0317a-cx1402a_OK/fragmenstein_mergers_pairs.pkl.gz!\u001b[0m\n",
      "frag_pairs/cx0314a-cx1114a_OK/fragmenstein_mergers_pairs.pkl.gz\n",
      "\u001b[2mDEBUG: sdf_path=PosixPath('frag_pairs/cx0314a-cx1114a_OK/fragmenstein_mergers_pairs.pkl.gz')\u001b[0m\n"
     ]
    },
    {
     "name": "stderr",
     "output_type": "stream",
     "text": [
      "\n"
     ]
    },
    {
     "name": "stdout",
     "output_type": "stream",
     "text": [
      "\u001b[7m\u001b[38;5;166m\u001b[1m Warning \u001b[0m\u001b[38;5;166m Skipping existing target with name='CHIKV_Mac'\u001b[0m\n",
      "\u001b[7m\u001b[1m\u001b[38;5;11m DISK \u001b[0m Writing \u001b[38;5;11mCreating output directory fragmenstein_mergers_pairs.pkl.gz\u001b[0m\n"
     ]
    },
    {
     "name": "stderr",
     "output_type": "stream",
     "text": [
      "2it [00:00, 3565.07it/s]"
     ]
    },
    {
     "name": "stdout",
     "output_type": "stream",
     "text": [
      "\u001b[7m\u001b[32;1m SUCCESS \u001b[0m\u001b[32;1m Loaded compounds from frag_pairs/cx0314a-cx1114a_OK/fragmenstein_mergers_pairs.pkl.gz!\u001b[0m\n",
      "frag_pairs/cx0289a-cx0892a_OK/fragmenstein_mergers_pairs.pkl.gz\n",
      "\u001b[2mDEBUG: sdf_path=PosixPath('frag_pairs/cx0289a-cx0892a_OK/fragmenstein_mergers_pairs.pkl.gz')\u001b[0m\n",
      "\u001b[7m\u001b[38;5;166m\u001b[1m Warning \u001b[0m\u001b[38;5;166m Skipping existing target with name='CHIKV_Mac'\u001b[0m\n",
      "\u001b[7m\u001b[1m\u001b[38;5;11m DISK \u001b[0m Writing \u001b[38;5;11mCreating output directory fragmenstein_mergers_pairs.pkl.gz\u001b[0m\n"
     ]
    },
    {
     "name": "stderr",
     "output_type": "stream",
     "text": [
      "\n",
      "2it [00:00, 2702.52it/s]"
     ]
    },
    {
     "name": "stdout",
     "output_type": "stream",
     "text": [
      "\u001b[7m\u001b[32;1m SUCCESS \u001b[0m\u001b[32;1m Loaded compounds from frag_pairs/cx0289a-cx0892a_OK/fragmenstein_mergers_pairs.pkl.gz!\u001b[0m\n",
      "frag_pairs/cx0281a-cx1135b_OK/fragmenstein_mergers_pairs.pkl.gz\n",
      "\u001b[2mDEBUG: sdf_path=PosixPath('frag_pairs/cx0281a-cx1135b_OK/fragmenstein_mergers_pairs.pkl.gz')\u001b[0m\n",
      "\u001b[7m\u001b[38;5;166m\u001b[1m Warning \u001b[0m\u001b[38;5;166m Skipping existing target with name='CHIKV_Mac'\u001b[0m\n",
      "\u001b[7m\u001b[1m\u001b[38;5;11m DISK \u001b[0m Writing \u001b[38;5;11mCreating output directory fragmenstein_mergers_pairs.pkl.gz\u001b[0m\n"
     ]
    },
    {
     "name": "stderr",
     "output_type": "stream",
     "text": [
      "\n",
      "0it [00:00, ?it/s]"
     ]
    },
    {
     "name": "stdout",
     "output_type": "stream",
     "text": [
      "\u001b[7m\u001b[38;5;166m\u001b[1m Warning \u001b[0m\u001b[38;5;166m Skipping metadata from column=disregarded.\u001b[0m\n",
      "\u001b[7m\u001b[38;5;166m\u001b[1m Warning \u001b[0m\u001b[38;5;166m Skipping metadata from column=unmin_binary.\u001b[0m\n",
      "\u001b[7m\u001b[38;5;166m\u001b[1m Warning \u001b[0m\u001b[38;5;166m Skipping metadata from column=min_binary.\u001b[0m\n",
      "\u001b[7m\u001b[38;5;166m\u001b[1m Warning \u001b[0m\u001b[38;5;166m Skipping metadata from column=hit_binaries.\u001b[0m\n",
      "\u001b[7m\u001b[38;5;166m\u001b[1m Warning \u001b[0m\u001b[38;5;166m Skipping metadata from column=unminimized_mol.\u001b[0m\n",
      "\u001b[7m\u001b[38;5;166m\u001b[1m Warning \u001b[0m\u001b[38;5;166m Skipping metadata from column=hit_mols.\u001b[0m\n",
      "\u001b[7m\u001b[38;5;166m\u001b[1m Warning \u001b[0m\u001b[38;5;166m Skipping metadata from column=hit_names.\u001b[0m\n"
     ]
    },
    {
     "name": "stderr",
     "output_type": "stream",
     "text": [
      "[09:58:54] Skipping unrecognized collection type at line 52: MDLV30/STEABS ATOMS=(0)\n",
      "[09:58:54] Skipping unrecognized collection type at line 52: MDLV30/STEABS ATOMS=(0)\n",
      "[09:58:54] Skipping unrecognized collection type at line 52: MDLV30/STEABS ATOMS=(0)\n"
     ]
    },
    {
     "name": "stdout",
     "output_type": "stream",
     "text": [
      "\u001b[7m\u001b[38;5;166m\u001b[1m Warning \u001b[0m\u001b[38;5;166m Found similar pose=\u001b[1m\u001b[4mC97->P342: cx0281a-cx1135b\u001b[22m\u001b[24m\u001b[0m\n"
     ]
    },
    {
     "name": "stderr",
     "output_type": "stream",
     "text": [
      "2it [00:00,  7.20it/s]"
     ]
    },
    {
     "name": "stdout",
     "output_type": "stream",
     "text": [
      "\u001b[7m\u001b[32;1m SUCCESS \u001b[0m\u001b[32;1m Loaded compounds from frag_pairs/cx0281a-cx1135b_OK/fragmenstein_mergers_pairs.pkl.gz!\u001b[0m\n",
      "frag_pairs/cx0281a-cx0406a_OK/fragmenstein_mergers_pairs.pkl.gz\n",
      "\u001b[2mDEBUG: sdf_path=PosixPath('frag_pairs/cx0281a-cx0406a_OK/fragmenstein_mergers_pairs.pkl.gz')\u001b[0m\n",
      "\u001b[7m\u001b[38;5;166m\u001b[1m Warning \u001b[0m\u001b[38;5;166m Skipping existing target with name='CHIKV_Mac'\u001b[0m\n",
      "\u001b[7m\u001b[1m\u001b[38;5;11m DISK \u001b[0m Writing \u001b[38;5;11mCreating output directory fragmenstein_mergers_pairs.pkl.gz\u001b[0m\n"
     ]
    },
    {
     "name": "stderr",
     "output_type": "stream",
     "text": [
      "\n",
      "0it [00:00, ?it/s]"
     ]
    },
    {
     "name": "stdout",
     "output_type": "stream",
     "text": [
      "\u001b[7m\u001b[38;5;166m\u001b[1m Warning \u001b[0m\u001b[38;5;166m Skipping metadata from column=disregarded.\u001b[0m\n",
      "\u001b[7m\u001b[38;5;166m\u001b[1m Warning \u001b[0m\u001b[38;5;166m Skipping metadata from column=unmin_binary.\u001b[0m\n",
      "\u001b[7m\u001b[38;5;166m\u001b[1m Warning \u001b[0m\u001b[38;5;166m Skipping metadata from column=min_binary.\u001b[0m\n",
      "\u001b[7m\u001b[38;5;166m\u001b[1m Warning \u001b[0m\u001b[38;5;166m Skipping metadata from column=hit_binaries.\u001b[0m\n",
      "\u001b[7m\u001b[38;5;166m\u001b[1m Warning \u001b[0m\u001b[38;5;166m Skipping metadata from column=unminimized_mol.\u001b[0m\n",
      "\u001b[7m\u001b[38;5;166m\u001b[1m Warning \u001b[0m\u001b[38;5;166m Skipping metadata from column=hit_mols.\u001b[0m\n",
      "\u001b[7m\u001b[38;5;166m\u001b[1m Warning \u001b[0m\u001b[38;5;166m Skipping metadata from column=hit_names.\u001b[0m\n"
     ]
    },
    {
     "name": "stderr",
     "output_type": "stream",
     "text": [
      "[09:58:55] Skipping unrecognized collection type at line 91: MDLV30/STEABS ATOMS=(0)\n",
      "[09:58:55] Skipping unrecognized collection type at line 91: MDLV30/STEABS ATOMS=(0)\n"
     ]
    },
    {
     "name": "stdout",
     "output_type": "stream",
     "text": [
      "\u001b[7m\u001b[38;5;166m\u001b[1m Warning \u001b[0m\u001b[38;5;166m Found similar pose=\u001b[1m\u001b[4mC107->P343: cx0281a-cx0406a\u001b[22m\u001b[24m\u001b[0m\n"
     ]
    },
    {
     "name": "stderr",
     "output_type": "stream",
     "text": [
      "2it [00:00,  9.04it/s]"
     ]
    },
    {
     "name": "stdout",
     "output_type": "stream",
     "text": [
      "\u001b[7m\u001b[32;1m SUCCESS \u001b[0m\u001b[32;1m Loaded compounds from frag_pairs/cx0281a-cx0406a_OK/fragmenstein_mergers_pairs.pkl.gz!\u001b[0m\n",
      "frag_pairs/cx0316a-cx1402a_OK/fragmenstein_mergers_pairs.pkl.gz\n",
      "\u001b[2mDEBUG: sdf_path=PosixPath('frag_pairs/cx0316a-cx1402a_OK/fragmenstein_mergers_pairs.pkl.gz')\u001b[0m\n",
      "\u001b[7m\u001b[38;5;166m\u001b[1m Warning \u001b[0m\u001b[38;5;166m Skipping existing target with name='CHIKV_Mac'\u001b[0m\n",
      "\u001b[7m\u001b[1m\u001b[38;5;11m DISK \u001b[0m Writing \u001b[38;5;11mCreating output directory fragmenstein_mergers_pairs.pkl.gz\u001b[0m\n"
     ]
    },
    {
     "name": "stderr",
     "output_type": "stream",
     "text": [
      "\n",
      "0it [00:00, ?it/s]"
     ]
    },
    {
     "name": "stdout",
     "output_type": "stream",
     "text": [
      "\u001b[7m\u001b[38;5;166m\u001b[1m Warning \u001b[0m\u001b[38;5;166m Skipping metadata from column=disregarded.\u001b[0m\n",
      "\u001b[7m\u001b[38;5;166m\u001b[1m Warning \u001b[0m\u001b[38;5;166m Skipping metadata from column=unmin_binary.\u001b[0m\n",
      "\u001b[7m\u001b[38;5;166m\u001b[1m Warning \u001b[0m\u001b[38;5;166m Skipping metadata from column=min_binary.\u001b[0m\n",
      "\u001b[7m\u001b[38;5;166m\u001b[1m Warning \u001b[0m\u001b[38;5;166m Skipping metadata from column=hit_binaries.\u001b[0m\n",
      "\u001b[7m\u001b[38;5;166m\u001b[1m Warning \u001b[0m\u001b[38;5;166m Skipping metadata from column=unminimized_mol.\u001b[0m\n",
      "\u001b[7m\u001b[38;5;166m\u001b[1m Warning \u001b[0m\u001b[38;5;166m Skipping metadata from column=hit_mols.\u001b[0m\n",
      "\u001b[7m\u001b[38;5;166m\u001b[1m Warning \u001b[0m\u001b[38;5;166m Skipping metadata from column=hit_names.\u001b[0m\n"
     ]
    },
    {
     "name": "stderr",
     "output_type": "stream",
     "text": [
      "[09:58:55] Skipping unrecognized collection type at line 93: MDLV30/STEABS ATOMS=(0)\n",
      "[09:58:55] Skipping unrecognized collection type at line 93: MDLV30/STEABS ATOMS=(0)\n"
     ]
    },
    {
     "name": "stdout",
     "output_type": "stream",
     "text": [
      "\u001b[7m\u001b[38;5;166m\u001b[1m Warning \u001b[0m\u001b[38;5;166m Found similar pose=\u001b[1m\u001b[4mC108->P344: cx0316a-cx1402a\u001b[22m\u001b[24m\u001b[0m\n"
     ]
    },
    {
     "name": "stderr",
     "output_type": "stream",
     "text": [
      "2it [00:00,  6.06it/s]"
     ]
    },
    {
     "name": "stdout",
     "output_type": "stream",
     "text": [
      "\u001b[7m\u001b[32;1m SUCCESS \u001b[0m\u001b[32;1m Loaded compounds from frag_pairs/cx0316a-cx1402a_OK/fragmenstein_mergers_pairs.pkl.gz!\u001b[0m\n",
      "frag_pairs/cx0316a-cx0441a_OK/fragmenstein_mergers_pairs.pkl.gz\n",
      "\u001b[2mDEBUG: sdf_path=PosixPath('frag_pairs/cx0316a-cx0441a_OK/fragmenstein_mergers_pairs.pkl.gz')\u001b[0m\n",
      "\u001b[7m\u001b[38;5;166m\u001b[1m Warning \u001b[0m\u001b[38;5;166m Skipping existing target with name='CHIKV_Mac'\u001b[0m\n",
      "\u001b[7m\u001b[1m\u001b[38;5;11m DISK \u001b[0m Writing \u001b[38;5;11mCreating output directory fragmenstein_mergers_pairs.pkl.gz\u001b[0m\n"
     ]
    },
    {
     "name": "stderr",
     "output_type": "stream",
     "text": [
      "\n",
      "0it [00:00, ?it/s][09:58:55] Skipping unrecognized collection type at line 92: MDLV30/STEABS ATOMS=(0)\n",
      "2it [00:00, 45.74it/s]"
     ]
    },
    {
     "name": "stdout",
     "output_type": "stream",
     "text": [
      "\u001b[7m\u001b[32;1m SUCCESS \u001b[0m\u001b[32;1m Loaded compounds from frag_pairs/cx0316a-cx0441a_OK/fragmenstein_mergers_pairs.pkl.gz!\u001b[0m\n",
      "frag_pairs/cx0314a-cx1182a_OK/fragmenstein_mergers_pairs.pkl.gz\n",
      "\u001b[2mDEBUG: sdf_path=PosixPath('frag_pairs/cx0314a-cx1182a_OK/fragmenstein_mergers_pairs.pkl.gz')\u001b[0m\n",
      "\u001b[7m\u001b[38;5;166m\u001b[1m Warning \u001b[0m\u001b[38;5;166m Skipping existing target with name='CHIKV_Mac'\u001b[0m\n",
      "\u001b[7m\u001b[1m\u001b[38;5;11m DISK \u001b[0m Writing \u001b[38;5;11mCreating output directory fragmenstein_mergers_pairs.pkl.gz\u001b[0m\n"
     ]
    },
    {
     "name": "stderr",
     "output_type": "stream",
     "text": [
      "\n",
      "2it [00:00, 49.99it/s]"
     ]
    },
    {
     "name": "stdout",
     "output_type": "stream",
     "text": [
      "\u001b[7m\u001b[32;1m SUCCESS \u001b[0m\u001b[32;1m Loaded compounds from frag_pairs/cx0314a-cx1182a_OK/fragmenstein_mergers_pairs.pkl.gz!\u001b[0m\n",
      "frag_pairs/cx0316a-cx1406a_OK/fragmenstein_mergers_pairs.pkl.gz\n",
      "\u001b[2mDEBUG: sdf_path=PosixPath('frag_pairs/cx0316a-cx1406a_OK/fragmenstein_mergers_pairs.pkl.gz')\u001b[0m\n",
      "\u001b[7m\u001b[38;5;166m\u001b[1m Warning \u001b[0m\u001b[38;5;166m Skipping existing target with name='CHIKV_Mac'\u001b[0m\n",
      "\u001b[7m\u001b[1m\u001b[38;5;11m DISK \u001b[0m Writing \u001b[38;5;11mCreating output directory fragmenstein_mergers_pairs.pkl.gz\u001b[0m\n"
     ]
    },
    {
     "name": "stderr",
     "output_type": "stream",
     "text": [
      "\n",
      "0it [00:00, ?it/s]"
     ]
    },
    {
     "name": "stdout",
     "output_type": "stream",
     "text": [
      "\u001b[7m\u001b[38;5;166m\u001b[1m Warning \u001b[0m\u001b[38;5;166m Skipping metadata from column=disregarded.\u001b[0m\n",
      "\u001b[7m\u001b[38;5;166m\u001b[1m Warning \u001b[0m\u001b[38;5;166m Skipping metadata from column=unmin_binary.\u001b[0m\n",
      "\u001b[7m\u001b[38;5;166m\u001b[1m Warning \u001b[0m\u001b[38;5;166m Skipping metadata from column=min_binary.\u001b[0m\n",
      "\u001b[7m\u001b[38;5;166m\u001b[1m Warning \u001b[0m\u001b[38;5;166m Skipping metadata from column=hit_binaries.\u001b[0m\n",
      "\u001b[7m\u001b[38;5;166m\u001b[1m Warning \u001b[0m\u001b[38;5;166m Skipping metadata from column=unminimized_mol.\u001b[0m\n",
      "\u001b[7m\u001b[38;5;166m\u001b[1m Warning \u001b[0m\u001b[38;5;166m Skipping metadata from column=hit_mols.\u001b[0m\n",
      "\u001b[7m\u001b[38;5;166m\u001b[1m Warning \u001b[0m\u001b[38;5;166m Skipping metadata from column=hit_names.\u001b[0m\n"
     ]
    },
    {
     "name": "stderr",
     "output_type": "stream",
     "text": [
      "[09:58:55] Skipping unrecognized collection type at line 88: MDLV30/STEABS ATOMS=(0)\n",
      "[09:58:55] Skipping unrecognized collection type at line 88: MDLV30/STEABS ATOMS=(0)\n",
      "2it [00:00,  8.83it/s]"
     ]
    },
    {
     "name": "stdout",
     "output_type": "stream",
     "text": [
      "\u001b[7m\u001b[32;1m SUCCESS \u001b[0m\u001b[32;1m Loaded compounds from frag_pairs/cx0316a-cx1406a_OK/fragmenstein_mergers_pairs.pkl.gz!\u001b[0m\n",
      "frag_pairs/cx0281a-cx1182a_OK/fragmenstein_mergers_pairs.pkl.gz\n",
      "\u001b[2mDEBUG: sdf_path=PosixPath('frag_pairs/cx0281a-cx1182a_OK/fragmenstein_mergers_pairs.pkl.gz')\u001b[0m\n",
      "\u001b[7m\u001b[38;5;166m\u001b[1m Warning \u001b[0m\u001b[38;5;166m Skipping existing target with name='CHIKV_Mac'\u001b[0m\n",
      "\u001b[7m\u001b[1m\u001b[38;5;11m DISK \u001b[0m Writing \u001b[38;5;11mCreating output directory fragmenstein_mergers_pairs.pkl.gz\u001b[0m\n"
     ]
    },
    {
     "name": "stderr",
     "output_type": "stream",
     "text": [
      "\n",
      "0it [00:00, ?it/s]"
     ]
    },
    {
     "name": "stdout",
     "output_type": "stream",
     "text": [
      "\u001b[7m\u001b[38;5;166m\u001b[1m Warning \u001b[0m\u001b[38;5;166m Skipping metadata from column=disregarded.\u001b[0m\n",
      "\u001b[7m\u001b[38;5;166m\u001b[1m Warning \u001b[0m\u001b[38;5;166m Skipping metadata from column=unmin_binary.\u001b[0m\n",
      "\u001b[7m\u001b[38;5;166m\u001b[1m Warning \u001b[0m\u001b[38;5;166m Skipping metadata from column=min_binary.\u001b[0m\n",
      "\u001b[7m\u001b[38;5;166m\u001b[1m Warning \u001b[0m\u001b[38;5;166m Skipping metadata from column=hit_binaries.\u001b[0m\n",
      "\u001b[7m\u001b[38;5;166m\u001b[1m Warning \u001b[0m\u001b[38;5;166m Skipping metadata from column=unminimized_mol.\u001b[0m\n",
      "\u001b[7m\u001b[38;5;166m\u001b[1m Warning \u001b[0m\u001b[38;5;166m Skipping metadata from column=hit_mols.\u001b[0m\n",
      "\u001b[7m\u001b[38;5;166m\u001b[1m Warning \u001b[0m\u001b[38;5;166m Skipping metadata from column=hit_names.\u001b[0m\n",
      "\u001b[7m\u001b[38;5;166m\u001b[1m Warning \u001b[0m\u001b[38;5;166m Found similar pose=\u001b[1m\u001b[4mC111->P349: cx0281a-cx1182a\u001b[22m\u001b[24m\u001b[0m\n"
     ]
    },
    {
     "name": "stderr",
     "output_type": "stream",
     "text": [
      "[09:58:56] Skipping unrecognized collection type at line 70: MDLV30/STEABS ATOMS=(0)\n",
      "[09:58:56] Skipping unrecognized collection type at line 70: MDLV30/STEABS ATOMS=(0)\n",
      "2it [00:00, 11.76it/s]"
     ]
    },
    {
     "name": "stdout",
     "output_type": "stream",
     "text": [
      "\u001b[7m\u001b[32;1m SUCCESS \u001b[0m\u001b[32;1m Loaded compounds from frag_pairs/cx0281a-cx1182a_OK/fragmenstein_mergers_pairs.pkl.gz!\u001b[0m\n",
      "frag_pairs/cx0281a-cx0892a_OK/fragmenstein_mergers_pairs.pkl.gz\n",
      "\u001b[2mDEBUG: sdf_path=PosixPath('frag_pairs/cx0281a-cx0892a_OK/fragmenstein_mergers_pairs.pkl.gz')\u001b[0m\n",
      "\u001b[7m\u001b[38;5;166m\u001b[1m Warning \u001b[0m\u001b[38;5;166m Skipping existing target with name='CHIKV_Mac'\u001b[0m\n",
      "\u001b[7m\u001b[1m\u001b[38;5;11m DISK \u001b[0m Writing \u001b[38;5;11mCreating output directory fragmenstein_mergers_pairs.pkl.gz\u001b[0m\n"
     ]
    },
    {
     "name": "stderr",
     "output_type": "stream",
     "text": [
      "\n",
      "0it [00:00, ?it/s]"
     ]
    },
    {
     "name": "stdout",
     "output_type": "stream",
     "text": [
      "\u001b[7m\u001b[38;5;166m\u001b[1m Warning \u001b[0m\u001b[38;5;166m Skipping metadata from column=disregarded.\u001b[0m\n",
      "\u001b[7m\u001b[38;5;166m\u001b[1m Warning \u001b[0m\u001b[38;5;166m Skipping metadata from column=unmin_binary.\u001b[0m\n",
      "\u001b[7m\u001b[38;5;166m\u001b[1m Warning \u001b[0m\u001b[38;5;166m Skipping metadata from column=min_binary.\u001b[0m\n",
      "\u001b[7m\u001b[38;5;166m\u001b[1m Warning \u001b[0m\u001b[38;5;166m Skipping metadata from column=hit_binaries.\u001b[0m\n",
      "\u001b[7m\u001b[38;5;166m\u001b[1m Warning \u001b[0m\u001b[38;5;166m Skipping metadata from column=unminimized_mol.\u001b[0m\n",
      "\u001b[7m\u001b[38;5;166m\u001b[1m Warning \u001b[0m\u001b[38;5;166m Skipping metadata from column=hit_mols.\u001b[0m\n",
      "\u001b[7m\u001b[38;5;166m\u001b[1m Warning \u001b[0m\u001b[38;5;166m Skipping metadata from column=hit_names.\u001b[0m\n"
     ]
    },
    {
     "name": "stderr",
     "output_type": "stream",
     "text": [
      "[09:58:56] Skipping unrecognized collection type at line 76: MDLV30/STEABS ATOMS=(0)\n",
      "2it [00:00, 13.91it/s]"
     ]
    },
    {
     "name": "stdout",
     "output_type": "stream",
     "text": [
      "\u001b[7m\u001b[32;1m SUCCESS \u001b[0m\u001b[32;1m Loaded compounds from frag_pairs/cx0281a-cx0892a_OK/fragmenstein_mergers_pairs.pkl.gz!\u001b[0m\n",
      "frag_pairs/cx0316a-cx0394a_OK/fragmenstein_mergers_pairs.pkl.gz\n",
      "\u001b[2mDEBUG: sdf_path=PosixPath('frag_pairs/cx0316a-cx0394a_OK/fragmenstein_mergers_pairs.pkl.gz')\u001b[0m\n",
      "\u001b[7m\u001b[38;5;166m\u001b[1m Warning \u001b[0m\u001b[38;5;166m Skipping existing target with name='CHIKV_Mac'\u001b[0m\n",
      "\u001b[7m\u001b[1m\u001b[38;5;11m DISK \u001b[0m Writing \u001b[38;5;11mCreating output directory fragmenstein_mergers_pairs.pkl.gz\u001b[0m\n"
     ]
    },
    {
     "name": "stderr",
     "output_type": "stream",
     "text": [
      "\n",
      "0it [00:00, ?it/s]"
     ]
    },
    {
     "name": "stdout",
     "output_type": "stream",
     "text": [
      "\u001b[7m\u001b[38;5;166m\u001b[1m Warning \u001b[0m\u001b[38;5;166m Skipping metadata from column=disregarded.\u001b[0m\n",
      "\u001b[7m\u001b[38;5;166m\u001b[1m Warning \u001b[0m\u001b[38;5;166m Skipping metadata from column=unmin_binary.\u001b[0m\n",
      "\u001b[7m\u001b[38;5;166m\u001b[1m Warning \u001b[0m\u001b[38;5;166m Skipping metadata from column=min_binary.\u001b[0m\n",
      "\u001b[7m\u001b[38;5;166m\u001b[1m Warning \u001b[0m\u001b[38;5;166m Skipping metadata from column=hit_binaries.\u001b[0m\n",
      "\u001b[7m\u001b[38;5;166m\u001b[1m Warning \u001b[0m\u001b[38;5;166m Skipping metadata from column=unminimized_mol.\u001b[0m\n",
      "\u001b[7m\u001b[38;5;166m\u001b[1m Warning \u001b[0m\u001b[38;5;166m Skipping metadata from column=hit_mols.\u001b[0m\n",
      "\u001b[7m\u001b[38;5;166m\u001b[1m Warning \u001b[0m\u001b[38;5;166m Skipping metadata from column=hit_names.\u001b[0m\n"
     ]
    },
    {
     "name": "stderr",
     "output_type": "stream",
     "text": [
      "2it [00:00, 25.96it/s]"
     ]
    },
    {
     "name": "stdout",
     "output_type": "stream",
     "text": [
      "\u001b[7m\u001b[32;1m SUCCESS \u001b[0m\u001b[32;1m Loaded compounds from frag_pairs/cx0316a-cx0394a_OK/fragmenstein_mergers_pairs.pkl.gz!\u001b[0m\n",
      "frag_pairs/cx0892a-cx1203a_OK/fragmenstein_placed_pairs.pkl.gz\n",
      "\u001b[2mDEBUG: sdf_path=PosixPath('frag_pairs/cx0892a-cx1203a_OK/fragmenstein_placed_pairs.pkl.gz')\u001b[0m\n",
      "\u001b[7m\u001b[38;5;166m\u001b[1m Warning \u001b[0m\u001b[38;5;166m Skipping existing target with name='CHIKV_Mac'\u001b[0m\n",
      "\u001b[7m\u001b[1m\u001b[38;5;11m DISK \u001b[0m Writing \u001b[38;5;11mCreating output directory fragmenstein_placed_pairs.pkl.gz\u001b[0m\n"
     ]
    },
    {
     "name": "stderr",
     "output_type": "stream",
     "text": [
      "\n",
      "91it [00:01, 71.56it/s]"
     ]
    },
    {
     "name": "stdout",
     "output_type": "stream",
     "text": [
      "\u001b[7m\u001b[32;1m SUCCESS \u001b[0m\u001b[32;1m Loaded compounds from frag_pairs/cx0892a-cx1203a_OK/fragmenstein_placed_pairs.pkl.gz!\u001b[0m\n",
      "frag_pairs/cx0317a-cx1402a_OK/fragmenstein_placed_pairs.pkl.gz\n",
      "\u001b[2mDEBUG: sdf_path=PosixPath('frag_pairs/cx0317a-cx1402a_OK/fragmenstein_placed_pairs.pkl.gz')\u001b[0m\n"
     ]
    },
    {
     "name": "stderr",
     "output_type": "stream",
     "text": [
      "\n"
     ]
    },
    {
     "name": "stdout",
     "output_type": "stream",
     "text": [
      "\u001b[7m\u001b[38;5;166m\u001b[1m Warning \u001b[0m\u001b[38;5;166m Skipping existing target with name='CHIKV_Mac'\u001b[0m\n",
      "\u001b[7m\u001b[1m\u001b[38;5;11m DISK \u001b[0m Writing \u001b[38;5;11mCreating output directory fragmenstein_placed_pairs.pkl.gz\u001b[0m\n"
     ]
    },
    {
     "name": "stderr",
     "output_type": "stream",
     "text": [
      "0it [00:00, ?it/s]"
     ]
    },
    {
     "name": "stdout",
     "output_type": "stream",
     "text": [
      "\u001b[7m\u001b[38;5;166m\u001b[1m Warning \u001b[0m\u001b[38;5;166m Skipping metadata from column=binary_hits.\u001b[0m\n",
      "\u001b[7m\u001b[38;5;166m\u001b[1m Warning \u001b[0m\u001b[38;5;166m Skipping metadata from column=custom_map.\u001b[0m\n",
      "\u001b[7m\u001b[38;5;166m\u001b[1m Warning \u001b[0m\u001b[38;5;166m Skipping metadata from column=disregarded.\u001b[0m\n",
      "\u001b[7m\u001b[38;5;166m\u001b[1m Warning \u001b[0m\u001b[38;5;166m Skipping metadata from column=unmin_binary.\u001b[0m\n",
      "\u001b[7m\u001b[38;5;166m\u001b[1m Warning \u001b[0m\u001b[38;5;166m Skipping metadata from column=min_binary.\u001b[0m\n",
      "\u001b[7m\u001b[38;5;166m\u001b[1m Warning \u001b[0m\u001b[38;5;166m Skipping metadata from column=hit_binaries.\u001b[0m\n",
      "\u001b[7m\u001b[38;5;166m\u001b[1m Warning \u001b[0m\u001b[38;5;166m Skipping metadata from column=('hydroph_interaction', 'VAL', 33).\u001b[0m\n",
      "\u001b[7m\u001b[38;5;166m\u001b[1m Warning \u001b[0m\u001b[38;5;166m Skipping metadata from column=('hbond', 'ARG', 144).\u001b[0m\n",
      "\u001b[7m\u001b[38;5;166m\u001b[1m Warning \u001b[0m\u001b[38;5;166m Skipping metadata from column=('pication', 'ARG', 144).\u001b[0m\n",
      "\u001b[7m\u001b[38;5;166m\u001b[1m Warning \u001b[0m\u001b[38;5;166m Skipping metadata from column=('hydroph_interaction', 'ARG', 144).\u001b[0m\n",
      "\u001b[7m\u001b[38;5;166m\u001b[1m Warning \u001b[0m\u001b[38;5;166m Skipping metadata from column=('pistack', 'TRP', 148).\u001b[0m\n",
      "\u001b[7m\u001b[38;5;166m\u001b[1m Warning \u001b[0m\u001b[38;5;166m Skipping metadata from column=('hbond', 'ILE', 11).\u001b[0m\n",
      "\u001b[7m\u001b[38;5;166m\u001b[1m Warning \u001b[0m\u001b[38;5;166m Skipping metadata from column=('hydroph_interaction', 'LEU', 108).\u001b[0m\n",
      "\u001b[7m\u001b[38;5;166m\u001b[1m Warning \u001b[0m\u001b[38;5;166m Skipping metadata from column=('hbond', 'TYR', 142).\u001b[0m\n",
      "\u001b[7m\u001b[38;5;166m\u001b[1m Warning \u001b[0m\u001b[38;5;166m Skipping metadata from column=('hbond', 'ASP', 145).\u001b[0m\n",
      "\u001b[7m\u001b[38;5;166m\u001b[1m Warning \u001b[0m\u001b[38;5;166m Skipping metadata from column=('hydroph_interaction', 'TRP', 148).\u001b[0m\n",
      "\u001b[7m\u001b[38;5;166m\u001b[1m Warning \u001b[0m\u001b[38;5;166m Skipping metadata from column=('pication', 'TRP', 148).\u001b[0m\n",
      "\u001b[7m\u001b[38;5;166m\u001b[1m Warning \u001b[0m\u001b[38;5;166m Skipping metadata from column=('halogenbond', 'TYR', 142).\u001b[0m\n",
      "\u001b[7m\u001b[38;5;166m\u001b[1m Warning \u001b[0m\u001b[38;5;166m Skipping metadata from column=('hydroph_interaction', 'ASP', 145).\u001b[0m\n",
      "\u001b[7m\u001b[38;5;166m\u001b[1m Warning \u001b[0m\u001b[38;5;166m Skipping metadata from column=('hbond', 'THR', 111).\u001b[0m\n",
      "\u001b[7m\u001b[38;5;166m\u001b[1m Warning \u001b[0m\u001b[38;5;166m Skipping metadata from column=('hydroph_interaction', 'ILE', 11).\u001b[0m\n",
      "\u001b[7m\u001b[38;5;166m\u001b[1m Warning \u001b[0m\u001b[38;5;166m Skipping metadata from column=('hydroph_interaction', 'TYR', 142).\u001b[0m\n",
      "\u001b[7m\u001b[38;5;166m\u001b[1m Warning \u001b[0m\u001b[38;5;166m Skipping metadata from column=('hbond', 'LEU', 108).\u001b[0m\n",
      "\u001b[7m\u001b[38;5;166m\u001b[1m Warning \u001b[0m\u001b[38;5;166m Skipping metadata from column=('hydroph_interaction', 'LEU', 128).\u001b[0m\n",
      "\u001b[7m\u001b[38;5;166m\u001b[1m Warning \u001b[0m\u001b[38;5;166m Skipping metadata from column=('hydroph_interaction', 'ILE', 141).\u001b[0m\n",
      "\u001b[7m\u001b[38;5;166m\u001b[1m Warning \u001b[0m\u001b[38;5;166m Skipping metadata from column=('hbond', 'LYS', 7).\u001b[0m\n",
      "\u001b[7m\u001b[38;5;166m\u001b[1m Warning \u001b[0m\u001b[38;5;166m Skipping metadata from column=('hbond', 'ILE', 141).\u001b[0m\n",
      "\u001b[7m\u001b[38;5;166m\u001b[1m Warning \u001b[0m\u001b[38;5;166m Skipping metadata from column=unminimized_mol.\u001b[0m\n",
      "\u001b[7m\u001b[38;5;166m\u001b[1m Warning \u001b[0m\u001b[38;5;166m Skipping metadata from column=hit_mols.\u001b[0m\n",
      "\u001b[7m\u001b[38;5;166m\u001b[1m Warning \u001b[0m\u001b[38;5;166m Skipping metadata from column=hit_names.\u001b[0m\n",
      "\u001b[7m\u001b[38;5;166m\u001b[1m Warning \u001b[0m\u001b[38;5;166m Skipping metadata from column=PAINSes.\u001b[0m\n"
     ]
    },
    {
     "name": "stderr",
     "output_type": "stream",
     "text": [
      "50it [00:01, 32.19it/s]"
     ]
    },
    {
     "name": "stdout",
     "output_type": "stream",
     "text": [
      "\u001b[7m\u001b[32;1m SUCCESS \u001b[0m\u001b[32;1m Loaded compounds from frag_pairs/cx0317a-cx1402a_OK/fragmenstein_placed_pairs.pkl.gz!\u001b[0m\n",
      "frag_pairs/cx0314a-cx1114a_OK/fragmenstein_placed_pairs.pkl.gz\n",
      "\u001b[2mDEBUG: sdf_path=PosixPath('frag_pairs/cx0314a-cx1114a_OK/fragmenstein_placed_pairs.pkl.gz')\u001b[0m\n",
      "\u001b[7m\u001b[38;5;166m\u001b[1m Warning \u001b[0m\u001b[38;5;166m Skipping existing target with name='CHIKV_Mac'\u001b[0m\n",
      "\u001b[7m\u001b[1m\u001b[38;5;11m DISK \u001b[0m Writing \u001b[38;5;11mCreating output directory fragmenstein_placed_pairs.pkl.gz\u001b[0m\n"
     ]
    },
    {
     "name": "stderr",
     "output_type": "stream",
     "text": [
      "\n",
      "58it [00:00, 332.67it/s]"
     ]
    },
    {
     "name": "stdout",
     "output_type": "stream",
     "text": [
      "\u001b[7m\u001b[32;1m SUCCESS \u001b[0m\u001b[32;1m Loaded compounds from frag_pairs/cx0314a-cx1114a_OK/fragmenstein_placed_pairs.pkl.gz!\u001b[0m\n",
      "frag_pairs/cx0289a-cx0892a_OK/fragmenstein_placed_pairs.pkl.gz\n",
      "\u001b[2mDEBUG: sdf_path=PosixPath('frag_pairs/cx0289a-cx0892a_OK/fragmenstein_placed_pairs.pkl.gz')\u001b[0m\n"
     ]
    },
    {
     "name": "stderr",
     "output_type": "stream",
     "text": [
      "\n"
     ]
    },
    {
     "name": "stdout",
     "output_type": "stream",
     "text": [
      "\u001b[7m\u001b[38;5;166m\u001b[1m Warning \u001b[0m\u001b[38;5;166m Skipping existing target with name='CHIKV_Mac'\u001b[0m\n",
      "\u001b[7m\u001b[1m\u001b[38;5;11m DISK \u001b[0m Writing \u001b[38;5;11mCreating output directory fragmenstein_placed_pairs.pkl.gz\u001b[0m\n"
     ]
    },
    {
     "name": "stderr",
     "output_type": "stream",
     "text": [
      "5it [00:00, 4671.76it/s]"
     ]
    },
    {
     "name": "stdout",
     "output_type": "stream",
     "text": [
      "\u001b[7m\u001b[32;1m SUCCESS \u001b[0m\u001b[32;1m Loaded compounds from frag_pairs/cx0289a-cx0892a_OK/fragmenstein_placed_pairs.pkl.gz!\u001b[0m\n",
      "frag_pairs/cx0281a-cx1135b_OK/fragmenstein_placed_pairs.pkl.gz\n",
      "\u001b[2mDEBUG: sdf_path=PosixPath('frag_pairs/cx0281a-cx1135b_OK/fragmenstein_placed_pairs.pkl.gz')\u001b[0m\n",
      "\u001b[7m\u001b[38;5;166m\u001b[1m Warning \u001b[0m\u001b[38;5;166m Skipping existing target with name='CHIKV_Mac'\u001b[0m\n",
      "\u001b[7m\u001b[1m\u001b[38;5;11m DISK \u001b[0m Writing \u001b[38;5;11mCreating output directory fragmenstein_placed_pairs.pkl.gz\u001b[0m\n"
     ]
    },
    {
     "name": "stderr",
     "output_type": "stream",
     "text": [
      "\n",
      "50it [00:00, 74.19it/s]"
     ]
    },
    {
     "name": "stdout",
     "output_type": "stream",
     "text": [
      "\u001b[7m\u001b[32;1m SUCCESS \u001b[0m\u001b[32;1m Loaded compounds from frag_pairs/cx0281a-cx1135b_OK/fragmenstein_placed_pairs.pkl.gz!\u001b[0m\n",
      "frag_pairs/cx0281a-cx0406a_OK/fragmenstein_placed_pairs.pkl.gz\n",
      "\u001b[2mDEBUG: sdf_path=PosixPath('frag_pairs/cx0281a-cx0406a_OK/fragmenstein_placed_pairs.pkl.gz')\u001b[0m\n",
      "\u001b[7m\u001b[38;5;166m\u001b[1m Warning \u001b[0m\u001b[38;5;166m Skipping existing target with name='CHIKV_Mac'\u001b[0m\n",
      "\u001b[7m\u001b[1m\u001b[38;5;11m DISK \u001b[0m Writing \u001b[38;5;11mCreating output directory fragmenstein_placed_pairs.pkl.gz\u001b[0m\n"
     ]
    },
    {
     "name": "stderr",
     "output_type": "stream",
     "text": [
      "\n",
      "0it [00:00, ?it/s]"
     ]
    },
    {
     "name": "stdout",
     "output_type": "stream",
     "text": [
      "\u001b[7m\u001b[38;5;166m\u001b[1m Warning \u001b[0m\u001b[38;5;166m Skipping metadata from column=binary_hits.\u001b[0m\n",
      "\u001b[7m\u001b[38;5;166m\u001b[1m Warning \u001b[0m\u001b[38;5;166m Skipping metadata from column=custom_map.\u001b[0m\n",
      "\u001b[7m\u001b[38;5;166m\u001b[1m Warning \u001b[0m\u001b[38;5;166m Skipping metadata from column=disregarded.\u001b[0m\n",
      "\u001b[7m\u001b[38;5;166m\u001b[1m Warning \u001b[0m\u001b[38;5;166m Skipping metadata from column=unmin_binary.\u001b[0m\n",
      "\u001b[7m\u001b[38;5;166m\u001b[1m Warning \u001b[0m\u001b[38;5;166m Skipping metadata from column=min_binary.\u001b[0m\n",
      "\u001b[7m\u001b[38;5;166m\u001b[1m Warning \u001b[0m\u001b[38;5;166m Skipping metadata from column=hit_binaries.\u001b[0m\n",
      "\u001b[7m\u001b[38;5;166m\u001b[1m Warning \u001b[0m\u001b[38;5;166m Skipping metadata from column=('hydroph_interaction', 'ALA', 22).\u001b[0m\n",
      "\u001b[7m\u001b[38;5;166m\u001b[1m Warning \u001b[0m\u001b[38;5;166m Skipping metadata from column=('hbond', 'ASP', 31).\u001b[0m\n",
      "\u001b[7m\u001b[38;5;166m\u001b[1m Warning \u001b[0m\u001b[38;5;166m Skipping metadata from column=('hbond', 'VAL', 33).\u001b[0m\n",
      "\u001b[7m\u001b[38;5;166m\u001b[1m Warning \u001b[0m\u001b[38;5;166m Skipping metadata from column=('hbond', 'CYS', 34).\u001b[0m\n",
      "\u001b[7m\u001b[38;5;166m\u001b[1m Warning \u001b[0m\u001b[38;5;166m Skipping metadata from column=('pication', 'ARG', 144).\u001b[0m\n",
      "\u001b[7m\u001b[38;5;166m\u001b[1m Warning \u001b[0m\u001b[38;5;166m Skipping metadata from column=('hydroph_interaction', 'PRO', 107).\u001b[0m\n",
      "\u001b[7m\u001b[38;5;166m\u001b[1m Warning \u001b[0m\u001b[38;5;166m Skipping metadata from column=('hbond', 'SER', 110).\u001b[0m\n",
      "\u001b[7m\u001b[38;5;166m\u001b[1m Warning \u001b[0m\u001b[38;5;166m Skipping metadata from column=('hbond', 'THR', 111).\u001b[0m\n",
      "\u001b[7m\u001b[38;5;166m\u001b[1m Warning \u001b[0m\u001b[38;5;166m Skipping metadata from column=('hbond', 'GLY', 112).\u001b[0m\n",
      "\u001b[7m\u001b[38;5;166m\u001b[1m Warning \u001b[0m\u001b[38;5;166m Skipping metadata from column=('hydroph_interaction', 'VAL', 33).\u001b[0m\n",
      "\u001b[7m\u001b[38;5;166m\u001b[1m Warning \u001b[0m\u001b[38;5;166m Skipping metadata from column=('hydroph_interaction', 'VAL', 113).\u001b[0m\n",
      "\u001b[7m\u001b[38;5;166m\u001b[1m Warning \u001b[0m\u001b[38;5;166m Skipping metadata from column=('hbond', 'ARG', 144).\u001b[0m\n",
      "\u001b[7m\u001b[38;5;166m\u001b[1m Warning \u001b[0m\u001b[38;5;166m Skipping metadata from column=('pistack', 'TYR', 114).\u001b[0m\n",
      "\u001b[7m\u001b[38;5;166m\u001b[1m Warning \u001b[0m\u001b[38;5;166m Skipping metadata from column=('hydroph_interaction', 'ARG', 144).\u001b[0m\n",
      "\u001b[7m\u001b[38;5;166m\u001b[1m Warning \u001b[0m\u001b[38;5;166m Skipping metadata from column=('hbond', 'ILE', 11).\u001b[0m\n",
      "\u001b[7m\u001b[38;5;166m\u001b[1m Warning \u001b[0m\u001b[38;5;166m Skipping metadata from column=('hydroph_interaction', 'ALA', 36).\u001b[0m\n",
      "\u001b[7m\u001b[38;5;166m\u001b[1m Warning \u001b[0m\u001b[38;5;166m Skipping metadata from column=('hbond', 'LEU', 108).\u001b[0m\n",
      "\u001b[7m\u001b[38;5;166m\u001b[1m Warning \u001b[0m\u001b[38;5;166m Skipping metadata from column=('hbond', 'CYS', 143).\u001b[0m\n",
      "\u001b[7m\u001b[38;5;166m\u001b[1m Warning \u001b[0m\u001b[38;5;166m Skipping metadata from column=('hbond', 'VAL', 113).\u001b[0m\n",
      "\u001b[7m\u001b[38;5;166m\u001b[1m Warning \u001b[0m\u001b[38;5;166m Skipping metadata from column=('hbond', 'ALA', 22).\u001b[0m\n",
      "\u001b[7m\u001b[38;5;166m\u001b[1m Warning \u001b[0m\u001b[38;5;166m Skipping metadata from column=('hydroph_interaction', 'TYR', 114).\u001b[0m\n",
      "\u001b[7m\u001b[38;5;166m\u001b[1m Warning \u001b[0m\u001b[38;5;166m Skipping metadata from column=('hbond', 'TYR', 142).\u001b[0m\n",
      "\u001b[7m\u001b[38;5;166m\u001b[1m Warning \u001b[0m\u001b[38;5;166m Skipping metadata from column=unminimized_mol.\u001b[0m\n",
      "\u001b[7m\u001b[38;5;166m\u001b[1m Warning \u001b[0m\u001b[38;5;166m Skipping metadata from column=hit_mols.\u001b[0m\n",
      "\u001b[7m\u001b[38;5;166m\u001b[1m Warning \u001b[0m\u001b[38;5;166m Skipping metadata from column=hit_names.\u001b[0m\n",
      "\u001b[7m\u001b[38;5;166m\u001b[1m Warning \u001b[0m\u001b[38;5;166m Skipping metadata from column=PAINSes.\u001b[0m\n"
     ]
    },
    {
     "name": "stderr",
     "output_type": "stream",
     "text": [
      "60it [00:00, 62.24it/s]"
     ]
    },
    {
     "name": "stdout",
     "output_type": "stream",
     "text": [
      "\u001b[7m\u001b[32;1m SUCCESS \u001b[0m\u001b[32;1m Loaded compounds from frag_pairs/cx0281a-cx0406a_OK/fragmenstein_placed_pairs.pkl.gz!\u001b[0m\n",
      "frag_pairs/cx0316a-cx1402a_OK/fragmenstein_placed_pairs.pkl.gz\n",
      "\u001b[2mDEBUG: sdf_path=PosixPath('frag_pairs/cx0316a-cx1402a_OK/fragmenstein_placed_pairs.pkl.gz')\u001b[0m\n"
     ]
    },
    {
     "name": "stderr",
     "output_type": "stream",
     "text": [
      "\n"
     ]
    },
    {
     "name": "stdout",
     "output_type": "stream",
     "text": [
      "\u001b[7m\u001b[38;5;166m\u001b[1m Warning \u001b[0m\u001b[38;5;166m Skipping existing target with name='CHIKV_Mac'\u001b[0m\n",
      "\u001b[7m\u001b[1m\u001b[38;5;11m DISK \u001b[0m Writing \u001b[38;5;11mCreating output directory fragmenstein_placed_pairs.pkl.gz\u001b[0m\n"
     ]
    },
    {
     "name": "stderr",
     "output_type": "stream",
     "text": [
      "0it [00:00, ?it/s]"
     ]
    },
    {
     "name": "stdout",
     "output_type": "stream",
     "text": [
      "\u001b[7m\u001b[38;5;166m\u001b[1m Warning \u001b[0m\u001b[38;5;166m Skipping metadata from column=binary_hits.\u001b[0m\n",
      "\u001b[7m\u001b[38;5;166m\u001b[1m Warning \u001b[0m\u001b[38;5;166m Skipping metadata from column=custom_map.\u001b[0m\n",
      "\u001b[7m\u001b[38;5;166m\u001b[1m Warning \u001b[0m\u001b[38;5;166m Skipping metadata from column=disregarded.\u001b[0m\n",
      "\u001b[7m\u001b[38;5;166m\u001b[1m Warning \u001b[0m\u001b[38;5;166m Skipping metadata from column=unmin_binary.\u001b[0m\n",
      "\u001b[7m\u001b[38;5;166m\u001b[1m Warning \u001b[0m\u001b[38;5;166m Skipping metadata from column=min_binary.\u001b[0m\n",
      "\u001b[7m\u001b[38;5;166m\u001b[1m Warning \u001b[0m\u001b[38;5;166m Skipping metadata from column=hit_binaries.\u001b[0m\n",
      "\u001b[7m\u001b[38;5;166m\u001b[1m Warning \u001b[0m\u001b[38;5;166m Skipping metadata from column=('hydroph_interaction', 'ILE', 11).\u001b[0m\n",
      "\u001b[7m\u001b[38;5;166m\u001b[1m Warning \u001b[0m\u001b[38;5;166m Skipping metadata from column=('hydroph_interaction', 'VAL', 33).\u001b[0m\n",
      "\u001b[7m\u001b[38;5;166m\u001b[1m Warning \u001b[0m\u001b[38;5;166m Skipping metadata from column=('hbond', 'LEU', 108).\u001b[0m\n",
      "\u001b[7m\u001b[38;5;166m\u001b[1m Warning \u001b[0m\u001b[38;5;166m Skipping metadata from column=('hbond', 'THR', 111).\u001b[0m\n",
      "\u001b[7m\u001b[38;5;166m\u001b[1m Warning \u001b[0m\u001b[38;5;166m Skipping metadata from column=('hbond', 'ARG', 144).\u001b[0m\n",
      "\u001b[7m\u001b[38;5;166m\u001b[1m Warning \u001b[0m\u001b[38;5;166m Skipping metadata from column=('pication', 'ARG', 144).\u001b[0m\n",
      "\u001b[7m\u001b[38;5;166m\u001b[1m Warning \u001b[0m\u001b[38;5;166m Skipping metadata from column=('hydroph_interaction', 'ARG', 144).\u001b[0m\n",
      "\u001b[7m\u001b[38;5;166m\u001b[1m Warning \u001b[0m\u001b[38;5;166m Skipping metadata from column=('hbond', 'ASP', 145).\u001b[0m\n",
      "\u001b[7m\u001b[38;5;166m\u001b[1m Warning \u001b[0m\u001b[38;5;166m Skipping metadata from column=('hydroph_interaction', 'ASP', 145).\u001b[0m\n",
      "\u001b[7m\u001b[38;5;166m\u001b[1m Warning \u001b[0m\u001b[38;5;166m Skipping metadata from column=('pistack', 'TRP', 148).\u001b[0m\n",
      "\u001b[7m\u001b[38;5;166m\u001b[1m Warning \u001b[0m\u001b[38;5;166m Skipping metadata from column=('hbond', 'ILE', 11).\u001b[0m\n",
      "\u001b[7m\u001b[38;5;166m\u001b[1m Warning \u001b[0m\u001b[38;5;166m Skipping metadata from column=('hbond', 'TYR', 142).\u001b[0m\n",
      "\u001b[7m\u001b[38;5;166m\u001b[1m Warning \u001b[0m\u001b[38;5;166m Skipping metadata from column=('hydroph_interaction', 'ALA', 36).\u001b[0m\n",
      "\u001b[7m\u001b[38;5;166m\u001b[1m Warning \u001b[0m\u001b[38;5;166m Skipping metadata from column=('hydroph_interaction', 'PRO', 107).\u001b[0m\n",
      "\u001b[7m\u001b[38;5;166m\u001b[1m Warning \u001b[0m\u001b[38;5;166m Skipping metadata from column=('hydroph_interaction', 'TYR', 142).\u001b[0m\n",
      "\u001b[7m\u001b[38;5;166m\u001b[1m Warning \u001b[0m\u001b[38;5;166m Skipping metadata from column=('halogenbond', 'ASP', 10).\u001b[0m\n",
      "\u001b[7m\u001b[38;5;166m\u001b[1m Warning \u001b[0m\u001b[38;5;166m Skipping metadata from column=('hbond', 'GLY', 32).\u001b[0m\n",
      "\u001b[7m\u001b[38;5;166m\u001b[1m Warning \u001b[0m\u001b[38;5;166m Skipping metadata from column=('hydroph_interaction', 'TRP', 148).\u001b[0m\n",
      "\u001b[7m\u001b[38;5;166m\u001b[1m Warning \u001b[0m\u001b[38;5;166m Skipping metadata from column=('hydroph_interaction', 'LEU', 108).\u001b[0m\n",
      "\u001b[7m\u001b[38;5;166m\u001b[1m Warning \u001b[0m\u001b[38;5;166m Skipping metadata from column=('hbond', 'ASP', 10).\u001b[0m\n",
      "\u001b[7m\u001b[38;5;166m\u001b[1m Warning \u001b[0m\u001b[38;5;166m Skipping metadata from column=unminimized_mol.\u001b[0m\n",
      "\u001b[7m\u001b[38;5;166m\u001b[1m Warning \u001b[0m\u001b[38;5;166m Skipping metadata from column=hit_mols.\u001b[0m\n",
      "\u001b[7m\u001b[38;5;166m\u001b[1m Warning \u001b[0m\u001b[38;5;166m Skipping metadata from column=hit_names.\u001b[0m\n",
      "\u001b[7m\u001b[38;5;166m\u001b[1m Warning \u001b[0m\u001b[38;5;166m Skipping metadata from column=PAINSes.\u001b[0m\n"
     ]
    },
    {
     "name": "stderr",
     "output_type": "stream",
     "text": [
      "50it [00:00, 131.85it/s]"
     ]
    },
    {
     "name": "stdout",
     "output_type": "stream",
     "text": [
      "\u001b[7m\u001b[32;1m SUCCESS \u001b[0m\u001b[32;1m Loaded compounds from frag_pairs/cx0316a-cx1402a_OK/fragmenstein_placed_pairs.pkl.gz!\u001b[0m\n",
      "frag_pairs/cx0316a-cx0441a_OK/fragmenstein_placed_pairs.pkl.gz\n",
      "\u001b[2mDEBUG: sdf_path=PosixPath('frag_pairs/cx0316a-cx0441a_OK/fragmenstein_placed_pairs.pkl.gz')\u001b[0m\n"
     ]
    },
    {
     "name": "stderr",
     "output_type": "stream",
     "text": [
      "\n"
     ]
    },
    {
     "name": "stdout",
     "output_type": "stream",
     "text": [
      "\u001b[7m\u001b[38;5;166m\u001b[1m Warning \u001b[0m\u001b[38;5;166m Skipping existing target with name='CHIKV_Mac'\u001b[0m\n",
      "\u001b[7m\u001b[1m\u001b[38;5;11m DISK \u001b[0m Writing \u001b[38;5;11mCreating output directory fragmenstein_placed_pairs.pkl.gz\u001b[0m\n"
     ]
    },
    {
     "name": "stderr",
     "output_type": "stream",
     "text": [
      "100it [00:01, 63.85it/s]"
     ]
    },
    {
     "name": "stdout",
     "output_type": "stream",
     "text": [
      "\u001b[7m\u001b[32;1m SUCCESS \u001b[0m\u001b[32;1m Loaded compounds from frag_pairs/cx0316a-cx0441a_OK/fragmenstein_placed_pairs.pkl.gz!\u001b[0m\n",
      "frag_pairs/cx0314a-cx1182a_OK/fragmenstein_placed_pairs.pkl.gz\n",
      "\u001b[2mDEBUG: sdf_path=PosixPath('frag_pairs/cx0314a-cx1182a_OK/fragmenstein_placed_pairs.pkl.gz')\u001b[0m\n",
      "\u001b[7m\u001b[38;5;166m\u001b[1m Warning \u001b[0m\u001b[38;5;166m Skipping existing target with name='CHIKV_Mac'\u001b[0m\n",
      "\u001b[7m\u001b[1m\u001b[38;5;11m DISK \u001b[0m Writing \u001b[38;5;11mCreating output directory fragmenstein_placed_pairs.pkl.gz\u001b[0m\n"
     ]
    },
    {
     "name": "stderr",
     "output_type": "stream",
     "text": [
      "\n",
      "100it [00:00, 142.77it/s]"
     ]
    },
    {
     "name": "stdout",
     "output_type": "stream",
     "text": [
      "\u001b[7m\u001b[32;1m SUCCESS \u001b[0m\u001b[32;1m Loaded compounds from frag_pairs/cx0314a-cx1182a_OK/fragmenstein_placed_pairs.pkl.gz!\u001b[0m\n",
      "frag_pairs/cx0316a-cx1406a_OK/fragmenstein_placed_pairs.pkl.gz\n",
      "\u001b[2mDEBUG: sdf_path=PosixPath('frag_pairs/cx0316a-cx1406a_OK/fragmenstein_placed_pairs.pkl.gz')\u001b[0m\n"
     ]
    },
    {
     "name": "stderr",
     "output_type": "stream",
     "text": [
      "\n"
     ]
    },
    {
     "name": "stdout",
     "output_type": "stream",
     "text": [
      "\u001b[7m\u001b[38;5;166m\u001b[1m Warning \u001b[0m\u001b[38;5;166m Skipping existing target with name='CHIKV_Mac'\u001b[0m\n",
      "\u001b[7m\u001b[1m\u001b[38;5;11m DISK \u001b[0m Writing \u001b[38;5;11mCreating output directory fragmenstein_placed_pairs.pkl.gz\u001b[0m\n"
     ]
    },
    {
     "name": "stderr",
     "output_type": "stream",
     "text": [
      "50it [00:01, 49.00it/s]"
     ]
    },
    {
     "name": "stdout",
     "output_type": "stream",
     "text": [
      "\u001b[7m\u001b[32;1m SUCCESS \u001b[0m\u001b[32;1m Loaded compounds from frag_pairs/cx0316a-cx1406a_OK/fragmenstein_placed_pairs.pkl.gz!\u001b[0m\n",
      "frag_pairs/cx0281a-cx1182a_OK/fragmenstein_placed_pairs.pkl.gz\n",
      "\u001b[2mDEBUG: sdf_path=PosixPath('frag_pairs/cx0281a-cx1182a_OK/fragmenstein_placed_pairs.pkl.gz')\u001b[0m\n",
      "\u001b[7m\u001b[38;5;166m\u001b[1m Warning \u001b[0m\u001b[38;5;166m Skipping existing target with name='CHIKV_Mac'\u001b[0m\n",
      "\u001b[7m\u001b[1m\u001b[38;5;11m DISK \u001b[0m Writing \u001b[38;5;11mCreating output directory fragmenstein_placed_pairs.pkl.gz\u001b[0m\n"
     ]
    },
    {
     "name": "stderr",
     "output_type": "stream",
     "text": [
      "\n",
      "0it [00:00, ?it/s]"
     ]
    },
    {
     "name": "stdout",
     "output_type": "stream",
     "text": [
      "\u001b[7m\u001b[38;5;166m\u001b[1m Warning \u001b[0m\u001b[38;5;166m Skipping metadata from column=binary_hits.\u001b[0m\n",
      "\u001b[7m\u001b[38;5;166m\u001b[1m Warning \u001b[0m\u001b[38;5;166m Skipping metadata from column=custom_map.\u001b[0m\n",
      "\u001b[7m\u001b[38;5;166m\u001b[1m Warning \u001b[0m\u001b[38;5;166m Skipping metadata from column=disregarded.\u001b[0m\n",
      "\u001b[7m\u001b[38;5;166m\u001b[1m Warning \u001b[0m\u001b[38;5;166m Skipping metadata from column=unmin_binary.\u001b[0m\n",
      "\u001b[7m\u001b[38;5;166m\u001b[1m Warning \u001b[0m\u001b[38;5;166m Skipping metadata from column=min_binary.\u001b[0m\n",
      "\u001b[7m\u001b[38;5;166m\u001b[1m Warning \u001b[0m\u001b[38;5;166m Skipping metadata from column=hit_binaries.\u001b[0m\n",
      "\u001b[7m\u001b[38;5;166m\u001b[1m Warning \u001b[0m\u001b[38;5;166m Skipping metadata from column=('hbond', 'ASP', 31).\u001b[0m\n",
      "\u001b[7m\u001b[38;5;166m\u001b[1m Warning \u001b[0m\u001b[38;5;166m Skipping metadata from column=('hydroph_interaction', 'VAL', 113).\u001b[0m\n",
      "\u001b[7m\u001b[38;5;166m\u001b[1m Warning \u001b[0m\u001b[38;5;166m Skipping metadata from column=('hydroph_interaction', 'TYR', 114).\u001b[0m\n",
      "\u001b[7m\u001b[38;5;166m\u001b[1m Warning \u001b[0m\u001b[38;5;166m Skipping metadata from column=('hbond', 'ALA', 22).\u001b[0m\n",
      "\u001b[7m\u001b[38;5;166m\u001b[1m Warning \u001b[0m\u001b[38;5;166m Skipping metadata from column=('hbond', 'VAL', 33).\u001b[0m\n",
      "\u001b[7m\u001b[38;5;166m\u001b[1m Warning \u001b[0m\u001b[38;5;166m Skipping metadata from column=('hbond', 'VAL', 113).\u001b[0m\n",
      "\u001b[7m\u001b[38;5;166m\u001b[1m Warning \u001b[0m\u001b[38;5;166m Skipping metadata from column=('hbond', 'CYS', 34).\u001b[0m\n",
      "\u001b[7m\u001b[38;5;166m\u001b[1m Warning \u001b[0m\u001b[38;5;166m Skipping metadata from column=('hydroph_interaction', 'ALA', 22).\u001b[0m\n",
      "\u001b[7m\u001b[38;5;166m\u001b[1m Warning \u001b[0m\u001b[38;5;166m Skipping metadata from column=('hbond', 'TYR', 114).\u001b[0m\n",
      "\u001b[7m\u001b[38;5;166m\u001b[1m Warning \u001b[0m\u001b[38;5;166m Skipping metadata from column=('hydroph_interaction', 'VAL', 33).\u001b[0m\n",
      "\u001b[7m\u001b[38;5;166m\u001b[1m Warning \u001b[0m\u001b[38;5;166m Skipping metadata from column=('hbond', 'ASN', 24).\u001b[0m\n",
      "\u001b[7m\u001b[38;5;166m\u001b[1m Warning \u001b[0m\u001b[38;5;166m Skipping metadata from column=('pistack', 'TYR', 114).\u001b[0m\n",
      "\u001b[7m\u001b[38;5;166m\u001b[1m Warning \u001b[0m\u001b[38;5;166m Skipping metadata from column=('hbond', 'SER', 110).\u001b[0m\n",
      "\u001b[7m\u001b[38;5;166m\u001b[1m Warning \u001b[0m\u001b[38;5;166m Skipping metadata from column=('hydroph_interaction', 'ASN', 24).\u001b[0m\n",
      "\u001b[7m\u001b[38;5;166m\u001b[1m Warning \u001b[0m\u001b[38;5;166m Skipping metadata from column=('hbond', 'GLY', 112).\u001b[0m\n",
      "\u001b[7m\u001b[38;5;166m\u001b[1m Warning \u001b[0m\u001b[38;5;166m Skipping metadata from column=('hbond', 'ALA', 23).\u001b[0m\n",
      "\u001b[7m\u001b[38;5;166m\u001b[1m Warning \u001b[0m\u001b[38;5;166m Skipping metadata from column=unminimized_mol.\u001b[0m\n",
      "\u001b[7m\u001b[38;5;166m\u001b[1m Warning \u001b[0m\u001b[38;5;166m Skipping metadata from column=hit_mols.\u001b[0m\n",
      "\u001b[7m\u001b[38;5;166m\u001b[1m Warning \u001b[0m\u001b[38;5;166m Skipping metadata from column=hit_names.\u001b[0m\n",
      "\u001b[7m\u001b[38;5;166m\u001b[1m Warning \u001b[0m\u001b[38;5;166m Skipping metadata from column=PAINSes.\u001b[0m\n"
     ]
    },
    {
     "name": "stderr",
     "output_type": "stream",
     "text": [
      "50it [00:00, 53.72it/s]"
     ]
    },
    {
     "name": "stdout",
     "output_type": "stream",
     "text": [
      "\u001b[7m\u001b[32;1m SUCCESS \u001b[0m\u001b[32;1m Loaded compounds from frag_pairs/cx0281a-cx1182a_OK/fragmenstein_placed_pairs.pkl.gz!\u001b[0m\n"
     ]
    },
    {
     "name": "stderr",
     "output_type": "stream",
     "text": [
      "\n"
     ]
    },
    {
     "name": "stdout",
     "output_type": "stream",
     "text": [
      "frag_pairs/cx0281a-cx0892a_OK/fragmenstein_placed_pairs.pkl.gz\n",
      "\u001b[2mDEBUG: sdf_path=PosixPath('frag_pairs/cx0281a-cx0892a_OK/fragmenstein_placed_pairs.pkl.gz')\u001b[0m\n",
      "\u001b[7m\u001b[38;5;166m\u001b[1m Warning \u001b[0m\u001b[38;5;166m Skipping existing target with name='CHIKV_Mac'\u001b[0m\n",
      "\u001b[7m\u001b[1m\u001b[38;5;11m DISK \u001b[0m Writing \u001b[38;5;11mCreating output directory fragmenstein_placed_pairs.pkl.gz\u001b[0m\n"
     ]
    },
    {
     "name": "stderr",
     "output_type": "stream",
     "text": [
      "0it [00:00, ?it/s]"
     ]
    },
    {
     "name": "stdout",
     "output_type": "stream",
     "text": [
      "\u001b[7m\u001b[38;5;166m\u001b[1m Warning \u001b[0m\u001b[38;5;166m Skipping metadata from column=binary_hits.\u001b[0m\n",
      "\u001b[7m\u001b[38;5;166m\u001b[1m Warning \u001b[0m\u001b[38;5;166m Skipping metadata from column=custom_map.\u001b[0m\n",
      "\u001b[7m\u001b[38;5;166m\u001b[1m Warning \u001b[0m\u001b[38;5;166m Skipping metadata from column=disregarded.\u001b[0m\n",
      "\u001b[7m\u001b[38;5;166m\u001b[1m Warning \u001b[0m\u001b[38;5;166m Skipping metadata from column=unmin_binary.\u001b[0m\n",
      "\u001b[7m\u001b[38;5;166m\u001b[1m Warning \u001b[0m\u001b[38;5;166m Skipping metadata from column=min_binary.\u001b[0m\n",
      "\u001b[7m\u001b[38;5;166m\u001b[1m Warning \u001b[0m\u001b[38;5;166m Skipping metadata from column=hit_binaries.\u001b[0m\n",
      "\u001b[7m\u001b[38;5;166m\u001b[1m Warning \u001b[0m\u001b[38;5;166m Skipping metadata from column=('hydroph_interaction', 'ALA', 22).\u001b[0m\n",
      "\u001b[7m\u001b[38;5;166m\u001b[1m Warning \u001b[0m\u001b[38;5;166m Skipping metadata from column=('hydroph_interaction', 'VAL', 33).\u001b[0m\n",
      "\u001b[7m\u001b[38;5;166m\u001b[1m Warning \u001b[0m\u001b[38;5;166m Skipping metadata from column=('pication', 'ARG', 144).\u001b[0m\n",
      "\u001b[7m\u001b[38;5;166m\u001b[1m Warning \u001b[0m\u001b[38;5;166m Skipping metadata from column=('hydroph_interaction', 'ARG', 144).\u001b[0m\n",
      "\u001b[7m\u001b[38;5;166m\u001b[1m Warning \u001b[0m\u001b[38;5;166m Skipping metadata from column=('hbond', 'ILE', 11).\u001b[0m\n",
      "\u001b[7m\u001b[38;5;166m\u001b[1m Warning \u001b[0m\u001b[38;5;166m Skipping metadata from column=('hbond', 'ARG', 144).\u001b[0m\n",
      "\u001b[7m\u001b[38;5;166m\u001b[1m Warning \u001b[0m\u001b[38;5;166m Skipping metadata from column=('hbond', 'ASP', 31).\u001b[0m\n",
      "\u001b[7m\u001b[38;5;166m\u001b[1m Warning \u001b[0m\u001b[38;5;166m Skipping metadata from column=('hbond', 'VAL', 33).\u001b[0m\n",
      "\u001b[7m\u001b[38;5;166m\u001b[1m Warning \u001b[0m\u001b[38;5;166m Skipping metadata from column=('hbond', 'CYS', 34).\u001b[0m\n",
      "\u001b[7m\u001b[38;5;166m\u001b[1m Warning \u001b[0m\u001b[38;5;166m Skipping metadata from column=('hbond', 'GLY', 112).\u001b[0m\n",
      "\u001b[7m\u001b[38;5;166m\u001b[1m Warning \u001b[0m\u001b[38;5;166m Skipping metadata from column=('saltbridge', 'ARG', 144).\u001b[0m\n",
      "\u001b[7m\u001b[38;5;166m\u001b[1m Warning \u001b[0m\u001b[38;5;166m Skipping metadata from column=('hydroph_interaction', 'TYR', 142).\u001b[0m\n",
      "\u001b[7m\u001b[38;5;166m\u001b[1m Warning \u001b[0m\u001b[38;5;166m Skipping metadata from column=('hydroph_interaction', 'ILE', 11).\u001b[0m\n",
      "\u001b[7m\u001b[38;5;166m\u001b[1m Warning \u001b[0m\u001b[38;5;166m Skipping metadata from column=('hydroph_interaction', 'PRO', 107).\u001b[0m\n",
      "\u001b[7m\u001b[38;5;166m\u001b[1m Warning \u001b[0m\u001b[38;5;166m Skipping metadata from column=('hydroph_interaction', 'ASP', 10).\u001b[0m\n",
      "\u001b[7m\u001b[38;5;166m\u001b[1m Warning \u001b[0m\u001b[38;5;166m Skipping metadata from column=('hydroph_interaction', 'ALA', 12).\u001b[0m\n",
      "\u001b[7m\u001b[38;5;166m\u001b[1m Warning \u001b[0m\u001b[38;5;166m Skipping metadata from column=('hbond', 'LYS', 13).\u001b[0m\n",
      "\u001b[7m\u001b[38;5;166m\u001b[1m Warning \u001b[0m\u001b[38;5;166m Skipping metadata from column=('hydroph_interaction', 'LYS', 13).\u001b[0m\n",
      "\u001b[7m\u001b[38;5;166m\u001b[1m Warning \u001b[0m\u001b[38;5;166m Skipping metadata from column=('hbond', 'ASP', 10).\u001b[0m\n",
      "\u001b[7m\u001b[38;5;166m\u001b[1m Warning \u001b[0m\u001b[38;5;166m Skipping metadata from column=('hbond', 'ALA', 22).\u001b[0m\n",
      "\u001b[7m\u001b[38;5;166m\u001b[1m Warning \u001b[0m\u001b[38;5;166m Skipping metadata from column=('hydroph_interaction', 'VAL', 113).\u001b[0m\n",
      "\u001b[7m\u001b[38;5;166m\u001b[1m Warning \u001b[0m\u001b[38;5;166m Skipping metadata from column=('hbond', 'VAL', 113).\u001b[0m\n",
      "\u001b[7m\u001b[38;5;166m\u001b[1m Warning \u001b[0m\u001b[38;5;166m Skipping metadata from column=('hydroph_interaction', 'ALA', 36).\u001b[0m\n",
      "\u001b[7m\u001b[38;5;166m\u001b[1m Warning \u001b[0m\u001b[38;5;166m Skipping metadata from column=('hbond', 'MET', 9).\u001b[0m\n",
      "\u001b[7m\u001b[38;5;166m\u001b[1m Warning \u001b[0m\u001b[38;5;166m Skipping metadata from column=unminimized_mol.\u001b[0m\n",
      "\u001b[7m\u001b[38;5;166m\u001b[1m Warning \u001b[0m\u001b[38;5;166m Skipping metadata from column=hit_mols.\u001b[0m\n",
      "\u001b[7m\u001b[38;5;166m\u001b[1m Warning \u001b[0m\u001b[38;5;166m Skipping metadata from column=hit_names.\u001b[0m\n",
      "\u001b[7m\u001b[38;5;166m\u001b[1m Warning \u001b[0m\u001b[38;5;166m Skipping metadata from column=PAINSes.\u001b[0m\n"
     ]
    },
    {
     "name": "stderr",
     "output_type": "stream",
     "text": [
      "100it [00:01, 94.33it/s]"
     ]
    },
    {
     "name": "stdout",
     "output_type": "stream",
     "text": [
      "\u001b[7m\u001b[32;1m SUCCESS \u001b[0m\u001b[32;1m Loaded compounds from frag_pairs/cx0281a-cx0892a_OK/fragmenstein_placed_pairs.pkl.gz!\u001b[0m\n",
      "frag_pairs/cx0316a-cx0394a_OK/fragmenstein_placed_pairs.pkl.gz\n",
      "\u001b[2mDEBUG: sdf_path=PosixPath('frag_pairs/cx0316a-cx0394a_OK/fragmenstein_placed_pairs.pkl.gz')\u001b[0m\n",
      "\u001b[7m\u001b[38;5;166m\u001b[1m Warning \u001b[0m\u001b[38;5;166m Skipping existing target with name='CHIKV_Mac'\u001b[0m\n",
      "\u001b[7m\u001b[1m\u001b[38;5;11m DISK \u001b[0m Writing \u001b[38;5;11mCreating output directory fragmenstein_placed_pairs.pkl.gz\u001b[0m\n"
     ]
    },
    {
     "name": "stderr",
     "output_type": "stream",
     "text": [
      "\n",
      "0it [00:00, ?it/s]"
     ]
    },
    {
     "name": "stdout",
     "output_type": "stream",
     "text": [
      "\u001b[7m\u001b[38;5;166m\u001b[1m Warning \u001b[0m\u001b[38;5;166m Skipping metadata from column=binary_hits.\u001b[0m\n",
      "\u001b[7m\u001b[38;5;166m\u001b[1m Warning \u001b[0m\u001b[38;5;166m Skipping metadata from column=custom_map.\u001b[0m\n",
      "\u001b[7m\u001b[38;5;166m\u001b[1m Warning \u001b[0m\u001b[38;5;166m Skipping metadata from column=disregarded.\u001b[0m\n",
      "\u001b[7m\u001b[38;5;166m\u001b[1m Warning \u001b[0m\u001b[38;5;166m Skipping metadata from column=unmin_binary.\u001b[0m\n",
      "\u001b[7m\u001b[38;5;166m\u001b[1m Warning \u001b[0m\u001b[38;5;166m Skipping metadata from column=min_binary.\u001b[0m\n",
      "\u001b[7m\u001b[38;5;166m\u001b[1m Warning \u001b[0m\u001b[38;5;166m Skipping metadata from column=hit_binaries.\u001b[0m\n",
      "\u001b[7m\u001b[38;5;166m\u001b[1m Warning \u001b[0m\u001b[38;5;166m Skipping metadata from column=('hbond', 'ASP', 10).\u001b[0m\n",
      "\u001b[7m\u001b[38;5;166m\u001b[1m Warning \u001b[0m\u001b[38;5;166m Skipping metadata from column=('hbond', 'ILE', 11).\u001b[0m\n",
      "\u001b[7m\u001b[38;5;166m\u001b[1m Warning \u001b[0m\u001b[38;5;166m Skipping metadata from column=('hydroph_interaction', 'PRO', 107).\u001b[0m\n",
      "\u001b[7m\u001b[38;5;166m\u001b[1m Warning \u001b[0m\u001b[38;5;166m Skipping metadata from column=('hbond', 'ARG', 144).\u001b[0m\n",
      "\u001b[7m\u001b[38;5;166m\u001b[1m Warning \u001b[0m\u001b[38;5;166m Skipping metadata from column=('pication', 'ARG', 144).\u001b[0m\n",
      "\u001b[7m\u001b[38;5;166m\u001b[1m Warning \u001b[0m\u001b[38;5;166m Skipping metadata from column=('hydroph_interaction', 'ARG', 144).\u001b[0m\n",
      "\u001b[7m\u001b[38;5;166m\u001b[1m Warning \u001b[0m\u001b[38;5;166m Skipping metadata from column=('hbond', 'ASP', 145).\u001b[0m\n",
      "\u001b[7m\u001b[38;5;166m\u001b[1m Warning \u001b[0m\u001b[38;5;166m Skipping metadata from column=('hydroph_interaction', 'ASP', 145).\u001b[0m\n",
      "\u001b[7m\u001b[38;5;166m\u001b[1m Warning \u001b[0m\u001b[38;5;166m Skipping metadata from column=('pistack', 'TRP', 148).\u001b[0m\n",
      "\u001b[7m\u001b[38;5;166m\u001b[1m Warning \u001b[0m\u001b[38;5;166m Skipping metadata from column=('halogenbond', 'ASP', 10).\u001b[0m\n",
      "\u001b[7m\u001b[38;5;166m\u001b[1m Warning \u001b[0m\u001b[38;5;166m Skipping metadata from column=('hydroph_interaction', 'VAL', 33).\u001b[0m\n",
      "\u001b[7m\u001b[38;5;166m\u001b[1m Warning \u001b[0m\u001b[38;5;166m Skipping metadata from column=('hbond', 'LEU', 108).\u001b[0m\n",
      "\u001b[7m\u001b[38;5;166m\u001b[1m Warning \u001b[0m\u001b[38;5;166m Skipping metadata from column=('halogenbond', 'MET', 9).\u001b[0m\n",
      "\u001b[7m\u001b[38;5;166m\u001b[1m Warning \u001b[0m\u001b[38;5;166m Skipping metadata from column=('hbond', 'THR', 111).\u001b[0m\n",
      "\u001b[7m\u001b[38;5;166m\u001b[1m Warning \u001b[0m\u001b[38;5;166m Skipping metadata from column=('hydroph_interaction', 'TRP', 148).\u001b[0m\n",
      "\u001b[7m\u001b[38;5;166m\u001b[1m Warning \u001b[0m\u001b[38;5;166m Skipping metadata from column=('hydroph_interaction', 'ILE', 11).\u001b[0m\n",
      "\u001b[7m\u001b[38;5;166m\u001b[1m Warning \u001b[0m\u001b[38;5;166m Skipping metadata from column=('hydroph_interaction', 'TYR', 142).\u001b[0m\n",
      "\u001b[7m\u001b[38;5;166m\u001b[1m Warning \u001b[0m\u001b[38;5;166m Skipping metadata from column=('hydroph_interaction', 'LEU', 108).\u001b[0m\n",
      "\u001b[7m\u001b[38;5;166m\u001b[1m Warning \u001b[0m\u001b[38;5;166m Skipping metadata from column=('pication', 'TRP', 148).\u001b[0m\n",
      "\u001b[7m\u001b[38;5;166m\u001b[1m Warning \u001b[0m\u001b[38;5;166m Skipping metadata from column=('hbond', 'VAL', 33).\u001b[0m\n",
      "\u001b[7m\u001b[38;5;166m\u001b[1m Warning \u001b[0m\u001b[38;5;166m Skipping metadata from column=('hbond', 'TYR', 142).\u001b[0m\n",
      "\u001b[7m\u001b[38;5;166m\u001b[1m Warning \u001b[0m\u001b[38;5;166m Skipping metadata from column=('hbond', 'CYS', 143).\u001b[0m\n",
      "\u001b[7m\u001b[38;5;166m\u001b[1m Warning \u001b[0m\u001b[38;5;166m Skipping metadata from column=unminimized_mol.\u001b[0m\n",
      "\u001b[7m\u001b[38;5;166m\u001b[1m Warning \u001b[0m\u001b[38;5;166m Skipping metadata from column=hit_mols.\u001b[0m\n",
      "\u001b[7m\u001b[38;5;166m\u001b[1m Warning \u001b[0m\u001b[38;5;166m Skipping metadata from column=hit_names.\u001b[0m\n",
      "\u001b[7m\u001b[38;5;166m\u001b[1m Warning \u001b[0m\u001b[38;5;166m Skipping metadata from column=PAINSes.\u001b[0m\n"
     ]
    },
    {
     "name": "stderr",
     "output_type": "stream",
     "text": [
      "31it [00:00, 111.73it/s]"
     ]
    },
    {
     "name": "stdout",
     "output_type": "stream",
     "text": [
      "\u001b[7m\u001b[32;1m SUCCESS \u001b[0m\u001b[32;1m Loaded compounds from frag_pairs/cx0316a-cx0394a_OK/fragmenstein_placed_pairs.pkl.gz!\u001b[0m\n"
     ]
    },
    {
     "name": "stderr",
     "output_type": "stream",
     "text": [
      "\n"
     ]
    }
   ],
   "source": [
    "cx0300a = animal.poses['cx0300a']\n",
    "for sdf in frag_pair_dir.glob('cx?????-cx?????_OK/fragmenstein_mergers_pairs.pkl.gz'):\n",
    "    print(sdf)\n",
    "    animal.add_compounds('CHIKV_Mac', \n",
    "                         sdf, \n",
    "                         reference=cx0300a, \n",
    "                         tags=['fragmenstein', 'raw'], \n",
    "                         mol_col='minimized_mol', \n",
    "                         name_col='name', \n",
    "                         inspiration_col='regarded', \n",
    "                         skip_not_equal_dict={'outcome':'acceptable'},\n",
    "                         check_pose_RMSD=True,\n",
    "                        )\n",
    "    # break\n",
    "\n",
    "for sdf in frag_pair_dir.glob('cx?????-cx?????_OK/fragmenstein_placed_pairs.pkl.gz'):\n",
    "    print(sdf)\n",
    "    animal.add_compounds('CHIKV_Mac', sdf, reference=cx0300a, tags=['fragmenstein','Enamine'], mol_col='minimized_mol', name_col='name', inspiration_col='regarded', skip_not_equal_dict={'outcome':'acceptable'})\n",
    "    # break"
   ]
  },
  {
   "cell_type": "code",
   "execution_count": 8,
   "id": "d0113d83-a47d-49f2-8a6d-b1d3fd97d182",
   "metadata": {},
   "outputs": [],
   "source": [
    "frag_pair_REAL = animal.poses.get_by_tag('Enamine').get_by_tag('fragmenstein')"
   ]
  },
  {
   "cell_type": "code",
   "execution_count": 9,
   "id": "c8244874-b089-4a35-816e-8e59c43d38bf",
   "metadata": {},
   "outputs": [],
   "source": [
    "def filter(pose):\n",
    "    return not 'SeeSAR' in pose.compound.tags"
   ]
  },
  {
   "cell_type": "code",
   "execution_count": 10,
   "id": "a646fe53-d681-487b-a26d-c4cf36ac567d",
   "metadata": {},
   "outputs": [],
   "source": [
    "frag_pair_pures = animal.poses.get_by_tag('raw').filter(filter)"
   ]
  },
  {
   "cell_type": "code",
   "execution_count": 11,
   "id": "574306d6-75bf-496f-9397-f2c8ba3d26cc",
   "metadata": {},
   "outputs": [
    {
     "data": {
      "application/vnd.jupyter.widget-view+json": {
       "model_id": "d9e3ec37cecb45d193662359db02f115",
       "version_major": 2,
       "version_minor": 0
      },
      "text/plain": [
       "VBox(children=(BoundedIntText(value=0, description='Pose (/11):', max=10), GridBox(children=(Checkbox(value=Tr…"
      ]
     },
     "metadata": {},
     "output_type": "display_data"
    },
    {
     "data": {
      "application/vnd.jupyter.widget-view+json": {
       "model_id": "95b9de6568054fc7b38f9a80477df5eb",
       "version_major": 2,
       "version_minor": 0
      },
      "text/plain": [
       "Output()"
      ]
     },
     "metadata": {},
     "output_type": "display_data"
    }
   ],
   "source": [
    "frag_pair_pures.interactive()"
   ]
  },
  {
   "cell_type": "code",
   "execution_count": 12,
   "id": "e474e4dd-d41b-43bf-ac76-3417e296c4ec",
   "metadata": {},
   "outputs": [
    {
     "name": "stdout",
     "output_type": "stream",
     "text": [
      "\u001b[7m\u001b[1m\u001b[38;5;11m DISK \u001b[0m Writing \u001b[38;5;11mfrag_pair_pures.sdf\u001b[0m\n"
     ]
    },
    {
     "name": "stderr",
     "output_type": "stream",
     "text": [
      "[10:00:04] Skipping unrecognized collection type at line 73: MDLV30/STEABS ATOMS=(0)\n",
      "[10:00:04] Skipping unrecognized collection type at line 88: MDLV30/STEABS ATOMS=(0)\n",
      "[10:00:04] Skipping unrecognized collection type at line 88: MDLV30/STEABS ATOMS=(0)\n",
      "[10:00:04] Skipping unrecognized collection type at line 94: MDLV30/STEABS ATOMS=(0)\n",
      "[10:00:04] Skipping unrecognized collection type at line 88: MDLV30/STEABS ATOMS=(0)\n",
      "[10:00:04] Molecule does not have explicit Hs. Consider calling AddHs()\n"
     ]
    }
   ],
   "source": [
    "df = frag_pair_pures.to_fragalysis('frag_pair_pures.sdf', method='Fstein_frag_pair_pure', ref_url='https://fragmenstein.readthedocs.io/en/latest/', submitter_name='Max Winokan', submitter_email='max.winokan@diamond.ac.uk', submitter_institution='DLS', metadata=False)"
   ]
  },
  {
   "cell_type": "code",
   "execution_count": 13,
   "id": "1218cc27-2afb-48a0-8a37-6e14081dc4c4",
   "metadata": {
    "scrolled": true
   },
   "outputs": [
    {
     "name": "stderr",
     "output_type": "stream",
     "text": [
      "[10:00:07] Skipping unrecognized collection type at line 72: MDLV30/STEABS ATOMS=(0)\n",
      "[10:00:07] Skipping unrecognized collection type at line 70: MDLV30/STEABS ATOMS=(0)\n",
      "[10:00:07] Skipping unrecognized collection type at line 79: MDLV30/STEABS ATOMS=(0)\n",
      "[10:00:07] Skipping unrecognized collection type at line 68: MDLV30/STEABS ATOMS=(0)\n",
      "[10:00:07] Skipping unrecognized collection type at line 68: MDLV30/STEABS ATOMS=(0)\n",
      "[10:00:07] Skipping unrecognized collection type at line 64: MDLV30/STEABS ATOMS=(0)\n",
      "[10:00:07] Skipping unrecognized collection type at line 72: MDLV30/STEABS ATOMS=(0)\n",
      "[10:00:07] Skipping unrecognized collection type at line 70: MDLV30/STEABS ATOMS=(0)\n",
      "[10:00:07] Skipping unrecognized collection type at line 70: MDLV30/STEABS ATOMS=(0)\n",
      "[10:00:07] Skipping unrecognized collection type at line 64: MDLV30/STEABS ATOMS=(0)\n",
      "[10:00:07] Skipping unrecognized collection type at line 79: MDLV30/STEABS ATOMS=(0)\n",
      "[10:00:07] Skipping unrecognized collection type at line 81: MDLV30/STEABS ATOMS=(0)\n",
      "[10:00:07] Skipping unrecognized collection type at line 73: MDLV30/STEABS ATOMS=(0)\n",
      "[10:00:07] Skipping unrecognized collection type at line 79: MDLV30/STEABS ATOMS=(0)\n",
      "[10:00:07] Skipping unrecognized collection type at line 75: MDLV30/STEABS ATOMS=(0)\n",
      "[10:00:07] Skipping unrecognized collection type at line 77: MDLV30/STEABS ATOMS=(0)\n",
      "[10:00:07] Skipping unrecognized collection type at line 68: MDLV30/STEABS ATOMS=(0)\n",
      "[10:00:07] Skipping unrecognized collection type at line 73: MDLV30/STEABS ATOMS=(0)\n",
      "[10:00:07] Skipping unrecognized collection type at line 74: MDLV30/STEABS ATOMS=(0)\n",
      "[10:00:07] Skipping unrecognized collection type at line 70: MDLV30/STEABS ATOMS=(0)\n",
      "[10:00:07] Skipping unrecognized collection type at line 72: MDLV30/STEABS ATOMS=(0)\n",
      "[10:00:07] Skipping unrecognized collection type at line 68: MDLV30/STEABS ATOMS=(0)\n",
      "[10:00:07] Skipping unrecognized collection type at line 70: MDLV30/STEABS ATOMS=(0)\n",
      "[10:00:07] Skipping unrecognized collection type at line 74: MDLV30/STEABS ATOMS=(0)\n",
      "[10:00:07] Skipping unrecognized collection type at line 74: MDLV30/STEABS ATOMS=(0)\n",
      "[10:00:07] Skipping unrecognized collection type at line 79: MDLV30/STEABS ATOMS=(0)\n",
      "[10:00:07] Skipping unrecognized collection type at line 79: MDLV30/STEABS ATOMS=(0)\n",
      "[10:00:07] Skipping unrecognized collection type at line 70: MDLV30/STEABS ATOMS=(0)\n",
      "[10:00:07] Skipping unrecognized collection type at line 76: MDLV30/STEABS ATOMS=(0)\n",
      "[10:00:07] Skipping unrecognized collection type at line 72: MDLV30/STEABS ATOMS=(0)\n",
      "[10:00:07] Skipping unrecognized collection type at line 78: MDLV30/STEABS ATOMS=(0)\n",
      "[10:00:07] Skipping unrecognized collection type at line 76: MDLV30/STEABS ATOMS=(0)\n",
      "[10:00:07] Skipping unrecognized collection type at line 88: MDLV30/STEABS ATOMS=(0)\n",
      "[10:00:07] Skipping unrecognized collection type at line 86: MDLV30/STEABS ATOMS=(0)\n",
      "[10:00:07] Skipping unrecognized collection type at line 84: MDLV30/STEABS ATOMS=(0)\n",
      "[10:00:07] Skipping unrecognized collection type at line 86: MDLV30/STEABS ATOMS=(0)\n",
      "[10:00:07] Skipping unrecognized collection type at line 86: MDLV30/STEABS ATOMS=(0)\n",
      "[10:00:07] Skipping unrecognized collection type at line 86: MDLV30/STEABS ATOMS=(0)\n",
      "[10:00:07] Skipping unrecognized collection type at line 86: MDLV30/STEABS ATOMS=(0)\n",
      "[10:00:07] Skipping unrecognized collection type at line 86: MDLV30/STEABS ATOMS=(0)\n",
      "[10:00:07] Skipping unrecognized collection type at line 90: MDLV30/STEABS ATOMS=(0)\n",
      "[10:00:07] Skipping unrecognized collection type at line 86: MDLV30/STEABS ATOMS=(0)\n",
      "[10:00:07] Skipping unrecognized collection type at line 92: MDLV30/STEABS ATOMS=(0)\n",
      "[10:00:07] Skipping unrecognized collection type at line 84: MDLV30/STEABS ATOMS=(0)\n",
      "[10:00:07] Skipping unrecognized collection type at line 84: MDLV30/STEABS ATOMS=(0)\n",
      "[10:00:07] Skipping unrecognized collection type at line 82: MDLV30/STEABS ATOMS=(0)\n",
      "[10:00:07] Skipping unrecognized collection type at line 82: MDLV30/STEABS ATOMS=(0)\n",
      "[10:00:07] Skipping unrecognized collection type at line 84: MDLV30/STEABS ATOMS=(0)\n",
      "[10:00:07] Skipping unrecognized collection type at line 84: MDLV30/STEABS ATOMS=(0)\n",
      "[10:00:07] Skipping unrecognized collection type at line 84: MDLV30/STEABS ATOMS=(0)\n",
      "[10:00:07] Skipping unrecognized collection type at line 84: MDLV30/STEABS ATOMS=(0)\n",
      "[10:00:07] Skipping unrecognized collection type at line 84: MDLV30/STEABS ATOMS=(0)\n",
      "[10:00:07] Skipping unrecognized collection type at line 84: MDLV30/STEABS ATOMS=(0)\n",
      "[10:00:07] Skipping unrecognized collection type at line 98: MDLV30/STEABS ATOMS=(0)\n",
      "[10:00:07] Skipping unrecognized collection type at line 88: MDLV30/STEABS ATOMS=(0)\n",
      "[10:00:07] Skipping unrecognized collection type at line 84: MDLV30/STEABS ATOMS=(0)\n",
      "[10:00:07] Skipping unrecognized collection type at line 84: MDLV30/STEABS ATOMS=(0)\n",
      "[10:00:07] Skipping unrecognized collection type at line 90: MDLV30/STEABS ATOMS=(0)\n",
      "[10:00:07] Skipping unrecognized collection type at line 90: MDLV30/STEABS ATOMS=(0)\n",
      "[10:00:07] Skipping unrecognized collection type at line 98: MDLV30/STEABS ATOMS=(0)\n",
      "[10:00:07] Skipping unrecognized collection type at line 96: MDLV30/STEABS ATOMS=(0)\n",
      "[10:00:07] Skipping unrecognized collection type at line 96: MDLV30/STEABS ATOMS=(0)\n",
      "[10:00:07] Skipping unrecognized collection type at line 78: MDLV30/STEABS ATOMS=(0)\n",
      "[10:00:07] Skipping unrecognized collection type at line 78: MDLV30/STEABS ATOMS=(0)\n",
      "[10:00:07] Skipping unrecognized collection type at line 76: MDLV30/STEABS ATOMS=(0)\n",
      "[10:00:07] Skipping unrecognized collection type at line 76: MDLV30/STEABS ATOMS=(0)\n",
      "[10:00:07] Skipping unrecognized collection type at line 76: MDLV30/STEABS ATOMS=(0)\n",
      "[10:00:07] Skipping unrecognized collection type at line 76: MDLV30/STEABS ATOMS=(0)\n",
      "[10:00:07] Skipping unrecognized collection type at line 82: MDLV30/STEABS ATOMS=(0)\n",
      "[10:00:07] Skipping unrecognized collection type at line 76: MDLV30/STEABS ATOMS=(0)\n",
      "[10:00:07] Skipping unrecognized collection type at line 72: MDLV30/STEABS ATOMS=(0)\n",
      "[10:00:07] Skipping unrecognized collection type at line 58: MDLV30/STEABS ATOMS=(0)\n",
      "[10:00:07] Skipping unrecognized collection type at line 60: MDLV30/STEABS ATOMS=(0)\n",
      "[10:00:07] Skipping unrecognized collection type at line 60: MDLV30/STEABS ATOMS=(0)\n",
      "[10:00:07] Skipping unrecognized collection type at line 62: MDLV30/STEABS ATOMS=(0)\n",
      "[10:00:07] Skipping unrecognized collection type at line 54: MDLV30/STEABS ATOMS=(0)\n",
      "[10:00:07] Skipping unrecognized collection type at line 54: MDLV30/STEABS ATOMS=(0)\n",
      "[10:00:07] Skipping unrecognized collection type at line 54: MDLV30/STEABS ATOMS=(0)\n",
      "[10:00:07] Skipping unrecognized collection type at line 57: MDLV30/STEABS ATOMS=(0)\n",
      "[10:00:07] Skipping unrecognized collection type at line 61: MDLV30/STEABS ATOMS=(0)\n",
      "[10:00:07] Skipping unrecognized collection type at line 59: MDLV30/STEABS ATOMS=(0)\n",
      "[10:00:07] Skipping unrecognized collection type at line 55: MDLV30/STEABS ATOMS=(0)\n",
      "[10:00:07] Skipping unrecognized collection type at line 55: MDLV30/STEABS ATOMS=(0)\n",
      "[10:00:07] Skipping unrecognized collection type at line 61: MDLV30/STEABS ATOMS=(0)\n",
      "[10:00:07] Skipping unrecognized collection type at line 59: MDLV30/STEABS ATOMS=(0)\n",
      "[10:00:07] Skipping unrecognized collection type at line 55: MDLV30/STEABS ATOMS=(0)\n",
      "[10:00:07] Skipping unrecognized collection type at line 55: MDLV30/STEABS ATOMS=(0)\n",
      "[10:00:08] Skipping unrecognized collection type at line 55: MDLV30/STEABS ATOMS=(0)\n",
      "[10:00:08] Skipping unrecognized collection type at line 58: MDLV30/STEABS ATOMS=(0)\n",
      "[10:00:08] Skipping unrecognized collection type at line 58: MDLV30/STEABS ATOMS=(0)\n",
      "[10:00:08] Skipping unrecognized collection type at line 58: MDLV30/STEABS ATOMS=(0)\n",
      "[10:00:08] Skipping unrecognized collection type at line 62: MDLV30/STEABS ATOMS=(0)\n",
      "[10:00:08] Skipping unrecognized collection type at line 62: MDLV30/STEABS ATOMS=(0)\n",
      "[10:00:08] Skipping unrecognized collection type at line 94: MDLV30/STEABS ATOMS=(0)\n",
      "[10:00:08] Skipping unrecognized collection type at line 94: MDLV30/STEABS ATOMS=(0)\n",
      "[10:00:08] Skipping unrecognized collection type at line 106: MDLV30/STEABS ATOMS=(0)\n",
      "[10:00:08] Skipping unrecognized collection type at line 96: MDLV30/STEABS ATOMS=(0)\n",
      "[10:00:08] Skipping unrecognized collection type at line 96: MDLV30/STEABS ATOMS=(0)\n",
      "[10:00:08] Skipping unrecognized collection type at line 98: MDLV30/STEABS ATOMS=(0)\n",
      "[10:00:08] Skipping unrecognized collection type at line 92: MDLV30/STEABS ATOMS=(0)\n",
      "[10:00:08] Skipping unrecognized collection type at line 92: MDLV30/STEABS ATOMS=(0)\n",
      "[10:00:08] Skipping unrecognized collection type at line 92: MDLV30/STEABS ATOMS=(0)\n",
      "[10:00:08] Skipping unrecognized collection type at line 110: MDLV30/STEABS ATOMS=(0)\n",
      "[10:00:08] Skipping unrecognized collection type at line 92: MDLV30/STEABS ATOMS=(0)\n",
      "[10:00:08] Skipping unrecognized collection type at line 94: MDLV30/STEABS ATOMS=(0)\n",
      "[10:00:08] Skipping unrecognized collection type at line 92: MDLV30/STEABS ATOMS=(0)\n",
      "[10:00:08] Skipping unrecognized collection type at line 96: MDLV30/STEABS ATOMS=(0)\n",
      "[10:00:08] Skipping unrecognized collection type at line 98: MDLV30/STEABS ATOMS=(0)\n",
      "[10:00:08] Skipping unrecognized collection type at line 94: MDLV30/STEABS ATOMS=(0)\n",
      "[10:00:08] Skipping unrecognized collection type at line 92: MDLV30/STEABS ATOMS=(0)\n",
      "[10:00:08] Skipping unrecognized collection type at line 94: MDLV30/STEABS ATOMS=(0)\n",
      "[10:00:08] Skipping unrecognized collection type at line 92: MDLV30/STEABS ATOMS=(0)\n",
      "[10:00:08] Skipping unrecognized collection type at line 94: MDLV30/STEABS ATOMS=(0)\n",
      "[10:00:08] Skipping unrecognized collection type at line 92: MDLV30/STEABS ATOMS=(0)\n",
      "[10:00:08] Skipping unrecognized collection type at line 92: MDLV30/STEABS ATOMS=(0)\n",
      "[10:00:08] Skipping unrecognized collection type at line 86: MDLV30/STEABS ATOMS=(0)\n",
      "[10:00:08] Skipping unrecognized collection type at line 86: MDLV30/STEABS ATOMS=(0)\n",
      "[10:00:08] Skipping unrecognized collection type at line 86: MDLV30/STEABS ATOMS=(0)\n",
      "[10:00:08] Skipping unrecognized collection type at line 87: MDLV30/STEABS ATOMS=(0)\n",
      "[10:00:08] Skipping unrecognized collection type at line 87: MDLV30/STEABS ATOMS=(0)\n",
      "[10:00:08] Skipping unrecognized collection type at line 85: MDLV30/STEABS ATOMS=(0)\n",
      "[10:00:08] Skipping unrecognized collection type at line 91: MDLV30/STEABS ATOMS=(0)\n",
      "[10:00:08] Skipping unrecognized collection type at line 85: MDLV30/STEABS ATOMS=(0)\n",
      "[10:00:08] Skipping unrecognized collection type at line 85: MDLV30/STEABS ATOMS=(0)\n",
      "[10:00:08] Skipping unrecognized collection type at line 91: MDLV30/STEABS ATOMS=(0)\n",
      "[10:00:08] Skipping unrecognized collection type at line 95: MDLV30/STEABS ATOMS=(0)\n",
      "[10:00:08] Skipping unrecognized collection type at line 95: MDLV30/STEABS ATOMS=(0)\n",
      "[10:00:08] Skipping unrecognized collection type at line 93: MDLV30/STEABS ATOMS=(0)\n",
      "[10:00:08] Skipping unrecognized collection type at line 90: MDLV30/STEABS ATOMS=(0)\n",
      "[10:00:08] Skipping unrecognized collection type at line 92: MDLV30/STEABS ATOMS=(0)\n",
      "[10:00:08] Skipping unrecognized collection type at line 90: MDLV30/STEABS ATOMS=(0)\n",
      "[10:00:08] Skipping unrecognized collection type at line 98: MDLV30/STEABS ATOMS=(0)\n",
      "[10:00:08] Skipping unrecognized collection type at line 98: MDLV30/STEABS ATOMS=(0)\n",
      "[10:00:08] Skipping unrecognized collection type at line 92: MDLV30/STEABS ATOMS=(0)\n",
      "[10:00:08] Skipping unrecognized collection type at line 92: MDLV30/STEABS ATOMS=(0)\n",
      "[10:00:08] Skipping unrecognized collection type at line 104: MDLV30/STEABS ATOMS=(0)\n",
      "[10:00:08] Skipping unrecognized collection type at line 104: MDLV30/STEABS ATOMS=(0)\n",
      "[10:00:08] Skipping unrecognized collection type at line 100: MDLV30/STEABS ATOMS=(0)\n",
      "[10:00:08] Skipping unrecognized collection type at line 98: MDLV30/STEABS ATOMS=(0)\n",
      "[10:00:08] Skipping unrecognized collection type at line 98: MDLV30/STEABS ATOMS=(0)\n",
      "[10:00:08] Skipping unrecognized collection type at line 98: MDLV30/STEABS ATOMS=(0)\n",
      "[10:00:08] Skipping unrecognized collection type at line 98: MDLV30/STEABS ATOMS=(0)\n",
      "[10:00:08] Skipping unrecognized collection type at line 96: MDLV30/STEABS ATOMS=(0)\n",
      "[10:00:08] Skipping unrecognized collection type at line 98: MDLV30/STEABS ATOMS=(0)\n",
      "[10:00:08] Skipping unrecognized collection type at line 96: MDLV30/STEABS ATOMS=(0)\n",
      "[10:00:08] Skipping unrecognized collection type at line 94: MDLV30/STEABS ATOMS=(0)\n",
      "[10:00:08] Skipping unrecognized collection type at line 90: MDLV30/STEABS ATOMS=(0)\n",
      "[10:00:08] Skipping unrecognized collection type at line 92: MDLV30/STEABS ATOMS=(0)\n",
      "[10:00:08] Skipping unrecognized collection type at line 96: MDLV30/STEABS ATOMS=(0)\n",
      "[10:00:08] Skipping unrecognized collection type at line 104: MDLV30/STEABS ATOMS=(0)\n",
      "[10:00:08] Skipping unrecognized collection type at line 104: MDLV30/STEABS ATOMS=(0)\n",
      "[10:00:08] Skipping unrecognized collection type at line 100: MDLV30/STEABS ATOMS=(0)\n",
      "[10:00:08] Skipping unrecognized collection type at line 80: MDLV30/STEABS ATOMS=(0)\n",
      "[10:00:08] Skipping unrecognized collection type at line 82: MDLV30/STEABS ATOMS=(0)\n",
      "[10:00:08] Skipping unrecognized collection type at line 100: MDLV30/STEABS ATOMS=(0)\n",
      "[10:00:08] Skipping unrecognized collection type at line 94: MDLV30/STEABS ATOMS=(0)\n",
      "[10:00:08] Skipping unrecognized collection type at line 88: MDLV30/STEABS ATOMS=(0)\n",
      "[10:00:08] Skipping unrecognized collection type at line 94: MDLV30/STEABS ATOMS=(0)\n",
      "[10:00:08] Skipping unrecognized collection type at line 92: MDLV30/STEABS ATOMS=(0)\n",
      "[10:00:08] Skipping unrecognized collection type at line 92: MDLV30/STEABS ATOMS=(0)\n",
      "[10:00:08] Skipping unrecognized collection type at line 90: MDLV30/STEABS ATOMS=(0)\n",
      "[10:00:08] Skipping unrecognized collection type at line 104: MDLV30/STEABS ATOMS=(0)\n",
      "[10:00:08] Skipping unrecognized collection type at line 104: MDLV30/STEABS ATOMS=(0)\n",
      "[10:00:08] Skipping unrecognized collection type at line 102: MDLV30/STEABS ATOMS=(0)\n",
      "[10:00:08] Skipping unrecognized collection type at line 104: MDLV30/STEABS ATOMS=(0)\n",
      "[10:00:08] Skipping unrecognized collection type at line 102: MDLV30/STEABS ATOMS=(0)\n",
      "[10:00:08] Skipping unrecognized collection type at line 102: MDLV30/STEABS ATOMS=(0)\n",
      "[10:00:08] Skipping unrecognized collection type at line 102: MDLV30/STEABS ATOMS=(0)\n",
      "[10:00:08] Skipping unrecognized collection type at line 68: MDLV30/STEABS ATOMS=(0)\n",
      "[10:00:08] Skipping unrecognized collection type at line 66: MDLV30/STEABS ATOMS=(0)\n",
      "[10:00:08] Skipping unrecognized collection type at line 72: MDLV30/STEABS ATOMS=(0)\n",
      "[10:00:08] Skipping unrecognized collection type at line 68: MDLV30/STEABS ATOMS=(0)\n",
      "[10:00:08] Skipping unrecognized collection type at line 74: MDLV30/STEABS ATOMS=(0)\n",
      "[10:00:08] Skipping unrecognized collection type at line 72: MDLV30/STEABS ATOMS=(0)\n",
      "[10:00:08] Skipping unrecognized collection type at line 76: MDLV30/STEABS ATOMS=(0)\n",
      "[10:00:08] Skipping unrecognized collection type at line 70: MDLV30/STEABS ATOMS=(0)\n",
      "[10:00:08] Skipping unrecognized collection type at line 68: MDLV30/STEABS ATOMS=(0)\n",
      "[10:00:08] Skipping unrecognized collection type at line 72: MDLV30/STEABS ATOMS=(0)\n",
      "[10:00:08] Skipping unrecognized collection type at line 66: MDLV30/STEABS ATOMS=(0)\n",
      "[10:00:08] Skipping unrecognized collection type at line 64: MDLV30/STEABS ATOMS=(0)\n",
      "[10:00:08] Skipping unrecognized collection type at line 76: MDLV30/STEABS ATOMS=(0)\n",
      "[10:00:08] Skipping unrecognized collection type at line 72: MDLV30/STEABS ATOMS=(0)\n",
      "[10:00:08] Skipping unrecognized collection type at line 77: MDLV30/STEABS ATOMS=(0)\n",
      "[10:00:08] Skipping unrecognized collection type at line 83: MDLV30/STEABS ATOMS=(0)\n",
      "[10:00:08] Skipping unrecognized collection type at line 79: MDLV30/STEABS ATOMS=(0)\n",
      "[10:00:08] Skipping unrecognized collection type at line 81: MDLV30/STEABS ATOMS=(0)\n",
      "[10:00:08] Skipping unrecognized collection type at line 86: MDLV30/STEABS ATOMS=(0)\n",
      "[10:00:08] Skipping unrecognized collection type at line 84: MDLV30/STEABS ATOMS=(0)\n",
      "[10:00:08] Skipping unrecognized collection type at line 78: MDLV30/STEABS ATOMS=(0)\n",
      "[10:00:08] Skipping unrecognized collection type at line 78: MDLV30/STEABS ATOMS=(0)\n",
      "[10:00:08] Skipping unrecognized collection type at line 86: MDLV30/STEABS ATOMS=(0)\n",
      "[10:00:08] Skipping unrecognized collection type at line 86: MDLV30/STEABS ATOMS=(0)\n",
      "[10:00:08] Skipping unrecognized collection type at line 86: MDLV30/STEABS ATOMS=(0)\n",
      "[10:00:08] Skipping unrecognized collection type at line 86: MDLV30/STEABS ATOMS=(0)\n",
      "[10:00:08] Skipping unrecognized collection type at line 88: MDLV30/STEABS ATOMS=(0)\n",
      "[10:00:08] Skipping unrecognized collection type at line 80: MDLV30/STEABS ATOMS=(0)\n",
      "[10:00:08] Skipping unrecognized collection type at line 86: MDLV30/STEABS ATOMS=(0)\n",
      "[10:00:08] Skipping unrecognized collection type at line 88: MDLV30/STEABS ATOMS=(0)\n",
      "[10:00:09] Skipping unrecognized collection type at line 82: MDLV30/STEABS ATOMS=(0)\n",
      "[10:00:09] Skipping unrecognized collection type at line 82: MDLV30/STEABS ATOMS=(0)\n",
      "[10:00:09] Skipping unrecognized collection type at line 80: MDLV30/STEABS ATOMS=(0)\n",
      "[10:00:09] Skipping unrecognized collection type at line 80: MDLV30/STEABS ATOMS=(0)\n",
      "[10:00:09] Skipping unrecognized collection type at line 80: MDLV30/STEABS ATOMS=(0)\n",
      "[10:00:09] Skipping unrecognized collection type at line 82: MDLV30/STEABS ATOMS=(0)\n",
      "[10:00:09] Skipping unrecognized collection type at line 94: MDLV30/STEABS ATOMS=(0)\n",
      "[10:00:09] Skipping unrecognized collection type at line 78: MDLV30/STEABS ATOMS=(0)\n",
      "[10:00:09] Skipping unrecognized collection type at line 86: MDLV30/STEABS ATOMS=(0)\n",
      "[10:00:09] Skipping unrecognized collection type at line 86: MDLV30/STEABS ATOMS=(0)\n",
      "[10:00:09] Skipping unrecognized collection type at line 92: MDLV30/STEABS ATOMS=(0)\n",
      "[10:00:09] Skipping unrecognized collection type at line 92: MDLV30/STEABS ATOMS=(0)\n",
      "[10:00:09] Skipping unrecognized collection type at line 86: MDLV30/STEABS ATOMS=(0)\n",
      "[10:00:09] Skipping unrecognized collection type at line 88: MDLV30/STEABS ATOMS=(0)\n",
      "[10:00:09] Skipping unrecognized collection type at line 77: MDLV30/STEABS ATOMS=(0)\n",
      "[10:00:09] Skipping unrecognized collection type at line 77: MDLV30/STEABS ATOMS=(0)\n",
      "[10:00:09] Skipping unrecognized collection type at line 63: MDLV30/STEABS ATOMS=(0)\n",
      "[10:00:09] Skipping unrecognized collection type at line 63: MDLV30/STEABS ATOMS=(0)\n",
      "[10:00:09] Skipping unrecognized collection type at line 69: MDLV30/STEABS ATOMS=(0)\n",
      "[10:00:09] Skipping unrecognized collection type at line 77: MDLV30/STEABS ATOMS=(0)\n",
      "[10:00:09] Skipping unrecognized collection type at line 73: MDLV30/STEABS ATOMS=(0)\n",
      "[10:00:09] Skipping unrecognized collection type at line 79: MDLV30/STEABS ATOMS=(0)\n",
      "[10:00:09] Skipping unrecognized collection type at line 79: MDLV30/STEABS ATOMS=(0)\n",
      "[10:00:09] Skipping unrecognized collection type at line 75: MDLV30/STEABS ATOMS=(0)\n",
      "[10:00:09] Skipping unrecognized collection type at line 79: MDLV30/STEABS ATOMS=(0)\n",
      "[10:00:09] Skipping unrecognized collection type at line 79: MDLV30/STEABS ATOMS=(0)\n",
      "[10:00:09] Skipping unrecognized collection type at line 75: MDLV30/STEABS ATOMS=(0)\n",
      "[10:00:09] Skipping unrecognized collection type at line 75: MDLV30/STEABS ATOMS=(0)\n",
      "[10:00:09] Skipping unrecognized collection type at line 74: MDLV30/STEABS ATOMS=(0)\n",
      "[10:00:09] Skipping unrecognized collection type at line 65: MDLV30/STEABS ATOMS=(0)\n",
      "[10:00:09] Skipping unrecognized collection type at line 61: MDLV30/STEABS ATOMS=(0)\n",
      "[10:00:09] Skipping unrecognized collection type at line 71: MDLV30/STEABS ATOMS=(0)\n",
      "[10:00:09] Skipping unrecognized collection type at line 71: MDLV30/STEABS ATOMS=(0)\n",
      "[10:00:09] Skipping unrecognized collection type at line 67: MDLV30/STEABS ATOMS=(0)\n",
      "[10:00:09] Skipping unrecognized collection type at line 67: MDLV30/STEABS ATOMS=(0)\n",
      "[10:00:09] Skipping unrecognized collection type at line 71: MDLV30/STEABS ATOMS=(0)\n",
      "[10:00:09] Skipping unrecognized collection type at line 75: MDLV30/STEABS ATOMS=(0)\n",
      "[10:00:09] Skipping unrecognized collection type at line 77: MDLV30/STEABS ATOMS=(0)\n",
      "[10:00:09] Skipping unrecognized collection type at line 86: MDLV30/STEABS ATOMS=(0)\n",
      "[10:00:09] Skipping unrecognized collection type at line 82: MDLV30/STEABS ATOMS=(0)\n",
      "[10:00:09] Skipping unrecognized collection type at line 82: MDLV30/STEABS ATOMS=(0)\n",
      "[10:00:09] Skipping unrecognized collection type at line 76: MDLV30/STEABS ATOMS=(0)\n",
      "[10:00:09] Skipping unrecognized collection type at line 72: MDLV30/STEABS ATOMS=(0)\n",
      "[10:00:09] Skipping unrecognized collection type at line 92: MDLV30/STEABS ATOMS=(0)\n",
      "[10:00:09] Skipping unrecognized collection type at line 86: MDLV30/STEABS ATOMS=(0)\n",
      "[10:00:09] Skipping unrecognized collection type at line 92: MDLV30/STEABS ATOMS=(0)\n",
      "[10:00:09] Skipping unrecognized collection type at line 92: MDLV30/STEABS ATOMS=(0)\n",
      "[10:00:09] Skipping unrecognized collection type at line 70: MDLV30/STEABS ATOMS=(0)\n",
      "[10:00:09] Skipping unrecognized collection type at line 84: MDLV30/STEABS ATOMS=(0)\n",
      "[10:00:09] Skipping unrecognized collection type at line 84: MDLV30/STEABS ATOMS=(0)\n",
      "[10:00:09] Skipping unrecognized collection type at line 78: MDLV30/STEABS ATOMS=(0)\n",
      "[10:00:09] Skipping unrecognized collection type at line 78: MDLV30/STEABS ATOMS=(0)\n",
      "[10:00:09] Skipping unrecognized collection type at line 74: MDLV30/STEABS ATOMS=(0)\n",
      "[10:00:09] Skipping unrecognized collection type at line 70: MDLV30/STEABS ATOMS=(0)\n",
      "[10:00:09] Skipping unrecognized collection type at line 90: MDLV30/STEABS ATOMS=(0)\n",
      "[10:00:09] Skipping unrecognized collection type at line 84: MDLV30/STEABS ATOMS=(0)\n",
      "[10:00:09] Skipping unrecognized collection type at line 84: MDLV30/STEABS ATOMS=(0)\n",
      "[10:00:09] Skipping unrecognized collection type at line 90: MDLV30/STEABS ATOMS=(0)\n",
      "[10:00:09] Skipping unrecognized collection type at line 78: MDLV30/STEABS ATOMS=(0)\n",
      "[10:00:09] Skipping unrecognized collection type at line 76: MDLV30/STEABS ATOMS=(0)\n",
      "[10:00:09] Skipping unrecognized collection type at line 74: MDLV30/STEABS ATOMS=(0)\n",
      "[10:00:09] Skipping unrecognized collection type at line 90: MDLV30/STEABS ATOMS=(0)\n",
      "[10:00:09] Skipping unrecognized collection type at line 86: MDLV30/STEABS ATOMS=(0)\n",
      "[10:00:09] Skipping unrecognized collection type at line 86: MDLV30/STEABS ATOMS=(0)\n",
      "[10:00:09] Skipping unrecognized collection type at line 94: MDLV30/STEABS ATOMS=(0)\n",
      "[10:00:09] Skipping unrecognized collection type at line 92: MDLV30/STEABS ATOMS=(0)\n",
      "[10:00:09] Skipping unrecognized collection type at line 96: MDLV30/STEABS ATOMS=(0)\n",
      "[10:00:09] Skipping unrecognized collection type at line 94: MDLV30/STEABS ATOMS=(0)\n",
      "[10:00:09] Skipping unrecognized collection type at line 88: MDLV30/STEABS ATOMS=(0)\n",
      "[10:00:09] Skipping unrecognized collection type at line 104: MDLV30/STEABS ATOMS=(0)\n",
      "[10:00:09] Molecule does not have explicit Hs. Consider calling AddHs()\n"
     ]
    },
    {
     "name": "stdout",
     "output_type": "stream",
     "text": [
      "\u001b[7m\u001b[1m\u001b[38;5;11m DISK \u001b[0m Writing \u001b[38;5;11mfrag_pair_REAL.sdf\u001b[0m\n"
     ]
    },
    {
     "data": {
      "text/html": [
       "<div>\n",
       "<style scoped>\n",
       "    .dataframe tbody tr th:only-of-type {\n",
       "        vertical-align: middle;\n",
       "    }\n",
       "\n",
       "    .dataframe tbody tr th {\n",
       "        vertical-align: top;\n",
       "    }\n",
       "\n",
       "    .dataframe thead th {\n",
       "        text-align: right;\n",
       "    }\n",
       "</style>\n",
       "<table border=\"1\" class=\"dataframe\">\n",
       "  <thead>\n",
       "    <tr style=\"text-align: right;\">\n",
       "      <th></th>\n",
       "      <th>HIPPO ID</th>\n",
       "      <th>inchikey</th>\n",
       "      <th>alias</th>\n",
       "      <th>_Name</th>\n",
       "      <th>original SMILES</th>\n",
       "      <th>original ID</th>\n",
       "      <th>ROMol</th>\n",
       "      <th>tags</th>\n",
       "      <th>ref_mols</th>\n",
       "      <th>ref_pdb</th>\n",
       "      <th>generation_date</th>\n",
       "      <th>submitter_name</th>\n",
       "      <th>method</th>\n",
       "      <th>submitter_email</th>\n",
       "      <th>ref_url</th>\n",
       "    </tr>\n",
       "  </thead>\n",
       "  <tbody>\n",
       "    <tr>\n",
       "      <th>0</th>\n",
       "      <td>354</td>\n",
       "      <td>QEWZCRLIRHOSCF-UHFFFAOYSA-N</td>\n",
       "      <td>Z1725289919-cx0892a-cx1203a</td>\n",
       "      <td>Z1725289919-cx0892a-cx1203a</td>\n",
       "      <td>Cc1cc2c(NCc3cccs3)nccn2n1</td>\n",
       "      <td>Z1725289919-cx0892a-cx1203a</td>\n",
       "      <td>&lt;rdkit.Chem.rdchem.Mol object at 0x129d72500&gt;</td>\n",
       "      <td>(fragmenstein, Enamine)</td>\n",
       "      <td>cx0892a,cx1203a</td>\n",
       "      <td>cx0300a</td>\n",
       "      <td>None</td>\n",
       "      <td>None</td>\n",
       "      <td>None</td>\n",
       "      <td>None</td>\n",
       "      <td>None</td>\n",
       "    </tr>\n",
       "    <tr>\n",
       "      <th>1</th>\n",
       "      <td>355</td>\n",
       "      <td>WQPZGEPXWGGNGH-UHFFFAOYSA-N</td>\n",
       "      <td>PV-002997492412-cx0892a-cx1203a</td>\n",
       "      <td>PV-002997492412-cx0892a-cx1203a</td>\n",
       "      <td>Cc1cnn2ccnc(NCc3ccns3)c12</td>\n",
       "      <td>PV-002997492412-cx0892a-cx1203a</td>\n",
       "      <td>&lt;rdkit.Chem.rdchem.Mol object at 0x129d72420&gt;</td>\n",
       "      <td>(fragmenstein, Enamine)</td>\n",
       "      <td>cx0892a,cx1203a</td>\n",
       "      <td>cx0300a</td>\n",
       "      <td>None</td>\n",
       "      <td>None</td>\n",
       "      <td>None</td>\n",
       "      <td>None</td>\n",
       "      <td>None</td>\n",
       "    </tr>\n",
       "    <tr>\n",
       "      <th>2</th>\n",
       "      <td>356</td>\n",
       "      <td>TXBMVMDLJYPGLT-UHFFFAOYSA-N</td>\n",
       "      <td>PV-006067753494-cx0892a-cx1203a</td>\n",
       "      <td>PV-006067753494-cx0892a-cx1203a</td>\n",
       "      <td>CC=CC=CCNc1nccn2ncc(C)c12</td>\n",
       "      <td>PV-006067753494-cx0892a-cx1203a</td>\n",
       "      <td>&lt;rdkit.Chem.rdchem.Mol object at 0x129d723b0&gt;</td>\n",
       "      <td>(fragmenstein, Enamine)</td>\n",
       "      <td>cx0892a,cx1203a</td>\n",
       "      <td>cx0300a</td>\n",
       "      <td>None</td>\n",
       "      <td>None</td>\n",
       "      <td>None</td>\n",
       "      <td>None</td>\n",
       "      <td>None</td>\n",
       "    </tr>\n",
       "    <tr>\n",
       "      <th>3</th>\n",
       "      <td>357</td>\n",
       "      <td>SODKCPPVBJGYMO-UHFFFAOYSA-N</td>\n",
       "      <td>PV-002951405293-cx0892a-cx1203a</td>\n",
       "      <td>PV-002951405293-cx0892a-cx1203a</td>\n",
       "      <td>Brc1cc2c(NCc3cccs3)nccn2c1</td>\n",
       "      <td>PV-002951405293-cx0892a-cx1203a</td>\n",
       "      <td>&lt;rdkit.Chem.rdchem.Mol object at 0x129d72650&gt;</td>\n",
       "      <td>(fragmenstein, Enamine)</td>\n",
       "      <td>cx0892a,cx1203a</td>\n",
       "      <td>cx0300a</td>\n",
       "      <td>None</td>\n",
       "      <td>None</td>\n",
       "      <td>None</td>\n",
       "      <td>None</td>\n",
       "      <td>None</td>\n",
       "    </tr>\n",
       "    <tr>\n",
       "      <th>4</th>\n",
       "      <td>358</td>\n",
       "      <td>RMNOLZPJKGLGMR-UHFFFAOYSA-N</td>\n",
       "      <td>PV-005893716864-cx0892a-cx1203a</td>\n",
       "      <td>PV-005893716864-cx0892a-cx1203a</td>\n",
       "      <td>Ic1cc2c(NCc3cccs3)nccn2c1</td>\n",
       "      <td>PV-005893716864-cx0892a-cx1203a</td>\n",
       "      <td>&lt;rdkit.Chem.rdchem.Mol object at 0x129d726c0&gt;</td>\n",
       "      <td>(fragmenstein, Enamine)</td>\n",
       "      <td>cx0892a,cx1203a</td>\n",
       "      <td>cx0300a</td>\n",
       "      <td>None</td>\n",
       "      <td>None</td>\n",
       "      <td>None</td>\n",
       "      <td>None</td>\n",
       "      <td>None</td>\n",
       "    </tr>\n",
       "    <tr>\n",
       "      <th>...</th>\n",
       "      <td>...</td>\n",
       "      <td>...</td>\n",
       "      <td>...</td>\n",
       "      <td>...</td>\n",
       "      <td>...</td>\n",
       "      <td>...</td>\n",
       "      <td>...</td>\n",
       "      <td>...</td>\n",
       "      <td>...</td>\n",
       "      <td>...</td>\n",
       "      <td>...</td>\n",
       "      <td>...</td>\n",
       "      <td>...</td>\n",
       "      <td>...</td>\n",
       "      <td>...</td>\n",
       "    </tr>\n",
       "    <tr>\n",
       "      <th>263</th>\n",
       "      <td>617</td>\n",
       "      <td>CGDHPZUNKVUGPW-UHFFFAOYSA-N</td>\n",
       "      <td>Z1524794634-cx0316a-cx0394a</td>\n",
       "      <td>Z1524794634-cx0316a-cx0394a</td>\n",
       "      <td>Cn1cc(C(N)=O)c(NC(=O)c2csc(Cc3ccccc3F)n2)n1</td>\n",
       "      <td>Z1524794634-cx0316a-cx0394a</td>\n",
       "      <td>&lt;rdkit.Chem.rdchem.Mol object at 0x129e85a80&gt;</td>\n",
       "      <td>(fragmenstein, Enamine)</td>\n",
       "      <td>cx0394a,cx0316a</td>\n",
       "      <td>cx0300a</td>\n",
       "      <td>None</td>\n",
       "      <td>None</td>\n",
       "      <td>None</td>\n",
       "      <td>None</td>\n",
       "      <td>None</td>\n",
       "    </tr>\n",
       "    <tr>\n",
       "      <th>264</th>\n",
       "      <td>618</td>\n",
       "      <td>VUNQVUOCGDNPKJ-UHFFFAOYSA-N</td>\n",
       "      <td>Z2205614321-cx0316a-cx0394a</td>\n",
       "      <td>Z2205614321-cx0316a-cx0394a</td>\n",
       "      <td>CC(C)(c1nc(Cn2ccccc2=O)no1)c1ccccc1[N+](=O)[O-]</td>\n",
       "      <td>Z2205614321-cx0316a-cx0394a</td>\n",
       "      <td>&lt;rdkit.Chem.rdchem.Mol object at 0x129e85af0&gt;</td>\n",
       "      <td>(fragmenstein, Enamine)</td>\n",
       "      <td>cx0394a,cx0316a</td>\n",
       "      <td>cx0300a</td>\n",
       "      <td>None</td>\n",
       "      <td>None</td>\n",
       "      <td>None</td>\n",
       "      <td>None</td>\n",
       "      <td>None</td>\n",
       "    </tr>\n",
       "    <tr>\n",
       "      <th>265</th>\n",
       "      <td>619</td>\n",
       "      <td>CSWGHXAOVVQBDL-UHFFFAOYSA-N</td>\n",
       "      <td>Z1210174272-cx0316a-cx0394a</td>\n",
       "      <td>Z1210174272-cx0316a-cx0394a</td>\n",
       "      <td>Cc1cc(C(N)=O)c(NC(=O)c2ccc(Cn3ccccc3=O)o2)s1</td>\n",
       "      <td>Z1210174272-cx0316a-cx0394a</td>\n",
       "      <td>&lt;rdkit.Chem.rdchem.Mol object at 0x129e85b60&gt;</td>\n",
       "      <td>(fragmenstein, Enamine)</td>\n",
       "      <td>cx0394a,cx0316a</td>\n",
       "      <td>cx0300a</td>\n",
       "      <td>None</td>\n",
       "      <td>None</td>\n",
       "      <td>None</td>\n",
       "      <td>None</td>\n",
       "      <td>None</td>\n",
       "    </tr>\n",
       "    <tr>\n",
       "      <th>266</th>\n",
       "      <td>620</td>\n",
       "      <td>UUIRKPMFBKPNLA-UHFFFAOYSA-N</td>\n",
       "      <td>Z1652244678-cx0316a-cx0394a</td>\n",
       "      <td>Z1652244678-cx0316a-cx0394a</td>\n",
       "      <td>Cn1cc([N+](=O)[O-])c(C(=O)Nc2nc(Cc3ccccc3Br)cs...</td>\n",
       "      <td>Z1652244678-cx0316a-cx0394a</td>\n",
       "      <td>&lt;rdkit.Chem.rdchem.Mol object at 0x129e85bd0&gt;</td>\n",
       "      <td>(fragmenstein, Enamine)</td>\n",
       "      <td>cx0394a,cx0316a</td>\n",
       "      <td>cx0300a</td>\n",
       "      <td>None</td>\n",
       "      <td>None</td>\n",
       "      <td>None</td>\n",
       "      <td>None</td>\n",
       "      <td>None</td>\n",
       "    </tr>\n",
       "    <tr>\n",
       "      <th>267</th>\n",
       "      <td>621</td>\n",
       "      <td>BKYDMYQDPOBGNU-UHFFFAOYSA-N</td>\n",
       "      <td>PV-004297738394-cx0394a-cx0316a</td>\n",
       "      <td>PV-004297738394-cx0394a-cx0316a</td>\n",
       "      <td>CC(C)(c1nc(CN2CCCCC2=O)no1)c1ccccc1[N+](=O)[O-]</td>\n",
       "      <td>PV-004297738394-cx0394a-cx0316a</td>\n",
       "      <td>&lt;rdkit.Chem.rdchem.Mol object at 0x129e85cb0&gt;</td>\n",
       "      <td>(fragmenstein, Enamine)</td>\n",
       "      <td>cx0394a,cx0316a</td>\n",
       "      <td>cx0300a</td>\n",
       "      <td>None</td>\n",
       "      <td>None</td>\n",
       "      <td>None</td>\n",
       "      <td>None</td>\n",
       "      <td>None</td>\n",
       "    </tr>\n",
       "  </tbody>\n",
       "</table>\n",
       "<p>268 rows × 15 columns</p>\n",
       "</div>"
      ],
      "text/plain": [
       "     HIPPO ID                     inchikey                            alias  \\\n",
       "0         354  QEWZCRLIRHOSCF-UHFFFAOYSA-N      Z1725289919-cx0892a-cx1203a   \n",
       "1         355  WQPZGEPXWGGNGH-UHFFFAOYSA-N  PV-002997492412-cx0892a-cx1203a   \n",
       "2         356  TXBMVMDLJYPGLT-UHFFFAOYSA-N  PV-006067753494-cx0892a-cx1203a   \n",
       "3         357  SODKCPPVBJGYMO-UHFFFAOYSA-N  PV-002951405293-cx0892a-cx1203a   \n",
       "4         358  RMNOLZPJKGLGMR-UHFFFAOYSA-N  PV-005893716864-cx0892a-cx1203a   \n",
       "..        ...                          ...                              ...   \n",
       "263       617  CGDHPZUNKVUGPW-UHFFFAOYSA-N      Z1524794634-cx0316a-cx0394a   \n",
       "264       618  VUNQVUOCGDNPKJ-UHFFFAOYSA-N      Z2205614321-cx0316a-cx0394a   \n",
       "265       619  CSWGHXAOVVQBDL-UHFFFAOYSA-N      Z1210174272-cx0316a-cx0394a   \n",
       "266       620  UUIRKPMFBKPNLA-UHFFFAOYSA-N      Z1652244678-cx0316a-cx0394a   \n",
       "267       621  BKYDMYQDPOBGNU-UHFFFAOYSA-N  PV-004297738394-cx0394a-cx0316a   \n",
       "\n",
       "                               _Name  \\\n",
       "0        Z1725289919-cx0892a-cx1203a   \n",
       "1    PV-002997492412-cx0892a-cx1203a   \n",
       "2    PV-006067753494-cx0892a-cx1203a   \n",
       "3    PV-002951405293-cx0892a-cx1203a   \n",
       "4    PV-005893716864-cx0892a-cx1203a   \n",
       "..                               ...   \n",
       "263      Z1524794634-cx0316a-cx0394a   \n",
       "264      Z2205614321-cx0316a-cx0394a   \n",
       "265      Z1210174272-cx0316a-cx0394a   \n",
       "266      Z1652244678-cx0316a-cx0394a   \n",
       "267  PV-004297738394-cx0394a-cx0316a   \n",
       "\n",
       "                                       original SMILES  \\\n",
       "0                            Cc1cc2c(NCc3cccs3)nccn2n1   \n",
       "1                            Cc1cnn2ccnc(NCc3ccns3)c12   \n",
       "2                            CC=CC=CCNc1nccn2ncc(C)c12   \n",
       "3                           Brc1cc2c(NCc3cccs3)nccn2c1   \n",
       "4                            Ic1cc2c(NCc3cccs3)nccn2c1   \n",
       "..                                                 ...   \n",
       "263        Cn1cc(C(N)=O)c(NC(=O)c2csc(Cc3ccccc3F)n2)n1   \n",
       "264    CC(C)(c1nc(Cn2ccccc2=O)no1)c1ccccc1[N+](=O)[O-]   \n",
       "265       Cc1cc(C(N)=O)c(NC(=O)c2ccc(Cn3ccccc3=O)o2)s1   \n",
       "266  Cn1cc([N+](=O)[O-])c(C(=O)Nc2nc(Cc3ccccc3Br)cs...   \n",
       "267    CC(C)(c1nc(CN2CCCCC2=O)no1)c1ccccc1[N+](=O)[O-]   \n",
       "\n",
       "                         original ID  \\\n",
       "0        Z1725289919-cx0892a-cx1203a   \n",
       "1    PV-002997492412-cx0892a-cx1203a   \n",
       "2    PV-006067753494-cx0892a-cx1203a   \n",
       "3    PV-002951405293-cx0892a-cx1203a   \n",
       "4    PV-005893716864-cx0892a-cx1203a   \n",
       "..                               ...   \n",
       "263      Z1524794634-cx0316a-cx0394a   \n",
       "264      Z2205614321-cx0316a-cx0394a   \n",
       "265      Z1210174272-cx0316a-cx0394a   \n",
       "266      Z1652244678-cx0316a-cx0394a   \n",
       "267  PV-004297738394-cx0394a-cx0316a   \n",
       "\n",
       "                                             ROMol                     tags  \\\n",
       "0    <rdkit.Chem.rdchem.Mol object at 0x129d72500>  (fragmenstein, Enamine)   \n",
       "1    <rdkit.Chem.rdchem.Mol object at 0x129d72420>  (fragmenstein, Enamine)   \n",
       "2    <rdkit.Chem.rdchem.Mol object at 0x129d723b0>  (fragmenstein, Enamine)   \n",
       "3    <rdkit.Chem.rdchem.Mol object at 0x129d72650>  (fragmenstein, Enamine)   \n",
       "4    <rdkit.Chem.rdchem.Mol object at 0x129d726c0>  (fragmenstein, Enamine)   \n",
       "..                                             ...                      ...   \n",
       "263  <rdkit.Chem.rdchem.Mol object at 0x129e85a80>  (fragmenstein, Enamine)   \n",
       "264  <rdkit.Chem.rdchem.Mol object at 0x129e85af0>  (fragmenstein, Enamine)   \n",
       "265  <rdkit.Chem.rdchem.Mol object at 0x129e85b60>  (fragmenstein, Enamine)   \n",
       "266  <rdkit.Chem.rdchem.Mol object at 0x129e85bd0>  (fragmenstein, Enamine)   \n",
       "267  <rdkit.Chem.rdchem.Mol object at 0x129e85cb0>  (fragmenstein, Enamine)   \n",
       "\n",
       "            ref_mols  ref_pdb generation_date submitter_name method  \\\n",
       "0    cx0892a,cx1203a  cx0300a            None           None   None   \n",
       "1    cx0892a,cx1203a  cx0300a            None           None   None   \n",
       "2    cx0892a,cx1203a  cx0300a            None           None   None   \n",
       "3    cx0892a,cx1203a  cx0300a            None           None   None   \n",
       "4    cx0892a,cx1203a  cx0300a            None           None   None   \n",
       "..               ...      ...             ...            ...    ...   \n",
       "263  cx0394a,cx0316a  cx0300a            None           None   None   \n",
       "264  cx0394a,cx0316a  cx0300a            None           None   None   \n",
       "265  cx0394a,cx0316a  cx0300a            None           None   None   \n",
       "266  cx0394a,cx0316a  cx0300a            None           None   None   \n",
       "267  cx0394a,cx0316a  cx0300a            None           None   None   \n",
       "\n",
       "    submitter_email ref_url  \n",
       "0              None    None  \n",
       "1              None    None  \n",
       "2              None    None  \n",
       "3              None    None  \n",
       "4              None    None  \n",
       "..              ...     ...  \n",
       "263            None    None  \n",
       "264            None    None  \n",
       "265            None    None  \n",
       "266            None    None  \n",
       "267            None    None  \n",
       "\n",
       "[268 rows x 15 columns]"
      ]
     },
     "execution_count": 13,
     "metadata": {},
     "output_type": "execute_result"
    }
   ],
   "source": [
    "frag_pair_REAL.to_fragalysis('frag_pair_REAL.sdf', \n",
    "               method='Fstein_frag_pair_REAL', \n",
    "               ref_url='https://fragmenstein.readthedocs.io/en/latest/', \n",
    "               submitter_name='Max Winokan', \n",
    "               submitter_email='max.winokan@diamond.ac.uk', \n",
    "               submitter_institution='DLS', \n",
    "               metadata=False)"
   ]
  },
  {
   "cell_type": "code",
   "execution_count": 14,
   "id": "125e68a4-f0b1-4756-806b-646ae3abe91c",
   "metadata": {},
   "outputs": [
    {
     "data": {
      "text/plain": [
       "\u001b[1m\u001b[4msubset(P x 268)\u001b[22m\u001b[24m"
      ]
     },
     "execution_count": 14,
     "metadata": {},
     "output_type": "execute_result"
    }
   ],
   "source": [
    "animal.poses.get_by_tag('Enamine')"
   ]
  },
  {
   "cell_type": "code",
   "execution_count": 16,
   "id": "5fe9f502-50dc-46c6-98b5-2751ad91d24f",
   "metadata": {},
   "outputs": [
    {
     "name": "stdout",
     "output_type": "stream",
     "text": [
      "\u001b[2mDEBUG: hippo3.Database.close()\u001b[0m\n",
      "\u001b[32;1mClosed connection to \u001b[38;5;11mCHIKV_master.sqlite\u001b[0m\u001b[0m\n"
     ]
    }
   ],
   "source": [
    "animal.db.close()"
   ]
  },
  {
   "cell_type": "code",
   "execution_count": null,
   "id": "09239331-702f-45ae-851c-57853831f0c0",
   "metadata": {},
   "outputs": [],
   "source": []
  }
 ],
 "metadata": {
  "kernelspec": {
   "display_name": "Python 3 (ipykernel)",
   "language": "python",
   "name": "python3"
  },
  "language_info": {
   "codemirror_mode": {
    "name": "ipython",
    "version": 3
   },
   "file_extension": ".py",
   "mimetype": "text/x-python",
   "name": "python",
   "nbconvert_exporter": "python",
   "pygments_lexer": "ipython3",
   "version": "3.10.12"
  }
 },
 "nbformat": 4,
 "nbformat_minor": 5
}
