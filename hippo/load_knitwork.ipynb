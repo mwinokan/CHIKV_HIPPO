{
 "cells": [
  {
   "cell_type": "code",
   "execution_count": 1,
   "id": "3051d5d1-7ee1-4883-8041-d79934993d4f",
   "metadata": {},
   "outputs": [],
   "source": [
    "%load_ext autoreload"
   ]
  },
  {
   "cell_type": "code",
   "execution_count": 2,
   "id": "16ea2e2c-6997-4b6b-a1c3-2bc7044a1cb8",
   "metadata": {},
   "outputs": [],
   "source": [
    "%autoreload 2\n",
    "import hippo\n",
    "import molparse as mp\n",
    "import pandas as pd\n",
    "from rdkit.Chem import PandasTools\n",
    "from pathlib import Path\n",
    "from tqdm import tqdm\n",
    "import numpy as np"
   ]
  },
  {
   "cell_type": "code",
   "execution_count": 3,
   "id": "90069d66-db46-4536-8494-0fc20fe355d2",
   "metadata": {},
   "outputs": [],
   "source": [
    "# !cp -v CHIKV_fragmenstein.sqlite CHIKV_fragmenstein_5.sqlite"
   ]
  },
  {
   "cell_type": "code",
   "execution_count": 4,
   "id": "17183f27-7da8-4802-8d0f-8f9964b134e8",
   "metadata": {},
   "outputs": [
    {
     "name": "stdout",
     "output_type": "stream",
     "text": [
      "\u001b[1m\u001b[38;5;166mCreating HIPPO animal\u001b[0m\n",
      "\u001b[36mname\u001b[0m = \u001b[38;5;154mCHIKV_selected_pures\u001b[0m\n",
      "\u001b[36mdb_path\u001b[0m = \u001b[38;5;11mCHIKV_master.sqlite\u001b[0m\n",
      "\u001b[2mDEBUG: hippo3.Database.__init__()\u001b[0m\n",
      "\u001b[2mDEBUG: Database.path = CHIKV_master.sqlite\u001b[0m\n",
      "\u001b[2mDEBUG: hippo3.Database.connect()\u001b[0m\n",
      "\u001b[2mDEBUG: sqlite3.version='2.6.0'\u001b[0m\n",
      "\u001b[7m\u001b[32;1m SUCCESS \u001b[0m\u001b[32;1m Database connected @ \u001b[38;5;11mCHIKV_master.sqlite!\u001b[0m\n",
      "\u001b[7m\u001b[32;1m SUCCESS \u001b[0m\u001b[32;1m Initialised animal HIPPO(\"CHIKV_selected_pures\")!\u001b[0m\n"
     ]
    }
   ],
   "source": [
    "animal = hippo.HIPPO('CHIKV_selected_pures', 'CHIKV_master.sqlite')"
   ]
  },
  {
   "cell_type": "code",
   "execution_count": 5,
   "id": "097b1597-1e5d-437e-ba47-97b395f24bb0",
   "metadata": {},
   "outputs": [],
   "source": [
    "df = PandasTools.LoadSDF('knitwork/compound-set_FragNet_CHIKV.sdf')"
   ]
  },
  {
   "cell_type": "code",
   "execution_count": 7,
   "id": "cbb03ba5-3b99-4630-878f-2cce89555049",
   "metadata": {
    "tags": []
   },
   "outputs": [
    {
     "name": "stdout",
     "output_type": "stream",
     "text": [
      "knitwork/compound-set_FragNet_CHIKV.sdf\n",
      "\u001b[2mDEBUG: sdf_path=PosixPath('knitwork/compound-set_FragNet_CHIKV.sdf')\u001b[0m\n",
      "\u001b[7m\u001b[38;5;166m\u001b[1m Warning \u001b[0m\u001b[38;5;166m Skipping existing target with name='CHIKV_Mac'\u001b[0m\n",
      "\u001b[7m\u001b[1m\u001b[38;5;11m DISK \u001b[0m Writing \u001b[38;5;11mCreating output directory compound-set_FragNet_CHIKV\u001b[0m\n"
     ]
    },
    {
     "name": "stderr",
     "output_type": "stream",
     "text": [
      "0it [00:00, ?it/s]"
     ]
    },
    {
     "name": "stdout",
     "output_type": "stream",
     "text": [
      "\u001b[7m\u001b[38;5;166m\u001b[1m Warning \u001b[0m\u001b[38;5;166m Skipping Fragalysis header molecule\u001b[0m\n"
     ]
    },
    {
     "name": "stderr",
     "output_type": "stream",
     "text": [
      "30it [00:01, 25.10it/s]"
     ]
    },
    {
     "name": "stdout",
     "output_type": "stream",
     "text": [
      "\u001b[7m\u001b[32;1m SUCCESS \u001b[0m\u001b[32;1m Loaded compounds from knitwork/compound-set_FragNet_CHIKV.sdf!\u001b[0m\n"
     ]
    },
    {
     "name": "stderr",
     "output_type": "stream",
     "text": [
      "\n"
     ]
    }
   ],
   "source": [
    "cx0300a = animal.poses['cx0300a']\n",
    "map = dict(cx9317a=animal.poses['cx0317a'])\n",
    "for sdf in Path('knitwork').glob('compound-set_FragNet_CHIKV.sdf'):\n",
    "    print(sdf)\n",
    "    animal.add_compounds('CHIKV_Mac', sdf, reference=cx0300a, tags=['knitwork'], \n",
    "                         mol_col='ROMol', name_col='ID', inspiration_col='ref_mols', inspiration_map=map)\n",
    "    # break"
   ]
  },
  {
   "cell_type": "code",
   "execution_count": 8,
   "id": "3942f26b-f7a7-4945-a892-75e33bd89fe1",
   "metadata": {},
   "outputs": [],
   "source": [
    "knitwork = animal.poses(tag='knitwork')"
   ]
  },
  {
   "cell_type": "code",
   "execution_count": 9,
   "id": "696a85d1-1409-46bf-9198-e17a72118089",
   "metadata": {},
   "outputs": [],
   "source": [
    "for pose in knitwork:\n",
    "    if ',' in pose.alias:\n",
    "        pose.alias = '_'.join(pose.alias.split(','))"
   ]
  },
  {
   "cell_type": "code",
   "execution_count": 10,
   "id": "4156979b-33e3-4df1-8208-47975a37e4ee",
   "metadata": {},
   "outputs": [
    {
     "name": "stdout",
     "output_type": "stream",
     "text": [
      "\u001b[7m\u001b[1m\u001b[38;5;11m DISK \u001b[0m Writing \u001b[38;5;11mknitwork/from_hippo.sdf\u001b[0m\n"
     ]
    }
   ],
   "source": [
    "knitwork.write_sdf('knitwork/from_hippo.sdf')"
   ]
  },
  {
   "cell_type": "code",
   "execution_count": 11,
   "id": "85cc3931-1a30-44ac-9504-e9d94a5a385f",
   "metadata": {},
   "outputs": [
    {
     "name": "stdout",
     "output_type": "stream",
     "text": [
      "\u001b[7m\u001b[1m\u001b[38;5;11m DISK \u001b[0m Writing \u001b[38;5;11mknitwork/knitwork_fragalysis.sdf\u001b[0m\n"
     ]
    },
    {
     "name": "stderr",
     "output_type": "stream",
     "text": [
      "[10:40:27] Molecule does not have explicit Hs. Consider calling AddHs()\n"
     ]
    }
   ],
   "source": [
    "knitwork.to_fragalysis('knitwork/knitwork_fragalysis.sdf', \n",
    "                       method='Knitwork', \n",
    "                       ref_url='https://github.com/stephwills/CHIKV-compound-order-iteration-1', \n",
    "                       submitter_name='Steph Wills', \n",
    "                       submitter_institution='Oxford', \n",
    "                       submitter_email='stephanie.wills@balliol.ox.ac.uk', metadata=False);"
   ]
  },
  {
   "cell_type": "code",
   "execution_count": 12,
   "id": "f3ad43b1-07de-45ab-bb2a-63f89d5df7c7",
   "metadata": {
    "tags": []
   },
   "outputs": [
    {
     "name": "stdout",
     "output_type": "stream",
     "text": [
      "\u001b[2mDEBUG: hippo3.Database.close()\u001b[0m\n",
      "\u001b[32;1mClosed connection to \u001b[38;5;11mCHIKV_master.sqlite\u001b[0m\u001b[0m\n"
     ]
    }
   ],
   "source": [
    "animal.db.close()"
   ]
  },
  {
   "cell_type": "code",
   "execution_count": null,
   "id": "42f70dbc-194b-450c-bd8d-8b1355b229f1",
   "metadata": {},
   "outputs": [],
   "source": []
  }
 ],
 "metadata": {
  "kernelspec": {
   "display_name": "Python 3 (ipykernel)",
   "language": "python",
   "name": "python3"
  },
  "language_info": {
   "codemirror_mode": {
    "name": "ipython",
    "version": 3
   },
   "file_extension": ".py",
   "mimetype": "text/x-python",
   "name": "python",
   "nbconvert_exporter": "python",
   "pygments_lexer": "ipython3",
   "version": "3.10.12"
  }
 },
 "nbformat": 4,
 "nbformat_minor": 5
}
