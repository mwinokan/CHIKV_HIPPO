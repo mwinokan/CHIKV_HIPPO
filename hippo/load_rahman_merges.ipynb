{
 "cells": [
  {
   "cell_type": "code",
   "execution_count": 1,
   "id": "aedc2b89-b9ad-46d6-9c6e-62ad55c2829f",
   "metadata": {},
   "outputs": [],
   "source": [
    "%load_ext autoreload"
   ]
  },
  {
   "cell_type": "code",
   "execution_count": 2,
   "id": "c2a34f39-9608-4a4f-ba0b-cf1e88f0f2cf",
   "metadata": {},
   "outputs": [],
   "source": [
    "%autoreload 2\n",
    "import hippo\n",
    "import molparse as mp\n",
    "import pandas as pd\n",
    "from rdkit.Chem import PandasTools\n",
    "from pathlib import Path\n",
    "from tqdm import tqdm"
   ]
  },
  {
   "cell_type": "code",
   "execution_count": 3,
   "id": "a36677f4-0e54-4315-b0c0-b128bbb4755e",
   "metadata": {},
   "outputs": [],
   "source": [
    "# !cp -v CHIKV_fragmenstein.sqlite CHIKV_fragmenstein_3.sqlite"
   ]
  },
  {
   "cell_type": "code",
   "execution_count": 4,
   "id": "7f95f0d8-30ac-4edf-ad16-c750a8bfca9d",
   "metadata": {},
   "outputs": [
    {
     "name": "stdout",
     "output_type": "stream",
     "text": [
      "\u001b[1m\u001b[38;5;166mCreating HIPPO animal\u001b[0m\n",
      "\u001b[36mname\u001b[0m = \u001b[38;5;154mCHIKV_rahman_merges\u001b[0m\n",
      "\u001b[36mdb_path\u001b[0m = \u001b[38;5;11mCHIKV_master.sqlite\u001b[0m\n",
      "\u001b[2mDEBUG: hippo3.Database.__init__()\u001b[0m\n",
      "\u001b[2mDEBUG: Database.path = CHIKV_master.sqlite\u001b[0m\n",
      "\u001b[2mDEBUG: hippo3.Database.connect()\u001b[0m\n",
      "\u001b[2mDEBUG: sqlite3.version='2.6.0'\u001b[0m\n",
      "\u001b[7m\u001b[32;1m SUCCESS \u001b[0m\u001b[32;1m Database connected @ \u001b[38;5;11mCHIKV_master.sqlite!\u001b[0m\n",
      "\u001b[7m\u001b[32;1m SUCCESS \u001b[0m\u001b[32;1m Initialised animal HIPPO(\"CHIKV_rahman_merges\")!\u001b[0m\n"
     ]
    }
   ],
   "source": [
    "animal = hippo.HIPPO('CHIKV_rahman_merges', 'CHIKV_master.sqlite')"
   ]
  },
  {
   "cell_type": "code",
   "execution_count": 5,
   "id": "0dfde62c-754f-439c-ac8f-ed50c83e92cd",
   "metadata": {},
   "outputs": [],
   "source": [
    "frag_pair_dir = Path('rahman_fragmenstein')"
   ]
  },
  {
   "cell_type": "code",
   "execution_count": 6,
   "id": "28f2d7fd-2ef7-4414-9b99-4b5bb21e870b",
   "metadata": {
    "tags": []
   },
   "outputs": [
    {
     "name": "stdout",
     "output_type": "stream",
     "text": [
      "rahman_fragmenstein/fragmenstein_mergers_pairs.pkl.gz\n",
      "\u001b[2mDEBUG: sdf_path=PosixPath('rahman_fragmenstein/fragmenstein_mergers_pairs.pkl.gz')\u001b[0m\n",
      "\u001b[7m\u001b[38;5;166m\u001b[1m Warning \u001b[0m\u001b[38;5;166m Skipping existing target with name='CHIKV_Mac'\u001b[0m\n",
      "\u001b[7m\u001b[1m\u001b[38;5;11m DISK \u001b[0m Writing \u001b[38;5;11mCreating output directory fragmenstein_mergers_pairs.pkl.gz\u001b[0m\n"
     ]
    },
    {
     "name": "stderr",
     "output_type": "stream",
     "text": [
      "30it [00:00, 72.10it/s]"
     ]
    },
    {
     "name": "stdout",
     "output_type": "stream",
     "text": [
      "\u001b[7m\u001b[32;1m SUCCESS \u001b[0m\u001b[32;1m Loaded compounds from rahman_fragmenstein/fragmenstein_mergers_pairs.pkl.gz!\u001b[0m\n",
      "rahman_fragmenstein/fragmenstein_placed_pairs.pkl.gz\n",
      "\u001b[2mDEBUG: sdf_path=PosixPath('rahman_fragmenstein/fragmenstein_placed_pairs.pkl.gz')\u001b[0m\n"
     ]
    },
    {
     "name": "stderr",
     "output_type": "stream",
     "text": [
      "\n"
     ]
    },
    {
     "name": "stdout",
     "output_type": "stream",
     "text": [
      "\u001b[7m\u001b[38;5;166m\u001b[1m Warning \u001b[0m\u001b[38;5;166m Skipping existing target with name='CHIKV_Mac'\u001b[0m\n",
      "\u001b[7m\u001b[1m\u001b[38;5;11m DISK \u001b[0m Writing \u001b[38;5;11mCreating output directory fragmenstein_placed_pairs.pkl.gz\u001b[0m\n"
     ]
    },
    {
     "name": "stderr",
     "output_type": "stream",
     "text": [
      "1132it [00:04, 255.26it/s]"
     ]
    },
    {
     "name": "stdout",
     "output_type": "stream",
     "text": [
      "\u001b[7m\u001b[32;1m SUCCESS \u001b[0m\u001b[32;1m Loaded compounds from rahman_fragmenstein/fragmenstein_placed_pairs.pkl.gz!\u001b[0m\n"
     ]
    },
    {
     "name": "stderr",
     "output_type": "stream",
     "text": [
      "\n"
     ]
    }
   ],
   "source": [
    "cx0300a = animal.poses['cx0300a']\n",
    "\n",
    "for sdf in frag_pair_dir.glob('fragmenstein_mergers_pairs.pkl.gz'):\n",
    "    print(sdf)\n",
    "    animal.add_compounds('CHIKV_Mac', sdf, reference=cx0300a, tags=['fragmenstein','rahman_pure'], mol_col='minimized_mol', name_col='name', inspiration_col='regarded', skip_not_equal_dict={'outcome':'acceptable'}, check_pose_RMSD=True)\n",
    "\n",
    "for sdf in frag_pair_dir.glob('fragmenstein_placed_pairs.pkl.gz'):\n",
    "    print(sdf)\n",
    "    animal.add_compounds('CHIKV_Mac', sdf, reference=cx0300a, tags=['fragmenstein','rahman_REAL'], mol_col='minimized_mol', name_col='name', inspiration_col='regarded', skip_not_equal_dict={'outcome':'acceptable'})\n",
    "    # break"
   ]
  },
  {
   "cell_type": "code",
   "execution_count": 7,
   "id": "18c19d41-1017-4bc1-9d76-f23c7c93645e",
   "metadata": {},
   "outputs": [
    {
     "data": {
      "text/plain": [
       "\u001b[1m\u001b[4msubset(C x 112)\u001b[22m\u001b[24m"
      ]
     },
     "execution_count": 7,
     "metadata": {},
     "output_type": "execute_result"
    }
   ],
   "source": [
    "animal.compounds.get_by_tag('rahman_REAL')"
   ]
  },
  {
   "cell_type": "code",
   "execution_count": 8,
   "id": "a1345975-72a0-4352-aa9d-cf94c9d66f57",
   "metadata": {},
   "outputs": [
    {
     "data": {
      "text/plain": [
       "\u001b[1m\u001b[4msubset(C x 8)\u001b[22m\u001b[24m"
      ]
     },
     "execution_count": 8,
     "metadata": {},
     "output_type": "execute_result"
    }
   ],
   "source": [
    "animal.compounds.get_by_tag('rahman_pure')"
   ]
  },
  {
   "cell_type": "code",
   "execution_count": 9,
   "id": "04d6dd59-8e12-4a6d-a40f-49338e212652",
   "metadata": {},
   "outputs": [
    {
     "data": {
      "application/vnd.jupyter.widget-view+json": {
       "model_id": "13ad648dbdb64798a61bcfb4816f9287",
       "version_major": 2,
       "version_minor": 0
      },
      "text/plain": [
       "VBox(children=(BoundedIntText(value=0, description='Pose (/8):', max=7), GridBox(children=(Checkbox(value=True…"
      ]
     },
     "metadata": {},
     "output_type": "display_data"
    },
    {
     "data": {
      "application/vnd.jupyter.widget-view+json": {
       "model_id": "ff1dcd91a4834a389f7bf5889a9edd43",
       "version_major": 2,
       "version_minor": 0
      },
      "text/plain": [
       "Output()"
      ]
     },
     "metadata": {},
     "output_type": "display_data"
    }
   ],
   "source": [
    "animal.poses.get_by_tag('rahman_pure').interactive()"
   ]
  },
  {
   "cell_type": "code",
   "execution_count": 10,
   "id": "732b2819-3088-4a1c-a5d9-f9b44aa2b217",
   "metadata": {},
   "outputs": [
    {
     "data": {
      "application/vnd.jupyter.widget-view+json": {
       "model_id": "a103e3d1094e4a26bf9a87a4e844a74a",
       "version_major": 2,
       "version_minor": 0
      },
      "text/plain": [
       "VBox(children=(BoundedIntText(value=0, description='Pose (/112):', max=111), GridBox(children=(Checkbox(value=…"
      ]
     },
     "metadata": {},
     "output_type": "display_data"
    },
    {
     "data": {
      "application/vnd.jupyter.widget-view+json": {
       "model_id": "0c77d281171548cfb8d2ae869bb06837",
       "version_major": 2,
       "version_minor": 0
      },
      "text/plain": [
       "Output()"
      ]
     },
     "metadata": {},
     "output_type": "display_data"
    }
   ],
   "source": [
    "animal.poses.get_by_tag('rahman_REAL').interactive()"
   ]
  },
  {
   "cell_type": "code",
   "execution_count": 11,
   "id": "a4f70963-6aac-435d-b8b2-1c14b3728e44",
   "metadata": {},
   "outputs": [
    {
     "name": "stdout",
     "output_type": "stream",
     "text": [
      "\u001b[7m\u001b[1m\u001b[38;5;11m DISK \u001b[0m Writing \u001b[38;5;11mrahman_fragmenstein/rahman_pures.sdf\u001b[0m\n"
     ]
    },
    {
     "name": "stderr",
     "output_type": "stream",
     "text": [
      "[10:01:10] Skipping unrecognized collection type at line 63: MDLV30/STEABS ATOMS=(0)\n",
      "[10:01:10] Skipping unrecognized collection type at line 64: MDLV30/STEABS ATOMS=(0)\n",
      "[10:01:10] Skipping unrecognized collection type at line 79: MDLV30/STEABS ATOMS=(0)\n",
      "[10:01:10] Skipping unrecognized collection type at line 72: MDLV30/STEABS ATOMS=(0)\n",
      "[10:01:10] Skipping unrecognized collection type at line 58: MDLV30/STEABS ATOMS=(0)\n",
      "[10:01:10] Skipping unrecognized collection type at line 80: MDLV30/STEABS ATOMS=(0)\n",
      "[10:01:10] Skipping unrecognized collection type at line 78: MDLV30/STEABS ATOMS=(0)\n",
      "[10:01:10] Molecule does not have explicit Hs. Consider calling AddHs()\n"
     ]
    }
   ],
   "source": [
    "animal.poses.get_by_tag('rahman_pure').to_fragalysis('rahman_fragmenstein/rahman_pures.sdf', \n",
    "                       method='Fstein_Rahman_pures', \n",
    "                       ref_url='https://hippo.winokan.com', \n",
    "                       submitter_name='Max Winokan', \n",
    "                       submitter_institution='DLS', \n",
    "                       submitter_email='max.winokan@diamond.ac.uk', metadata=False);"
   ]
  },
  {
   "cell_type": "code",
   "execution_count": 12,
   "id": "4a7fd507-3781-497f-872b-ba532e0e8dca",
   "metadata": {
    "tags": []
   },
   "outputs": [
    {
     "name": "stdout",
     "output_type": "stream",
     "text": [
      "\u001b[36m#unique inspiration combinations\u001b[0m = 8\u001b[0m\n"
     ]
    },
    {
     "name": "stderr",
     "output_type": "stream",
     "text": [
      "[10:01:10] Skipping unrecognized collection type at line 98: MDLV30/STEABS ATOMS=(0)\n",
      "[10:01:10] Skipping unrecognized collection type at line 96: MDLV30/STEABS ATOMS=(0)\n",
      "[10:01:10] Skipping unrecognized collection type at line 64: MDLV30/STEABS ATOMS=(0)\n",
      "[10:01:10] Skipping unrecognized collection type at line 53: MDLV30/STEABS ATOMS=(0)\n",
      "[10:01:10] Skipping unrecognized collection type at line 66: MDLV30/STEABS ATOMS=(0)\n",
      "[10:01:10] Skipping unrecognized collection type at line 62: MDLV30/STEABS ATOMS=(0)\n",
      "[10:01:10] Skipping unrecognized collection type at line 65: MDLV30/STEABS ATOMS=(0)\n",
      "[10:01:10] Skipping unrecognized collection type at line 63: MDLV30/STEABS ATOMS=(0)\n",
      "[10:01:10] Skipping unrecognized collection type at line 59: MDLV30/STEABS ATOMS=(0)\n",
      "[10:01:10] Skipping unrecognized collection type at line 59: MDLV30/STEABS ATOMS=(0)\n",
      "[10:01:10] Skipping unrecognized collection type at line 76: MDLV30/STEABS ATOMS=(0)\n",
      "[10:01:10] Skipping unrecognized collection type at line 73: MDLV30/STEABS ATOMS=(0)\n",
      "[10:01:10] Skipping unrecognized collection type at line 73: MDLV30/STEABS ATOMS=(0)\n",
      "[10:01:10] Skipping unrecognized collection type at line 69: MDLV30/STEABS ATOMS=(0)\n",
      "[10:01:10] Skipping unrecognized collection type at line 63: MDLV30/STEABS ATOMS=(0)\n",
      "[10:01:10] Skipping unrecognized collection type at line 63: MDLV30/STEABS ATOMS=(0)\n",
      "[10:01:10] Skipping unrecognized collection type at line 57: MDLV30/STEABS ATOMS=(0)\n",
      "[10:01:10] Skipping unrecognized collection type at line 70: MDLV30/STEABS ATOMS=(0)\n",
      "[10:01:10] Skipping unrecognized collection type at line 67: MDLV30/STEABS ATOMS=(0)\n",
      "[10:01:10] Skipping unrecognized collection type at line 82: MDLV30/STEABS ATOMS=(0)\n",
      "[10:01:10] Skipping unrecognized collection type at line 74: MDLV30/STEABS ATOMS=(0)\n",
      "[10:01:10] Skipping unrecognized collection type at line 82: MDLV30/STEABS ATOMS=(0)\n",
      "[10:01:10] Skipping unrecognized collection type at line 57: MDLV30/STEABS ATOMS=(0)\n",
      "[10:01:10] Skipping unrecognized collection type at line 61: MDLV30/STEABS ATOMS=(0)\n",
      "[10:01:10] Skipping unrecognized collection type at line 61: MDLV30/STEABS ATOMS=(0)\n",
      "[10:01:10] Skipping unrecognized collection type at line 57: MDLV30/STEABS ATOMS=(0)\n",
      "[10:01:10] Skipping unrecognized collection type at line 68: MDLV30/STEABS ATOMS=(0)\n",
      "[10:01:10] Skipping unrecognized collection type at line 70: MDLV30/STEABS ATOMS=(0)\n",
      "[10:01:10] Skipping unrecognized collection type at line 71: MDLV30/STEABS ATOMS=(0)\n",
      "[10:01:10] Skipping unrecognized collection type at line 71: MDLV30/STEABS ATOMS=(0)\n",
      "[10:01:10] Skipping unrecognized collection type at line 67: MDLV30/STEABS ATOMS=(0)\n",
      "[10:01:10] Skipping unrecognized collection type at line 61: MDLV30/STEABS ATOMS=(0)\n",
      "[10:01:10] Skipping unrecognized collection type at line 61: MDLV30/STEABS ATOMS=(0)\n",
      "[10:01:10] Skipping unrecognized collection type at line 71: MDLV30/STEABS ATOMS=(0)\n",
      "[10:01:10] Skipping unrecognized collection type at line 67: MDLV30/STEABS ATOMS=(0)\n",
      "[10:01:10] Skipping unrecognized collection type at line 76: MDLV30/STEABS ATOMS=(0)\n",
      "[10:01:10] Skipping unrecognized collection type at line 72: MDLV30/STEABS ATOMS=(0)\n",
      "[10:01:10] Skipping unrecognized collection type at line 67: MDLV30/STEABS ATOMS=(0)\n",
      "[10:01:10] Skipping unrecognized collection type at line 67: MDLV30/STEABS ATOMS=(0)\n",
      "[10:01:10] Skipping unrecognized collection type at line 63: MDLV30/STEABS ATOMS=(0)\n",
      "[10:01:10] Skipping unrecognized collection type at line 67: MDLV30/STEABS ATOMS=(0)\n",
      "[10:01:10] Skipping unrecognized collection type at line 80: MDLV30/STEABS ATOMS=(0)\n",
      "[10:01:10] Skipping unrecognized collection type at line 71: MDLV30/STEABS ATOMS=(0)\n",
      "[10:01:10] Skipping unrecognized collection type at line 67: MDLV30/STEABS ATOMS=(0)\n",
      "[10:01:10] Skipping unrecognized collection type at line 63: MDLV30/STEABS ATOMS=(0)\n",
      "[10:01:10] Skipping unrecognized collection type at line 55: MDLV30/STEABS ATOMS=(0)\n",
      "[10:01:10] Skipping unrecognized collection type at line 69: MDLV30/STEABS ATOMS=(0)\n",
      "[10:01:10] Skipping unrecognized collection type at line 63: MDLV30/STEABS ATOMS=(0)\n",
      "[10:01:10] Skipping unrecognized collection type at line 63: MDLV30/STEABS ATOMS=(0)\n",
      "[10:01:10] Skipping unrecognized collection type at line 63: MDLV30/STEABS ATOMS=(0)\n",
      "[10:01:10] Skipping unrecognized collection type at line 61: MDLV30/STEABS ATOMS=(0)\n",
      "[10:01:10] Skipping unrecognized collection type at line 61: MDLV30/STEABS ATOMS=(0)\n",
      "[10:01:10] Skipping unrecognized collection type at line 57: MDLV30/STEABS ATOMS=(0)\n",
      "[10:01:10] Skipping unrecognized collection type at line 57: MDLV30/STEABS ATOMS=(0)\n",
      "[10:01:10] Skipping unrecognized collection type at line 55: MDLV30/STEABS ATOMS=(0)\n",
      "[10:01:10] Skipping unrecognized collection type at line 55: MDLV30/STEABS ATOMS=(0)\n",
      "[10:01:10] Skipping unrecognized collection type at line 67: MDLV30/STEABS ATOMS=(0)\n",
      "[10:01:10] Skipping unrecognized collection type at line 61: MDLV30/STEABS ATOMS=(0)\n",
      "[10:01:10] Skipping unrecognized collection type at line 73: MDLV30/STEABS ATOMS=(0)\n",
      "[10:01:10] Skipping unrecognized collection type at line 70: MDLV30/STEABS ATOMS=(0)\n",
      "[10:01:10] Skipping unrecognized collection type at line 75: MDLV30/STEABS ATOMS=(0)\n",
      "[10:01:10] Skipping unrecognized collection type at line 68: MDLV30/STEABS ATOMS=(0)\n",
      "[10:01:10] Skipping unrecognized collection type at line 55: MDLV30/STEABS ATOMS=(0)\n",
      "[10:01:10] Skipping unrecognized collection type at line 64: MDLV30/STEABS ATOMS=(0)\n",
      "[10:01:10] Skipping unrecognized collection type at line 57: MDLV30/STEABS ATOMS=(0)\n",
      "[10:01:10] Skipping unrecognized collection type at line 57: MDLV30/STEABS ATOMS=(0)\n",
      "[10:01:10] Skipping unrecognized collection type at line 55: MDLV30/STEABS ATOMS=(0)\n",
      "[10:01:10] Skipping unrecognized collection type at line 59: MDLV30/STEABS ATOMS=(0)\n",
      "[10:01:10] Skipping unrecognized collection type at line 79: MDLV30/STEABS ATOMS=(0)\n",
      "[10:01:10] Skipping unrecognized collection type at line 79: MDLV30/STEABS ATOMS=(0)\n",
      "[10:01:10] Skipping unrecognized collection type at line 79: MDLV30/STEABS ATOMS=(0)\n",
      "[10:01:10] Skipping unrecognized collection type at line 73: MDLV30/STEABS ATOMS=(0)\n",
      "[10:01:10] Skipping unrecognized collection type at line 75: MDLV30/STEABS ATOMS=(0)\n",
      "[10:01:10] Skipping unrecognized collection type at line 73: MDLV30/STEABS ATOMS=(0)\n",
      "[10:01:10] Skipping unrecognized collection type at line 73: MDLV30/STEABS ATOMS=(0)\n",
      "[10:01:10] Skipping unrecognized collection type at line 71: MDLV30/STEABS ATOMS=(0)\n",
      "[10:01:10] Skipping unrecognized collection type at line 70: MDLV30/STEABS ATOMS=(0)\n",
      "[10:01:10] Skipping unrecognized collection type at line 70: MDLV30/STEABS ATOMS=(0)\n",
      "[10:01:10] Skipping unrecognized collection type at line 68: MDLV30/STEABS ATOMS=(0)\n",
      "[10:01:10] Skipping unrecognized collection type at line 70: MDLV30/STEABS ATOMS=(0)\n",
      "[10:01:10] Skipping unrecognized collection type at line 70: MDLV30/STEABS ATOMS=(0)\n",
      "[10:01:10] Skipping unrecognized collection type at line 66: MDLV30/STEABS ATOMS=(0)\n",
      "[10:01:10] Skipping unrecognized collection type at line 68: MDLV30/STEABS ATOMS=(0)\n",
      "[10:01:10] Skipping unrecognized collection type at line 66: MDLV30/STEABS ATOMS=(0)\n",
      "[10:01:10] Skipping unrecognized collection type at line 68: MDLV30/STEABS ATOMS=(0)\n",
      "[10:01:10] Skipping unrecognized collection type at line 66: MDLV30/STEABS ATOMS=(0)\n",
      "[10:01:10] Skipping unrecognized collection type at line 76: MDLV30/STEABS ATOMS=(0)\n",
      "[10:01:10] Skipping unrecognized collection type at line 68: MDLV30/STEABS ATOMS=(0)\n",
      "[10:01:10] Skipping unrecognized collection type at line 69: MDLV30/STEABS ATOMS=(0)\n",
      "[10:01:11] Skipping unrecognized collection type at line 68: MDLV30/STEABS ATOMS=(0)\n",
      "[10:01:11] Skipping unrecognized collection type at line 74: MDLV30/STEABS ATOMS=(0)\n",
      "[10:01:11] Skipping unrecognized collection type at line 79: MDLV30/STEABS ATOMS=(0)\n",
      "[10:01:11] Skipping unrecognized collection type at line 78: MDLV30/STEABS ATOMS=(0)\n",
      "[10:01:11] Skipping unrecognized collection type at line 83: MDLV30/STEABS ATOMS=(0)\n",
      "[10:01:11] Skipping unrecognized collection type at line 67: MDLV30/STEABS ATOMS=(0)\n",
      "[10:01:11] Skipping unrecognized collection type at line 69: MDLV30/STEABS ATOMS=(0)\n",
      "[10:01:11] Skipping unrecognized collection type at line 61: MDLV30/STEABS ATOMS=(0)\n",
      "[10:01:11] Skipping unrecognized collection type at line 65: MDLV30/STEABS ATOMS=(0)\n",
      "[10:01:11] Skipping unrecognized collection type at line 67: MDLV30/STEABS ATOMS=(0)\n",
      "[10:01:11] Skipping unrecognized collection type at line 57: MDLV30/STEABS ATOMS=(0)\n",
      "[10:01:11] Skipping unrecognized collection type at line 63: MDLV30/STEABS ATOMS=(0)\n",
      "[10:01:11] Skipping unrecognized collection type at line 67: MDLV30/STEABS ATOMS=(0)\n",
      "[10:01:11] Skipping unrecognized collection type at line 61: MDLV30/STEABS ATOMS=(0)\n",
      "[10:01:11] Skipping unrecognized collection type at line 73: MDLV30/STEABS ATOMS=(0)\n",
      "[10:01:11] Skipping unrecognized collection type at line 77: MDLV30/STEABS ATOMS=(0)\n",
      "[10:01:11] Skipping unrecognized collection type at line 90: MDLV30/STEABS ATOMS=(0)\n",
      "[10:01:11] Skipping unrecognized collection type at line 88: MDLV30/STEABS ATOMS=(0)\n",
      "[10:01:11] Skipping unrecognized collection type at line 89: MDLV30/STEABS ATOMS=(0)\n",
      "[10:01:11] Skipping unrecognized collection type at line 96: MDLV30/STEABS ATOMS=(0)\n",
      "[10:01:11] Skipping unrecognized collection type at line 95: MDLV30/STEABS ATOMS=(0)\n",
      "[10:01:11] Skipping unrecognized collection type at line 94: MDLV30/STEABS ATOMS=(0)\n",
      "[10:01:11] Molecule does not have explicit Hs. Consider calling AddHs()\n"
     ]
    },
    {
     "name": "stdout",
     "output_type": "stream",
     "text": [
      "\u001b[7m\u001b[1m\u001b[38;5;11m DISK \u001b[0m Writing \u001b[38;5;11mrahman_fragmenstein/rahman_REAL.sdf\u001b[0m\n"
     ]
    }
   ],
   "source": [
    "animal.poses.get_by_tag('rahman_REAL').split_by_inspirations(single_set=True).to_fragalysis('rahman_fragmenstein/rahman_REAL.sdf', \n",
    "                       method='Fstein_Rahman_REAL', \n",
    "                       ref_url='https://hippo.winokan.com', \n",
    "                       submitter_name='Max Winokan', \n",
    "                       submitter_institution='DLS', \n",
    "                       submitter_email='max.winokan@diamond.ac.uk', metadata=False);"
   ]
  },
  {
   "cell_type": "code",
   "execution_count": 13,
   "id": "dd4dded5-542b-48b9-b367-202c55f7c549",
   "metadata": {},
   "outputs": [
    {
     "name": "stdout",
     "output_type": "stream",
     "text": [
      "\u001b[2mDEBUG: hippo3.Database.close()\u001b[0m\n",
      "\u001b[32;1mClosed connection to \u001b[38;5;11mCHIKV_master.sqlite\u001b[0m\u001b[0m\n"
     ]
    }
   ],
   "source": [
    "animal.db.close()"
   ]
  },
  {
   "cell_type": "code",
   "execution_count": null,
   "id": "c5357e10-5738-4f06-a43d-f114ac533d49",
   "metadata": {},
   "outputs": [],
   "source": []
  }
 ],
 "metadata": {
  "kernelspec": {
   "display_name": "Python 3 (ipykernel)",
   "language": "python",
   "name": "python3"
  },
  "language_info": {
   "codemirror_mode": {
    "name": "ipython",
    "version": 3
   },
   "file_extension": ".py",
   "mimetype": "text/x-python",
   "name": "python",
   "nbconvert_exporter": "python",
   "pygments_lexer": "ipython3",
   "version": "3.10.12"
  }
 },
 "nbformat": 4,
 "nbformat_minor": 5
}
